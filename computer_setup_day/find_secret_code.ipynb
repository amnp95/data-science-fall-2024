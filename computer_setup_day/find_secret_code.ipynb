{
 "cells": [
  {
   "cell_type": "markdown",
   "metadata": {},
   "source": [
    "Run this notebook using the conda environment you built using the `environment.yml` which is in the top level folder of this repo.\n",
    "\n",
    "Execute the following Python cell.  If you have the conda environment set up properly it will output a number.\n",
    "\n",
    "Enter this number into the \"secret code\" field on the website.\n",
    "\n",
    "Note:  Don't share this code with anyone!\n",
    "\n",
    "Note:  If the cell doesn't run, don't \"fix\" it by manually installing packages until it does run.  The point is to check that you can get the conda environment working."
   ]
  },
  {
   "cell_type": "code",
   "execution_count": null,
   "metadata": {},
   "outputs": [],
   "source": [
    "from pressure_testing import secret_code\n",
    "secret_code()"
   ]
  }
 ],
 "metadata": {
  "kernelspec": {
   "display_name": "ds-boot-camp-prep",
   "language": "python",
   "name": "python3"
  },
  "language_info": {
   "codemirror_mode": {
    "name": "ipython",
    "version": 3
   },
   "file_extension": ".py",
   "mimetype": "text/x-python",
   "name": "python",
   "nbconvert_exporter": "python",
   "pygments_lexer": "ipython3",
   "version": "3.12.4"
  }
 },
 "nbformat": 4,
 "nbformat_minor": 2
}
