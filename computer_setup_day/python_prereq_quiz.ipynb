{
 "cells": [
  {
   "cell_type": "markdown",
   "metadata": {},
   "source": [
    "#### Basic Python"
   ]
  },
  {
   "cell_type": "code",
   "execution_count": 1,
   "metadata": {},
   "outputs": [],
   "source": [
    "import math\n",
    "from typing import Callable, Iterable, Dict"
   ]
  },
  {
   "cell_type": "code",
   "execution_count": 3,
   "metadata": {},
   "outputs": [],
   "source": [
    "def counter(ls: Iterable[str]) -> Dict[str, int]:\n",
    "    '''\n",
    "    Counts how many times each element appears in the list of strings.\n",
    "\n",
    "    Args: \n",
    "        ls: a list of strings\n",
    "\n",
    "    Returns:\n",
    "        A dictionary whose keys are unique elements of ls and whose values count the number of occurrences.\n",
    "    '''\n",
    "    # TODO: Implement function\n",
    "    result = {}\n",
    "    for element in ls:\n",
    "        if element in result.keys():\n",
    "            result[element] += 1\n",
    "        else:\n",
    "            result[element] = 1\n",
    "    return result\n",
    "\n",
    "assert(counter(['a','b','a','ab']) == {'a':2, 'b':1, 'ab':1})\n",
    "assert(counter([]) == {})"
   ]
  },
  {
   "cell_type": "code",
   "execution_count": 4,
   "metadata": {},
   "outputs": [],
   "source": [
    "def last_two_chars(s:str) -> str:\n",
    "    '''\n",
    "    Takes a string as input and returns the last two characters as output.\n",
    "    If the input has less than two characters it should return the string.\n",
    "    '''\n",
    "    # TODO: Implement function\n",
    "    if len(s) > 2:\n",
    "        return s[-2:]\n",
    "    else:\n",
    "        return s\n",
    "\n",
    "assert(last_two_chars('hello') == 'lo')\n",
    "assert(last_two_chars('r') == 'r')\n",
    "assert(last_two_chars('') == '')"
   ]
  },
  {
   "cell_type": "code",
   "execution_count": 7,
   "metadata": {},
   "outputs": [],
   "source": [
    "def get_words_with_substring(sentence: str, substring: str) -> Iterable[str]:\n",
    "    '''\n",
    "    Finds all words in a sentence with a given substring\n",
    "\n",
    "    Args:\n",
    "        sentence: A string. \"Words\" are considered to be any block of characters separated by spaces.\n",
    "        substring: A string.\n",
    "\n",
    "    Returns:\n",
    "        A list of the words which contain the substring.\n",
    "    '''\n",
    "    snetence = sentence.split()\n",
    "    res = []\n",
    "    for word in snetence:\n",
    "        if substring in word:\n",
    "            res.append(word)\n",
    "    return res\n",
    "            \n",
    "\n",
    "\n",
    "assert(get_words_with_substring('Hello how are you doing today?', 'a') == ['are', 'today?'])\n",
    "assert(get_words_with_substring(\"a ab abc abcd dabc rabcf\", 'abc') == ['abc', 'abcd', 'dabc', 'rabcf'])"
   ]
  },
  {
   "cell_type": "code",
   "execution_count": 8,
   "metadata": {},
   "outputs": [],
   "source": [
    "def is_close(x: float, y: float) -> bool:\n",
    "    \"is_close(x) should return True if |x - y| < 0.01\"\n",
    "    # TODO: Implement function\n",
    "    return abs(x - y) < 0.01\n",
    "    \n",
    "assert(is_close(7, 7.001))\n",
    "assert(is_close(7, 6.995))\n",
    "assert(not(is_close(7,8)))"
   ]
  },
  {
   "cell_type": "markdown",
   "metadata": {},
   "source": [
    "#### Python libraries"
   ]
  },
  {
   "cell_type": "code",
   "execution_count": 10,
   "metadata": {},
   "outputs": [
    {
     "name": "stdout",
     "output_type": "stream",
     "text": [
      "2.1.1\n",
      "2.2.2\n",
      "3.9.2\n"
     ]
    }
   ],
   "source": [
    "# import numpy as np, pandas as pd, matplotlib as mpl, and matplotlib.pyplot as plt.  Check the versions.\n",
    "import numpy as np\n",
    "import pandas as pd\n",
    "import matplotlib as mpl\n",
    "import matplotlib.pyplot as plt\n",
    "\n",
    "print(np.__version__)\n",
    "print(pd.__version__)\n",
    "print(mpl.__version__)\n"
   ]
  },
  {
   "cell_type": "code",
   "execution_count": 11,
   "metadata": {},
   "outputs": [
    {
     "data": {
      "image/png": "[encoded data removed]",
      "text/plain": [
       "<Figure size 640x480 with 1 Axes>"
      ]
     },
     "metadata": {},
     "output_type": "display_data"
    }
   ],
   "source": [
    "# Use np.random.uniform to make an array X of 20 observations drawn uniformly at random from the interval [0,10].\n",
    "# Use np.random.randn to make an array eps of 20 observations drawn from the standard normal distribution.\n",
    "# Define y = 3*X + eps.\n",
    "# Graph a scatter plot of y against X using plt.\n",
    "X = np.random.uniform(0, 10, 20)\n",
    "eps = np.random.randn(20)\n",
    "y = 3*X + eps\n",
    "plt.scatter(X, y)\n",
    "plt.show()\n",
    "\n"
   ]
  },
  {
   "cell_type": "code",
   "execution_count": 12,
   "metadata": {},
   "outputs": [],
   "source": [
    "# use pd.read_csv with header = None to read \"X.txt\" into a DataFrame called df.\n",
    "df = pd.read_csv('X.txt', header=None)\n"
   ]
  },
  {
   "cell_type": "code",
   "execution_count": 15,
   "metadata": {},
   "outputs": [
    {
     "data": {
      "text/html": [
       "<div>\n",
       "<style scoped>\n",
       "    .dataframe tbody tr th:only-of-type {\n",
       "        vertical-align: middle;\n",
       "    }\n",
       "\n",
       "    .dataframe tbody tr th {\n",
       "        vertical-align: top;\n",
       "    }\n",
       "\n",
       "    .dataframe thead th {\n",
       "        text-align: right;\n",
       "    }\n",
       "</style>\n",
       "<table border=\"1\" class=\"dataframe\">\n",
       "  <thead>\n",
       "    <tr style=\"text-align: right;\">\n",
       "      <th></th>\n",
       "      <th>x0</th>\n",
       "      <th>x1</th>\n",
       "      <th>y</th>\n",
       "    </tr>\n",
       "  </thead>\n",
       "  <tbody>\n",
       "    <tr>\n",
       "      <th>0</th>\n",
       "      <td>-0.952588</td>\n",
       "      <td>0.534865</td>\n",
       "      <td>-5.599389</td>\n",
       "    </tr>\n",
       "    <tr>\n",
       "      <th>1</th>\n",
       "      <td>0.227398</td>\n",
       "      <td>0.528785</td>\n",
       "      <td>-8.089018</td>\n",
       "    </tr>\n",
       "    <tr>\n",
       "      <th>2</th>\n",
       "      <td>-0.255478</td>\n",
       "      <td>1.650300</td>\n",
       "      <td>1.915297</td>\n",
       "    </tr>\n",
       "    <tr>\n",
       "      <th>3</th>\n",
       "      <td>0.567800</td>\n",
       "      <td>-0.954633</td>\n",
       "      <td>-0.925728</td>\n",
       "    </tr>\n",
       "    <tr>\n",
       "      <th>4</th>\n",
       "      <td>-1.457093</td>\n",
       "      <td>-0.805594</td>\n",
       "      <td>-10.276062</td>\n",
       "    </tr>\n",
       "  </tbody>\n",
       "</table>\n",
       "</div>"
      ],
      "text/plain": [
       "         x0        x1          y\n",
       "0 -0.952588  0.534865  -5.599389\n",
       "1  0.227398  0.528785  -8.089018\n",
       "2 -0.255478  1.650300   1.915297\n",
       "3  0.567800 -0.954633  -0.925728\n",
       "4 -1.457093 -0.805594 -10.276062"
      ]
     },
     "execution_count": 15,
     "metadata": {},
     "output_type": "execute_result"
    }
   ],
   "source": [
    "# Rename the columns of df x0, x1, and y\n",
    "df.columns = ['x0', 'x1', 'y']\n",
    "df.head()"
   ]
  },
  {
   "cell_type": "code",
   "execution_count": 16,
   "metadata": {},
   "outputs": [
    {
     "data": {
      "image/png": "[encoded data removed]",
      "text/plain": [
       "<Figure size 640x480 with 1 Axes>"
      ]
     },
     "metadata": {},
     "output_type": "display_data"
    }
   ],
   "source": [
    "# Make a scatter plot of y against x1\n",
    "plt.scatter(df['x1'], df['y'])\n",
    "plt.show()"
   ]
  },
  {
   "cell_type": "code",
   "execution_count": 17,
   "metadata": {},
   "outputs": [],
   "source": [
    "# Make a new column called 'preds' whose values are 2*x0 + 3*x1.  \n",
    "df['preds'] = 2*df['x0'] + 3*df['x1']"
   ]
  },
  {
   "cell_type": "code",
   "execution_count": 23,
   "metadata": {},
   "outputs": [
    {
     "data": {
      "text/plain": [
       "np.float64(5.84135965269841)"
      ]
     },
     "execution_count": 23,
     "metadata": {},
     "output_type": "execute_result"
    }
   ],
   "source": [
    "# Compute the standard deviation of the difference between y and preds.\n",
    "stdv = np.std(df['y'] - df['preds'])\n",
    "stdv"
   ]
  },
  {
   "cell_type": "code",
   "execution_count": 20,
   "metadata": {},
   "outputs": [
    {
     "data": {
      "text/html": [
       "<div>\n",
       "<style scoped>\n",
       "    .dataframe tbody tr th:only-of-type {\n",
       "        vertical-align: middle;\n",
       "    }\n",
       "\n",
       "    .dataframe tbody tr th {\n",
       "        vertical-align: top;\n",
       "    }\n",
       "\n",
       "    .dataframe thead th {\n",
       "        text-align: right;\n",
       "    }\n",
       "</style>\n",
       "<table border=\"1\" class=\"dataframe\">\n",
       "  <thead>\n",
       "    <tr style=\"text-align: right;\">\n",
       "      <th></th>\n",
       "      <th>x0</th>\n",
       "      <th>x1</th>\n",
       "      <th>y</th>\n",
       "      <th>preds</th>\n",
       "    </tr>\n",
       "  </thead>\n",
       "  <tbody>\n",
       "    <tr>\n",
       "      <th>1</th>\n",
       "      <td>0.227398</td>\n",
       "      <td>0.528785</td>\n",
       "      <td>-8.089018</td>\n",
       "      <td>2.041151</td>\n",
       "    </tr>\n",
       "    <tr>\n",
       "      <th>5</th>\n",
       "      <td>0.252421</td>\n",
       "      <td>0.869484</td>\n",
       "      <td>-0.608612</td>\n",
       "      <td>3.113295</td>\n",
       "    </tr>\n",
       "    <tr>\n",
       "      <th>6</th>\n",
       "      <td>0.668834</td>\n",
       "      <td>0.154752</td>\n",
       "      <td>-0.671790</td>\n",
       "      <td>1.801922</td>\n",
       "    </tr>\n",
       "    <tr>\n",
       "      <th>12</th>\n",
       "      <td>0.264434</td>\n",
       "      <td>0.248535</td>\n",
       "      <td>6.983702</td>\n",
       "      <td>1.274472</td>\n",
       "    </tr>\n",
       "    <tr>\n",
       "      <th>19</th>\n",
       "      <td>0.610989</td>\n",
       "      <td>0.227108</td>\n",
       "      <td>-13.857588</td>\n",
       "      <td>1.903300</td>\n",
       "    </tr>\n",
       "  </tbody>\n",
       "</table>\n",
       "</div>"
      ],
      "text/plain": [
       "          x0        x1          y     preds\n",
       "1   0.227398  0.528785  -8.089018  2.041151\n",
       "5   0.252421  0.869484  -0.608612  3.113295\n",
       "6   0.668834  0.154752  -0.671790  1.801922\n",
       "12  0.264434  0.248535   6.983702  1.274472\n",
       "19  0.610989  0.227108 -13.857588  1.903300"
      ]
     },
     "execution_count": 20,
     "metadata": {},
     "output_type": "execute_result"
    }
   ],
   "source": [
    "# Make a new DataFrame called ds which has only the rows of df where x0 and x1 are both positive.\n",
    "ds = df[(df['x0'] > 0) & (df['x1'] > 0)]\n",
    "ds.head()"
   ]
  }
 ],
 "metadata": {
  "kernelspec": {
   "display_name": "ds-boot-camp-prep",
   "language": "python",
   "name": "python3"
  },
  "language_info": {
   "codemirror_mode": {
    "name": "ipython",
    "version": 3
   },
   "file_extension": ".py",
   "mimetype": "text/x-python",
   "name": "python",
   "nbconvert_exporter": "python",
   "pygments_lexer": "ipython3",
   "version": "3.12.5"
  }
 },
 "nbformat": 4,
 "nbformat_minor": 2
}
