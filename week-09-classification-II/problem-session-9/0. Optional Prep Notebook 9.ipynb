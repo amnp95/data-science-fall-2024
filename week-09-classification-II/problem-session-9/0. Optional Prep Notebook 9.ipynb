{
 "cells": [
  {
   "cell_type": "markdown",
   "id": "ae277e4a",
   "metadata": {},
   "source": [
    "# Prep Notebook 9\n",
    "## Classifying Pumpkin Seeds II\n",
    "\n",
    "This optional notebook has a few exercises that can serve as a primer for what to expect in the `Problem Session 9` notebook."
   ]
  },
  {
   "cell_type": "code",
   "execution_count": null,
   "id": "788985ef",
   "metadata": {},
   "outputs": [],
   "source": [
    "import pandas as pd\n",
    "import numpy as np\n",
    "import matplotlib.pyplot as plt\n",
    "import seaborn as sns\n",
    "\n",
    "sns.set_style(\"whitegrid\")"
   ]
  },
  {
   "cell_type": "markdown",
   "id": "9f35a220",
   "metadata": {},
   "source": [
    "#### 1. Review problem session 8\n",
    "\n",
    "In `Problem Session 9` we will use what you did in `Problem Session 8`, review your group's work as well as the complete version."
   ]
  },
  {
   "cell_type": "markdown",
   "id": "0ad8600e",
   "metadata": {},
   "source": [
    "#### 2. Reading in an excel file\n",
    "\n",
    "- Read in `Pistachio_16_Features_Dataset.xlsx` from the `Data` folder using `pandas`. \n",
    "- Make a column `y` where `y=1` when `Class=\"Kirmizi_Pistachio\"` and `y=0` when `Class=\"Siit_Pistachio\"`\n",
    "- Do a train test split of the data setting $10\\%$ of the data aside for the test set and stratifying on the `Class` column."
   ]
  },
  {
   "cell_type": "code",
   "execution_count": null,
   "id": "2cb644c1",
   "metadata": {},
   "outputs": [],
   "source": [
    "## code here\n"
   ]
  },
  {
   "cell_type": "code",
   "execution_count": null,
   "id": "cb71360a",
   "metadata": {},
   "outputs": [],
   "source": [
    "## code here\n"
   ]
  },
  {
   "cell_type": "code",
   "execution_count": null,
   "id": "f1d23c2d",
   "metadata": {},
   "outputs": [],
   "source": [
    "## code here\n"
   ]
  },
  {
   "cell_type": "code",
   "execution_count": null,
   "id": "a25d7c1b",
   "metadata": {},
   "outputs": [],
   "source": [
    "## code here\n"
   ]
  },
  {
   "cell_type": "markdown",
   "id": "bdf5d32b",
   "metadata": {},
   "source": [
    "#### 3. Scaling\n",
    "\n",
    "Scale the features of the training set using `StandardScaler`."
   ]
  },
  {
   "cell_type": "code",
   "execution_count": null,
   "id": "68a11241",
   "metadata": {},
   "outputs": [],
   "source": [
    "## code here\n"
   ]
  },
  {
   "cell_type": "code",
   "execution_count": null,
   "id": "96ac146a",
   "metadata": {},
   "outputs": [],
   "source": [
    "## code here\n"
   ]
  },
  {
   "cell_type": "code",
   "execution_count": null,
   "id": "6f4ba30c",
   "metadata": {},
   "outputs": [],
   "source": [
    "## code here\n"
   ]
  },
  {
   "cell_type": "markdown",
   "id": "c4929dac",
   "metadata": {},
   "source": [
    "#### 4. Making a pipeline\n",
    "\n",
    "Make a pipeline that scales the data and then fits a $k$ nearest neighbor model on the data with $k=17$. Fit this model and calculate the training accuracy."
   ]
  },
  {
   "cell_type": "code",
   "execution_count": null,
   "id": "d66a384b",
   "metadata": {},
   "outputs": [],
   "source": [
    "## code here\n"
   ]
  },
  {
   "cell_type": "code",
   "execution_count": null,
   "id": "48f41e2e",
   "metadata": {},
   "outputs": [],
   "source": [
    "## code here\n"
   ]
  },
  {
   "cell_type": "code",
   "execution_count": null,
   "id": "f08b24b3",
   "metadata": {},
   "outputs": [],
   "source": [
    "## code here\n"
   ]
  },
  {
   "cell_type": "markdown",
   "id": "c0b8a96a",
   "metadata": {},
   "source": [
    "#### 5. Another histogram\n",
    "\n",
    "Make a histogram of the `ECCENTRICITY` column colored by the class of the pistachio.\n",
    "\n",
    "<a href=\"https://matplotlib.org/stable/api/_as_gen/matplotlib.pyplot.hist.html\">https://matplotlib.org/stable/api/_as_gen/matplotlib.pyplot.hist.html</a>"
   ]
  },
  {
   "cell_type": "code",
   "execution_count": null,
   "id": "f0d1444e",
   "metadata": {},
   "outputs": [],
   "source": [
    "## code here\n"
   ]
  },
  {
   "cell_type": "code",
   "execution_count": null,
   "id": "34a879e8",
   "metadata": {},
   "outputs": [],
   "source": [
    "## code here\n"
   ]
  },
  {
   "cell_type": "code",
   "execution_count": null,
   "id": "f252cc42",
   "metadata": {},
   "outputs": [],
   "source": [
    "## code here\n"
   ]
  },
  {
   "cell_type": "markdown",
   "id": "aee02047",
   "metadata": {},
   "source": [
    "--------------------------\n",
    "\n",
    "This notebook was written for the Erd&#337;s Institute C&#337;de Data Science Boot Camp by Matthew Osborne, Ph. D., 2023.\n",
    "\n",
    "Any potential redistributors must seek and receive permission from Matthew Tyler Osborne, Ph.D. prior to redistribution. Redistribution of the material contained in this repository is conditional on acknowledgement of Matthew Tyler Osborne, Ph.D.'s original authorship and sponsorship of the Erdős Institute as subject to the license (see License.md)"
   ]
  },
  {
   "cell_type": "code",
   "execution_count": null,
   "id": "d9569e87",
   "metadata": {},
   "outputs": [],
   "source": []
  },
  {
   "cell_type": "code",
   "execution_count": null,
   "id": "659e8798",
   "metadata": {},
   "outputs": [],
   "source": []
  }
 ],
 "metadata": {
  "kernelspec": {
   "display_name": "Python 3 (ipykernel)",
   "language": "python",
   "name": "python3"
  },
  "language_info": {
   "codemirror_mode": {
    "name": "ipython",
    "version": 3
   },
   "file_extension": ".py",
   "mimetype": "text/x-python",
   "name": "python",
   "nbconvert_exporter": "python",
   "pygments_lexer": "ipython3",
   "version": "3.9.16"
  }
 },
 "nbformat": 4,
 "nbformat_minor": 5
}
