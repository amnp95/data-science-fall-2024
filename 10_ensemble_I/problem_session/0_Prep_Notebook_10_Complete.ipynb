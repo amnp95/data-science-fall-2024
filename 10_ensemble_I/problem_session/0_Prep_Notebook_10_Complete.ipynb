{
 "cells": [
  {
   "cell_type": "markdown",
   "id": "896da262",
   "metadata": {},
   "source": [
    "# Prep Notebook 10\n",
    "## Classifying Pumpkin Seeds III\n",
    "\n",
    "This optional notebook has a few exercises that can serve as a primer for what to expect in the `Problem Session 10` notebook."
   ]
  },
  {
   "cell_type": "code",
   "execution_count": 1,
   "id": "2a1b3cb8",
   "metadata": {},
   "outputs": [],
   "source": [
    "import pandas as pd\n",
    "import numpy as np\n",
    "import matplotlib.pyplot as plt\n",
    "import seaborn as sns\n",
    "\n",
    "sns.set_style(\"whitegrid\")"
   ]
  },
  {
   "cell_type": "markdown",
   "id": "960587a5",
   "metadata": {},
   "source": [
    "#### 1. Making a `DataFrame`\n",
    "\n",
    "Make a `DataFrame` from the `numpy` arrays `apple`, `banana` and `cherry`. Make the column names of the `DataFrame` the same as the given variable names and make the index the list stored in `index_variable`. Sort the values of the `DataFrame` by the `banana` column."
   ]
  },
  {
   "cell_type": "code",
   "execution_count": 2,
   "id": "d6459cf2",
   "metadata": {},
   "outputs": [],
   "source": [
    "apple = np.ones(20)\n",
    "banana = np.random.randn(20)\n",
    "cherry = np.random.binomial(5, .4, 20)\n",
    "index_variable = [\"row_\" + str(i) for i in range(1, 21)]"
   ]
  },
  {
   "cell_type": "markdown",
   "id": "8f5136a5",
   "metadata": {},
   "source": [
    "##### Sample Solution"
   ]
  },
  {
   "cell_type": "code",
   "execution_count": 3,
   "id": "33de0dfc",
   "metadata": {},
   "outputs": [
    {
     "data": {
      "text/html": [
       "<div>\n",
       "<style scoped>\n",
       "    .dataframe tbody tr th:only-of-type {\n",
       "        vertical-align: middle;\n",
       "    }\n",
       "\n",
       "    .dataframe tbody tr th {\n",
       "        vertical-align: top;\n",
       "    }\n",
       "\n",
       "    .dataframe thead th {\n",
       "        text-align: right;\n",
       "    }\n",
       "</style>\n",
       "<table border=\"1\" class=\"dataframe\">\n",
       "  <thead>\n",
       "    <tr style=\"text-align: right;\">\n",
       "      <th></th>\n",
       "      <th>apple</th>\n",
       "      <th>banana</th>\n",
       "      <th>cherry</th>\n",
       "    </tr>\n",
       "  </thead>\n",
       "  <tbody>\n",
       "    <tr>\n",
       "      <th>row_1</th>\n",
       "      <td>1.0</td>\n",
       "      <td>-2.894212</td>\n",
       "      <td>2</td>\n",
       "    </tr>\n",
       "    <tr>\n",
       "      <th>row_11</th>\n",
       "      <td>1.0</td>\n",
       "      <td>-1.533518</td>\n",
       "      <td>1</td>\n",
       "    </tr>\n",
       "    <tr>\n",
       "      <th>row_5</th>\n",
       "      <td>1.0</td>\n",
       "      <td>-1.207000</td>\n",
       "      <td>3</td>\n",
       "    </tr>\n",
       "    <tr>\n",
       "      <th>row_6</th>\n",
       "      <td>1.0</td>\n",
       "      <td>-1.037776</td>\n",
       "      <td>1</td>\n",
       "    </tr>\n",
       "    <tr>\n",
       "      <th>row_2</th>\n",
       "      <td>1.0</td>\n",
       "      <td>-0.870873</td>\n",
       "      <td>2</td>\n",
       "    </tr>\n",
       "    <tr>\n",
       "      <th>row_4</th>\n",
       "      <td>1.0</td>\n",
       "      <td>-0.652863</td>\n",
       "      <td>2</td>\n",
       "    </tr>\n",
       "    <tr>\n",
       "      <th>row_19</th>\n",
       "      <td>1.0</td>\n",
       "      <td>-0.645222</td>\n",
       "      <td>3</td>\n",
       "    </tr>\n",
       "    <tr>\n",
       "      <th>row_3</th>\n",
       "      <td>1.0</td>\n",
       "      <td>-0.370823</td>\n",
       "      <td>1</td>\n",
       "    </tr>\n",
       "    <tr>\n",
       "      <th>row_18</th>\n",
       "      <td>1.0</td>\n",
       "      <td>-0.349018</td>\n",
       "      <td>4</td>\n",
       "    </tr>\n",
       "    <tr>\n",
       "      <th>row_17</th>\n",
       "      <td>1.0</td>\n",
       "      <td>-0.306992</td>\n",
       "      <td>1</td>\n",
       "    </tr>\n",
       "    <tr>\n",
       "      <th>row_12</th>\n",
       "      <td>1.0</td>\n",
       "      <td>-0.175114</td>\n",
       "      <td>2</td>\n",
       "    </tr>\n",
       "    <tr>\n",
       "      <th>row_15</th>\n",
       "      <td>1.0</td>\n",
       "      <td>0.007053</td>\n",
       "      <td>3</td>\n",
       "    </tr>\n",
       "    <tr>\n",
       "      <th>row_8</th>\n",
       "      <td>1.0</td>\n",
       "      <td>0.041980</td>\n",
       "      <td>1</td>\n",
       "    </tr>\n",
       "    <tr>\n",
       "      <th>row_16</th>\n",
       "      <td>1.0</td>\n",
       "      <td>0.127031</td>\n",
       "      <td>0</td>\n",
       "    </tr>\n",
       "    <tr>\n",
       "      <th>row_14</th>\n",
       "      <td>1.0</td>\n",
       "      <td>0.245238</td>\n",
       "      <td>2</td>\n",
       "    </tr>\n",
       "    <tr>\n",
       "      <th>row_13</th>\n",
       "      <td>1.0</td>\n",
       "      <td>0.394418</td>\n",
       "      <td>2</td>\n",
       "    </tr>\n",
       "    <tr>\n",
       "      <th>row_7</th>\n",
       "      <td>1.0</td>\n",
       "      <td>0.705306</td>\n",
       "      <td>3</td>\n",
       "    </tr>\n",
       "    <tr>\n",
       "      <th>row_20</th>\n",
       "      <td>1.0</td>\n",
       "      <td>0.811431</td>\n",
       "      <td>3</td>\n",
       "    </tr>\n",
       "    <tr>\n",
       "      <th>row_9</th>\n",
       "      <td>1.0</td>\n",
       "      <td>1.137790</td>\n",
       "      <td>1</td>\n",
       "    </tr>\n",
       "    <tr>\n",
       "      <th>row_10</th>\n",
       "      <td>1.0</td>\n",
       "      <td>2.009208</td>\n",
       "      <td>4</td>\n",
       "    </tr>\n",
       "  </tbody>\n",
       "</table>\n",
       "</div>"
      ],
      "text/plain": [
       "        apple    banana  cherry\n",
       "row_1     1.0 -2.894212       2\n",
       "row_11    1.0 -1.533518       1\n",
       "row_5     1.0 -1.207000       3\n",
       "row_6     1.0 -1.037776       1\n",
       "row_2     1.0 -0.870873       2\n",
       "row_4     1.0 -0.652863       2\n",
       "row_19    1.0 -0.645222       3\n",
       "row_3     1.0 -0.370823       1\n",
       "row_18    1.0 -0.349018       4\n",
       "row_17    1.0 -0.306992       1\n",
       "row_12    1.0 -0.175114       2\n",
       "row_15    1.0  0.007053       3\n",
       "row_8     1.0  0.041980       1\n",
       "row_16    1.0  0.127031       0\n",
       "row_14    1.0  0.245238       2\n",
       "row_13    1.0  0.394418       2\n",
       "row_7     1.0  0.705306       3\n",
       "row_20    1.0  0.811431       3\n",
       "row_9     1.0  1.137790       1\n",
       "row_10    1.0  2.009208       4"
      ]
     },
     "execution_count": 3,
     "metadata": {},
     "output_type": "execute_result"
    }
   ],
   "source": [
    "pd.DataFrame({'apple':apple,\n",
    "                 'banana':banana,\n",
    "                 'cherry':cherry},\n",
    "                index = index_variable).sort_values('banana')"
   ]
  },
  {
   "cell_type": "markdown",
   "id": "7254dc8b",
   "metadata": {},
   "source": [
    "#### 2. Review problem sessions 8 and 9\n",
    "\n",
    "In `Problem Session 10` we will use what you did in `Problem Session 8` and `Problem Session 9`, review your group's work as well as the complete version."
   ]
  },
  {
   "cell_type": "markdown",
   "id": "043dbb75",
   "metadata": {},
   "source": [
    "#### 3. Reading in an excel file\n",
    "\n",
    "- Read in `Pistachio_16_Features_Dataset.xlsx` from the `data` folder using `pandas`. \n",
    "- Make a column `y` where `y=1` when `Class=\"Kirmizi_Pistachio\"` and `y=0` when `Class=\"Siit_Pistachio\"`\n",
    "- Do a train test split of the data setting $10\\%$ of the data aside for the test set and stratifying on the `Class` column."
   ]
  },
  {
   "cell_type": "markdown",
   "id": "4adc9f66",
   "metadata": {},
   "source": [
    "##### Sample Solution"
   ]
  },
  {
   "cell_type": "code",
   "execution_count": 4,
   "id": "323fdbb4",
   "metadata": {},
   "outputs": [],
   "source": [
    "from sklearn.model_selection import train_test_split"
   ]
  },
  {
   "cell_type": "code",
   "execution_count": 5,
   "id": "a736f7f1",
   "metadata": {},
   "outputs": [],
   "source": [
    "df = pd.read_excel(\"../../data/Pistachio_16_Features_Dataset.xlsx\")\n",
    "df['y'] = 1\n",
    "df.loc[df.Class==\"Siit_Pistachio\", 'y'] = 0"
   ]
  },
  {
   "cell_type": "code",
   "execution_count": 6,
   "id": "2ee05f93",
   "metadata": {},
   "outputs": [],
   "source": [
    "train, test = train_test_split(df.copy(),\n",
    "                                  shuffle=True,\n",
    "                                  random_state=4039,\n",
    "                                  test_size=.1,\n",
    "                                  stratify=df.Class)"
   ]
  },
  {
   "cell_type": "markdown",
   "id": "943ea054",
   "metadata": {},
   "source": [
    "#### 4. Building a pistachio model\n",
    "\n",
    "##### a.\n",
    "\n",
    "Import `PCA`, `StandardScaler`, `Pipeline` and `KNeighborsClassifier`."
   ]
  },
  {
   "cell_type": "markdown",
   "id": "2f1d3632",
   "metadata": {},
   "source": [
    "##### Sample Solution"
   ]
  },
  {
   "cell_type": "code",
   "execution_count": 7,
   "id": "5c8e76af",
   "metadata": {},
   "outputs": [],
   "source": [
    "from sklearn.neighbors import KNeighborsClassifier\n",
    "from sklearn.decomposition import PCA\n",
    "from sklearn.preprocessing import StandardScaler\n",
    "from sklearn.pipeline import Pipeline"
   ]
  },
  {
   "cell_type": "markdown",
   "id": "2c7b8123",
   "metadata": {},
   "source": [
    "##### b.\n",
    "\n",
    "Import what you would need to find the optimal average 10-fold cross-validation accuracy for a classification model."
   ]
  },
  {
   "cell_type": "markdown",
   "id": "d79f2c55",
   "metadata": {},
   "source": [
    "##### Sample Solution"
   ]
  },
  {
   "cell_type": "code",
   "execution_count": 8,
   "id": "78cfb5d2",
   "metadata": {},
   "outputs": [],
   "source": [
    "from sklearn.model_selection import StratifiedKFold\n",
    "from sklearn.metrics import accuracy_score"
   ]
  },
  {
   "cell_type": "markdown",
   "id": "9e83fa89",
   "metadata": {},
   "source": [
    "##### c.\n",
    "\n",
    "Use 10-fold cross-validation to find the optimal number of neighbors (letting $k$ run from 1 to 50) for a $k$ nearest neighbors model using the data after it has been run through PCA as the input data for the model."
   ]
  },
  {
   "cell_type": "markdown",
   "id": "489c8d19",
   "metadata": {},
   "source": [
    "##### Sample Solution"
   ]
  },
  {
   "cell_type": "code",
   "execution_count": 9,
   "id": "5d7d9b9e",
   "metadata": {},
   "outputs": [],
   "source": [
    "n_splits = 10\n",
    "ks = range(1, 51)\n",
    "\n",
    "accs = np.zeros((n_splits, len(ks)))\n",
    "\n",
    "kfold = StratifiedKFold(n_splits,\n",
    "                           shuffle = True,\n",
    "                           random_state = 39039)\n",
    "\n",
    "i = 0\n",
    "for train_index, test_index in kfold.split(train, train.y):\n",
    "    tt = train.iloc[train_index]\n",
    "    ho = train.iloc[test_index]\n",
    "    \n",
    "    j = 0\n",
    "    for k in ks:\n",
    "        pipe = Pipeline([('scale', StandardScaler()),\n",
    "                            ('pca', PCA()),\n",
    "                            ('knn', KNeighborsClassifier(k))])\n",
    "        \n",
    "        pipe.fit(tt[train.columns[:-2]],\n",
    "                    tt.y)\n",
    "        \n",
    "        pred = pipe.predict(ho[train.columns[:-2]])\n",
    "        \n",
    "        accs[i,j] = accuracy_score(ho.y, pred)\n",
    "        j = j + 1\n",
    "    i = i + 1"
   ]
  },
  {
   "cell_type": "markdown",
   "id": "27b842c9",
   "metadata": {},
   "source": [
    "##### d. \n",
    "\n",
    "Make a plot of the average cross-validation accuracy for each value of $k$ to find the optimal number of neighbors according to this cross-validation."
   ]
  },
  {
   "cell_type": "markdown",
   "id": "51fd8c6e",
   "metadata": {},
   "source": [
    "##### Sample Solution"
   ]
  },
  {
   "cell_type": "code",
   "execution_count": 10,
   "id": "e0129bd8",
   "metadata": {},
   "outputs": [
    {
     "data": {
      "image/png": "[encoded data removed]",
      "text/plain": [
       "<Figure size 1200x800 with 1 Axes>"
      ]
     },
     "metadata": {},
     "output_type": "display_data"
    }
   ],
   "source": [
    "plt.figure(figsize=(12,8))\n",
    "\n",
    "plt.plot(ks,\n",
    "            np.mean(accs, axis=0), \n",
    "            '-o')\n",
    "\n",
    "plt.xlabel(\"$k$\", fontsize=18)\n",
    "plt.ylabel(\"AVG. CV. Accuracy\", fontsize=18)\n",
    "plt.xticks(fontsize=14)\n",
    "plt.yticks(fontsize=14)\n",
    "\n",
    "plt.show()"
   ]
  },
  {
   "cell_type": "markdown",
   "id": "39e144e6",
   "metadata": {},
   "source": [
    "--------------------------\n",
    "\n",
    "This notebook was written for the Erd&#337;s Institute C&#337;de Data Science Boot Camp by Matthew Osborne, Ph. D., 2023.\n",
    "\n",
    "Any potential redistributors must seek and receive permission from Matthew Tyler Osborne, Ph.D. prior to redistribution. Redistribution of the material contained in this repository is conditional on acknowledgement of Matthew Tyler Osborne, Ph.D.'s original authorship and sponsorship of the Erdős Institute as subject to the license (see License.md)"
   ]
  },
  {
   "cell_type": "code",
   "execution_count": null,
   "id": "f7cb397e",
   "metadata": {},
   "outputs": [],
   "source": []
  }
 ],
 "metadata": {
  "kernelspec": {
   "display_name": "Python 3 (ipykernel)",
   "language": "python",
   "name": "python3"
  },
  "language_info": {
   "codemirror_mode": {
    "name": "ipython",
    "version": 3
   },
   "file_extension": ".py",
   "mimetype": "text/x-python",
   "name": "python",
   "nbconvert_exporter": "python",
   "pygments_lexer": "ipython3",
   "version": "3.11.5"
  }
 },
 "nbformat": 4,
 "nbformat_minor": 5
}
