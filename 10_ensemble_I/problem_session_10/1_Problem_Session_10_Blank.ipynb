{
 "cells": [
  {
   "cell_type": "markdown",
   "id": "839dfb7b",
   "metadata": {},
   "source": [
    "# Problem Session 10\n",
    "## Classifying Pumpkin Seeds III:  Ensemble Learning\n",
    "\n",
    "In this notebook you will finish your work with the pumpkin seed data from <a href=\"https://link.springer.com/article/10.1007/s10722-021-01226-0\">The use of machine learning methods in classification of pumpkin seeds (Cucurbita pepo L.)</a> by Koklu, Sarigil and Ozbek (2021)."
   ]
  },
  {
   "cell_type": "code",
   "execution_count": null,
   "id": "042b4fcb",
   "metadata": {},
   "outputs": [],
   "source": [
    "import pandas as pd\n",
    "import numpy as np\n",
    "import matplotlib.pyplot as plt\n",
    "import seaborn as sns\n",
    "\n",
    "sns.set_style(\"whitegrid\")"
   ]
  },
  {
   "cell_type": "markdown",
   "id": "86c831e6",
   "metadata": {},
   "source": [
    "#### 1. Load and prepare the data\n",
    "\n",
    "Run the code below in order to:\n",
    "\n",
    "- Load the data stored in `Pumpkin_Seeds_Dataset.xlsx` in the `Data` folder,\n",
    "- Create a column `y` where `y=1` if `Class=Ürgüp Sivrisi` and `y=0` if `Class=Çerçevelik` and\n",
    "- Make a train test split setting $10\\%$ of the data aside as a test set."
   ]
  },
  {
   "cell_type": "code",
   "execution_count": null,
   "id": "4fdddd85",
   "metadata": {},
   "outputs": [],
   "source": [
    "seeds = pd.read_excel(\"../../Data/Pumpkin_Seeds_Dataset.xlsx\")\n",
    "\n",
    "seeds['y'] = 0\n",
    "\n",
    "seeds.loc[seeds.Class=='Ürgüp Sivrisi', 'y']=1"
   ]
  },
  {
   "cell_type": "code",
   "execution_count": null,
   "id": "bbc88ce5",
   "metadata": {},
   "outputs": [],
   "source": [
    "from sklearn.model_selection import train_test_split"
   ]
  },
  {
   "cell_type": "code",
   "execution_count": null,
   "id": "cec761d2",
   "metadata": {},
   "outputs": [],
   "source": [
    "seeds_train, seeds_test = train_test_split(seeds.copy(),\n",
    "                                              shuffle=True,\n",
    "                                              random_state=123,\n",
    "                                              test_size=.1,\n",
    "                                              stratify=seeds.y.values)"
   ]
  },
  {
   "cell_type": "markdown",
   "id": "9de0f4ca",
   "metadata": {},
   "source": [
    "#### 2. Refresh your memory\n",
    "\n",
    "If you need to refresh your memory on these data and the problem, you may want to look at a small subset of the data, look back on `Problem Session 8` and `Problem Session 9` and/or browse Figure 5 and Table 1 of this paper, <a href=\"pumpkin_seed_paper.pdf\">pumpkin_seed_paper.pdf</a>"
   ]
  },
  {
   "cell_type": "markdown",
   "id": "99101f61",
   "metadata": {},
   "source": [
    "##### a.\n",
    "In this problem we are removing the usual scaffolding that we supply in the problem sessions!\n",
    "\n",
    "Write your own the code below to find the values of `max_depth` and `n_estimators` for a either a Random Forest Classifier or an Extra Trees Classifier with the highest average cross-validation accuracy.\n",
    "\n",
    "Your code should accomplish the following:\n",
    "1. Make a stratified 5-fold split of the training data.\n",
    "2. Select `max_depth` from `range(1,11)`  and `n_estimators` from the two choices `[100,500]` to maximize cross validation accuracy.\n",
    "\n",
    "Try not to copy/paste from earlier problem sessions:  talk through the logic and write your own cross-validation loop.\n",
    "\n",
    "Some further questions to consider when training a random forest classifier:\n",
    "\n",
    "* Is scaling necessary as a preprocessing step?  Why or why not?\n",
    "* Does colinearity of featuers matter?\n",
    "* Should you do feature selection first?\n",
    "* What bias/variance impact do you think increasing `n_estimators` or `max_depth` will have on the model?\n",
    "* How might you decide whether to use Random Forest or Extra Trees?\n"
   ]
  },
  {
   "cell_type": "code",
   "execution_count": null,
   "id": "70e29311",
   "metadata": {},
   "outputs": [],
   "source": [
    "# your code here"
   ]
  },
  {
   "cell_type": "code",
   "execution_count": null,
   "id": "d7db2f3e",
   "metadata": {},
   "outputs": [],
   "source": [
    "# Hint:  at some point you will want to know both the maximum cross validation accuracy and the parameter values used to obtain that\n",
    "# If you want the index of the maximal element of a numpy array `A`, the following code will give you the index\n",
    "\n",
    "# Maxing a toy array first\n",
    "np.random.seed(215)\n",
    "A = np.random.randint(10, size = (2,4,3))\n",
    "\n",
    "# Here is how to find the index of the maximal value\n",
    "max_index = np.unravel_index(np.argmax(A), A.shape)\n",
    "\n",
    "print(f\"A = \\n{A} \\n \\n The maximum value of A is A[{max_index}] = {A[max_index]}\")"
   ]
  },
  {
   "cell_type": "markdown",
   "id": "cf93e31e",
   "metadata": {},
   "source": [
    "##### b.\n",
    "\n",
    "In this problem you will learn about `GridSearchCV`, <a href=\"https://scikit-learn.org/stable/modules/generated/sklearn.model_selection.GridSearchCV.html\">https://scikit-learn.org/stable/modules/generated/sklearn.model_selection.GridSearchCV.html</a>, a handy class from `sklearn` that makes hyperparameter tuning through a grid search and cross-validation quicker to code up than writing out a series of `for` loops.\n",
    "\n",
    "\n",
    "Read through the code chunks below and fill in the missing code to run the same grid search cross-validation you did above with `GridSearchCV`."
   ]
  },
  {
   "cell_type": "code",
   "execution_count": null,
   "id": "a150f896",
   "metadata": {},
   "outputs": [],
   "source": [
    "## first import GridSearchCV\n",
    "from sklearn.model_selection import GridSearchCV"
   ]
  },
  {
   "cell_type": "code",
   "execution_count": null,
   "id": "3e82c25c",
   "metadata": {},
   "outputs": [],
   "source": [
    "## This will also take 1-2 minutes to run\n",
    "grid_cv = GridSearchCV(, # first put the model object here\n",
    "                          param_grid = {'max_depth':, # place the grid values for max_depth and\n",
    "                                        'n_estimators':}, # and n_estimators here\n",
    "                          scoring = , # put the metric we are trying to optimize here as a string, \"accuracy\"\n",
    "                          cv = ) # put the number of cv splits here\n",
    "\n",
    "## you fit it just like a model\n"
   ]
  },
  {
   "cell_type": "markdown",
   "id": "256cff2a",
   "metadata": {},
   "source": [
    "Once a `GridSearchCV` is fit you are easily able to find what hyperparameter combinations were best, what the optimal score was as well as get access to the best model."
   ]
  },
  {
   "cell_type": "code",
   "execution_count": null,
   "id": "917bc725",
   "metadata": {},
   "outputs": [],
   "source": [
    "## You can find the hyperparameter grid point that\n",
    "## gave the best performance like so\n",
    "## .best_params_\n",
    "grid_cv.best_params_"
   ]
  },
  {
   "cell_type": "code",
   "execution_count": null,
   "id": "bfe674ee",
   "metadata": {},
   "outputs": [],
   "source": [
    "## You can find the best score like so\n",
    "## .best_score_\n",
    "grid_cv.best_score_"
   ]
  },
  {
   "cell_type": "code",
   "execution_count": null,
   "id": "32e56a04",
   "metadata": {},
   "outputs": [],
   "source": [
    "## Calling best_estimator_ returns the model with the \n",
    "## best avg cv performance after it has been refit on the\n",
    "## entire data set\n",
    "grid_cv.best_estimator_"
   ]
  },
  {
   "cell_type": "markdown",
   "id": "998b3261",
   "metadata": {},
   "source": [
    "The `best_estimator_` is a model with the optimal hyperparameters that has been fit on the entire training set. Try and predict the pumpkin seed class on the training set with the `best_estimator_` below."
   ]
  },
  {
   "cell_type": "code",
   "execution_count": null,
   "id": "7eee5234",
   "metadata": {},
   "outputs": [],
   "source": [
    "## code here\n",
    "\n"
   ]
  },
  {
   "cell_type": "markdown",
   "id": "20b19398",
   "metadata": {},
   "source": [
    "If you want to look at all of the results, you can do that as well with `.cv_results`. Try that below."
   ]
  },
  {
   "cell_type": "code",
   "execution_count": null,
   "id": "741942d2",
   "metadata": {},
   "outputs": [],
   "source": [
    "## You can get all of the results with cv_results_\n",
    "grid_cv.cv_results_"
   ]
  },
  {
   "cell_type": "markdown",
   "id": "fb88d266",
   "metadata": {},
   "source": [
    "##### c.\n",
    "\n",
    "Using either the `best_estimator_` fitted model or a refitted model according to your results from the `for` loop cross-validation find the feature importance scores. Try and refer back to your notes from `Problem Session 8`, how do the scores compare to your initial EDA?"
   ]
  },
  {
   "cell_type": "code",
   "execution_count": null,
   "id": "bbe4005c",
   "metadata": {},
   "outputs": [],
   "source": [
    "## code here\n",
    "\n"
   ]
  },
  {
   "cell_type": "markdown",
   "id": "b0a083e7",
   "metadata": {},
   "source": [
    "##### Write here\n",
    "\n"
   ]
  },
  {
   "cell_type": "markdown",
   "id": "32117e18",
   "metadata": {},
   "source": [
    "#### 5. Bagging one of the previous models\n",
    "\n",
    "In the classification section of this course we covered the following algorithm:\n",
    "\n",
    "* kNN\n",
    "* Logistic Regression\n",
    "* LDA/QDA/NB\n",
    "* Support Vector Machines\n",
    "\n",
    "Of these which are likely to benefit from bagging, if any?  Does hyperparameter selection impact your answer (for example:  low vs. high $k$ in kNN)?\n",
    "\n",
    "Choose one algorithm which you think could be improved by bagging and implement hyperparameter tuning for both the single model and bagged model.  Did it improve performance?  \n"
   ]
  },
  {
   "cell_type": "code",
   "execution_count": null,
   "id": "036eb3cb",
   "metadata": {},
   "outputs": [],
   "source": []
  },
  {
   "cell_type": "markdown",
   "id": "b49d2ee0",
   "metadata": {},
   "source": [
    "##### 6. Selecting a final model\n",
    "\n",
    "##### a.\n",
    "\n",
    "Refer back to your work in `Problem Session 8` and `Problem Session 9`, across all three of the Pumpkin Seed classification notebooks, which model had the best average CV accuracy?"
   ]
  },
  {
   "cell_type": "markdown",
   "id": "9f04c68a",
   "metadata": {},
   "source": [
    "##### Write here"
   ]
  },
  {
   "cell_type": "markdown",
   "id": "d44ecc3a",
   "metadata": {},
   "source": [
    "##### b.\n",
    "\n",
    "Retrain the best model on the entire training set."
   ]
  },
  {
   "cell_type": "code",
   "execution_count": null,
   "id": "81164fe1",
   "metadata": {},
   "outputs": [],
   "source": [
    "## code here\n",
    "\n"
   ]
  },
  {
   "cell_type": "code",
   "execution_count": null,
   "id": "209ebca9",
   "metadata": {},
   "outputs": [],
   "source": [
    "## code here\n",
    "\n"
   ]
  },
  {
   "cell_type": "code",
   "execution_count": null,
   "id": "ef4e521c",
   "metadata": {},
   "outputs": [],
   "source": [
    "## code here\n",
    "\n"
   ]
  },
  {
   "cell_type": "markdown",
   "id": "d104c0ce",
   "metadata": {},
   "source": [
    "##### c.\n",
    "\n",
    "Find the training and test accuracies for this model. Does there appear to be overfitting?"
   ]
  },
  {
   "cell_type": "code",
   "execution_count": null,
   "id": "b21ad6ee",
   "metadata": {},
   "outputs": [],
   "source": [
    "## code here\n",
    "\n"
   ]
  },
  {
   "cell_type": "code",
   "execution_count": null,
   "id": "b8d4f6a5",
   "metadata": {},
   "outputs": [],
   "source": [
    "## code here\n",
    "\n"
   ]
  },
  {
   "cell_type": "code",
   "execution_count": null,
   "id": "45f5fb6f",
   "metadata": {},
   "outputs": [],
   "source": [
    "## code here\n",
    "\n"
   ]
  },
  {
   "cell_type": "markdown",
   "id": "b290c1f9",
   "metadata": {},
   "source": [
    "##### Write here\n",
    "\n"
   ]
  },
  {
   "cell_type": "markdown",
   "id": "b51c5eb3",
   "metadata": {},
   "source": [
    "--------------------------\n",
    "\n",
    "This notebook was written for the Erd&#337;s Institute C&#337;de Data Science Boot Camp by Matthew Osborne, Ph. D., 2023.\n",
    "\n",
    "Any potential redistributors must seek and receive permission from Matthew Tyler Osborne, Ph.D. prior to redistribution. Redistribution of the material contained in this repository is conditional on acknowledgement of Matthew Tyler Osborne, Ph.D.'s original authorship and sponsorship of the Erdős Institute as subject to the license (see License.md)"
   ]
  },
  {
   "cell_type": "code",
   "execution_count": null,
   "id": "bb91fead",
   "metadata": {},
   "outputs": [],
   "source": []
  }
 ],
 "metadata": {
  "kernelspec": {
   "display_name": "Python 3 (ipykernel)",
   "language": "python",
   "name": "python3"
  },
  "language_info": {
   "codemirror_mode": {
    "name": "ipython",
    "version": 3
   },
   "file_extension": ".py",
   "mimetype": "text/x-python",
   "name": "python",
   "nbconvert_exporter": "python",
   "pygments_lexer": "ipython3",
   "version": "3.11.7"
  }
 },
 "nbformat": 4,
 "nbformat_minor": 5
}
