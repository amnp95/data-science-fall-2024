{
 "cells": [
  {
   "cell_type": "markdown",
   "id": "dd12c40d",
   "metadata": {},
   "source": [
    "# Python and APIs\n",
    "\n",
    "The problems in this notebook touch on the material covered in the Lecture 2: Python and APIs notebook."
   ]
  },
  {
   "cell_type": "code",
   "execution_count": 1,
   "id": "f2aa69f8",
   "metadata": {},
   "outputs": [],
   "source": [
    "from bs4 import BeautifulSoup\n",
    "import requests\n",
    "import pandas as pd\n",
    "from time import sleep"
   ]
  },
  {
   "cell_type": "markdown",
   "id": "6f7678e0",
   "metadata": {},
   "source": [
    "##### 1. scite_\n",
    "\n",
    "We start with a problem continuing with the final problem in `3. Web Scraping`. While our direct requests for `www.science.org` html data may have been stymied, there is another path.\n",
    "\n",
    "If we have the dois for these articles we can submit requests for the article metadata to the `scite_` api for free. First we load in the articles and demonstrate how we can extract the dois from the Science articles."
   ]
  },
  {
   "cell_type": "code",
   "execution_count": 2,
   "id": "19bec9b6",
   "metadata": {},
   "outputs": [],
   "source": [
    "articles = pd.read_csv(\"journal_article_urls.csv\")"
   ]
  },
  {
   "cell_type": "code",
   "execution_count": 3,
   "id": "981878df",
   "metadata": {},
   "outputs": [
    {
     "data": {
      "text/plain": [
       "'https://www.science.org/doi/10.1126/scisignal.abk3067'"
      ]
     },
     "execution_count": 3,
     "metadata": {},
     "output_type": "execute_result"
    }
   ],
   "source": [
    "articles.loc[articles.domain=='www.science.org'].url.values[1]"
   ]
  },
  {
   "cell_type": "markdown",
   "id": "a3b420c6",
   "metadata": {},
   "source": [
    "In the example url above the text following `doi/` is the doi extension for that particular article. To see this first look at the article via its link, <a  href=\"https://www.science.org/doi/10.1126/scisignal.abk3067\">https://www.science.org/doi/10.1126/scisignal.abk3067</a> and then access it with this doi url <a href=\"https://www.doi.org/10.1126/scisignal.abk3067\">https://www.doi.org/10.1126/scisignal.abk3067</a>."
   ]
  },
  {
   "cell_type": "markdown",
   "id": "5d2a6236",
   "metadata": {},
   "source": [
    "Unfortunately `scite_` does not have a nice Python API wrapper, but we can still submit requests to their API with python. We demonstrate how below."
   ]
  },
  {
   "cell_type": "code",
   "execution_count": 4,
   "id": "3d2eb6bc",
   "metadata": {},
   "outputs": [],
   "source": [
    "## The basic request string looks like this\n",
    "'https://api.scite.ai/{endpoint}/{doi}'\n",
    "\n",
    "## For us the API \"endpoint\" we want is 'papers/'\n",
    "## and for this example we will use the doi from above, '10.1126/sciadv.abo1719'\n",
    "endpoint = 'papers/'\n",
    "doi = '10.1126/scisignal.abk3067'\n",
    "\n",
    "\n",
    "## then you just call requests.get for the string\n",
    "r = requests.get('https://api.scite.ai/' + endpoint + doi)"
   ]
  },
  {
   "cell_type": "code",
   "execution_count": 5,
   "id": "4f4870c8",
   "metadata": {},
   "outputs": [
    {
     "data": {
      "text/plain": [
       "{'id': 11371189169,\n",
       " 'doi': '10.1126/scisignal.abk3067',\n",
       " 'slug': 'march8-attenuates-cgas-mediated-innate-immune-5GEVWzR2',\n",
       " 'type': 'journal-article',\n",
       " 'title': 'MARCH8 attenuates cGAS-mediated innate immune responses through ubiquitylation',\n",
       " 'abstract': 'Cyclic GMP-AMP synthase (cGAS) binds to microbial and self-DNA in the cytosol and synthesizes cyclic GMP-AMP (cGAMP), which activates stimulator of interferon genes (STING) and downstream mediators to elicit an innate immune response. Regulation of cGAS activity is essential for immune homeostasis. Here, we identified the E3 ubiquitin ligase MARCH8 (also known as MARCHF8, c-MIR, and RNF178) as a negative regulator of cGAS-mediated signaling. The immune response to double-stranded DNA was attenuated by overexpression of MARCH8 and enhanced by knockdown or knockout of MARCH8. MARCH8 interacted with the enzymatically active core of cGAS through its conserved RING-CH domain and catalyzed the lysine-63 (K63)–linked polyubiquitylation of cGAS at Lys\\n            411\\n            . This polyubiquitylation event inhibited the DNA binding ability of cGAS, impaired cGAMP production, and attenuated the downstream innate immune response. Furthermore,\\n            March8\\n            -deficient mice were less susceptible than their wild-type counterparts to herpes simplex virus 1 (HSV-1) infection. Together, our findings reveal a mechanism underlying the functional regulation of cGAS and the fine-tuning of the innate immune response.',\n",
       " 'authors': [{'family': 'Yang',\n",
       "   'given': 'Xikang',\n",
       "   'affiliation': 'Tsinghua University',\n",
       "   'authorSlug': 'xikang-yang-4Yg2AM',\n",
       "   'authorName': 'Xikang Yang',\n",
       "   'authorID': '9156786',\n",
       "   'authorLastKnownAffiliationId': 189934,\n",
       "   'authorSequenceNumber': 1,\n",
       "   'affiliationSlug': 'tsinghua-university-G5mK',\n",
       "   'affiliationID': '4857'},\n",
       "  {'family': 'Shi',\n",
       "   'given': 'Chengrui',\n",
       "   'affiliation': 'Tsinghua University',\n",
       "   'authorSlug': 'chengrui-shi-8nev2m',\n",
       "   'authorName': 'Chengrui Shi',\n",
       "   'authorID': '15055265',\n",
       "   'authorLastKnownAffiliationId': 24631,\n",
       "   'authorSequenceNumber': 2,\n",
       "   'affiliationSlug': 'tsinghua-university-G5mK',\n",
       "   'affiliationID': '4857'},\n",
       "  {'family': 'Liu',\n",
       "   'given': 'Hongpeng',\n",
       "   'affiliation': 'Tsinghua University',\n",
       "   'authorSlug': 'hongpeng-liu-OV6VO6',\n",
       "   'authorName': 'Hongpeng Liu',\n",
       "   'authorID': '5283978',\n",
       "   'authorLastKnownAffiliationId': 25513,\n",
       "   'authorSequenceNumber': 3,\n",
       "   'affiliationSlug': 'tsinghua-university-G5mK',\n",
       "   'affiliationID': '4857'},\n",
       "  {'family': 'Shen',\n",
       "   'given': 'Siqi',\n",
       "   'affiliation': 'Tsinghua University',\n",
       "   'authorSlug': 'siqi-shen-ZjV2KP',\n",
       "   'authorName': 'Siqi Shen',\n",
       "   'authorID': '23200975',\n",
       "   'authorLastKnownAffiliationId': 156927,\n",
       "   'authorSequenceNumber': 4,\n",
       "   'affiliationSlug': 'tsinghua-university-G5mK',\n",
       "   'affiliationID': '4857'},\n",
       "  {'family': 'Su',\n",
       "   'given': 'Chaofei',\n",
       "   'affiliation': 'Tsinghua University',\n",
       "   'authorSlug': 'chaofei-su-AxKrjQ',\n",
       "   'authorName': 'Chaofei Su',\n",
       "   'authorID': '16235905',\n",
       "   'authorLastKnownAffiliationId': 170498,\n",
       "   'authorSequenceNumber': 5,\n",
       "   'affiliationSlug': 'tsinghua-university-G5mK',\n",
       "   'affiliationID': '4857'},\n",
       "  {'family': 'Yin',\n",
       "   'given': 'Hang',\n",
       "   'affiliation': 'Tsinghua University',\n",
       "   'authorSlug': 'hang-yin-5GQpXa',\n",
       "   'authorName': 'Hang Yin',\n",
       "   'authorID': '4912969',\n",
       "   'authorLastKnownAffiliationId': 23517,\n",
       "   'authorSequenceNumber': 6,\n",
       "   'affiliationSlug': 'tsinghua-university-G5mK',\n",
       "   'affiliationID': '4857'}],\n",
       " 'keywords': [],\n",
       " 'year': 2022,\n",
       " 'shortJournal': 'Sci. Signal.',\n",
       " 'publisher': 'American Association for the Advancement of Science (AAAS)',\n",
       " 'issue': '732',\n",
       " 'volume': '15',\n",
       " 'memberId': 221,\n",
       " 'issns': ['1945-0877', '1937-9145'],\n",
       " 'editorialNotices': [],\n",
       " 'journalSlug': 'science-signaling-XxyzE',\n",
       " 'journal': 'Science Signaling',\n",
       " 'preprintLinks': [],\n",
       " 'publicationLinks': [],\n",
       " 'normalizedTypes': ['article']}"
      ]
     },
     "execution_count": 5,
     "metadata": {},
     "output_type": "execute_result"
    }
   ],
   "source": [
    "## We can get the returned data with\n",
    "## r.json()\n",
    "r.json()"
   ]
  },
  {
   "cell_type": "markdown",
   "id": "df30a64e",
   "metadata": {},
   "source": [
    "Write a script to use the `scite_` api to get the title, authors and doi for each `www.science.org` paper."
   ]
  },
  {
   "cell_type": "code",
   "execution_count": 6,
   "id": "19806fdb",
   "metadata": {},
   "outputs": [],
   "source": [
    "def science(url):\n",
    "    doi = url.split(\"doi/\")[-1]\n",
    "    endpoint = 'papers/'\n",
    "    r = requests.get('https://api.scite.ai/' + endpoint + doi)\n",
    "    \n",
    "    if 'title' in r.json().keys():\n",
    "        title = r.json()['title']\n",
    "    else:\n",
    "        title = \"NA\"\n",
    "        \n",
    "    if 'authors' in r.json().keys():\n",
    "        authors = \", \".join([author['given'] + \" \" + author['family'] for author in r.json()['authors']])\n",
    "    else:\n",
    "        authors = \"NA\"\n",
    "        \n",
    "    return title, authors, doi"
   ]
  },
  {
   "cell_type": "code",
   "execution_count": 7,
   "id": "5bfa0750",
   "metadata": {},
   "outputs": [
    {
     "name": "stdout",
     "output_type": "stream",
     "text": [
      "https://www.science.org/doi/10.1126/sciimmunol.abo2159\n",
      "ILC killer: Qu’est-ce que c’est?\n",
      "David R. Withers, Matthew R. Hepworth\n",
      "10.1126/sciimmunol.abo2159\n",
      "\n",
      "https://www.science.org/doi/10.1126/scisignal.abk3067\n",
      "MARCH8 attenuates cGAS-mediated innate immune responses through ubiquitylation\n",
      "Xikang Yang, Chengrui Shi, Hongpeng Liu, Siqi Shen, Chaofei Su, Hang Yin\n",
      "10.1126/scisignal.abk3067\n",
      "\n",
      "https://www.science.org/doi/10.1126/sciimmunol.abm8161\n",
      "Succinate dehydrogenase/complex II is critical for metabolic and epigenetic regulation of T cell proliferation and inflammation\n",
      "Xuyong Chen, Benjamin D. Sunkel, Meng Wang, Siwen Kang, Tingting Wang, JN Rashida Gnanaprakasam, Lingling Liu, Teresa Cassel, David A. Scott, Ana M. Muñoz-Cabello, José López‐Barneo, Jun Yang, Andrew N. Lane, Gang Xu, Teresa W.‐M. Fan, Ruoning Wang\n",
      "10.1126/sciimmunol.abm8161\n",
      "\n",
      "https://www.science.org/doi/10.1126/scitranslmed.abo5395\n",
      "The rapid replacement of the SARS-CoV-2 Delta variant by Omicron (B.1.1.529) in England\n",
      "Robert S Paton, Christopher E. Overton, Thomas Ward\n",
      "10.1126/scitranslmed.abo5395\n",
      "\n",
      "https://www.science.org/doi/10.1126/science.abn3810\n",
      "Structure of the human inner kinetochore bound to a centromeric CENP-A nucleosome\n",
      "Stanislau Yatskevich, Kyle Muir, Dom Bellini, Ziguo Zhang, Jing Yang, Thomas Tischer, Masa Predin, Tom Dendooven, Stephen H. McLaughlin, David Barford\n",
      "10.1126/science.abn3810\n",
      "\n",
      "https://www.science.org/doi/10.1126/sciimmunol.abf0905\n",
      "Lighting a fire on the reef\n",
      "Zhibin Zhang, Judy Lieberman\n",
      "10.1126/sciimmunol.abf0905\n",
      "\n",
      "https://www.science.org/doi/10.1126/scirobotics.abg9907\n",
      "Telerobotic neurovascular interventions with magnetic manipulation\n",
      "Yoonho Kim, Emily Genevriere, Pablo Harker, Jaehun Choe, Marcin Balicki, Robert W Regenhardt, Justin E Vranic, Adam A Dmytriw, Aman B. Patel, Xuanhe Zhao\n",
      "10.1126/scirobotics.abg9907\n",
      "\n",
      "https://www.science.org/doi/10.1126/scirobotics.abn5459\n",
      "A DNA molecular printer capable of programmable positioning and patterning in two dimensions\n",
      "Erik Benson, Rafael Carrascosa Marzo, Jonathan Bath, Andrew J. Turberfield\n",
      "10.1126/scirobotics.abn5459\n",
      "\n",
      "https://www.science.org/doi/10.1126/scisignal.aay6013\n",
      "RAS, wanted dead or alive: Advances in targeting RAS mutant cancers\n",
      "Clint A. Stalnecker, Channing J. Der\n",
      "10.1126/scisignal.aay6013\n",
      "\n",
      "https://www.science.org/doi/10.1126/scisignal.abm4452\n",
      "The glucocorticoid receptor associates with RAS complexes to inhibit cell proliferation and tumor growth\n",
      "Bozhena Caratti, Miray Fidan, Giorgio Caratti, Kristina Breitenecker, Melanie Engler, Naser Kazemitash, Rebecca Traut, Rainer Wittig, Emilio Casanova, Mohammad Réza Ahmadian, Jan Tuckermann, Herwig P. Moll, Ion Cristian Cirstea\n",
      "10.1126/scisignal.abm4452\n",
      "\n"
     ]
    }
   ],
   "source": [
    "for url in articles.loc[articles.domain=='www.science.org'].url.values:\n",
    "    print(url)\n",
    "    title,authors,doi = science(url)\n",
    "    print(title)\n",
    "    print(authors)\n",
    "    print(doi)\n",
    "    print()\n",
    "    sleep(3)"
   ]
  },
  {
   "cell_type": "markdown",
   "id": "de54f9ec",
   "metadata": {},
   "source": [
    "##### 2. Book Reviews\n",
    "\n",
    "Use the `pynytimes` package to get any New York Times reviews for books by the author David Graeber."
   ]
  },
  {
   "cell_type": "markdown",
   "id": "d8b61d02",
   "metadata": {},
   "source": [
    "##### Sample Solution"
   ]
  },
  {
   "cell_type": "code",
   "execution_count": 12,
   "id": "f565a64f",
   "metadata": {},
   "outputs": [],
   "source": [
    "from pynytimes import NYTAPI\n",
    "from steve_api_info import get_nytimes_key"
   ]
  },
  {
   "cell_type": "code",
   "execution_count": 13,
   "id": "e3987f83",
   "metadata": {},
   "outputs": [],
   "source": [
    "nytapi = NYTAPI(get_nytimes_key(), parse_dates=True) "
   ]
  },
  {
   "cell_type": "code",
   "execution_count": 20,
   "id": "ded87470",
   "metadata": {},
   "outputs": [
    {
     "data": {
      "text/plain": [
       "[{'url': 'https://www.nytimes.com/2018/06/26/books/review/david-graeber-bullshit-jobs.html',\n",
       "  'publication_dt': datetime.date(2018, 6, 26),\n",
       "  'byline': 'ALANA SEMUELS',\n",
       "  'book_title': 'Bullshit Jobs: A Theory',\n",
       "  'book_author': 'David Graeber',\n",
       "  'summary': 'In “Bull__ Jobs,” the anthropologist David Graeber argues that technological advances have led to people working more, not fewer, hours at useless jobs.',\n",
       "  'uuid': '00000000-0000-0000-0000-000000000000',\n",
       "  'uri': 'nyt://book/00000000-0000-0000-0000-000000000000',\n",
       "  'isbn13': ['9781501143311']}]"
      ]
     },
     "execution_count": 20,
     "metadata": {},
     "output_type": "execute_result"
    }
   ],
   "source": [
    "nytapi.book_reviews(author = \"David Graeber\")"
   ]
  },
  {
   "cell_type": "markdown",
   "id": "a9e38257",
   "metadata": {},
   "source": [
    "##### 3. IMDB Data\n",
    "Use `Cinemagoer` to find the rating of <a href=\"https://www.imdb.com/title/tt8097030/\">Turning Red</a> on IMDB. Also produce a list of all the cast members.\n",
    "\n",
    "<i>Hint: once you have gotten the movie returned from IMDB, try doing `variable.data`, where you should replace `variable` with whatever variable name you used to store the movie.</i>"
   ]
  },
  {
   "cell_type": "code",
   "execution_count": 21,
   "id": "c5678738",
   "metadata": {},
   "outputs": [],
   "source": [
    "from imdb import Cinemagoer"
   ]
  },
  {
   "cell_type": "code",
   "execution_count": 22,
   "id": "a8108b66",
   "metadata": {},
   "outputs": [],
   "source": [
    "ia = Cinemagoer()"
   ]
  },
  {
   "cell_type": "code",
   "execution_count": 23,
   "id": "b51a66aa",
   "metadata": {},
   "outputs": [
    {
     "data": {
      "text/plain": [
       "[<Movie id:8097030[http] title:_Turning Red (2022)_>,\n",
       " <Movie id:16026664[http] title:_Embrace the Panda: Making Turning Red (2022)_>,\n",
       " <Movie id:1086640[http] title:_\"Red Chapters: Turning Points in the History of Communism\" (1999) (mini)_>,\n",
       " <Movie id:5370536[http] title:_Turning on the Red Lights: Making of 'Red Lights' (2012) (V)_>,\n",
       " <Movie id:0087010[http] title:_The Burning Bed (1984) (TV)_>,\n",
       " <Movie id:18688690[http] title:_Turning Red (2022)_>,\n",
       " <Movie id:28736864[http] title:_Turning Red (2022)_>,\n",
       " <Movie id:27180222[http] title:_Turning Red (2022)_>,\n",
       " <Movie id:29027953[http] title:_Turning Red (2023)_>,\n",
       " <Movie id:18518800[http] title:_Turning Red (2022)_>,\n",
       " <Movie id:18688286[http] title:_Turning Red (2022)_>,\n",
       " <Movie id:18952048[http] title:_Turning Red (2022)_>,\n",
       " <Movie id:18548220[http] title:_Turning Red (2022)_>,\n",
       " <Movie id:24020516[http] title:_Turning Red (2022)_>,\n",
       " <Movie id:25563134[http] title:_Turning Red (2022)_>,\n",
       " <Movie id:27316358[http] title:_Turning Red (2022)_>,\n",
       " <Movie id:30759581[http] title:_Turning Red (2022)_>,\n",
       " <Movie id:5374476[http] title:_Turning Red (2015)_>,\n",
       " <Movie id:2358022[http] title:_Turning White and Turning Red (2012)_>,\n",
       " <Movie id:24100444[http] title:_Turning Red in embarrassment - Pixar's Turning Red (2022)_>]"
      ]
     },
     "execution_count": 23,
     "metadata": {},
     "output_type": "execute_result"
    }
   ],
   "source": [
    "ia.search_movie('Turning Red')"
   ]
  },
  {
   "cell_type": "code",
   "execution_count": 24,
   "id": "5a932469",
   "metadata": {},
   "outputs": [],
   "source": [
    "turningred_id = '8097030'\n",
    "\n",
    "turningred = ia.get_movie(turningred_id)"
   ]
  },
  {
   "cell_type": "code",
   "execution_count": 25,
   "id": "8ac77ccc",
   "metadata": {},
   "outputs": [
    {
     "name": "stdout",
     "output_type": "stream",
     "text": [
      "IMDB Rating: 7.0\n"
     ]
    }
   ],
   "source": [
    "print(\"IMDB Rating:\", turningred['rating'])"
   ]
  },
  {
   "cell_type": "code",
   "execution_count": 26,
   "id": "827a9d70",
   "metadata": {},
   "outputs": [
    {
     "data": {
      "text/plain": [
       "['Rosalie Chiang',\n",
       " 'Sandra Oh',\n",
       " 'Ava Morse',\n",
       " 'Hyein Park',\n",
       " 'Maitreyi Ramakrishnan',\n",
       " 'Orion Lee',\n",
       " 'Wai Ching Ho',\n",
       " 'Tristan Allerick Chen',\n",
       " 'Lori Tan Chinn',\n",
       " 'Mia Tagano',\n",
       " 'Sherry Cola',\n",
       " 'Lillian Lim',\n",
       " 'James Hong',\n",
       " 'Jordan Fisher',\n",
       " \"Finneas O'Connell\",\n",
       " 'Topher Ngo',\n",
       " 'Grayson Villanueva',\n",
       " 'Josh Levi',\n",
       " 'Sasha Roiz',\n",
       " 'Addison Chandler',\n",
       " 'Lily Sanfelippo',\n",
       " 'Anne-Marie',\n",
       " 'Brian Cummings']"
      ]
     },
     "execution_count": 26,
     "metadata": {},
     "output_type": "execute_result"
    }
   ],
   "source": [
    "[cast_member['name'] for cast_member in turningred['cast']]"
   ]
  },
  {
   "cell_type": "markdown",
   "id": "baad986c",
   "metadata": {},
   "source": [
    "##### 4. Python Wrapper for the Reddit API\n",
    "\n",
    "In this problem you will become more familiar with the `praw` package, <a href=\"https://praw.readthedocs.io/en/stable/\">https://praw.readthedocs.io/en/stable/</a>.\n",
    "\n",
    "`praw` is a Python wrapper for Reddit's API, which allows you to scrape Reddit data without having to write much code.\n",
    "\n",
    "The first step for using `praw` is creating a Reddit application with your Reddit account, instructions on how to do so can be found here, <a href=\"https://github.com/reddit-archive/reddit/wiki/OAuth2-Quick-Start-Example#first-steps\">https://github.com/reddit-archive/reddit/wiki/OAuth2-Quick-Start-Example#first-steps</a>.\n",
    "\n",
    "The second step is installing `praw`, you can find instructions to do so here, <a href=\"https://praw.readthedocs.io/en/stable/getting_started/installation.html\">https://praw.readthedocs.io/en/stable/getting_started/installation.html</a>, for `pip` and here, <a href=\"https://anaconda.org/conda-forge/praw\">https://anaconda.org/conda-forge/praw</a> for `conda`.\n",
    "\n",
    "Once you think that you have successfully installed `praw` try running the code chunks below."
   ]
  },
  {
   "cell_type": "code",
   "execution_count": 27,
   "id": "539781bb",
   "metadata": {},
   "outputs": [
    {
     "ename": "ModuleNotFoundError",
     "evalue": "No module named 'praw'",
     "output_type": "error",
     "traceback": [
      "\u001b[0;31m---------------------------------------------------------------------------\u001b[0m",
      "\u001b[0;31mModuleNotFoundError\u001b[0m                       Traceback (most recent call last)",
      "Cell \u001b[0;32mIn[27], line 1\u001b[0m\n\u001b[0;32m----> 1\u001b[0m \u001b[38;5;28;01mimport\u001b[39;00m \u001b[38;5;21;01mpraw\u001b[39;00m\n",
      "\u001b[0;31mModuleNotFoundError\u001b[0m: No module named 'praw'"
     ]
    }
   ],
   "source": [
    "import praw"
   ]
  },
  {
   "cell_type": "code",
   "execution_count": null,
   "id": "d4984dd5",
   "metadata": {},
   "outputs": [],
   "source": [
    "print(praw.__version__)"
   ]
  },
  {
   "cell_type": "markdown",
   "id": "05a800d4",
   "metadata": {},
   "source": [
    "Next you need to connect to the API using your app's credentials. <b>As always, never share your credentials with anyone, especially online. Store these in a safe place on your computer</b>. I have stored them in the file `matt_api_info.py` which can only be found on my personal laptop."
   ]
  },
  {
   "cell_type": "code",
   "execution_count": null,
   "id": "7be2ac41",
   "metadata": {},
   "outputs": [],
   "source": [
    "from matt_api_info import get_reddit_client_id, get_reddit_client_secret"
   ]
  },
  {
   "cell_type": "code",
   "execution_count": null,
   "id": "a191283b",
   "metadata": {},
   "outputs": [],
   "source": [
    "## Connect to the api\n",
    "reddit = praw.Reddit(\n",
    "    ## input your client_id here\n",
    "    client_id=get_reddit_client_id(),\n",
    "    ## input your client_secret here\n",
    "    client_secret=get_reddit_client_secret(),\n",
    "    ## put in a string for your user_agent here\n",
    "    user_agent=\"testscript\"\n",
    ")"
   ]
  },
  {
   "cell_type": "markdown",
   "id": "f32f2313",
   "metadata": {},
   "source": [
    "Once you have a connection to the Reddit API, you can start to request data.\n",
    "\n",
    "For example, with `.subreddit`, <a href=\"https://praw.readthedocs.io/en/stable/code_overview/models/subreddit.html\">https://praw.readthedocs.io/en/stable/code_overview/models/subreddit.html</a>, you can get the information for a particular subreddit. Choose your favorite subreddit below."
   ]
  },
  {
   "cell_type": "code",
   "execution_count": null,
   "id": "be264704",
   "metadata": {},
   "outputs": [],
   "source": [
    "## place the name of your favorith subreddit here,\n",
    "## this should not include r/\n",
    "## for example, \"books\" leads to the books subreddit, https://www.reddit.com/r/books/\n",
    "subreddit_name = \"books\"\n",
    "\n",
    "## here we get the subreddit data\n",
    "subreddit = reddit.subreddit(subreddit_name)"
   ]
  },
  {
   "cell_type": "markdown",
   "id": "dedd642d",
   "metadata": {},
   "source": [
    "Here is some of the data you can get on a subreddit."
   ]
  },
  {
   "cell_type": "code",
   "execution_count": null,
   "id": "0d696aaf",
   "metadata": {},
   "outputs": [],
   "source": [
    "## The name of the subreddit\n",
    "subreddit.display_name"
   ]
  },
  {
   "cell_type": "code",
   "execution_count": null,
   "id": "c7a74dbf",
   "metadata": {},
   "outputs": [],
   "source": [
    "## The description of the subreddit\n",
    "print(subreddit.description)"
   ]
  },
  {
   "cell_type": "code",
   "execution_count": null,
   "id": "b65b070e",
   "metadata": {},
   "outputs": [],
   "source": [
    "## The number of subscribers\n",
    "subreddit.subscribers"
   ]
  },
  {
   "cell_type": "markdown",
   "id": "547745c7",
   "metadata": {},
   "source": [
    "Read the `praw` 'Quick Start' documentation, <a href=\"https://praw.readthedocs.io/en/stable/getting_started/quick_start.html\">https://praw.readthedocs.io/en/stable/getting_started/quick_start.html</a>, to find how to get the top 1 \"hot\" submissions to your favorite subreddit.\n",
    "\n",
    "Store this in a variable named `top_post`."
   ]
  },
  {
   "cell_type": "code",
   "execution_count": null,
   "id": "41efc3e0",
   "metadata": {},
   "outputs": [],
   "source": [
    "top_post = [post for post in subreddit.hot(limit=1)][0]"
   ]
  },
  {
   "cell_type": "markdown",
   "id": "e2e8cf15",
   "metadata": {},
   "source": [
    "Read the `praw` submission documentation, <a href=\"https://praw.readthedocs.io/en/latest/code_overview/models/submission.html\">https://praw.readthedocs.io/en/latest/code_overview/models/submission.html</a>, to return the:\n",
    "- Author of the post,\n",
    "- The title of the post,\n",
    "- The text of the post (if there is any),\n",
    "- The number of comments and\n",
    "- The number of upvotes."
   ]
  },
  {
   "cell_type": "code",
   "execution_count": null,
   "id": "542efe37",
   "metadata": {},
   "outputs": [],
   "source": [
    "print(top_post.author)"
   ]
  },
  {
   "cell_type": "code",
   "execution_count": null,
   "id": "de4c9075",
   "metadata": {},
   "outputs": [],
   "source": [
    "print(top_post.title)"
   ]
  },
  {
   "cell_type": "code",
   "execution_count": null,
   "id": "4821d095",
   "metadata": {},
   "outputs": [],
   "source": [
    "print(top_post.selftext)"
   ]
  },
  {
   "cell_type": "code",
   "execution_count": null,
   "id": "2361ab8f",
   "metadata": {},
   "outputs": [],
   "source": [
    "print(top_post.num_comments)"
   ]
  },
  {
   "cell_type": "code",
   "execution_count": null,
   "id": "8f5d6286",
   "metadata": {},
   "outputs": [],
   "source": [
    "print(top_post.score)"
   ]
  },
  {
   "cell_type": "markdown",
   "id": "32095c01",
   "metadata": {},
   "source": [
    "You can learn more about `praw` by reading the documentation, <a href=\"https://praw.readthedocs.io/en/latest/index.html\">https://praw.readthedocs.io/en/latest/index.html</a>."
   ]
  },
  {
   "cell_type": "markdown",
   "id": "b2081b66",
   "metadata": {},
   "source": [
    "--------------------------\n",
    "\n",
    "This notebook was written for the Erd&#337;s Institute C&#337;de Data Science Boot Camp by Matthew Osborne, Ph. D., 2023.\n",
    "\n",
    "Any potential redistributors must seek and receive permission from Matthew Tyler Osborne, Ph.D. prior to redistribution. Redistribution of the material contained in this repository is conditional on acknowledgement of Matthew Tyler Osborne, Ph.D.'s original authorship and sponsorship of the Erdős Institute as subject to the license (see License.md)"
   ]
  },
  {
   "cell_type": "code",
   "execution_count": null,
   "id": "4326456c",
   "metadata": {},
   "outputs": [],
   "source": []
  }
 ],
 "metadata": {
  "kernelspec": {
   "display_name": "Python 3 (ipykernel)",
   "language": "python",
   "name": "python3"
  },
  "language_info": {
   "codemirror_mode": {
    "name": "ipython",
    "version": 3
   },
   "file_extension": ".py",
   "mimetype": "text/x-python",
   "name": "python",
   "nbconvert_exporter": "python",
   "pygments_lexer": "ipython3",
   "version": "3.10.9"
  }
 },
 "nbformat": 4,
 "nbformat_minor": 5
}
