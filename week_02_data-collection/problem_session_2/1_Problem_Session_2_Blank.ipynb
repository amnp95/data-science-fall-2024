{
 "cells": [
  {
   "cell_type": "markdown",
   "id": "85bf4093",
   "metadata": {},
   "source": [
    "# Problem Session 2\n",
    "\n",
    "## Data Collection\n",
    "\n",
    "The problems contained in this notebook relate to the concepts covered in the `Data Collection` lecture notebooks."
   ]
  },
  {
   "cell_type": "code",
   "execution_count": null,
   "id": "c29ce00e",
   "metadata": {},
   "outputs": [],
   "source": [
    "import pandas as pd\n",
    "import numpy as np\n",
    "import matplotlib.pyplot as plt\n",
    "from seaborn import set_style\n",
    "set_style(\"whitegrid\")"
   ]
  },
  {
   "cell_type": "markdown",
   "id": "1bad75fd",
   "metadata": {},
   "source": [
    "#### 1. Finding data online\n",
    "\n",
    "##### a.\n",
    "\n",
    "Go to Kaggle.com or the UC Irvine Machine Learning Repository and download a data set of your choice. Download then load that data set below using `pandas`. How many observations are in the data set?"
   ]
  },
  {
   "cell_type": "code",
   "execution_count": null,
   "id": "af3b22a5",
   "metadata": {},
   "outputs": [],
   "source": [
    "## Code here\n",
    "\n"
   ]
  },
  {
   "cell_type": "code",
   "execution_count": null,
   "id": "6df8cb24",
   "metadata": {},
   "outputs": [],
   "source": [
    "## Code here\n",
    "\n"
   ]
  },
  {
   "cell_type": "markdown",
   "id": "509cbf45",
   "metadata": {},
   "source": [
    "##### b.\n",
    "\n",
    "Your boss would like to examine potential relationships between various company stock prices. They have assigned you the task of getting all of the historical stock data for `AAPL` and `GOOG`. \n",
    "\n",
    "For this task they would like:\n",
    "- Each company to have their own `.csv` file containing the relevant stock data and\n",
    "- The data to go back to the company's initial public offering (IPO), which is the first day the company started trading its stock publicly (for `AAPL` this was December 12, 1980 and for `GOOG` this was August 19, 2004).\n",
    "\n",
    "<i>Hint: You can try competition sites, repositories or just doing a simple web search for such data.</i>"
   ]
  },
  {
   "cell_type": "markdown",
   "id": "b621bbff",
   "metadata": {},
   "source": [
    "##### Write or code here if needed"
   ]
  },
  {
   "cell_type": "markdown",
   "id": "3dee3069",
   "metadata": {},
   "source": [
    "#### 2. Scraping Sites with `BeautifulSoup`\n",
    "\n",
    "You are interested in examining trends in Broadway revenue and attendance over the years. In this problem you will scrape data from <a href=\"https://www.playbill.com/grosses\">https://www.playbill.com/grosses</a> on weekly grosses from Broadway shows.\n",
    "\n",
    "https://www.playbill.com/grosses\n",
    "\n",
    "##### a. \n",
    "\n",
    "First scrape the:\n",
    "- Show title,\n",
    "- Gross, and\n",
    "- Seats sold.\n",
    "\n",
    "for all the shows found in the table at this link, <a href=\"https://www.playbill.com/grosses\">https://www.playbill.com/grosses</a>."
   ]
  },
  {
   "cell_type": "code",
   "execution_count": null,
   "id": "e226b9c0",
   "metadata": {},
   "outputs": [],
   "source": [
    "## Import what you'll need here\n",
    "import requests\n",
    "from bs4 import BeautifulSoup"
   ]
  },
  {
   "cell_type": "code",
   "execution_count": null,
   "id": "df6edbe2",
   "metadata": {},
   "outputs": [],
   "source": [
    "## make the request and soup here\n",
    "\n"
   ]
  },
  {
   "cell_type": "code",
   "execution_count": null,
   "id": "7bc2ffa4",
   "metadata": {},
   "outputs": [],
   "source": [
    "## scrape your data here\n",
    "\n",
    "\n"
   ]
  },
  {
   "cell_type": "code",
   "execution_count": null,
   "id": "ce073391",
   "metadata": {},
   "outputs": [],
   "source": [
    "## scrape your data here (extra code chunk if needed)\n",
    "\n",
    "\n"
   ]
  },
  {
   "cell_type": "code",
   "execution_count": null,
   "id": "a167e26b",
   "metadata": {},
   "outputs": [],
   "source": [
    "## make the data frame\n"
   ]
  },
  {
   "cell_type": "markdown",
   "id": "9075a4e4",
   "metadata": {},
   "source": [
    "##### b.\n",
    "\n",
    "Notice that on <a href=\"https://www.playbill.com/grosses\">https://www.playbill.com/grosses</a> there is an interactive button under the text \"BROADWAY GROSSES WEEK ENDING\" that allows the user to get grosses for any given week. What happens to the url when you select a different week?"
   ]
  },
  {
   "cell_type": "markdown",
   "id": "918bbeb1",
   "metadata": {},
   "source": [
    "##### Write here\n",
    "\n"
   ]
  },
  {
   "cell_type": "markdown",
   "id": "c0ccfa1b",
   "metadata": {},
   "source": [
    "##### c.\n",
    "\n",
    "Use `BeautifulSoup` to obtain all possible options for the week selector.\n",
    "\n",
    "<i>Hint: the options are stored in a `select` object, you should be able to find out which portion of the HTML code you want to scrape with the web developer tools.</i>"
   ]
  },
  {
   "cell_type": "code",
   "execution_count": null,
   "id": "70688c9b",
   "metadata": {},
   "outputs": [],
   "source": [
    "## code here\n",
    "\n"
   ]
  },
  {
   "cell_type": "code",
   "execution_count": null,
   "id": "209e23fa",
   "metadata": {},
   "outputs": [],
   "source": [
    "## code here\n",
    "\n"
   ]
  },
  {
   "cell_type": "code",
   "execution_count": null,
   "id": "b0dedda7",
   "metadata": {},
   "outputs": [],
   "source": [
    "## code here\n",
    "\n"
   ]
  },
  {
   "cell_type": "markdown",
   "id": "376a678f",
   "metadata": {},
   "source": [
    "##### d. \n",
    "\n",
    "Write a script to record the data you scraped in <i>a.</i> for the 10 most recent weeks. Make sure to add in a small rest between each request you make to the website (You can do that with `time`'s `sleep` function, <a href=\"https://docs.python.org/3/library/time.html#time.sleep\">https://docs.python.org/3/library/time.html#time.sleep</a>).\n",
    "\n",
    "Your end result here should be a `DataFrame` that tracks the date along with all of the other information requested in <i>a.</i>"
   ]
  },
  {
   "cell_type": "code",
   "execution_count": null,
   "id": "387d7180",
   "metadata": {},
   "outputs": [],
   "source": [
    "## Import sleep from time\n"
   ]
  },
  {
   "cell_type": "code",
   "execution_count": null,
   "id": "17560934",
   "metadata": {},
   "outputs": [],
   "source": [
    "## Write your script here\n",
    "\n"
   ]
  },
  {
   "cell_type": "code",
   "execution_count": null,
   "id": "ee658cdd",
   "metadata": {},
   "outputs": [],
   "source": [
    "## Make your data frame here\n"
   ]
  },
  {
   "cell_type": "markdown",
   "id": "01579b57",
   "metadata": {},
   "source": [
    "##### e.\n",
    "\n",
    "Which week had the highest total gross? Which show had the highest average gross per seats sold?"
   ]
  },
  {
   "cell_type": "code",
   "execution_count": null,
   "id": "005c412e",
   "metadata": {},
   "outputs": [],
   "source": [
    "## code here\n",
    "\n"
   ]
  },
  {
   "cell_type": "code",
   "execution_count": null,
   "id": "9752c5ce",
   "metadata": {},
   "outputs": [],
   "source": [
    "## code here\n",
    "\n"
   ]
  },
  {
   "cell_type": "markdown",
   "id": "4be1ef76",
   "metadata": {},
   "source": [
    "#### 3. Python and APIs\n",
    "\n",
    "In this problem you play with some cat related data using [The Cat API](https://thecatapi.com/)."
   ]
  },
  {
   "cell_type": "markdown",
   "id": "ce74612b",
   "metadata": {},
   "source": [
    "##### a.  \n",
    "\n",
    "First we need to request the information about cat breeds."
   ]
  },
  {
   "cell_type": "code",
   "execution_count": null,
   "id": "b75f2b75",
   "metadata": {},
   "outputs": [],
   "source": [
    "import requests\n",
    "response = requests.get(\"https://api.thecatapi.com/v1/breeds\")"
   ]
  },
  {
   "cell_type": "markdown",
   "id": "d3eb474a",
   "metadata": {},
   "source": [
    "##### b.\n",
    "\n",
    "To get the properties and methods of a python object you can use the \"dir\" function.  Print the methods of the \"response\" object."
   ]
  },
  {
   "cell_type": "code",
   "execution_count": null,
   "id": "cf9b0f32",
   "metadata": {},
   "outputs": [],
   "source": [
    "## code here\n",
    "\n"
   ]
  },
  {
   "cell_type": "markdown",
   "id": "c029d2b2",
   "metadata": {},
   "source": [
    "One of these methods is \"json\".  Call this method.  What is the type of the returned object?"
   ]
  },
  {
   "cell_type": "code",
   "execution_count": null,
   "id": "7a63d68c",
   "metadata": {},
   "outputs": [],
   "source": [
    "## code here"
   ]
  },
  {
   "cell_type": "markdown",
   "id": "f8e36071",
   "metadata": {},
   "source": [
    "Create a pandas DataFrame called \"cats\" which has one row for each breed."
   ]
  },
  {
   "cell_type": "code",
   "execution_count": null,
   "id": "245d8e5c",
   "metadata": {},
   "outputs": [],
   "source": [
    "## code here"
   ]
  },
  {
   "cell_type": "markdown",
   "id": "4e9b5372",
   "metadata": {},
   "source": [
    "##### c.\n",
    "\n",
    "What is the type of the objects stored in the \"weight\" column?\n",
    "\n",
    "Create new columns called \"min (lbs)\" and \"max (lbs)\" which give the lower and upper bounds on the weight range for each breed in bounds.  Make sure to store these weights as floats (not strings)!\n",
    "\n",
    "Hint:  while there are probably many ways to accomplish this, one way involves creating a new DataFrame (which we could call cat_weights) using the list of dictionaries from cats[\"weights\"] and then [concatenating](https://pandas.pydata.org/docs/reference/api/pandas.concat.html) this with cats along the appropriate axis."
   ]
  },
  {
   "cell_type": "code",
   "execution_count": null,
   "id": "933b268c",
   "metadata": {},
   "outputs": [],
   "source": [
    "## code here"
   ]
  },
  {
   "cell_type": "code",
   "execution_count": null,
   "id": "5b038127",
   "metadata": {},
   "outputs": [],
   "source": [
    "## code here"
   ]
  },
  {
   "cell_type": "code",
   "execution_count": null,
   "id": "16dbcf74",
   "metadata": {},
   "outputs": [],
   "source": [
    "## code here"
   ]
  },
  {
   "cell_type": "markdown",
   "id": "b2d4d7e0",
   "metadata": {},
   "source": [
    "##### d. \n",
    "\n",
    "Now find the mean maximum weight of each cat breed by country of origin.  Sort these from smallest to largest.  What country originated the smallest cat breeds?  Which country originated the largest cat breeds?"
   ]
  },
  {
   "cell_type": "code",
   "execution_count": null,
   "id": "d056e70e",
   "metadata": {},
   "outputs": [],
   "source": [
    "## code here\n",
    "\n"
   ]
  },
  {
   "cell_type": "markdown",
   "id": "19e184ba",
   "metadata": {},
   "source": [
    "#### 4. Slightly more advanced `BeautifulSoup`\n",
    "\n",
    "This is a problem that will introduce a new scraping technique that you may need to use in your future quests for data.\n",
    "\n",
    "Your job is to scrape the player names and `BadPass` `LostBall` columns of the \"Play-by-Play\" table at this link, <a href=\"https://www.basketball-reference.com/teams/CHI/1998.html\">https://www.basketball-reference.com/teams/CHI/1998.html</a>.\n",
    "\n",
    "##### a.\n",
    "\n",
    "First go to this link and examine the table in question so you know what you want to scrape.\n",
    "\n",
    "##### b.\n",
    "\n",
    "Make a `BeautifulSoup` object of that link's source code."
   ]
  },
  {
   "cell_type": "code",
   "execution_count": null,
   "id": "669f97bc",
   "metadata": {},
   "outputs": [],
   "source": [
    "## code here\n"
   ]
  },
  {
   "cell_type": "markdown",
   "id": "8a235df8",
   "metadata": {},
   "source": [
    "##### c.\n",
    "\n",
    "Try to use the `find` function to get the code for the \"Play-by-Play\" table. What happens?"
   ]
  },
  {
   "cell_type": "code",
   "execution_count": null,
   "id": "c7594a00",
   "metadata": {},
   "outputs": [],
   "source": [
    "## code here\n",
    "\n"
   ]
  },
  {
   "cell_type": "markdown",
   "id": "a14828f1",
   "metadata": {},
   "source": [
    "##### d.\n",
    "\n",
    "`BeautifulSoup` is unable to find the specified table. This is because it is stored as an HTML comment. So we have to search the comments to get the table we want, this is because the table is stored in a comment within the source code.\n",
    "\n",
    "To do so we will use `bs4`'s `Comment` object. Try to follow what is found in this stack post, <a href=\"https://stackoverflow.com/questions/33138937/how-to-find-all-comments-with-beautiful-soup\">https://stackoverflow.com/questions/33138937/how-to-find-all-comments-with-beautiful-soup</a>."
   ]
  },
  {
   "cell_type": "code",
   "execution_count": null,
   "id": "71aebe8d",
   "metadata": {},
   "outputs": [],
   "source": [
    "## Import Comment\n",
    "from bs4 import Comment"
   ]
  },
  {
   "cell_type": "code",
   "execution_count": null,
   "id": "2842f0f3",
   "metadata": {},
   "outputs": [],
   "source": [
    "## code here \n",
    "\n"
   ]
  },
  {
   "cell_type": "code",
   "execution_count": null,
   "id": "256d4d65",
   "metadata": {},
   "outputs": [],
   "source": [
    "## code here \n",
    "\n"
   ]
  },
  {
   "cell_type": "code",
   "execution_count": null,
   "id": "4e9fdb54",
   "metadata": {},
   "outputs": [],
   "source": [
    "## code here \n",
    "\n"
   ]
  },
  {
   "cell_type": "markdown",
   "id": "736feb58",
   "metadata": {},
   "source": [
    "##### e.\n",
    "\n",
    "Once you have found the comment that contains the table we want you have to turn that comment into a `BeautifulSoup` object. Do so now."
   ]
  },
  {
   "cell_type": "code",
   "execution_count": null,
   "id": "ecc1e2b2",
   "metadata": {},
   "outputs": [],
   "source": [
    "## Get the table\n"
   ]
  },
  {
   "cell_type": "markdown",
   "id": "22ca9348",
   "metadata": {},
   "source": [
    "##### f.\n",
    "\n",
    "Now scrape the desired data and store it in a `pandas` `DataFrame`."
   ]
  },
  {
   "cell_type": "code",
   "execution_count": null,
   "id": "2e86a043",
   "metadata": {},
   "outputs": [],
   "source": [
    "## code here\n",
    "\n"
   ]
  },
  {
   "cell_type": "code",
   "execution_count": null,
   "id": "144a2b18",
   "metadata": {},
   "outputs": [],
   "source": [
    "## code here\n",
    "\n"
   ]
  },
  {
   "cell_type": "markdown",
   "id": "6307d89d",
   "metadata": {},
   "source": [
    "--------------------------\n",
    "\n",
    "This notebook was written for the Erd&#337;s Institute C&#337;de Data Science Boot Camp by Matthew Osborne, Ph. D., 2023. Modified by Steven Gubkin 2024.\n",
    "\n",
    "Any potential redistributors must seek and receive permission from Matthew Tyler Osborne, Ph.D. prior to redistribution. Redistribution of the material contained in this repository is conditional on acknowledgement of Matthew Tyler Osborne, Ph.D.'s original authorship and sponsorship of the Erdős Institute as subject to the license (see License.md)"
   ]
  }
 ],
 "metadata": {
  "kernelspec": {
   "display_name": "Python 3 (ipykernel)",
   "language": "python",
   "name": "python3"
  },
  "language_info": {
   "codemirror_mode": {
    "name": "ipython",
    "version": 3
   },
   "file_extension": ".py",
   "mimetype": "text/x-python",
   "name": "python",
   "nbconvert_exporter": "python",
   "pygments_lexer": "ipython3",
   "version": "3.9.16"
  }
 },
 "nbformat": 4,
 "nbformat_minor": 5
}
