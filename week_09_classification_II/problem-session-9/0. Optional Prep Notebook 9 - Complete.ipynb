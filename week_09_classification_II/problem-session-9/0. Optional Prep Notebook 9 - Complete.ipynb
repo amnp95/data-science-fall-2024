{
 "cells": [
  {
   "cell_type": "markdown",
   "id": "ae277e4a",
   "metadata": {},
   "source": [
    "# Prep Notebook 9\n",
    "## Classifying Pumpkin Seeds II\n",
    "\n",
    "This optional notebook has a few exercises that can serve as a primer for what to expect in the `Problem Session 9` notebook."
   ]
  },
  {
   "cell_type": "code",
   "execution_count": 1,
   "id": "788985ef",
   "metadata": {},
   "outputs": [],
   "source": [
    "import pandas as pd\n",
    "import numpy as np\n",
    "import matplotlib.pyplot as plt\n",
    "import seaborn as sns\n",
    "\n",
    "sns.set_style(\"whitegrid\")"
   ]
  },
  {
   "cell_type": "markdown",
   "id": "9f35a220",
   "metadata": {},
   "source": [
    "#### 1. Review problem session 8\n",
    "\n",
    "In `Problem Session 9` we will use what you did in `Problem Session 8`, review your group's work as well as the complete version."
   ]
  },
  {
   "cell_type": "markdown",
   "id": "0ad8600e",
   "metadata": {},
   "source": [
    "#### 2. Reading in an excel file\n",
    "\n",
    "- Read in `Pistachio_16_Features_Dataset.xlsx` from the `Data` folder using `pandas`. \n",
    "- Make a column `y` where `y=1` when `Class=\"Kirmizi_Pistachio\"` and `y=0` when `Class=\"Siit_Pistachio\"`\n",
    "- Do a train test split of the data setting $10\\%$ of the data aside for the test set and stratifying on the `Class` column."
   ]
  },
  {
   "cell_type": "markdown",
   "id": "8239cd90",
   "metadata": {},
   "source": [
    "##### Sample Solution"
   ]
  },
  {
   "cell_type": "code",
   "execution_count": 2,
   "id": "f30d208b",
   "metadata": {},
   "outputs": [],
   "source": [
    "from sklearn.model_selection import train_test_split"
   ]
  },
  {
   "cell_type": "code",
   "execution_count": 3,
   "id": "b0906ff2",
   "metadata": {},
   "outputs": [],
   "source": [
    "df = pd.read_excel(\"../../Data/Pistachio_16_Features_Dataset.xlsx\")\n",
    "df['y'] = 1\n",
    "df.loc[df.Class==\"Siit_Pistachio\", 'y'] = 0"
   ]
  },
  {
   "cell_type": "code",
   "execution_count": 4,
   "id": "a2b35eee",
   "metadata": {},
   "outputs": [
    {
     "data": {
      "text/plain": [
       "Kirmizi_Pistachio    1232\n",
       "Siit_Pistachio        916\n",
       "Name: Class, dtype: int64"
      ]
     },
     "execution_count": 4,
     "metadata": {},
     "output_type": "execute_result"
    }
   ],
   "source": [
    "df.Class.value_counts()"
   ]
  },
  {
   "cell_type": "code",
   "execution_count": 5,
   "id": "44811522",
   "metadata": {},
   "outputs": [],
   "source": [
    "train, test = train_test_split(df.copy(),\n",
    "                                  shuffle=True,\n",
    "                                  random_state=4039,\n",
    "                                  test_size=.1,\n",
    "                                  stratify=df.Class)"
   ]
  },
  {
   "cell_type": "markdown",
   "id": "bdf5d32b",
   "metadata": {},
   "source": [
    "#### 3. Scaling\n",
    "\n",
    "Scale the features of the training set using `StandardScaler`."
   ]
  },
  {
   "cell_type": "markdown",
   "id": "221cca46",
   "metadata": {},
   "source": [
    "##### Sample Solution"
   ]
  },
  {
   "cell_type": "code",
   "execution_count": 6,
   "id": "e360384f",
   "metadata": {},
   "outputs": [],
   "source": [
    "from sklearn.preprocessing import StandardScaler"
   ]
  },
  {
   "cell_type": "code",
   "execution_count": 7,
   "id": "5d8836f8",
   "metadata": {
    "scrolled": true
   },
   "outputs": [
    {
     "data": {
      "text/plain": [
       "array([[ 0.14657012, -0.5684032 ,  0.74183097, ..., -0.65094042,\n",
       "        -0.6168058 ,  0.25722269],\n",
       "       [ 0.3948376 , -0.6332065 ,  0.17654179, ..., -0.65094042,\n",
       "         0.31153307,  0.76838263],\n",
       "       [ 0.51858916,  0.09046442,  0.39741159, ..., -0.65094042,\n",
       "         0.20682144,  0.68512552],\n",
       "       ...,\n",
       "       [ 0.69653457,  2.55595018, -0.00837246, ...,  0.23808537,\n",
       "         0.93355137, -0.85997157],\n",
       "       [ 1.00350569, -0.5334506 ,  1.57201891, ..., -1.24362428,\n",
       "        -0.49333986,  0.68706173],\n",
       "       [-0.01111947, -0.60026551,  0.69325534, ..., -0.05825656,\n",
       "        -0.75433748, -1.01680473]])"
      ]
     },
     "execution_count": 7,
     "metadata": {},
     "output_type": "execute_result"
    }
   ],
   "source": [
    "features = train.columns[:-2]\n",
    "\n",
    "scale = StandardScaler()\n",
    "\n",
    "scale.fit(train[features])\n",
    "\n",
    "scale.transform(train[features])"
   ]
  },
  {
   "cell_type": "markdown",
   "id": "c4929dac",
   "metadata": {},
   "source": [
    "#### 4. Making a pipeline\n",
    "\n",
    "Make a pipeline that scales the data and then fits a $k$ nearest neighbor model on the data with $k=17$. Fit this model and calculate the training accuracy."
   ]
  },
  {
   "cell_type": "markdown",
   "id": "074e28fc",
   "metadata": {},
   "source": [
    "##### Sample Solution"
   ]
  },
  {
   "cell_type": "code",
   "execution_count": 8,
   "id": "d39b098b",
   "metadata": {},
   "outputs": [],
   "source": [
    "from sklearn.metrics import accuracy_score\n",
    "from sklearn.neighbors import KNeighborsClassifier\n",
    "from sklearn.pipeline import Pipeline"
   ]
  },
  {
   "cell_type": "code",
   "execution_count": 9,
   "id": "191d4024",
   "metadata": {},
   "outputs": [
    {
     "data": {
      "text/plain": [
       "0.8799793067770305"
      ]
     },
     "execution_count": 9,
     "metadata": {},
     "output_type": "execute_result"
    }
   ],
   "source": [
    "pipe = Pipeline([('scale', StandardScaler()),\n",
    "                    ('knn', KNeighborsClassifier(17))])\n",
    "\n",
    "pipe.fit(train[features],\n",
    "            train.y)\n",
    "\n",
    "pred = pipe.predict(train[features])\n",
    "\n",
    "accuracy_score(train.y, pred)"
   ]
  },
  {
   "cell_type": "markdown",
   "id": "c0b8a96a",
   "metadata": {},
   "source": [
    "#### 5. Another histogram\n",
    "\n",
    "Make a histogram of the `ECCENTRICITY` column colored by the class of the pistachio.\n",
    "\n",
    "<a href=\"https://matplotlib.org/stable/api/_as_gen/matplotlib.pyplot.hist.html\">https://matplotlib.org/stable/api/_as_gen/matplotlib.pyplot.hist.html</a>"
   ]
  },
  {
   "cell_type": "markdown",
   "id": "84d200e3",
   "metadata": {},
   "source": [
    "##### Sample Solution"
   ]
  },
  {
   "cell_type": "code",
   "execution_count": 10,
   "id": "e7cf3b81",
   "metadata": {},
   "outputs": [
    {
     "data": {
      "image/png": "[encoded data removed]",
      "text/plain": [
       "<Figure size 1000x600 with 1 Axes>"
      ]
     },
     "metadata": {},
     "output_type": "display_data"
    }
   ],
   "source": [
    "plt.figure(figsize=(10,6))\n",
    "\n",
    "plt.hist(train.loc[train.y==0].ECCENTRICITY,\n",
    "            color = 'blue',\n",
    "            label = \"$y=0$\")\n",
    "\n",
    "plt.hist(train.loc[train.y==1].ECCENTRICITY,\n",
    "            color = 'orange',\n",
    "            hatch = \"//\",\n",
    "            edgecolor = \"black\",\n",
    "            alpha = .5,\n",
    "            label = \"$y=1$\")\n",
    "\n",
    "plt.xlabel(\"ECCENTRICITY\", fontsize=16)\n",
    "plt.ylabel(\"Count\", fontsize=16)\n",
    "plt.legend(fontsize=14)\n",
    "\n",
    "plt.show()"
   ]
  },
  {
   "cell_type": "markdown",
   "id": "aee02047",
   "metadata": {},
   "source": [
    "--------------------------\n",
    "\n",
    "This notebook was written for the Erd&#337;s Institute C&#337;de Data Science Boot Camp by Matthew Osborne, Ph. D., 2023.\n",
    "\n",
    "Any potential redistributors must seek and receive permission from Matthew Tyler Osborne, Ph.D. prior to redistribution. Redistribution of the material contained in this repository is conditional on acknowledgement of Matthew Tyler Osborne, Ph.D.'s original authorship and sponsorship of the Erdős Institute as subject to the license (see License.md)"
   ]
  },
  {
   "cell_type": "code",
   "execution_count": null,
   "id": "d9569e87",
   "metadata": {},
   "outputs": [],
   "source": []
  },
  {
   "cell_type": "code",
   "execution_count": null,
   "id": "659e8798",
   "metadata": {},
   "outputs": [],
   "source": []
  }
 ],
 "metadata": {
  "kernelspec": {
   "display_name": "Python 3 (ipykernel)",
   "language": "python",
   "name": "python3"
  },
  "language_info": {
   "codemirror_mode": {
    "name": "ipython",
    "version": 3
   },
   "file_extension": ".py",
   "mimetype": "text/x-python",
   "name": "python",
   "nbconvert_exporter": "python",
   "pygments_lexer": "ipython3",
   "version": "3.9.16"
  }
 },
 "nbformat": 4,
 "nbformat_minor": 5
}
