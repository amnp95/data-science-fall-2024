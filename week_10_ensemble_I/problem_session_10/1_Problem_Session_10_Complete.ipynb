{
 "cells": [
  {
   "cell_type": "markdown",
   "id": "839dfb7b",
   "metadata": {},
   "source": [
    "# Problem Session 10\n",
    "## Classifying Pumpkin Seeds III:  Ensemble Learning\n",
    "\n",
    "In this notebook you will finish your work with the pumpkin seed data from <a href=\"https://link.springer.com/article/10.1007/s10722-021-01226-0\">The use of machine learning methods in classification of pumpkin seeds (Cucurbita pepo L.)</a> by Koklu, Sarigil and Ozbek (2021)."
   ]
  },
  {
   "cell_type": "code",
   "execution_count": 1,
   "id": "042b4fcb",
   "metadata": {},
   "outputs": [],
   "source": [
    "import pandas as pd\n",
    "import numpy as np\n",
    "import matplotlib.pyplot as plt\n",
    "import seaborn as sns\n",
    "\n",
    "sns.set_style(\"whitegrid\")"
   ]
  },
  {
   "cell_type": "markdown",
   "id": "86c831e6",
   "metadata": {},
   "source": [
    "#### 1. Load and prepare the data\n",
    "\n",
    "Run the code below in order to:\n",
    "\n",
    "- Load the data stored in `Pumpkin_Seeds_Dataset.xlsx` in the `Data` folder,\n",
    "- Create a column `y` where `y=1` if `Class=Ürgüp Sivrisi` and `y=0` if `Class=Çerçevelik` and\n",
    "- Make a train test split setting $10\\%$ of the data aside as a test set."
   ]
  },
  {
   "cell_type": "code",
   "execution_count": 2,
   "id": "4fdddd85",
   "metadata": {},
   "outputs": [],
   "source": [
    "seeds = pd.read_excel(\"../../Data/Pumpkin_Seeds_Dataset.xlsx\")\n",
    "\n",
    "seeds['y'] = 0\n",
    "\n",
    "seeds.loc[seeds.Class=='Ürgüp Sivrisi', 'y']=1"
   ]
  },
  {
   "cell_type": "code",
   "execution_count": 3,
   "id": "bbc88ce5",
   "metadata": {},
   "outputs": [],
   "source": [
    "from sklearn.model_selection import train_test_split"
   ]
  },
  {
   "cell_type": "code",
   "execution_count": 4,
   "id": "cec761d2",
   "metadata": {},
   "outputs": [],
   "source": [
    "seeds_train, seeds_test = train_test_split(seeds.copy(),\n",
    "                                              shuffle=True,\n",
    "                                              random_state=123,\n",
    "                                              test_size=.1,\n",
    "                                              stratify=seeds.y.values)"
   ]
  },
  {
   "cell_type": "markdown",
   "id": "9de0f4ca",
   "metadata": {},
   "source": [
    "#### 2. Refresh your memory\n",
    "\n",
    "If you need to refresh your memory on these data and the problem, you may want to look at a small subset of the data, look back on `Problem Session 8` and `Problem Session 9` and/or browse Figure 5 and Table 1 of this paper, <a href=\"pumpkin_seed_paper.pdf\">pumpkin_seed_paper.pdf</a>"
   ]
  },
  {
   "cell_type": "markdown",
   "id": "a97174a1",
   "metadata": {},
   "source": [
    "`C=20`, a bit under $89\\%$."
   ]
  },
  {
   "cell_type": "markdown",
   "id": "fb918cd7",
   "metadata": {},
   "source": [
    "#### 3. Tuning a random forest with `GridSearchCV`\n",
    "\n",
    "In this problem you will tune the `max_depth` and `n_estimators` hyperparameters of a random forest model. First you will use a `for` loop for the cross-validation. Then you will see how much easier your life could be with `GridSearchCV`.\n",
    "\n",
    "##### a. \n",
    "\n",
    "Import `sklearn`'s random forest model for classification."
   ]
  },
  {
   "cell_type": "markdown",
   "id": "1d1bc6ba",
   "metadata": {},
   "source": [
    "##### Sample Solution"
   ]
  },
  {
   "cell_type": "code",
   "execution_count": 5,
   "id": "7e274bc6",
   "metadata": {},
   "outputs": [],
   "source": [
    "from sklearn.ensemble import RandomForestClassifier"
   ]
  },
  {
   "cell_type": "markdown",
   "id": "99101f61",
   "metadata": {},
   "source": [
    "##### b.\n",
    "\n",
    "Fill in the code below to find the values of `max_depth` and `n_estimators` with the highest average cross-validation accuracy."
   ]
  },
  {
   "cell_type": "markdown",
   "id": "46bc7603",
   "metadata": {},
   "source": [
    "##### Sample Solution"
   ]
  },
  {
   "cell_type": "code",
   "execution_count": 6,
   "id": "ef709677",
   "metadata": {},
   "outputs": [],
   "source": [
    "## import kfold\n",
    "from sklearn.model_selection import StratifiedKFold\n",
    "\n",
    "## import Pipeline and StandardScaler\n",
    "from sklearn.pipeline import Pipeline\n",
    "from sklearn.preprocessing import StandardScaler\n",
    "\n",
    "## import accuracy_score\n",
    "from sklearn.metrics import accuracy_score"
   ]
  },
  {
   "cell_type": "code",
   "execution_count": 7,
   "id": "b6e4c151",
   "metadata": {},
   "outputs": [],
   "source": [
    "## this will isolate the feature columns\n",
    "features = seeds_train.columns[:-2]"
   ]
  },
  {
   "cell_type": "code",
   "execution_count": 8,
   "id": "3e215a34",
   "metadata": {},
   "outputs": [],
   "source": [
    "## set the number of CV folds\n",
    "n_splits = 5\n",
    "\n",
    "## Make the kfold object\n",
    "kfold = StratifiedKFold(n_splits, \n",
    "                        random_state=2013, \n",
    "                        shuffle=True)"
   ]
  },
  {
   "cell_type": "code",
   "execution_count": 9,
   "id": "c9f42f30",
   "metadata": {
    "scrolled": true
   },
   "outputs": [
    {
     "name": "stdout",
     "output_type": "stream",
     "text": [
      "0 0 0\n",
      "0 0 1\n",
      "0 1 0\n",
      "0 1 1\n",
      "0 2 0\n",
      "0 2 1\n",
      "0 3 0\n",
      "0 3 1\n",
      "0 4 0\n",
      "0 4 1\n",
      "0 5 0\n",
      "0 5 1\n",
      "0 6 0\n",
      "0 6 1\n",
      "0 7 0\n",
      "0 7 1\n",
      "0 8 0\n",
      "0 8 1\n",
      "0 9 0\n",
      "0 9 1\n",
      "1 0 0\n",
      "1 0 1\n",
      "1 1 0\n",
      "1 1 1\n",
      "1 2 0\n",
      "1 2 1\n",
      "1 3 0\n",
      "1 3 1\n",
      "1 4 0\n",
      "1 4 1\n",
      "1 5 0\n",
      "1 5 1\n",
      "1 6 0\n",
      "1 6 1\n",
      "1 7 0\n",
      "1 7 1\n",
      "1 8 0\n",
      "1 8 1\n",
      "1 9 0\n",
      "1 9 1\n",
      "2 0 0\n",
      "2 0 1\n",
      "2 1 0\n",
      "2 1 1\n",
      "2 2 0\n",
      "2 2 1\n",
      "2 3 0\n",
      "2 3 1\n",
      "2 4 0\n",
      "2 4 1\n",
      "2 5 0\n",
      "2 5 1\n",
      "2 6 0\n",
      "2 6 1\n",
      "2 7 0\n",
      "2 7 1\n",
      "2 8 0\n",
      "2 8 1\n",
      "2 9 0\n",
      "2 9 1\n",
      "3 0 0\n",
      "3 0 1\n",
      "3 1 0\n",
      "3 1 1\n",
      "3 2 0\n",
      "3 2 1\n",
      "3 3 0\n",
      "3 3 1\n",
      "3 4 0\n",
      "3 4 1\n",
      "3 5 0\n",
      "3 5 1\n",
      "3 6 0\n",
      "3 6 1\n",
      "3 7 0\n",
      "3 7 1\n",
      "3 8 0\n",
      "3 8 1\n",
      "3 9 0\n",
      "3 9 1\n",
      "4 0 0\n",
      "4 0 1\n",
      "4 1 0\n",
      "4 1 1\n",
      "4 2 0\n",
      "4 2 1\n",
      "4 3 0\n",
      "4 3 1\n",
      "4 4 0\n",
      "4 4 1\n",
      "4 5 0\n",
      "4 5 1\n",
      "4 6 0\n",
      "4 6 1\n",
      "4 7 0\n",
      "4 7 1\n",
      "4 8 0\n",
      "4 8 1\n",
      "4 9 0\n",
      "4 9 1\n"
     ]
    }
   ],
   "source": [
    "## note this will take about 2 minutes to run\n",
    "\n",
    "max_depths = range(1, 11)\n",
    "n_trees = [100, 500]\n",
    "\n",
    "rf_accs = np.zeros((n_splits, len(max_depths), len(n_trees)))\n",
    "\n",
    "\n",
    "i = 0\n",
    "for train_index, test_index in kfold.split(seeds_train, seeds_train.y):\n",
    "    seeds_tt = seeds_train.iloc[train_index]\n",
    "    seeds_ho = seeds_train.iloc[test_index]\n",
    "    \n",
    "    j = 0\n",
    "    for max_depth in max_depths:\n",
    "        k = 0\n",
    "        for n_estimators in n_trees:\n",
    "            print(i,j,k)\n",
    "            rf = RandomForestClassifier(n_estimators = n_estimators,\n",
    "                                           max_depth = max_depth,\n",
    "                                           max_samples = int(.8*len(seeds_tt)),\n",
    "                                           random_state = 403)\n",
    "            \n",
    "            rf.fit(seeds_tt[features], seeds_tt.y)\n",
    "            \n",
    "            pred = rf.predict(seeds_ho[features])\n",
    "            \n",
    "            rf_accs[i,j,k] = accuracy_score(seeds_ho.y,  pred)\n",
    "            k = k + 1\n",
    "        j = j + 1\n",
    "    i = i + 1"
   ]
  },
  {
   "cell_type": "code",
   "execution_count": 10,
   "id": "babd4060",
   "metadata": {},
   "outputs": [
    {
     "name": "stdout",
     "output_type": "stream",
     "text": [
      "9 500\n"
     ]
    }
   ],
   "source": [
    "max_index = np.unravel_index(np.argmax(np.mean(rf_accs, axis=0), axis=None), \n",
    "                                       np.mean(rf_accs, axis=0).shape)\n",
    "\n",
    "\n",
    "print(max_depths[max_index[0]],n_trees[max_index[1]])"
   ]
  },
  {
   "cell_type": "code",
   "execution_count": 11,
   "id": "4405664e",
   "metadata": {},
   "outputs": [
    {
     "data": {
      "text/plain": [
       "0.8924444444444445"
      ]
     },
     "execution_count": 11,
     "metadata": {},
     "output_type": "execute_result"
    }
   ],
   "source": [
    "np.mean(rf_accs, axis=0)[max_index]"
   ]
  },
  {
   "cell_type": "markdown",
   "id": "cf93e31e",
   "metadata": {},
   "source": [
    "##### c.\n",
    "\n",
    "In this problem you will learn about `GridSearchCV`, <a href=\"https://scikit-learn.org/stable/modules/generated/sklearn.model_selection.GridSearchCV.html\">https://scikit-learn.org/stable/modules/generated/sklearn.model_selection.GridSearchCV.html</a>, a handy class from `sklearn` that makes hyperparameter tuning through a grid search and cross-validation quicker to code up than writing out a series of `for` loops.\n",
    "\n",
    "\n",
    "Read through the code chunks below and fill in the missing code to run the same grid search cross-validation you did above with `GridSearchCV`."
   ]
  },
  {
   "cell_type": "markdown",
   "id": "4cc82002",
   "metadata": {},
   "source": [
    "##### Sample Solution"
   ]
  },
  {
   "cell_type": "code",
   "execution_count": 12,
   "id": "a150f896",
   "metadata": {},
   "outputs": [],
   "source": [
    "## first import GridSearchCV\n",
    "from sklearn.model_selection import GridSearchCV"
   ]
  },
  {
   "cell_type": "code",
   "execution_count": 13,
   "id": "3e82c25c",
   "metadata": {},
   "outputs": [
    {
     "data": {
      "text/html": [
       "<style>#sk-container-id-1 {color: black;}#sk-container-id-1 pre{padding: 0;}#sk-container-id-1 div.sk-toggleable {background-color: white;}#sk-container-id-1 label.sk-toggleable__label {cursor: pointer;display: block;width: 100%;margin-bottom: 0;padding: 0.3em;box-sizing: border-box;text-align: center;}#sk-container-id-1 label.sk-toggleable__label-arrow:before {content: \"▸\";float: left;margin-right: 0.25em;color: #696969;}#sk-container-id-1 label.sk-toggleable__label-arrow:hover:before {color: black;}#sk-container-id-1 div.sk-estimator:hover label.sk-toggleable__label-arrow:before {color: black;}#sk-container-id-1 div.sk-toggleable__content {max-height: 0;max-width: 0;overflow: hidden;text-align: left;background-color: #f0f8ff;}#sk-container-id-1 div.sk-toggleable__content pre {margin: 0.2em;color: black;border-radius: 0.25em;background-color: #f0f8ff;}#sk-container-id-1 input.sk-toggleable__control:checked~div.sk-toggleable__content {max-height: 200px;max-width: 100%;overflow: auto;}#sk-container-id-1 input.sk-toggleable__control:checked~label.sk-toggleable__label-arrow:before {content: \"▾\";}#sk-container-id-1 div.sk-estimator input.sk-toggleable__control:checked~label.sk-toggleable__label {background-color: #d4ebff;}#sk-container-id-1 div.sk-label input.sk-toggleable__control:checked~label.sk-toggleable__label {background-color: #d4ebff;}#sk-container-id-1 input.sk-hidden--visually {border: 0;clip: rect(1px 1px 1px 1px);clip: rect(1px, 1px, 1px, 1px);height: 1px;margin: -1px;overflow: hidden;padding: 0;position: absolute;width: 1px;}#sk-container-id-1 div.sk-estimator {font-family: monospace;background-color: #f0f8ff;border: 1px dotted black;border-radius: 0.25em;box-sizing: border-box;margin-bottom: 0.5em;}#sk-container-id-1 div.sk-estimator:hover {background-color: #d4ebff;}#sk-container-id-1 div.sk-parallel-item::after {content: \"\";width: 100%;border-bottom: 1px solid gray;flex-grow: 1;}#sk-container-id-1 div.sk-label:hover label.sk-toggleable__label {background-color: #d4ebff;}#sk-container-id-1 div.sk-serial::before {content: \"\";position: absolute;border-left: 1px solid gray;box-sizing: border-box;top: 0;bottom: 0;left: 50%;z-index: 0;}#sk-container-id-1 div.sk-serial {display: flex;flex-direction: column;align-items: center;background-color: white;padding-right: 0.2em;padding-left: 0.2em;position: relative;}#sk-container-id-1 div.sk-item {position: relative;z-index: 1;}#sk-container-id-1 div.sk-parallel {display: flex;align-items: stretch;justify-content: center;background-color: white;position: relative;}#sk-container-id-1 div.sk-item::before, #sk-container-id-1 div.sk-parallel-item::before {content: \"\";position: absolute;border-left: 1px solid gray;box-sizing: border-box;top: 0;bottom: 0;left: 50%;z-index: -1;}#sk-container-id-1 div.sk-parallel-item {display: flex;flex-direction: column;z-index: 1;position: relative;background-color: white;}#sk-container-id-1 div.sk-parallel-item:first-child::after {align-self: flex-end;width: 50%;}#sk-container-id-1 div.sk-parallel-item:last-child::after {align-self: flex-start;width: 50%;}#sk-container-id-1 div.sk-parallel-item:only-child::after {width: 0;}#sk-container-id-1 div.sk-dashed-wrapped {border: 1px dashed gray;margin: 0 0.4em 0.5em 0.4em;box-sizing: border-box;padding-bottom: 0.4em;background-color: white;}#sk-container-id-1 div.sk-label label {font-family: monospace;font-weight: bold;display: inline-block;line-height: 1.2em;}#sk-container-id-1 div.sk-label-container {text-align: center;}#sk-container-id-1 div.sk-container {/* jupyter's `normalize.less` sets `[hidden] { display: none; }` but bootstrap.min.css set `[hidden] { display: none !important; }` so we also need the `!important` here to be able to override the default hidden behavior on the sphinx rendered scikit-learn.org. See: https://github.com/scikit-learn/scikit-learn/issues/21755 */display: inline-block !important;position: relative;}#sk-container-id-1 div.sk-text-repr-fallback {display: none;}</style><div id=\"sk-container-id-1\" class=\"sk-top-container\"><div class=\"sk-text-repr-fallback\"><pre>GridSearchCV(cv=5, estimator=RandomForestClassifier(),\n",
       "             param_grid={&#x27;max_depth&#x27;: range(1, 11), &#x27;n_estimators&#x27;: [100, 500]},\n",
       "             scoring=&#x27;accuracy&#x27;)</pre><b>In a Jupyter environment, please rerun this cell to show the HTML representation or trust the notebook. <br />On GitHub, the HTML representation is unable to render, please try loading this page with nbviewer.org.</b></div><div class=\"sk-container\" hidden><div class=\"sk-item sk-dashed-wrapped\"><div class=\"sk-label-container\"><div class=\"sk-label sk-toggleable\"><input class=\"sk-toggleable__control sk-hidden--visually\" id=\"sk-estimator-id-1\" type=\"checkbox\" ><label for=\"sk-estimator-id-1\" class=\"sk-toggleable__label sk-toggleable__label-arrow\">GridSearchCV</label><div class=\"sk-toggleable__content\"><pre>GridSearchCV(cv=5, estimator=RandomForestClassifier(),\n",
       "             param_grid={&#x27;max_depth&#x27;: range(1, 11), &#x27;n_estimators&#x27;: [100, 500]},\n",
       "             scoring=&#x27;accuracy&#x27;)</pre></div></div></div><div class=\"sk-parallel\"><div class=\"sk-parallel-item\"><div class=\"sk-item\"><div class=\"sk-label-container\"><div class=\"sk-label sk-toggleable\"><input class=\"sk-toggleable__control sk-hidden--visually\" id=\"sk-estimator-id-2\" type=\"checkbox\" ><label for=\"sk-estimator-id-2\" class=\"sk-toggleable__label sk-toggleable__label-arrow\">estimator: RandomForestClassifier</label><div class=\"sk-toggleable__content\"><pre>RandomForestClassifier()</pre></div></div></div><div class=\"sk-serial\"><div class=\"sk-item\"><div class=\"sk-estimator sk-toggleable\"><input class=\"sk-toggleable__control sk-hidden--visually\" id=\"sk-estimator-id-3\" type=\"checkbox\" ><label for=\"sk-estimator-id-3\" class=\"sk-toggleable__label sk-toggleable__label-arrow\">RandomForestClassifier</label><div class=\"sk-toggleable__content\"><pre>RandomForestClassifier()</pre></div></div></div></div></div></div></div></div></div></div>"
      ],
      "text/plain": [
       "GridSearchCV(cv=5, estimator=RandomForestClassifier(),\n",
       "             param_grid={'max_depth': range(1, 11), 'n_estimators': [100, 500]},\n",
       "             scoring='accuracy')"
      ]
     },
     "execution_count": 13,
     "metadata": {},
     "output_type": "execute_result"
    }
   ],
   "source": [
    "## This will also take about two minutes\n",
    "grid_cv = GridSearchCV(RandomForestClassifier(), # first put the model object here\n",
    "                          param_grid = {'max_depth':max_depths, # place the grid values for max_depth and\n",
    "                                        'n_estimators':n_trees}, # and n_estimators here\n",
    "                          scoring = 'accuracy', # put the metric we are trying to optimize here as a string, \"accuracy\"\n",
    "                          cv = 5) # put the number of cv splits here\n",
    "\n",
    "## you fit it just like a model\n",
    "grid_cv.fit(seeds_train[features], seeds_train.y)"
   ]
  },
  {
   "cell_type": "markdown",
   "id": "256cff2a",
   "metadata": {},
   "source": [
    "Once a `GridSearchCV` is fit you are easily able to find what hyperparameter combinations were best, what the optimal score was as well as get access to the best model."
   ]
  },
  {
   "cell_type": "code",
   "execution_count": 14,
   "id": "917bc725",
   "metadata": {},
   "outputs": [
    {
     "data": {
      "text/plain": [
       "{'max_depth': 10, 'n_estimators': 500}"
      ]
     },
     "execution_count": 14,
     "metadata": {},
     "output_type": "execute_result"
    }
   ],
   "source": [
    "## You can find the hyperparameter grid point that\n",
    "## gave the best performance like so\n",
    "## .best_params_\n",
    "grid_cv.best_params_"
   ]
  },
  {
   "cell_type": "code",
   "execution_count": 15,
   "id": "bfe674ee",
   "metadata": {},
   "outputs": [
    {
     "data": {
      "text/plain": [
       "0.8933333333333333"
      ]
     },
     "execution_count": 15,
     "metadata": {},
     "output_type": "execute_result"
    }
   ],
   "source": [
    "## You can find the best score like so\n",
    "## .best_score_\n",
    "grid_cv.best_score_"
   ]
  },
  {
   "cell_type": "code",
   "execution_count": 16,
   "id": "32e56a04",
   "metadata": {},
   "outputs": [
    {
     "data": {
      "text/html": [
       "<style>#sk-container-id-2 {color: black;}#sk-container-id-2 pre{padding: 0;}#sk-container-id-2 div.sk-toggleable {background-color: white;}#sk-container-id-2 label.sk-toggleable__label {cursor: pointer;display: block;width: 100%;margin-bottom: 0;padding: 0.3em;box-sizing: border-box;text-align: center;}#sk-container-id-2 label.sk-toggleable__label-arrow:before {content: \"▸\";float: left;margin-right: 0.25em;color: #696969;}#sk-container-id-2 label.sk-toggleable__label-arrow:hover:before {color: black;}#sk-container-id-2 div.sk-estimator:hover label.sk-toggleable__label-arrow:before {color: black;}#sk-container-id-2 div.sk-toggleable__content {max-height: 0;max-width: 0;overflow: hidden;text-align: left;background-color: #f0f8ff;}#sk-container-id-2 div.sk-toggleable__content pre {margin: 0.2em;color: black;border-radius: 0.25em;background-color: #f0f8ff;}#sk-container-id-2 input.sk-toggleable__control:checked~div.sk-toggleable__content {max-height: 200px;max-width: 100%;overflow: auto;}#sk-container-id-2 input.sk-toggleable__control:checked~label.sk-toggleable__label-arrow:before {content: \"▾\";}#sk-container-id-2 div.sk-estimator input.sk-toggleable__control:checked~label.sk-toggleable__label {background-color: #d4ebff;}#sk-container-id-2 div.sk-label input.sk-toggleable__control:checked~label.sk-toggleable__label {background-color: #d4ebff;}#sk-container-id-2 input.sk-hidden--visually {border: 0;clip: rect(1px 1px 1px 1px);clip: rect(1px, 1px, 1px, 1px);height: 1px;margin: -1px;overflow: hidden;padding: 0;position: absolute;width: 1px;}#sk-container-id-2 div.sk-estimator {font-family: monospace;background-color: #f0f8ff;border: 1px dotted black;border-radius: 0.25em;box-sizing: border-box;margin-bottom: 0.5em;}#sk-container-id-2 div.sk-estimator:hover {background-color: #d4ebff;}#sk-container-id-2 div.sk-parallel-item::after {content: \"\";width: 100%;border-bottom: 1px solid gray;flex-grow: 1;}#sk-container-id-2 div.sk-label:hover label.sk-toggleable__label {background-color: #d4ebff;}#sk-container-id-2 div.sk-serial::before {content: \"\";position: absolute;border-left: 1px solid gray;box-sizing: border-box;top: 0;bottom: 0;left: 50%;z-index: 0;}#sk-container-id-2 div.sk-serial {display: flex;flex-direction: column;align-items: center;background-color: white;padding-right: 0.2em;padding-left: 0.2em;position: relative;}#sk-container-id-2 div.sk-item {position: relative;z-index: 1;}#sk-container-id-2 div.sk-parallel {display: flex;align-items: stretch;justify-content: center;background-color: white;position: relative;}#sk-container-id-2 div.sk-item::before, #sk-container-id-2 div.sk-parallel-item::before {content: \"\";position: absolute;border-left: 1px solid gray;box-sizing: border-box;top: 0;bottom: 0;left: 50%;z-index: -1;}#sk-container-id-2 div.sk-parallel-item {display: flex;flex-direction: column;z-index: 1;position: relative;background-color: white;}#sk-container-id-2 div.sk-parallel-item:first-child::after {align-self: flex-end;width: 50%;}#sk-container-id-2 div.sk-parallel-item:last-child::after {align-self: flex-start;width: 50%;}#sk-container-id-2 div.sk-parallel-item:only-child::after {width: 0;}#sk-container-id-2 div.sk-dashed-wrapped {border: 1px dashed gray;margin: 0 0.4em 0.5em 0.4em;box-sizing: border-box;padding-bottom: 0.4em;background-color: white;}#sk-container-id-2 div.sk-label label {font-family: monospace;font-weight: bold;display: inline-block;line-height: 1.2em;}#sk-container-id-2 div.sk-label-container {text-align: center;}#sk-container-id-2 div.sk-container {/* jupyter's `normalize.less` sets `[hidden] { display: none; }` but bootstrap.min.css set `[hidden] { display: none !important; }` so we also need the `!important` here to be able to override the default hidden behavior on the sphinx rendered scikit-learn.org. See: https://github.com/scikit-learn/scikit-learn/issues/21755 */display: inline-block !important;position: relative;}#sk-container-id-2 div.sk-text-repr-fallback {display: none;}</style><div id=\"sk-container-id-2\" class=\"sk-top-container\"><div class=\"sk-text-repr-fallback\"><pre>RandomForestClassifier(max_depth=10, n_estimators=500)</pre><b>In a Jupyter environment, please rerun this cell to show the HTML representation or trust the notebook. <br />On GitHub, the HTML representation is unable to render, please try loading this page with nbviewer.org.</b></div><div class=\"sk-container\" hidden><div class=\"sk-item\"><div class=\"sk-estimator sk-toggleable\"><input class=\"sk-toggleable__control sk-hidden--visually\" id=\"sk-estimator-id-4\" type=\"checkbox\" checked><label for=\"sk-estimator-id-4\" class=\"sk-toggleable__label sk-toggleable__label-arrow\">RandomForestClassifier</label><div class=\"sk-toggleable__content\"><pre>RandomForestClassifier(max_depth=10, n_estimators=500)</pre></div></div></div></div></div>"
      ],
      "text/plain": [
       "RandomForestClassifier(max_depth=10, n_estimators=500)"
      ]
     },
     "execution_count": 16,
     "metadata": {},
     "output_type": "execute_result"
    }
   ],
   "source": [
    "## Calling best_estimator_ returns the model with the \n",
    "## best avg cv performance after it has been refit on the\n",
    "## entire data set\n",
    "grid_cv.best_estimator_"
   ]
  },
  {
   "cell_type": "markdown",
   "id": "998b3261",
   "metadata": {},
   "source": [
    "The `best_estimator_` is a model with the optimal hyperparameters that has been fit on the entire training set. Try and predict the pumpkin seed class on the training set with the `best_estimator_` below."
   ]
  },
  {
   "cell_type": "code",
   "execution_count": 17,
   "id": "7eee5234",
   "metadata": {},
   "outputs": [
    {
     "data": {
      "text/plain": [
       "array([0, 1, 1, ..., 0, 1, 0])"
      ]
     },
     "execution_count": 17,
     "metadata": {},
     "output_type": "execute_result"
    }
   ],
   "source": [
    "grid_cv.best_estimator_.predict(seeds_train[features])"
   ]
  },
  {
   "cell_type": "markdown",
   "id": "20b19398",
   "metadata": {},
   "source": [
    "If you want to look at all of the results, you can do that as well with `.cv_results`. Try that below."
   ]
  },
  {
   "cell_type": "code",
   "execution_count": 18,
   "id": "741942d2",
   "metadata": {},
   "outputs": [
    {
     "data": {
      "text/plain": [
       "{'mean_fit_time': array([0.0560782 , 0.26416121, 0.07314363, 0.36555667, 0.09736295,\n",
       "        0.46733723, 0.11305366, 0.56173539, 0.13054786, 0.64812379,\n",
       "        0.1434937 , 0.73052917, 0.16864858, 0.79994445, 0.16937399,\n",
       "        0.85337906, 0.18166289, 0.89137568, 0.19660411, 0.93134222]),\n",
       " 'std_fit_time': array([0.00238646, 0.00052851, 0.00024437, 0.00555432, 0.00022649,\n",
       "        0.00039053, 0.00100042, 0.00459884, 0.00039933, 0.01265075,\n",
       "        0.00326833, 0.01576784, 0.01222119, 0.00896888, 0.0034818 ,\n",
       "        0.01486816, 0.00755567, 0.02073201, 0.0085036 , 0.0199403 ]),\n",
       " 'mean_score_time': array([0.00290575, 0.01149626, 0.00292664, 0.01265416, 0.0032166 ,\n",
       "        0.01412101, 0.00345984, 0.01526675, 0.00368543, 0.01646886,\n",
       "        0.00390592, 0.01791344, 0.00457168, 0.01854954, 0.00426073,\n",
       "        0.01969166, 0.0044364 , 0.0200151 , 0.00477052, 0.02033296]),\n",
       " 'std_score_time': array([1.76124153e-04, 1.50965876e-04, 6.09517272e-05, 2.30143250e-04,\n",
       "        2.74608528e-05, 1.44076282e-04, 9.76532464e-05, 1.83591322e-04,\n",
       "        6.27365137e-05, 4.25511606e-04, 5.30071797e-05, 7.64978093e-04,\n",
       "        5.47306391e-04, 7.89535882e-04, 1.63063765e-04, 1.61081027e-04,\n",
       "        1.30909439e-04, 4.51768383e-04, 1.20596444e-04, 2.51759390e-04]),\n",
       " 'param_max_depth': masked_array(data=[1, 1, 2, 2, 3, 3, 4, 4, 5, 5, 6, 6, 7, 7, 8, 8, 9, 9,\n",
       "                    10, 10],\n",
       "              mask=[False, False, False, False, False, False, False, False,\n",
       "                    False, False, False, False, False, False, False, False,\n",
       "                    False, False, False, False],\n",
       "        fill_value='?',\n",
       "             dtype=object),\n",
       " 'param_n_estimators': masked_array(data=[100, 500, 100, 500, 100, 500, 100, 500, 100, 500, 100,\n",
       "                    500, 100, 500, 100, 500, 100, 500, 100, 500],\n",
       "              mask=[False, False, False, False, False, False, False, False,\n",
       "                    False, False, False, False, False, False, False, False,\n",
       "                    False, False, False, False],\n",
       "        fill_value='?',\n",
       "             dtype=object),\n",
       " 'params': [{'max_depth': 1, 'n_estimators': 100},\n",
       "  {'max_depth': 1, 'n_estimators': 500},\n",
       "  {'max_depth': 2, 'n_estimators': 100},\n",
       "  {'max_depth': 2, 'n_estimators': 500},\n",
       "  {'max_depth': 3, 'n_estimators': 100},\n",
       "  {'max_depth': 3, 'n_estimators': 500},\n",
       "  {'max_depth': 4, 'n_estimators': 100},\n",
       "  {'max_depth': 4, 'n_estimators': 500},\n",
       "  {'max_depth': 5, 'n_estimators': 100},\n",
       "  {'max_depth': 5, 'n_estimators': 500},\n",
       "  {'max_depth': 6, 'n_estimators': 100},\n",
       "  {'max_depth': 6, 'n_estimators': 500},\n",
       "  {'max_depth': 7, 'n_estimators': 100},\n",
       "  {'max_depth': 7, 'n_estimators': 500},\n",
       "  {'max_depth': 8, 'n_estimators': 100},\n",
       "  {'max_depth': 8, 'n_estimators': 500},\n",
       "  {'max_depth': 9, 'n_estimators': 100},\n",
       "  {'max_depth': 9, 'n_estimators': 500},\n",
       "  {'max_depth': 10, 'n_estimators': 100},\n",
       "  {'max_depth': 10, 'n_estimators': 500}],\n",
       " 'split0_test_score': array([0.88444444, 0.88444444, 0.88666667, 0.88888889, 0.89333333,\n",
       "        0.89777778, 0.9       , 0.89777778, 0.9       , 0.89333333,\n",
       "        0.88888889, 0.88666667, 0.89333333, 0.89111111, 0.89555556,\n",
       "        0.89111111, 0.89333333, 0.89333333, 0.88888889, 0.89555556]),\n",
       " 'split1_test_score': array([0.85555556, 0.85555556, 0.85555556, 0.86      , 0.86888889,\n",
       "        0.87111111, 0.88      , 0.87777778, 0.88      , 0.88222222,\n",
       "        0.88      , 0.88222222, 0.88      , 0.88222222, 0.88      ,\n",
       "        0.87777778, 0.87555556, 0.87777778, 0.87777778, 0.88      ]),\n",
       " 'split2_test_score': array([0.86      , 0.86222222, 0.86444444, 0.86444444, 0.87333333,\n",
       "        0.88      , 0.88      , 0.88222222, 0.89111111, 0.89333333,\n",
       "        0.9       , 0.89555556, 0.91111111, 0.90666667, 0.90444444,\n",
       "        0.90666667, 0.90222222, 0.91111111, 0.90222222, 0.90888889]),\n",
       " 'split3_test_score': array([0.84888889, 0.84666667, 0.85111111, 0.85111111, 0.85111111,\n",
       "        0.86      , 0.86222222, 0.86444444, 0.87111111, 0.87111111,\n",
       "        0.88222222, 0.88      , 0.87333333, 0.88      , 0.88222222,\n",
       "        0.87777778, 0.88222222, 0.88222222, 0.87777778, 0.88      ]),\n",
       " 'split4_test_score': array([0.85555556, 0.85555556, 0.85777778, 0.85777778, 0.85777778,\n",
       "        0.86      , 0.86888889, 0.87111111, 0.88444444, 0.88666667,\n",
       "        0.89111111, 0.89555556, 0.89777778, 0.89777778, 0.89777778,\n",
       "        0.89777778, 0.90222222, 0.9       , 0.90444444, 0.90222222]),\n",
       " 'mean_test_score': array([0.86088889, 0.86088889, 0.86311111, 0.86444444, 0.86888889,\n",
       "        0.87377778, 0.87822222, 0.87866667, 0.88533333, 0.88533333,\n",
       "        0.88844444, 0.888     , 0.89111111, 0.89155556, 0.892     ,\n",
       "        0.89022222, 0.89111111, 0.89288889, 0.89022222, 0.89333333]),\n",
       " 'std_test_score': array([0.01230076, 0.01277343, 0.01253932, 0.01295767, 0.01453816,\n",
       "        0.01415261, 0.01283514, 0.01129624, 0.00979796, 0.00826714,\n",
       "        0.00708328, 0.00653197, 0.01333333, 0.00987827, 0.00938609,\n",
       "        0.01129624, 0.01070364, 0.01204108, 0.01146977, 0.0116746 ]),\n",
       " 'rank_test_score': array([19, 19, 18, 17, 16, 15, 14, 13, 11, 12,  9, 10,  5,  4,  3,  7,  5,\n",
       "         2,  7,  1], dtype=int32)}"
      ]
     },
     "execution_count": 18,
     "metadata": {},
     "output_type": "execute_result"
    }
   ],
   "source": [
    "## You can get all of the results with cv_results_\n",
    "grid_cv.cv_results_"
   ]
  },
  {
   "cell_type": "markdown",
   "id": "fb88d266",
   "metadata": {},
   "source": [
    "##### d.\n",
    "\n",
    "Using either the `best_estimator_` fitted model or a refitted model according to your results from the `for` loop cross-validation find the feature importance scores. Try and refer back to your notes from `Problem Session 8`, how do the scores compare to your initial EDA?"
   ]
  },
  {
   "cell_type": "markdown",
   "id": "8c7a7154",
   "metadata": {},
   "source": [
    "##### Sample Solution"
   ]
  },
  {
   "cell_type": "code",
   "execution_count": 19,
   "id": "bbe4005c",
   "metadata": {},
   "outputs": [
    {
     "data": {
      "text/html": [
       "<div>\n",
       "<style scoped>\n",
       "    .dataframe tbody tr th:only-of-type {\n",
       "        vertical-align: middle;\n",
       "    }\n",
       "\n",
       "    .dataframe tbody tr th {\n",
       "        vertical-align: top;\n",
       "    }\n",
       "\n",
       "    .dataframe thead th {\n",
       "        text-align: right;\n",
       "    }\n",
       "</style>\n",
       "<table border=\"1\" class=\"dataframe\">\n",
       "  <thead>\n",
       "    <tr style=\"text-align: right;\">\n",
       "      <th></th>\n",
       "      <th>feature_importance_score</th>\n",
       "    </tr>\n",
       "  </thead>\n",
       "  <tbody>\n",
       "    <tr>\n",
       "      <th>Aspect_Ration</th>\n",
       "      <td>0.221758</td>\n",
       "    </tr>\n",
       "    <tr>\n",
       "      <th>Eccentricity</th>\n",
       "      <td>0.184379</td>\n",
       "    </tr>\n",
       "    <tr>\n",
       "      <th>Compactness</th>\n",
       "      <td>0.181197</td>\n",
       "    </tr>\n",
       "    <tr>\n",
       "      <th>Roundness</th>\n",
       "      <td>0.106093</td>\n",
       "    </tr>\n",
       "    <tr>\n",
       "      <th>Major_Axis_Length</th>\n",
       "      <td>0.074367</td>\n",
       "    </tr>\n",
       "    <tr>\n",
       "      <th>Minor_Axis_Length</th>\n",
       "      <td>0.049387</td>\n",
       "    </tr>\n",
       "    <tr>\n",
       "      <th>Solidity</th>\n",
       "      <td>0.047371</td>\n",
       "    </tr>\n",
       "    <tr>\n",
       "      <th>Perimeter</th>\n",
       "      <td>0.032563</td>\n",
       "    </tr>\n",
       "    <tr>\n",
       "      <th>Extent</th>\n",
       "      <td>0.030083</td>\n",
       "    </tr>\n",
       "    <tr>\n",
       "      <th>Area</th>\n",
       "      <td>0.025067</td>\n",
       "    </tr>\n",
       "    <tr>\n",
       "      <th>Equiv_Diameter</th>\n",
       "      <td>0.024456</td>\n",
       "    </tr>\n",
       "    <tr>\n",
       "      <th>Convex_Area</th>\n",
       "      <td>0.023278</td>\n",
       "    </tr>\n",
       "  </tbody>\n",
       "</table>\n",
       "</div>"
      ],
      "text/plain": [
       "                   feature_importance_score\n",
       "Aspect_Ration                      0.221758\n",
       "Eccentricity                       0.184379\n",
       "Compactness                        0.181197\n",
       "Roundness                          0.106093\n",
       "Major_Axis_Length                  0.074367\n",
       "Minor_Axis_Length                  0.049387\n",
       "Solidity                           0.047371\n",
       "Perimeter                          0.032563\n",
       "Extent                             0.030083\n",
       "Area                               0.025067\n",
       "Equiv_Diameter                     0.024456\n",
       "Convex_Area                        0.023278"
      ]
     },
     "execution_count": 19,
     "metadata": {},
     "output_type": "execute_result"
    }
   ],
   "source": [
    "pd.DataFrame({'feature_importance_score':grid_cv.best_estimator_.feature_importances_},\n",
    "                 index=features).sort_values('feature_importance_score',\n",
    "                                                ascending=False)"
   ]
  },
  {
   "cell_type": "markdown",
   "id": "b0a083e7",
   "metadata": {},
   "source": [
    "Copying from `Problem Session 8` EDA notes I thought these features separated the data the most, in no particular order:\n",
    "\n",
    "- `Major_Axis_Length`\n",
    "- `Eccentricity`\n",
    "- `Roundness`\n",
    "- `Aspect_Ration`\n",
    "- `Compactness`\n",
    "\n",
    "These happen to be the features with the highest feature importance scores from the random forest model."
   ]
  },
  {
   "cell_type": "markdown",
   "id": "a8e201bb",
   "metadata": {},
   "source": [
    "##### 5. Selecting a final model\n",
    "\n",
    "##### a.\n",
    "\n",
    "Refer back to your work in `Problem Session 8` and `Problem Session 9`, across all three of the Pumpkin Seed classification notebooks, which model had the best average CV accuracy?"
   ]
  },
  {
   "cell_type": "markdown",
   "id": "830581f1",
   "metadata": {},
   "source": [
    "##### Sample Solution\n",
    "\n",
    "For me it was the random forest model found by `GridSearchCV`."
   ]
  },
  {
   "cell_type": "markdown",
   "id": "d9107606",
   "metadata": {},
   "source": [
    "##### b.\n",
    "\n",
    "Retrain the best model on the entire training set."
   ]
  },
  {
   "cell_type": "markdown",
   "id": "8b2a1ad1",
   "metadata": {},
   "source": [
    "##### Sample Solution"
   ]
  },
  {
   "cell_type": "code",
   "execution_count": 20,
   "id": "26fb7099",
   "metadata": {},
   "outputs": [
    {
     "data": {
      "text/html": [
       "<style>#sk-container-id-3 {color: black;}#sk-container-id-3 pre{padding: 0;}#sk-container-id-3 div.sk-toggleable {background-color: white;}#sk-container-id-3 label.sk-toggleable__label {cursor: pointer;display: block;width: 100%;margin-bottom: 0;padding: 0.3em;box-sizing: border-box;text-align: center;}#sk-container-id-3 label.sk-toggleable__label-arrow:before {content: \"▸\";float: left;margin-right: 0.25em;color: #696969;}#sk-container-id-3 label.sk-toggleable__label-arrow:hover:before {color: black;}#sk-container-id-3 div.sk-estimator:hover label.sk-toggleable__label-arrow:before {color: black;}#sk-container-id-3 div.sk-toggleable__content {max-height: 0;max-width: 0;overflow: hidden;text-align: left;background-color: #f0f8ff;}#sk-container-id-3 div.sk-toggleable__content pre {margin: 0.2em;color: black;border-radius: 0.25em;background-color: #f0f8ff;}#sk-container-id-3 input.sk-toggleable__control:checked~div.sk-toggleable__content {max-height: 200px;max-width: 100%;overflow: auto;}#sk-container-id-3 input.sk-toggleable__control:checked~label.sk-toggleable__label-arrow:before {content: \"▾\";}#sk-container-id-3 div.sk-estimator input.sk-toggleable__control:checked~label.sk-toggleable__label {background-color: #d4ebff;}#sk-container-id-3 div.sk-label input.sk-toggleable__control:checked~label.sk-toggleable__label {background-color: #d4ebff;}#sk-container-id-3 input.sk-hidden--visually {border: 0;clip: rect(1px 1px 1px 1px);clip: rect(1px, 1px, 1px, 1px);height: 1px;margin: -1px;overflow: hidden;padding: 0;position: absolute;width: 1px;}#sk-container-id-3 div.sk-estimator {font-family: monospace;background-color: #f0f8ff;border: 1px dotted black;border-radius: 0.25em;box-sizing: border-box;margin-bottom: 0.5em;}#sk-container-id-3 div.sk-estimator:hover {background-color: #d4ebff;}#sk-container-id-3 div.sk-parallel-item::after {content: \"\";width: 100%;border-bottom: 1px solid gray;flex-grow: 1;}#sk-container-id-3 div.sk-label:hover label.sk-toggleable__label {background-color: #d4ebff;}#sk-container-id-3 div.sk-serial::before {content: \"\";position: absolute;border-left: 1px solid gray;box-sizing: border-box;top: 0;bottom: 0;left: 50%;z-index: 0;}#sk-container-id-3 div.sk-serial {display: flex;flex-direction: column;align-items: center;background-color: white;padding-right: 0.2em;padding-left: 0.2em;position: relative;}#sk-container-id-3 div.sk-item {position: relative;z-index: 1;}#sk-container-id-3 div.sk-parallel {display: flex;align-items: stretch;justify-content: center;background-color: white;position: relative;}#sk-container-id-3 div.sk-item::before, #sk-container-id-3 div.sk-parallel-item::before {content: \"\";position: absolute;border-left: 1px solid gray;box-sizing: border-box;top: 0;bottom: 0;left: 50%;z-index: -1;}#sk-container-id-3 div.sk-parallel-item {display: flex;flex-direction: column;z-index: 1;position: relative;background-color: white;}#sk-container-id-3 div.sk-parallel-item:first-child::after {align-self: flex-end;width: 50%;}#sk-container-id-3 div.sk-parallel-item:last-child::after {align-self: flex-start;width: 50%;}#sk-container-id-3 div.sk-parallel-item:only-child::after {width: 0;}#sk-container-id-3 div.sk-dashed-wrapped {border: 1px dashed gray;margin: 0 0.4em 0.5em 0.4em;box-sizing: border-box;padding-bottom: 0.4em;background-color: white;}#sk-container-id-3 div.sk-label label {font-family: monospace;font-weight: bold;display: inline-block;line-height: 1.2em;}#sk-container-id-3 div.sk-label-container {text-align: center;}#sk-container-id-3 div.sk-container {/* jupyter's `normalize.less` sets `[hidden] { display: none; }` but bootstrap.min.css set `[hidden] { display: none !important; }` so we also need the `!important` here to be able to override the default hidden behavior on the sphinx rendered scikit-learn.org. See: https://github.com/scikit-learn/scikit-learn/issues/21755 */display: inline-block !important;position: relative;}#sk-container-id-3 div.sk-text-repr-fallback {display: none;}</style><div id=\"sk-container-id-3\" class=\"sk-top-container\"><div class=\"sk-text-repr-fallback\"><pre>RandomForestClassifier(max_depth=10, n_estimators=500)</pre><b>In a Jupyter environment, please rerun this cell to show the HTML representation or trust the notebook. <br />On GitHub, the HTML representation is unable to render, please try loading this page with nbviewer.org.</b></div><div class=\"sk-container\" hidden><div class=\"sk-item\"><div class=\"sk-estimator sk-toggleable\"><input class=\"sk-toggleable__control sk-hidden--visually\" id=\"sk-estimator-id-5\" type=\"checkbox\" checked><label for=\"sk-estimator-id-5\" class=\"sk-toggleable__label sk-toggleable__label-arrow\">RandomForestClassifier</label><div class=\"sk-toggleable__content\"><pre>RandomForestClassifier(max_depth=10, n_estimators=500)</pre></div></div></div></div></div>"
      ],
      "text/plain": [
       "RandomForestClassifier(max_depth=10, n_estimators=500)"
      ]
     },
     "execution_count": 20,
     "metadata": {},
     "output_type": "execute_result"
    }
   ],
   "source": [
    "model = grid_cv.best_estimator_\n",
    "\n",
    "model.fit(seeds_train[features], seeds_train.y)"
   ]
  },
  {
   "cell_type": "markdown",
   "id": "052f375e",
   "metadata": {},
   "source": [
    "##### c.\n",
    "\n",
    "Find the training and test accuracies for this model. Does there appear to be overfitting?"
   ]
  },
  {
   "cell_type": "markdown",
   "id": "3dd4fb23",
   "metadata": {},
   "source": [
    "##### Sample Solution"
   ]
  },
  {
   "cell_type": "code",
   "execution_count": 21,
   "id": "7bf56602",
   "metadata": {},
   "outputs": [
    {
     "data": {
      "text/plain": [
       "0.9653333333333334"
      ]
     },
     "execution_count": 21,
     "metadata": {},
     "output_type": "execute_result"
    }
   ],
   "source": [
    "accuracy_score(model.predict(seeds_train[features]), seeds_train.y)"
   ]
  },
  {
   "cell_type": "code",
   "execution_count": 22,
   "id": "9fec8a4a",
   "metadata": {},
   "outputs": [
    {
     "data": {
      "text/plain": [
       "0.872"
      ]
     },
     "execution_count": 22,
     "metadata": {},
     "output_type": "execute_result"
    }
   ],
   "source": [
    "accuracy_score(model.predict(seeds_test[features]), seeds_test.y)"
   ]
  },
  {
   "cell_type": "markdown",
   "id": "aa38222d",
   "metadata": {},
   "source": [
    "There is some overfitting yes, but this was still the model with the best average CV score and the test accuracy is comparable to that average."
   ]
  },
  {
   "cell_type": "markdown",
   "id": "b51c5eb3",
   "metadata": {},
   "source": [
    "--------------------------\n",
    "\n",
    "This notebook was written for the Erd&#337;s Institute C&#337;de Data Science Boot Camp by Matthew Osborne, Ph. D., 2023.\n",
    "\n",
    "Any potential redistributors must seek and receive permission from Matthew Tyler Osborne, Ph.D. prior to redistribution. Redistribution of the material contained in this repository is conditional on acknowledgement of Matthew Tyler Osborne, Ph.D.'s original authorship and sponsorship of the Erdős Institute as subject to the license (see License.md)"
   ]
  }
 ],
 "metadata": {
  "kernelspec": {
   "display_name": "Python 3 (ipykernel)",
   "language": "python",
   "name": "python3"
  },
  "language_info": {
   "codemirror_mode": {
    "name": "ipython",
    "version": 3
   },
   "file_extension": ".py",
   "mimetype": "text/x-python",
   "name": "python",
   "nbconvert_exporter": "python",
   "pygments_lexer": "ipython3",
   "version": "3.11.5"
  }
 },
 "nbformat": 4,
 "nbformat_minor": 5
}
