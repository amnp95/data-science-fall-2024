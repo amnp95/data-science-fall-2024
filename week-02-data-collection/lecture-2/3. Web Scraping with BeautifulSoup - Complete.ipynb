{
 "cells": [
  {
   "cell_type": "markdown",
   "id": "bfacfff1",
   "metadata": {},
   "source": [
    "# Web Scraping with BeautifulSoup\n",
    "\n",
    "Sometimes there may not be an easily accessible data set for your project. However, there may be data that exists on the web which you can scrape. One way to do this in python is to use `BeautifulSoup`.\n",
    "\n",
    "## What we will accomplish in this notebook\n",
    "\n",
    "In this notebook we will:\n",
    "- Discuss the structure of HTML code,\n",
    "- Introduce the `bs4` pacakge,\n",
    "- Parse simple HTML code with `BeautifulSoup`,\n",
    "- Review how to request the HTML code from a url,\n",
    "- Scrape data from an actual webpage and\n",
    "- Touch on some of the issues that may arise when web scraping."
   ]
  },
  {
   "cell_type": "code",
   "execution_count": 1,
   "id": "782f4760",
   "metadata": {},
   "outputs": [],
   "source": [
    "## Import base packages we'll use\n",
    "import pandas as pd\n",
    "import numpy as np\n",
    "import matplotlib.pyplot as plt\n",
    "\n",
    "from seaborn import set_style\n",
    "set_style(\"whitegrid\")"
   ]
  },
  {
   "cell_type": "markdown",
   "id": "75f9779c",
   "metadata": {},
   "source": [
    "## Scraping data with `BeautifulSoup`\n",
    "\n",
    "### Importing `BeautifulSoup`\n",
    "\n",
    "In order to use `BeautifulSoup` we first need to make sure that we have it installed on our computer. Try to run the following code chunks."
   ]
  },
  {
   "cell_type": "code",
   "execution_count": 2,
   "id": "82194053",
   "metadata": {},
   "outputs": [],
   "source": [
    "## this imports BeautifulSoup from its package, bs4\n",
    "import bs4"
   ]
  },
  {
   "cell_type": "code",
   "execution_count": 3,
   "id": "28f61184",
   "metadata": {},
   "outputs": [
    {
     "name": "stdout",
     "output_type": "stream",
     "text": [
      "4.12.2\n"
     ]
    }
   ],
   "source": [
    "## Run this to check your version\n",
    "## I wrote this notebook with version  4.12.2\n",
    "print(bs4.__version__)"
   ]
  },
  {
   "cell_type": "markdown",
   "id": "71a2da4d",
   "metadata": {},
   "source": [
    "If the above code does not work you will need to install the package before being able to run the code in this notebook. Here are installation instructions from the `bs4` documentation:\n",
    "- Via conda: <a href=\"https://anaconda.org/conda-forge/bs4\">https://anaconda.org/conda-forge/bs4</a>,\n",
    "- Via pip: <a href=\"https://www.crummy.com/software/BeautifulSoup/bs4/doc/#installing-beautiful-soup\">https://www.crummy.com/software/BeautifulSoup/bs4/doc/#installing-beautiful-soup</a>."
   ]
  },
  {
   "cell_type": "markdown",
   "id": "c83239b6",
   "metadata": {},
   "source": [
    "### The structure of an HTML page\n",
    "\n",
    "`BeautifulSoup` takes in an HTML document and will 'parse' it for you so that you can extract the information you want. To best understand what that means we will look at a toy example of a webpage. To see what the snippet of HTML code below looks like in a web browser click here <a href=\"SampleHTML.html\">SampleHTML.html</a>."
   ]
  },
  {
   "cell_type": "code",
   "execution_count": 4,
   "id": "223c55f8",
   "metadata": {},
   "outputs": [],
   "source": [
    "## This is an html chunk\n",
    "## It has a head and a body, just like you\n",
    "html_doc = \"\"\"\n",
    "<html><head><title>The Dormouse's story</title></head>\n",
    "<body>\n",
    "<p class=\"title\"><b>The Dormouse's story</b></p>\n",
    "\n",
    "<p class=\"story\">Once upon a time there were three little sisters; and their names were\n",
    "<a href=\"http://example.com/elsie\" class=\"sister\" id=\"link1\">Elsie</a>,\n",
    "<a href=\"http://example.com/lacie\" class=\"sister\" id=\"link2\">Lacie</a> and\n",
    "<a href=\"http://example.com/tillie\" class=\"sister\" id=\"link3\">Tillie</a>;\n",
    "and they lived at the bottom of a well.</p>\n",
    "\n",
    "<p class=\"story\">...</p>\n",
    "</body>\n",
    "</html>\n",
    "\"\"\""
   ]
  },
  {
   "cell_type": "markdown",
   "id": "72f371b5",
   "metadata": {},
   "source": [
    "We can now use `BeautifulSoup` to parse this simple HTML chunk."
   ]
  },
  {
   "cell_type": "code",
   "execution_count": 5,
   "id": "305e3a7e",
   "metadata": {},
   "outputs": [],
   "source": [
    "## First we import the BeautifulSoup object\n",
    "from bs4 import BeautifulSoup"
   ]
  },
  {
   "cell_type": "code",
   "execution_count": 6,
   "id": "0aadda44",
   "metadata": {},
   "outputs": [],
   "source": [
    "## Now we make a BeautifulSoup object out of the html code\n",
    "## The first input is the html code\n",
    "## The second input is how you want BeautifulSoup\n",
    "## to parse the code\n",
    "soup = BeautifulSoup(html_doc, 'html.parser')"
   ]
  },
  {
   "cell_type": "code",
   "execution_count": 7,
   "id": "6ea0fe84",
   "metadata": {},
   "outputs": [
    {
     "name": "stdout",
     "output_type": "stream",
     "text": [
      "<html>\n",
      " <head>\n",
      "  <title>\n",
      "   The Dormouse's story\n",
      "  </title>\n",
      " </head>\n",
      " <body>\n",
      "  <p class=\"title\">\n",
      "   <b>\n",
      "    The Dormouse's story\n",
      "   </b>\n",
      "  </p>\n",
      "  <p class=\"story\">\n",
      "   Once upon a time there were three little sisters; and their names were\n",
      "   <a class=\"sister\" href=\"http://example.com/elsie\" id=\"link1\">\n",
      "    Elsie\n",
      "   </a>\n",
      "   ,\n",
      "   <a class=\"sister\" href=\"http://example.com/lacie\" id=\"link2\">\n",
      "    Lacie\n",
      "   </a>\n",
      "   and\n",
      "   <a class=\"sister\" href=\"http://example.com/tillie\" id=\"link3\">\n",
      "    Tillie\n",
      "   </a>\n",
      "   ;\n",
      "and they lived at the bottom of a well.\n",
      "  </p>\n",
      "  <p class=\"story\">\n",
      "   ...\n",
      "  </p>\n",
      " </body>\n",
      "</html>\n",
      "\n"
     ]
    }
   ],
   "source": [
    "## Let's use the prettify method to make our html pretty and see what it has to say\n",
    "## Ideally this is how someone writing pure html code would write their code\n",
    "print(soup.prettify())"
   ]
  },
  {
   "cell_type": "markdown",
   "id": "e52dcc37",
   "metadata": {},
   "source": [
    "Html files have a natural tree structure that we will briefly cover now. Here is the tree of our sample HTML:\n",
    "\n",
    "<img src = \"html_tree.png\" width = \"50%\"></img>\n",
    "\n",
    "Each level in the tree represents a 'generation' of the html code. for instance the body has 3 p children, the leftmost p has one b child. `BeautifulSoup` helps us traverse these trees to gather the data we want."
   ]
  },
  {
   "cell_type": "code",
   "execution_count": null,
   "id": "c2bc8c9b",
   "metadata": {},
   "outputs": [],
   "source": [
    "## Below are some examples of beautifulsoup methods and \n",
    "## attributes that help us better understand the structure \n",
    "## of html code"
   ]
  },
  {
   "cell_type": "code",
   "execution_count": 11,
   "id": "a435c5c3",
   "metadata": {},
   "outputs": [
    {
     "data": {
      "text/plain": [
       "<title>The Dormouse's story</title>"
      ]
     },
     "execution_count": 11,
     "metadata": {},
     "output_type": "execute_result"
    }
   ],
   "source": [
    "## We can traverse to the \"title\" by working our way through\n",
    "## the tree\n",
    "soup.head\n",
    "soup.head.title"
   ]
  },
  {
   "cell_type": "code",
   "execution_count": 17,
   "id": "c1ff66eb",
   "metadata": {},
   "outputs": [
    {
     "data": {
      "text/plain": [
       "<title>The Dormouse's story</title>"
      ]
     },
     "execution_count": 17,
     "metadata": {},
     "output_type": "execute_result"
    }
   ],
   "source": [
    "## Notice we can also get the title like so\n",
    "## This is because this is the first and only title \n",
    "## in the code\n",
    "soup.title"
   ]
  },
  {
   "cell_type": "code",
   "execution_count": 18,
   "id": "ff74ec96",
   "metadata": {},
   "outputs": [
    {
     "data": {
      "text/plain": [
       "\"The Dormouse's story\""
      ]
     },
     "execution_count": 18,
     "metadata": {},
     "output_type": "execute_result"
    }
   ],
   "source": [
    "## What if I just want the text from the title?\n",
    "soup.title.text"
   ]
  },
  {
   "cell_type": "code",
   "execution_count": 19,
   "id": "9120fedf",
   "metadata": {},
   "outputs": [
    {
     "data": {
      "text/plain": [
       "<head><title>The Dormouse's story</title></head>"
      ]
     },
     "execution_count": 19,
     "metadata": {},
     "output_type": "execute_result"
    }
   ],
   "source": [
    "## What html structure is the title's parent?\n",
    "soup.title.parent"
   ]
  },
  {
   "cell_type": "code",
   "execution_count": 20,
   "id": "e2c2df9e",
   "metadata": {},
   "outputs": [
    {
     "data": {
      "text/plain": [
       "<a class=\"sister\" href=\"http://example.com/elsie\" id=\"link1\">Elsie</a>"
      ]
     },
     "execution_count": 20,
     "metadata": {},
     "output_type": "execute_result"
    }
   ],
   "source": [
    "## What is the first a of the html document?\n",
    "soup.a"
   ]
  },
  {
   "cell_type": "code",
   "execution_count": 21,
   "id": "e3e49026",
   "metadata": {},
   "outputs": [
    {
     "data": {
      "text/plain": [
       "['sister']"
      ]
     },
     "execution_count": 21,
     "metadata": {},
     "output_type": "execute_result"
    }
   ],
   "source": [
    "## What is the first a's class?\n",
    "soup.a['class']"
   ]
  },
  {
   "cell_type": "code",
   "execution_count": 23,
   "id": "389e01e0",
   "metadata": {},
   "outputs": [
    {
     "name": "stdout",
     "output_type": "stream",
     "text": [
      "\n",
      "['sister'] Elsie\n",
      "\n",
      "['sister'] Lacie\n",
      "\n",
      "['sister'] Tillie\n"
     ]
    }
   ],
   "source": [
    "## There are multiple a's can I find all of them?\n",
    "soup.find_all('a')\n",
    "\n",
    "\n",
    "for a in soup.find_all('a'):\n",
    "    print()\n",
    "    print(a['class'], a.text)"
   ]
  },
  {
   "cell_type": "markdown",
   "id": "a2bf7b99",
   "metadata": {},
   "source": [
    "#### Exercises\n",
    "\n",
    "Take a moment and try to complete the following exercises."
   ]
  },
  {
   "cell_type": "code",
   "execution_count": 26,
   "id": "7b56e6f9",
   "metadata": {},
   "outputs": [
    {
     "data": {
      "text/plain": [
       "\"The Dormouse's story\""
      ]
     },
     "execution_count": 26,
     "metadata": {},
     "output_type": "execute_result"
    }
   ],
   "source": [
    "## Find the first p of the document\n",
    "## What is the first p's class? What string is in that p?\n",
    "soup.p\n",
    "\n",
    "soup.p['class']\n",
    "\n",
    "soup.p.text"
   ]
  },
  {
   "cell_type": "code",
   "execution_count": 27,
   "id": "54200461",
   "metadata": {},
   "outputs": [
    {
     "name": "stdout",
     "output_type": "stream",
     "text": [
      "http://example.com/elsie\n",
      "http://example.com/lacie\n",
      "http://example.com/tillie\n"
     ]
    }
   ],
   "source": [
    "## For all of the a's in the document find their href\n",
    "\n",
    "for a in soup.find_all('a'):\n",
    "    print(a['href'])\n"
   ]
  },
  {
   "cell_type": "markdown",
   "id": "5a406bf7",
   "metadata": {},
   "source": [
    "## Scraping real webpages\n",
    "\n",
    "Let's now pivot to a real webpage. In this example we will imagine we are in the spot of wanting to scrape information regarding the website FiveThirtyEight's Sports articles as found here, <a href=\"https://fivethirtyeight.com/sports/\">https://fivethirtyeight.com/sports/</a>.\n",
    "\n",
    "### Sending a request\n",
    "\n",
    "In order to scrape that data we need to have the HTML code associated with the page. In python we can do this with the `requests` module."
   ]
  },
  {
   "cell_type": "code",
   "execution_count": 28,
   "id": "c5254c9a",
   "metadata": {},
   "outputs": [],
   "source": [
    "import requests"
   ]
  },
  {
   "cell_type": "code",
   "execution_count": 29,
   "id": "081861fa",
   "metadata": {},
   "outputs": [
    {
     "data": {
      "text/plain": [
       "<Response [200]>"
      ]
     },
     "execution_count": 29,
     "metadata": {},
     "output_type": "execute_result"
    }
   ],
   "source": [
    "## This is the url for the HTML code we want\n",
    "url = \"https://fivethirtyeight.com/sports/\"\n",
    "\n",
    "## We send a request to the website's server with\n",
    "## the following code\n",
    "requests.get(url)"
   ]
  },
  {
   "cell_type": "markdown",
   "id": "2d6b6285",
   "metadata": {},
   "source": [
    "Now we will want to store this response in a variable so we can access its contents. First we will note that, if the request was successful, we should be seeing `<Response [200]>` above. This tells us that the request was recieved and the data was returned successfully. If we instead saw something like `404` or `500`, we would know that something went wrong. For a list of possible response codes see <a href=\"https://developer.mozilla.org/en-US/docs/Web/HTTP/Status#server_error_responses\">https://developer.mozilla.org/en-US/docs/Web/HTTP/Status#server_error_responses</a>."
   ]
  },
  {
   "cell_type": "code",
   "execution_count": 30,
   "id": "34d357ea",
   "metadata": {},
   "outputs": [],
   "source": [
    "r = requests.get(url)"
   ]
  },
  {
   "cell_type": "code",
   "execution_count": 31,
   "id": "82d84840",
   "metadata": {},
   "outputs": [
    {
     "data": {
      "text/plain": [
       "200"
      ]
     },
     "execution_count": 31,
     "metadata": {},
     "output_type": "execute_result"
    }
   ],
   "source": [
    "r.status_code"
   ]
  },
  {
   "cell_type": "code",
   "execution_count": 32,
   "id": "1b318c33",
   "metadata": {},
   "outputs": [
    {
     "data": {
      "text/plain": [
       "b'<!DOCTYPE html>\\n<html lang=\"en-US\" class=\"no-js\">\\n<head>\\n\\t<meta charset=\"UTF-8\">\\n\\t<meta name=\"viewport\" content=\"width=device-width, initial-scale=1.0\">\\n\\t\\n\\t\\t<script>\\n\\t\\t\\ttargetPageParams = function() {\\n\\t\\t\\t\\treturn {\"page\":{\"page_id\":359271,\"page_name\":\"fivethirtyeight:sports:archive\",\"section_1\":\"sports\",\"section_2\":\"sports:sports:archive\",\"content_type\":\"sports:archive\",\"app_version\":\"1.0.28\",\"device_type\":\"Desktop\",\"prev_page\":\"https:\\\\/\\\\/fivethirtyeight.com\\\\/\",\"template\":\"none\"},\"site\":{\"edition\":\"en-us\",\"language\":\"en\",\"site\":\"fivethirtyeight\"},\"device\":{\"device_type\":\"Desktop\"},\"at_property\":\"ced193d1-6804-5ebf-3643-6343d14fe8ca\"};\\n\\t\\t\\t};\\n\\t\\t</script>\\n\\t\\t<script src=\"https://fivethirtyeight.com/wp-content/plugins/dtci-adobe-target/assets/js/at.js\"></script> \\t\\t\\t\\t<link rel=\\'dns-prefetch\\' href=\\'//dcf.espn.com\\' />\\n\\n\\t\\t\\n\\t\\t<script type=\"text/javascript\">\\n\\t\\t\\tfunction setCountryCookie(value,days) {\\n\\t\\t\\t\\tvar expires = \"\";\\n\\t\\t\\t\\tif (days) {\\n\\t\\t\\t\\t\\tvar date = new Date();\\n\\t\\t\\t\\t\\tdate.setTime(date.getTime() + (days*24*60*60*1000));\\n\\t\\t\\t\\t\\texpires = \"; expires=\" + date.toUTCString();\\n\\t\\t\\t\\t}\\n\\t\\t\\t\\tdocument.cookie = \"country=\" + (value || \"\") + expires + \"; path=/\";\\n\\t\\t\\t}\\n\\n\\t\\t\\tfunction getCountryCookie() {\\n\\t\\t\\t\\tlet value = decodeURIComponent(document.cookie);\\n\\t\\t\\t\\tlet parts = value.split(`; country=`);\\n  \\t\\t\\t\\tif (parts.length === 2) {\\n\\t\\t\\t\\t\\treturn parts.pop().split(\\';\\').shift();\\n\\t\\t\\t\\t}\\n\\t\\t\\t\\treturn \"\";\\n\\t\\t\\t\\t}\\n\\n\\t\\t\\tvar countryCookie = getCountryCookie();\\n\\t\\t\\tif ( ! countryCookie || \\'us\\' !== countryCookie ) {\\n\\t\\t\\t\\tsetCountryCookie(\\'us\\',1);\\n\\t\\t\\t}\\n\\t\\t</script>\\n\\t\\t\\n\\t\\t<script src=\"https://dcf.espn.com/TWDC-DTCI/prod/Bootstrap.js\"></script>\\n<title>Sports &#8211; FiveThirtyEight</title>\\n<meta name=\\'robots\\' content=\\'max-image-preview:large\\' />\\n\\t\\t\\t\\t\\t<link\\n\\t\\t\\trel=\"preload\"\\n\\t\\t\\tas=\"font\"\\n\\t\\t\\ttype=\"font/woff2\"\\n\\t\\t\\thref=\"https://fivethirtyeight.com/wp-content/themes/espn-fivethirtyeight/dist/fonts/AtlasGrotesk-Bold-Web.woff2\"\\n\\t\\t\\tcrossorigin=\"anonymous\">\\n\\t\\t\\t\\t\\t<link\\n\\t\\t\\trel=\"preload\"\\n\\t\\t\\tas=\"font\"\\n\\t\\t\\ttype=\"font/woff2\"\\n\\t\\t\\thref=\"https://fivethirtyeight.com/wp-content/themes/espn-fivethirtyeight/dist/fonts/AtlasGrotesk-Regular-Web.woff2\"\\n\\t\\t\\tcrossorigin=\"anonymous\">\\n\\t\\t\\t\\t\\t<link\\n\\t\\t\\trel=\"preload\"\\n\\t\\t\\tas=\"font\"\\n\\t\\t\\ttype=\"font/woff2\"\\n\\t\\t\\thref=\"https://fivethirtyeight.com/wp-content/themes/espn-fivethirtyeight/dist/fonts/decimamonopro-webfont.woff2\"\\n\\t\\t\\tcrossorigin=\"anonymous\">\\n\\t\\t\\t\\t<link rel=\\'dns-prefetch\\' href=\\'//cdn.registerdisney.go.com\\' />\\n<link rel=\\'dns-prefetch\\' href=\\'//platform.twitter.com\\' />\\n<link rel=\\'dns-prefetch\\' href=\\'//datawrapper.dwcdn.net\\' />\\n<link rel=\\'dns-prefetch\\' href=\\'//pagead2.googlesyndication.com\\' />\\n<link rel=\\'dns-prefetch\\' href=\\'//tpc.googlesyndication.com\\' />\\n<link rel=\\'dns-prefetch\\' href=\\'//securepubads.g.doubleclick.net\\' />\\n<link rel=\\'dns-prefetch\\' href=\\'//www.googletagmanager.com\\' />\\n<link rel=\\'dns-prefetch\\' href=\\'//www.googletagservices.com\\' />\\n<link rel=\\'dns-prefetch\\' href=\\'//www.googleadservices.com\\' />\\n<link rel=\\'dns-prefetch\\' href=\\'//adservice.google.com\\' />\\n<link rel=\\'dns-prefetch\\' href=\\'//www.google.com\\' />\\n<link rel=\\'stylesheet\\' id=\\'wp-block-library-css\\' href=\\'https://fivethirtyeight.com/wp-includes/css/dist/block-library/style.min.css?ver=6.1.1\\' media=\\'all\\' />\\n<style id=\\'wp-block-library-inline-css\\'>\\n.has-text-align-justify{text-align:justify;}\\n</style>\\n<link rel=\\'stylesheet\\' id=\\'mediaelement-css\\' href=\\'https://fivethirtyeight.com/wp-includes/js/mediaelement/mediaelementplayer-legacy.min.css?ver=4.2.17\\' media=\\'all\\' />\\n<link rel=\\'stylesheet\\' id=\\'wp-mediaelement-css\\' href=\\'https://fivethirtyeight.com/wp-includes/js/mediaelement/wp-mediaelement.min.css?ver=6.1.1\\' media=\\'all\\' />\\n<style id=\\'elasticpress-facet-style-inline-css\\'>\\n.widget_ep-facet input[type=search],.wp-block-elasticpress-facet input[type=search]{margin-bottom:1rem}.widget_ep-facet .searchable .inner,.wp-block-elasticpress-facet .searchable .inner{max-height:20em;overflow:scroll}.widget_ep-facet .term.hide,.wp-block-elasticpress-facet .term.hide{display:none}.widget_ep-facet .empty-term,.wp-block-elasticpress-facet .empty-term{opacity:.5;position:relative}.widget_ep-facet .empty-term:after,.wp-block-elasticpress-facet .empty-term:after{bottom:0;content:\" \";display:block;left:0;position:absolute;right:0;top:0;width:100%;z-index:2}.widget_ep-facet .level-1,.wp-block-elasticpress-facet .level-1{padding-left:20px}.widget_ep-facet .level-2,.wp-block-elasticpress-facet .level-2{padding-left:40px}.widget_ep-facet .level-3,.wp-block-elasticpress-facet .level-3{padding-left:60px}.widget_ep-facet .level-4,.wp-block-elasticpress-facet .level-4{padding-left:5pc}.widget_ep-facet .level-5,.wp-block-elasticpress-facet .level-5{padding-left:75pt}.widget_ep-facet input[disabled],.wp-block-elasticpress-facet input[disabled]{cursor:pointer;opacity:1}.widget_ep-facet .term a,.wp-block-elasticpress-facet .term a{-webkit-box-align:center;-ms-flex-align:center;align-items:center;display:-webkit-box;display:-ms-flexbox;display:flex;position:relative}.widget_ep-facet .term a:hover .ep-checkbox,.wp-block-elasticpress-facet .term a:hover .ep-checkbox{background-color:#ccc}.ep-checkbox{-webkit-box-align:center;-ms-flex-align:center;-ms-flex-negative:0;-webkit-box-pack:center;-ms-flex-pack:center;align-items:center;background-color:#eee;display:-webkit-box;display:-ms-flexbox;display:flex;flex-shrink:0;height:1em;justify-content:center;margin-right:.25em;width:1em}.ep-checkbox:after{border:solid #fff;border-width:0 .125em .125em 0;content:\"\";display:none;height:.5em;-webkit-transform:rotate(45deg);transform:rotate(45deg);width:.25em}.ep-checkbox.checked{background-color:#5e5e5e}.ep-checkbox.checked:after{display:block}\\n\\n</style>\\n<link rel=\\'stylesheet\\' id=\\'elasticpress-related-posts-block-css\\' href=\\'https://fivethirtyeight.com/wp-content/mu-plugins/search/elasticpress-next/dist/css/related-posts-block-styles.min.css?ver=4.2.2\\' media=\\'all\\' />\\n<link rel=\\'stylesheet\\' id=\\'classic-theme-styles-css\\' href=\\'https://fivethirtyeight.com/wp-includes/css/classic-themes.min.css?ver=1\\' media=\\'all\\' />\\n<style id=\\'global-styles-inline-css\\'>\\nbody{--wp--preset--color--black: #000000;--wp--preset--color--cyan-bluish-gray: #abb8c3;--wp--preset--color--white: #ffffff;--wp--preset--color--pale-pink: #f78da7;--wp--preset--color--vivid-red: #cf2e2e;--wp--preset--color--luminous-vivid-orange: #ff6900;--wp--preset--color--luminous-vivid-amber: #fcb900;--wp--preset--color--light-green-cyan: #7bdcb5;--wp--preset--color--vivid-green-cyan: #00d084;--wp--preset--color--pale-cyan-blue: #8ed1fc;--wp--preset--color--vivid-cyan-blue: #0693e3;--wp--preset--color--vivid-purple: #9b51e0;--wp--preset--gradient--vivid-cyan-blue-to-vivid-purple: linear-gradient(135deg,rgba(6,147,227,1) 0%,rgb(155,81,224) 100%);--wp--preset--gradient--light-green-cyan-to-vivid-green-cyan: linear-gradient(135deg,rgb(122,220,180) 0%,rgb(0,208,130) 100%);--wp--preset--gradient--luminous-vivid-amber-to-luminous-vivid-orange: linear-gradient(135deg,rgba(252,185,0,1) 0%,rgba(255,105,0,1) 100%);--wp--preset--gradient--luminous-vivid-orange-to-vivid-red: linear-gradient(135deg,rgba(255,105,0,1) 0%,rgb(207,46,46) 100%);--wp--preset--gradient--very-light-gray-to-cyan-bluish-gray: linear-gradient(135deg,rgb(238,238,238) 0%,rgb(169,184,195) 100%);--wp--preset--gradient--cool-to-warm-spectrum: linear-gradient(135deg,rgb(74,234,220) 0%,rgb(151,120,209) 20%,rgb(207,42,186) 40%,rgb(238,44,130) 60%,rgb(251,105,98) 80%,rgb(254,248,76) 100%);--wp--preset--gradient--blush-light-purple: linear-gradient(135deg,rgb(255,206,236) 0%,rgb(152,150,240) 100%);--wp--preset--gradient--blush-bordeaux: linear-gradient(135deg,rgb(254,205,165) 0%,rgb(254,45,45) 50%,rgb(107,0,62) 100%);--wp--preset--gradient--luminous-dusk: linear-gradient(135deg,rgb(255,203,112) 0%,rgb(199,81,192) 50%,rgb(65,88,208) 100%);--wp--preset--gradient--pale-ocean: linear-gradient(135deg,rgb(255,245,203) 0%,rgb(182,227,212) 50%,rgb(51,167,181) 100%);--wp--preset--gradient--electric-grass: linear-gradient(135deg,rgb(202,248,128) 0%,rgb(113,206,126) 100%);--wp--preset--gradient--midnight: linear-gradient(135deg,rgb(2,3,129) 0%,rgb(40,116,252) 100%);--wp--preset--duotone--dark-grayscale: url(\\'#wp-duotone-dark-grayscale\\');--wp--preset--duotone--grayscale: url(\\'#wp-duotone-grayscale\\');--wp--preset--duotone--purple-yellow: url(\\'#wp-duotone-purple-yellow\\');--wp--preset--duotone--blue-red: url(\\'#wp-duotone-blue-red\\');--wp--preset--duotone--midnight: url(\\'#wp-duotone-midnight\\');--wp--preset--duotone--magenta-yellow: url(\\'#wp-duotone-magenta-yellow\\');--wp--preset--duotone--purple-green: url(\\'#wp-duotone-purple-green\\');--wp--preset--duotone--blue-orange: url(\\'#wp-duotone-blue-orange\\');--wp--preset--font-size--small: 13px;--wp--preset--font-size--medium: 20px;--wp--preset--font-size--large: 36px;--wp--preset--font-size--x-large: 42px;--wp--preset--spacing--20: 0.44rem;--wp--preset--spacing--30: 0.67rem;--wp--preset--spacing--40: 1rem;--wp--preset--spacing--50: 1.5rem;--wp--preset--spacing--60: 2.25rem;--wp--preset--spacing--70: 3.38rem;--wp--preset--spacing--80: 5.06rem;}:where(.is-layout-flex){gap: 0.5em;}body .is-layout-flow > .alignleft{float: left;margin-inline-start: 0;margin-inline-end: 2em;}body .is-layout-flow > .alignright{float: right;margin-inline-start: 2em;margin-inline-end: 0;}body .is-layout-flow > .aligncenter{margin-left: auto !important;margin-right: auto !important;}body .is-layout-constrained > .alignleft{float: left;margin-inline-start: 0;margin-inline-end: 2em;}body .is-layout-constrained > .alignright{float: right;margin-inline-start: 2em;margin-inline-end: 0;}body .is-layout-constrained > .aligncenter{margin-left: auto !important;margin-right: auto !important;}body .is-layout-constrained > :where(:not(.alignleft):not(.alignright):not(.alignfull)){max-width: var(--wp--style--global--content-size);margin-left: auto !important;margin-right: auto !important;}body .is-layout-constrained > .alignwide{max-width: var(--wp--style--global--wide-size);}body .is-layout-flex{display: flex;}body .is-layout-flex{flex-wrap: wrap;align-items: center;}body .is-layout-flex > *{margin: 0;}:where(.wp-block-columns.is-layout-flex){gap: 2em;}.has-black-color{color: var(--wp--preset--color--black) !important;}.has-cyan-bluish-gray-color{color: var(--wp--preset--color--cyan-bluish-gray) !important;}.has-white-color{color: var(--wp--preset--color--white) !important;}.has-pale-pink-color{color: var(--wp--preset--color--pale-pink) !important;}.has-vivid-red-color{color: var(--wp--preset--color--vivid-red) !important;}.has-luminous-vivid-orange-color{color: var(--wp--preset--color--luminous-vivid-orange) !important;}.has-luminous-vivid-amber-color{color: var(--wp--preset--color--luminous-vivid-amber) !important;}.has-light-green-cyan-color{color: var(--wp--preset--color--light-green-cyan) !important;}.has-vivid-green-cyan-color{color: var(--wp--preset--color--vivid-green-cyan) !important;}.has-pale-cyan-blue-color{color: var(--wp--preset--color--pale-cyan-blue) !important;}.has-vivid-cyan-blue-color{color: var(--wp--preset--color--vivid-cyan-blue) !important;}.has-vivid-purple-color{color: var(--wp--preset--color--vivid-purple) !important;}.has-black-background-color{background-color: var(--wp--preset--color--black) !important;}.has-cyan-bluish-gray-background-color{background-color: var(--wp--preset--color--cyan-bluish-gray) !important;}.has-white-background-color{background-color: var(--wp--preset--color--white) !important;}.has-pale-pink-background-color{background-color: var(--wp--preset--color--pale-pink) !important;}.has-vivid-red-background-color{background-color: var(--wp--preset--color--vivid-red) !important;}.has-luminous-vivid-orange-background-color{background-color: var(--wp--preset--color--luminous-vivid-orange) !important;}.has-luminous-vivid-amber-background-color{background-color: var(--wp--preset--color--luminous-vivid-amber) !important;}.has-light-green-cyan-background-color{background-color: var(--wp--preset--color--light-green-cyan) !important;}.has-vivid-green-cyan-background-color{background-color: var(--wp--preset--color--vivid-green-cyan) !important;}.has-pale-cyan-blue-background-color{background-color: var(--wp--preset--color--pale-cyan-blue) !important;}.has-vivid-cyan-blue-background-color{background-color: var(--wp--preset--color--vivid-cyan-blue) !important;}.has-vivid-purple-background-color{background-color: var(--wp--preset--color--vivid-purple) !important;}.has-black-border-color{border-color: var(--wp--preset--color--black) !important;}.has-cyan-bluish-gray-border-color{border-color: var(--wp--preset--color--cyan-bluish-gray) !important;}.has-white-border-color{border-color: var(--wp--preset--color--white) !important;}.has-pale-pink-border-color{border-color: var(--wp--preset--color--pale-pink) !important;}.has-vivid-red-border-color{border-color: var(--wp--preset--color--vivid-red) !important;}.has-luminous-vivid-orange-border-color{border-color: var(--wp--preset--color--luminous-vivid-orange) !important;}.has-luminous-vivid-amber-border-color{border-color: var(--wp--preset--color--luminous-vivid-amber) !important;}.has-light-green-cyan-border-color{border-color: var(--wp--preset--color--light-green-cyan) !important;}.has-vivid-green-cyan-border-color{border-color: var(--wp--preset--color--vivid-green-cyan) !important;}.has-pale-cyan-blue-border-color{border-color: var(--wp--preset--color--pale-cyan-blue) !important;}.has-vivid-cyan-blue-border-color{border-color: var(--wp--preset--color--vivid-cyan-blue) !important;}.has-vivid-purple-border-color{border-color: var(--wp--preset--color--vivid-purple) !important;}.has-vivid-cyan-blue-to-vivid-purple-gradient-background{background: var(--wp--preset--gradient--vivid-cyan-blue-to-vivid-purple) !important;}.has-light-green-cyan-to-vivid-green-cyan-gradient-background{background: var(--wp--preset--gradient--light-green-cyan-to-vivid-green-cyan) !important;}.has-luminous-vivid-amber-to-luminous-vivid-orange-gradient-background{background: var(--wp--preset--gradient--luminous-vivid-amber-to-luminous-vivid-orange) !important;}.has-luminous-vivid-orange-to-vivid-red-gradient-background{background: var(--wp--preset--gradient--luminous-vivid-orange-to-vivid-red) !important;}.has-very-light-gray-to-cyan-bluish-gray-gradient-background{background: var(--wp--preset--gradient--very-light-gray-to-cyan-bluish-gray) !important;}.has-cool-to-warm-spectrum-gradient-background{background: var(--wp--preset--gradient--cool-to-warm-spectrum) !important;}.has-blush-light-purple-gradient-background{background: var(--wp--preset--gradient--blush-light-purple) !important;}.has-blush-bordeaux-gradient-background{background: var(--wp--preset--gradient--blush-bordeaux) !important;}.has-luminous-dusk-gradient-background{background: var(--wp--preset--gradient--luminous-dusk) !important;}.has-pale-ocean-gradient-background{background: var(--wp--preset--gradient--pale-ocean) !important;}.has-electric-grass-gradient-background{background: var(--wp--preset--gradient--electric-grass) !important;}.has-midnight-gradient-background{background: var(--wp--preset--gradient--midnight) !important;}.has-small-font-size{font-size: var(--wp--preset--font-size--small) !important;}.has-medium-font-size{font-size: var(--wp--preset--font-size--medium) !important;}.has-large-font-size{font-size: var(--wp--preset--font-size--large) !important;}.has-x-large-font-size{font-size: var(--wp--preset--font-size--x-large) !important;}\\n.wp-block-navigation a:where(:not(.wp-element-button)){color: inherit;}\\n:where(.wp-block-columns.is-layout-flex){gap: 2em;}\\n.wp-block-pullquote{font-size: 1.5em;line-height: 1.6;}\\n</style>\\n<link rel=\\'stylesheet\\' id=\\'fte-css\\' href=\\'https://fivethirtyeight.com/wp-content/themes/espn-fivethirtyeight/dist/css/fiveThirtyEight.css?ver=1.0.28\\' media=\\'\\' />\\n<script id=\\'disney-oneid-js-extra\\'>\\nvar DisneyOneID = {\"config\":{\"clientId\":\"DATG-FIVETHIRTYEIGHT.WEB\",\"langPref\":\"en-US\",\"debug\":false,\"responderPage\":\"https:\\\\/\\\\/fivethirtyeight.com\\\\/oneid-responder\",\"campaignName\":\"FiveThirtyEight\"}};\\n</script>\\n<script src=\\'https://cdn.registerdisney.go.com/v4/OneID.js\\' id=\\'disney-oneid-js\\'></script>\\n<script src=\\'https://fivethirtyeight.com/wp-content/plugins/disney-messaging/assets/js/oneid.min.js?ver=1.0.28\\' id=\\'disney-oneid-config-js\\'></script>\\n<script id=\\'dtci-datalayer-js-extra\\'>\\nvar dtciDataLayer = {\"page\":{\"page_id\":359271,\"page_name\":\"fivethirtyeight:sports:archive\",\"section_1\":\"sports\",\"section_2\":\"sports:sports:archive\",\"content_type\":\"sports:archive\",\"app_version\":\"1.0.28\",\"device_type\":\"Desktop\",\"prev_page\":\"https:\\\\/\\\\/fivethirtyeight.com\\\\/\",\"template\":\"none\"},\"site\":{\"edition\":\"en-us\",\"language\":\"en\",\"site\":\"fivethirtyeight\"},\"detailsEndpoint\":\"https:\\\\/\\\\/fivethirtyeight.com\\\\/wp-json\\\\/dtci_datalayer\\\\/v1\\\\/get_page_details\\\\/\",\"device\":{\"device_type\":\"Desktop\"}};\\n</script>\\n<script src=\\'https://fivethirtyeight.com/wp-content/plugins/dtci-adobe-datalayer/assets/js/adobe-datalayer.min.js?ver=1.1\\' id=\\'dtci-datalayer-js\\'></script>\\n<script src=\\'https://fivethirtyeight.com/wp-includes/js/jquery/jquery.min.js?ver=3.6.1\\' id=\\'jquery-core-js\\'></script>\\n<script src=\\'https://fivethirtyeight.com/wp-includes/js/jquery/jquery-migrate.min.js?ver=3.3.2\\' id=\\'jquery-migrate-js\\'></script>\\n<script src=\\'https://fivethirtyeight.com/wp-content/plugins/espn-social/assets/js/facebook.min.js?ver=1.0.28\\' id=\\'facebook-js\\'></script>\\n<script src=\\'https://fivethirtyeight.com/wp-content/plugins/espn-social/assets/js/twitter-prompt.min.js?ver=1.0.28\\' id=\\'twitter-prompt-js\\'></script>\\n<script src=\\'https://fivethirtyeight.com/wp-content/plugins/disney-messaging/assets/js/vendor/purify.min.js?ver=1.0.28\\' id=\\'purify-js\\'></script>\\n<script id=\\'taboola-js-extra\\'>\\nvar ESPNTaboola = {\"publisher\":\"abcnews-fivethirtyeight\",\"type\":\"category\"};\\n</script>\\n<script src=\\'https://fivethirtyeight.com/wp-content/plugins/espn-taboola/assets/js/taboola.min.js?ver=1.0.28\\' id=\\'taboola-js\\'></script>\\n<script src=\\'https://fivethirtyeight.com/wp-includes/js/underscore.min.js?ver=1.13.4\\' id=\\'underscore-js\\'></script>\\n<script src=\\'https://fivethirtyeight.com/wp-content/themes/espn-fivethirtyeight/dist/js/fivethirtyeightHeader.js?ver=1.0.28\\' id=\\'fte-js\\'></script>\\n<script async=\"async\" src=\\'https://fivethirtyeight.com/wp-content/plugins/dtci-data-privacy/assets/js/twitter-platform.min.js\\' id=\\'platform-twitter-js\\' defer></script>\\n<script id=\\'abc-analytics-js-extra\\'>\\nvar ABCAnalytics = {\"nielsen\":{\"asset_id\":359271,\"section\":\"sportsnba-playoffs\",\"seg_a\":\"\",\"seg_b\":\"\",\"seg_c\":\"\",\"debug\":\"\"},\"chartbeat\":{\"uid\":\"12240\",\"domain\":\"fivethirtyeight.com\",\"path\":\"\",\"sections\":\"\",\"authors\":\"\",\"title\":\"Sports\",\"loadPubJS\":false,\"loadVidJS\":true},\"gtm\":{\"id\":\"GTM-KLHT6T2\"},\"omniture\":{\"pageName\":\"sports:index\",\"prop1\":\"fivethirtyeight\",\"prop2\":\"\",\"prop5\":\"section front\",\"prop6\":\"\",\"prop7\":\"sports\",\"prop8\":\"sports:nba-playoffs\",\"prop12\":\"Sports\",\"prop13\":\"\",\"prop14\":\"\",\"prop15\":\"https:\\\\/\\\\/fivethirtyeight.com\\\\/features\\\\/busting-4-major-myths-about-referees-in-the-nba-playoffs\\\\/\",\"prop16\":\"https:\\\\/\\\\/fivethirtyeight.com\\\\/features\\\\/busting-4-major-myths-about-referees-in-the-nba-playoffs\\\\/\",\"prop20\":\"Desktop\",\"prop23\":\"\",\"eVar5\":\"section front\",\"eVar6\":\"\",\"eVar7\":\"sports\",\"eVar8\":\"sports:nba-playoffs\",\"eVar9\":false,\"eVar10\":\"06:00\",\"eVar12\":\"Sports\",\"eVar13\":\"\",\"eVar14\":\"\",\"eVar15\":\"https:\\\\/\\\\/fivethirtyeight.com\\\\/features\\\\/busting-4-major-myths-about-referees-in-the-nba-playoffs\\\\/\",\"eVar16\":\"https:\\\\/\\\\/fivethirtyeight.com\\\\/features\\\\/busting-4-major-myths-about-referees-in-the-nba-playoffs\\\\/\",\"eVar20\":\"Desktop\",\"eVar21\":null,\"eVar22\":null},\"account\":\"wdgnewfivethirtyeight\"};\\n</script>\\n<script src=\\'https://fivethirtyeight.com/wp-content/plugins/abc-analytics/assets/js/analytics.min.js?ver=1.0.28\\' id=\\'abc-analytics-js\\'></script>\\n<link rel=\"https://api.w.org/\" href=\"https://fivethirtyeight.com/wp-json/\" /><link rel=\"alternate\" type=\"application/json\" href=\"https://fivethirtyeight.com/wp-json/wp/v2/espn_verticals/67\" /><link rel=\"EditURI\" type=\"application/rsd+xml\" title=\"RSD\" href=\"https://fivethirtyeight.com/xmlrpc.php?rsd\" />\\n<link rel=\"wlwmanifest\" type=\"application/wlwmanifest+xml\" href=\"https://fivethirtyeight.com/wp-includes/wlwmanifest.xml\" />\\n<meta name=\"generator\" content=\"WordPress 6.1.1\" />\\n<meta name=\"color-scheme\" content=\"only light\" />\\n        <style>\\n        .getty.aligncenter {\\n            text-align: center;\\n        }\\n        .getty.alignleft {\\n            float: none;\\n            margin-right: 0;\\n        }\\n        .getty.alignleft > div {\\n            float: left;\\n            margin-right: 5px;\\n        }\\n        .getty.alignright {\\n            float: none;\\n            margin-left: 0;\\n        }\\n        .getty.alignright > div {\\n            float: right;\\n            margin-left: 5px;\\n        }\\n        </style>\\n        <!-- There is no amphtml version available for this URL. -->\\n<!-- Jetpack Open Graph Tags -->\\n<meta property=\"og:type\" content=\"website\" />\\n<meta property=\"og:title\" content=\"Sports &#8211; FiveThirtyEight\" />\\n<meta property=\"og:url\" content=\"https://fivethirtyeight.com/sports/\" />\\n<meta property=\"og:description\" content=\"Nate Silver\\xe2\\x80\\x99s FiveThirtyEight is the authoritative source for sports analytics, covering MLB, the NBA, NFL, and beyond.\" />\\n<meta property=\"og:site_name\" content=\"FiveThirtyEight\" />\\n<meta property=\"og:image\" content=\"https://fivethirtyeight.com/wp-content/themes/espn-fivethirtyeight/dist/images/open-graph-placeholder-default.png\" />\\n<meta property=\"og:image:alt\" content=\"\" />\\n<meta property=\"og:locale\" content=\"en_US\" />\\n<meta property=\"article:publisher\" content=\"https://www.facebook.com/fivethirtyeight\" />\\n<meta property=\"fb:app_id\" content=\"797620670264818\" />\\n<meta property=\"fb:pages\" content=\"687958677914631\" />\\n<meta name=\"twitter:site\" content=\"FiveThirtyEight\" />\\n<meta name=\"twitter:site:id\" content=\"2303751216\" />\\n<meta name=\"twitter:widgets:csp\" content=\"on\" />\\n<meta name=\"twitter:maxage\" content=\"300\" />\\n<meta name=\"twitter:card\" content=\"summary_large_image\" />\\n\\n<!-- End Jetpack Open Graph Tags -->\\n<link rel=\\'next\\' href=\\'https://fivethirtyeight.com/sports/page/2/\\' />\\n<meta name=\"description\" content=\"Nate Silver\\xe2\\x80\\x99s FiveThirtyEight is the authoritative source for sports analytics, covering MLB, the NBA, NFL, and beyond.\" />\\n<link rel=\"alternate\" type=\"application/rss+xml\" title=\"Sports Feed\" href=\"https://fivethirtyeight.com/sports/feed/\">\\n<link type=\"text/plain\" rel=\"author\" href=\"https://fivethirtyeight.com/wp-content/themes/espn-fivethirtyeight/humans.txt\" /><link rel=\\'canonical\\' href=\\'https://fivethirtyeight.com/sports/\\' />\\n\\t\\t<style type=\"text/css\" id=\"wp-custom-css\">\\n\\t\\t\\tsection.viz {\\nbackground-color: #fff;\\n}\\ndiv.liveblog-entry-content>header.single-post-header{\\ndisplay: none;\\n}\\t\\t</style>\\n\\t\\t\\t<link rel=\"mask-icon\" color=\"#ed713a\" href=\"https://fivethirtyeight.com/wp-content/themes/espn-fivethirtyeight/assets/images/logo-fox-head-black.svg?v=1.0.28\">\\n\\t<link rel=\"shortcut icon\" href=\"https://fivethirtyeight.com/wp-content/themes/espn-fivethirtyeight/assets/images/favicon.ico?v=1.0.28\">\\n\\t<link rel=\"apple-touch-icon\" href=\"https://fivethirtyeight.com/wp-content/themes/espn-fivethirtyeight/assets/images/fivethirtyeight-logo-touch.png?v=1.0.28\">\\n</head>\\n<body class=\"archive tax-espn_verticals term-sports term-67 vertical-sports\">\\n\\n<a href=\"#content\" class=\"skip-to-content-link visually-hidden\">Skip to main content</a>\\n<div id=\"masterad\" class=\"master-ad\">\\n\\t<div id=\"ad-Banner\" class=\"ad-banner\" data-defer=\"none\"></div></div><!-- #masterad -->\\n<i class=\"header-global-bground\"></i>\\n<header class=\"header-global\" id=\"header-global\">\\n\\t<div class=\"site-wrapper header-global-top\">\\n\\t\\t\\t\\t\\t\\t\\t<h1 class=\"header-global-logo\">\\n\\t\\t\\t\\t\\t\\t\\t<a href=\"/\" name=\"&amp;lpos=fivethirtyeight&amp;lid=Header Home\" class=\"header-global-logo-link\">\\n\\t\\t\\t\\t\\t<span class=\"visually-hidden\">FiveThirtyEight</span>\\n\\t\\t\\t\\t\\t<svg xmlns=\"http://www.w3.org/2000/svg\" width=\"1280\" height=\"163.451\" viewBox=\"0 318.275 1280 163.451\" class=\"site-logo\" role=\"presentation\"><path d=\"M0 318.275h76.009v24.323H27.363v30.403h45.606v24.323H27.363v51.687H0zm94.252 109.453h15.202v-54.727H94.252v-24.323h39.525v79.05h12.162v21.283H94.252v-21.283zm15.202-109.453h24.323v24.323h-24.323v-24.323zm434.774 109.453h15.202v-54.727h-15.202v-24.323h39.525v79.05h12.162v21.283h-51.686v-21.283zm15.202-109.453h24.323v24.323H559.43v-24.323zm401.33 109.453h15.202v-54.727H960.76v-24.323h39.525v79.05h12.161v21.283H960.76v-21.283zm15.202-109.453h24.323v24.323h-24.323v-24.323zm-811.781 82.09v-51.687h24.323v45.606l12.161 30.343h3.04l12.162-30.343v-45.606h24.323v51.687l-21.283 48.646h-33.444zm173.301 48.646h-41.288c-24.901 0-37.762-11.584-37.762-35.968v-27.88c0-23.016 13.074-39.525 39.525-39.525 28.367 0 39.525 15.415 39.525 42.565v21.283h-51.686v5.29c0 7.966 3.04 12.952 10.398 12.952h41.288v21.283zm-51.686-60.808h24.323v-4.713c0-7.966-3.223-16.57-12.557-16.57-8.483 0-11.766 6.689-11.766 16.57v4.713zm94.251-45.605h-30.403v-24.323h88.171v24.323h-30.404v106.413h-27.364zm234.11 106.413V348.678h24.323v12.161c3.466-7.449 11.401-12.161 21.952-12.161h8.452v24.323h-18.242c-8.635 0-12.161 2.858-12.161 11.857v64.152h-24.324zm130.736 0h-14.715c-21.617 0-30.89-11.219-30.89-33.9v-42.109h-18.242v-24.323h18.242v-21.283h24.323v21.283h21.283v24.323H723.61l-.213 42.353c0 6.75 2.828 12.374 11.128 12.374h10.368v21.282zm535.107 0h-14.715c-21.617 0-30.89-11.219-30.89-33.9v-42.109h-18.242v-24.323h18.242v-21.283h24.323v21.283H1280v24.323h-21.283l-.213 42.353c0 6.75 2.828 12.374 11.128 12.374H1280v21.282zm-506.953 32.714l14.016-28.883-23.928-52.477v-51.687h24.323v45.606l12.162 30.404h3.04l12.162-30.404v-45.606h24.323v51.687l-37.397 81.36zm90.421-163.45h76.009v24.323h-48.646v27.363h45.606v24.323h-45.606v30.404h48.646v24.323h-76.009zm161.14 145.938v-6.081h48.95c6.081 0 8.817-.547 8.817-3.861v-1.034c0-3.284-2.767-4.226-8.817-4.226h-39.829v-15.202l15.202-15.202c-16.084-4.5-24.323-16.509-24.323-33.444v-3.04c0-22.985 13.499-36.485 42.565-36.485a66.672 66.672 0 0 1 18.09 3.04l12.313-18.242 15.202 9.121-12.161 18.242c4.165 5.868 9.121 14.989 9.121 24.323v3.04c0 21.283-10.033 32.41-36.484 33.444l-9.121 12.161h18.242c17.999 0 27.363 7.966 27.363 23.35v.334c0 15.384-8.239 24.962-26.208 24.962h-39.525c-13.043.002-19.397-5.593-19.397-15.2zm57.767-76.01v-9.121c0-10.033-4.044-12.161-15.202-12.161-11.158 0-15.202 2.128-15.202 12.161v9.121c0 10.033 4.226 12.162 15.202 12.162s15.202-2.128 15.202-12.162zm72.969 60.808h-24.323V318.275h24.323v42.565c3.466-8.118 10.337-12.161 21.283-12.161 19.033 0 27.363 9.364 27.363 32.714v67.618h-24.323v-63.848c0-9.516-3.253-15.202-12.162-15.202-8.908 0-12.161 5.686-12.161 15.202v63.848zm-678.004 0h-24.323V318.275h24.323v42.565c3.466-8.118 11.888-12.161 22.772-12.161 19.033 0 25.874 9.516 25.874 32.867v67.466h-24.323v-66.888c0-9.516-3.253-13.499-12.161-13.499s-12.162 6.871-12.162 16.388v63.998z\"/></svg>\\n\\t\\t\\t\\t\\t<img src=\"https://fivethirtyeight.com/wp-content/themes/espn-fivethirtyeight/assets/images/logo-fox-head-color.svg\" alt=\"FiveThirtyEight\" width=\"57\" height=\"55\" class=\"site-logo-small\" id=\"site-logo-small\" />\\n\\t\\t\\t\\t</a>\\n\\t\\t\\t\\t\\t\\t\\t</h1>\\n\\t\\t\\t\\n\\t\\t\\t<form action=\"https://fivethirtyeight.com/\" method=\"get\" id=\"searchform\" class=\"search-form\">\\n\\t\\t\\t\\t<label for=\"search-field\" class=\"search-form-label\">Search</label>\\n\\t\\t\\t\\t<div class=\"search-form-input-wrapper\"><input type=\"search\" name=\"s\" id=\"search-field\" class=\"search-form-input\" placeholder=\"Search\" tabindex=\"-1\"></div>\\n\\t\\t\\t\\t<input type=\"submit\" value=\"Search\" class=\"search-form-submit\" tabindex=\"-1\">\\n\\t\\t\\t\\t<button aria-label=\"Search\" class=\"search-button\" id=\"search-button\" aria-expanded=\"false\">\\n\\t\\t\\t\\t\\t<span class=\"visually-hidden\">Search</span>\\n\\t\\t\\t\\t</button>\\n\\t\\t\\t</form>\\n\\n\\t\\t\\t<a href=\"https://abcnews.go.com/\" rel=\"noopener\" title=\"ABC News\" target=\"_blank\" class=\"header-espn-link\" name=\"&amp;lpos=fivethirtyeightHeader&amp;lid=Header ABC News\">\\n\\t\\t\\t\\t<svg width=\"65\" height=\"23\" xmlns=\"http://www.w3.org/2000/svg\" role=\"presentation\"><path d=\"M25.089 6.709c-.47-.496-.974-.798-1.322-.798h-.313v-.275h.261c.121 0 1.548.058 1.687.058.227 0 .886-.058 1.026-.058h.278l6.618 7.345V7.187c0-.921-.4-1.276-1.407-1.276h-.296v-.275h.313c.035 0 1.529.058 1.65.058.173 0 1.164-.058 1.355-.058h.192l.017.275c-.922.071-1.165.32-1.165 1.135v9.16h-.312l-7.904-8.77v6.6c0 1.384.314 1.756 1.46 1.756h.295v.296h-.331c-.243 0-1.441-.06-1.72-.06-.156 0-1.269.06-1.512.06h-.279v-.296c1.166-.107 1.41-.302 1.41-1.153v-7.93h-.001zm11.98.106c0-.691-.261-.904-1.079-.904h-.26v-.275h.678c.47 0 3.008.058 3.026.058.364 0 2.777-.058 3.296-.058h.695l.035 2.277h-.27c-.053-1.188-.58-1.667-1.795-1.667h-2.43v4.026h2.1c.816 0 1.268-.39 1.389-1.225l.31.018v3.178h-.293c-.138-.993-.642-1.383-1.857-1.383h-1.666v3.672c0 .603.296.905.885.905h1.736c1.126 0 1.944-.515 2.43-1.58h.314l-.731 2.23c-.505 0-2.898-.058-3.696-.058-.539 0-3.13.04-3.722.058h-.452v-.295h.278c.818-.017 1.08-.23 1.08-.923V6.815zm16.701 9.41h-.487l-1.984-5.511-2.035 5.512h-.47L45.4 6.975c-.26-.71-.505-.993-.957-1.08v-.26h.296c.191 0 1.149.059 1.375.059.191 0 1.182-.058 1.391-.058h.314v.275c-.505.019-.714.16-.714.443 0 .16.052.39.14.639l2.383 6.557 1.357-3.74-.887-2.516c-.383-1.081-.714-1.364-1.55-1.383v-.275h.28c.243 0 1.496.058 1.793.058.242 0 1.495-.058 1.773-.058h.417v.275h-.417c-.574 0-.852.142-.852.443 0 .16.07.444.174.727l2.314 6.522 1.827-5.53c.226-.709.33-1.17.33-1.453 0-.496-.243-.71-.782-.71h-.313v-.274h.087c.243 0 .851.058 1.217.058.173 0 .851-.058 1.18-.058h.123v.275c-.436.125-.66.443-1.007 1.525l-2.923 8.79zm4.01-2.563c.278.688.52 1.008.988 1.361.59.46 1.37.69 2.237.69 1.491 0 2.497-.796 2.497-1.946 0-.85-.486-1.31-2.282-2.175-1.74-.85-2.174-1.274-2.538-1.628-.537-.584-.762-1.114-.762-1.822 0-1.627 1.3-2.704 3.265-2.704.592 0 1.236.088 1.933.264.278.07.557.106.714.106.138 0 .209-.035.26-.153h.3l.034 2.229h-.247c-.156-.531-.26-.76-.487-1.05-.488-.585-1.254-.903-2.237-.903-1.248 0-2.064.601-2.064 1.504 0 .778.47 1.22 2.134 1.998 2.134 1.008 3.426 1.911 3.426 3.573 0 1.91-1.537 3.2-3.807 3.2a8.04 8.04 0 0 1-1.838-.229 3.676 3.676 0 0 0-.624-.089c-.209 0-.277.036-.415.2h-.295l-.035-.248c-.118-.7-.258-1.398-.418-2.09l.261-.089zM3.97 9.732c-.262 0-.51.06-.73.168-.587.291-.957.89-.955 1.546 0 .946.755 1.714 1.684 1.714.931 0 1.684-.768 1.684-1.714 0-.947-.753-1.715-1.684-1.715zm7.259 0c-.93 0-1.685.767-1.685 1.714 0 .946.754 1.714 1.685 1.714.93 0 1.684-.768 1.684-1.714 0-.947-.755-1.715-1.684-1.715z\"/><path d=\"M18.47 14.875c-1.862 0-3.37-1.535-3.37-3.43 0-1.893 1.508-3.428 3.37-3.428 1.596 0 2.932 1.132 3.28 2.65h-1.78a1.68 1.68 0 0 0-1.5-.936c-.932 0-1.686.768-1.686 1.715 0 .946.754 1.714 1.685 1.714a1.68 1.68 0 0 0 1.502-.94l1.783-.017c-.339 1.53-1.68 2.672-3.285 2.672zm-7.241 0c-1.853 0-3.356-1.522-3.369-3.405l-.04-6.016h1.704l.01 3.228c.499-.396 1.077-.665 1.695-.665 1.86 0 3.368 1.535 3.368 3.429s-1.509 3.429-3.368 3.429zm-5.546 0l-.007-.859c-.382.389-1.043.859-1.824.859-1.86 0-3.251-1.535-3.251-3.43 0-1.893 1.508-3.428 3.368-3.428.29 0 .573.037.843.108 1.453.38 2.526 1.723 2.526 3.32v.01l.02 3.42H5.682zM11.229.017C5.027.017 0 5.134 0 11.446s5.027 11.43 11.229 11.43c6.2 0 11.228-5.118 11.228-11.43 0-6.312-5.028-11.429-11.228-11.429z\"/></svg>\\n\\t\\t\\t\\t<span class=\"visually-hidden\">ABC News</span>\\n\\t\\t\\t</a>\\n\\n\\t\\t\\t<button class=\"nav-global-toggle\" id=\"nav-global-toggle\" aria-expanded=\"false\">Menu</button>\\n\\n\\t</div>\\n\\t\\t\\t\\t<div class=\"site-wrapper header-global-bottom\" role=\"dialog\" aria-label=\"Main menu\">\\n\\t\\t<nav class=\"nav-global\" id=\"nav-global\">\\n\\t\\t\\t<ul class=\"nav-global-menu\">\\n\\t\\t\\t\\t<li class=\"nav-global-menu-item menu-politics\">\\n\\t\\t\\t\\t\\t<a\\n\\t\\t\\t\\t\\t\\thref=\"https://fivethirtyeight.com/politics/\"\\n\\t\\t\\t\\t\\t\\tname=\"&amp;lpos=fivethirtyeight&amp;lid=Header Politics\"\\n\\t\\t\\t\\t\\t\\t\\t\\t\\t\\t\\t>\\n\\t\\t\\t\\t\\t\\tPolitics\\t\\t\\t\\t\\t</a>\\n\\t\\t\\t\\t</li>\\n\\t\\t\\t\\t<li class=\"nav-global-menu-item menu-sports -current-vertical\">\\n\\t\\t\\t\\t\\t<a\\n\\t\\t\\t\\t\\t\\thref=\"https://fivethirtyeight.com/sports/\"\\n\\t\\t\\t\\t\\t\\tname=\"&amp;lpos=fivethirtyeight&amp;lid=Header Sports\"\\n\\t\\t\\t\\t\\t\\taria-current=page\\t\\t\\t\\t\\t>\\n\\t\\t\\t\\t\\t\\tSports\\t\\t\\t\\t\\t</a>\\n\\t\\t\\t\\t</li>\\n\\t\\t\\t\\t<li class=\"nav-global-menu-item menu-science\">\\n\\t\\t\\t\\t\\t<a\\n\\t\\t\\t\\t\\t\\thref=\"https://fivethirtyeight.com/science/\"\\n\\t\\t\\t\\t\\t\\tname=\"&amp;lpos=fivethirtyeight&amp;lid=Header Science\"\\n\\t\\t\\t\\t\\t\\t\\t\\t\\t\\t\\t>\\n\\t\\t\\t\\t\\t\\tScience\\t\\t\\t\\t\\t</a>\\n\\t\\t\\t\\t</li>\\n\\t\\t\\t\\t<li class=\"nav-global-menu-item menu-podcast\">\\n\\t\\t\\t\\t\\t<a\\n\\t\\t\\t\\t\\t\\thref=\"https://fivethirtyeight.com/podcasts/\"\\n\\t\\t\\t\\t\\t\\tname=\"&amp;lpos=fivethirtyeight&amp;lid=Header Podcasts\"\\n\\t\\t\\t\\t\\t\\t\\t\\t\\t\\t\\t>\\n\\t\\t\\t\\t\\t\\tPodcasts\\t\\t\\t\\t\\t</a>\\n\\t\\t\\t\\t</li>\\n\\t\\t\\t\\t<li class=\"nav-global-menu-item menu-video\">\\n\\t\\t\\t\\t\\t<a\\n\\t\\t\\t\\t\\t\\thref=\"https://fivethirtyeight.com/videos/\"\\n\\t\\t\\t\\t\\t\\tname=\"&amp;lpos=fivethirtyeight&amp;lid=Header Video\"\\n\\t\\t\\t\\t\\t\\t\\t\\t\\t\\t\\t>\\n\\t\\t\\t\\t\\t\\tVideo\\t\\t\\t\\t\\t</a>\\n\\t\\t\\t\\t</li>\\n\\t\\t\\t\\t<li class=\"nav-global-menu-item menu-interactive\">\\n\\t\\t\\t\\t\\t<a\\n\\t\\t\\t\\t\\t\\thref=\"https://projects.fivethirtyeight.com/\"\\n\\t\\t\\t\\t\\t\\tname=\"&amp;lpos=fivethirtyeight&amp;lid=Header Interactives\"\\n\\t\\t\\t\\t\\t>\\n\\t\\t\\t\\t\\t\\tInteractives\\t\\t\\t\\t\\t</a>\\n\\t\\t\\t\\t</li>\\n\\t\\t\\t\\t<li class=\"nav-global-menu-item menu-abcn -mobile-only\">\\n\\t\\t\\t\\t\\t<a href=\"https://abcnews.go.com/\" rel=\"noopener\" name=\"&amp;lpos=fivethirtyeightHeader&amp;lid=Header ABC News\">\\n\\t\\t\\t\\t\\t\\tABC News\\t\\t\\t\\t\\t</a>\\n\\t\\t\\t\\t</li>\\n\\t\\t\\t</ul>\\n\\n\\t\\t\\t\\n\\t\\n\\t\\t</nav><!-- #nav-global -->\\n\\t\\t</div><!-- .site-wrapper -->\\n</header><!-- #header-global -->\\n\\n\\n<div class=\"site-main\">\\n\\t<div id=\"wrapper\" class=\"site-wrapper\">\\n\\t<div id=\"content\" class=\"vertical\">\\n\\n\\t\\t<div id=\"main\" data-col=\"2\">\\n\\n\\t\\t\\t<div data-href=\"https://fivethirtyeight.com/features/busting-4-major-myths-about-referees-in-the-nba-playoffs/\" class=\"featured-banner post-359271 fte_features type-fte_features status-publish has-post-thumbnail hentry tag-basketball tag-nba tag-nba-playoffs tag-nba-refs tag-referees espn_verticals-sports vertical-sports topic-slug-nba-playoffs\">\\n\\n\\t<a href=\\'https://fivethirtyeight.com/features/busting-4-major-myths-about-referees-in-the-nba-playoffs/\\' class=\\'post-thumbnail\\' name=\\'&amp;lpos=fivethirtyeight&amp;lid=sports+mem:story1\\'><img alt=\"Golden State Warriors forward Draymond Green argues with referee Gediminas Petraitis\" src=\"https://fivethirtyeight.com/wp-content/uploads/2023/04/AP23108134014052-4x3-1.jpg?w=683\" width=\"683\" height=\"512\" srcset=\"https://fivethirtyeight.com/wp-content/uploads/2023/04/AP23108134014052-4x3-1.jpg?w=683 1x, https://fivethirtyeight.com/wp-content/uploads/2023/04/AP23108134014052-4x3-1.jpg?w=1366 2x\" class=\"\" sizes=\"(max-width: 768px) 100vw, (max-width: 1080px) 66vw, 704px\" />\\n</a>\\n\\n\\t<div class=\"post-info\">\\n\\n\\t\\t\\n\\t\\t<p class=\"topic\"><a href=\"https://fivethirtyeight.com/tag/nba-playoffs/\" class=\"term \" name=\"&amp;lpos=fivethirtyeight&amp;lid=mem:slug:nba playoffs\">NBA Playoffs</a></p>\\n\\t\\t\\n\\t\\t<time class=\"updated visually-hidden\" title=\"2023-04-20T10:00:00+00:00\">April 20, 2023 6:00 AM</time>\\n\\n\\t\\t<h2 class=\"article-title entry-title\">\\n\\t\\t\\t<a href=\"https://fivethirtyeight.com/features/busting-4-major-myths-about-referees-in-the-nba-playoffs/\" name=\"&amp;lpos=fivethirtyeight&amp;lid=sports+mem:story1\">Busting 4 Major Myths About Referees In The NBA Playoffs</a>\\n\\t\\t</h2>\\n\\n\\t\\t\\n<p class=\"byline vcard\">\\n\\tBy <a name=\"&amp;lpos=fivethirtyeight&amp;lid=mem:byline:ben dowsett\" href=\"https://fivethirtyeight.com/contributors/ben-dowsett/\" title=\"\" class=\"author url fn\" rel=\"author\">Ben Dowsett</a></p>\\n\\t</div>\\n</div>\\n\\n\\t\\t\\t<div class=\"page-header\">\\n\\t\\t\\t\\t<h1 class=\"page-title\">Latest Sports</h1>\\n\\t\\t\\t</div>\\n\\n\\t\\t\\t<div id=\"primary\" class=\"vertical-col\">\\n\\n\\t\\t\\t\\t<div class=\"posts content-area\">\\n\\n\\t\\t\\t\\t\\t<div id=\"post-359237\" class=\"post-359237 fte_features type-fte_features status-publish has-post-thumbnail hentry tag-brooklyn-nets tag-mikal-bridges tag-nba tag-nba-playoffs tag-usage-rate espn_verticals-sports vertical-sports topic-slug-nba-playoffs\" data-href=\"https://fivethirtyeight.com/features/how-mikal-bridges-went-from-supporting-player-to-star/\">\\n\\n\\t\\t\\t\\t\\t\\t\\t\\t\\t<a data-section-1=\"sports\" data-section-2=\"sports:nba playoffs\" data-post-id=\"359237\" data-content-type=\"feature\" href=\"https://fivethirtyeight.com/features/how-mikal-bridges-went-from-supporting-player-to-star/\" class=\"post-thumbnail\" name=\"&amp;lpos=fivethirtyeight&amp;lid=sports+features:story1\">\\n\\t\\t\\t\\t\\t<!-- @todo: add correct logic detection, temporarily assigning this to posts tagged video -->\\n\\t\\t\\t\\t\\t\\t\\t\\t\\t\\t\\t\\t\\t\\t\\t\\t<img alt=\"Mikal Bridges of the Brooklyn Nets reacts after a made basket\" width=\"300\" height=\"225\" srcset=\"https://fivethirtyeight.com/wp-content/uploads/2023/04/GettyImages-1482503023-4x3-1.jpg?w=300 1x, https://fivethirtyeight.com/wp-content/uploads/2023/04/GettyImages-1482503023-4x3-1.jpg?w=600 2x\" class=\"\" sizes=\"(max-width: 768px) 100px, 210px\" />\\n\\t\\t\\t\\t\\t\\t\\t\\t\\t</a>\\n\\t\\t\\t\\t\\t\\n\\t<div class=\"post-info\">\\n\\t\\t<p class=\"topic\">\\n\\t\\t\\t\\t\\t\\t\\t\\t\\t<time class=\"datetime updated\" title=\"2023-04-19T06:00:00-04:00\">Apr. 19, 2023</time>\\n\\t\\t\\t\\t\\t</p>\\n\\n\\t\\t<div class=\"tease-meta\">\\n\\n\\t\\t\\n\\t\\t\\n\\t\\t<div class=\"tease-meta-content\">\\n\\n\\t\\t<h2 class=\"article-title entry-title\">\\n\\t\\t\\t<a data-section-1=\"sports\" data-section-2=\"sports:nba playoffs\" data-post-id=\"359237\" data-content-type=\"feature\" href=\"https://fivethirtyeight.com/features/how-mikal-bridges-went-from-supporting-player-to-star/\" name=\"&amp;lpos=fivethirtyeight&amp;lid=sports+features:story1\">\\n\\t\\t\\t\\tHow Mikal Bridges Went From Supporting Player To Star\\t\\t\\t</a>\\n\\t\\t</h2>\\n\\n\\t\\t\\t\\t\\t\\t<p class=\"single-metadata card vcard\">By <a href=\"https://fivethirtyeight.com/contributors/jared-dubin/\" title=\"\" class=\"author url fn\" rel=\"author\">Jared Dubin</a></p>\\n\\t\\t\\t\\t\\n\\t\\t\\t<p class=\"single-metadata single-topic\">Filed under <a href=\"https://fivethirtyeight.com/tag/nba-playoffs/\" class=\"term \" name=\"\">NBA Playoffs</a></p>\\n\\t\\t\\t\\t\\n\\t\\t\\t\\t\\t</div>\\n\\t\\t</div>\\n\\t</div>\\n</div><!-- .post -->\\n<div id=\"post-359231\" class=\"post-359231 fte_features type-fte_features status-publish has-post-thumbnail hentry tag-baseball tag-geraldo-perdomo tag-jarred-kelenic tag-mackenzie-gore tag-mlb espn_verticals-sports vertical-sports topic-slug-mlb\" data-href=\"https://fivethirtyeight.com/features/these-3-former-mlb-prospects-have-gone-from-busts-to-busting-out/\">\\n\\n\\t\\t\\t\\t\\t\\t\\t\\t\\t<a data-section-1=\"sports\" data-section-2=\"sports:mlb\" data-post-id=\"359231\" data-content-type=\"feature\" href=\"https://fivethirtyeight.com/features/these-3-former-mlb-prospects-have-gone-from-busts-to-busting-out/\" class=\"post-thumbnail\" name=\"&amp;lpos=fivethirtyeight&amp;lid=sports+features:story2\">\\n\\t\\t\\t\\t\\t<!-- @todo: add correct logic detection, temporarily assigning this to posts tagged video -->\\n\\t\\t\\t\\t\\t\\t\\t\\t\\t\\t\\t\\t\\t\\t\\t\\t<img alt=\"MLBROOKIES-2023-4&#215;3\" width=\"300\" height=\"225\" srcset=\"https://fivethirtyeight.com/wp-content/uploads/2023/04/MLBROOKIES-2023-4x3-1.png?w=300 1x, https://fivethirtyeight.com/wp-content/uploads/2023/04/MLBROOKIES-2023-4x3-1.png?w=600 2x\" class=\"\" sizes=\"(max-width: 768px) 100px, 210px\" />\\n\\t\\t\\t\\t\\t\\t\\t\\t\\t</a>\\n\\t\\t\\t\\t\\t\\n\\t<div class=\"post-info\">\\n\\t\\t<p class=\"topic\">\\n\\t\\t\\t\\t\\t\\t\\t\\t\\t<time class=\"datetime updated\" title=\"2023-04-18T10:29:40-04:00\">Apr. 18, 2023</time>\\n\\t\\t\\t\\t\\t</p>\\n\\n\\t\\t<div class=\"tease-meta\">\\n\\n\\t\\t\\n\\t\\t\\n\\t\\t<div class=\"tease-meta-content\">\\n\\n\\t\\t<h2 class=\"article-title entry-title\">\\n\\t\\t\\t<a data-section-1=\"sports\" data-section-2=\"sports:mlb\" data-post-id=\"359231\" data-content-type=\"feature\" href=\"https://fivethirtyeight.com/features/these-3-former-mlb-prospects-have-gone-from-busts-to-busting-out/\" name=\"&amp;lpos=fivethirtyeight&amp;lid=sports+features:story2\">\\n\\t\\t\\t\\tThese 3 Former MLB Prospects Have Gone From Busts To Busting Out\\t\\t\\t</a>\\n\\t\\t</h2>\\n\\n\\t\\t\\t\\t\\t\\t<p class=\"single-metadata card vcard\">By <a href=\"https://fivethirtyeight.com/contributors/alex-kirshner/\" title=\"\" class=\"author url fn\" rel=\"author\">Alex Kirshner</a></p>\\n\\t\\t\\t\\t\\n\\t\\t\\t<p class=\"single-metadata single-topic\">Filed under <a href=\"https://fivethirtyeight.com/tag/mlb/\" class=\"term \" name=\"\">MLB</a></p>\\n\\t\\t\\t\\t\\n\\t\\t\\t\\t\\t</div>\\n\\t\\t</div>\\n\\t</div>\\n</div><!-- .post -->\\n<div id=\"post-359157\" class=\"post-359157 fte_features type-fte_features status-publish has-post-thumbnail hentry tag-baseball tag-mlb tag-mlb-history tag-tampa-bay-rays tag-winning-streaks espn_verticals-sports vertical-sports topic-slug-mlb\" data-href=\"https://fivethirtyeight.com/features/tampa-bay-rays-hot-start/\">\\n\\n\\t\\t\\t\\t\\t\\t\\t\\t\\t<a data-section-1=\"sports\" data-section-2=\"sports:mlb\" data-post-id=\"359157\" data-content-type=\"feature\" href=\"https://fivethirtyeight.com/features/tampa-bay-rays-hot-start/\" class=\"post-thumbnail\" name=\"&amp;lpos=fivethirtyeight&amp;lid=sports+features:story3\">\\n\\t\\t\\t\\t\\t<!-- @todo: add correct logic detection, temporarily assigning this to posts tagged video -->\\n\\t\\t\\t\\t\\t\\t\\t\\t\\t\\t\\t\\t\\t\\t\\t\\t<img alt=\"Wander Franco and Manuel Margot of the Tampa Bay Rays celebrate\" width=\"300\" height=\"225\" srcset=\"https://fivethirtyeight.com/wp-content/uploads/2023/04/GettyImages-1481795183-4x3-1.jpg?w=300 1x, https://fivethirtyeight.com/wp-content/uploads/2023/04/GettyImages-1481795183-4x3-1.jpg?w=600 2x\" class=\"\" sizes=\"(max-width: 768px) 100px, 210px\" />\\n\\t\\t\\t\\t\\t\\t\\t\\t\\t</a>\\n\\t\\t\\t\\t\\t\\n\\t<div class=\"post-info\">\\n\\t\\t<p class=\"topic\">\\n\\t\\t\\t\\t\\t\\t\\t\\t\\t<time class=\"datetime updated\" title=\"2023-04-17T10:58:06-04:00\">Apr. 17, 2023</time>\\n\\t\\t\\t\\t\\t</p>\\n\\n\\t\\t<div class=\"tease-meta\">\\n\\n\\t\\t\\n\\t\\t\\n\\t\\t<div class=\"tease-meta-content\">\\n\\n\\t\\t<h2 class=\"article-title entry-title\">\\n\\t\\t\\t<a data-section-1=\"sports\" data-section-2=\"sports:mlb\" data-post-id=\"359157\" data-content-type=\"feature\" href=\"https://fivethirtyeight.com/features/tampa-bay-rays-hot-start/\" name=\"&amp;lpos=fivethirtyeight&amp;lid=sports+features:story3\">\\n\\t\\t\\t\\tThe Rays&#8217; Dominance Goes Even Deeper Than Their 13-0 Start\\t\\t\\t</a>\\n\\t\\t</h2>\\n\\n\\t\\t\\t\\t\\t\\t<p class=\"single-metadata card vcard\">By <a href=\"https://fivethirtyeight.com/contributors/neil-paine/\" title=\"\" class=\"author url fn\" rel=\"author\">Neil Paine</a></p>\\n\\t\\t\\t\\t\\n\\t\\t\\t<p class=\"single-metadata single-topic\">Filed under <a href=\"https://fivethirtyeight.com/tag/mlb/\" class=\"term \" name=\"\">MLB</a></p>\\n\\t\\t\\t\\t\\n\\t\\t\\t\\t\\t</div>\\n\\t\\t</div>\\n\\t</div>\\n</div><!-- .post -->\\n<div id=\"post-359104\" class=\"post-359104 fte_features type-fte_features status-publish has-post-thumbnail hentry tag-aliyah-boston tag-basketball tag-indiana-fever tag-wnba tag-wnba-draft espn_verticals-sports vertical-sports topic-slug-wnba\" data-href=\"https://fivethirtyeight.com/features/who-won-the-2023-wnba-draft/\">\\n\\n\\t\\t\\t\\t\\t\\t\\t\\t\\t<a data-section-1=\"sports\" data-section-2=\"sports:wnba\" data-post-id=\"359104\" data-content-type=\"feature\" href=\"https://fivethirtyeight.com/features/who-won-the-2023-wnba-draft/\" class=\"post-thumbnail\" name=\"&amp;lpos=fivethirtyeight&amp;lid=sports+features:story4\">\\n\\t\\t\\t\\t\\t<!-- @todo: add correct logic detection, temporarily assigning this to posts tagged video -->\\n\\t\\t\\t\\t\\t\\t\\t\\t\\t\\t\\t\\t\\t\\t\\t\\t<img alt=\"WNBA Commissioner Cathy Engelbert and Aliyah Boston pose for photos after Boston was drafted 1st overall by the Indiana Fever\" width=\"300\" height=\"225\" srcset=\"https://fivethirtyeight.com/wp-content/uploads/2023/04/GettyImages-1481271626-4x3-1.jpg?w=300 1x, https://fivethirtyeight.com/wp-content/uploads/2023/04/GettyImages-1481271626-4x3-1.jpg?w=600 2x\" class=\"\" sizes=\"(max-width: 768px) 100px, 210px\" />\\n\\t\\t\\t\\t\\t\\t\\t\\t\\t</a>\\n\\t\\t\\t\\t\\t\\n\\t<div class=\"post-info\">\\n\\t\\t<p class=\"topic\">\\n\\t\\t\\t\\t\\t\\t\\t\\t\\t<time class=\"datetime updated\" title=\"2023-04-14T06:00:00-04:00\">Apr. 14, 2023</time>\\n\\t\\t\\t\\t\\t</p>\\n\\n\\t\\t<div class=\"tease-meta\">\\n\\n\\t\\t\\n\\t\\t\\n\\t\\t<div class=\"tease-meta-content\">\\n\\n\\t\\t<h2 class=\"article-title entry-title\">\\n\\t\\t\\t<a data-section-1=\"sports\" data-section-2=\"sports:wnba\" data-post-id=\"359104\" data-content-type=\"feature\" href=\"https://fivethirtyeight.com/features/who-won-the-2023-wnba-draft/\" name=\"&amp;lpos=fivethirtyeight&amp;lid=sports+features:story4\">\\n\\t\\t\\t\\tWho Won The 2023 WNBA Draft?\\t\\t\\t</a>\\n\\t\\t</h2>\\n\\n\\t\\t\\t\\t\\t\\t<p class=\"single-metadata card vcard\">By <a href=\"https://fivethirtyeight.com/contributors/howard-megdal/\" title=\"\" class=\"author url fn\" rel=\"author\">Howard Megdal</a></p>\\n\\t\\t\\t\\t\\n\\t\\t\\t<p class=\"single-metadata single-topic\">Filed under <a href=\"https://fivethirtyeight.com/tag/wnba/\" class=\"term \" name=\"\">WNBA</a></p>\\n\\t\\t\\t\\t\\n\\t\\t\\t\\t\\t</div>\\n\\t\\t</div>\\n\\t</div>\\n</div><!-- .post -->\\n<div id=\"post-359034\" class=\"post-359034 fte_features type-fte_features status-publish has-post-thumbnail hentry tag-boston-bruins tag-colorado-avalanche tag-hockey tag-nhl tag-nhl-playoffs espn_verticals-sports vertical-sports topic-slug-nhl\" data-href=\"https://fivethirtyeight.com/features/the-nhl-playoffs-are-here-can-anyone-stop-the-big-bad-bruins/\">\\n\\n\\t\\t\\t\\t\\t\\t\\t\\t\\t<a data-section-1=\"sports\" data-section-2=\"sports:nhl\" data-post-id=\"359034\" data-content-type=\"feature\" href=\"https://fivethirtyeight.com/features/the-nhl-playoffs-are-here-can-anyone-stop-the-big-bad-bruins/\" class=\"post-thumbnail\" name=\"&amp;lpos=fivethirtyeight&amp;lid=sports+features:story5\">\\n\\t\\t\\t\\t\\t<!-- @todo: add correct logic detection, temporarily assigning this to posts tagged video -->\\n\\t\\t\\t\\t\\t\\t\\t\\t\\t\\t\\t\\t\\t\\t\\t\\t<img alt=\"NHL-PLAYOFFS-2023-4&#215;3\" width=\"300\" height=\"225\" srcset=\"https://fivethirtyeight.com/wp-content/uploads/2023/04/NHL-PLAYOFFS-2023-4x3-1.png?w=300 1x, https://fivethirtyeight.com/wp-content/uploads/2023/04/NHL-PLAYOFFS-2023-4x3-1.png?w=600 2x\" class=\"\" sizes=\"(max-width: 768px) 100px, 210px\" />\\n\\t\\t\\t\\t\\t\\t\\t\\t\\t</a>\\n\\t\\t\\t\\t\\t\\n\\t<div class=\"post-info\">\\n\\t\\t<p class=\"topic\">\\n\\t\\t\\t\\t\\t\\t\\t\\t\\t<time class=\"datetime updated\" title=\"2023-04-13T06:00:00-04:00\">Apr. 13, 2023</time>\\n\\t\\t\\t\\t\\t</p>\\n\\n\\t\\t<div class=\"tease-meta\">\\n\\n\\t\\t\\n\\t\\t\\n\\t\\t<div class=\"tease-meta-content\">\\n\\n\\t\\t<h2 class=\"article-title entry-title\">\\n\\t\\t\\t<a data-section-1=\"sports\" data-section-2=\"sports:nhl\" data-post-id=\"359034\" data-content-type=\"feature\" href=\"https://fivethirtyeight.com/features/the-nhl-playoffs-are-here-can-anyone-stop-the-big-bad-bruins/\" name=\"&amp;lpos=fivethirtyeight&amp;lid=sports+features:story5\">\\n\\t\\t\\t\\tCan Anyone Stop The Big, Bad Bruins?\\t\\t\\t</a>\\n\\t\\t</h2>\\n\\n\\t\\t\\t\\t\\t\\t<p class=\"single-metadata card vcard\">By <a href=\"https://fivethirtyeight.com/contributors/neil-paine/\" title=\"\" class=\"author url fn\" rel=\"author\">Neil Paine</a> and <a href=\"https://fivethirtyeight.com/contributors/terrence-doyle/\" title=\"\" class=\"author url fn\" rel=\"author\">Terrence Doyle</a></p>\\n\\t\\t\\t\\t\\n\\t\\t\\t<p class=\"single-metadata single-topic\">Filed under <a href=\"https://fivethirtyeight.com/tag/nhl/\" class=\"term \" name=\"\">NHL</a></p>\\n\\t\\t\\t\\t\\n\\t\\t\\t\\t\\t</div>\\n\\t\\t</div>\\n\\t</div>\\n</div><!-- .post -->\\n<div id=\"post-358983\" class=\"post-358983 fte_features type-fte_features status-publish has-post-thumbnail hentry tag-baseball tag-justin-verlander tag-kodai-senga tag-max-scherzer tag-mlb tag-new-york-mets tag-pete-alonso tag-steve-cohen espn_verticals-sports vertical-sports topic-slug-mlb\" data-href=\"https://fivethirtyeight.com/features/mets-payroll-slow-start-2023/\">\\n\\n\\t\\t\\t\\t\\t\\t\\t\\t\\t<a data-section-1=\"sports\" data-section-2=\"sports:mlb\" data-post-id=\"358983\" data-content-type=\"feature\" href=\"https://fivethirtyeight.com/features/mets-payroll-slow-start-2023/\" class=\"post-thumbnail\" name=\"&amp;lpos=fivethirtyeight&amp;lid=sports+features:story6\">\\n\\t\\t\\t\\t\\t<!-- @todo: add correct logic detection, temporarily assigning this to posts tagged video -->\\n\\t\\t\\t\\t\\t\\t\\t\\t\\t\\t\\t\\t\\t\\t\\t\\t<img alt=\"Miami Marlins v New York Mets\" width=\"300\" height=\"225\" srcset=\"https://fivethirtyeight.com/wp-content/uploads/2023/04/GettyImages-1481075036-4x3-1.jpg?w=300 1x, https://fivethirtyeight.com/wp-content/uploads/2023/04/GettyImages-1481075036-4x3-1.jpg?w=600 2x\" class=\"\" sizes=\"(max-width: 768px) 100px, 210px\" />\\n\\t\\t\\t\\t\\t\\t\\t\\t\\t</a>\\n\\t\\t\\t\\t\\t\\n\\t<div class=\"post-info\">\\n\\t\\t<p class=\"topic\">\\n\\t\\t\\t\\t\\t\\t\\t\\t\\t<time class=\"datetime updated\" title=\"2023-04-12T06:00:00-04:00\">Apr. 12, 2023</time>\\n\\t\\t\\t\\t\\t</p>\\n\\n\\t\\t<div class=\"tease-meta\">\\n\\n\\t\\t\\n\\t\\t\\n\\t\\t<div class=\"tease-meta-content\">\\n\\n\\t\\t<h2 class=\"article-title entry-title\">\\n\\t\\t\\t<a data-section-1=\"sports\" data-section-2=\"sports:mlb\" data-post-id=\"358983\" data-content-type=\"feature\" href=\"https://fivethirtyeight.com/features/mets-payroll-slow-start-2023/\" name=\"&amp;lpos=fivethirtyeight&amp;lid=sports+features:story6\">\\n\\t\\t\\t\\tThe Mets Assembled The Most Expensive Baseball Team Ever. Is That Enough To Make Them MLB&#8217;s Best Team?\\t\\t\\t</a>\\n\\t\\t</h2>\\n\\n\\t\\t\\t\\t\\t\\t<p class=\"single-metadata card vcard\">By <a href=\"https://fivethirtyeight.com/contributors/alex-kirshner/\" title=\"\" class=\"author url fn\" rel=\"author\">Alex Kirshner</a></p>\\n\\t\\t\\t\\t\\n\\t\\t\\t<p class=\"single-metadata single-topic\">Filed under <a href=\"https://fivethirtyeight.com/tag/mlb/\" class=\"term \" name=\"\">MLB</a></p>\\n\\t\\t\\t\\t\\n\\t\\t\\t\\t\\t</div>\\n\\t\\t</div>\\n\\t</div>\\n</div><!-- .post -->\\n<div id=\"post-357799\" class=\"post-357799 fte_features type-fte_features status-publish has-post-thumbnail hentry tag-nba tag-nba-play-in-tournament tag-nba-playoffs tag-win-probabilities espn_verticals-sports vertical-sports topic-slug-nba\" data-href=\"https://fivethirtyeight.com/features/our-new-live-in-game-win-probabilities-are-here-for-the-nba-playoffs/\">\\n\\n\\t\\t\\t\\t\\t\\t\\t\\t\\t<a data-section-1=\"sports\" data-section-2=\"sports:nba\" data-post-id=\"357799\" data-content-type=\"feature\" href=\"https://fivethirtyeight.com/features/our-new-live-in-game-win-probabilities-are-here-for-the-nba-playoffs/\" class=\"post-thumbnail\" name=\"&amp;lpos=fivethirtyeight&amp;lid=sports+features:story7\">\\n\\t\\t\\t\\t\\t<!-- @todo: add correct logic detection, temporarily assigning this to posts tagged video -->\\n\\t\\t\\t\\t\\t\\t\\t\\t\\t\\t\\t\\t\\t\\t\\t\\t<img alt=\"NBA-winprob-2023_4x3\" width=\"300\" height=\"225\" srcset=\"https://fivethirtyeight.com/wp-content/uploads/2023/04/NBA-winprob-2023_4x3.png?w=300 1x, https://fivethirtyeight.com/wp-content/uploads/2023/04/NBA-winprob-2023_4x3.png?w=600 2x\" class=\"\" sizes=\"(max-width: 768px) 100px, 210px\" />\\n\\t\\t\\t\\t\\t\\t\\t\\t\\t</a>\\n\\t\\t\\t\\t\\t\\n\\t<div class=\"post-info\">\\n\\t\\t<p class=\"topic\">\\n\\t\\t\\t\\t\\t\\t\\t\\t\\t<time class=\"datetime updated\" title=\"2023-04-11T06:00:00-04:00\">Apr. 11, 2023</time>\\n\\t\\t\\t\\t\\t</p>\\n\\n\\t\\t<div class=\"tease-meta\">\\n\\n\\t\\t\\n\\t\\t\\n\\t\\t<div class=\"tease-meta-content\">\\n\\n\\t\\t<h2 class=\"article-title entry-title\">\\n\\t\\t\\t<a data-section-1=\"sports\" data-section-2=\"sports:nba\" data-post-id=\"357799\" data-content-type=\"feature\" href=\"https://fivethirtyeight.com/features/our-new-live-in-game-win-probabilities-are-here-for-the-nba-playoffs/\" name=\"&amp;lpos=fivethirtyeight&amp;lid=sports+features:story7\">\\n\\t\\t\\t\\tOur New Live In-Game Win Probabilities Are Here For The NBA Playoffs\\t\\t\\t</a>\\n\\t\\t</h2>\\n\\n\\t\\t\\t\\t\\t\\t<p class=\"single-metadata card vcard\">By <a href=\"https://fivethirtyeight.com/contributors/ryan-best/\" title=\"\" class=\"author url fn\" rel=\"author\">Ryan Best</a> and <a href=\"https://fivethirtyeight.com/contributors/jay-boice/\" title=\"\" class=\"author url fn\" rel=\"author\">Jay Boice</a></p>\\n\\t\\t\\t\\t\\n\\t\\t\\t<p class=\"single-metadata single-topic\">Filed under <a href=\"https://fivethirtyeight.com/tag/nba/\" class=\"term \" name=\"\">NBA</a></p>\\n\\t\\t\\t\\t\\n\\t\\t\\t\\t\\t</div>\\n\\t\\t</div>\\n\\t</div>\\n</div><!-- .post -->\\n<div id=\"post-358518\" class=\"post-358518 fte_features type-fte_features status-publish has-post-thumbnail hentry tag-basketball tag-nba tag-nba-play-in-tournament tag-nba-playoffs espn_verticals-sports vertical-sports topic-slug-nba\" data-href=\"https://fivethirtyeight.com/features/no-play-in-team-has-won-an-nba-playoff-series-will-that-change-this-season/\">\\n\\n\\t\\t\\t\\t\\t\\t\\t\\t\\t<a data-section-1=\"sports\" data-section-2=\"sports:nba\" data-post-id=\"358518\" data-content-type=\"feature\" href=\"https://fivethirtyeight.com/features/no-play-in-team-has-won-an-nba-playoff-series-will-that-change-this-season/\" class=\"post-thumbnail\" name=\"&amp;lpos=fivethirtyeight&amp;lid=sports+features:story8\">\\n\\t\\t\\t\\t\\t<!-- @todo: add correct logic detection, temporarily assigning this to posts tagged video -->\\n\\t\\t\\t\\t\\t\\t\\t\\t\\t\\t\\t\\t\\t\\t\\t\\t<img alt=\"LeBron James of the Los Angeles Lakers dribbles the ball while Jaden McDaniels of the Minnesota Timberwolves defends\" width=\"300\" height=\"225\" srcset=\"https://fivethirtyeight.com/wp-content/uploads/2023/04/GettyImages-1250201132-4x3-1.jpg?w=300 1x, https://fivethirtyeight.com/wp-content/uploads/2023/04/GettyImages-1250201132-4x3-1.jpg?w=600 2x\" class=\"\" sizes=\"(max-width: 768px) 100px, 210px\" />\\n\\t\\t\\t\\t\\t\\t\\t\\t\\t</a>\\n\\t\\t\\t\\t\\t\\n\\t<div class=\"post-info\">\\n\\t\\t<p class=\"topic\">\\n\\t\\t\\t\\t\\t\\t\\t\\t\\t<time class=\"datetime updated\" title=\"2023-04-11T06:00:00-04:00\">Apr. 11, 2023</time>\\n\\t\\t\\t\\t\\t</p>\\n\\n\\t\\t<div class=\"tease-meta\">\\n\\n\\t\\t\\n\\t\\t\\n\\t\\t<div class=\"tease-meta-content\">\\n\\n\\t\\t<h2 class=\"article-title entry-title\">\\n\\t\\t\\t<a data-section-1=\"sports\" data-section-2=\"sports:nba\" data-post-id=\"358518\" data-content-type=\"feature\" href=\"https://fivethirtyeight.com/features/no-play-in-team-has-won-an-nba-playoff-series-will-that-change-this-season/\" name=\"&amp;lpos=fivethirtyeight&amp;lid=sports+features:story8\">\\n\\t\\t\\t\\tNo Play-In Team Has Won An NBA Playoff Series. Will That Change This Season?\\t\\t\\t</a>\\n\\t\\t</h2>\\n\\n\\t\\t\\t\\t\\t\\t<p class=\"single-metadata card vcard\">By <a href=\"https://fivethirtyeight.com/contributors/jared-dubin/\" title=\"\" class=\"author url fn\" rel=\"author\">Jared Dubin</a></p>\\n\\t\\t\\t\\t\\n\\t\\t\\t<p class=\"single-metadata single-topic\">Filed under <a href=\"https://fivethirtyeight.com/tag/nba/\" class=\"term \" name=\"\">NBA</a></p>\\n\\t\\t\\t\\t\\n\\t\\t\\t\\t\\t</div>\\n\\t\\t</div>\\n\\t</div>\\n</div><!-- .post -->\\n<div id=\"post-358176\" class=\"post-358176 fte_features type-fte_features status-publish has-post-thumbnail hentry tag-dallas-mavericks tag-kyrie-irving tag-luka-doncic tag-nba tag-nba-playoffs espn_verticals-sports vertical-sports topic-slug-nba\" data-href=\"https://fivethirtyeight.com/features/its-rough-out-there-in-dallas-but-its-not-kyrie-irvings-fault/\">\\n\\n\\t\\t\\t\\t\\t\\t\\t\\t\\t<a data-section-1=\"sports\" data-section-2=\"sports:nba\" data-post-id=\"358176\" data-content-type=\"feature\" href=\"https://fivethirtyeight.com/features/its-rough-out-there-in-dallas-but-its-not-kyrie-irvings-fault/\" class=\"post-thumbnail\" name=\"&amp;lpos=fivethirtyeight&amp;lid=sports+features:story9\">\\n\\t\\t\\t\\t\\t<!-- @todo: add correct logic detection, temporarily assigning this to posts tagged video -->\\n\\t\\t\\t\\t\\t\\t\\t\\t\\t\\t\\t\\t\\t\\t\\t\\t<img alt=\"Kyrie Irving of the Dallas Mavericks\" width=\"300\" height=\"225\" srcset=\"https://fivethirtyeight.com/wp-content/uploads/2023/04/GettyImages-1250812093-4x3-1.jpg?w=300 1x, https://fivethirtyeight.com/wp-content/uploads/2023/04/GettyImages-1250812093-4x3-1.jpg?w=600 2x\" class=\"\" sizes=\"(max-width: 768px) 100px, 210px\" />\\n\\t\\t\\t\\t\\t\\t\\t\\t\\t</a>\\n\\t\\t\\t\\t\\t\\n\\t<div class=\"post-info\">\\n\\t\\t<p class=\"topic\">\\n\\t\\t\\t\\t\\t\\t\\t\\t\\t<time class=\"datetime updated\" title=\"2023-04-10T10:59:29-04:00\">Apr. 10, 2023</time>\\n\\t\\t\\t\\t\\t</p>\\n\\n\\t\\t<div class=\"tease-meta\">\\n\\n\\t\\t\\n\\t\\t\\n\\t\\t<div class=\"tease-meta-content\">\\n\\n\\t\\t<h2 class=\"article-title entry-title\">\\n\\t\\t\\t<a data-section-1=\"sports\" data-section-2=\"sports:nba\" data-post-id=\"358176\" data-content-type=\"feature\" href=\"https://fivethirtyeight.com/features/its-rough-out-there-in-dallas-but-its-not-kyrie-irvings-fault/\" name=\"&amp;lpos=fivethirtyeight&amp;lid=sports+features:story9\">\\n\\t\\t\\t\\tIt&#8217;s Rough Out There In Dallas. But It&#8217;s Not Kyrie Irving&#8217;s Fault.\\t\\t\\t</a>\\n\\t\\t</h2>\\n\\n\\t\\t\\t\\t\\t\\t<p class=\"single-metadata card vcard\">By <a href=\"https://fivethirtyeight.com/contributors/louis-zatzman/\" title=\"\" class=\"author url fn\" rel=\"author\">Louis Zatzman</a></p>\\n\\t\\t\\t\\t\\n\\t\\t\\t<p class=\"single-metadata single-topic\">Filed under <a href=\"https://fivethirtyeight.com/tag/nba/\" class=\"term \" name=\"\">NBA</a></p>\\n\\t\\t\\t\\t\\n\\t\\t\\t\\t\\t</div>\\n\\t\\t</div>\\n\\t</div>\\n</div><!-- .post -->\\n<div class=\"articles-pagination\"><a href=\"https://fivethirtyeight.com/sports/features/page/2/\" class=\"link-sectionmore\" name=\"&amp;lpos=fivethirtyeightsports&amp;lid=features-load-more\">More &gt;</a></div><div id=\"taboola-67\" class=\"taboola-placeholder taboola-recommendations\" data-src=\"https://fivethirtyeight.com/features/its-rough-out-there-in-dallas-but-its-not-kyrie-irvings-fault/\" data-mode=\"thumbnails-a\" data-placement=\"Below Category Thumbnails\"></div>\\t\\t\\t\\t</div><!-- .posts -->\\n\\n\\t\\t\\t</div>\\n\\t\\t\\t<div id=\"secondary\" class=\"single-col vertical-col blog-col\">\\n\\n\\t<aside id=\"fivethirtyeight-embed-494\" class=\"widget flexible interactives embed \"><h2 class=\"widget-title\">Interactives</h2>\\n\\t\\t\\t\\t\\t<iframe id=\"pym-fivethirtyeight_embed_494\" title=\"Interactives\" src=\"https://projects.fivethirtyeight.com/2023-mlb-predictions/promo.html\" width=\"300\" height=\"281\" scrolling=\"no\"></iframe>\\n\\t\\t\\t</aside>\\n\\n<aside id=\"dtci-a9-ad-3\" class=\"widget a9-sidebar-ad\" aria-label=\"Sidebar Ad A9\"><div id=\"ad-A9InContent-1\" class=\"ad-a9incontent\" data-defer=\"none\"></div></aside><aside id=\"fivethirtyeight-embed-328\" class=\"widget flexible interactives embed \">\\n\\t\\t\\t\\t\\t<iframe id=\"pym-fivethirtyeight_embed_328\" title=\"\" src=\"https://projects.fivethirtyeight.com/2023-nba-predictions/promo.html\" width=\"300\" height=\"281\" scrolling=\"no\"></iframe>\\n\\t\\t\\t</aside>\\n\\n<aside id=\"fivethirtyeight-embed-397\" class=\"widget flexible interactives embed \">\\n\\t\\t\\t\\t\\t<iframe id=\"pym-fivethirtyeight_embed_397\" title=\"\" src=\"https://projects.fivethirtyeight.com/2023-nhl-predictions/promo.html\" width=\"300\" height=\"281\" scrolling=\"no\"></iframe>\\n\\t\\t\\t</aside>\\n\\n<aside id=\"fivethirtyeight-embed-398\" class=\"widget flexible interactives embed \">\\n\\t\\t\\t\\t\\t<iframe id=\"pym-fivethirtyeight_embed_398\" title=\"\" src=\"https://projects.fivethirtyeight.com/soccer-predictions/promo.html\" width=\"300\" height=\"281\" scrolling=\"no\"></iframe>\\n\\t\\t\\t</aside>\\n\\n<aside id=\"dtci-a9-ad-4\" class=\"widget a9-sidebar-ad\" aria-label=\"Sidebar Ad A9\"><div id=\"ad-A9InContent-2\" class=\"ad-a9incontent\" data-defer=\"none\"></div></aside></div><!-- #secondary -->\\n\\t\\t</div>\\n\\t</div>\\n\\n\\t<div class=\"newsletter-subscribe politics\">\\n\\t<div class=\"envelope\"></div>\\n\\n\\t<div class=\"outer-wrapper\">\\n\\t\\t<h4>Want the latest politics news? Get it in your inbox.</h4>\\n\\t\\t<div class=\"subscribed hidden\">\\n\\tYou are now subscribed!\\n</div>\\n<div class=\"newsletter-form-wrapper\">\\n\\t<div class=\"newsletter-form\">\\n\\t\\t<div class=\"errors hidden\" aria-live=\"polite\"></div>\\n\\t\\t<div class=\"inputs\">\\n\\t\\t\\t<input type=\"hidden\" name=\"nl\" value=\"FiveThirtyEight_-_Politics_Newsletter_N\" data-newsletter=\"FiveThirtyEight Politics\">\\n\\t\\t\\t<label for=\"newsletter-email-\" class=\"screen-reader-text\">Email Address</label>\\n\\t\\t\\t<input class=\"newsletter-input email-address\" aria-label=\"Email Address\" placeholder=\"Email address\" type=\"email\" name=\"email\">\\n\\t\\t\\t<button aria-label=\"Subscribe\" class=\"subscribe-action button\" type=\"submit\" name=\"Sign me up\">Sign me up</button>\\n\\t\\t</div>\\n\\t\\t<p class=\"all\"><a href=\"https://fivethirtyeight.com/newsletters/\">See all newsletters</a></p>\\n\\t\\t<p class=\"newsletter-agreement\"></p>\\n\\t</div>\\n</div>\\n\\t</div>\\n</div>\\n\\n\\n\\t</div><!-- #wrapper .site-wrapper -->\\n\\t</div><!-- .site-main -->\\n\\n<footer id=\"colophon\" class=\"site-footer\">\\n\\n\\t<div class=\"site-wrapper footer-main-content\">\\n\\n\\t\\t<div class=\"footer-section-get-more\">\\n\\t\\t\\tGet more FiveThirtyEight\\t\\t</div>\\n\\n\\t\\t<div class=\"footer-section-primary-links\">\\n\\t\\t\\t<ul class=\"footer-menu\">\\n\\t\\t\\t\\t<li class=\"footer-menu-item\">\\n\\t\\t\\t\\t\\t<a href=\"https://cottonbureau.com/stores/fivethirtyeight#/shop\" name=\"&amp;lpos=fivethirtyeightFooter&amp;lid=store\">Store</a>\\n\\t\\t\\t\\t</li>\\n\\t\\t\\t\\t<li class=\"footer-menu-item\">\\n\\t\\t\\t\\t\\t<a href=\"https://fivethirtyeight.com/newsletter/\" name=\"&amp;lpos=fivethirtyeightFooter&amp;lid=newsletter\">Newsletter</a>\\n\\t\\t\\t\\t</li>\\n\\t\\t\\t\\t<li class=\"footer-menu-item\">\\n\\t\\t\\t\\t\\t<a href=\"https://twitter.com/fivethirtyeight\" name=\"&amp;lpos=fivethirtyeightFooter&amp;lid=twitter\">Twitter</a>\\n\\t\\t\\t\\t</li>\\n\\t\\t\\t\\t<li class=\"footer-menu-item\">\\n\\t\\t\\t\\t\\t<a href=\"https://www.facebook.com/fivethirtyeight\" name=\"&amp;lpos=fivethirtyeightFooter&amp;lid=facebook\">Facebook</a>\\n\\t\\t\\t\\t</li>\\n\\t\\t\\t\\t<li class=\"footer-menu-item\">\\n\\t\\t\\t\\t\\t<a href=\"https://data.fivethirtyeight.com/\" name=\"&amp;lpos=fivethirtyeightFooter&amp;lid=data\">Data</a>\\n\\t\\t\\t\\t</li>\\n\\t\\t\\t\\t<li class=\"footer-menu-item\">\\n\\t\\t\\t\\t\\t<a href=\"https://fivethirtyeight.com/features/fear-not-readers-we-have-rss-feeds/\" name=\"&amp;lpos=fivethirtyeightFooter&amp;lid=rss\">RSS</a>\\n\\t\\t\\t\\t</li>\\n\\t\\t\\t</ul>\\n\\t\\t</div><!-- .footer-primary-links -->\\n\\n\\t\\t<div class=\"footer-section-social-follow\">\\n\\t\\t\\t<ul class=\"footer-menu\">\\n\\t\\t\\t\\t<li class=\"footer-menu-item social-share-item\">\\n\\t\\t\\t\\t\\t<div class=\"fb-like\" data-href=\"https://www.facebook.com/fivethirtyeight\" data-layout=\"button_count\"></div>\\n\\t\\t\\t\\t</li>\\n\\t\\t\\t\\t<li class=\"footer-menu-item social-share-item\">\\n\\t\\t\\t\\t\\t<a href=\"https://twitter.com/FiveThirtyEight\" class=\"twitter-follow-button\" data-show-count=\"true\">Follow @FiveThirtyEight</a>\\n\\t\\t\\t\\t</li>\\n\\t\\t\\t</ul>\\n\\t\\t</div>\\n\\n\\t\\t<div class=\"footer-section-secondary-links\">\\n\\t\\t\\t<ul class=\"footer-menu\">\\n\\t\\t\\t\\t<li class=\"footer-menu-item\">\\n\\t\\t\\t\\t\\t<a href=\"https://fivethirtyeight.com/about-us/\" name=\"&amp;lpos=fivethirtyeightFooter&amp;lid=about-us\">About Us</a>\\n\\t\\t\\t\\t</li>\\n\\t\\t\\t\\t<li class=\"footer-menu-item\">\\n\\t\\t\\t\\t\\t<a href=\"https://fivethirtyeight.com/about-us/\" name=\"&amp;lpos=fivethirtyeightFooter&amp;lid=jobs\">Jobs</a>\\n\\t\\t\\t\\t</li>\\n\\t\\t\\t\\t<li class=\"footer-menu-item\">\\n\\t\\t\\t\\t\\t<a href=\"https://fivethirtyeight.com/masthead/\" name=\"&amp;lpos=fivethirtyeightFooter&amp;lid=masthead\">Masthead</a>\\n\\t\\t\\t\\t</li>\\n\\t\\t\\t\\t<li class=\"footer-menu-item\">\\n\\t\\t\\t\\t\\t<a href=\"https://fivethirtyeight.com/how-to-pitch-fivethirtyeight/\" name=\"&amp;lpos=fivethirtyeightFooter&amp;lid=pitch\">Pitch FiveThirtyEight</a>\\n\\t\\t\\t\\t</li>\\n\\t\\t\\t\\t<li class=\"footer-menu-item\">\\n\\t\\t\\t\\t\\t<a href=\"https://disneyadsales.com/our-brands/abc-news/\" name=\"&amp;lpos=fivethirtyeightFooter&amp;lid=advertise\">Advertise With Us</a>\\n\\t\\t\\t\\t</li>\\n\\t\\t\\t\\t<li class=\"footer-menu-item\">\\n\\t\\t\\t\\t\\t<a href=\"http://priv-policy.imrworldwide.com/priv/browser/us/en/optout.html\" name=\"&amp;lpos=fivethirtyeightFooter&amp;lid=nielsen\">About Nielsen Measurement</a>\\n\\t\\t\\t\\t</li>\\n\\t\\t\\t</ul>\\n\\t\\t</div><!-- .footer-secondary-links -->\\n\\n\\t\\t<div class=\"footer-section-powered-by\">\\n\\t\\t\\tPowered by <a href=\"https://wpvip.com/?utm_source=vip_powered_wpcom&#038;utm_medium=web&#038;utm_campaign=VIP%20Footer%20Credit&#038;utm_term=fivethirtyeight.com\" rel=\"generator nofollow\" class=\"powered-by-wpcom\">WordPress VIP</a>\\t\\t</div><!-- .powered-by -->\\n\\n\\t\\t<div class=\"footer-section-tertiary-links\">\\n\\t\\t\\t<ul class=\"footer-menu\">\\n\\t\\t\\t\\t<li class=\"menu-item\">\\n\\t\\t\\t\\t\\t<a href=\"https://disneytermsofuse.com/\" name=\"&amp;lpos=fivethirtyeightFooter&amp;lid=disneyTOS\" target=\"_blank\" rel=\"noopener noreferrer\">Terms of Use</a>\\n\\t\\t\\t\\t</li>\\n\\t\\t\\t\\t<li class=\"menu-item\">\\n\\t\\t\\t\\t\\t<a href=\"https://disneyprivacycenter.com/\" name=\"&amp;lpos=fivethirtyeightFooter&amp;lid=disneyPrivacy\" target=\"_blank\" rel=\"noopener noreferrer\">Privacy Policy</a>\\n\\t\\t\\t\\t</li>\\n\\n\\t\\t\\t\\t<li class=\"menu-item\"><a href=\"https://privacy.thewaltdisneycompany.com/en/dnssmpi/\" class=\"ot-sdk-show-settings\">Do Not Sell My Personal Information</a></li>\\n\\t\\t\\t\\t<li class=\"menu-item\">\\n\\t\\t\\t\\t\\t<a href=\"https://privacy.thewaltdisneycompany.com/en/current-privacy-policy/your-us-state-privacy-rights/\" name=\"&amp;lpos=fivethirtyeightFooter&amp;lid=californiaPrivacyRights\" target=\"_blank\" rel=\"noopener noreferrer\">Your US State Privacy Rights</a>\\n\\t\\t\\t\\t</li>\\n\\t\\t\\t\\t<li class=\"menu-item\">\\n\\t\\t\\t\\t\\t<a href=\"https://disneyprivacycenter.com/kids-privacy-policy/english/\" name=\"&amp;lpos=fivethirtyeightFooter&amp;lid=childrensPrivacy\" target=\"_blank\" rel=\"noopener noreferrer\">Children\\'s Online Privacy Policy</a>\\n\\t\\t\\t\\t</li>\\n\\t\\t\\t\\t<li class=\"menu-item\">\\n\\t\\t\\t\\t\\t<a href=\"https://preferences-mgr.truste.com/?type=abcnews&affiliateId=11&cid=clicksource_4380645_footer_interestbasedads\" name=\"&amp;lpos=fivethirtyeightFooter&amp;lid=adPreferences\" target=\"_blank\" rel=\"noopener noreferrer\">Interest-Based Ads</a>\\n\\t\\t\\t\\t</li>\\n\\t\\t\\t</ul>\\n\\t\\t\\t<p>\\n\\t\\t\\t\\t&copy; 2023 ABC News Internet Ventures. All rights reserved.\\n\\t\\t\\t</p>\\n\\t\\t</div>\\n\\t\\t<!-- / .footer-section-tertiary-links -->\\n\\t</div><!-- .site-wrapper -->\\n\\n\\t<div class=\"footer-section-additional-info\" id=\"footer-additional-info\">\\n\\t\\t<div class=\"site-wrapper\">\\n\\t\\t\\t<button class=\"close-additional-info\" id=\"close-additional-info\" aria-label=\"Close\"><span class=\"visually-hidden\">Close Additional Information</span></button>\\n\\t\\t\\t<a href=\"https://disneytermsofuse.com/\" name=\"&amp;lpos=fivethirtyeightFooter&amp;lid=disneyTOS\">Terms of Use</a> and <a href=\"https://disneyprivacycenter.com/\" name=\"&amp;lpos=fivethirtyeightFooter&amp;lid=disneyPrivacy\">Privacy Policy</a> and Safety Information/<a href=\"https://disneyprivacycenter.com/notice-to-california-residents/\" name=\"&amp;lpos=fivethirtyeightFooter&amp;lid=californiaPrivacyRights\">Your California Privacy Rights</a>/<a href=\"https://disneyprivacycenter.com/kids-privacy-policy/english/\" name=\"&amp;lpos=fivethirtyeightFooter&amp;lid=childrensPrivacy\">Children\\'s Online Privacy Policy</a> are applicable to you. \\xc2\\xa9 2023 ABC News Internet Ventures. All rights reserved. <a href=\"https://preferences-mgr.truste.com/?type=abcnews&affiliateId=11&cid=clicksource_4380645_footer_interestbasedads\" name=\"&amp;lpos=fivethirtyeightFooter&amp;lid=adPreferences\">Interest-Based Ads</a>. <a href=\"https://disneyprivacycenter.com/cookies-policy-translations/cookies-policy/\">Cookie Policy</a>.\\n\\t\\t</div><!-- .site-wrapper -->\\n\\t</div><!-- .footer-section-additional-info -->\\n</footer><!-- .site-footer -->\\n<script src=\\'https://fivethirtyeight.com/wp-content/plugins/abc-blocks/assets/js/pym.min.js\\' id=\\'abc-ai2html-js\\'></script>\\n<script src=\\'https://fivethirtyeight.com/wp-content/plugins/abc-audio-features/assets/js/blocks.min.js?ver=1.2.1\\' id=\\'abc-audio-features-blocks-js\\'></script>\\n<script src=\\'https://fivethirtyeight.com/wp-content/plugins/abc-blocks/assets/js/blocks.min.js?ver=1.0.28\\' id=\\'abc-blocks-js\\'></script>\\n<script src=\\'https://fivethirtyeight.com/wp-content/plugins/utilities/assets/js/video.min.js?ver=1.0.28\\' id=\\'video-js\\'></script>\\n<script src=\\'https://fivethirtyeight.com/wp-content/plugins/disney-messaging/assets/js/newsletter.min.js?ver=1.0.28\\' id=\\'newsletter-oneid-js\\'></script>\\n<script id=\\'wp-util-js-extra\\'>\\nvar _wpUtilSettings = {\"ajax\":{\"url\":\"\\\\/wp-admin\\\\/admin-ajax.php\"}};\\n</script>\\n<script src=\\'https://fivethirtyeight.com/wp-includes/js/wp-util.min.js?ver=6.1.1\\' id=\\'wp-util-js\\'></script>\\n<script id=\\'fte-main-js-extra\\'>\\nvar ESPNSocial = {\"fbVersion\":\"6.0\",\"fbAppId\":\"797620670264818\"};\\n</script>\\n<script src=\\'https://fivethirtyeight.com/wp-content/themes/espn-fivethirtyeight/dist/js/frontend.js?ver=1.0.28\\' id=\\'fte-main-js\\'></script>\\n<script src=\\'//datawrapper.dwcdn.net/lib/embed.js?ver=1.0.28\\' id=\\'datawrapper-js\\'></script>\\n<script id=\\'dtci-ads-js-extra\\'>\\nvar DTCIAdConfig = {\"adSlotsToRefresh\":[\"Banner\",\"InContent\",\"incontentTeads\",\"incontentTeads2\",\"incontentTeads3\",\"DailyShowHP\"],\"adUnitPath\":\"\\\\/21783347309\\\\/abc-news\\\\/fivethirtyeight.com\\\\/web\\\\/sports\",\"placements\":{\"Banner\":{\"out-of-page\":false,\"sizes\":[[970,250],[970,66],[728,90],[320,50],[300,50]],\"defer\":\"none\"},\"InContent\":{\"out-of-page\":false,\"sizes\":[[300,250],[300,600]],\"defer\":\"none\"},\"incontentTeads\":{\"out-of-page\":false,\"sizes\":[1,3],\"defer\":\"none\"},\"incontentTeads2\":{\"out-of-page\":false,\"sizes\":[1,3],\"defer\":\"none\"},\"incontentTeads3\":{\"out-of-page\":false,\"sizes\":[1,3],\"defer\":\"none\"},\"A9InContent\":{\"out-of-page\":false,\"sizes\":[[300,250],[300,600]],\"defer\":\"none\"},\"DailyShowHP\":{\"out-of-page\":false,\"sizes\":[[272,35]],\"defer\":\"none\"}},\"slots\":{\"Banner\":[],\"InContent\":[],\"incontentTeads\":[],\"incontentTeads2\":[],\"incontentTeads3\":[],\"A9InContent\":[],\"DailyShowHP\":[]},\"mappings\":{\"Banner\":[[[1280,100],[[970,250],[970,66],[728,90]]],[[1024,100],[[970,250],[970,66],[728,90]]],[[768,100],[[728,90]]],[[0,0],[[320,50],[300,50]]]],\"InContent\":[[[0,0],[]],[[768,50],[300,250]]],\"DailyShowHP\":[[[0,0],[272,35]]]},\"targeting\":{\"pgtyp\":\"index\",\"sp\":\"fivethirtyeight\",\"lang\":\"en\",\"devType\":\"desktop\",\"hip\":\"ac5bfff6b5db276d23a641877f2390cefb59297f43bcdc545b610bcffc129272\"},\"devType\":\"desktop\",\"referringSite\":null,\"referralMap\":{\"facebook.com\":\"facebook\",\"twitter.com\":\"twitter\",\"t.co\":\"twitter\",\"google.com\":\"google\",\"bing.com\":\"bing\",\"yahoo.com\":\"yahoo\",\"www.espn.com\":\"espn\",\"espn.com\":\"espn\",\"instagram.com\":\"instagram\",\"reddit.com\":\"reddit\",\"bleacherreport.com\":\"bleacherreport\",\"tumblr.com\":\"tumblr\",\"t.umblr.com\":\"tumblr\",\"pinterest.com\":\"pinterest\",\"fivethirtyeight.com\":\"fivethirtyeight\",\"grantland.com\":\"grantland\",\"theundefeated.com\":\"theundefeated\",\"andscape.com\":\"theundefeated\"},\"useOverlay\":\"0\",\"refreshSimulatenously\":\"1\",\"disableInitialLoad\":\"1\",\"a9id\":\"3899\",\"a9Params\":{\"section\":\"section\",\"si_section\":\"sports\"}};\\n</script>\\n<script src=\\'https://fivethirtyeight.com/wp-content/plugins/dtci-ads/assets/js/ads.min.js?ver=1.0.28\\' id=\\'dtci-ads-js\\'></script>\\n<script src=\\'https://fivethirtyeight.com/wp-content/plugins/dtci-ads/assets/js/a9.min.js?ver=1.0.28\\' id=\\'dtci-a9-js\\'></script>\\n</body>\\n</html>\\n'"
      ]
     },
     "execution_count": 32,
     "metadata": {},
     "output_type": "execute_result"
    }
   ],
   "source": [
    "## The HTML code is stored in r.content\n",
    "r.content"
   ]
  },
  {
   "cell_type": "code",
   "execution_count": 33,
   "id": "efac2b49",
   "metadata": {},
   "outputs": [],
   "source": [
    "## We can now parse this data with BeautifulSoup\n",
    "soup = BeautifulSoup(r.content, 'html.parser')"
   ]
  },
  {
   "cell_type": "code",
   "execution_count": 34,
   "id": "e3ad3c1d",
   "metadata": {},
   "outputs": [
    {
     "data": {
      "text/plain": [
       "<title>Sports – FiveThirtyEight</title>"
      ]
     },
     "execution_count": 34,
     "metadata": {},
     "output_type": "execute_result"
    }
   ],
   "source": [
    "soup.head.title"
   ]
  },
  {
   "cell_type": "markdown",
   "id": "0106d4aa",
   "metadata": {},
   "source": [
    "### Web developer tools\n",
    "\n",
    "As we can see, this is much messier than our simple example above. \n",
    "\n",
    "We only want three pieces of information for each article/podcast/posting listed on the page:\n",
    "1. The title,\n",
    "2. The author and\n",
    "3. The associated url.\n",
    "\n",
    "To hone in on this information we can utilize the web developer tools for your browser. Below are links on how to locate the web developer tools for Mozilla Firefox, Google Chrome and Safari:\n",
    "- Mozilla Firefox: Go to `Browser Tools` in the `Tools` dropdown menu and click on `Web Developer Tools` you should see something like this:\n",
    "<img src=\"firefox_develop.jpg\" width=\"80%\"></img>\n",
    "- Google Chrome: Go to `Developer` in the `View` dropdown menu and click on `Developer Tools` you should see something like this:\n",
    "<img src=\"chrome_develop.jpg\" width=\"80%\"></img>\n",
    "- Safari: Go to the `Develop` dropdown menu and select `Show Web Inspector`, if there is no `Develop` dropdown menu follow the instructions on this page <a href=\"https://support.apple.com/guide/safari/use-the-developer-tools-in-the-develop-menu-sfri20948/mac\">https://support.apple.com/guide/safari/use-the-developer-tools-in-the-develop-menu-sfri20948/mac</a>. You should see something like this once opened:\n",
    "<img src=\"safari_develop.jpg\" width=\"80%\"></img>\n",
    "\n",
    "<i>Note that the images above will be slightly different than what you see because 538 will have different articles at the time you access the page. These images were added 3-10-2022.</i>\n",
    "\n",
    "<br>\n",
    "\n",
    "The web developer tools will allow you to find out in what HTML elements certain pieces of data live. For example, you should be able to hover over an item on the webpage and it will highlight what HTML structure holds it. Here we can see what that looks like for the banner article (the large one at the top) of this page:\n",
    "<img src=\"div_highlight.png\" width=\"30%\"></img>\n",
    "\n",
    "We can use this information to get the data we desire."
   ]
  },
  {
   "cell_type": "code",
   "execution_count": 36,
   "id": "3f5f6b2c",
   "metadata": {},
   "outputs": [
    {
     "data": {
      "text/plain": [
       "'\\nBusting 4 Major Myths About Referees In The NBA Playoffs\\n'"
      ]
     },
     "execution_count": 36,
     "metadata": {},
     "output_type": "execute_result"
    }
   ],
   "source": [
    "## Getting the articles\n",
    "soup.find('h2', {'class', \"article-title\"}).text"
   ]
  },
  {
   "cell_type": "code",
   "execution_count": 37,
   "id": "ea383504",
   "metadata": {
    "scrolled": true
   },
   "outputs": [
    {
     "data": {
      "text/plain": [
       "[<h2 class=\"article-title entry-title\">\n",
       " <a href=\"https://fivethirtyeight.com/features/busting-4-major-myths-about-referees-in-the-nba-playoffs/\" name=\"&amp;lpos=fivethirtyeight&amp;lid=sports+mem:story1\">Busting 4 Major Myths About Referees In The NBA Playoffs</a>\n",
       " </h2>,\n",
       " <h2 class=\"article-title entry-title\">\n",
       " <a data-content-type=\"feature\" data-post-id=\"359237\" data-section-1=\"sports\" data-section-2=\"sports:nba playoffs\" href=\"https://fivethirtyeight.com/features/how-mikal-bridges-went-from-supporting-player-to-star/\" name=\"&amp;lpos=fivethirtyeight&amp;lid=sports+features:story1\">\n",
       " \t\t\t\tHow Mikal Bridges Went From Supporting Player To Star\t\t\t</a>\n",
       " </h2>,\n",
       " <h2 class=\"article-title entry-title\">\n",
       " <a data-content-type=\"feature\" data-post-id=\"359231\" data-section-1=\"sports\" data-section-2=\"sports:mlb\" href=\"https://fivethirtyeight.com/features/these-3-former-mlb-prospects-have-gone-from-busts-to-busting-out/\" name=\"&amp;lpos=fivethirtyeight&amp;lid=sports+features:story2\">\n",
       " \t\t\t\tThese 3 Former MLB Prospects Have Gone From Busts To Busting Out\t\t\t</a>\n",
       " </h2>,\n",
       " <h2 class=\"article-title entry-title\">\n",
       " <a data-content-type=\"feature\" data-post-id=\"359157\" data-section-1=\"sports\" data-section-2=\"sports:mlb\" href=\"https://fivethirtyeight.com/features/tampa-bay-rays-hot-start/\" name=\"&amp;lpos=fivethirtyeight&amp;lid=sports+features:story3\">\n",
       " \t\t\t\tThe Rays’ Dominance Goes Even Deeper Than Their 13-0 Start\t\t\t</a>\n",
       " </h2>,\n",
       " <h2 class=\"article-title entry-title\">\n",
       " <a data-content-type=\"feature\" data-post-id=\"359104\" data-section-1=\"sports\" data-section-2=\"sports:wnba\" href=\"https://fivethirtyeight.com/features/who-won-the-2023-wnba-draft/\" name=\"&amp;lpos=fivethirtyeight&amp;lid=sports+features:story4\">\n",
       " \t\t\t\tWho Won The 2023 WNBA Draft?\t\t\t</a>\n",
       " </h2>,\n",
       " <h2 class=\"article-title entry-title\">\n",
       " <a data-content-type=\"feature\" data-post-id=\"359034\" data-section-1=\"sports\" data-section-2=\"sports:nhl\" href=\"https://fivethirtyeight.com/features/the-nhl-playoffs-are-here-can-anyone-stop-the-big-bad-bruins/\" name=\"&amp;lpos=fivethirtyeight&amp;lid=sports+features:story5\">\n",
       " \t\t\t\tCan Anyone Stop The Big, Bad Bruins?\t\t\t</a>\n",
       " </h2>,\n",
       " <h2 class=\"article-title entry-title\">\n",
       " <a data-content-type=\"feature\" data-post-id=\"358983\" data-section-1=\"sports\" data-section-2=\"sports:mlb\" href=\"https://fivethirtyeight.com/features/mets-payroll-slow-start-2023/\" name=\"&amp;lpos=fivethirtyeight&amp;lid=sports+features:story6\">\n",
       " \t\t\t\tThe Mets Assembled The Most Expensive Baseball Team Ever. Is That Enough To Make Them MLB’s Best Team?\t\t\t</a>\n",
       " </h2>,\n",
       " <h2 class=\"article-title entry-title\">\n",
       " <a data-content-type=\"feature\" data-post-id=\"357799\" data-section-1=\"sports\" data-section-2=\"sports:nba\" href=\"https://fivethirtyeight.com/features/our-new-live-in-game-win-probabilities-are-here-for-the-nba-playoffs/\" name=\"&amp;lpos=fivethirtyeight&amp;lid=sports+features:story7\">\n",
       " \t\t\t\tOur New Live In-Game Win Probabilities Are Here For The NBA Playoffs\t\t\t</a>\n",
       " </h2>,\n",
       " <h2 class=\"article-title entry-title\">\n",
       " <a data-content-type=\"feature\" data-post-id=\"358518\" data-section-1=\"sports\" data-section-2=\"sports:nba\" href=\"https://fivethirtyeight.com/features/no-play-in-team-has-won-an-nba-playoff-series-will-that-change-this-season/\" name=\"&amp;lpos=fivethirtyeight&amp;lid=sports+features:story8\">\n",
       " \t\t\t\tNo Play-In Team Has Won An NBA Playoff Series. Will That Change This Season?\t\t\t</a>\n",
       " </h2>,\n",
       " <h2 class=\"article-title entry-title\">\n",
       " <a data-content-type=\"feature\" data-post-id=\"358176\" data-section-1=\"sports\" data-section-2=\"sports:nba\" href=\"https://fivethirtyeight.com/features/its-rough-out-there-in-dallas-but-its-not-kyrie-irvings-fault/\" name=\"&amp;lpos=fivethirtyeight&amp;lid=sports+features:story9\">\n",
       " \t\t\t\tIt’s Rough Out There In Dallas. But It’s Not Kyrie Irving’s Fault.\t\t\t</a>\n",
       " </h2>]"
      ]
     },
     "execution_count": 37,
     "metadata": {},
     "output_type": "execute_result"
    }
   ],
   "source": [
    "soup.find_all('h2', {'class', \"article-title\"})"
   ]
  },
  {
   "cell_type": "code",
   "execution_count": 39,
   "id": "11bd8b71",
   "metadata": {},
   "outputs": [
    {
     "data": {
      "text/plain": [
       "['Busting 4 Major Myths About Referees In The NBA Playoffs',\n",
       " 'How Mikal Bridges Went From Supporting Player To Star',\n",
       " 'These 3 Former MLB Prospects Have Gone From Busts To Busting Out',\n",
       " 'The Rays’ Dominance Goes Even Deeper Than Their 13-0 Start',\n",
       " 'Who Won The 2023 WNBA Draft?',\n",
       " 'Can Anyone Stop The Big, Bad Bruins?',\n",
       " 'The Mets Assembled The Most Expensive Baseball Team Ever. Is That Enough To Make Them MLB’s Best Team?',\n",
       " 'Our New Live In-Game Win Probabilities Are Here For The NBA Playoffs',\n",
       " 'No Play-In Team Has Won An NBA Playoff Series. Will That Change This Season?',\n",
       " 'It’s Rough Out There In Dallas. But It’s Not Kyrie Irving’s Fault.']"
      ]
     },
     "execution_count": 39,
     "metadata": {},
     "output_type": "execute_result"
    }
   ],
   "source": [
    "[h.text.strip() for h in soup.find_all('h2', {'class', \"article-title\"})]"
   ]
  },
  {
   "cell_type": "markdown",
   "id": "74ea7fd0",
   "metadata": {},
   "source": [
    "##### Exercise\n",
    "\n",
    "Take some time to write code to retrieve all of the article authors below."
   ]
  },
  {
   "cell_type": "code",
   "execution_count": 43,
   "id": "7ee3370d",
   "metadata": {
    "scrolled": true
   },
   "outputs": [
    {
     "data": {
      "text/plain": [
       "[<p class=\"single-metadata card vcard\">By <a class=\"author url fn\" href=\"https://fivethirtyeight.com/contributors/jared-dubin/\" rel=\"author\" title=\"\">Jared Dubin</a></p>,\n",
       " <p class=\"single-metadata card vcard\">By <a class=\"author url fn\" href=\"https://fivethirtyeight.com/contributors/alex-kirshner/\" rel=\"author\" title=\"\">Alex Kirshner</a></p>,\n",
       " <p class=\"single-metadata card vcard\">By <a class=\"author url fn\" href=\"https://fivethirtyeight.com/contributors/neil-paine/\" rel=\"author\" title=\"\">Neil Paine</a></p>,\n",
       " <p class=\"single-metadata card vcard\">By <a class=\"author url fn\" href=\"https://fivethirtyeight.com/contributors/howard-megdal/\" rel=\"author\" title=\"\">Howard Megdal</a></p>,\n",
       " <p class=\"single-metadata card vcard\">By <a class=\"author url fn\" href=\"https://fivethirtyeight.com/contributors/neil-paine/\" rel=\"author\" title=\"\">Neil Paine</a> and <a class=\"author url fn\" href=\"https://fivethirtyeight.com/contributors/terrence-doyle/\" rel=\"author\" title=\"\">Terrence Doyle</a></p>,\n",
       " <p class=\"single-metadata card vcard\">By <a class=\"author url fn\" href=\"https://fivethirtyeight.com/contributors/alex-kirshner/\" rel=\"author\" title=\"\">Alex Kirshner</a></p>,\n",
       " <p class=\"single-metadata card vcard\">By <a class=\"author url fn\" href=\"https://fivethirtyeight.com/contributors/ryan-best/\" rel=\"author\" title=\"\">Ryan Best</a> and <a class=\"author url fn\" href=\"https://fivethirtyeight.com/contributors/jay-boice/\" rel=\"author\" title=\"\">Jay Boice</a></p>,\n",
       " <p class=\"single-metadata card vcard\">By <a class=\"author url fn\" href=\"https://fivethirtyeight.com/contributors/jared-dubin/\" rel=\"author\" title=\"\">Jared Dubin</a></p>,\n",
       " <p class=\"single-metadata card vcard\">By <a class=\"author url fn\" href=\"https://fivethirtyeight.com/contributors/louis-zatzman/\" rel=\"author\" title=\"\">Louis Zatzman</a></p>]"
      ]
     },
     "execution_count": 43,
     "metadata": {},
     "output_type": "execute_result"
    }
   ],
   "source": [
    "## code here\n",
    "soup.find_all('p', {'class':\"single-metadata card vcard\"})"
   ]
  },
  {
   "cell_type": "code",
   "execution_count": 42,
   "id": "3b964044",
   "metadata": {},
   "outputs": [
    {
     "data": {
      "text/plain": [
       "['By Jared Dubin',\n",
       " 'By Alex Kirshner',\n",
       " 'By Neil Paine',\n",
       " 'By Howard Megdal',\n",
       " 'By Neil Paine and Terrence Doyle',\n",
       " 'By Alex Kirshner',\n",
       " 'By Ryan Best and Jay Boice',\n",
       " 'By Jared Dubin',\n",
       " 'By Louis Zatzman']"
      ]
     },
     "execution_count": 42,
     "metadata": {},
     "output_type": "execute_result"
    }
   ],
   "source": [
    "## code here\n",
    "[p.text for p in soup.find_all('p', {'class':\"single-metadata card vcard\"})]"
   ]
  },
  {
   "cell_type": "markdown",
   "id": "eeda13f8",
   "metadata": {},
   "source": [
    "## Common problems while web scraping\n",
    "\n",
    "### Messy or inconsistent HTML code\n",
    "\n",
    "We have seen one problem that you can encounter while web scraping, small and messy differences in HTML code that make automating your scraping more difficult. It is important to note that 538 is actually not very messy in the grand scheme of the world wide web. For example, you can come across websites that do not label their HTML elements with `id`s or `class`es or any other kind of distinguishing meta data. This makes automation incredibly difficult. Other websites may offer no consistency from page to page. In such cases there may not be a quick or easy fix, you typically just have to hack something together and hope it works.\n",
    "\n",
    "### Too many requests\n",
    "\n",
    "Repeatedly sending requests to the same website can raise a flag at the site's server after which your IP address will be blocked from receiving future request results for some period of time. This is why it is good practice to space out your requests to a single website. You can do so with the `sleep` function in the `time` module, <a href=\"https://docs.python.org/3/library/time.html#time.sleep\">https://docs.python.org/3/library/time.html#time.sleep</a>. While this decreases your risk of being flagged as a bot/scraper, it is also just being a good denizen of the internet. Sending too many requests to a single website in a short amount of time can mess with that website's ability to function for other visitors.\n",
    "\n",
    "### Bot detection\n",
    "\n",
    "Some websites have been set up to detect bot/scraper activity regardless of the number of times you send a request. Sometimes there are ways around this, but the specific approach depends upon how the website is blocking your request. To counter such detection do a web search for the specific error or response code you are getting and look for a helpful stack overflow or stackexchange post.\n",
    "\n",
    "### User interactive content\n",
    "\n",
    "Some of the content on a page may be dependent on the actions of a user visiting that page. For example, there are websites where data tables do not load until the user has clicked a button or scrolled down the page.\n",
    "\n",
    "#### `selenium`\n",
    "\n",
    "One way to access information that requires user input is with `selenium`, <a href=\"https://www.selenium.dev/\">https://www.selenium.dev/</a>. `selenium` installation instructions can be found here, <a href=\"https://pypi.org/project/selenium/\">https://pypi.org/project/selenium/</a>, and documentation on how to use the package can be found here, <a href=\"https://selenium-python.readthedocs.io/index.html\">https://selenium-python.readthedocs.io/index.html</a>."
   ]
  },
  {
   "cell_type": "markdown",
   "id": "33b52dbb",
   "metadata": {},
   "source": [
    "## Summary\n",
    "\n",
    "In this notebook we touched on how you can parse HTML code with the `bs4` package. We looked at both a simple phony example and an example from a live website. If you are interested in learning more about `bs4` I encourage you to consult their documentation, <a href=\"https://www.crummy.com/software/BeautifulSoup/bs4/doc/\">https://www.crummy.com/software/BeautifulSoup/bs4/doc/</a>."
   ]
  },
  {
   "cell_type": "markdown",
   "id": "a01e3780",
   "metadata": {},
   "source": [
    "--------------------------\n",
    "\n",
    "This notebook was written for the Erd&#337;s Institute C&#337;de Data Science Boot Camp by Matthew Osborne, Ph. D., 2023.\n",
    "\n",
    "Any potential redistributors must seek and receive permission from Matthew Tyler Osborne, Ph.D. prior to redistribution. Redistribution of the material contained in this repository is conditional on acknowledgement of Matthew Tyler Osborne, Ph.D.'s original authorship and sponsorship of the Erdős Institute as subject to the license (see License.md)"
   ]
  },
  {
   "cell_type": "code",
   "execution_count": null,
   "id": "a0ed0b0f",
   "metadata": {},
   "outputs": [],
   "source": []
  }
 ],
 "metadata": {
  "kernelspec": {
   "display_name": "Python 3 (ipykernel)",
   "language": "python",
   "name": "python3"
  },
  "language_info": {
   "codemirror_mode": {
    "name": "ipython",
    "version": 3
   },
   "file_extension": ".py",
   "mimetype": "text/x-python",
   "name": "python",
   "nbconvert_exporter": "python",
   "pygments_lexer": "ipython3",
   "version": "3.9.16"
  }
 },
 "nbformat": 4,
 "nbformat_minor": 5
}
