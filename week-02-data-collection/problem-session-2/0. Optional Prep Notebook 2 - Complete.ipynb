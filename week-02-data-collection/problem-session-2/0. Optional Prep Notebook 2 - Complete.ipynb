{
 "cells": [
  {
   "cell_type": "markdown",
   "id": "f35645dc",
   "metadata": {},
   "source": [
    "# Prep Notebook 2\n",
    "## Data Collection\n",
    "\n",
    "This optional notebook has a few exercises that can serve as a primer for what to expect in the `Problem Session 2` notebook."
   ]
  },
  {
   "cell_type": "markdown",
   "id": "f5952182",
   "metadata": {},
   "source": [
    "#### 1. `for` loops\n",
    "\n",
    "Write a `for` loop that prints out every multiple of $11$ between $56$ and $203$"
   ]
  },
  {
   "cell_type": "markdown",
   "id": "548457a2",
   "metadata": {},
   "source": [
    "##### Sample Solution"
   ]
  },
  {
   "cell_type": "code",
   "execution_count": 1,
   "id": "8bccf99a",
   "metadata": {},
   "outputs": [
    {
     "name": "stdout",
     "output_type": "stream",
     "text": [
      "66\n",
      "77\n",
      "88\n",
      "99\n",
      "110\n",
      "121\n",
      "132\n",
      "143\n",
      "154\n",
      "165\n",
      "176\n",
      "187\n",
      "198\n"
     ]
    }
   ],
   "source": [
    "for i in range(56, 204):\n",
    "    if i%11 == 0:\n",
    "        print(i)"
   ]
  },
  {
   "cell_type": "markdown",
   "id": "94768c2f",
   "metadata": {},
   "source": [
    "#### 2. List comprehensions I\n",
    "\n",
    "Write a list comprehension that stores every multiple of $11$ between $56$ to $203$"
   ]
  },
  {
   "cell_type": "markdown",
   "id": "5aabe0d4",
   "metadata": {},
   "source": [
    "##### Sample Solution"
   ]
  },
  {
   "cell_type": "code",
   "execution_count": 2,
   "id": "a43c9887",
   "metadata": {},
   "outputs": [
    {
     "data": {
      "text/plain": [
       "[66, 77, 88, 99, 110, 121, 132, 143, 154, 165, 176, 187, 198]"
      ]
     },
     "execution_count": 2,
     "metadata": {},
     "output_type": "execute_result"
    }
   ],
   "source": [
    "[i for i in range(56, 204) if i%11==0]"
   ]
  },
  {
   "cell_type": "markdown",
   "id": "7005e7ee",
   "metadata": {},
   "source": [
    "##### 3. List comprehensions II\n",
    "\n",
    "Write list comprehensions that returns only the vowels for the strings stored in `string_1` and `string_2`."
   ]
  },
  {
   "cell_type": "code",
   "execution_count": 3,
   "id": "28590be2",
   "metadata": {},
   "outputs": [],
   "source": [
    "string_1 = \"B is for balloon. A source of litter.\"\n",
    "string_2 = \"Y is for yellow. The color of a cartoon sun.\""
   ]
  },
  {
   "cell_type": "markdown",
   "id": "3f221e1b",
   "metadata": {},
   "source": [
    "##### Sample Solution"
   ]
  },
  {
   "cell_type": "code",
   "execution_count": 4,
   "id": "23d17ee9",
   "metadata": {},
   "outputs": [
    {
     "data": {
      "text/plain": [
       "['i', 'o', 'a', 'o', 'o', 'A', 'o', 'u', 'e', 'o', 'i', 'e']"
      ]
     },
     "execution_count": 4,
     "metadata": {},
     "output_type": "execute_result"
    }
   ],
   "source": [
    "vowels = ['a', 'e', 'i', 'o', 'u']\n",
    "\n",
    "[letter for letter in string_1 if letter.lower() in vowels]"
   ]
  },
  {
   "cell_type": "code",
   "execution_count": 5,
   "id": "29da0b13",
   "metadata": {},
   "outputs": [
    {
     "data": {
      "text/plain": [
       "['i', 'o', 'e', 'o', 'e', 'o', 'o', 'o', 'a', 'a', 'o', 'o', 'u']"
      ]
     },
     "execution_count": 5,
     "metadata": {},
     "output_type": "execute_result"
    }
   ],
   "source": [
    "[letter for letter in string_2 if letter.lower() in vowels]"
   ]
  },
  {
   "cell_type": "markdown",
   "id": "c6dfd961",
   "metadata": {},
   "source": [
    "#### 4. Find the mode of a `DataFrame` column.\n",
    "\n",
    "Using `pandas` functionality find the most frequent value in the `color` column of the `DataFrame` `df`."
   ]
  },
  {
   "cell_type": "code",
   "execution_count": 6,
   "id": "7d1f082e",
   "metadata": {},
   "outputs": [],
   "source": [
    "import pandas as pd"
   ]
  },
  {
   "cell_type": "code",
   "execution_count": 7,
   "id": "c5a23942",
   "metadata": {},
   "outputs": [],
   "source": [
    "df = pd.DataFrame({'color':['red', 'red', 'red', 'dodgerblue', 'black', 'black'],\n",
    "                      'markersize':[50, 70, 120, 210, 40, 110],\n",
    "                      'x':[0, 1, 2, 3, 2, 3],\n",
    "                      'y':[-4, -2, 0, 2, 4, 6]})"
   ]
  },
  {
   "cell_type": "markdown",
   "id": "6d2a428f",
   "metadata": {},
   "source": [
    "##### Sample Solution"
   ]
  },
  {
   "cell_type": "code",
   "execution_count": 8,
   "id": "3b819e3e",
   "metadata": {},
   "outputs": [
    {
     "data": {
      "text/plain": [
       "red           3\n",
       "black         2\n",
       "dodgerblue    1\n",
       "Name: color, dtype: int64"
      ]
     },
     "execution_count": 8,
     "metadata": {},
     "output_type": "execute_result"
    }
   ],
   "source": [
    "df.color.value_counts()"
   ]
  },
  {
   "cell_type": "markdown",
   "id": "f591a0bd",
   "metadata": {},
   "source": [
    "##### 5. Sort a `DataFrame`\n",
    "\n",
    "Display the `DataFrame` `df` by `markersize` in desending order."
   ]
  },
  {
   "cell_type": "markdown",
   "id": "bc64f608",
   "metadata": {},
   "source": [
    "##### Sample Solution"
   ]
  },
  {
   "cell_type": "code",
   "execution_count": 9,
   "id": "6a129100",
   "metadata": {},
   "outputs": [
    {
     "data": {
      "text/html": [
       "<div>\n",
       "<style scoped>\n",
       "    .dataframe tbody tr th:only-of-type {\n",
       "        vertical-align: middle;\n",
       "    }\n",
       "\n",
       "    .dataframe tbody tr th {\n",
       "        vertical-align: top;\n",
       "    }\n",
       "\n",
       "    .dataframe thead th {\n",
       "        text-align: right;\n",
       "    }\n",
       "</style>\n",
       "<table border=\"1\" class=\"dataframe\">\n",
       "  <thead>\n",
       "    <tr style=\"text-align: right;\">\n",
       "      <th></th>\n",
       "      <th>color</th>\n",
       "      <th>markersize</th>\n",
       "      <th>x</th>\n",
       "      <th>y</th>\n",
       "    </tr>\n",
       "  </thead>\n",
       "  <tbody>\n",
       "    <tr>\n",
       "      <th>3</th>\n",
       "      <td>dodgerblue</td>\n",
       "      <td>210</td>\n",
       "      <td>3</td>\n",
       "      <td>2</td>\n",
       "    </tr>\n",
       "    <tr>\n",
       "      <th>2</th>\n",
       "      <td>red</td>\n",
       "      <td>120</td>\n",
       "      <td>2</td>\n",
       "      <td>0</td>\n",
       "    </tr>\n",
       "    <tr>\n",
       "      <th>5</th>\n",
       "      <td>black</td>\n",
       "      <td>110</td>\n",
       "      <td>3</td>\n",
       "      <td>6</td>\n",
       "    </tr>\n",
       "    <tr>\n",
       "      <th>1</th>\n",
       "      <td>red</td>\n",
       "      <td>70</td>\n",
       "      <td>1</td>\n",
       "      <td>-2</td>\n",
       "    </tr>\n",
       "    <tr>\n",
       "      <th>0</th>\n",
       "      <td>red</td>\n",
       "      <td>50</td>\n",
       "      <td>0</td>\n",
       "      <td>-4</td>\n",
       "    </tr>\n",
       "    <tr>\n",
       "      <th>4</th>\n",
       "      <td>black</td>\n",
       "      <td>40</td>\n",
       "      <td>2</td>\n",
       "      <td>4</td>\n",
       "    </tr>\n",
       "  </tbody>\n",
       "</table>\n",
       "</div>"
      ],
      "text/plain": [
       "        color  markersize  x  y\n",
       "3  dodgerblue         210  3  2\n",
       "2         red         120  2  0\n",
       "5       black         110  3  6\n",
       "1         red          70  1 -2\n",
       "0         red          50  0 -4\n",
       "4       black          40  2  4"
      ]
     },
     "execution_count": 9,
     "metadata": {},
     "output_type": "execute_result"
    }
   ],
   "source": [
    "df.sort_values('markersize', ascending=False)"
   ]
  },
  {
   "cell_type": "markdown",
   "id": "24b6c9d8",
   "metadata": {},
   "source": [
    "#### 6. Scatter plot\n",
    "\n",
    "Using `matplotlib`'s `scatter`, <a href=\"https://matplotlib.org/3.5.0/api/_as_gen/matplotlib.pyplot.scatter.html\">https://matplotlib.org/3.5.0/api/_as_gen/matplotlib.pyplot.scatter.html</a>, plot the observations in the `DataFrame` `df` placing the `x` value on the horizontal axis and the `y` value on the vertical axis.\n",
    "\n",
    "<i>Bonus points if you can set the `color`, and `size` of the points using the `color`, and `size` columns of `df`</i>."
   ]
  },
  {
   "cell_type": "markdown",
   "id": "c7364924",
   "metadata": {},
   "source": [
    "##### Sample Solution"
   ]
  },
  {
   "cell_type": "code",
   "execution_count": 10,
   "id": "ebd81c95",
   "metadata": {},
   "outputs": [],
   "source": [
    "import matplotlib.pyplot as plt\n",
    "from seaborn import set_style\n",
    "\n",
    "set_style(\"whitegrid\")"
   ]
  },
  {
   "cell_type": "code",
   "execution_count": 11,
   "id": "95556983",
   "metadata": {},
   "outputs": [
    {
     "data": {
      "image/png": "[encoded data removed]",
      "text/plain": [
       "<Figure size 800x600 with 1 Axes>"
      ]
     },
     "metadata": {},
     "output_type": "display_data"
    }
   ],
   "source": [
    "## Sample Solution\n",
    "plt.figure(figsize=(8,6))\n",
    "\n",
    "plt.scatter(df.x, df.y,\n",
    "               c = df.color,\n",
    "               s = df.markersize)\n",
    "\n",
    "plt.xlabel(\"$x$\", fontsize=14)\n",
    "plt.ylabel(\"$y$\", fontsize=14)\n",
    "\n",
    "plt.show()"
   ]
  },
  {
   "cell_type": "markdown",
   "id": "ddc0a369",
   "metadata": {},
   "source": [
    "--------------------------\n",
    "\n",
    "This notebook was written for the Erd&#337;s Institute C&#337;de Data Science Boot Camp by Matthew Osborne, Ph. D., 2023.\n",
    "\n",
    "Any potential redistributors must seek and receive permission from Matthew Tyler Osborne, Ph.D. prior to redistribution. Redistribution of the material contained in this repository is conditional on acknowledgement of Matthew Tyler Osborne, Ph.D.'s original authorship and sponsorship of the Erdős Institute as subject to the license (see License.md)"
   ]
  },
  {
   "cell_type": "code",
   "execution_count": null,
   "id": "cb832bad",
   "metadata": {},
   "outputs": [],
   "source": []
  }
 ],
 "metadata": {
  "kernelspec": {
   "display_name": "Python 3 (ipykernel)",
   "language": "python",
   "name": "python3"
  },
  "language_info": {
   "codemirror_mode": {
    "name": "ipython",
    "version": 3
   },
   "file_extension": ".py",
   "mimetype": "text/x-python",
   "name": "python",
   "nbconvert_exporter": "python",
   "pygments_lexer": "ipython3",
   "version": "3.9.16"
  }
 },
 "nbformat": 4,
 "nbformat_minor": 5
}
