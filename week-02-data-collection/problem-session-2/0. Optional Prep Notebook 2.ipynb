{
 "cells": [
  {
   "cell_type": "markdown",
   "id": "f35645dc",
   "metadata": {},
   "source": [
    "# Prep Notebook 2\n",
    "## Data Collection\n",
    "\n",
    "This optional notebook has a few exercises that can serve as a primer for what to expect in the `Problem Session 2` notebook."
   ]
  },
  {
   "cell_type": "markdown",
   "id": "f5952182",
   "metadata": {},
   "source": [
    "#### 1. `for` loops\n",
    "\n",
    "Write a `for` loop that prints out every multiple of $11$ between $56$ and $203$"
   ]
  },
  {
   "cell_type": "code",
   "execution_count": null,
   "id": "8bccf99a",
   "metadata": {},
   "outputs": [],
   "source": [
    "## code here\n",
    "\n"
   ]
  },
  {
   "cell_type": "markdown",
   "id": "94768c2f",
   "metadata": {},
   "source": [
    "#### 2. List comprehensions I\n",
    "\n",
    "Write a list comprehension that stores every multiple of $11$ between $56$ to $203$"
   ]
  },
  {
   "cell_type": "code",
   "execution_count": null,
   "id": "a43c9887",
   "metadata": {},
   "outputs": [],
   "source": [
    "## code here\n",
    "\n"
   ]
  },
  {
   "cell_type": "markdown",
   "id": "7005e7ee",
   "metadata": {},
   "source": [
    "##### 3. List comprehensions II\n",
    "\n",
    "Write list comprehensions that returns only the vowels for the strings stored in `string_1` and `string_2`."
   ]
  },
  {
   "cell_type": "code",
   "execution_count": null,
   "id": "28590be2",
   "metadata": {},
   "outputs": [],
   "source": [
    "string_1 = \"B is for balloon. A source of litter.\"\n",
    "string_2 = \"Y is for yellow. The color of a cartoon sun.\""
   ]
  },
  {
   "cell_type": "code",
   "execution_count": null,
   "id": "23d17ee9",
   "metadata": {},
   "outputs": [],
   "source": [
    "## code here\n",
    "\n"
   ]
  },
  {
   "cell_type": "code",
   "execution_count": null,
   "id": "29da0b13",
   "metadata": {},
   "outputs": [],
   "source": [
    "## code here\n",
    "\n"
   ]
  },
  {
   "cell_type": "markdown",
   "id": "c6dfd961",
   "metadata": {},
   "source": [
    "#### 4. Find the mode of a `DataFrame` column.\n",
    "\n",
    "Using `pandas` functionality find the most frequent value in the `color` column of the `DataFrame` `df`."
   ]
  },
  {
   "cell_type": "code",
   "execution_count": null,
   "id": "7d1f082e",
   "metadata": {},
   "outputs": [],
   "source": [
    "import pandas as pd"
   ]
  },
  {
   "cell_type": "code",
   "execution_count": null,
   "id": "c5a23942",
   "metadata": {},
   "outputs": [],
   "source": [
    "df = pd.DataFrame({'color':['red', 'red', 'red', 'dodgerblue', 'black', 'black'],\n",
    "                      'markersize':[50, 70, 120, 210, 40, 110],\n",
    "                      'x':[0, 1, 2, 3, 2, 3],\n",
    "                      'y':[-4, -2, 0, 2, 4, 6]})"
   ]
  },
  {
   "cell_type": "code",
   "execution_count": null,
   "id": "3b819e3e",
   "metadata": {},
   "outputs": [],
   "source": [
    "## code here\n",
    "\n"
   ]
  },
  {
   "cell_type": "markdown",
   "id": "f591a0bd",
   "metadata": {},
   "source": [
    "##### 5. Sort a `DataFrame`\n",
    "\n",
    "Display the `DataFrame` `df` by `markersize` in desending order."
   ]
  },
  {
   "cell_type": "code",
   "execution_count": null,
   "id": "6a129100",
   "metadata": {},
   "outputs": [],
   "source": [
    "## code here\n",
    "\n"
   ]
  },
  {
   "cell_type": "markdown",
   "id": "24b6c9d8",
   "metadata": {},
   "source": [
    "#### 6. Scatter plot\n",
    "\n",
    "Using `matplotlib`'s `scatter`, <a href=\"https://matplotlib.org/3.5.0/api/_as_gen/matplotlib.pyplot.scatter.html\">https://matplotlib.org/3.5.0/api/_as_gen/matplotlib.pyplot.scatter.html</a>, plot the observations in the `DataFrame` `df` placing the `x` value on the horizontal axis and the `y` value on the vertical axis.\n",
    "\n",
    "<i>Bonus points if you can set the `color`, and `size` of the points using the `color`, and `size` columns of `df`</i>."
   ]
  },
  {
   "cell_type": "code",
   "execution_count": null,
   "id": "ebd81c95",
   "metadata": {},
   "outputs": [],
   "source": [
    "import matplotlib.pyplot as plt\n",
    "from seaborn import set_style\n",
    "\n",
    "set_style(\"whitegrid\")"
   ]
  },
  {
   "cell_type": "code",
   "execution_count": null,
   "id": "95556983",
   "metadata": {},
   "outputs": [],
   "source": [
    "## code here\n",
    "\n"
   ]
  },
  {
   "cell_type": "markdown",
   "id": "ddc0a369",
   "metadata": {},
   "source": [
    "--------------------------\n",
    "\n",
    "This notebook was written for the Erd&#337;s Institute C&#337;de Data Science Boot Camp by Matthew Osborne, Ph. D., 2023.\n",
    "\n",
    "Any potential redistributors must seek and receive permission from Matthew Tyler Osborne, Ph.D. prior to redistribution. Redistribution of the material contained in this repository is conditional on acknowledgement of Matthew Tyler Osborne, Ph.D.'s original authorship and sponsorship of the Erdős Institute as subject to the license (see License.md)"
   ]
  },
  {
   "cell_type": "code",
   "execution_count": null,
   "id": "cb832bad",
   "metadata": {},
   "outputs": [],
   "source": []
  }
 ],
 "metadata": {
  "kernelspec": {
   "display_name": "Python 3 (ipykernel)",
   "language": "python",
   "name": "python3"
  },
  "language_info": {
   "codemirror_mode": {
    "name": "ipython",
    "version": 3
   },
   "file_extension": ".py",
   "mimetype": "text/x-python",
   "name": "python",
   "nbconvert_exporter": "python",
   "pygments_lexer": "ipython3",
   "version": "3.9.16"
  }
 },
 "nbformat": 4,
 "nbformat_minor": 5
}
