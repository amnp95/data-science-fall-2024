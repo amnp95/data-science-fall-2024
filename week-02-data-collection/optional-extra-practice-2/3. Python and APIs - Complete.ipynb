{
 "cells": [
  {
   "cell_type": "markdown",
   "id": "dd12c40d",
   "metadata": {},
   "source": [
    "# Python and APIs\n",
    "\n",
    "The problems in this notebook touch on the material covered in the `Lectures/Data Collection/Python and APIs` notebook."
   ]
  },
  {
   "cell_type": "code",
   "execution_count": 1,
   "id": "f2aa69f8",
   "metadata": {},
   "outputs": [],
   "source": [
    "from bs4 import BeautifulSoup\n",
    "import requests\n",
    "import pandas as pd\n",
    "from time import sleep"
   ]
  },
  {
   "cell_type": "markdown",
   "id": "6f7678e0",
   "metadata": {},
   "source": [
    "##### 1. scite_\n",
    "\n",
    "We start with a problem continuing with the final problem in `3. Web Scraping`. While our direct requests for `www.science.org` html data may have been stymied, there is another path.\n",
    "\n",
    "If we have the dois for these articles we can submit requests for the article metadata to the `scite_` api for free. First we load in the articles and demonstrate how we can extract the dois from the Science articles."
   ]
  },
  {
   "cell_type": "code",
   "execution_count": 2,
   "id": "19bec9b6",
   "metadata": {},
   "outputs": [],
   "source": [
    "articles = pd.read_csv(\"journal_article_urls.csv\")"
   ]
  },
  {
   "cell_type": "code",
   "execution_count": 3,
   "id": "981878df",
   "metadata": {},
   "outputs": [
    {
     "data": {
      "text/plain": [
       "'https://www.science.org/doi/10.1126/scisignal.abk3067'"
      ]
     },
     "execution_count": 3,
     "metadata": {},
     "output_type": "execute_result"
    }
   ],
   "source": [
    "articles.loc[articles.domain=='www.science.org'].url.values[1]"
   ]
  },
  {
   "cell_type": "markdown",
   "id": "a3b420c6",
   "metadata": {},
   "source": [
    "In the example url above the text following `doi/` is the doi extension for that particular article. To see this first look at the article via its link, <a  href=\"https://www.science.org/doi/10.1126/scisignal.abk3067\">https://www.science.org/doi/10.1126/scisignal.abk3067</a> and then access it with this doi url <a href=\"https://www.doi.org/10.1126/scisignal.abk3067\">https://www.doi.org/10.1126/scisignal.abk3067</a>."
   ]
  },
  {
   "cell_type": "markdown",
   "id": "5d2a6236",
   "metadata": {},
   "source": [
    "Unfortunately `scite_` does not have a nice Python API wrapper, but we can still submit requests to their API with python. We demonstrate how below."
   ]
  },
  {
   "cell_type": "code",
   "execution_count": 4,
   "id": "3d2eb6bc",
   "metadata": {},
   "outputs": [],
   "source": [
    "## The basic request string looks like this\n",
    "'https://api.scite.ai/{endpoint}/{doi}'\n",
    "\n",
    "## For us the API \"endpoint\" we want is 'papers/'\n",
    "## and for this example we will use the doi from above, '10.1126/sciadv.abo1719'\n",
    "endpoint = 'papers/'\n",
    "doi = '10.1126/scisignal.abk3067'\n",
    "\n",
    "\n",
    "## then you just call requests.get for the string\n",
    "r = requests.get('https://api.scite.ai/' + endpoint + doi)"
   ]
  },
  {
   "cell_type": "code",
   "execution_count": 5,
   "id": "4f4870c8",
   "metadata": {},
   "outputs": [
    {
     "data": {
      "text/plain": [
       "{'id': 11371189169,\n",
       " 'doi': '10.1126/scisignal.abk3067',\n",
       " 'slug': 'march8-attenuates-cgas-mediated-innate-immune-5GEVWzR2',\n",
       " 'type': 'journal-article',\n",
       " 'title': 'MARCH8 attenuates cGAS-mediated innate immune responses through ubiquitylation',\n",
       " 'abstract': 'Cyclic GMP-AMP synthase (cGAS) binds to microbial and self-DNA in the cytosol and synthesizes cyclic GMP-AMP (cGAMP), which activates stimulator of interferon genes (STING) and downstream mediators to elicit an innate immune response. Regulation of cGAS activity is essential for immune homeostasis. Here, we identified the E3 ubiquitin ligase MARCH8 (also known as MARCHF8, c-MIR, and RNF178) as a negative regulator of cGAS-mediated signaling. The immune response to double-stranded DNA was attenuated by overexpression of MARCH8 and enhanced by knockdown or knockout of MARCH8. MARCH8 interacted with the enzymatically active core of cGAS through its conserved RING-CH domain and catalyzed the lysine-63 (K63)–linked polyubiquitylation of cGAS at Lys\\n            411\\n            . This polyubiquitylation event inhibited the DNA binding ability of cGAS, impaired cGAMP production, and attenuated the downstream innate immune response. Furthermore,\\n            March8\\n            -deficient mice were less susceptible than their wild-type counterparts to herpes simplex virus 1 (HSV-1) infection. Together, our findings reveal a mechanism underlying the functional regulation of cGAS and the fine-tuning of the innate immune response.',\n",
       " 'authors': [{'family': 'Yang',\n",
       "   'given': 'Xikang',\n",
       "   'affiliation': 'Tsinghua University',\n",
       "   'authorSlug': 'xikang-yang-2NEEdlG',\n",
       "   'authorName': 'Xikang Yang',\n",
       "   'authorID': '241649732',\n",
       "   'authorLastKnownAffiliationId': 4857,\n",
       "   'authorSequenceNumber': 1,\n",
       "   'affiliationSlug': 'tsinghua-university-G5mK',\n",
       "   'affiliationID': '4857'},\n",
       "  {'family': 'Shi',\n",
       "   'given': 'Chengrui',\n",
       "   'affiliation': 'Tsinghua University',\n",
       "   'authorSlug': 'chengrui-shi-9RQAr6A',\n",
       "   'authorName': 'Chengrui Shi',\n",
       "   'authorID': '941675690',\n",
       "   'authorLastKnownAffiliationId': 4857,\n",
       "   'authorSequenceNumber': 2,\n",
       "   'affiliationSlug': 'tsinghua-university-G5mK',\n",
       "   'affiliationID': '4857'},\n",
       "  {'family': 'Li',\n",
       "   'given': 'Hong-Peng',\n",
       "   'affiliation': 'Tsinghua University',\n",
       "   'authorSlug': 'hong-peng-li-eDVVa6',\n",
       "   'authorName': 'Hong-Peng Li',\n",
       "   'authorID': '16475011',\n",
       "   'authorLastKnownAffiliationId': 10227,\n",
       "   'authorSequenceNumber': 3,\n",
       "   'affiliationSlug': 'tsinghua-university-G5mK',\n",
       "   'affiliationID': '4857'},\n",
       "  {'family': 'Shen',\n",
       "   'given': 'Siqi',\n",
       "   'affiliation': 'Tsinghua University',\n",
       "   'authorSlug': 'siqi-shen-Y8aEg5z',\n",
       "   'authorName': 'Siqi Shen',\n",
       "   'authorID': '962158251',\n",
       "   'authorLastKnownAffiliationId': 4857,\n",
       "   'authorSequenceNumber': 4,\n",
       "   'affiliationSlug': 'tsinghua-university-G5mK',\n",
       "   'affiliationID': '4857'},\n",
       "  {'family': 'Su',\n",
       "   'given': 'Chaofei',\n",
       "   'affiliation': 'Tsinghua University',\n",
       "   'authorSlug': 'chaofei-su-Z8azznd',\n",
       "   'authorName': 'Chaofei Su',\n",
       "   'authorID': '961952275',\n",
       "   'authorLastKnownAffiliationId': 4857,\n",
       "   'authorSequenceNumber': 5,\n",
       "   'affiliationSlug': 'tsinghua-university-G5mK',\n",
       "   'affiliationID': '4857'},\n",
       "  {'family': 'Yin',\n",
       "   'given': 'Hang',\n",
       "   'affiliation': 'Tsinghua University',\n",
       "   'authorSlug': 'hang-yin-Zypzag',\n",
       "   'authorName': 'Hang Yin',\n",
       "   'authorID': '13259331',\n",
       "   'authorLastKnownAffiliationId': 4857,\n",
       "   'authorSequenceNumber': 6,\n",
       "   'affiliationSlug': 'tsinghua-university-G5mK',\n",
       "   'affiliationID': '4857'}],\n",
       " 'keywords': [],\n",
       " 'year': 2022,\n",
       " 'shortJournal': 'Sci. Signal.',\n",
       " 'publisher': 'American Association for the Advancement of Science (AAAS)',\n",
       " 'issue': '732',\n",
       " 'volume': '15',\n",
       " 'memberId': 221,\n",
       " 'issns': ['1945-0877', '1937-9145'],\n",
       " 'editorialNotices': [],\n",
       " 'journalSlug': 'science-signaling-XxyzE',\n",
       " 'journal': 'Science Signaling',\n",
       " 'preprintLinks': [],\n",
       " 'publicationLinks': [],\n",
       " 'normalizedTypes': ['article']}"
      ]
     },
     "execution_count": 5,
     "metadata": {},
     "output_type": "execute_result"
    }
   ],
   "source": [
    "## We can get the returned data with\n",
    "## r.json()\n",
    "r.json()"
   ]
  },
  {
   "cell_type": "markdown",
   "id": "df30a64e",
   "metadata": {},
   "source": [
    "Write a script to use the `scite_` api to get the title, authors and doi for each `www.science.org` paper."
   ]
  },
  {
   "cell_type": "code",
   "execution_count": 6,
   "id": "19806fdb",
   "metadata": {},
   "outputs": [],
   "source": [
    "def science(url):\n",
    "    doi = url.split(\"doi/\")[-1]\n",
    "    endpoint = 'papers/'\n",
    "    r = requests.get('https://api.scite.ai/' + endpoint + doi)\n",
    "    \n",
    "    if 'title' in r.json().keys():\n",
    "        title = r.json()['title']\n",
    "    else:\n",
    "        title = \"NA\"\n",
    "        \n",
    "    if 'authors' in r.json().keys():\n",
    "        authors = \", \".join([author['given'] + \" \" + author['family'] for author in r.json()['authors']])\n",
    "    else:\n",
    "        authors = \"NA\"\n",
    "        \n",
    "    return title, authors, doi"
   ]
  },
  {
   "cell_type": "code",
   "execution_count": 7,
   "id": "5bfa0750",
   "metadata": {},
   "outputs": [
    {
     "name": "stdout",
     "output_type": "stream",
     "text": [
      "https://www.science.org/doi/10.1126/sciimmunol.abo2159\n",
      "ILC killer: Qu’est-ce que c’est?\n",
      "David R. Withers, Matthew R. Hepworth\n",
      "10.1126/sciimmunol.abo2159\n",
      "\n",
      "https://www.science.org/doi/10.1126/scisignal.abk3067\n",
      "MARCH8 attenuates cGAS-mediated innate immune responses through ubiquitylation\n",
      "Xikang Yang, Chengrui Shi, Hong-Peng Li, Siqi Shen, Chaofei Su, Hang Yin\n",
      "10.1126/scisignal.abk3067\n",
      "\n",
      "https://www.science.org/doi/10.1126/sciimmunol.abm8161\n",
      "Succinate dehydrogenase/complex II is critical for metabolic and epigenetic regulation of T cell proliferation and inflammation\n",
      "Xuyong Chen, Benjamin Sunkel, Meng Wang, Siwen Kang, Tingting Wang, JN Rashida Gnanaprakasam, Lingling Liu, Teresa A Cassel, David Scott, Ana M. Muñoz-Cabello, José López-Barneo, Jun Yang, Andrew N Lane, Gang Xin, Benjamin Z. Stanton, Teresa W.-M. Fan, Ruoning Wang\n",
      "10.1126/sciimmunol.abm8161\n",
      "\n",
      "https://www.science.org/doi/10.1126/scitranslmed.abo5395\n",
      "The rapid replacement of the SARS-CoV-2 Delta variant by Omicron (B.1.1.529) in England\n",
      "Robert S. Paton, Christopher E. Overton, Thomas Ward\n",
      "10.1126/scitranslmed.abo5395\n",
      "\n",
      "https://www.science.org/doi/10.1126/science.abn3810\n",
      "Structure of the human inner kinetochore bound to a centromeric CENP-A nucleosome\n",
      "Stanislau Yatskevich, Kyle W. Muir, Dom Bellini, Ziguo Zhang, Jing Yang, Thomas Tischer, Masa Predin, Tom Dendooven, Stephen H. McLaughlin, David Barford\n",
      "10.1126/science.abn3810\n",
      "\n",
      "https://www.science.org/doi/10.1126/sciimmunol.abf0905\n",
      "Lighting a fire on the reef\n",
      "Zhibin Zhang, Jeffrey A. Lieberman\n",
      "10.1126/sciimmunol.abf0905\n",
      "\n",
      "https://www.science.org/doi/10.1126/scirobotics.abg9907\n",
      "Telerobotic neurovascular interventions with magnetic manipulation\n",
      "Yoon-Ho Kim, Emily Genevriere, Pablo Harker, Jaehun Choe, Robert W. Regenhardt, Justin E Vranic, Adam A Dmytriw, Aman B. Patel, Xuanhe Zhao\n",
      "10.1126/scirobotics.abg9907\n",
      "\n",
      "https://www.science.org/doi/10.1126/scirobotics.abn5459\n",
      "A DNA molecular printer capable of programmable positioning and patterning in two dimensions\n",
      "Erik Benson, Rafael Carrascosa Marzo, Jonathan Bath, Andrew J. Turberfield\n",
      "10.1126/scirobotics.abn5459\n",
      "\n",
      "https://www.science.org/doi/10.1126/scisignal.aay6013\n",
      "RAS, wanted dead or alive: Advances in targeting RAS mutant cancers\n",
      "Clint A. Stalnecker, Channing J. Der\n",
      "10.1126/scisignal.aay6013\n",
      "\n",
      "https://www.science.org/doi/10.1126/scisignal.abm4452\n",
      "The glucocorticoid receptor associates with RAS complexes to inhibit cell proliferation and tumor growth\n",
      "Bozhena Caratti, Miray Fidan, Giorgio Caratti, Kristina Breitenecker, Melanie Engler, Naser Kazemitash, Rebecca Traut, Emilio Casanova, Mohammad Reza Ahmadian, Jan Tuckermann, Herwig P. Moll, Ion C. Cirstea\n",
      "10.1126/scisignal.abm4452\n",
      "\n"
     ]
    }
   ],
   "source": [
    "for url in articles.loc[articles.domain=='www.science.org'].url.values:\n",
    "    print(url)\n",
    "    title,authors,doi = science(url)\n",
    "    print(title)\n",
    "    print(authors)\n",
    "    print(doi)\n",
    "    print()\n",
    "    sleep(3)"
   ]
  },
  {
   "cell_type": "markdown",
   "id": "de54f9ec",
   "metadata": {},
   "source": [
    "##### 2. Movie Reviews\n",
    "\n",
    "Use the `pynytimes` package, <a href=\"https://github.com/michadenheijer/pynytimes#movie-reviews\">https://github.com/michadenheijer/pynytimes#movie-reviews</a> to get any New York Times movie reviews for the film <a href=\"https://www.imdb.com/title/tt8097030/\">Turning Red</a>."
   ]
  },
  {
   "cell_type": "markdown",
   "id": "d8b61d02",
   "metadata": {},
   "source": [
    "##### Sample Solution"
   ]
  },
  {
   "cell_type": "code",
   "execution_count": 8,
   "id": "f565a64f",
   "metadata": {},
   "outputs": [],
   "source": [
    "from pynytimes import NYTAPI\n",
    "from matt_api_info import get_nytimes_key"
   ]
  },
  {
   "cell_type": "code",
   "execution_count": 9,
   "id": "e3987f83",
   "metadata": {},
   "outputs": [],
   "source": [
    "nytapi = NYTAPI(get_nytimes_key(), parse_dates=True) "
   ]
  },
  {
   "cell_type": "code",
   "execution_count": 10,
   "id": "ded87470",
   "metadata": {},
   "outputs": [
    {
     "data": {
      "text/plain": [
       "[{'display_title': 'Turning Red',\n",
       "  'mpaa_rating': 'PG',\n",
       "  'critics_pick': 0,\n",
       "  'byline': 'Maya Phillips',\n",
       "  'headline': '‘Turning Red’ Review: Beware the Red-Furred Monster',\n",
       "  'summary_short': 'A 13-year-old girl becomes a red panda when she loses her cool in Domee Shi’s heartwarming but wayward coming-of-age film.',\n",
       "  'publication_date': datetime.date(2022, 3, 10),\n",
       "  'opening_date': datetime.date(2022, 3, 11),\n",
       "  'date_updated': datetime.datetime(2022, 3, 10, 12, 8, 2),\n",
       "  'link': {'type': 'article',\n",
       "   'url': 'https://www.nytimes.com/2022/03/10/movies/turning-red-review.html',\n",
       "   'suggested_link_text': 'Read the New York Times Review of Turning Red'},\n",
       "  'multimedia': {'type': 'mediumThreeByTwo210',\n",
       "   'src': 'https://static01.nyt.com/images/2022/03/09/arts/turningred1/turningred1-mediumThreeByTwo440.jpg',\n",
       "   'height': 140,\n",
       "   'width': 210}}]"
      ]
     },
     "execution_count": 10,
     "metadata": {},
     "output_type": "execute_result"
    }
   ],
   "source": [
    "nytapi.movie_reviews(keyword = \"Turning Red\")"
   ]
  },
  {
   "cell_type": "markdown",
   "id": "a9e38257",
   "metadata": {},
   "source": [
    "##### 3. Turning Red Rewatch\n",
    "\n",
    "Use `Cinemagoer` to find the rating of <a href=\"https://www.imdb.com/title/tt8097030/\">Turning Red</a> on IMDB. Also produce a list of all the cast members.\n",
    "\n",
    "<i>Hint: once you have gotten the movie returned from IMDB, try doing `variable.data`, where you should replace `variable` with whatever variable name you used to store the movie.</i>"
   ]
  },
  {
   "cell_type": "code",
   "execution_count": 11,
   "id": "c5678738",
   "metadata": {},
   "outputs": [],
   "source": [
    "from imdb import Cinemagoer"
   ]
  },
  {
   "cell_type": "code",
   "execution_count": 12,
   "id": "a8108b66",
   "metadata": {},
   "outputs": [],
   "source": [
    "ia = Cinemagoer()"
   ]
  },
  {
   "cell_type": "code",
   "execution_count": 13,
   "id": "b51a66aa",
   "metadata": {},
   "outputs": [
    {
     "data": {
      "text/plain": [
       "[<Movie id:8097030[http] title:_Turning Red (None)_>,\n",
       " <Movie id:16026664[http] title:_Embrace the Panda: Making Turning Red (None)_>,\n",
       " <Movie id:20114538[http] title:_Turning Red (None)_>,\n",
       " <Movie id:1086640[http] title:_Red Chapters: Turning Points in the History of Communism (None)_>,\n",
       " <Movie id:5370536[http] title:_Turning on the Red Lights: Making of 'Red Lights' (None)_>,\n",
       " <Movie id:0087010[http] title:_The Burning Bed (None)_>,\n",
       " <Movie id:18688690[http] title:_Turning Red (None)_>,\n",
       " <Movie id:18518800[http] title:_Turning Red (None)_>,\n",
       " <Movie id:18688286[http] title:_Turning Red (None)_>,\n",
       " <Movie id:18952048[http] title:_Turning Red (None)_>,\n",
       " <Movie id:27180222[http] title:_Turning Red (None)_>,\n",
       " <Movie id:18548220[http] title:_Turning Red (None)_>,\n",
       " <Movie id:24020516[http] title:_Turning Red (None)_>,\n",
       " <Movie id:25563134[http] title:_Turning Red (None)_>,\n",
       " <Movie id:27316358[http] title:_Turning Red (None)_>,\n",
       " <Movie id:5374476[http] title:_Turning Red (None)_>,\n",
       " <Movie id:2358022[http] title:_Turning White and Turning Red (None)_>,\n",
       " <Movie id:24100444[http] title:_Turning Red in embarrassment - Pixar's Turning Red (None)_>,\n",
       " <Movie id:24530874[http] title:_Turning Red (2022)_>,\n",
       " <Movie id:0067659[http] title:_Red Sky at Morning (None)_>]"
      ]
     },
     "execution_count": 13,
     "metadata": {},
     "output_type": "execute_result"
    }
   ],
   "source": [
    "ia.search_movie('Turning Red')"
   ]
  },
  {
   "cell_type": "code",
   "execution_count": 14,
   "id": "5a932469",
   "metadata": {},
   "outputs": [],
   "source": [
    "turningred_id = '8097030'\n",
    "\n",
    "turningred = ia.get_movie(turningred_id)"
   ]
  },
  {
   "cell_type": "code",
   "execution_count": 15,
   "id": "8ac77ccc",
   "metadata": {},
   "outputs": [
    {
     "name": "stdout",
     "output_type": "stream",
     "text": [
      "IMDB Rating: 7.0\n"
     ]
    }
   ],
   "source": [
    "print(\"IMDB Rating:\", turningred['rating'])"
   ]
  },
  {
   "cell_type": "code",
   "execution_count": 16,
   "id": "827a9d70",
   "metadata": {},
   "outputs": [
    {
     "data": {
      "text/plain": [
       "['Rosalie Chiang',\n",
       " 'Sandra Oh',\n",
       " 'Ava Morse',\n",
       " 'Hyein Park',\n",
       " 'Maitreyi Ramakrishnan',\n",
       " 'Orion Lee',\n",
       " 'Wai Ching Ho',\n",
       " 'Tristan Allerick Chen',\n",
       " 'Lori Tan Chinn',\n",
       " 'Mia Tagano',\n",
       " 'Sherry Cola',\n",
       " 'Lillian Lim',\n",
       " 'James Hong',\n",
       " 'Jordan Fisher',\n",
       " \"Finneas O'Connell\",\n",
       " 'Topher Ngo',\n",
       " 'Grayson Villanueva',\n",
       " 'Josh Levi',\n",
       " 'Sasha Roiz',\n",
       " 'Addison Chandler',\n",
       " 'Lily Sanfelippo',\n",
       " 'Anne-Marie',\n",
       " 'Freya Fox']"
      ]
     },
     "execution_count": 16,
     "metadata": {},
     "output_type": "execute_result"
    }
   ],
   "source": [
    "[cast_member['name'] for cast_member in turningred['cast']]"
   ]
  },
  {
   "cell_type": "markdown",
   "id": "baad986c",
   "metadata": {},
   "source": [
    "##### 4. Python Wrapper for the Reddit API\n",
    "\n",
    "In this problem you will become more familiar with the `praw` package, <a href=\"https://praw.readthedocs.io/en/stable/\">https://praw.readthedocs.io/en/stable/</a>.\n",
    "\n",
    "`praw` is a Python wrapper for Reddit's API, which allows you to scrape Reddit data without having to write much code.\n",
    "\n",
    "The first step for using `praw` is creating a Reddit application with your Reddit account, instructions on how to do so can be found here, <a href=\"https://github.com/reddit-archive/reddit/wiki/OAuth2-Quick-Start-Example#first-steps\">https://github.com/reddit-archive/reddit/wiki/OAuth2-Quick-Start-Example#first-steps</a>.\n",
    "\n",
    "The second step is installing `praw`, you can find instructions to do so here, <a href=\"https://praw.readthedocs.io/en/stable/getting_started/installation.html\">https://praw.readthedocs.io/en/stable/getting_started/installation.html</a>, for `pip` and here, <a href=\"https://anaconda.org/conda-forge/praw\">https://anaconda.org/conda-forge/praw</a> for `conda`.\n",
    "\n",
    "Once you think that you have successfully installed `praw` try running the code chunks below."
   ]
  },
  {
   "cell_type": "code",
   "execution_count": 17,
   "id": "539781bb",
   "metadata": {},
   "outputs": [],
   "source": [
    "import praw"
   ]
  },
  {
   "cell_type": "code",
   "execution_count": 18,
   "id": "d4984dd5",
   "metadata": {},
   "outputs": [
    {
     "name": "stdout",
     "output_type": "stream",
     "text": [
      "7.5.0\n"
     ]
    }
   ],
   "source": [
    "print(praw.__version__)"
   ]
  },
  {
   "cell_type": "markdown",
   "id": "05a800d4",
   "metadata": {},
   "source": [
    "Next you need to connect to the API using your app's credentials. <b>As always, never share your credentials with anyone, especially online. Store these in a safe place on your computer</b>. I have stored them in the file `matt_api_info.py` which can only be found on my personal laptop."
   ]
  },
  {
   "cell_type": "code",
   "execution_count": 19,
   "id": "7be2ac41",
   "metadata": {},
   "outputs": [],
   "source": [
    "from matt_api_info import get_reddit_client_id, get_reddit_client_secret"
   ]
  },
  {
   "cell_type": "code",
   "execution_count": 20,
   "id": "a191283b",
   "metadata": {},
   "outputs": [
    {
     "name": "stderr",
     "output_type": "stream",
     "text": [
      "Version 7.5.0 of praw is outdated. Version 7.7.0 was released Saturday February 25, 2023.\n"
     ]
    }
   ],
   "source": [
    "## Connect to the api\n",
    "reddit = praw.Reddit(\n",
    "    ## input your client_id here\n",
    "    client_id=get_reddit_client_id(),\n",
    "    ## input your client_secret here\n",
    "    client_secret=get_reddit_client_secret(),\n",
    "    ## put in a string for your user_agent here\n",
    "    user_agent=\"testscript\"\n",
    ")"
   ]
  },
  {
   "cell_type": "markdown",
   "id": "f32f2313",
   "metadata": {},
   "source": [
    "Once you have a connection to the Reddit API, you can start to request data.\n",
    "\n",
    "For example, with `.subreddit`, <a href=\"https://praw.readthedocs.io/en/stable/code_overview/models/subreddit.html\">https://praw.readthedocs.io/en/stable/code_overview/models/subreddit.html</a>, you can get the information for a particular subreddit. Choose your favorite subreddit below."
   ]
  },
  {
   "cell_type": "code",
   "execution_count": 21,
   "id": "be264704",
   "metadata": {},
   "outputs": [],
   "source": [
    "## place the name of your favorith subreddit here,\n",
    "## this should not include r/\n",
    "## for example, \"books\" leads to the books subreddit, https://www.reddit.com/r/books/\n",
    "subreddit_name = \"books\"\n",
    "\n",
    "## here we get the subreddit data\n",
    "subreddit = reddit.subreddit(subreddit_name)"
   ]
  },
  {
   "cell_type": "markdown",
   "id": "dedd642d",
   "metadata": {},
   "source": [
    "Here is some of the data you can get on a subreddit."
   ]
  },
  {
   "cell_type": "code",
   "execution_count": 22,
   "id": "0d696aaf",
   "metadata": {},
   "outputs": [
    {
     "data": {
      "text/plain": [
       "'books'"
      ]
     },
     "execution_count": 22,
     "metadata": {},
     "output_type": "execute_result"
    }
   ],
   "source": [
    "## The name of the subreddit\n",
    "subreddit.display_name"
   ]
  },
  {
   "cell_type": "code",
   "execution_count": 23,
   "id": "c7a74dbf",
   "metadata": {},
   "outputs": [
    {
     "name": "stdout",
     "output_type": "stream",
     "text": [
      "###### [](#place announcements below)\n",
      "\n",
      "* Wed at 8pm, **Amie Kaufman** Author of [*Aurora Rising (The Aurora Cycle, #1)*](https://goodreads.com/book/show/30075662)\n",
      "* Check out the [Weekly Recommendation Thread](https://redd.it/131n96r)\n",
      "* Join in the [Weekly \"What Are You Reading?\" Thread!](https://redd.it/134i5p9)\n",
      "\n",
      "\n",
      "## [- Subreddit Rules -](/r/books/wiki/rules)[- Message the mods -](http://goo.gl/HXpfgH)[Related Subs](/r/books/wiki/relatedsubreddits)[AMA Info](/r/Books/wiki/amarules)[The FAQ](/r/books/wiki/faq) [The Wiki](/r/books/wiki/index)\n",
      "\n",
      "This is a moderated subreddit. It is our intent and purpose to foster and encourage in-depth discussion about all things related to books, authors, genres or publishing in a safe, supportive environment. If you're looking for help with a personal book recommendation, consult our [Suggested Reading](/r/books/wiki/suggested) page or ask in: /r/suggestmeabook\n",
      "\n",
      "# Quick Rules:\n",
      "\n",
      "1. **Discussion is the goal**  \n",
      "Do not post shallow content. All posts must be directly book related, informative, and discussion focused. \n",
      "\n",
      "2. **Personal conduct**  \n",
      "Please use a civil tone and assume good faith when entering a conversation.\n",
      "\n",
      "3. **Prohibited**  \n",
      "Promotional posts, comments & flairs, media-only posts, personalized recommendation requests incl. ‘Should I read …?’, ‘What’s that book?’ posts, sales links, piracy, plagiarism, low quality book lists, unmarked spoilers (instructions for spoiler tags are in the sidebar), sensationalist headlines, novelty accounts, low effort content. *Please see extended rules for appropriate alternative subreddits, like /r/suggestmeabook, /r/whatsthatbook, etc. or check out our [Related Subreddits](/r/books/wiki/relatedsubreddits).*\n",
      "\n",
      "4. **Encouraged**  \n",
      "We love *original* content and self-posts! Thoughts, discussion questions, epiphanies and interesting links about authors and their work. We also encourage discussion about developments in the book world and we have a flair system. \n",
      "\n",
      "5. **Important**  \n",
      "We don't allow personal recommendation posts. You can ask in our Weekly Recommendation Thread, consult our [Suggested Reading](/r/books/wiki/suggested) or [What to Read](/r/books/wiki/whattoread) page, or post in /r/suggestmeabook.\n",
      "\n",
      "6. **[Click here for the extended rules](/r/Books/wiki/rules)**  \n",
      "Please report any comment that does not follow the rules and remember that mods have the final say.\n",
      "\n",
      "---\n",
      "\n",
      "# Weekly Thread Calendar\n",
      "Day|Frequency|Feature\n",
      ":--:|:--:|:--:\n",
      "Monday|Weekly|[What Books did You Start or Finish Reading this Week?: May 01, 2023](https://redd.it/134i5p9)\n",
      "Tuesday|1st of the month|[New Releases: May 2023](https://redd.it/134h546)\n",
      "Wednesday|Weekly|Literature of the World: [Literature of Latvia: May 2022](https://redd.it/136ijzy)\n",
      "Thursday|Weekly|Genre Discussion: [Favorite Books By or About Lesbians: April 2023](https://redd.it/130i0tg)\n",
      "Friday|Weekly|[Weekly Recommendation Thread: April 28, 2023](https://redd.it/131n96r)\n",
      "Sunday|Weekly|[Weekly FAQ Thread April 30, 2023: What music do you listen to while reading?](https://redd.it/133m7kr)\n",
      "Tues/Sat|Bi-Weekly|[Simple Questions: May 02, 2023](https://redd.it/135flq9)\n",
      "\n",
      "---\n",
      "\n",
      "# Upcoming AMAs\n",
      " | | |\n",
      ":-:|:-:|:-:\n",
      "May 03 - 8pm|**Amie Kaufman**|Author of [*Aurora Rising (The Aurora Cycle, #1)*](https://goodreads.com/book/show/30075662)\n",
      "May 04 - 11am|**Jonathan Stroud**|Author of [*The Screaming Staircase (Lockwood & Co., #1)*](https://goodreads.com/book/show/13555073)\n",
      "May 05 - 12pm|**M.L. Rio**|Author of [*If We Were Villains*](https://goodreads.com/book/show/30319086)\n",
      "May 15 - 1pm|**Michelle Lam**|Author of [*Meesh the Bad Demon*](https://goodreads.com/book/show/75584922)\n",
      "May 17 - 1pm|**Sonora Reyes**|Author of [*The Lesbiana's Guide to Catholic School*](https://goodreads.com/book/show/58842731)\n",
      "In The Coming Weeks | |Gboyega Odubanjo, Thomas D. Lee, Sue Lynn Tan, Alexander Darwin, Karin Slaughter, Melissa Broder\n",
      "\n",
      "[The Complete AMA Schedule](/r/books/wiki/amafullschedule)\n",
      "\n",
      "# [Related Subreddits](https://goo.gl/0jV4RT):\n",
      "### [Discussion](https://goo.gl/gc2SkD)\n",
      "### [Genres](https://goo.gl/tqAz83)\n",
      "### [Images](https://goo.gl/coikuy)\n",
      "### [Writing](https://goo.gl/JqC3qe)\n",
      "### [eBooks](https://goo.gl/gxn0Qi)\n",
      "### [Authors](https://goo.gl/VJn5UZ)\n",
      "### [Books/Series](https://goo.gl/DGbvQI)\n",
      "\n",
      "# Other Links:\n",
      "#### Follow our [official Twitter](http://goo.gl/RBcyna) for updates on AMAs and the day's most popular posts!\n",
      "\n",
      "# Spoiler Policy:\n",
      "- Any post with a spoiler in the title will be removed.\n",
      "- Any comment with a spoiler that doesn't use the spoiler code will be removed.\n",
      "- Any user with an extensive history of spoiling books will be banned.\n",
      "- Spoiler tags cover spoilers with black bars that reveal spoilers when a cursor hovers over them They are written as: \\>!spoiler!< with the text \"spoiler\" being your spoiler. Example: >!Hello.!<\n",
      "\n",
      "# [Explanation of our link flairs](/r/books/wiki/flairs)\n",
      "\n",
      "# [Join our /r/bookclub](/r/bookclub)\n",
      "\n",
      "# [Don't forget /new!](/r/books/new)\n",
      "\n",
      "# Filter by Flair\n",
      "> # [AMA](http://goo.gl/94lql6)\n",
      "> # [Weekly Thread](https://www.reddit.com/r/books/search?q=flair%3Aweeklythread&restrict_sr=on&sort=new&t=all)\n",
      "> # [Mod Post](/r/books/search?sort=new&restrict_sr=on&q=flair%3Amod%20post)\n",
      "\n",
      "---\n",
      "\n",
      "> ###### [](#the book banner)\n",
      ">\n",
      "> * [bsct](https://reddit.com/comments/12xafjv/x/ji0n4hx)\n",
      "* [](https://reddit.com/comments/12xafjv/x/jhi5uzf)\n",
      "* [](https://reddit.com/comments/12xafjv/x/jhi8gip)\n",
      "* [](https://reddit.com/comments/12xafjv/x/jhjk3d8)\n",
      "* [](https://reddit.com/comments/12xafjv/x/jhi28tt)\n",
      "* [](https://reddit.com/comments/12xafjv/x/jhjsaih)\n",
      "* [](https://reddit.com/comments/12xafjv/x/jhizjqh)\n",
      "* [](https://reddit.com/comments/12xafjv/x/jhiw8v6)\n",
      "* [](https://reddit.com/comments/12xafjv/x/jhlnjn8)\n",
      "* [](https://reddit.com/comments/12xafjv/x/jhzl5pl)\n",
      "* [](https://reddit.com/comments/12xafjv/x/ji8rg3d)\n",
      "* [](https://reddit.com/comments/12xafjv/x/jhkfa83)\n",
      "* [](https://reddit.com/comments/12xafjv/x/jhizm5k)\n",
      "* [](https://reddit.com/comments/12xafjv/x/jhm76r0)\n",
      "* [](https://reddit.com/comments/12xafjv/x/jhjofal)\n",
      "* [](https://reddit.com/comments/12xafjv/x/jhi9ady)\n",
      "* [](https://reddit.com/comments/12xafjv/x/jhjjai3)\n",
      "* [](https://reddit.com/comments/12xafjv/x/jhs2gpf)\n",
      "* [](https://reddit.com/comments/12xafjv/x/jhiw8v6)\n",
      "* [](https://reddit.com/comments/12xafjv/x/ji0n4hx)\n",
      "* [](https://reddit.com/comments/12xafjv/x/jhid5fy)\n",
      "* [](https://reddit.com/comments/12xafjv/x/jhid5fy)\n",
      "* [](https://reddit.com/comments/12xafjv/x/jhnsdtj)\n",
      "* [](https://reddit.com/comments/12xafjv/x/jhzl5pl)\n",
      "* [](https://reddit.com/comments/12xafjv/x/jhi28tt)\n",
      "* [](https://reddit.com/comments/12xafjv/x/jhjet3o)\n",
      "* [](https://reddit.com/comments/12xafjv/x/jhigags)\n",
      "* [](https://reddit.com/comments/12xafjv/x/jhj17mj)\n",
      "* [](https://reddit.com/comments/12xafjv/x/jhuo63e)\n",
      "* [](https://reddit.com/comments/12xafjv/x/jhib1un)\n",
      "\n",
      "\n",
      "\n",
      "##### [ama](https://goodreads.com/book/show/30075662)\n",
      "\n",
      "\n",
      "# Check out this week's [Thread Calendar](https://redd.it/134i5nd)\n"
     ]
    }
   ],
   "source": [
    "## The description of the subreddit\n",
    "print(subreddit.description)"
   ]
  },
  {
   "cell_type": "code",
   "execution_count": 24,
   "id": "b65b070e",
   "metadata": {},
   "outputs": [
    {
     "data": {
      "text/plain": [
       "22470362"
      ]
     },
     "execution_count": 24,
     "metadata": {},
     "output_type": "execute_result"
    }
   ],
   "source": [
    "## The number of subscribers\n",
    "subreddit.subscribers"
   ]
  },
  {
   "cell_type": "markdown",
   "id": "547745c7",
   "metadata": {},
   "source": [
    "Read the `praw` 'Quick Start' documentation, <a href=\"https://praw.readthedocs.io/en/stable/getting_started/quick_start.html\">https://praw.readthedocs.io/en/stable/getting_started/quick_start.html</a>, to find how to get the top 1 \"hot\" submissions to your favorite subreddit.\n",
    "\n",
    "Store this in a variable named `top_post`."
   ]
  },
  {
   "cell_type": "code",
   "execution_count": 25,
   "id": "41efc3e0",
   "metadata": {},
   "outputs": [],
   "source": [
    "top_post = [post for post in subreddit.hot(limit=1)][0]"
   ]
  },
  {
   "cell_type": "markdown",
   "id": "e2e8cf15",
   "metadata": {},
   "source": [
    "Read the `praw` submission documentation, <a href=\"https://praw.readthedocs.io/en/latest/code_overview/models/submission.html\">https://praw.readthedocs.io/en/latest/code_overview/models/submission.html</a>, to return the:\n",
    "- Author of the post,\n",
    "- The title of the post,\n",
    "- The text of the post (if there is any),\n",
    "- The number of comments and\n",
    "- The number of upvotes."
   ]
  },
  {
   "cell_type": "code",
   "execution_count": 26,
   "id": "542efe37",
   "metadata": {},
   "outputs": [
    {
     "name": "stdout",
     "output_type": "stream",
     "text": [
      "XBreaksYFocusGroup\n"
     ]
    }
   ],
   "source": [
    "print(top_post.author)"
   ]
  },
  {
   "cell_type": "code",
   "execution_count": 27,
   "id": "de4c9075",
   "metadata": {},
   "outputs": [
    {
     "name": "stdout",
     "output_type": "stream",
     "text": [
      "The /r/books Book Club Selection + AMA for May is \"Daughter of the Moon Goddess\" by Sue Lynn Tan\n"
     ]
    }
   ],
   "source": [
    "print(top_post.title)"
   ]
  },
  {
   "cell_type": "code",
   "execution_count": 28,
   "id": "4821d095",
   "metadata": {},
   "outputs": [
    {
     "name": "stdout",
     "output_type": "stream",
     "text": [
      "*If you are looking for the announcement thread for the previous month, it may be found* [*here*](https://new.reddit.com/r/books/comments/1185dlj/the_rbooks_book_club_selection_ama_for_april_is/)*.*\n",
      "\n",
      "Hello, all. During the month of May, the sub book club will be reading **Daughter of the Moon Goddess** by Sue Lynn Tan! Each week, there will be a discussion thread and when we are done, Sue herself will be joining us for an AMA. Do please note that novel is classified as Young Adult.\n",
      "\n",
      "From [Goodreads](https://www.goodreads.com/book/show/57789637-daughter-of-the-moon-goddess) (feel free to skip if you prefer to know nothing going into the book as the description contains minor spoilers):\n",
      "\n",
      ">Growing up on the moon, Xingyin is accustomed to solitude, unaware that she is being hidden from the feared Celestial Emperor who exiled her mother for stealing his elixir of immortality. But when Xingyin’s magic flares and her existence is discovered, she is forced to flee her home, leaving her mother behind.  \n",
      ">  \n",
      ">Alone, powerless, and afraid, she makes her way to the Celestial Kingdom, a land of wonder and secrets. Disguising her identity, she seizes an opportunity to learn alongside the emperor's son, mastering archery and magic, even as passion flames between her and the prince.  \n",
      ">  \n",
      ">To save her mother, Xingyin embarks on a perilous quest, confronting legendary creatures and vicious enemies across the earth and skies. But when treachery looms and forbidden magic threatens the kingdom, she must challenge the ruthless Celestial Emperor for her dream—striking a dangerous bargain in which she is torn between losing all she loves or plunging the realm into chaos. \n",
      "\n",
      "You may find the dates of, and links to, the discussion threads below in the sticky comment on this post. You are welcome to read at your own pace. Usually it is pretty easy to catch up and you are always welcome to join the discussions a little later. If you would like to view potential content warnings for the book, a reader-created list may be found [here](https://app.thestorygraph.com/books/2e761395-378d-4531-9a88-adb210eecae9/content_warnings).\n",
      "\n",
      "For those of you that are viewing reddit on the redesigned desktop version you will see an option on this post to 'follow'. If you 'follow' the book club post you will receive a notification when a new post, a discussion thread for book club, is added to the collection.\n"
     ]
    }
   ],
   "source": [
    "print(top_post.selftext)"
   ]
  },
  {
   "cell_type": "code",
   "execution_count": 29,
   "id": "2361ab8f",
   "metadata": {},
   "outputs": [
    {
     "name": "stdout",
     "output_type": "stream",
     "text": [
      "8\n"
     ]
    }
   ],
   "source": [
    "print(top_post.num_comments)"
   ]
  },
  {
   "cell_type": "code",
   "execution_count": 30,
   "id": "8f5d6286",
   "metadata": {},
   "outputs": [
    {
     "name": "stdout",
     "output_type": "stream",
     "text": [
      "19\n"
     ]
    }
   ],
   "source": [
    "print(top_post.score)"
   ]
  },
  {
   "cell_type": "markdown",
   "id": "32095c01",
   "metadata": {},
   "source": [
    "You can learn more about `praw` by reading the documentation, <a href=\"https://praw.readthedocs.io/en/latest/index.html\">https://praw.readthedocs.io/en/latest/index.html</a>."
   ]
  },
  {
   "cell_type": "markdown",
   "id": "b2081b66",
   "metadata": {},
   "source": [
    "--------------------------\n",
    "\n",
    "This notebook was written for the Erd&#337;s Institute C&#337;de Data Science Boot Camp by Matthew Osborne, Ph. D., 2023.\n",
    "\n",
    "Any potential redistributors must seek and receive permission from Matthew Tyler Osborne, Ph.D. prior to redistribution. Redistribution of the material contained in this repository is conditional on acknowledgement of Matthew Tyler Osborne, Ph.D.'s original authorship and sponsorship of the Erdős Institute as subject to the license (see License.md)"
   ]
  },
  {
   "cell_type": "code",
   "execution_count": null,
   "id": "4326456c",
   "metadata": {},
   "outputs": [],
   "source": []
  }
 ],
 "metadata": {
  "kernelspec": {
   "display_name": "Python 3 (ipykernel)",
   "language": "python",
   "name": "python3"
  },
  "language_info": {
   "codemirror_mode": {
    "name": "ipython",
    "version": 3
   },
   "file_extension": ".py",
   "mimetype": "text/x-python",
   "name": "python",
   "nbconvert_exporter": "python",
   "pygments_lexer": "ipython3",
   "version": "3.9.16"
  }
 },
 "nbformat": 4,
 "nbformat_minor": 5
}
