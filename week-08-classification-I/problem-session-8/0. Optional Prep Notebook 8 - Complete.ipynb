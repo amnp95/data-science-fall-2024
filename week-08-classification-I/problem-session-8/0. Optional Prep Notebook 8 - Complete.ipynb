{
 "cells": [
  {
   "cell_type": "markdown",
   "id": "aa53d227",
   "metadata": {},
   "source": [
    "# Prep Notebook 8\n",
    "## Classifying Pumpkin Seeds I\n",
    "\n",
    "This optional notebook has a few exercises that can serve as a primer for what to expect in the `Problem Session 8` notebook."
   ]
  },
  {
   "cell_type": "code",
   "execution_count": 1,
   "id": "53600ad1",
   "metadata": {},
   "outputs": [],
   "source": [
    "import pandas as pd\n",
    "import numpy as np\n",
    "import matplotlib.pyplot as plt\n",
    "import seaborn as sns\n",
    "\n",
    "sns.set_style(\"whitegrid\")"
   ]
  },
  {
   "cell_type": "markdown",
   "id": "8da6327c",
   "metadata": {},
   "source": [
    "#### 1. Reading Excel files\n",
    "\n",
    "##### a.\n",
    "\n",
    "In the `data` folder is a file called `Pistachio_16_Features_Dataset.xlsx`. Do a web search to see how you can read in such a file using `pandas`. Store the `DataFrame` in a variable."
   ]
  },
  {
   "cell_type": "markdown",
   "id": "706ef047",
   "metadata": {},
   "source": [
    "##### Sample Solution"
   ]
  },
  {
   "cell_type": "code",
   "execution_count": 2,
   "id": "56c0657b",
   "metadata": {},
   "outputs": [],
   "source": [
    "df = pd.read_excel(\"../../data/Pistachio_16_Features_Dataset.xlsx\")"
   ]
  },
  {
   "cell_type": "markdown",
   "id": "b64fa6b8",
   "metadata": {},
   "source": [
    "##### b.\n",
    "\n",
    "Look at a random sample of size $10$ from this data set."
   ]
  },
  {
   "cell_type": "markdown",
   "id": "542ee01c",
   "metadata": {},
   "source": [
    "##### Sample Solution"
   ]
  },
  {
   "cell_type": "code",
   "execution_count": 3,
   "id": "a8fb2504",
   "metadata": {},
   "outputs": [
    {
     "data": {
      "text/html": [
       "<div>\n",
       "<style scoped>\n",
       "    .dataframe tbody tr th:only-of-type {\n",
       "        vertical-align: middle;\n",
       "    }\n",
       "\n",
       "    .dataframe tbody tr th {\n",
       "        vertical-align: top;\n",
       "    }\n",
       "\n",
       "    .dataframe thead th {\n",
       "        text-align: right;\n",
       "    }\n",
       "</style>\n",
       "<table border=\"1\" class=\"dataframe\">\n",
       "  <thead>\n",
       "    <tr style=\"text-align: right;\">\n",
       "      <th></th>\n",
       "      <th>AREA</th>\n",
       "      <th>PERIMETER</th>\n",
       "      <th>MAJOR_AXIS</th>\n",
       "      <th>MINOR_AXIS</th>\n",
       "      <th>ECCENTRICITY</th>\n",
       "      <th>EQDIASQ</th>\n",
       "      <th>SOLIDITY</th>\n",
       "      <th>CONVEX_AREA</th>\n",
       "      <th>EXTENT</th>\n",
       "      <th>ASPECT_RATIO</th>\n",
       "      <th>ROUNDNESS</th>\n",
       "      <th>COMPACTNESS</th>\n",
       "      <th>SHAPEFACTOR_1</th>\n",
       "      <th>SHAPEFACTOR_2</th>\n",
       "      <th>SHAPEFACTOR_3</th>\n",
       "      <th>SHAPEFACTOR_4</th>\n",
       "      <th>Class</th>\n",
       "    </tr>\n",
       "  </thead>\n",
       "  <tbody>\n",
       "    <tr>\n",
       "      <th>770</th>\n",
       "      <td>68172</td>\n",
       "      <td>1283.0750</td>\n",
       "      <td>439.9841</td>\n",
       "      <td>208.1023</td>\n",
       "      <td>0.8811</td>\n",
       "      <td>294.6172</td>\n",
       "      <td>0.9176</td>\n",
       "      <td>74292</td>\n",
       "      <td>0.7259</td>\n",
       "      <td>2.1143</td>\n",
       "      <td>0.5204</td>\n",
       "      <td>0.6696</td>\n",
       "      <td>0.0065</td>\n",
       "      <td>0.0031</td>\n",
       "      <td>0.4484</td>\n",
       "      <td>0.9480</td>\n",
       "      <td>Kirmizi_Pistachio</td>\n",
       "    </tr>\n",
       "    <tr>\n",
       "      <th>165</th>\n",
       "      <td>77609</td>\n",
       "      <td>1185.8409</td>\n",
       "      <td>432.5506</td>\n",
       "      <td>242.5948</td>\n",
       "      <td>0.8279</td>\n",
       "      <td>314.3483</td>\n",
       "      <td>0.8959</td>\n",
       "      <td>86626</td>\n",
       "      <td>0.7368</td>\n",
       "      <td>1.7830</td>\n",
       "      <td>0.6935</td>\n",
       "      <td>0.7267</td>\n",
       "      <td>0.0056</td>\n",
       "      <td>0.0031</td>\n",
       "      <td>0.5281</td>\n",
       "      <td>0.9417</td>\n",
       "      <td>Kirmizi_Pistachio</td>\n",
       "    </tr>\n",
       "    <tr>\n",
       "      <th>1082</th>\n",
       "      <td>80428</td>\n",
       "      <td>1528.2960</td>\n",
       "      <td>464.1943</td>\n",
       "      <td>224.5781</td>\n",
       "      <td>0.8752</td>\n",
       "      <td>320.0064</td>\n",
       "      <td>0.9721</td>\n",
       "      <td>82734</td>\n",
       "      <td>0.7409</td>\n",
       "      <td>2.0670</td>\n",
       "      <td>0.4327</td>\n",
       "      <td>0.6894</td>\n",
       "      <td>0.0058</td>\n",
       "      <td>0.0028</td>\n",
       "      <td>0.4752</td>\n",
       "      <td>0.9823</td>\n",
       "      <td>Kirmizi_Pistachio</td>\n",
       "    </tr>\n",
       "    <tr>\n",
       "      <th>933</th>\n",
       "      <td>80537</td>\n",
       "      <td>1228.8040</td>\n",
       "      <td>497.9373</td>\n",
       "      <td>208.0863</td>\n",
       "      <td>0.9085</td>\n",
       "      <td>320.2232</td>\n",
       "      <td>0.9832</td>\n",
       "      <td>81910</td>\n",
       "      <td>0.7437</td>\n",
       "      <td>2.3929</td>\n",
       "      <td>0.6703</td>\n",
       "      <td>0.6431</td>\n",
       "      <td>0.0062</td>\n",
       "      <td>0.0026</td>\n",
       "      <td>0.4136</td>\n",
       "      <td>0.9897</td>\n",
       "      <td>Kirmizi_Pistachio</td>\n",
       "    </tr>\n",
       "    <tr>\n",
       "      <th>1558</th>\n",
       "      <td>88017</td>\n",
       "      <td>1192.1689</td>\n",
       "      <td>460.0688</td>\n",
       "      <td>245.4256</td>\n",
       "      <td>0.8458</td>\n",
       "      <td>334.7637</td>\n",
       "      <td>0.9860</td>\n",
       "      <td>89265</td>\n",
       "      <td>0.7527</td>\n",
       "      <td>1.8746</td>\n",
       "      <td>0.7782</td>\n",
       "      <td>0.7276</td>\n",
       "      <td>0.0052</td>\n",
       "      <td>0.0028</td>\n",
       "      <td>0.5295</td>\n",
       "      <td>0.9925</td>\n",
       "      <td>Siit_Pistachio</td>\n",
       "    </tr>\n",
       "    <tr>\n",
       "      <th>883</th>\n",
       "      <td>69207</td>\n",
       "      <td>2090.7329</td>\n",
       "      <td>420.3341</td>\n",
       "      <td>223.2215</td>\n",
       "      <td>0.8473</td>\n",
       "      <td>296.8452</td>\n",
       "      <td>0.9223</td>\n",
       "      <td>75035</td>\n",
       "      <td>0.6597</td>\n",
       "      <td>1.8830</td>\n",
       "      <td>0.1990</td>\n",
       "      <td>0.7062</td>\n",
       "      <td>0.0061</td>\n",
       "      <td>0.0032</td>\n",
       "      <td>0.4987</td>\n",
       "      <td>0.9391</td>\n",
       "      <td>Kirmizi_Pistachio</td>\n",
       "    </tr>\n",
       "    <tr>\n",
       "      <th>1746</th>\n",
       "      <td>78462</td>\n",
       "      <td>1104.4620</td>\n",
       "      <td>421.9737</td>\n",
       "      <td>239.8580</td>\n",
       "      <td>0.8227</td>\n",
       "      <td>316.0711</td>\n",
       "      <td>0.9828</td>\n",
       "      <td>79833</td>\n",
       "      <td>0.7599</td>\n",
       "      <td>1.7593</td>\n",
       "      <td>0.8083</td>\n",
       "      <td>0.7490</td>\n",
       "      <td>0.0054</td>\n",
       "      <td>0.0031</td>\n",
       "      <td>0.5610</td>\n",
       "      <td>0.9870</td>\n",
       "      <td>Siit_Pistachio</td>\n",
       "    </tr>\n",
       "    <tr>\n",
       "      <th>343</th>\n",
       "      <td>90427</td>\n",
       "      <td>1354.5990</td>\n",
       "      <td>486.1301</td>\n",
       "      <td>242.8840</td>\n",
       "      <td>0.8662</td>\n",
       "      <td>339.3158</td>\n",
       "      <td>0.9488</td>\n",
       "      <td>95310</td>\n",
       "      <td>0.7579</td>\n",
       "      <td>2.0015</td>\n",
       "      <td>0.6193</td>\n",
       "      <td>0.6980</td>\n",
       "      <td>0.0054</td>\n",
       "      <td>0.0027</td>\n",
       "      <td>0.4872</td>\n",
       "      <td>0.9751</td>\n",
       "      <td>Kirmizi_Pistachio</td>\n",
       "    </tr>\n",
       "    <tr>\n",
       "      <th>1147</th>\n",
       "      <td>69946</td>\n",
       "      <td>1169.3070</td>\n",
       "      <td>409.3998</td>\n",
       "      <td>226.3020</td>\n",
       "      <td>0.8333</td>\n",
       "      <td>298.4259</td>\n",
       "      <td>0.9418</td>\n",
       "      <td>74269</td>\n",
       "      <td>0.7199</td>\n",
       "      <td>1.8091</td>\n",
       "      <td>0.6429</td>\n",
       "      <td>0.7289</td>\n",
       "      <td>0.0059</td>\n",
       "      <td>0.0032</td>\n",
       "      <td>0.5313</td>\n",
       "      <td>0.9613</td>\n",
       "      <td>Kirmizi_Pistachio</td>\n",
       "    </tr>\n",
       "    <tr>\n",
       "      <th>882</th>\n",
       "      <td>77755</td>\n",
       "      <td>1969.2920</td>\n",
       "      <td>452.5568</td>\n",
       "      <td>232.9896</td>\n",
       "      <td>0.8573</td>\n",
       "      <td>314.6438</td>\n",
       "      <td>0.9318</td>\n",
       "      <td>83444</td>\n",
       "      <td>0.7154</td>\n",
       "      <td>1.9424</td>\n",
       "      <td>0.2520</td>\n",
       "      <td>0.6953</td>\n",
       "      <td>0.0058</td>\n",
       "      <td>0.0030</td>\n",
       "      <td>0.4834</td>\n",
       "      <td>0.9389</td>\n",
       "      <td>Kirmizi_Pistachio</td>\n",
       "    </tr>\n",
       "  </tbody>\n",
       "</table>\n",
       "</div>"
      ],
      "text/plain": [
       "       AREA  PERIMETER  MAJOR_AXIS  MINOR_AXIS  ECCENTRICITY   EQDIASQ  \\\n",
       "770   68172  1283.0750    439.9841    208.1023        0.8811  294.6172   \n",
       "165   77609  1185.8409    432.5506    242.5948        0.8279  314.3483   \n",
       "1082  80428  1528.2960    464.1943    224.5781        0.8752  320.0064   \n",
       "933   80537  1228.8040    497.9373    208.0863        0.9085  320.2232   \n",
       "1558  88017  1192.1689    460.0688    245.4256        0.8458  334.7637   \n",
       "883   69207  2090.7329    420.3341    223.2215        0.8473  296.8452   \n",
       "1746  78462  1104.4620    421.9737    239.8580        0.8227  316.0711   \n",
       "343   90427  1354.5990    486.1301    242.8840        0.8662  339.3158   \n",
       "1147  69946  1169.3070    409.3998    226.3020        0.8333  298.4259   \n",
       "882   77755  1969.2920    452.5568    232.9896        0.8573  314.6438   \n",
       "\n",
       "      SOLIDITY  CONVEX_AREA  EXTENT  ASPECT_RATIO  ROUNDNESS  COMPACTNESS  \\\n",
       "770     0.9176        74292  0.7259        2.1143     0.5204       0.6696   \n",
       "165     0.8959        86626  0.7368        1.7830     0.6935       0.7267   \n",
       "1082    0.9721        82734  0.7409        2.0670     0.4327       0.6894   \n",
       "933     0.9832        81910  0.7437        2.3929     0.6703       0.6431   \n",
       "1558    0.9860        89265  0.7527        1.8746     0.7782       0.7276   \n",
       "883     0.9223        75035  0.6597        1.8830     0.1990       0.7062   \n",
       "1746    0.9828        79833  0.7599        1.7593     0.8083       0.7490   \n",
       "343     0.9488        95310  0.7579        2.0015     0.6193       0.6980   \n",
       "1147    0.9418        74269  0.7199        1.8091     0.6429       0.7289   \n",
       "882     0.9318        83444  0.7154        1.9424     0.2520       0.6953   \n",
       "\n",
       "      SHAPEFACTOR_1  SHAPEFACTOR_2  SHAPEFACTOR_3  SHAPEFACTOR_4  \\\n",
       "770          0.0065         0.0031         0.4484         0.9480   \n",
       "165          0.0056         0.0031         0.5281         0.9417   \n",
       "1082         0.0058         0.0028         0.4752         0.9823   \n",
       "933          0.0062         0.0026         0.4136         0.9897   \n",
       "1558         0.0052         0.0028         0.5295         0.9925   \n",
       "883          0.0061         0.0032         0.4987         0.9391   \n",
       "1746         0.0054         0.0031         0.5610         0.9870   \n",
       "343          0.0054         0.0027         0.4872         0.9751   \n",
       "1147         0.0059         0.0032         0.5313         0.9613   \n",
       "882          0.0058         0.0030         0.4834         0.9389   \n",
       "\n",
       "                  Class  \n",
       "770   Kirmizi_Pistachio  \n",
       "165   Kirmizi_Pistachio  \n",
       "1082  Kirmizi_Pistachio  \n",
       "933   Kirmizi_Pistachio  \n",
       "1558     Siit_Pistachio  \n",
       "883   Kirmizi_Pistachio  \n",
       "1746     Siit_Pistachio  \n",
       "343   Kirmizi_Pistachio  \n",
       "1147  Kirmizi_Pistachio  \n",
       "882   Kirmizi_Pistachio  "
      ]
     },
     "execution_count": 3,
     "metadata": {},
     "output_type": "execute_result"
    }
   ],
   "source": [
    "df.sample(10)"
   ]
  },
  {
   "cell_type": "markdown",
   "id": "2f647966",
   "metadata": {},
   "source": [
    "##### c.\n",
    "\n",
    "Produce a list of column names from this `DataFrame` using only `pandas`."
   ]
  },
  {
   "cell_type": "markdown",
   "id": "5d7c1356",
   "metadata": {},
   "source": [
    "##### Sample Solution"
   ]
  },
  {
   "cell_type": "code",
   "execution_count": 4,
   "id": "9acd5fca",
   "metadata": {},
   "outputs": [
    {
     "data": {
      "text/plain": [
       "Index(['AREA', 'PERIMETER', 'MAJOR_AXIS', 'MINOR_AXIS', 'ECCENTRICITY',\n",
       "       'EQDIASQ', 'SOLIDITY', 'CONVEX_AREA', 'EXTENT', 'ASPECT_RATIO',\n",
       "       'ROUNDNESS', 'COMPACTNESS', 'SHAPEFACTOR_1', 'SHAPEFACTOR_2',\n",
       "       'SHAPEFACTOR_3', 'SHAPEFACTOR_4', 'Class'],\n",
       "      dtype='object')"
      ]
     },
     "execution_count": 4,
     "metadata": {},
     "output_type": "execute_result"
    }
   ],
   "source": [
    "df.columns"
   ]
  },
  {
   "cell_type": "markdown",
   "id": "f26cde3b",
   "metadata": {},
   "source": [
    "##### d.\n",
    "\n",
    "How many of each `Class` value is present in this `DataFrame`? What percentage of the `DataFrame` does each value represent?"
   ]
  },
  {
   "cell_type": "markdown",
   "id": "296f4f48",
   "metadata": {},
   "source": [
    "##### Sample Solution"
   ]
  },
  {
   "cell_type": "code",
   "execution_count": 5,
   "id": "26a3d8cf",
   "metadata": {},
   "outputs": [
    {
     "data": {
      "text/plain": [
       "Kirmizi_Pistachio    1232\n",
       "Siit_Pistachio        916\n",
       "Name: Class, dtype: int64"
      ]
     },
     "execution_count": 5,
     "metadata": {},
     "output_type": "execute_result"
    }
   ],
   "source": [
    "df.Class.value_counts()"
   ]
  },
  {
   "cell_type": "code",
   "execution_count": 6,
   "id": "5ad97de7",
   "metadata": {},
   "outputs": [
    {
     "data": {
      "text/plain": [
       "Kirmizi_Pistachio    0.573557\n",
       "Siit_Pistachio       0.426443\n",
       "Name: Class, dtype: float64"
      ]
     },
     "execution_count": 6,
     "metadata": {},
     "output_type": "execute_result"
    }
   ],
   "source": [
    "df.Class.value_counts(normalize=True)"
   ]
  },
  {
   "cell_type": "markdown",
   "id": "9bd41f7a",
   "metadata": {},
   "source": [
    "#### 2. Train test splits for classification\n",
    "\n",
    "##### a.\n",
    "\n",
    "Write a `for` loop to print out a train test split of the following data `test` 20 times. Set a test set size of $20\\%$, do not set a random seed."
   ]
  },
  {
   "cell_type": "code",
   "execution_count": 7,
   "id": "8aaf324e",
   "metadata": {},
   "outputs": [],
   "source": [
    "test = [0,0,0,0,0,0,0,0,0,0,\n",
    "           1,1,0,0,0,0,0,1,1,1]"
   ]
  },
  {
   "cell_type": "markdown",
   "id": "84a797ec",
   "metadata": {},
   "source": [
    "##### Sample Solution"
   ]
  },
  {
   "cell_type": "code",
   "execution_count": 8,
   "id": "a2512eb0",
   "metadata": {},
   "outputs": [],
   "source": [
    "from sklearn.model_selection import train_test_split"
   ]
  },
  {
   "cell_type": "code",
   "execution_count": 9,
   "id": "d9627d2c",
   "metadata": {},
   "outputs": [
    {
     "name": "stdout",
     "output_type": "stream",
     "text": [
      "[[0, 1, 1, 0, 0, 0, 0, 0, 0, 0, 0, 1, 1, 0, 0, 0], [0, 0, 1, 0]]\n",
      "[[1, 0, 0, 0, 0, 0, 0, 0, 1, 0, 0, 0, 1, 0, 0, 1], [1, 0, 0, 0]]\n",
      "[[0, 0, 0, 1, 0, 0, 0, 0, 1, 0, 0, 0, 0, 0, 0, 1], [1, 0, 1, 0]]\n",
      "[[0, 0, 0, 0, 0, 1, 1, 0, 0, 0, 0, 1, 0, 1, 0, 0], [0, 0, 1, 0]]\n",
      "[[1, 0, 0, 0, 0, 0, 0, 0, 0, 0, 1, 0, 0, 0, 1, 1], [1, 0, 0, 0]]\n",
      "[[0, 0, 0, 0, 1, 0, 0, 0, 1, 0, 0, 0, 0, 0, 0, 0], [1, 1, 0, 1]]\n",
      "[[0, 1, 0, 1, 0, 0, 0, 0, 0, 0, 1, 0, 1, 0, 0, 1], [0, 0, 0, 0]]\n",
      "[[1, 0, 1, 0, 0, 0, 0, 0, 0, 1, 0, 0, 0, 0, 1, 0], [0, 1, 0, 0]]\n",
      "[[1, 0, 0, 0, 1, 0, 1, 0, 1, 0, 0, 0, 0, 0, 0, 0], [0, 0, 0, 1]]\n",
      "[[1, 0, 0, 0, 0, 0, 1, 0, 1, 0, 0, 0, 0, 0, 1, 1], [0, 0, 0, 0]]\n",
      "[[0, 0, 0, 0, 0, 0, 0, 1, 0, 0, 0, 0, 0, 0, 0, 0], [1, 1, 1, 1]]\n",
      "[[0, 1, 0, 1, 1, 0, 0, 0, 0, 0, 0, 0, 0, 0, 0, 1], [0, 0, 1, 0]]\n",
      "[[0, 0, 0, 0, 0, 0, 0, 0, 1, 1, 0, 0, 1, 0, 1, 0], [0, 1, 0, 0]]\n",
      "[[0, 0, 0, 0, 1, 1, 0, 0, 0, 1, 0, 0, 1, 1, 0, 0], [0, 0, 0, 0]]\n",
      "[[1, 0, 0, 0, 1, 0, 0, 1, 0, 0, 0, 0, 0, 0, 0, 1], [0, 0, 0, 1]]\n",
      "[[0, 0, 0, 0, 1, 1, 0, 0, 0, 0, 0, 0, 0, 1, 1, 1], [0, 0, 0, 0]]\n",
      "[[1, 0, 0, 1, 0, 0, 0, 0, 0, 0, 0, 0, 1, 1, 0, 1], [0, 0, 0, 0]]\n",
      "[[0, 0, 0, 1, 1, 0, 0, 1, 0, 1, 0, 0, 0, 0, 0, 1], [0, 0, 0, 0]]\n",
      "[[0, 0, 1, 0, 0, 1, 0, 0, 0, 1, 0, 0, 0, 1, 1, 0], [0, 0, 0, 0]]\n",
      "[[1, 0, 1, 0, 0, 0, 0, 1, 0, 0, 0, 1, 0, 0, 0, 0], [0, 1, 0, 0]]\n"
     ]
    }
   ],
   "source": [
    "for i in range(20):\n",
    "    print(train_test_split(test,\n",
    "                              test_size=.2,\n",
    "                              shuffle=True))"
   ]
  },
  {
   "cell_type": "markdown",
   "id": "9fa05fd6",
   "metadata": {},
   "source": [
    "##### b.\n",
    "\n",
    "Did it ever happen that your test set had no `1`s in it?"
   ]
  },
  {
   "cell_type": "markdown",
   "id": "76b8c982",
   "metadata": {},
   "source": [
    "##### Sample Solution"
   ]
  },
  {
   "cell_type": "markdown",
   "id": "2ded7e7b",
   "metadata": {},
   "source": [
    "yes"
   ]
  },
  {
   "cell_type": "markdown",
   "id": "2f2e70a4",
   "metadata": {},
   "source": [
    "##### c.\n",
    "\n",
    "Rerun the loop you ran above, only this time include the argument, `stratify=test`. Are there ever splits where the test set has no `1`s in it this time?"
   ]
  },
  {
   "cell_type": "markdown",
   "id": "a450a4f3",
   "metadata": {},
   "source": [
    "##### Sample Solution"
   ]
  },
  {
   "cell_type": "code",
   "execution_count": 10,
   "id": "2b22566e",
   "metadata": {},
   "outputs": [
    {
     "name": "stdout",
     "output_type": "stream",
     "text": [
      "[[0, 1, 0, 1, 0, 0, 0, 1, 0, 0, 1, 0, 0, 0, 0, 0], [1, 0, 0, 0]]\n",
      "[[0, 0, 0, 0, 1, 0, 1, 1, 0, 1, 0, 0, 0, 0, 0, 0], [0, 0, 1, 0]]\n",
      "[[0, 0, 0, 1, 0, 0, 0, 0, 1, 0, 0, 0, 0, 1, 1, 0], [0, 0, 1, 0]]\n",
      "[[0, 0, 1, 1, 1, 0, 0, 0, 0, 1, 0, 0, 0, 0, 0, 0], [0, 0, 1, 0]]\n",
      "[[1, 0, 0, 0, 0, 1, 0, 1, 0, 0, 0, 0, 0, 1, 0, 0], [1, 0, 0, 0]]\n",
      "[[1, 0, 0, 0, 0, 0, 0, 0, 0, 1, 0, 0, 1, 0, 1, 0], [0, 0, 0, 1]]\n",
      "[[0, 0, 0, 0, 0, 0, 0, 0, 1, 0, 0, 0, 0, 1, 1, 1], [0, 0, 0, 1]]\n",
      "[[1, 0, 1, 0, 1, 0, 0, 0, 0, 0, 0, 0, 0, 1, 0, 0], [0, 0, 1, 0]]\n",
      "[[0, 0, 0, 0, 0, 1, 0, 1, 0, 0, 0, 1, 0, 0, 1, 0], [1, 0, 0, 0]]\n",
      "[[0, 1, 0, 0, 0, 1, 1, 0, 0, 0, 1, 0, 0, 0, 0, 0], [0, 0, 0, 1]]\n",
      "[[0, 0, 0, 0, 1, 0, 1, 0, 0, 1, 0, 0, 0, 0, 0, 1], [0, 1, 0, 0]]\n",
      "[[0, 0, 0, 1, 0, 0, 0, 0, 0, 0, 1, 0, 1, 1, 0, 0], [0, 0, 0, 1]]\n",
      "[[0, 0, 0, 1, 0, 0, 0, 0, 0, 1, 0, 0, 1, 0, 0, 1], [0, 1, 0, 0]]\n",
      "[[0, 0, 0, 0, 1, 0, 1, 1, 0, 0, 0, 1, 0, 0, 0, 0], [0, 0, 0, 1]]\n",
      "[[1, 1, 0, 0, 1, 0, 0, 0, 0, 0, 0, 0, 1, 0, 0, 0], [0, 0, 0, 1]]\n",
      "[[0, 0, 1, 0, 0, 0, 0, 1, 0, 0, 0, 0, 0, 0, 1, 1], [0, 0, 0, 1]]\n",
      "[[0, 0, 1, 0, 0, 0, 0, 0, 1, 0, 0, 1, 0, 0, 1, 0], [0, 0, 0, 1]]\n",
      "[[1, 0, 0, 0, 0, 0, 0, 0, 1, 0, 0, 0, 1, 0, 0, 1], [0, 1, 0, 0]]\n",
      "[[0, 0, 0, 0, 0, 1, 0, 1, 0, 0, 0, 1, 0, 0, 1, 0], [1, 0, 0, 0]]\n",
      "[[0, 0, 0, 0, 0, 0, 0, 0, 1, 1, 0, 0, 0, 1, 0, 1], [1, 0, 0, 0]]\n"
     ]
    }
   ],
   "source": [
    "for i in range(20):\n",
    "    print(train_test_split(test,\n",
    "                              test_size=.2,\n",
    "                              shuffle=True,\n",
    "                              stratify=test))"
   ]
  },
  {
   "cell_type": "markdown",
   "id": "73310240",
   "metadata": {},
   "source": [
    "##### d.\n",
    "\n",
    "Read the documentation for `StratifiedKFold` to see how it is different from regular `KFold`. Run the pistachio data set through a stratified k-fold using the `Class` column as the stratification column.\n",
    "\n",
    "- <a href=\"https://scikit-learn.org/stable/modules/generated/sklearn.model_selection.StratifiedKFold.html\">https://scikit-learn.org/stable/modules/generated/sklearn.model_selection.StratifiedKFold.html</a>\n",
    "- <a href=\"https://scikit-learn.org/stable/modules/generated/sklearn.model_selection.KFold.html\">https://scikit-learn.org/stable/modules/generated/sklearn.model_selection.KFold.html</a>\n",
    "\n"
   ]
  },
  {
   "cell_type": "markdown",
   "id": "d1c56ef4",
   "metadata": {},
   "source": [
    "##### Sample Solution"
   ]
  },
  {
   "cell_type": "code",
   "execution_count": 11,
   "id": "5c2ad113",
   "metadata": {},
   "outputs": [],
   "source": [
    "from sklearn.model_selection import StratifiedKFold"
   ]
  },
  {
   "cell_type": "code",
   "execution_count": 12,
   "id": "481bf6dd",
   "metadata": {},
   "outputs": [
    {
     "name": "stdout",
     "output_type": "stream",
     "text": [
      "Kirmizi_Pistachio    0.573341\n",
      "Siit_Pistachio       0.426659\n",
      "Name: Class, dtype: float64\n",
      "Kirmizi_Pistachio    0.574419\n",
      "Siit_Pistachio       0.425581\n",
      "Name: Class, dtype: float64\n",
      "\n",
      "\n",
      "\n",
      "Kirmizi_Pistachio    0.573341\n",
      "Siit_Pistachio       0.426659\n",
      "Name: Class, dtype: float64\n",
      "Kirmizi_Pistachio    0.574419\n",
      "Siit_Pistachio       0.425581\n",
      "Name: Class, dtype: float64\n",
      "\n",
      "\n",
      "\n",
      "Kirmizi_Pistachio    0.573923\n",
      "Siit_Pistachio       0.426077\n",
      "Name: Class, dtype: float64\n",
      "Kirmizi_Pistachio    0.572093\n",
      "Siit_Pistachio       0.427907\n",
      "Name: Class, dtype: float64\n",
      "\n",
      "\n",
      "\n",
      "Kirmizi_Pistachio    0.573589\n",
      "Siit_Pistachio       0.426411\n",
      "Name: Class, dtype: float64\n",
      "Kirmizi_Pistachio    0.573427\n",
      "Siit_Pistachio       0.426573\n",
      "Name: Class, dtype: float64\n",
      "\n",
      "\n",
      "\n",
      "Kirmizi_Pistachio    0.573589\n",
      "Siit_Pistachio       0.426411\n",
      "Name: Class, dtype: float64\n",
      "Kirmizi_Pistachio    0.573427\n",
      "Siit_Pistachio       0.426573\n",
      "Name: Class, dtype: float64\n",
      "\n",
      "\n",
      "\n"
     ]
    }
   ],
   "source": [
    "kfold = StratifiedKFold(shuffle=True,\n",
    "                           random_state = 2039)\n",
    "\n",
    "for train_index, test_index in kfold.split(df, df['Class']):\n",
    "    print(df.iloc[train_index].Class.value_counts(normalize=True))\n",
    "    print(df.iloc[test_index].Class.value_counts(normalize=True))\n",
    "    print()\n",
    "    print()\n",
    "    print()"
   ]
  },
  {
   "cell_type": "markdown",
   "id": "5c0f19a5",
   "metadata": {},
   "source": [
    "--------------------------\n",
    "\n",
    "This notebook was written for the Erd&#337;s Institute C&#337;de Data Science Boot Camp by Matthew Osborne, Ph. D., 2023.\n",
    "\n",
    "Any potential redistributors must seek and receive permission from Matthew Tyler Osborne, Ph.D. prior to redistribution. Redistribution of the material contained in this repository is conditional on acknowledgement of Matthew Tyler Osborne, Ph.D.'s original authorship and sponsorship of the Erdős Institute as subject to the license (see License.md)"
   ]
  },
  {
   "cell_type": "code",
   "execution_count": null,
   "id": "5358f18d",
   "metadata": {},
   "outputs": [],
   "source": []
  }
 ],
 "metadata": {
  "kernelspec": {
   "display_name": "Python 3 (ipykernel)",
   "language": "python",
   "name": "python3"
  },
  "language_info": {
   "codemirror_mode": {
    "name": "ipython",
    "version": 3
   },
   "file_extension": ".py",
   "mimetype": "text/x-python",
   "name": "python",
   "nbconvert_exporter": "python",
   "pygments_lexer": "ipython3",
   "version": "3.9.16"
  }
 },
 "nbformat": 4,
 "nbformat_minor": 5
}
