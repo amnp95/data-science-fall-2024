{
 "cells": [
  {
   "cell_type": "markdown",
   "id": "aa53d227",
   "metadata": {},
   "source": [
    "# Prep Notebook 8\n",
    "## Classifying Pumpkin Seeds I\n",
    "\n",
    "This optional notebook has a few exercises that can serve as a primer for what to expect in the `Problem Session 8` notebook."
   ]
  },
  {
   "cell_type": "code",
   "execution_count": 1,
   "id": "53600ad1",
   "metadata": {},
   "outputs": [],
   "source": [
    "import pandas as pd\n",
    "import numpy as np\n",
    "import matplotlib.pyplot as plt\n",
    "import seaborn as sns\n",
    "\n",
    "sns.set_style(\"whitegrid\")"
   ]
  },
  {
   "cell_type": "markdown",
   "id": "8da6327c",
   "metadata": {},
   "source": [
    "#### 1. Reading Excel files\n",
    "\n",
    "##### a.\n",
    "\n",
    "In the `data` folder is a file called `Pistachio_16_Features_Dataset.xlsx`. Do a web search to see how you can read in such a file using `pandas`. Store the `DataFrame` in a variable."
   ]
  },
  {
   "cell_type": "markdown",
   "id": "706ef047",
   "metadata": {},
   "source": [
    "##### Sample Solution"
   ]
  },
  {
   "cell_type": "code",
   "execution_count": 2,
   "id": "56c0657b",
   "metadata": {},
   "outputs": [],
   "source": [
    "df = pd.read_excel(\"../../data/Pistachio_16_Features_Dataset.xlsx\")"
   ]
  },
  {
   "cell_type": "markdown",
   "id": "b64fa6b8",
   "metadata": {},
   "source": [
    "##### b.\n",
    "\n",
    "Look at a random sample of size $10$ from this data set."
   ]
  },
  {
   "cell_type": "markdown",
   "id": "542ee01c",
   "metadata": {},
   "source": [
    "##### Sample Solution"
   ]
  },
  {
   "cell_type": "code",
   "execution_count": 3,
   "id": "a8fb2504",
   "metadata": {},
   "outputs": [
    {
     "data": {
      "text/html": [
       "<div>\n",
       "<style scoped>\n",
       "    .dataframe tbody tr th:only-of-type {\n",
       "        vertical-align: middle;\n",
       "    }\n",
       "\n",
       "    .dataframe tbody tr th {\n",
       "        vertical-align: top;\n",
       "    }\n",
       "\n",
       "    .dataframe thead th {\n",
       "        text-align: right;\n",
       "    }\n",
       "</style>\n",
       "<table border=\"1\" class=\"dataframe\">\n",
       "  <thead>\n",
       "    <tr style=\"text-align: right;\">\n",
       "      <th></th>\n",
       "      <th>AREA</th>\n",
       "      <th>PERIMETER</th>\n",
       "      <th>MAJOR_AXIS</th>\n",
       "      <th>MINOR_AXIS</th>\n",
       "      <th>ECCENTRICITY</th>\n",
       "      <th>EQDIASQ</th>\n",
       "      <th>SOLIDITY</th>\n",
       "      <th>CONVEX_AREA</th>\n",
       "      <th>EXTENT</th>\n",
       "      <th>ASPECT_RATIO</th>\n",
       "      <th>ROUNDNESS</th>\n",
       "      <th>COMPACTNESS</th>\n",
       "      <th>SHAPEFACTOR_1</th>\n",
       "      <th>SHAPEFACTOR_2</th>\n",
       "      <th>SHAPEFACTOR_3</th>\n",
       "      <th>SHAPEFACTOR_4</th>\n",
       "      <th>Class</th>\n",
       "    </tr>\n",
       "  </thead>\n",
       "  <tbody>\n",
       "    <tr>\n",
       "      <th>1218</th>\n",
       "      <td>72798</td>\n",
       "      <td>1259.9100</td>\n",
       "      <td>473.3427</td>\n",
       "      <td>212.1377</td>\n",
       "      <td>0.8939</td>\n",
       "      <td>304.4492</td>\n",
       "      <td>0.9050</td>\n",
       "      <td>80437</td>\n",
       "      <td>0.6253</td>\n",
       "      <td>2.2313</td>\n",
       "      <td>0.5763</td>\n",
       "      <td>0.6432</td>\n",
       "      <td>0.0065</td>\n",
       "      <td>0.0029</td>\n",
       "      <td>0.4137</td>\n",
       "      <td>0.9231</td>\n",
       "      <td>Kirmizi_Pistachio</td>\n",
       "    </tr>\n",
       "    <tr>\n",
       "      <th>932</th>\n",
       "      <td>76757</td>\n",
       "      <td>1188.4100</td>\n",
       "      <td>464.0137</td>\n",
       "      <td>214.0684</td>\n",
       "      <td>0.8872</td>\n",
       "      <td>312.6180</td>\n",
       "      <td>0.9786</td>\n",
       "      <td>78433</td>\n",
       "      <td>0.7225</td>\n",
       "      <td>2.1676</td>\n",
       "      <td>0.6830</td>\n",
       "      <td>0.6737</td>\n",
       "      <td>0.0060</td>\n",
       "      <td>0.0028</td>\n",
       "      <td>0.4539</td>\n",
       "      <td>0.9839</td>\n",
       "      <td>Kirmizi_Pistachio</td>\n",
       "    </tr>\n",
       "    <tr>\n",
       "      <th>998</th>\n",
       "      <td>61033</td>\n",
       "      <td>1049.7450</td>\n",
       "      <td>408.9828</td>\n",
       "      <td>192.2840</td>\n",
       "      <td>0.8826</td>\n",
       "      <td>278.7645</td>\n",
       "      <td>0.9761</td>\n",
       "      <td>62530</td>\n",
       "      <td>0.7387</td>\n",
       "      <td>2.1270</td>\n",
       "      <td>0.6960</td>\n",
       "      <td>0.6816</td>\n",
       "      <td>0.0067</td>\n",
       "      <td>0.0032</td>\n",
       "      <td>0.4646</td>\n",
       "      <td>0.9882</td>\n",
       "      <td>Kirmizi_Pistachio</td>\n",
       "    </tr>\n",
       "    <tr>\n",
       "      <th>691</th>\n",
       "      <td>76838</td>\n",
       "      <td>1538.6510</td>\n",
       "      <td>469.6896</td>\n",
       "      <td>218.7239</td>\n",
       "      <td>0.8850</td>\n",
       "      <td>312.7830</td>\n",
       "      <td>0.8845</td>\n",
       "      <td>86875</td>\n",
       "      <td>0.6704</td>\n",
       "      <td>2.1474</td>\n",
       "      <td>0.4079</td>\n",
       "      <td>0.6659</td>\n",
       "      <td>0.0061</td>\n",
       "      <td>0.0028</td>\n",
       "      <td>0.4435</td>\n",
       "      <td>0.9523</td>\n",
       "      <td>Kirmizi_Pistachio</td>\n",
       "    </tr>\n",
       "    <tr>\n",
       "      <th>502</th>\n",
       "      <td>77146</td>\n",
       "      <td>1344.2531</td>\n",
       "      <td>438.5641</td>\n",
       "      <td>230.0513</td>\n",
       "      <td>0.8514</td>\n",
       "      <td>313.4092</td>\n",
       "      <td>0.9329</td>\n",
       "      <td>82697</td>\n",
       "      <td>0.6922</td>\n",
       "      <td>1.9064</td>\n",
       "      <td>0.5365</td>\n",
       "      <td>0.7146</td>\n",
       "      <td>0.0057</td>\n",
       "      <td>0.0030</td>\n",
       "      <td>0.5107</td>\n",
       "      <td>0.9736</td>\n",
       "      <td>Kirmizi_Pistachio</td>\n",
       "    </tr>\n",
       "    <tr>\n",
       "      <th>785</th>\n",
       "      <td>72606</td>\n",
       "      <td>1188.3080</td>\n",
       "      <td>435.6870</td>\n",
       "      <td>221.7968</td>\n",
       "      <td>0.8607</td>\n",
       "      <td>304.0474</td>\n",
       "      <td>0.9408</td>\n",
       "      <td>77177</td>\n",
       "      <td>0.7006</td>\n",
       "      <td>1.9644</td>\n",
       "      <td>0.6461</td>\n",
       "      <td>0.6979</td>\n",
       "      <td>0.0060</td>\n",
       "      <td>0.0031</td>\n",
       "      <td>0.4870</td>\n",
       "      <td>0.9566</td>\n",
       "      <td>Kirmizi_Pistachio</td>\n",
       "    </tr>\n",
       "    <tr>\n",
       "      <th>445</th>\n",
       "      <td>94982</td>\n",
       "      <td>1258.7250</td>\n",
       "      <td>505.5064</td>\n",
       "      <td>242.9167</td>\n",
       "      <td>0.8770</td>\n",
       "      <td>347.7569</td>\n",
       "      <td>0.9766</td>\n",
       "      <td>97254</td>\n",
       "      <td>0.7928</td>\n",
       "      <td>2.0810</td>\n",
       "      <td>0.7533</td>\n",
       "      <td>0.6879</td>\n",
       "      <td>0.0053</td>\n",
       "      <td>0.0026</td>\n",
       "      <td>0.4733</td>\n",
       "      <td>0.9848</td>\n",
       "      <td>Kirmizi_Pistachio</td>\n",
       "    </tr>\n",
       "    <tr>\n",
       "      <th>1131</th>\n",
       "      <td>75322</td>\n",
       "      <td>1100.2540</td>\n",
       "      <td>429.3439</td>\n",
       "      <td>227.7799</td>\n",
       "      <td>0.8477</td>\n",
       "      <td>309.6820</td>\n",
       "      <td>0.9727</td>\n",
       "      <td>77438</td>\n",
       "      <td>0.7473</td>\n",
       "      <td>1.8849</td>\n",
       "      <td>0.7819</td>\n",
       "      <td>0.7213</td>\n",
       "      <td>0.0057</td>\n",
       "      <td>0.0030</td>\n",
       "      <td>0.5203</td>\n",
       "      <td>0.9806</td>\n",
       "      <td>Kirmizi_Pistachio</td>\n",
       "    </tr>\n",
       "    <tr>\n",
       "      <th>1772</th>\n",
       "      <td>78909</td>\n",
       "      <td>1221.2841</td>\n",
       "      <td>410.9996</td>\n",
       "      <td>245.8492</td>\n",
       "      <td>0.8014</td>\n",
       "      <td>316.9701</td>\n",
       "      <td>0.9758</td>\n",
       "      <td>80865</td>\n",
       "      <td>0.7584</td>\n",
       "      <td>1.6718</td>\n",
       "      <td>0.6648</td>\n",
       "      <td>0.7712</td>\n",
       "      <td>0.0052</td>\n",
       "      <td>0.0031</td>\n",
       "      <td>0.5948</td>\n",
       "      <td>0.9943</td>\n",
       "      <td>Siit_Pistachio</td>\n",
       "    </tr>\n",
       "    <tr>\n",
       "      <th>1637</th>\n",
       "      <td>85127</td>\n",
       "      <td>1149.2410</td>\n",
       "      <td>461.8566</td>\n",
       "      <td>236.2581</td>\n",
       "      <td>0.8593</td>\n",
       "      <td>329.2219</td>\n",
       "      <td>0.9928</td>\n",
       "      <td>85743</td>\n",
       "      <td>0.7726</td>\n",
       "      <td>1.9549</td>\n",
       "      <td>0.8099</td>\n",
       "      <td>0.7128</td>\n",
       "      <td>0.0054</td>\n",
       "      <td>0.0028</td>\n",
       "      <td>0.5081</td>\n",
       "      <td>0.9933</td>\n",
       "      <td>Siit_Pistachio</td>\n",
       "    </tr>\n",
       "  </tbody>\n",
       "</table>\n",
       "</div>"
      ],
      "text/plain": [
       "       AREA  PERIMETER  MAJOR_AXIS  MINOR_AXIS  ECCENTRICITY   EQDIASQ  \\\n",
       "1218  72798  1259.9100    473.3427    212.1377        0.8939  304.4492   \n",
       "932   76757  1188.4100    464.0137    214.0684        0.8872  312.6180   \n",
       "998   61033  1049.7450    408.9828    192.2840        0.8826  278.7645   \n",
       "691   76838  1538.6510    469.6896    218.7239        0.8850  312.7830   \n",
       "502   77146  1344.2531    438.5641    230.0513        0.8514  313.4092   \n",
       "785   72606  1188.3080    435.6870    221.7968        0.8607  304.0474   \n",
       "445   94982  1258.7250    505.5064    242.9167        0.8770  347.7569   \n",
       "1131  75322  1100.2540    429.3439    227.7799        0.8477  309.6820   \n",
       "1772  78909  1221.2841    410.9996    245.8492        0.8014  316.9701   \n",
       "1637  85127  1149.2410    461.8566    236.2581        0.8593  329.2219   \n",
       "\n",
       "      SOLIDITY  CONVEX_AREA  EXTENT  ASPECT_RATIO  ROUNDNESS  COMPACTNESS  \\\n",
       "1218    0.9050        80437  0.6253        2.2313     0.5763       0.6432   \n",
       "932     0.9786        78433  0.7225        2.1676     0.6830       0.6737   \n",
       "998     0.9761        62530  0.7387        2.1270     0.6960       0.6816   \n",
       "691     0.8845        86875  0.6704        2.1474     0.4079       0.6659   \n",
       "502     0.9329        82697  0.6922        1.9064     0.5365       0.7146   \n",
       "785     0.9408        77177  0.7006        1.9644     0.6461       0.6979   \n",
       "445     0.9766        97254  0.7928        2.0810     0.7533       0.6879   \n",
       "1131    0.9727        77438  0.7473        1.8849     0.7819       0.7213   \n",
       "1772    0.9758        80865  0.7584        1.6718     0.6648       0.7712   \n",
       "1637    0.9928        85743  0.7726        1.9549     0.8099       0.7128   \n",
       "\n",
       "      SHAPEFACTOR_1  SHAPEFACTOR_2  SHAPEFACTOR_3  SHAPEFACTOR_4  \\\n",
       "1218         0.0065         0.0029         0.4137         0.9231   \n",
       "932          0.0060         0.0028         0.4539         0.9839   \n",
       "998          0.0067         0.0032         0.4646         0.9882   \n",
       "691          0.0061         0.0028         0.4435         0.9523   \n",
       "502          0.0057         0.0030         0.5107         0.9736   \n",
       "785          0.0060         0.0031         0.4870         0.9566   \n",
       "445          0.0053         0.0026         0.4733         0.9848   \n",
       "1131         0.0057         0.0030         0.5203         0.9806   \n",
       "1772         0.0052         0.0031         0.5948         0.9943   \n",
       "1637         0.0054         0.0028         0.5081         0.9933   \n",
       "\n",
       "                  Class  \n",
       "1218  Kirmizi_Pistachio  \n",
       "932   Kirmizi_Pistachio  \n",
       "998   Kirmizi_Pistachio  \n",
       "691   Kirmizi_Pistachio  \n",
       "502   Kirmizi_Pistachio  \n",
       "785   Kirmizi_Pistachio  \n",
       "445   Kirmizi_Pistachio  \n",
       "1131  Kirmizi_Pistachio  \n",
       "1772     Siit_Pistachio  \n",
       "1637     Siit_Pistachio  "
      ]
     },
     "execution_count": 3,
     "metadata": {},
     "output_type": "execute_result"
    }
   ],
   "source": [
    "df.sample(10)"
   ]
  },
  {
   "cell_type": "markdown",
   "id": "2f647966",
   "metadata": {},
   "source": [
    "##### c.\n",
    "\n",
    "Produce a list of column names from this `DataFrame` using only `pandas`."
   ]
  },
  {
   "cell_type": "markdown",
   "id": "5d7c1356",
   "metadata": {},
   "source": [
    "##### Sample Solution"
   ]
  },
  {
   "cell_type": "code",
   "execution_count": 4,
   "id": "9acd5fca",
   "metadata": {},
   "outputs": [
    {
     "data": {
      "text/plain": [
       "Index(['AREA', 'PERIMETER', 'MAJOR_AXIS', 'MINOR_AXIS', 'ECCENTRICITY',\n",
       "       'EQDIASQ', 'SOLIDITY', 'CONVEX_AREA', 'EXTENT', 'ASPECT_RATIO',\n",
       "       'ROUNDNESS', 'COMPACTNESS', 'SHAPEFACTOR_1', 'SHAPEFACTOR_2',\n",
       "       'SHAPEFACTOR_3', 'SHAPEFACTOR_4', 'Class'],\n",
       "      dtype='object')"
      ]
     },
     "execution_count": 4,
     "metadata": {},
     "output_type": "execute_result"
    }
   ],
   "source": [
    "df.columns"
   ]
  },
  {
   "cell_type": "markdown",
   "id": "f26cde3b",
   "metadata": {},
   "source": [
    "##### d.\n",
    "\n",
    "How many of each `Class` value is present in this `DataFrame`? What percentage of the `DataFrame` does each value represent?"
   ]
  },
  {
   "cell_type": "markdown",
   "id": "296f4f48",
   "metadata": {},
   "source": [
    "##### Sample Solution"
   ]
  },
  {
   "cell_type": "code",
   "execution_count": 5,
   "id": "26a3d8cf",
   "metadata": {},
   "outputs": [
    {
     "data": {
      "text/plain": [
       "Class\n",
       "Kirmizi_Pistachio    1232\n",
       "Siit_Pistachio        916\n",
       "Name: count, dtype: int64"
      ]
     },
     "execution_count": 5,
     "metadata": {},
     "output_type": "execute_result"
    }
   ],
   "source": [
    "df.Class.value_counts()"
   ]
  },
  {
   "cell_type": "code",
   "execution_count": 6,
   "id": "5ad97de7",
   "metadata": {},
   "outputs": [
    {
     "data": {
      "text/plain": [
       "Class\n",
       "Kirmizi_Pistachio    0.573557\n",
       "Siit_Pistachio       0.426443\n",
       "Name: proportion, dtype: float64"
      ]
     },
     "execution_count": 6,
     "metadata": {},
     "output_type": "execute_result"
    }
   ],
   "source": [
    "df.Class.value_counts(normalize=True)"
   ]
  },
  {
   "cell_type": "markdown",
   "id": "9bd41f7a",
   "metadata": {},
   "source": [
    "#### 2. Train test splits for classification\n",
    "\n",
    "##### a.\n",
    "\n",
    "Write a `for` loop to print out a train test split of the following data `test` 20 times. Set a test set size of $20\\%$, do not set a random seed."
   ]
  },
  {
   "cell_type": "code",
   "execution_count": 7,
   "id": "8aaf324e",
   "metadata": {},
   "outputs": [],
   "source": [
    "test = [0,0,0,0,0,0,0,0,0,0,\n",
    "           1,1,0,0,0,0,0,1,1,1]"
   ]
  },
  {
   "cell_type": "markdown",
   "id": "84a797ec",
   "metadata": {},
   "source": [
    "##### Sample Solution"
   ]
  },
  {
   "cell_type": "code",
   "execution_count": 8,
   "id": "a2512eb0",
   "metadata": {},
   "outputs": [],
   "source": [
    "from sklearn.model_selection import train_test_split"
   ]
  },
  {
   "cell_type": "code",
   "execution_count": 9,
   "id": "d9627d2c",
   "metadata": {},
   "outputs": [
    {
     "name": "stdout",
     "output_type": "stream",
     "text": [
      "[[0, 1, 0, 0, 0, 1, 0, 1, 0, 0, 0, 0, 1, 0, 0, 1], [0, 0, 0, 0]]\n",
      "[[0, 1, 0, 0, 0, 1, 0, 0, 0, 0, 0, 1, 0, 0, 0, 0], [1, 1, 0, 0]]\n",
      "[[1, 1, 0, 1, 1, 0, 0, 0, 0, 0, 0, 0, 0, 0, 0, 0], [1, 0, 0, 0]]\n",
      "[[0, 0, 0, 0, 0, 0, 0, 1, 0, 1, 0, 0, 0, 0, 0, 1], [0, 0, 1, 1]]\n",
      "[[1, 0, 0, 0, 0, 0, 0, 0, 0, 1, 0, 0, 1, 1, 0, 0], [0, 0, 1, 0]]\n",
      "[[0, 0, 0, 0, 0, 0, 0, 1, 0, 0, 0, 0, 1, 0, 1, 1], [0, 0, 1, 0]]\n",
      "[[0, 0, 0, 1, 0, 1, 0, 0, 0, 0, 0, 0, 1, 0, 1, 0], [0, 0, 1, 0]]\n",
      "[[0, 0, 0, 1, 1, 0, 0, 0, 0, 1, 1, 0, 0, 0, 0, 0], [0, 1, 0, 0]]\n",
      "[[0, 0, 1, 0, 1, 0, 0, 0, 0, 0, 0, 1, 1, 0, 0, 0], [0, 1, 0, 0]]\n",
      "[[0, 0, 0, 0, 0, 0, 0, 0, 1, 0, 0, 0, 0, 1, 1, 0], [1, 0, 1, 0]]\n",
      "[[1, 0, 0, 0, 0, 0, 0, 0, 0, 0, 0, 0, 1, 1, 0, 0], [0, 1, 1, 0]]\n",
      "[[1, 0, 0, 0, 0, 0, 1, 1, 0, 0, 0, 0, 1, 0, 0, 1], [0, 0, 0, 0]]\n",
      "[[1, 0, 0, 0, 0, 0, 1, 1, 0, 1, 0, 0, 1, 0, 0, 0], [0, 0, 0, 0]]\n",
      "[[0, 0, 0, 0, 0, 1, 0, 0, 1, 0, 0, 0, 1, 0, 1, 0], [0, 0, 1, 0]]\n",
      "[[0, 0, 0, 0, 0, 0, 0, 0, 0, 0, 1, 1, 0, 0, 1, 0], [1, 1, 0, 0]]\n",
      "[[0, 0, 0, 0, 0, 0, 0, 1, 0, 0, 0, 1, 0, 0, 0, 0], [1, 1, 1, 0]]\n",
      "[[0, 0, 0, 0, 0, 1, 0, 1, 0, 0, 0, 0, 1, 0, 1, 0], [0, 0, 0, 1]]\n",
      "[[0, 1, 1, 0, 0, 0, 0, 0, 0, 0, 1, 0, 0, 1, 0, 0], [0, 0, 1, 0]]\n",
      "[[0, 0, 0, 0, 0, 0, 0, 1, 0, 1, 0, 0, 1, 0, 0, 0], [0, 1, 1, 0]]\n",
      "[[0, 0, 0, 1, 1, 0, 0, 0, 0, 0, 0, 0, 0, 0, 0, 1], [0, 1, 0, 1]]\n"
     ]
    }
   ],
   "source": [
    "for i in range(20):\n",
    "    print(train_test_split(test,\n",
    "                              test_size=.2,\n",
    "                              shuffle=True))"
   ]
  },
  {
   "cell_type": "markdown",
   "id": "9fa05fd6",
   "metadata": {},
   "source": [
    "##### b.\n",
    "\n",
    "Did it ever happen that your test set had no `1`s in it?"
   ]
  },
  {
   "cell_type": "markdown",
   "id": "76b8c982",
   "metadata": {},
   "source": [
    "##### Sample Solution"
   ]
  },
  {
   "cell_type": "markdown",
   "id": "2ded7e7b",
   "metadata": {},
   "source": [
    "yes"
   ]
  },
  {
   "cell_type": "markdown",
   "id": "2f2e70a4",
   "metadata": {},
   "source": [
    "##### c.\n",
    "\n",
    "Rerun the loop you ran above, only this time include the argument, `stratify=test`. Are there ever splits where the test set has no `1`s in it this time?"
   ]
  },
  {
   "cell_type": "markdown",
   "id": "a450a4f3",
   "metadata": {},
   "source": [
    "##### Sample Solution"
   ]
  },
  {
   "cell_type": "code",
   "execution_count": 10,
   "id": "2b22566e",
   "metadata": {},
   "outputs": [
    {
     "name": "stdout",
     "output_type": "stream",
     "text": [
      "[[0, 1, 1, 0, 0, 0, 0, 0, 0, 0, 0, 1, 0, 1, 0, 0], [0, 0, 0, 1]]\n",
      "[[0, 0, 1, 0, 0, 0, 1, 0, 1, 0, 0, 0, 0, 1, 0, 0], [0, 0, 1, 0]]\n",
      "[[0, 0, 0, 0, 0, 1, 0, 0, 1, 1, 0, 0, 0, 1, 0, 0], [0, 1, 0, 0]]\n",
      "[[1, 0, 0, 0, 0, 0, 0, 1, 0, 0, 0, 0, 1, 0, 0, 1], [0, 0, 1, 0]]\n",
      "[[0, 1, 1, 0, 1, 0, 0, 0, 0, 0, 0, 0, 0, 0, 1, 0], [0, 1, 0, 0]]\n",
      "[[0, 1, 0, 0, 1, 1, 0, 0, 1, 0, 0, 0, 0, 0, 0, 0], [0, 0, 1, 0]]\n",
      "[[1, 0, 1, 0, 0, 1, 0, 0, 0, 0, 0, 0, 0, 0, 0, 1], [0, 0, 1, 0]]\n",
      "[[0, 0, 1, 1, 0, 0, 0, 0, 0, 0, 0, 0, 0, 1, 1, 0], [0, 0, 1, 0]]\n",
      "[[0, 0, 0, 0, 1, 0, 0, 0, 0, 0, 1, 0, 1, 0, 0, 1], [1, 0, 0, 0]]\n",
      "[[0, 0, 0, 1, 0, 0, 0, 1, 0, 0, 1, 0, 1, 0, 0, 0], [0, 1, 0, 0]]\n",
      "[[0, 1, 0, 0, 0, 1, 0, 1, 0, 0, 0, 0, 0, 1, 0, 0], [1, 0, 0, 0]]\n",
      "[[0, 0, 0, 1, 0, 0, 0, 0, 0, 1, 1, 1, 0, 0, 0, 0], [0, 1, 0, 0]]\n",
      "[[0, 1, 0, 1, 0, 0, 1, 0, 0, 0, 0, 0, 0, 1, 0, 0], [1, 0, 0, 0]]\n",
      "[[1, 0, 1, 1, 0, 0, 1, 0, 0, 0, 0, 0, 0, 0, 0, 0], [0, 0, 0, 1]]\n",
      "[[0, 0, 1, 0, 0, 0, 0, 1, 1, 0, 0, 0, 1, 0, 0, 0], [0, 1, 0, 0]]\n",
      "[[1, 1, 0, 0, 1, 0, 0, 0, 0, 0, 0, 0, 0, 0, 0, 1], [0, 0, 1, 0]]\n",
      "[[0, 0, 0, 0, 1, 0, 1, 0, 0, 0, 0, 1, 0, 1, 0, 0], [0, 0, 0, 1]]\n",
      "[[1, 0, 0, 1, 1, 0, 0, 0, 0, 0, 0, 0, 1, 0, 0, 0], [1, 0, 0, 0]]\n",
      "[[0, 0, 0, 1, 0, 1, 0, 0, 0, 1, 0, 0, 1, 0, 0, 0], [0, 0, 0, 1]]\n",
      "[[0, 1, 0, 0, 0, 0, 0, 0, 1, 0, 0, 0, 0, 1, 1, 0], [0, 0, 0, 1]]\n"
     ]
    }
   ],
   "source": [
    "for i in range(20):\n",
    "    print(train_test_split(test,\n",
    "                              test_size=.2,\n",
    "                              shuffle=True,\n",
    "                              stratify=test))"
   ]
  },
  {
   "cell_type": "markdown",
   "id": "73310240",
   "metadata": {},
   "source": [
    "##### d.\n",
    "\n",
    "Read the documentation for `StratifiedKFold` to see how it is different from regular `KFold`. Run the pistachio data set through a stratified k-fold using the `Class` column as the stratification column.\n",
    "\n",
    "- <a href=\"https://scikit-learn.org/stable/modules/generated/sklearn.model_selection.StratifiedKFold.html\">https://scikit-learn.org/stable/modules/generated/sklearn.model_selection.StratifiedKFold.html</a>\n",
    "- <a href=\"https://scikit-learn.org/stable/modules/generated/sklearn.model_selection.KFold.html\">https://scikit-learn.org/stable/modules/generated/sklearn.model_selection.KFold.html</a>\n",
    "\n"
   ]
  },
  {
   "cell_type": "markdown",
   "id": "d1c56ef4",
   "metadata": {},
   "source": [
    "##### Sample Solution"
   ]
  },
  {
   "cell_type": "code",
   "execution_count": 11,
   "id": "5c2ad113",
   "metadata": {},
   "outputs": [],
   "source": [
    "from sklearn.model_selection import StratifiedKFold"
   ]
  },
  {
   "cell_type": "code",
   "execution_count": 12,
   "id": "481bf6dd",
   "metadata": {},
   "outputs": [
    {
     "name": "stdout",
     "output_type": "stream",
     "text": [
      "Class\n",
      "Kirmizi_Pistachio    0.573341\n",
      "Siit_Pistachio       0.426659\n",
      "Name: proportion, dtype: float64\n",
      "Class\n",
      "Kirmizi_Pistachio    0.574419\n",
      "Siit_Pistachio       0.425581\n",
      "Name: proportion, dtype: float64\n",
      "\n",
      "\n",
      "\n",
      "Class\n",
      "Kirmizi_Pistachio    0.573341\n",
      "Siit_Pistachio       0.426659\n",
      "Name: proportion, dtype: float64\n",
      "Class\n",
      "Kirmizi_Pistachio    0.574419\n",
      "Siit_Pistachio       0.425581\n",
      "Name: proportion, dtype: float64\n",
      "\n",
      "\n",
      "\n",
      "Class\n",
      "Kirmizi_Pistachio    0.573923\n",
      "Siit_Pistachio       0.426077\n",
      "Name: proportion, dtype: float64\n",
      "Class\n",
      "Kirmizi_Pistachio    0.572093\n",
      "Siit_Pistachio       0.427907\n",
      "Name: proportion, dtype: float64\n",
      "\n",
      "\n",
      "\n",
      "Class\n",
      "Kirmizi_Pistachio    0.573589\n",
      "Siit_Pistachio       0.426411\n",
      "Name: proportion, dtype: float64\n",
      "Class\n",
      "Kirmizi_Pistachio    0.573427\n",
      "Siit_Pistachio       0.426573\n",
      "Name: proportion, dtype: float64\n",
      "\n",
      "\n",
      "\n",
      "Class\n",
      "Kirmizi_Pistachio    0.573589\n",
      "Siit_Pistachio       0.426411\n",
      "Name: proportion, dtype: float64\n",
      "Class\n",
      "Kirmizi_Pistachio    0.573427\n",
      "Siit_Pistachio       0.426573\n",
      "Name: proportion, dtype: float64\n",
      "\n",
      "\n",
      "\n"
     ]
    }
   ],
   "source": [
    "kfold = StratifiedKFold(shuffle=True,\n",
    "                           random_state = 2039)\n",
    "\n",
    "for train_index, test_index in kfold.split(df, df['Class']):\n",
    "    print(df.iloc[train_index].Class.value_counts(normalize=True))\n",
    "    print(df.iloc[test_index].Class.value_counts(normalize=True))\n",
    "    print()\n",
    "    print()\n",
    "    print()"
   ]
  },
  {
   "cell_type": "markdown",
   "id": "5c0f19a5",
   "metadata": {},
   "source": [
    "--------------------------\n",
    "\n",
    "This notebook was written for the Erd&#337;s Institute C&#337;de Data Science Boot Camp by Matthew Osborne, Ph. D., 2023.\n",
    "\n",
    "Any potential redistributors must seek and receive permission from Matthew Tyler Osborne, Ph.D. prior to redistribution. Redistribution of the material contained in this repository is conditional on acknowledgement of Matthew Tyler Osborne, Ph.D.'s original authorship and sponsorship of the Erdős Institute as subject to the license (see License.md)"
   ]
  }
 ],
 "metadata": {
  "kernelspec": {
   "display_name": "Python 3 (ipykernel)",
   "language": "python",
   "name": "python3"
  },
  "language_info": {
   "codemirror_mode": {
    "name": "ipython",
    "version": 3
   },
   "file_extension": ".py",
   "mimetype": "text/x-python",
   "name": "python",
   "nbconvert_exporter": "python",
   "pygments_lexer": "ipython3",
   "version": "3.11.5"
  }
 },
 "nbformat": 4,
 "nbformat_minor": 5
}
