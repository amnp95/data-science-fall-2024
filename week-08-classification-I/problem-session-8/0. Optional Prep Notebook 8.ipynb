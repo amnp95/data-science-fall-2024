{
 "cells": [
  {
   "cell_type": "markdown",
   "id": "aa53d227",
   "metadata": {},
   "source": [
    "# Prep Notebook 8\n",
    "## Classifying Pumpkin Seeds I\n",
    "\n",
    "This optional notebook has a few exercises that can serve as a primer for what to expect in the `Problem Session 8` notebook."
   ]
  },
  {
   "cell_type": "code",
   "execution_count": null,
   "id": "53600ad1",
   "metadata": {},
   "outputs": [],
   "source": [
    "import pandas as pd\n",
    "import numpy as np\n",
    "import matplotlib.pyplot as plt\n",
    "import seaborn as sns\n",
    "\n",
    "sns.set_style(\"whitegrid\")"
   ]
  },
  {
   "cell_type": "markdown",
   "id": "8da6327c",
   "metadata": {},
   "source": [
    "#### 1. Reading Excel files\n",
    "\n",
    "##### a.\n",
    "\n",
    "In the `data` folder is a file called `Pistachio_16_Features_Dataset.xlsx`. Do a web search to see how you can read in such a file using `pandas`. Store the `DataFrame` in a variable."
   ]
  },
  {
   "cell_type": "code",
   "execution_count": null,
   "id": "f5641644",
   "metadata": {},
   "outputs": [],
   "source": [
    "## code here\n"
   ]
  },
  {
   "cell_type": "code",
   "execution_count": null,
   "id": "ca21fb53",
   "metadata": {},
   "outputs": [],
   "source": [
    "## code here\n"
   ]
  },
  {
   "cell_type": "markdown",
   "id": "b64fa6b8",
   "metadata": {},
   "source": [
    "##### b.\n",
    "\n",
    "Look at a random sample of size $10$ from this data set."
   ]
  },
  {
   "cell_type": "code",
   "execution_count": null,
   "id": "f5ae67ad",
   "metadata": {},
   "outputs": [],
   "source": [
    "## code here\n"
   ]
  },
  {
   "cell_type": "code",
   "execution_count": null,
   "id": "29435f63",
   "metadata": {},
   "outputs": [],
   "source": [
    "## code here\n"
   ]
  },
  {
   "cell_type": "markdown",
   "id": "2f647966",
   "metadata": {},
   "source": [
    "##### c.\n",
    "\n",
    "Produce a list of column names from this `DataFrame` using only `pandas`."
   ]
  },
  {
   "cell_type": "code",
   "execution_count": null,
   "id": "a5337b25",
   "metadata": {},
   "outputs": [],
   "source": [
    "## code here\n"
   ]
  },
  {
   "cell_type": "code",
   "execution_count": null,
   "id": "cfcee402",
   "metadata": {},
   "outputs": [],
   "source": [
    "## code here\n"
   ]
  },
  {
   "cell_type": "markdown",
   "id": "f26cde3b",
   "metadata": {},
   "source": [
    "##### d.\n",
    "\n",
    "How many of each `Class` value is present in this `DataFrame`? What percentage of the `DataFrame` does each value represent?"
   ]
  },
  {
   "cell_type": "code",
   "execution_count": null,
   "id": "a455397a",
   "metadata": {},
   "outputs": [],
   "source": [
    "## code here\n"
   ]
  },
  {
   "cell_type": "code",
   "execution_count": null,
   "id": "9c4d5f0c",
   "metadata": {},
   "outputs": [],
   "source": [
    "## code here\n"
   ]
  },
  {
   "cell_type": "code",
   "execution_count": null,
   "id": "e1c32e23",
   "metadata": {},
   "outputs": [],
   "source": [
    "## code here\n"
   ]
  },
  {
   "cell_type": "markdown",
   "id": "9bd41f7a",
   "metadata": {},
   "source": [
    "#### 2. Train test splits for classification\n",
    "\n",
    "##### a.\n",
    "\n",
    "Write a `for` loop to print out a train test split of the following data `test` 20 times. Set a test set size of $20\\%$, do not set a random seed."
   ]
  },
  {
   "cell_type": "code",
   "execution_count": null,
   "id": "8aaf324e",
   "metadata": {},
   "outputs": [],
   "source": [
    "test = [0,0,0,0,0,0,0,0,0,0,\n",
    "           1,1,0,0,0,0,0,1,1,1]"
   ]
  },
  {
   "cell_type": "code",
   "execution_count": null,
   "id": "7241a5ea",
   "metadata": {},
   "outputs": [],
   "source": [
    "## code here\n"
   ]
  },
  {
   "cell_type": "code",
   "execution_count": null,
   "id": "d69f9e7d",
   "metadata": {},
   "outputs": [],
   "source": [
    "## code here\n"
   ]
  },
  {
   "cell_type": "code",
   "execution_count": null,
   "id": "de46bfe7",
   "metadata": {},
   "outputs": [],
   "source": [
    "## code here\n"
   ]
  },
  {
   "cell_type": "markdown",
   "id": "9fa05fd6",
   "metadata": {},
   "source": [
    "##### b.\n",
    "\n",
    "Did it ever happen that your test set had no `1`s in it?"
   ]
  },
  {
   "cell_type": "markdown",
   "id": "688509ea",
   "metadata": {},
   "source": [
    "##### Write here"
   ]
  },
  {
   "cell_type": "markdown",
   "id": "2f2e70a4",
   "metadata": {},
   "source": [
    "##### c.\n",
    "\n",
    "Rerun the loop you ran above, only this time include the argument, `stratify=test`. Are there ever splits where the test set has no `1`s in it this time?"
   ]
  },
  {
   "cell_type": "code",
   "execution_count": null,
   "id": "f35acb1d",
   "metadata": {},
   "outputs": [],
   "source": [
    "## code here\n"
   ]
  },
  {
   "cell_type": "code",
   "execution_count": null,
   "id": "eb9d79b4",
   "metadata": {},
   "outputs": [],
   "source": [
    "## code here\n"
   ]
  },
  {
   "cell_type": "code",
   "execution_count": null,
   "id": "b1885a9c",
   "metadata": {},
   "outputs": [],
   "source": [
    "## code here\n"
   ]
  },
  {
   "cell_type": "markdown",
   "id": "73310240",
   "metadata": {},
   "source": [
    "##### d.\n",
    "\n",
    "Read the documentation for `StratifiedKFold` to see how it is different from regular `KFold`. Run the pistachio data set through a stratified k-fold using the `Class` column as the stratification column.\n",
    "\n",
    "- <a href=\"https://scikit-learn.org/stable/modules/generated/sklearn.model_selection.StratifiedKFold.html\">https://scikit-learn.org/stable/modules/generated/sklearn.model_selection.StratifiedKFold.html</a>\n",
    "- <a href=\"https://scikit-learn.org/stable/modules/generated/sklearn.model_selection.KFold.html\">https://scikit-learn.org/stable/modules/generated/sklearn.model_selection.KFold.html</a>\n",
    "\n"
   ]
  },
  {
   "cell_type": "code",
   "execution_count": null,
   "id": "3c818d69",
   "metadata": {},
   "outputs": [],
   "source": [
    "## code here\n"
   ]
  },
  {
   "cell_type": "code",
   "execution_count": null,
   "id": "c5603a8f",
   "metadata": {},
   "outputs": [],
   "source": [
    "## code here\n"
   ]
  },
  {
   "cell_type": "code",
   "execution_count": null,
   "id": "62fcaa71",
   "metadata": {},
   "outputs": [],
   "source": [
    "## code here\n"
   ]
  },
  {
   "cell_type": "markdown",
   "id": "5c0f19a5",
   "metadata": {},
   "source": [
    "--------------------------\n",
    "\n",
    "This notebook was written for the Erd&#337;s Institute C&#337;de Data Science Boot Camp by Matthew Osborne, Ph. D., 2023.\n",
    "\n",
    "Any potential redistributors must seek and receive permission from Matthew Tyler Osborne, Ph.D. prior to redistribution. Redistribution of the material contained in this repository is conditional on acknowledgement of Matthew Tyler Osborne, Ph.D.'s original authorship and sponsorship of the Erdős Institute as subject to the license (see License.md)"
   ]
  },
  {
   "cell_type": "code",
   "execution_count": null,
   "id": "5358f18d",
   "metadata": {},
   "outputs": [],
   "source": []
  }
 ],
 "metadata": {
  "kernelspec": {
   "display_name": "Python 3 (ipykernel)",
   "language": "python",
   "name": "python3"
  },
  "language_info": {
   "codemirror_mode": {
    "name": "ipython",
    "version": 3
   },
   "file_extension": ".py",
   "mimetype": "text/x-python",
   "name": "python",
   "nbconvert_exporter": "python",
   "pygments_lexer": "ipython3",
   "version": "3.9.16"
  }
 },
 "nbformat": 4,
 "nbformat_minor": 5
}
