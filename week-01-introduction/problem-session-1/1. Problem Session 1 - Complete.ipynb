{
 "cells": [
  {
   "cell_type": "markdown",
   "id": "be3be057",
   "metadata": {},
   "source": [
    "# Problem Session 1\n",
    "\n",
    "This notebook will be your first problem solving session notebook. In the first problem solving session we will check that your computer is set up with python and you are able to access `jupyter notebook`s. Once that is done for your group you should work through the problems below. These problems touch on basic:\n",
    "- Python,\n",
    "- Coding,\n",
    "- `numpy`,\n",
    "- `pandas`, and\n",
    "- `matplotlib`.\n",
    "\n",
    "If your group runs into trouble, try to find a TA to assist you or answer your question(s).\n",
    "\n",
    "Have fun!"
   ]
  },
  {
   "cell_type": "markdown",
   "id": "7ee9b08b",
   "metadata": {},
   "source": [
    "##### 1. a) \n",
    "\n",
    "Import `pandas`, `numpy` and `matplotlib`. Then using `.__version__` check the version each member of your group has, see if everyone has the same version or if people have different versions."
   ]
  },
  {
   "cell_type": "code",
   "execution_count": 1,
   "id": "4692eff5",
   "metadata": {},
   "outputs": [],
   "source": [
    "## Sample Solution\n",
    "import pandas as pd\n",
    "import numpy as np\n",
    "import matplotlib"
   ]
  },
  {
   "cell_type": "code",
   "execution_count": 2,
   "id": "9ffe3d51",
   "metadata": {},
   "outputs": [
    {
     "name": "stdout",
     "output_type": "stream",
     "text": [
      "pandas 1.5.3\n",
      "numpy 1.23.5\n",
      "matplotlib 3.6.3\n"
     ]
    }
   ],
   "source": [
    "## Sample Solution\n",
    "print(\"pandas\", pd.__version__)\n",
    "print(\"numpy\", np.__version__)\n",
    "print(\"matplotlib\", matplotlib.__version__)"
   ]
  },
  {
   "cell_type": "markdown",
   "id": "ad114c18",
   "metadata": {},
   "source": [
    "##### 1. b)\n",
    "\n",
    "Suppose two members of your group try and run the exact same chunk of python code. Could you think of a python package-related reason why that code might work for one group member but not the other?"
   ]
  },
  {
   "cell_type": "markdown",
   "id": "859e5e84",
   "metadata": {},
   "source": [
    "##### Sample Solution\n",
    "\n",
    "If they had different versions of a python package this could explain why the code works for one person but not the other."
   ]
  },
  {
   "cell_type": "markdown",
   "id": "efb521af",
   "metadata": {},
   "source": [
    "##### 2. Is divisble by\n",
    "\n",
    "In this problem you will work to write a function that checks if a given positive integer is divisible by another given positive integer. Work through the parts below.\n",
    "\n",
    "##### a)\n",
    "\n",
    "We say that one positive integer, $a$, is divisble by another positive integer, $b$, if there is no remainder after dividing $a$ by $b$. Play around with `%` and `//` as python operations to see which one will be most useful for your function."
   ]
  },
  {
   "cell_type": "code",
   "execution_count": 3,
   "id": "1f92c635",
   "metadata": {},
   "outputs": [
    {
     "name": "stdout",
     "output_type": "stream",
     "text": [
      "2\n",
      "2\n"
     ]
    }
   ],
   "source": [
    "## sample solution\n",
    "print(4//2)\n",
    "print(5//2)"
   ]
  },
  {
   "cell_type": "code",
   "execution_count": 4,
   "id": "992de676",
   "metadata": {},
   "outputs": [
    {
     "name": "stdout",
     "output_type": "stream",
     "text": [
      "0\n",
      "1\n"
     ]
    }
   ],
   "source": [
    "## sample solution\n",
    "print(4%2)\n",
    "print(5%2)"
   ]
  },
  {
   "cell_type": "markdown",
   "id": "c030decc",
   "metadata": {},
   "source": [
    "##### b)\n",
    "\n",
    "Write a function that takes in two positive integers and determines if the first is divisible by the second. For the purposes of this question you can assume that the inputs will always be positive integers."
   ]
  },
  {
   "cell_type": "code",
   "execution_count": 5,
   "id": "10e2ac52",
   "metadata": {},
   "outputs": [],
   "source": [
    "## sample solution\n",
    "def is_divisible(a,b):\n",
    "    if a%b == 0:\n",
    "        return True\n",
    "    else:\n",
    "        return False"
   ]
  },
  {
   "cell_type": "code",
   "execution_count": 6,
   "id": "956c9b70",
   "metadata": {},
   "outputs": [
    {
     "name": "stdout",
     "output_type": "stream",
     "text": [
      "True\n",
      "False\n"
     ]
    }
   ],
   "source": [
    "## sample solution\n",
    "print(is_divisible(4,2))\n",
    "print(is_divisible(5,2))"
   ]
  },
  {
   "cell_type": "markdown",
   "id": "2ccd44e0",
   "metadata": {},
   "source": [
    "##### c)\n",
    "\n",
    "How would your function have needed to change if you were not able to assume that the inputs would always be positive integers?"
   ]
  },
  {
   "cell_type": "markdown",
   "id": "1cd2b30d",
   "metadata": {},
   "source": [
    "##### Sample Solution\n",
    "\n",
    "You would need to include checks for positive integers and decide on what would happen if the user does not provide two positive integers."
   ]
  },
  {
   "cell_type": "markdown",
   "id": "a5c450cd",
   "metadata": {},
   "source": [
    "##### 3. Palindrome checker\n",
    "\n",
    "A palindrome is a word or sentence that has the same sequence of letters regardless of whether the text is written correctly or in reverse. For example \"taco cat\" is a palindrome.\n",
    "\n",
    "Work through the following problems to build a palindrome detection function.\n",
    "\n",
    "<i>Note: We will assume that the text we want to check is free of punctuation</i>\n",
    "\n",
    "##### a)\n",
    "\n",
    "In this problem we are only considering string palindromes. Write a function that takes in an argument and checks if it is a string. Test your function using the variables defined in the code chunk below."
   ]
  },
  {
   "cell_type": "code",
   "execution_count": 7,
   "id": "a007c98c",
   "metadata": {},
   "outputs": [],
   "source": [
    "a = 200903\n",
    "b = 'apple'\n",
    "c = [1,2,3,'1','2','3']\n",
    "d = False"
   ]
  },
  {
   "cell_type": "code",
   "execution_count": 8,
   "id": "c1935c54",
   "metadata": {},
   "outputs": [],
   "source": [
    "## Sample Solution\n",
    "def is_string(x):\n",
    "    if type(x) == str:\n",
    "        return True\n",
    "    else:\n",
    "        return False\n"
   ]
  },
  {
   "cell_type": "code",
   "execution_count": 9,
   "id": "6af70180",
   "metadata": {},
   "outputs": [
    {
     "data": {
      "text/plain": [
       "False"
      ]
     },
     "execution_count": 9,
     "metadata": {},
     "output_type": "execute_result"
    }
   ],
   "source": [
    "## Sample Solution\n",
    "is_string(a)"
   ]
  },
  {
   "cell_type": "code",
   "execution_count": 10,
   "id": "3bc2dd34",
   "metadata": {},
   "outputs": [
    {
     "data": {
      "text/plain": [
       "True"
      ]
     },
     "execution_count": 10,
     "metadata": {},
     "output_type": "execute_result"
    }
   ],
   "source": [
    "## Sample Solution\n",
    "is_string(b)"
   ]
  },
  {
   "cell_type": "code",
   "execution_count": 11,
   "id": "00a8e543",
   "metadata": {},
   "outputs": [
    {
     "data": {
      "text/plain": [
       "False"
      ]
     },
     "execution_count": 11,
     "metadata": {},
     "output_type": "execute_result"
    }
   ],
   "source": [
    "## Sample Solution\n",
    "is_string(c)"
   ]
  },
  {
   "cell_type": "code",
   "execution_count": 12,
   "id": "7bdd8955",
   "metadata": {},
   "outputs": [
    {
     "data": {
      "text/plain": [
       "False"
      ]
     },
     "execution_count": 12,
     "metadata": {},
     "output_type": "execute_result"
    }
   ],
   "source": [
    "## Sample Solution\n",
    "is_string(d)"
   ]
  },
  {
   "cell_type": "markdown",
   "id": "95d71934",
   "metadata": {},
   "source": [
    "##### b)\n",
    "\n",
    "When we are checking if a piece of text is a palindrome we ignore spaces. Try using the `.replace()` string function to replace the spaces in the strings below with the empty string."
   ]
  },
  {
   "cell_type": "code",
   "execution_count": 13,
   "id": "be03226c",
   "metadata": {},
   "outputs": [],
   "source": [
    "a = 'Spongebob Squarepants'\n",
    "b = 'my name is James'\n",
    "c = 'Happy Birtday'"
   ]
  },
  {
   "cell_type": "code",
   "execution_count": 14,
   "id": "c32367cd",
   "metadata": {},
   "outputs": [
    {
     "data": {
      "text/plain": [
       "'SpongebobSquarepants'"
      ]
     },
     "execution_count": 14,
     "metadata": {},
     "output_type": "execute_result"
    }
   ],
   "source": [
    "## sample solution\n",
    "a.replace(\" \", \"\")"
   ]
  },
  {
   "cell_type": "markdown",
   "id": "8601bdeb",
   "metadata": {},
   "source": [
    "##### c)\n",
    "\n",
    "We should also ignore the case of the letters. Try to make all of the letters in the strings stored in `a`, `b` and `c` from part b) the same case using `.lower()` or `.upper()`."
   ]
  },
  {
   "cell_type": "code",
   "execution_count": 15,
   "id": "15a6820a",
   "metadata": {},
   "outputs": [
    {
     "data": {
      "text/plain": [
       "'spongebob squarepants'"
      ]
     },
     "execution_count": 15,
     "metadata": {},
     "output_type": "execute_result"
    }
   ],
   "source": [
    "## sample solution\n",
    "a.lower()\n"
   ]
  },
  {
   "cell_type": "markdown",
   "id": "aa601794",
   "metadata": {},
   "source": [
    "##### d)\n",
    "\n",
    "Try and put parts a) - c) together and write a function that returns:\n",
    "- `True` if the input is a string and a palindrome, \n",
    "- `False` if the input is a string and not a palindrome, and\n",
    "- `None` if the input is not a string.\n",
    "\n",
    "Test your function on the strings defined below."
   ]
  },
  {
   "cell_type": "code",
   "execution_count": 16,
   "id": "3d31d7ab",
   "metadata": {},
   "outputs": [],
   "source": [
    "a = 'kayak'\n",
    "b = 'Patrick Star'\n",
    "c = 'A Man a Plan a Canal Panama'\n",
    "d = 9909028"
   ]
  },
  {
   "cell_type": "code",
   "execution_count": 17,
   "id": "694603ff",
   "metadata": {},
   "outputs": [],
   "source": [
    "## sample solution\n",
    "def is_palindrome(x):\n",
    "    if is_string(x):\n",
    "        clean_x = x.replace(\" \",\"\").lower()\n",
    "        if clean_x == clean_x[::-1]:\n",
    "            return True\n",
    "        else:\n",
    "            return False\n",
    "    else:\n",
    "        return None"
   ]
  },
  {
   "cell_type": "code",
   "execution_count": 18,
   "id": "d700dda0",
   "metadata": {},
   "outputs": [
    {
     "data": {
      "text/plain": [
       "True"
      ]
     },
     "execution_count": 18,
     "metadata": {},
     "output_type": "execute_result"
    }
   ],
   "source": [
    "## sample solution\n",
    "is_palindrome(a)"
   ]
  },
  {
   "cell_type": "code",
   "execution_count": 19,
   "id": "9b08b8d4",
   "metadata": {},
   "outputs": [
    {
     "data": {
      "text/plain": [
       "False"
      ]
     },
     "execution_count": 19,
     "metadata": {},
     "output_type": "execute_result"
    }
   ],
   "source": [
    "## sample solution\n",
    "is_palindrome(b)"
   ]
  },
  {
   "cell_type": "code",
   "execution_count": 20,
   "id": "d409c645",
   "metadata": {},
   "outputs": [
    {
     "data": {
      "text/plain": [
       "True"
      ]
     },
     "execution_count": 20,
     "metadata": {},
     "output_type": "execute_result"
    }
   ],
   "source": [
    "## sample solution\n",
    "is_palindrome(c)"
   ]
  },
  {
   "cell_type": "code",
   "execution_count": 21,
   "id": "af24cfdd",
   "metadata": {},
   "outputs": [],
   "source": [
    "## sample solution\n",
    "is_palindrome(d)"
   ]
  },
  {
   "cell_type": "markdown",
   "id": "abe8c435",
   "metadata": {},
   "source": [
    "##### 4. A coin flipping game\n",
    "\n",
    "Imagine you and a friend are playing a game in which you repeatedly flip a balanced coin. You win the game if the coin ever lands heads twice in a row. Your friend wins the game if the coin ever lands tails then heads. In this exercise you will code up this game in order to inspect the probability that you win.\n",
    "\n",
    "##### a)\n",
    "\n",
    "Using `numpy` or `random` code a function to simulate a balanced coin flip."
   ]
  },
  {
   "cell_type": "code",
   "execution_count": 22,
   "id": "e74be1cd",
   "metadata": {},
   "outputs": [],
   "source": [
    "## sample solution\n",
    "def coin_flip():\n",
    "    flip = np.random.random()\n",
    "    \n",
    "    if flip <= .5:\n",
    "        return \"H\"\n",
    "    else:\n",
    "        return \"T\""
   ]
  },
  {
   "cell_type": "code",
   "execution_count": 23,
   "id": "ac472aa1",
   "metadata": {},
   "outputs": [
    {
     "data": {
      "text/plain": [
       "'T'"
      ]
     },
     "execution_count": 23,
     "metadata": {},
     "output_type": "execute_result"
    }
   ],
   "source": [
    "## sample solution\n",
    "coin_flip()"
   ]
  },
  {
   "cell_type": "markdown",
   "id": "47a32dfd",
   "metadata": {},
   "source": [
    "##### b)\n",
    "\n",
    "Write a function to play the described game. Have the function print out the series of flips and the winner."
   ]
  },
  {
   "cell_type": "code",
   "execution_count": 24,
   "id": "d17731b2",
   "metadata": {},
   "outputs": [],
   "source": [
    "## sample solution\n",
    "def play_game():\n",
    "    flips = coin_flip()\n",
    "    flips = flips + coin_flip()\n",
    "    \n",
    "    while flips[-2:] not in [\"HH\", \"TH\"]:\n",
    "        flips = flips + coin_flip()\n",
    "        \n",
    "    if flips[-2:] == \"HH\":\n",
    "        winner = \"You\"\n",
    "    else:\n",
    "        winner = \"Friend\"\n",
    "\n",
    "    return flips, winner"
   ]
  },
  {
   "cell_type": "code",
   "execution_count": 25,
   "id": "21e9b46e",
   "metadata": {},
   "outputs": [
    {
     "data": {
      "text/plain": [
       "('HH', 'You')"
      ]
     },
     "execution_count": 25,
     "metadata": {},
     "output_type": "execute_result"
    }
   ],
   "source": [
    "## sample solution\n",
    "play_game()\n",
    "\n"
   ]
  },
  {
   "cell_type": "markdown",
   "id": "34caf4d9",
   "metadata": {},
   "source": [
    "##### c)\n",
    "\n",
    "Run this game 1000 times, what fraction of the games do you win? What was the longest game?\n",
    "\n",
    "<i>Note: while it is possible to calculate the actual probability of you winning, just use that as a sanity check for your code.</i>"
   ]
  },
  {
   "cell_type": "code",
   "execution_count": 26,
   "id": "45521732",
   "metadata": {},
   "outputs": [
    {
     "name": "stdout",
     "output_type": "stream",
     "text": [
      "0.276\n",
      "12\n"
     ]
    }
   ],
   "source": [
    "## sample soln\n",
    "games = [play_game() for i in range(1000)]\n",
    "\n",
    "print(len([w for w in games if w[1] == \"You\"])/len(games))\n",
    "print(np.max([len(game[0]) for game in games]))"
   ]
  },
  {
   "cell_type": "markdown",
   "id": "9062dcdf",
   "metadata": {},
   "source": [
    "##### d) \n",
    "\n",
    "Does this seem to be a fair game for you?"
   ]
  },
  {
   "cell_type": "markdown",
   "id": "eee11f89",
   "metadata": {},
   "source": [
    "##### Sample Solution\n",
    "\n",
    "No"
   ]
  },
  {
   "cell_type": "markdown",
   "id": "bc6e205a",
   "metadata": {},
   "source": [
    "##### 5. Analyzing cookie recipes\n",
    "\n",
    "In this problem you will practice using `pandas` and `matplotlib`. Complete parts a) through d).\n",
    "\n",
    "##### a)\n",
    "\n",
    "Read in the `cookie_recipes.csv` file from the `data` folder."
   ]
  },
  {
   "cell_type": "code",
   "execution_count": 27,
   "id": "82d1e6a2",
   "metadata": {},
   "outputs": [],
   "source": [
    "## sample solution\n",
    "df = pd.read_csv(\"../data/cookie_recipes.csv\")"
   ]
  },
  {
   "cell_type": "markdown",
   "id": "a4904ec1",
   "metadata": {},
   "source": [
    "##### b)\n",
    "\n",
    "Look at a random sample of 3 rows. What columns are there?"
   ]
  },
  {
   "cell_type": "code",
   "execution_count": 28,
   "id": "34ca20d7",
   "metadata": {},
   "outputs": [
    {
     "data": {
      "text/html": [
       "<div>\n",
       "<style scoped>\n",
       "    .dataframe tbody tr th:only-of-type {\n",
       "        vertical-align: middle;\n",
       "    }\n",
       "\n",
       "    .dataframe tbody tr th {\n",
       "        vertical-align: top;\n",
       "    }\n",
       "\n",
       "    .dataframe thead th {\n",
       "        text-align: right;\n",
       "    }\n",
       "</style>\n",
       "<table border=\"1\" class=\"dataframe\">\n",
       "  <thead>\n",
       "    <tr style=\"text-align: right;\">\n",
       "      <th></th>\n",
       "      <th>flour</th>\n",
       "      <th>butter</th>\n",
       "      <th>eggs</th>\n",
       "      <th>soda</th>\n",
       "      <th>chips</th>\n",
       "      <th>rating</th>\n",
       "    </tr>\n",
       "  </thead>\n",
       "  <tbody>\n",
       "    <tr>\n",
       "      <th>16</th>\n",
       "      <td>2.25</td>\n",
       "      <td>12</td>\n",
       "      <td>3</td>\n",
       "      <td>1</td>\n",
       "      <td>0.75</td>\n",
       "      <td>1.5</td>\n",
       "    </tr>\n",
       "    <tr>\n",
       "      <th>21</th>\n",
       "      <td>2.50</td>\n",
       "      <td>6</td>\n",
       "      <td>3</td>\n",
       "      <td>4</td>\n",
       "      <td>2.00</td>\n",
       "      <td>3.5</td>\n",
       "    </tr>\n",
       "    <tr>\n",
       "      <th>22</th>\n",
       "      <td>2.50</td>\n",
       "      <td>12</td>\n",
       "      <td>3</td>\n",
       "      <td>3</td>\n",
       "      <td>2.00</td>\n",
       "      <td>3.5</td>\n",
       "    </tr>\n",
       "  </tbody>\n",
       "</table>\n",
       "</div>"
      ],
      "text/plain": [
       "    flour  butter  eggs  soda  chips  rating\n",
       "16   2.25      12     3     1   0.75     1.5\n",
       "21   2.50       6     3     4   2.00     3.5\n",
       "22   2.50      12     3     3   2.00     3.5"
      ]
     },
     "execution_count": 28,
     "metadata": {},
     "output_type": "execute_result"
    }
   ],
   "source": [
    "## sample solution\n",
    "df.sample(3)"
   ]
  },
  {
   "cell_type": "markdown",
   "id": "366bfdb5",
   "metadata": {},
   "source": [
    "##### c)\n",
    "\n",
    "What is the minimum number of eggs used over all recipes? the maximum?"
   ]
  },
  {
   "cell_type": "code",
   "execution_count": 29,
   "id": "474494d6",
   "metadata": {},
   "outputs": [
    {
     "data": {
      "text/plain": [
       "min    1.0\n",
       "max    3.0\n",
       "Name: eggs, dtype: float64"
      ]
     },
     "execution_count": 29,
     "metadata": {},
     "output_type": "execute_result"
    }
   ],
   "source": [
    "## sample solution\n",
    "df.eggs.describe()[['min', 'max']]"
   ]
  },
  {
   "cell_type": "markdown",
   "id": "2f5b32fa",
   "metadata": {},
   "source": [
    "##### d)\n",
    "\n",
    "Plot the rating of the recipe against:\n",
    "- The amount of `butter` used,\n",
    "- The amount of `flour` users, and\n",
    "- The amount of chocolate `chips` used.\n",
    "\n",
    "Do any of these variables seem to be associated with the rating? If so how?"
   ]
  },
  {
   "cell_type": "code",
   "execution_count": 30,
   "id": "9795e7be",
   "metadata": {},
   "outputs": [],
   "source": [
    "import matplotlib.pyplot as plt"
   ]
  },
  {
   "cell_type": "code",
   "execution_count": 31,
   "id": "cef9a457",
   "metadata": {},
   "outputs": [
    {
     "data": {
      "image/png": "[encoded data removed]",
      "text/plain": [
       "<Figure size 700x500 with 1 Axes>"
      ]
     },
     "metadata": {},
     "output_type": "display_data"
    },
    {
     "name": "stdout",
     "output_type": "stream",
     "text": [
      "\n",
      "\n"
     ]
    },
    {
     "data": {
      "image/png": "[encoded data removed]",
      "text/plain": [
       "<Figure size 700x500 with 1 Axes>"
      ]
     },
     "metadata": {},
     "output_type": "display_data"
    },
    {
     "name": "stdout",
     "output_type": "stream",
     "text": [
      "\n",
      "\n"
     ]
    },
    {
     "data": {
      "image/png": "[encoded data removed]",
      "text/plain": [
       "<Figure size 700x500 with 1 Axes>"
      ]
     },
     "metadata": {},
     "output_type": "display_data"
    },
    {
     "name": "stdout",
     "output_type": "stream",
     "text": [
      "\n",
      "\n"
     ]
    }
   ],
   "source": [
    "## sample solution\n",
    "for c in ['butter', 'flour', 'chips']:\n",
    "    plt.figure(figsize=(7,5))\n",
    "    \n",
    "    plt.scatter(df[c],\n",
    "                df.rating)\n",
    "    \n",
    "    plt.xlabel(c, fontsize=12)\n",
    "    plt.ylabel(\"Recipe Rating (out of 5)\", fontsize=12)\n",
    "    \n",
    "    plt.show()\n",
    "\n",
    "    print()\n",
    "    print()"
   ]
  },
  {
   "cell_type": "markdown",
   "id": "790d2ca0",
   "metadata": {},
   "source": [
    "--------------------------\n",
    "\n",
    "This notebook was written for the Erd&#337;s Institute C&#337;de Data Science Boot Camp by Matthew Osborne, Ph. D., 2023.\n",
    "\n",
    "Any potential redistributors must seek and receive permission from Matthew Tyler Osborne, Ph.D. prior to redistribution. Redistribution of the material contained in this repository is conditional on acknowledgement of Matthew Tyler Osborne, Ph.D.'s original authorship and sponsorship of the Erdős Institute as subject to the license (see License.md)"
   ]
  },
  {
   "cell_type": "code",
   "execution_count": null,
   "id": "12839298",
   "metadata": {},
   "outputs": [],
   "source": []
  }
 ],
 "metadata": {
  "kernelspec": {
   "display_name": "Python 3 (ipykernel)",
   "language": "python",
   "name": "python3"
  },
  "language_info": {
   "codemirror_mode": {
    "name": "ipython",
    "version": 3
   },
   "file_extension": ".py",
   "mimetype": "text/x-python",
   "name": "python",
   "nbconvert_exporter": "python",
   "pygments_lexer": "ipython3",
   "version": "3.9.16"
  }
 },
 "nbformat": 4,
 "nbformat_minor": 5
}
