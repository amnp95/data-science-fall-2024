{
 "cells": [
  {
   "attachments": {},
   "cell_type": "markdown",
   "metadata": {},
   "source": [
    "# The mathematics of fitting simple logistic regression"
   ]
  },
  {
   "attachments": {},
   "cell_type": "markdown",
   "metadata": {},
   "source": [
    "## Explaining the Model"
   ]
  },
  {
   "attachments": {},
   "cell_type": "markdown",
   "metadata": {},
   "source": [
    "In this notebook we explain the mathematics behind fitting simple logistic regression."
   ]
  },
  {
   "cell_type": "code",
   "execution_count": 1,
   "metadata": {},
   "outputs": [],
   "source": [
    "import numpy as np\n",
    "import pandas as pd\n",
    "import math\n",
    "import matplotlib.pyplot as plt"
   ]
  },
  {
   "attachments": {},
   "cell_type": "markdown",
   "metadata": {},
   "source": [
    "We will explain using a toy example.  A standard apple tree which is only $1$ foot tall is unlikely to bear fruit this year.  However an apple tree which is $20$ feet tall is very likely to be of bearing age.  We might expect an increasing relationship between the height of the tree and the probability that the tree is capable of bearing fruit.\n",
    "\n"
   ]
  },
  {
   "cell_type": "code",
   "execution_count": 2,
   "metadata": {},
   "outputs": [],
   "source": [
    "height_vs_bearing = pd.read_csv('csv-files/height_vs_bearing.csv', index_col=0)"
   ]
  },
  {
   "cell_type": "code",
   "execution_count": 3,
   "metadata": {},
   "outputs": [
    {
     "data": {
      "text/html": [
       "<div>\n",
       "<style scoped>\n",
       "    .dataframe tbody tr th:only-of-type {\n",
       "        vertical-align: middle;\n",
       "    }\n",
       "\n",
       "    .dataframe tbody tr th {\n",
       "        vertical-align: top;\n",
       "    }\n",
       "\n",
       "    .dataframe thead th {\n",
       "        text-align: right;\n",
       "    }\n",
       "</style>\n",
       "<table border=\"1\" class=\"dataframe\">\n",
       "  <thead>\n",
       "    <tr style=\"text-align: right;\">\n",
       "      <th></th>\n",
       "      <th>height</th>\n",
       "      <th>bearing</th>\n",
       "    </tr>\n",
       "  </thead>\n",
       "  <tbody>\n",
       "    <tr>\n",
       "      <th>0</th>\n",
       "      <td>11.325206</td>\n",
       "      <td>0.0</td>\n",
       "    </tr>\n",
       "    <tr>\n",
       "      <th>1</th>\n",
       "      <td>12.939280</td>\n",
       "      <td>1.0</td>\n",
       "    </tr>\n",
       "    <tr>\n",
       "      <th>2</th>\n",
       "      <td>9.767215</td>\n",
       "      <td>1.0</td>\n",
       "    </tr>\n",
       "    <tr>\n",
       "      <th>3</th>\n",
       "      <td>7.638947</td>\n",
       "      <td>0.0</td>\n",
       "    </tr>\n",
       "    <tr>\n",
       "      <th>4</th>\n",
       "      <td>8.997293</td>\n",
       "      <td>0.0</td>\n",
       "    </tr>\n",
       "    <tr>\n",
       "      <th>...</th>\n",
       "      <td>...</td>\n",
       "      <td>...</td>\n",
       "    </tr>\n",
       "    <tr>\n",
       "      <th>95</th>\n",
       "      <td>12.316341</td>\n",
       "      <td>1.0</td>\n",
       "    </tr>\n",
       "    <tr>\n",
       "      <th>96</th>\n",
       "      <td>8.523462</td>\n",
       "      <td>0.0</td>\n",
       "    </tr>\n",
       "    <tr>\n",
       "      <th>97</th>\n",
       "      <td>7.432771</td>\n",
       "      <td>0.0</td>\n",
       "    </tr>\n",
       "    <tr>\n",
       "      <th>98</th>\n",
       "      <td>7.105060</td>\n",
       "      <td>0.0</td>\n",
       "    </tr>\n",
       "    <tr>\n",
       "      <th>99</th>\n",
       "      <td>7.487725</td>\n",
       "      <td>0.0</td>\n",
       "    </tr>\n",
       "  </tbody>\n",
       "</table>\n",
       "<p>100 rows × 2 columns</p>\n",
       "</div>"
      ],
      "text/plain": [
       "       height  bearing\n",
       "0   11.325206      0.0\n",
       "1   12.939280      1.0\n",
       "2    9.767215      1.0\n",
       "3    7.638947      0.0\n",
       "4    8.997293      0.0\n",
       "..        ...      ...\n",
       "95  12.316341      1.0\n",
       "96   8.523462      0.0\n",
       "97   7.432771      0.0\n",
       "98   7.105060      0.0\n",
       "99   7.487725      0.0\n",
       "\n",
       "[100 rows x 2 columns]"
      ]
     },
     "execution_count": 3,
     "metadata": {},
     "output_type": "execute_result"
    }
   ],
   "source": [
    "height_vs_bearing"
   ]
  },
  {
   "attachments": {},
   "cell_type": "markdown",
   "metadata": {},
   "source": [
    "We can see that we have measured the height of 100 apple trees, and recorded whether or not the tree is currently bearing apples.\n",
    "\n",
    "Here is a graph of the data:"
   ]
  },
  {
   "cell_type": "code",
   "execution_count": 10,
   "metadata": {},
   "outputs": [
    {
     "data": {
      "image/png": "[encoded data removed]",
      "text/plain": [
       "<Figure size 600x500 with 1 Axes>"
      ]
     },
     "metadata": {},
     "output_type": "display_data"
    }
   ],
   "source": [
    "X = height_vs_bearing['height']\n",
    "y = height_vs_bearing['bearing']\n",
    "plt.figure(figsize=(6,5))\n",
    "\n",
    "plt.scatter(X, y)\n",
    "\n",
    "plt.xlabel(\"Height\", fontsize=12)\n",
    "plt.ylabel(\"Bearing\", fontsize=12)\n",
    "plt.show()"
   ]
  },
  {
   "attachments": {},
   "cell_type": "markdown",
   "metadata": {},
   "source": [
    "As we can see, when the tree is shorter than 9 feet tall it is very rare for it to bear apples.  When it is taller than 11.5 feet tall it is almost surely going to bear apples.  In between we have a murkier situation.  One thing we could do to try to get a better understanding of this relationship is try and see how the probability of bearing varies as a function of height.  We can estimate the probability $P(\\textrm{bearing} = 1 | x )$ by looking at the empirical probability of bearing in a small neighborhood of $x$, say $$P(\\textrm{bearing} = 1 | \\textrm{height} = x ) \\approx \\frac{\\textrm{\\# samples bearing}}{\\textrm{\\# samples in }[x-0.5,x+0.5]}$$  \n",
    "\n",
    "Let's take a look at that graph.  I have highlighted the point with $\\textrm{height} = 9.5$ green.  In the interval $[9,10]$ there are $20$ samples of which $5$ are bearing, for an estimated probability of $\\frac{5}{20} = 0.25$"
   ]
  },
  {
   "attachments": {},
   "cell_type": "markdown",
   "metadata": {},
   "source": [
    "![Approximate probabilities](math_hour_8_assets/approx-probs.png)"
   ]
  },
  {
   "attachments": {},
   "cell_type": "markdown",
   "metadata": {},
   "source": [
    "We would like to model the probability as a funtion of height directly.  Our model might look something like this:"
   ]
  },
  {
   "attachments": {},
   "cell_type": "markdown",
   "metadata": {},
   "source": [
    "![approximate probabilities with logistic regression curve](math_hour_8_assets/approx-probs-with-curve.png)"
   ]
  },
  {
   "attachments": {},
   "cell_type": "markdown",
   "metadata": {},
   "source": [
    "In logistic regression we will model the probability $P(\\textrm{bearing} = 1| \\textrm{height} = x)$ using a function of the form $p(x) = \\sigma(mx+b)$ where $\\sigma$ is the *sigmoid function* defined by\n",
    "\n",
    "$$\n",
    "\\sigma(t) = \\frac{1}{1+e^{-t}}\n",
    "$$"
   ]
  },
  {
   "attachments": {},
   "cell_type": "markdown",
   "metadata": {},
   "source": [
    "We can interpret this as follows\n",
    "\n",
    "$$\n",
    "\\begin{align*}\n",
    "&p(x) = \\frac{1}{1+e^{-(mx+b)}}\\\\\n",
    "&\\frac{1}{p(x)} = 1 + e^{-(mx+b)}\\\\\n",
    "&\\frac{1 - p(x)}{p(x)} = e^{-(mx+b)}\\\\\n",
    "&\\frac{p(x)}{1-p(x)} = e^{mx+b}\\\\\n",
    "&\\log\\left(\\frac{p(x)}{1-p(x)}\\right) = mx+b\n",
    "\\end{align*}\n",
    "$$\n",
    "\n",
    "The quantity $\\frac{p(x)}{1-p(x)}$ is the [odds](https://en.wikipedia.org/wiki/Odds) in favor of bearing.\n",
    "\n",
    "So by modeling our probability using the parameteric family $p(x) = \\sigma(mx+b)$ we are making the assumption that the log-odds in favor of bearing is approximately linear in the height.  In other words, we are assuming that each foot of height increases the log-odds in favor of bearing by a fixed amount ($m$).  This assumption may or may not be reasonable, just like fitting a linear regression may or may not be reasonable.  In this case our exploratory plot makes it look like a reasonable model."
   ]
  },
  {
   "attachments": {},
   "cell_type": "markdown",
   "metadata": {},
   "source": [
    "## Fitting the Model"
   ]
  },
  {
   "attachments": {},
   "cell_type": "markdown",
   "metadata": {},
   "source": [
    "As explained in the \"Maximum Likelyhood Estimation and Binary Cross-Entropy\" notebook, we are going to fit this model by minimizing the binary cross-entropy\n",
    "\n",
    "$$\n",
    "\\ell(m,b) = -\\sum_{i = 1}^N y_i\\log(p_{m,b}(x_i)) + (1- y_i)\\log(1- p_{m,b}(x_i))\n",
    "$$"
   ]
  },
  {
   "attachments": {},
   "cell_type": "markdown",
   "metadata": {},
   "source": [
    "We are going to find the gradient of this loss function.  Before that, it is convenient to note a few special properties of the sigmoid function:\n",
    "\n",
    "\n",
    "1. &nbsp;  $1 - \\sigma(z) = -\\sigma(z)$\n",
    "2. &nbsp;  $\\frac{\\sigma(z)}{\\sigma(-z)} = \\sigma(z)$\n",
    "3.  &nbsp; $\\frac{\\textrm{d}}{\\textrm{d}z} \\sigma(z) = \\sigma(z) \\sigma( - z)$\n",
    "\n",
    "\n",
    "These properties are all elementary to derive, so we skip the derivations.\n",
    "\n",
    "We first use these properties to rewrite the loss function in a more convenient form:\n",
    "\n",
    "$$\n",
    "\\begin{align*}\n",
    "\\ell(m,b) \n",
    "&= -\\sum_{i = 1}^N y_i\\log(p_{m,b}(x_i)) + (1- y_i)\\log(1- p_{m,b}(x_i))\\\\\n",
    "& = -\\sum_{i=1}^n y_i \\log(\\sigma(mx_i+b)) + (1- y_i)\\log(1- \\sigma(mx_i + b))\\\\\n",
    "& = -\\sum_{i=1}^n y_i \\log(\\sigma(mx_i+b)) + (1- y_i)\\log(\\sigma(-(mx_i + b))) \\textrm{ by 1.}\\\\\n",
    "& = -\\sum_{i=1}^n y_i \\log(\\frac{\\sigma(mx_i + b)}{\\sigma(-mx_i + b)}) + \\log(\\sigma(-(mx_i + b)))\\\\\n",
    "& = -\\sum_{i=1}^n y_i \\log(e^{mx_i+b}) + \\log(\\sigma(-(mx_i + b))) \\textrm{ by 2.}\\\\\n",
    "& = -\\sum_{i=1}^n y_i(mx_i + b) + \\log(\\sigma(-(mx_i + b))) \\textrm{ by 2.}\\\\\n",
    "\n",
    "\\end{align*}\n",
    "$$\n",
    "\n",
    "Side note:  It is interesting to me that $-\\log(\\sigma(-z)) =  \\log(1 + e^z) \\approx \\textrm{relu}(z)$ (for large $|z|$) is making an appearance here.\n",
    "\n",
    "We are now in a strong position to take partial derivatives:\n",
    "\n",
    "$$\n",
    "\\begin{align*}\n",
    "\\frac{\\partial \\ell}{\\partial b} \n",
    "&= -\\sum_{i=1}^n   y_i - \\frac{1}{\\sigma(-(mx_i + b))} \\sigma(-(mx_i + b))\\sigma( mx_i + b) \\textrm{ by 3.}\\\\\n",
    "&= \\sum_{i=1}^n \\sigma( mx_i + b)  -  y_i \\\\\n",
    "& = \\sum_{i=1}^n p_{m,b}(x_i)  -  y_i \\\\\n",
    "\\end{align*}\n",
    "$$\n",
    "\n",
    "$$\n",
    "\\begin{align*}\n",
    "\\frac{\\partial \\ell}{\\partial m}\n",
    "&= -\\sum_{i=1}^n y_ix_i  + -x_i \\frac{1}{\\sigma(-(mx_i + b))} \\sigma(-(mx_i + b))\\sigma( mx_i + b)\\\\\n",
    "& = \\sum_{i=1}^n x_i (p_{m,b}(x_i) - y_i) \\\\ \n",
    "\\end{align*}\n",
    "$$\n",
    "\n",
    "It is amazing to me that these partial derivatives up having such (relatively) simple expressions!\n",
    "\n",
    "If we package things a little differently the formula becomes even more compact.\n",
    "\n",
    "Let \n",
    "\n",
    "$$\n",
    "X = \\begin{bmatrix} \\vec{1} & \\vec{x}\\end{bmatrix} \\hphantom{dsds} \\vec{\\beta} = \\begin{bmatrix} b \\\\ m\\end{bmatrix}\n",
    "$$\n",
    "\n",
    "Then it is easy to check that \n",
    "\n",
    "$$\n",
    "\\nabla \\ell =  X^\\top (p_{\\vec{\\beta}}(\\vec{x}) - \\vec{y})\n",
    "$$\n"
   ]
  },
  {
   "attachments": {},
   "cell_type": "markdown",
   "metadata": {},
   "source": [
    "To minimize the loss function we need to find where the gradient vanishes.  Unfortunately, we cannot solve this analytically.  We will instead resort to numerical approximation.  We will use gradient descent."
   ]
  },
  {
   "cell_type": "code",
   "execution_count": 6,
   "metadata": {},
   "outputs": [
    {
     "name": "stdout",
     "output_type": "stream",
     "text": [
      "i =  10000 , m =  2.1192925120808486 ,b =  -21.363434233036898 , length of grad =  0.10228932435579309 , loss =  25.767335341763896\n",
      "i =  20000 , m =  2.1982278706290144 ,b =  -22.160779730581684 , length of grad =  0.06196204684618228 , loss =  25.701795112354908\n",
      "i =  30000 , m =  2.2469638105490164 ,b =  -22.65293633322963 , length of grad =  0.03894879542488671 , loss =  25.676897814266447\n",
      "i =  40000 , m =  2.2779373951277435 ,b =  -22.965671504577948 , length of grad =  0.0250140359073281 , loss =  25.666860746257555\n",
      "i =  50000 , m =  2.297963048823149 ,b =  -23.16784798506587 , length of grad =  0.01627675493892682 , loss =  25.662669841937785\n",
      "i =  60000 , m =  2.3110487729434905 ,b =  -23.299951973407392 , length of grad =  0.010679251103461133 , loss =  25.660881592611187\n",
      "i =  70000 , m =  2.3196575838564413 ,b =  -23.386857002330622 , length of grad =  0.007044015039684102 , loss =  25.66010797255713\n",
      "i =  80000 , m =  2.325345914808644 ,b =  -23.444278690927113 , length of grad =  0.004662304823477274 , loss =  25.659770306139563\n",
      "i =  90000 , m =  2.3291152516608795 ,b =  -23.48232820381429 , length of grad =  0.0030928984996754024 , loss =  25.659622065346777\n",
      "i =  100000 , m =  2.3316176668455855 ,b =  -23.50758852934396 , length of grad =  0.0020548494622658156 , loss =  25.65955673667868\n",
      "i =  110000 , m =  2.333281047520069 ,b =  -23.52437920626789 , length of grad =  0.001366545444517215 , loss =  25.659527874204628\n",
      "[  2.33416821 -23.53333442]\n"
     ]
    }
   ],
   "source": [
    "import math\n",
    "\n",
    "# This is a function for fitting simple linear regression using batch gradient descent.\n",
    "# X, y, m_start, and b_start are hopefully self-explanatory.  \n",
    "# lr stands for \"learning rate\" and is the amount we will scale the gradient at each step.\n",
    "# we continue to run gradient descent until the length of the gradient is less than the tolerance.\n",
    "\n",
    "def fit_logistic_regression(X, y, m_start, b_start, lr, tolerance):\n",
    "    m = m_start\n",
    "    b = b_start\n",
    "    probs = 1/(1+np.exp(-(m*X+b))) #applying sigma to mX+b to get the vector of predicted probabilities.\n",
    "    loss = -(np.dot(y, np.log(probs)) + np.dot(1-y, np.log(1- probs))) # This is the formula for log-loss\n",
    "    partial_b = (probs - y).sum() #formula for partial derivative of the loss with respect to b\n",
    "    partial_m = (X*(probs - y)).sum() #formula for partial derivative of the loss with respect to m\n",
    "\n",
    "    i = 0 # a counter for the number of iterations\n",
    "\n",
    "    #we adjust m and b by h times the gradient while the length of the gradient is greater than our tolerance.\n",
    "    while  partial_b**2+  partial_m**2> tolerance**2:\n",
    "        b -= lr*partial_b\n",
    "        m -= lr*partial_m\n",
    "        probs = 1/(1+np.exp(-(m*X+b)))\n",
    "        loss = -(np.dot(y, np.log(probs)) + np.dot(1-y, np.log(1 - probs)))\n",
    "        partial_b = (probs - y).sum()\n",
    "        partial_m = (X*(probs - y)).sum()\n",
    "        i += 1\n",
    "        if i%10000 == 0:\n",
    "            print('i = ',i, ', m = ' ,m, ',b = ', b, ', length of grad = ', (partial_b**2 + partial_m**2)**0.5,', loss = ', loss)\n",
    "    return np.array([m,b]) \n",
    "\n",
    "\n",
    "#My initial guess of m = 2, b = -20 is an educated guess.  Looking at the rough sketch we made of the probability curve when we first started, it looks like \n",
    "#we have an inflection point at around (10,0.5) with a slope of 2.  This gives m = 2 and b = -20 after a little fiddling.  I could have started with a random\n",
    "#guess, and it would have just taken a little longer to converge.\n",
    "\n",
    "#Note this is a *very* inefficient implementation, just to get the ideas across, and takes my computer 5 minutes to run.\n",
    "optimal_params = fit_logistic_regression(X, y, 2,-20, 0.001, 0.001)  \n",
    "print(optimal_params)"
   ]
  },
  {
   "attachments": {},
   "cell_type": "markdown",
   "metadata": {},
   "source": [
    "In contrast to our gradient descent function, scikit-learn fits the model almost instantly!  They are using some much more sophisticated numerical analysis.  See [the Broyden–Fletcher–Goldfarb–Shanno algorithm](https://en.wikipedia.org/wiki/Broyden%E2%80%93Fletcher%E2%80%93Goldfarb%E2%80%93Shanno_algorithm) for more details."
   ]
  },
  {
   "cell_type": "code",
   "execution_count": 7,
   "metadata": {},
   "outputs": [
    {
     "name": "stdout",
     "output_type": "stream",
     "text": [
      "Our gradient descent function obtains the fit m = 2.334168205898299 and b = -23.533334418191455\n",
      "sklearn obtains the fit m = 2.3365932232309583 and b = -23.557813056425687\n",
      "These are pretty close!\n"
     ]
    }
   ],
   "source": [
    "from sklearn.linear_model import LogisticRegression\n",
    "log_reg = LogisticRegression(penalty=None)\n",
    "\n",
    "## fit the model\n",
    "log_reg.fit(X.to_numpy().reshape(-1,1),y.to_numpy())\n",
    "\n",
    "print(f'Our gradient descent function obtains the fit m = {optimal_params[0]} and b = {optimal_params[1]}')\n",
    "print(f'sklearn obtains the fit m = {log_reg.coef_[0][0]} and b = { log_reg.intercept_[0]}')\n",
    "print('These are pretty close!')"
   ]
  },
  {
   "attachments": {},
   "cell_type": "markdown",
   "metadata": {},
   "source": [
    "Let's see how the fit generated by sklearn looks.  You can check that the fit we obtained using gradient descent is indistinguishable to the human eye by uncommenting a line in the code below:"
   ]
  },
  {
   "cell_type": "code",
   "execution_count": 8,
   "metadata": {},
   "outputs": [
    {
     "data": {
      "image/png": "[encoded data removed]",
      "text/plain": [
       "<Figure size 600x500 with 1 Axes>"
      ]
     },
     "metadata": {},
     "output_type": "display_data"
    }
   ],
   "source": [
    "plt.figure(figsize=(6,5))\n",
    "\n",
    "plt.scatter(X.to_numpy(), y.to_numpy())\n",
    "\n",
    "sigmoid = lambda t: 1/(1+math.exp(-t))\n",
    "plt.plot(np.linspace(7,13), np.vectorize(lambda x: sigmoid(log_reg.intercept_[0] + log_reg.coef_[0][0]*x))(np.linspace(7,13)), color = 'orange')\n",
    "#plt.plot(np.linspace(7,13), np.vectorize(lambda x: sigmoid(optimal_params[1] + optimal_params[0]*x))(np.linspace(7,13)), color = 'red')\n",
    "\n",
    "plt.xlabel(\"Height (ft)\", fontsize=12)\n",
    "plt.ylabel(\"Bearing\", fontsize=12)\n",
    "plt.show()"
   ]
  },
  {
   "attachments": {},
   "cell_type": "markdown",
   "metadata": {},
   "source": [
    "# Uniqueness of Fit"
   ]
  },
  {
   "attachments": {},
   "cell_type": "markdown",
   "metadata": {},
   "source": [
    "When gradient descent converges it converges to a *local* minimum.  It is possible that our loss function could have more than one local min.  It turns out that when we are fitting logistic regression using cross-entropy loss the loss function is **convex** which ensures uniqueness of the global minimum (if it exists).  We can show this by computing the Hessian matrix of the loss function and checking that it is positive definite.  The Hessian matrix is\n",
    "\n",
    "$$\n",
    "\\begin{bmatrix}\n",
    "\\frac{\\partial^2 \\ell}{\\partial b^2} & \\frac{\\partial^2 \\ell}{\\partial b \\partial m}\\\\\n",
    "\\frac{\\partial^2 \\ell}{\\partial b \\partial m} & \\frac{\\partial^2 \\ell}{\\partial m^2}\n",
    "\\end{bmatrix}\n",
    "$$\n",
    "\n",
    "Let's compute these partials:\n",
    "\n",
    "$$\n",
    "\\begin{align*}\n",
    "\\frac{\\partial^2 \\ell}{\\partial b^2} \n",
    "&= \\frac{\\partial}{\\partial b} \\sum_{i=1}^n p_{m,b}(x_i)  -  y_i\\\\\n",
    "&= \\frac{\\partial}{\\partial b} \\sum_{i=1}^n \\sigma(mx_i + b)  -  y_i\\\\\n",
    "&=  \\sum_{i=1}^n \\sigma(mx_i + b)\\sigma( -(mx_i + b))\\\\\n",
    "&\\\\\n",
    "\\frac{\\partial^2 \\ell}{\\partial b \\partial m}\n",
    "&= \\frac{\\partial}{\\partial b} \\sum_{i=1}^n x_i (p_{m,b}(x_i) - y_i)\\\\\n",
    "&= \\frac{\\partial}{\\partial b} \\sum_{i=1}^n x_i( \\sigma(mx_i + b)  -  y_i) \\\\\n",
    "&= \\sum_{i=1}^n x_i \\sigma(mx_i + b)\\sigma( -(mx_i + b))\n",
    "&\\\\\n",
    "\\frac{\\partial^2 \\ell}{\\partial m^2}\n",
    "&= \\frac{\\partial}{\\partial m} \\sum_{i=1}^n x_i (p_{m,b}(x_i) - y_i)\\\\\n",
    "&= \\frac{\\partial}{\\partial m} \\sum_{i=1}^n x_i( \\sigma(mx_i + b)  -  y_i) \\\\\n",
    "&= \\sum_{i=1}^n x_i^2 \\sigma(mx_i + b)\\sigma( -(mx_i + b)) \n",
    "\\end{align*}\n",
    "$$\n",
    "\n",
    "This Hessian matrix can be written more compactly as \n",
    "\n",
    "$$\n",
    "H = X^\\top D X\n",
    "$$\n",
    "\n",
    "where $D$ is the diagonal matrix with entires $D_{ii} = \\sigma(mx_i + b)\\sigma( -(mx_i + b)) > 0$.\n",
    "\n",
    "This allows us to easily see that the Hessian is positive semi-definite:\n",
    "\n",
    "$$\n",
    "\\begin{align*}\n",
    "\\vec{v}^\\top H \\vec{v} \n",
    "&= \\vec{v}^\\top X^\\top D X \\vec{v}\\\\\n",
    "&= (X \\vec{v})^\\top D (X \\vec{v})\\\\\n",
    "&\\geq \\textrm{min}_i(D_{ii}) |X \\vec{v}|^2 \\\\\n",
    "&\\geq 0\n",
    "\\end{align*}\n",
    "$$\n",
    "\n",
    "Hence $\\ell$ is convex and has a unique global minimum (assuming that the global minimum exists). "
   ]
  },
  {
   "cell_type": "markdown",
   "metadata": {},
   "source": [
    "It is possible that there is no global minimum!  This happens when we have perfect seperation of our classes.  For instance, imagine that all trees with height less than $10$ feet were not bearing, and all trees with height greater than $10$ feet were bearing.\n",
    "\n",
    "You can check that\n",
    "\n",
    "$$\n",
    "p_{m,b} = \\sigma(mx + b)\n",
    "$$\n",
    "\n",
    "Let's find which values of the parameters make $p_{m,b}(10) = \\frac{1}{2}$:\n",
    "\n",
    "$$\n",
    "\\begin{align*}\n",
    "&\\sigma(10m + b) = \\frac{1}{2}\\\\\n",
    "&\\frac{1}{1+e^{-(10m+b)}} = \\frac{1}{2}\\\\\n",
    "&e^{-(10m+b)} = 1\\\\\n",
    "&10m+b = 0\\\\\n",
    "&b = -10m\n",
    "\\end{align*}\n",
    "$$\n",
    "\n",
    "Let's plot some of these against some fake data:"
   ]
  },
  {
   "cell_type": "code",
   "execution_count": 9,
   "metadata": {},
   "outputs": [
    {
     "data": {
      "image/png": "[encoded data removed]",
      "text/plain": [
       "<Figure size 600x500 with 1 Axes>"
      ]
     },
     "metadata": {},
     "output_type": "display_data"
    }
   ],
   "source": [
    "plt.figure(figsize=(6,5))\n",
    "\n",
    "X = np.concatenate([np.random.uniform(0,9,10), np.random.uniform(11,20,10)] )\n",
    "y = np.concatenate([np.zeros(10),np.ones(10)])\n",
    "\n",
    "plt.scatter(X, y )\n",
    "\n",
    "sigmoid = lambda t: 1/(1+math.exp(-t))\n",
    "for m in range(1,6):  \n",
    "    plt.plot(np.linspace(0,20), np.vectorize(lambda x: sigmoid(m*x + -10*m))(np.linspace(0,20)))\n",
    "\n",
    "plt.xlabel(\"Height (ft)\", fontsize=12)\n",
    "plt.ylabel(\"Bearing\", fontsize=12)\n",
    "plt.show()"
   ]
  },
  {
   "cell_type": "markdown",
   "metadata": {},
   "source": [
    "As you can see, if we allow $m \\to \\infty$ along the line $10m + b = 0$, the fit of logistic regression becomes better and better.  In the limit the logistic loss function approaches $0$."
   ]
  },
  {
   "cell_type": "markdown",
   "metadata": {},
   "source": [
    "## Fitting Multiple Logistic Regression\n",
    "\n",
    "Set up:\n",
    "\n",
    "We have $k$ features $x_1, x_2, ..., x_k$ and a binary response variable $y$.  We have a sample of $N$ observations.  The $i^{th}$ observation has $x_1 = x_{i1}, x_2 = x_{i2}, ... , x_k = x_{ik}$.\n",
    "\n",
    "Let \n",
    "\n",
    "$$\\vec{x} = \\begin{bmatrix} 1 & x_1 & ... & x_k \\end{bmatrix}^\\top$$\n",
    "\n",
    "$$\\vec{\\beta} = \\begin{bmatrix} \\beta_0 & \\beta_1 & ... & \\beta_k \\end{bmatrix}^\\top$$\n",
    "\n",
    "and\n",
    "\n",
    "$$\n",
    "\\vec{y} = \\begin{bmatrix} y_1 & y_2 & y_3 ... & y_n\\end{bmatrix}^\\top\n",
    "$$\n",
    "\n",
    "We are modeling the probability that $y = 1$ given the values $\\vec{x}$ for our features as\n",
    "\n",
    "$$\n",
    "p_{\\vec{\\beta}}(\\vec{x}) = \\sigma(\\vec{\\beta} \\cdot \\vec{x})\n",
    "$$\n",
    "\n",
    "Introducing a bit more notation, let $X$ be the $N$ by $k+1$ matrix\n",
    "\n",
    "$$\n",
    "X = \\begin{bmatrix}\n",
    "1 & x_{11} & x_{12} & ... & x_{1k}\\\\\n",
    "  &        & \\vdots &     &       \\\\\n",
    "1 & x_{N1} & x_{N2} & ... & x_{Nk}\\\\\n",
    "\\end{bmatrix}\n",
    "$$\n",
    "\n",
    "In the following formula when we apply $\\log$ or $\\sigma$ to a vector or matrix,  understand this as applying the function to each coordinate.  $\\vec{1}$ stands for a vector of ones of the appropriate dimension.  $\\textrm{diag}(\\vec{v})$ is the square matrix whose diagonal is the vector $v$ and $\\textrm{diag}(A)$ is the diagonal vector of the matrix $A$.  $\\odot$ is element-wise multiplication, $\\oslash$ is element-wise division.\n",
    "\n",
    "We will fit this model by minimizing the binary cross-entropy.  \n",
    "\n",
    "$$\n",
    "\\begin{align*}\n",
    "\\ell(\\vec{\\beta}) &= - \\left( \\vec{y} \\cdot \\log(\\sigma(X \\vec{\\beta}))  + ( \\vec{1} - \\vec{y}) \\cdot \\log(1- \\sigma(X \\vec{\\beta}))\\right)\\\\\n",
    "&=- \\left( \\vec{y} \\cdot \\log(\\sigma(X \\vec{\\beta}))  + ( \\vec{1} - \\vec{y}) \\cdot \\log(\\sigma( -X \\vec{\\beta}))\\right) \\textrm{ since $1-\\sigma(t) = \\sigma(-t)$}\\\\\n",
    "&= -\\vec{y} \\cdot \\log(\\sigma(X \\vec{\\beta}))  + ( \\vec{y} - \\vec{1}) \\cdot \\log(\\sigma( -X \\vec{\\beta}))\n",
    "\\end{align*}\n",
    "$$\n",
    "\n",
    "We compute $\\nabla \\ell$ as follows:\n",
    "\n",
    "$$\n",
    "\\begin{align*}\n",
    "\\nabla \\ell(\\vec{\\beta}) \n",
    "&= - X^\\top \\left( \\vec{y} \\oslash \\sigma(X \\vec{\\beta}) \\right) \\odot \\sigma(X \\vec{\\beta}) \\odot \\sigma(-X \\vec{\\beta}) - X^\\top \\left( ((\\vec{y} - \\vec{1}) \\oslash \\sigma(-X \\vec{\\beta})) \\odot \\sigma(-X\\vec{\\beta}) \\odot \\sigma(X \\vec{\\beta})\\right)\\\\\n",
    "&= -X^\\top \\left( \\vec{y} \\odot \\sigma(X \\vec{\\beta}) + (\\vec{y} - \\vec{1}) \\odot \\sigma(X \\vec{\\beta}) \\right)\\\\\n",
    "&= -X^\\top \\left( \\vec{y} \\odot (\\sigma(X \\vec{\\beta}) + \\sigma(-X \\vec{\\beta})) - \\sigma(X\\vec{\\beta})\\right)\\\\\n",
    "&= X^\\top \\left( \\sigma(X\\vec{\\beta}) - \\vec{y} \\right) \\textrm{ since $\\sigma(t) + \\sigma(-t) = 1$}\\\\\n",
    "&= X^\\top \\left( p_{\\vec{\\beta}}(X) - \\vec{y}\\right)\n",
    "\\end{align*}\n",
    "$$\n",
    "\n",
    "As a sanity check, note that this recovers the formula for the gradient of the loss function we obtained in simple logistic regression!\n",
    "\n",
    "\n"
   ]
  },
  {
   "cell_type": "markdown",
   "metadata": {},
   "source": [
    "We now compute the Hessian:\n",
    "\n",
    "$$\n",
    "\\begin{align*}\n",
    "H \n",
    "&= \\frac{\\partial}{\\partial \\vec{\\beta}} \\left( X^\\top \\left( p_{\\vec{\\beta}}(X) - \\vec{y}\\right) \\right)\\\\\n",
    "&= \\frac{\\partial}{\\partial \\vec{\\beta}} \\left( X^\\top \\left( \\sigma(X \\vec{\\beta}) - \\vec{y}\\right) \\right)\\\\\n",
    "&= X^\\top D X\n",
    "\\end{align*}\n",
    "$$\n",
    "\n",
    "where $D$ is the diagonal matrix with entries $\\sigma'(X \\vec{\\beta}) = \\sigma(X \\vec{\\beta}) \\sigma(-X\\vec{\\beta})$.\n",
    "\n",
    "This is clearly positive semidefinite, and so multiple logistic regression is also a convex optimization problem."
   ]
  }
 ],
 "metadata": {
  "kernelspec": {
   "display_name": "base",
   "language": "python",
   "name": "python3"
  },
  "language_info": {
   "codemirror_mode": {
    "name": "ipython",
    "version": 3
   },
   "file_extension": ".py",
   "mimetype": "text/x-python",
   "name": "python",
   "nbconvert_exporter": "python",
   "pygments_lexer": "ipython3",
   "version": "3.10.9"
  },
  "orig_nbformat": 4
 },
 "nbformat": 4,
 "nbformat_minor": 2
}
