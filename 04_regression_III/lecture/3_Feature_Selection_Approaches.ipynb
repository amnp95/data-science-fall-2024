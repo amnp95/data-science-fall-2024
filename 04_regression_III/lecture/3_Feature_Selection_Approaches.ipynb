{
 "cells": [
  {
   "cell_type": "markdown",
   "id": "c62a3fdc",
   "metadata": {},
   "source": [
    "# Feature Selection Approaches\n",
    "\n",
    "In this notebook we will discuss some regression model selection techniques. \n",
    "\n",
    "## What we will accomplish\n",
    "\n",
    "We will:\n",
    "- Work on a problem modeling carseat sales,\n",
    "- Demonstrate an implementation of one algorithm\n",
    "- Discuss two more algorithms which are variations of the one we implement.\n",
    "- Remind ourselves of lasso regression's feature selection usefulness.\n",
    "- Discuss the downsides of automatic feature selection."
   ]
  },
  {
   "cell_type": "code",
   "execution_count": 1,
   "id": "f3102410",
   "metadata": {},
   "outputs": [],
   "source": [
    "## import packages you think you will need here\n",
    "import pandas as pd\n",
    "import numpy as np\n",
    "import matplotlib.pyplot as plt\n",
    "import seaborn as sns\n",
    "\n",
    "sns.set_style(\"whitegrid\")"
   ]
  },
  {
   "cell_type": "markdown",
   "id": "04f13549",
   "metadata": {},
   "source": [
    "## Carseats\n",
    "\n",
    "The data set we will use in this notebook is the `carseats` data set from <a href=\"https://www.statlearning.com/\">An Introduction to Statistical Learning</a> by Gareth James, Daniela Witter, Trevor Hastie and Robert Tibshirani. \n",
    "\n",
    "Let's load the data then describe."
   ]
  },
  {
   "cell_type": "code",
   "execution_count": 2,
   "id": "9ccfe308",
   "metadata": {},
   "outputs": [],
   "source": [
    "## load the data here\n",
    "carseats = pd.read_csv(\"../../data/carseats.csv\")"
   ]
  },
  {
   "cell_type": "code",
   "execution_count": 3,
   "id": "ee68ee9c",
   "metadata": {
    "metadata": {}
   },
   "outputs": [
    {
     "data": {
      "text/html": [
       "<div>\n",
       "<style scoped>\n",
       "    .dataframe tbody tr th:only-of-type {\n",
       "        vertical-align: middle;\n",
       "    }\n",
       "\n",
       "    .dataframe tbody tr th {\n",
       "        vertical-align: top;\n",
       "    }\n",
       "\n",
       "    .dataframe thead th {\n",
       "        text-align: right;\n",
       "    }\n",
       "</style>\n",
       "<table border=\"1\" class=\"dataframe\">\n",
       "  <thead>\n",
       "    <tr style=\"text-align: right;\">\n",
       "      <th></th>\n",
       "      <th>Sales</th>\n",
       "      <th>CompPrice</th>\n",
       "      <th>Income</th>\n",
       "      <th>Advertising</th>\n",
       "      <th>Population</th>\n",
       "      <th>Price</th>\n",
       "      <th>ShelveLoc</th>\n",
       "      <th>Age</th>\n",
       "      <th>Education</th>\n",
       "      <th>Urban</th>\n",
       "      <th>US</th>\n",
       "    </tr>\n",
       "  </thead>\n",
       "  <tbody>\n",
       "    <tr>\n",
       "      <th>92</th>\n",
       "      <td>4.53</td>\n",
       "      <td>114</td>\n",
       "      <td>113</td>\n",
       "      <td>0</td>\n",
       "      <td>97</td>\n",
       "      <td>125</td>\n",
       "      <td>Medium</td>\n",
       "      <td>29</td>\n",
       "      <td>12</td>\n",
       "      <td>Yes</td>\n",
       "      <td>No</td>\n",
       "    </tr>\n",
       "    <tr>\n",
       "      <th>248</th>\n",
       "      <td>5.36</td>\n",
       "      <td>111</td>\n",
       "      <td>52</td>\n",
       "      <td>0</td>\n",
       "      <td>12</td>\n",
       "      <td>101</td>\n",
       "      <td>Medium</td>\n",
       "      <td>61</td>\n",
       "      <td>11</td>\n",
       "      <td>Yes</td>\n",
       "      <td>Yes</td>\n",
       "    </tr>\n",
       "    <tr>\n",
       "      <th>140</th>\n",
       "      <td>6.03</td>\n",
       "      <td>133</td>\n",
       "      <td>60</td>\n",
       "      <td>10</td>\n",
       "      <td>277</td>\n",
       "      <td>129</td>\n",
       "      <td>Medium</td>\n",
       "      <td>45</td>\n",
       "      <td>18</td>\n",
       "      <td>Yes</td>\n",
       "      <td>Yes</td>\n",
       "    </tr>\n",
       "    <tr>\n",
       "      <th>28</th>\n",
       "      <td>2.99</td>\n",
       "      <td>103</td>\n",
       "      <td>74</td>\n",
       "      <td>0</td>\n",
       "      <td>359</td>\n",
       "      <td>97</td>\n",
       "      <td>Bad</td>\n",
       "      <td>55</td>\n",
       "      <td>11</td>\n",
       "      <td>Yes</td>\n",
       "      <td>Yes</td>\n",
       "    </tr>\n",
       "    <tr>\n",
       "      <th>124</th>\n",
       "      <td>8.87</td>\n",
       "      <td>131</td>\n",
       "      <td>113</td>\n",
       "      <td>0</td>\n",
       "      <td>181</td>\n",
       "      <td>120</td>\n",
       "      <td>Good</td>\n",
       "      <td>63</td>\n",
       "      <td>14</td>\n",
       "      <td>Yes</td>\n",
       "      <td>No</td>\n",
       "    </tr>\n",
       "  </tbody>\n",
       "</table>\n",
       "</div>"
      ],
      "text/plain": [
       "     Sales  CompPrice  Income  Advertising  Population  Price ShelveLoc  Age  \\\n",
       "92    4.53        114     113            0          97    125    Medium   29   \n",
       "248   5.36        111      52            0          12    101    Medium   61   \n",
       "140   6.03        133      60           10         277    129    Medium   45   \n",
       "28    2.99        103      74            0         359     97       Bad   55   \n",
       "124   8.87        131     113            0         181    120      Good   63   \n",
       "\n",
       "     Education Urban   US  \n",
       "92          12   Yes   No  \n",
       "248         11   Yes  Yes  \n",
       "140         18   Yes  Yes  \n",
       "28          11   Yes  Yes  \n",
       "124         14   Yes   No  "
      ]
     },
     "execution_count": 3,
     "metadata": {},
     "output_type": "execute_result"
    }
   ],
   "source": [
    "carseats.sample(5, random_state=513)"
   ]
  },
  {
   "cell_type": "markdown",
   "id": "6416da53",
   "metadata": {},
   "source": [
    "This synthetic data set provides the `Sales` of carseats at various locations (our variable of interest, $y$) along with a set of features of interest that may be predictive of `Sales` including:\n",
    "- `CompPrice`: the price charged by competitor at each location,\n",
    "- `Income`: community income level (in thousands of dollars),\n",
    "- `Advertising`: local advertising budget for company at each location (in thousands of dollars),\n",
    "- `Population`: population size in region (in thousands),\n",
    "- `Price`: price company charges for car seats at each site,\n",
    "- `ShelveLoc`: A factor with levels `Bad`, `Good` and `Medium` indicating the quality of the shelving location for the car seats at each site,\n",
    "- `Age`: Average age of the local population,\n",
    "- `Education`: Education level at each location,\n",
    "- `Urban`: A factor with levels `No` and `Yes` to indicate whether the store is in an urban or rural location and\n",
    "- `US`: A factor with levels No and Yes to indicate whether the store is in the US or not.\n",
    "\n",
    "More information on the data set can be found here, <a href=\"https://cran.r-project.org/web/packages/ISLR/ISLR.pdf\">https://cran.r-project.org/web/packages/ISLR/ISLR.pdf</a>.\n",
    "\n",
    "Before moving on we will do some cleaning."
   ]
  },
  {
   "cell_type": "code",
   "execution_count": 4,
   "id": "2aa72e8f",
   "metadata": {},
   "outputs": [],
   "source": [
    "from sklearn.model_selection import train_test_split"
   ]
  },
  {
   "cell_type": "code",
   "execution_count": 5,
   "id": "db4a07ab",
   "metadata": {},
   "outputs": [],
   "source": [
    "## Making dummies\n",
    "carseats[['ShelveLoc_Good', 'ShelveLoc_Bad']] = pd.get_dummies(carseats['ShelveLoc'])[['Good', 'Bad']]\n",
    "carseats.loc[carseats.US=='Yes', 'US'] = 1\n",
    "carseats.loc[carseats.US=='No', 'US'] = 0\n",
    "carseats.loc[carseats.Urban=='Yes', 'Urban'] = 1\n",
    "carseats.loc[carseats.Urban=='No', 'Urban'] = 0\n",
    "\n",
    "\n",
    "## make a train test split here\n",
    "car_train, car_test = train_test_split(carseats.copy(),\n",
    "                                          random_state = 8675309,\n",
    "                                          shuffle = True,\n",
    "                                          test_size = .8)"
   ]
  },
  {
   "cell_type": "markdown",
   "id": "8029ea18",
   "metadata": {},
   "source": [
    "## Exploratory data analysis\n",
    "\n",
    "One of the first steps in feature selection you may attempt is exploratory data analysis.\n",
    "\n",
    "Note that this approach is not always possible, but in this setting the number of features we have is not prohibitively large. We will make a couple of plots now and examine any relationship between `Sales` and the features."
   ]
  },
  {
   "cell_type": "code",
   "execution_count": 6,
   "id": "5142ed19",
   "metadata": {
    "metadata": {}
   },
   "outputs": [
    {
     "data": {
      "text/plain": [
       "Index(['Sales', 'CompPrice', 'Income', 'Advertising', 'Population', 'Price',\n",
       "       'ShelveLoc', 'Age', 'Education', 'Urban', 'US', 'ShelveLoc_Good',\n",
       "       'ShelveLoc_Bad'],\n",
       "      dtype='object')"
      ]
     },
     "execution_count": 6,
     "metadata": {},
     "output_type": "execute_result"
    }
   ],
   "source": [
    "car_train.columns"
   ]
  },
  {
   "cell_type": "code",
   "execution_count": 7,
   "id": "b805d1b1",
   "metadata": {
    "metadata": {}
   },
   "outputs": [
    {
     "data": {
      "image/png": "[encoded data removed]",
      "text/plain": [
       "<Figure size 1349.38x250 with 6 Axes>"
      ]
     },
     "metadata": {},
     "output_type": "display_data"
    }
   ],
   "source": [
    "## One potential plot of interest is a pairplot\n",
    "## https://seaborn.pydata.org/examples/scatterplot_matrix.html\n",
    "sns.pairplot(\n",
    "                data=car_train,\n",
    "                x_vars=['Sales','CompPrice','Income', 'Advertising', 'Population'],\n",
    "                y_vars=['Sales'],\n",
    "                hue='ShelveLoc'\n",
    "            )\n",
    "\n",
    "plt.show()"
   ]
  },
  {
   "cell_type": "code",
   "execution_count": 8,
   "id": "71ef950a",
   "metadata": {
    "metadata": {}
   },
   "outputs": [
    {
     "data": {
      "image/png": "[encoded data removed]",
      "text/plain": [
       "<Figure size 1349.38x250 with 5 Axes>"
      ]
     },
     "metadata": {},
     "output_type": "display_data"
    }
   ],
   "source": [
    "sns.pairplot(\n",
    "                data = car_train,\n",
    "                x_vars=['Price', 'Age', 'Education','Urban', 'US'],\n",
    "                y_vars=['Sales'],\n",
    "                hue='ShelveLoc')\n",
    "\n",
    "plt.show()"
   ]
  },
  {
   "cell_type": "markdown",
   "id": "b66b9906",
   "metadata": {},
   "source": [
    "From these plots it seems that the following variables may have some association with `Sales`:\n",
    "\n",
    "- `ShelveLoc` certainly does\n",
    "- `Price` certainly does\n",
    "- `Advertising`,`Population`, and `US` look quite weak, but we might consider them.\n",
    "\n",
    "These would be good parameters to play around as a first step in modeling."
   ]
  },
  {
   "cell_type": "markdown",
   "id": "bc8525c0",
   "metadata": {},
   "source": [
    "### Side Note: Why make plots?\n",
    "\n",
    "You may ask:\n",
    "\n",
    "> Why bother making plots at all?  Wouldn't it be better to automate the process using summary statistics?\n",
    "\n",
    "The statistical equivalent of \"a picture is worth a thousand words\" is \"a good plot is worth 1000 summary statistics\".  \n",
    "\n",
    "A famous example is [Anscombe's quartet](https://en.wikipedia.org/wiki/Anscombes_quartet) which we reproduce here from Wikipedia:\n",
    "\n",
    "<p align = \"center\">\n",
    "<img src = \"lecture_5_assets/quartet.png\" width = \"600\"/>\n",
    "</p>\n",
    "\n",
    "<p align = \"center\">\n",
    "<img src = \"lecture_5_assets/quartet_stats.png\" width = \"600\"/>\n",
    "</p>"
   ]
  },
  {
   "cell_type": "markdown",
   "id": "5d7ebbce",
   "metadata": {},
   "source": [
    "## Best subsets selection\n",
    "\n",
    "The first feature selection algorithm we will examine is known as <i>best subsets selection</i>. This is a brute force algorithm that will look at every possible model from a set of features. For example if the features were: `CompPrice` and `Advertising`, best subsets selection would test all of the following models:\n",
    "\n",
    "$$\n",
    "\\text{Sales} = E(\\text{Sales}) + \\epsilon\n",
    "$$\n",
    "\n",
    "$$\n",
    "\\text{Sales} = \\beta_0 + \\beta_1 \\text{CompPrice} + \\epsilon\n",
    "$$\n",
    "\n",
    "$$\n",
    "\\text{Sales} = \\beta_0 + \\beta_1 \\text{Advertising} + \\epsilon\n",
    "$$\n",
    "\n",
    "$$\n",
    "\\text{Sales} = \\beta_0 + \\beta_1 \\text{CompPrice} + \\beta_2 \\text{Advertising} + \\epsilon\n",
    "$$\n",
    "\n",
    "We will implement this with the following subset of features: `Age`, `CompPrice`, `Advertising`, `Price`, `Population`, `US` and  `ShelveLoc`. <i>Note, I chose a subset of features here because there are a fair amount of features to look at, and I want my code to run reasonably quickly. We will talk more about this after we implement the algorithm</i>."
   ]
  },
  {
   "cell_type": "code",
   "execution_count": 9,
   "id": "5f114eee",
   "metadata": {},
   "outputs": [],
   "source": [
    "## Import KFold\n",
    "from sklearn.model_selection import KFold\n",
    "\n",
    "## Import LinearRegression\n",
    "from sklearn.linear_model import LinearRegression"
   ]
  },
  {
   "cell_type": "code",
   "execution_count": 10,
   "id": "37e1ddd5",
   "metadata": {},
   "outputs": [],
   "source": [
    "# This returns the power set of a set minus the empty set.  \n",
    "# Credit to Erdős alumni Nadir Hajouji for greatly simplifying this function!\n",
    "\n",
    "def powerset(s):\n",
    "    power_set = [[]]\n",
    "    for x in s:\n",
    "        power_set += [s0+[x] for s0 in power_set]\n",
    "    return power_set[1:]"
   ]
  },
  {
   "cell_type": "code",
   "execution_count": 11,
   "id": "8baeb71f",
   "metadata": {
    "metadata": {}
   },
   "outputs": [
    {
     "data": {
      "text/plain": [
       "[['CompPrice'], ['Advertising'], ['CompPrice', 'Advertising']]"
      ]
     },
     "execution_count": 11,
     "metadata": {},
     "output_type": "execute_result"
    }
   ],
   "source": [
    "## demonstrate powerset\n",
    "powerset([\"CompPrice\", \"Advertising\"])"
   ]
  },
  {
   "cell_type": "code",
   "execution_count": 12,
   "id": "b10154c7",
   "metadata": {
    "metadata": {}
   },
   "outputs": [
    {
     "data": {
      "text/plain": [
       "[[1], [2], [1, 2], [3], [1, 3], [2, 3], [1, 2, 3]]"
      ]
     },
     "execution_count": 12,
     "metadata": {},
     "output_type": "execute_result"
    }
   ],
   "source": [
    "powerset([1,2,3])"
   ]
  },
  {
   "cell_type": "code",
   "execution_count": 13,
   "id": "245bbc4b",
   "metadata": {},
   "outputs": [],
   "source": [
    "## import mse\n",
    "## https://scikit-learn.org/stable/modules/generated/sklearn.metrics.mean_squared_error.html\n",
    "from sklearn.metrics import mean_squared_error"
   ]
  },
  {
   "cell_type": "code",
   "execution_count": 14,
   "id": "3c488440",
   "metadata": {},
   "outputs": [],
   "source": [
    "## Make kfold object\n",
    "kfold = KFold(n_splits=5, \n",
    "              shuffle=True, \n",
    "              random_state = 5309)"
   ]
  },
  {
   "cell_type": "code",
   "execution_count": 15,
   "id": "ace9582b",
   "metadata": {},
   "outputs": [],
   "source": [
    "## get all models we're interested in\n",
    "models = powerset([\"Age\", \"CompPrice\", \"Advertising\", \"Price\", \"Population\", \"US\", \"ShelveLoc\"])\n",
    "\n",
    "## This loop changes the \"ShelveLoc\" option into its dummy variable equivalent\n",
    "for i in range(len(models)):\n",
    "    if \"ShelveLoc\" in models[i]:\n",
    "        models[i] = [feature for feature in models[i] if feature != \"ShelveLoc\"]\n",
    "        models[i].extend([\"ShelveLoc_Good\", \"ShelveLoc_Bad\"])\n",
    "\n",
    "## This is the baseline model\n",
    "models.append(\"baseline\")\n",
    "\n",
    "\n",
    "## make empty mse holder\n",
    "cv_mses = np.zeros((5, len(models)))\n",
    "\n",
    "\n",
    "\n",
    "## loop through all splits\n",
    "i = 0\n",
    "for train_index, test_index in kfold.split(car_train):\n",
    "    ## get train and holdout sets\n",
    "    car_train_train = car_train.iloc[train_index]\n",
    "    car_holdout = car_train.iloc[test_index]\n",
    "\n",
    "\n",
    "    ## loop through all models\n",
    "    j = 0\n",
    "    for model in models:\n",
    "        if model == \"baseline\":\n",
    "            car_train_train_mean = car_train_train.Sales.mean()\n",
    "            predict = car_train_train_mean * np.ones(len(car_holdout))\n",
    "            cv_mses[i,j] = mean_squared_error(car_holdout.Sales, predict)\n",
    "        else:\n",
    "            ## make clone\n",
    "            reg = LinearRegression(copy_X = True)\n",
    "        \n",
    "        \n",
    "            ## fit clone\n",
    "            reg.fit(car_train_train[model], car_train_train.Sales)\n",
    "            predict = reg.predict(car_holdout[model])\n",
    "\n",
    "            ## record mse\n",
    "            cv_mses[i,j] = mean_squared_error(car_holdout.Sales, predict)\n",
    "        j=j+1\n",
    "    i=i+1  "
   ]
  },
  {
   "cell_type": "code",
   "execution_count": 16,
   "id": "b5a60cf4",
   "metadata": {
    "metadata": {}
   },
   "outputs": [
    {
     "data": {
      "text/plain": [
       "110"
      ]
     },
     "execution_count": 16,
     "metadata": {},
     "output_type": "execute_result"
    }
   ],
   "source": [
    "## Which one had the smallest avg cv mse?\n",
    "np.argmin(np.mean(cv_mses, axis=0))"
   ]
  },
  {
   "cell_type": "code",
   "execution_count": 17,
   "id": "88201131",
   "metadata": {
    "metadata": {}
   },
   "outputs": [
    {
     "name": "stdout",
     "output_type": "stream",
     "text": [
      "The model with lowest mean cv mse included the features ['Age', 'CompPrice', 'Advertising', 'Price', 'US', 'ShelveLoc_Good', 'ShelveLoc_Bad'] and had an avg cv mse of 1.2663800213235574\n"
     ]
    }
   ],
   "source": [
    "## which model had lowest mean mse?\n",
    "print(\"The model with lowest mean cv mse included the features\", \n",
    "      models[np.argmin(np.mean(cv_mses, axis=0))],\n",
    "      \"and had an avg cv mse of\",\n",
    "      np.mean(cv_mses, axis=0)[np.argmin(np.mean(cv_mses, axis=0))])"
   ]
  },
  {
   "cell_type": "code",
   "execution_count": 18,
   "id": "5633b9e7",
   "metadata": {
    "metadata": {}
   },
   "outputs": [
    {
     "data": {
      "text/plain": [
       "6.854057470703125"
      ]
     },
     "execution_count": 18,
     "metadata": {},
     "output_type": "execute_result"
    }
   ],
   "source": [
    "# Baseline model mean mse\n",
    "np.mean(cv_mses, axis=0)[-1]"
   ]
  },
  {
   "cell_type": "markdown",
   "id": "8a381c94",
   "metadata": {},
   "source": [
    "#### Getting greedy\n",
    "\n",
    "Best subsets is not always the best approach because of the sheer number of models you may have to check. Suppose you are testing out $m$ possible features, then best subsets will have to fit and assess $2^m$ models. That gets out of hand quickly. Let's discuss two possible alternate approaches that may be faster because they are <i>greedy</i>, meaning that they make decisions based on what will most improve model performance in the very next step. Such approaches are called greedy because they only care about getting as much as possible in that step, sometimes at the cost of overall performance.\n",
    "\n",
    "We will now describe, but not code up, <i>forwards selection</i> and <i>backwards selection</i>.\n",
    "\n",
    "\n",
    "##### Forwards selection\n",
    "\n",
    "\n",
    "Suppose you are interested in the performance of a regression model that may include any one of $m$ possible features.\n",
    "\n",
    "- Step 0: Fit the baseline model, record the average cv mse\n",
    "\n",
    "- Step 1: Fit each of the $m$ possible simple linear regression models and calculate their avg. cv mses:\n",
    "    - if none of them outperform the baseline, you are done,\n",
    "    - else, choose the one with lowest avg. cv mse, this is now your default model.\n",
    "    \n",
    "- Step $l$: Loop through each of the $m-l$ features not included in the default model, fit the regression model that includes them, calculate the avg. cv mse:\n",
    "    - if none of them outperform the current default model, you are done,\n",
    "    - else, choose the one with lowest avg. cv mse, this is now your default model.\n",
    "    \n",
    "\n",
    "##### Backwards selection\n",
    "\n",
    "This approach is essentially the reverse of forwards selection, again suppose you have $m$ possible features.\n",
    "\n",
    "- Step 0: Fit the linear regression model that includes all $m$ features, this is now your default model.\n",
    "\n",
    "- Step 1: Fit each of the $m$ linear regression model that has removed exactly one of those $m$ features, calculate the resulting avg. cv mse:\n",
    "    - if none of them outperform the default model, you are done,\n",
    "    - else, choose the one with lowest avg. cv mse, this is now your default model.\n",
    "    \n",
    "- Step $l$: Loop through each of the $m-(l-1)$ features still included in the default model, fit the resulting regression model and record the avg. cv mse:\n",
    "    - if none of these models outperform the default model, you are done,\n",
    "    - else, choose the one with lowest avg. cv mse, this is now your default model.\n",
    "    \n",
    "Either approach will terminate in at most $m!$ steps."
   ]
  },
  {
   "cell_type": "markdown",
   "id": "0aa5b7a2",
   "metadata": {},
   "source": [
    "## A cautionary note\n",
    "\n",
    "Algorithmic approaches can sometimes fail to select appropriate features.  \n",
    "\n",
    "In the following case, Forwards Selection would most likely stop at step 1 (no improvement over baseline), while using two features is a huge improvement."
   ]
  },
  {
   "cell_type": "code",
   "execution_count": 19,
   "id": "77209f98",
   "metadata": {},
   "outputs": [],
   "source": [
    "# Creating two correlated features x0 and x1.  x0 is approximately equal to x1.\n",
    "x0 = np.random.uniform(0,1,size = (100,1))\n",
    "x1 = x0 + 0.1*np.random.standard_normal(size = (100,1))\n",
    "X =np.zeros((100,2))\n",
    "X[:,0] = x0[:,0]\n",
    "X[:,1] = x1[:,0]\n",
    "\n",
    "# y will appear to be random noise when regressed on either x0 or x1 alone\n",
    "# however we are aware that y *is* a linear function of the two parameters jointly.\n",
    "y = (x1 - x0).reshape(100)"
   ]
  },
  {
   "cell_type": "code",
   "execution_count": 20,
   "id": "b0c7ee2b",
   "metadata": {
    "metadata": {}
   },
   "outputs": [
    {
     "data": {
      "text/plain": [
       "(array([-0.00205305]), array([0.12004921]), array([-1.,  1.]))"
      ]
     },
     "execution_count": 20,
     "metadata": {},
     "output_type": "execute_result"
    }
   ],
   "source": [
    "from sklearn.linear_model import LinearRegression\n",
    "\n",
    "slr0 = LinearRegression()\n",
    "slr1 = LinearRegression()\n",
    "mlr = LinearRegression()\n",
    "\n",
    "slr0.fit(x0, y)\n",
    "slr1.fit(x1,y)\n",
    "mlr.fit(X, y)\n",
    "\n",
    "# slr1 and slr2 are small, while mlr actually recovers the true coefficients exactly!\n",
    "slr0.coef_, slr1.coef_, mlr.coef_"
   ]
  },
  {
   "cell_type": "markdown",
   "id": "156c9e2b",
   "metadata": {},
   "source": [
    "## A lasso reminder\n",
    "\n",
    "The other algorithmic approach we will touch on is lasso regression.\n",
    "\n",
    "Recall from our Regularization that lasso can be used for feature selection by slowly increasing the value of the hyperparameter $\\alpha$ and observing the persistence of the coefficients (i.e. which coefficients stay above $0$ the longest?). \n",
    "\n",
    "We will now demonstrate this for the `carseats` data set and all of the possible features."
   ]
  },
  {
   "cell_type": "code",
   "execution_count": 21,
   "id": "ba73b703",
   "metadata": {},
   "outputs": [],
   "source": [
    "from sklearn.linear_model import Lasso\n",
    "from sklearn.preprocessing import StandardScaler"
   ]
  },
  {
   "cell_type": "code",
   "execution_count": 22,
   "id": "80edf695",
   "metadata": {},
   "outputs": [],
   "source": [
    "alphas = [0.000001,.00001,.0001,.001,.01,.1,.25,.5,.75,1,5,10,25,50,100,1000,10000]\n",
    "features = ['CompPrice', 'Income', 'Advertising', 'Population', 'Price',\n",
    "               'Age', 'Education', 'Urban', 'US', 'ShelveLoc_Good', 'ShelveLoc_Bad']\n",
    "\n",
    "## make coefficient holder\n",
    "coefs = np.zeros((len(alphas), len(features)))\n",
    "\n",
    "## scale quantitative variables\n",
    "car_train_array = car_train[features].to_numpy()\n",
    "\n",
    "scaler = StandardScaler()\n",
    "\n",
    "## These are the features that need to be scaled\n",
    "## 'CompPrice', 'Income', 'Advertising', 'Population', 'Price', 'Age', 'Education'\n",
    "scale_columns = [0,1,2,3,4,5,6]\n",
    "car_train_array_scaled = car_train_array.copy()\n",
    "car_train_array_scaled[:,scale_columns] = scaler.fit_transform(car_train_array_scaled[:,scale_columns])\n",
    "\n",
    "\n",
    "## Loop through alphas\n",
    "for i in range(len(alphas)):\n",
    "    ## make lasso model\n",
    "    lasso = Lasso(alpha=alphas[i], max_iter=10000000)\n",
    "    \n",
    "    \n",
    "    ## fit model\n",
    "    lasso.fit(car_train_array_scaled, car_train.Sales.values)\n",
    "    \n",
    "    ## record coefs\n",
    "    coefs[i,:] = lasso.coef_\n",
    "    "
   ]
  },
  {
   "cell_type": "code",
   "execution_count": 23,
   "id": "813921a8",
   "metadata": {
    "metadata": {}
   },
   "outputs": [
    {
     "data": {
      "text/html": [
       "<div>\n",
       "<style scoped>\n",
       "    .dataframe tbody tr th:only-of-type {\n",
       "        vertical-align: middle;\n",
       "    }\n",
       "\n",
       "    .dataframe tbody tr th {\n",
       "        vertical-align: top;\n",
       "    }\n",
       "\n",
       "    .dataframe thead th {\n",
       "        text-align: right;\n",
       "    }\n",
       "</style>\n",
       "<table border=\"1\" class=\"dataframe\">\n",
       "  <thead>\n",
       "    <tr style=\"text-align: right;\">\n",
       "      <th></th>\n",
       "      <th>CompPrice</th>\n",
       "      <th>Income</th>\n",
       "      <th>Advertising</th>\n",
       "      <th>Population</th>\n",
       "      <th>Price</th>\n",
       "      <th>Age</th>\n",
       "      <th>Education</th>\n",
       "      <th>Urban</th>\n",
       "      <th>US</th>\n",
       "      <th>ShelveLoc_Good</th>\n",
       "      <th>ShelveLoc_Bad</th>\n",
       "    </tr>\n",
       "  </thead>\n",
       "  <tbody>\n",
       "    <tr>\n",
       "      <th>0.000001</th>\n",
       "      <td>1.023234</td>\n",
       "      <td>0.388901</td>\n",
       "      <td>0.623973</td>\n",
       "      <td>-0.023427</td>\n",
       "      <td>-2.263429</td>\n",
       "      <td>-0.718449</td>\n",
       "      <td>-0.248514</td>\n",
       "      <td>0.068788</td>\n",
       "      <td>0.523449</td>\n",
       "      <td>2.549877</td>\n",
       "      <td>-2.156313</td>\n",
       "    </tr>\n",
       "    <tr>\n",
       "      <th>0.000010</th>\n",
       "      <td>1.023212</td>\n",
       "      <td>0.388913</td>\n",
       "      <td>0.624014</td>\n",
       "      <td>-0.023426</td>\n",
       "      <td>-2.263395</td>\n",
       "      <td>-0.718433</td>\n",
       "      <td>-0.248504</td>\n",
       "      <td>0.068705</td>\n",
       "      <td>0.523352</td>\n",
       "      <td>2.549843</td>\n",
       "      <td>-2.156247</td>\n",
       "    </tr>\n",
       "    <tr>\n",
       "      <th>0.000100</th>\n",
       "      <td>1.022916</td>\n",
       "      <td>0.388972</td>\n",
       "      <td>0.624268</td>\n",
       "      <td>-0.023393</td>\n",
       "      <td>-2.263017</td>\n",
       "      <td>-0.718264</td>\n",
       "      <td>-0.248402</td>\n",
       "      <td>0.067931</td>\n",
       "      <td>0.522623</td>\n",
       "      <td>2.549526</td>\n",
       "      <td>-2.155552</td>\n",
       "    </tr>\n",
       "    <tr>\n",
       "      <th>0.001000</th>\n",
       "      <td>1.019594</td>\n",
       "      <td>0.389123</td>\n",
       "      <td>0.625443</td>\n",
       "      <td>-0.022814</td>\n",
       "      <td>-2.259004</td>\n",
       "      <td>-0.716543</td>\n",
       "      <td>-0.247453</td>\n",
       "      <td>0.060666</td>\n",
       "      <td>0.517474</td>\n",
       "      <td>2.546405</td>\n",
       "      <td>-2.148544</td>\n",
       "    </tr>\n",
       "    <tr>\n",
       "      <th>0.010000</th>\n",
       "      <td>0.987176</td>\n",
       "      <td>0.389238</td>\n",
       "      <td>0.635769</td>\n",
       "      <td>-0.015845</td>\n",
       "      <td>-2.219569</td>\n",
       "      <td>-0.699688</td>\n",
       "      <td>-0.237945</td>\n",
       "      <td>0.000000</td>\n",
       "      <td>0.467381</td>\n",
       "      <td>2.516888</td>\n",
       "      <td>-2.078389</td>\n",
       "    </tr>\n",
       "    <tr>\n",
       "      <th>0.100000</th>\n",
       "      <td>0.718391</td>\n",
       "      <td>0.309956</td>\n",
       "      <td>0.693190</td>\n",
       "      <td>0.000000</td>\n",
       "      <td>-1.875818</td>\n",
       "      <td>-0.573609</td>\n",
       "      <td>-0.129477</td>\n",
       "      <td>-0.000000</td>\n",
       "      <td>0.000000</td>\n",
       "      <td>2.324382</td>\n",
       "      <td>-1.366074</td>\n",
       "    </tr>\n",
       "    <tr>\n",
       "      <th>0.250000</th>\n",
       "      <td>0.233397</td>\n",
       "      <td>0.112610</td>\n",
       "      <td>0.531734</td>\n",
       "      <td>0.000000</td>\n",
       "      <td>-1.287787</td>\n",
       "      <td>-0.364968</td>\n",
       "      <td>-0.000000</td>\n",
       "      <td>-0.000000</td>\n",
       "      <td>0.000000</td>\n",
       "      <td>1.911973</td>\n",
       "      <td>-0.296599</td>\n",
       "    </tr>\n",
       "    <tr>\n",
       "      <th>0.500000</th>\n",
       "      <td>0.000000</td>\n",
       "      <td>0.000000</td>\n",
       "      <td>0.322944</td>\n",
       "      <td>0.000000</td>\n",
       "      <td>-0.718104</td>\n",
       "      <td>-0.001605</td>\n",
       "      <td>-0.000000</td>\n",
       "      <td>-0.000000</td>\n",
       "      <td>0.000000</td>\n",
       "      <td>0.618346</td>\n",
       "      <td>-0.000000</td>\n",
       "    </tr>\n",
       "    <tr>\n",
       "      <th>0.750000</th>\n",
       "      <td>0.000000</td>\n",
       "      <td>0.000000</td>\n",
       "      <td>0.098326</td>\n",
       "      <td>0.000000</td>\n",
       "      <td>-0.453317</td>\n",
       "      <td>-0.000000</td>\n",
       "      <td>-0.000000</td>\n",
       "      <td>-0.000000</td>\n",
       "      <td>0.000000</td>\n",
       "      <td>0.000000</td>\n",
       "      <td>-0.000000</td>\n",
       "    </tr>\n",
       "    <tr>\n",
       "      <th>1.000000</th>\n",
       "      <td>-0.000000</td>\n",
       "      <td>0.000000</td>\n",
       "      <td>0.000000</td>\n",
       "      <td>0.000000</td>\n",
       "      <td>-0.208194</td>\n",
       "      <td>-0.000000</td>\n",
       "      <td>-0.000000</td>\n",
       "      <td>-0.000000</td>\n",
       "      <td>0.000000</td>\n",
       "      <td>0.000000</td>\n",
       "      <td>-0.000000</td>\n",
       "    </tr>\n",
       "    <tr>\n",
       "      <th>5.000000</th>\n",
       "      <td>-0.000000</td>\n",
       "      <td>0.000000</td>\n",
       "      <td>0.000000</td>\n",
       "      <td>0.000000</td>\n",
       "      <td>-0.000000</td>\n",
       "      <td>-0.000000</td>\n",
       "      <td>-0.000000</td>\n",
       "      <td>-0.000000</td>\n",
       "      <td>0.000000</td>\n",
       "      <td>0.000000</td>\n",
       "      <td>-0.000000</td>\n",
       "    </tr>\n",
       "    <tr>\n",
       "      <th>10.000000</th>\n",
       "      <td>-0.000000</td>\n",
       "      <td>0.000000</td>\n",
       "      <td>0.000000</td>\n",
       "      <td>0.000000</td>\n",
       "      <td>-0.000000</td>\n",
       "      <td>-0.000000</td>\n",
       "      <td>-0.000000</td>\n",
       "      <td>-0.000000</td>\n",
       "      <td>0.000000</td>\n",
       "      <td>0.000000</td>\n",
       "      <td>-0.000000</td>\n",
       "    </tr>\n",
       "    <tr>\n",
       "      <th>25.000000</th>\n",
       "      <td>-0.000000</td>\n",
       "      <td>0.000000</td>\n",
       "      <td>0.000000</td>\n",
       "      <td>0.000000</td>\n",
       "      <td>-0.000000</td>\n",
       "      <td>-0.000000</td>\n",
       "      <td>-0.000000</td>\n",
       "      <td>-0.000000</td>\n",
       "      <td>0.000000</td>\n",
       "      <td>0.000000</td>\n",
       "      <td>-0.000000</td>\n",
       "    </tr>\n",
       "    <tr>\n",
       "      <th>50.000000</th>\n",
       "      <td>-0.000000</td>\n",
       "      <td>0.000000</td>\n",
       "      <td>0.000000</td>\n",
       "      <td>0.000000</td>\n",
       "      <td>-0.000000</td>\n",
       "      <td>-0.000000</td>\n",
       "      <td>-0.000000</td>\n",
       "      <td>-0.000000</td>\n",
       "      <td>0.000000</td>\n",
       "      <td>0.000000</td>\n",
       "      <td>-0.000000</td>\n",
       "    </tr>\n",
       "    <tr>\n",
       "      <th>100.000000</th>\n",
       "      <td>-0.000000</td>\n",
       "      <td>0.000000</td>\n",
       "      <td>0.000000</td>\n",
       "      <td>0.000000</td>\n",
       "      <td>-0.000000</td>\n",
       "      <td>-0.000000</td>\n",
       "      <td>-0.000000</td>\n",
       "      <td>-0.000000</td>\n",
       "      <td>0.000000</td>\n",
       "      <td>0.000000</td>\n",
       "      <td>-0.000000</td>\n",
       "    </tr>\n",
       "    <tr>\n",
       "      <th>1000.000000</th>\n",
       "      <td>-0.000000</td>\n",
       "      <td>0.000000</td>\n",
       "      <td>0.000000</td>\n",
       "      <td>0.000000</td>\n",
       "      <td>-0.000000</td>\n",
       "      <td>-0.000000</td>\n",
       "      <td>-0.000000</td>\n",
       "      <td>-0.000000</td>\n",
       "      <td>0.000000</td>\n",
       "      <td>0.000000</td>\n",
       "      <td>-0.000000</td>\n",
       "    </tr>\n",
       "    <tr>\n",
       "      <th>10000.000000</th>\n",
       "      <td>-0.000000</td>\n",
       "      <td>0.000000</td>\n",
       "      <td>0.000000</td>\n",
       "      <td>0.000000</td>\n",
       "      <td>-0.000000</td>\n",
       "      <td>-0.000000</td>\n",
       "      <td>-0.000000</td>\n",
       "      <td>-0.000000</td>\n",
       "      <td>0.000000</td>\n",
       "      <td>0.000000</td>\n",
       "      <td>-0.000000</td>\n",
       "    </tr>\n",
       "  </tbody>\n",
       "</table>\n",
       "</div>"
      ],
      "text/plain": [
       "              CompPrice    Income  Advertising  Population     Price  \\\n",
       "0.000001       1.023234  0.388901     0.623973   -0.023427 -2.263429   \n",
       "0.000010       1.023212  0.388913     0.624014   -0.023426 -2.263395   \n",
       "0.000100       1.022916  0.388972     0.624268   -0.023393 -2.263017   \n",
       "0.001000       1.019594  0.389123     0.625443   -0.022814 -2.259004   \n",
       "0.010000       0.987176  0.389238     0.635769   -0.015845 -2.219569   \n",
       "0.100000       0.718391  0.309956     0.693190    0.000000 -1.875818   \n",
       "0.250000       0.233397  0.112610     0.531734    0.000000 -1.287787   \n",
       "0.500000       0.000000  0.000000     0.322944    0.000000 -0.718104   \n",
       "0.750000       0.000000  0.000000     0.098326    0.000000 -0.453317   \n",
       "1.000000      -0.000000  0.000000     0.000000    0.000000 -0.208194   \n",
       "5.000000      -0.000000  0.000000     0.000000    0.000000 -0.000000   \n",
       "10.000000     -0.000000  0.000000     0.000000    0.000000 -0.000000   \n",
       "25.000000     -0.000000  0.000000     0.000000    0.000000 -0.000000   \n",
       "50.000000     -0.000000  0.000000     0.000000    0.000000 -0.000000   \n",
       "100.000000    -0.000000  0.000000     0.000000    0.000000 -0.000000   \n",
       "1000.000000   -0.000000  0.000000     0.000000    0.000000 -0.000000   \n",
       "10000.000000  -0.000000  0.000000     0.000000    0.000000 -0.000000   \n",
       "\n",
       "                   Age  Education     Urban        US  ShelveLoc_Good  \\\n",
       "0.000001     -0.718449  -0.248514  0.068788  0.523449        2.549877   \n",
       "0.000010     -0.718433  -0.248504  0.068705  0.523352        2.549843   \n",
       "0.000100     -0.718264  -0.248402  0.067931  0.522623        2.549526   \n",
       "0.001000     -0.716543  -0.247453  0.060666  0.517474        2.546405   \n",
       "0.010000     -0.699688  -0.237945  0.000000  0.467381        2.516888   \n",
       "0.100000     -0.573609  -0.129477 -0.000000  0.000000        2.324382   \n",
       "0.250000     -0.364968  -0.000000 -0.000000  0.000000        1.911973   \n",
       "0.500000     -0.001605  -0.000000 -0.000000  0.000000        0.618346   \n",
       "0.750000     -0.000000  -0.000000 -0.000000  0.000000        0.000000   \n",
       "1.000000     -0.000000  -0.000000 -0.000000  0.000000        0.000000   \n",
       "5.000000     -0.000000  -0.000000 -0.000000  0.000000        0.000000   \n",
       "10.000000    -0.000000  -0.000000 -0.000000  0.000000        0.000000   \n",
       "25.000000    -0.000000  -0.000000 -0.000000  0.000000        0.000000   \n",
       "50.000000    -0.000000  -0.000000 -0.000000  0.000000        0.000000   \n",
       "100.000000   -0.000000  -0.000000 -0.000000  0.000000        0.000000   \n",
       "1000.000000  -0.000000  -0.000000 -0.000000  0.000000        0.000000   \n",
       "10000.000000 -0.000000  -0.000000 -0.000000  0.000000        0.000000   \n",
       "\n",
       "              ShelveLoc_Bad  \n",
       "0.000001          -2.156313  \n",
       "0.000010          -2.156247  \n",
       "0.000100          -2.155552  \n",
       "0.001000          -2.148544  \n",
       "0.010000          -2.078389  \n",
       "0.100000          -1.366074  \n",
       "0.250000          -0.296599  \n",
       "0.500000          -0.000000  \n",
       "0.750000          -0.000000  \n",
       "1.000000          -0.000000  \n",
       "5.000000          -0.000000  \n",
       "10.000000         -0.000000  \n",
       "25.000000         -0.000000  \n",
       "50.000000         -0.000000  \n",
       "100.000000        -0.000000  \n",
       "1000.000000       -0.000000  \n",
       "10000.000000      -0.000000  "
      ]
     },
     "execution_count": 23,
     "metadata": {},
     "output_type": "execute_result"
    }
   ],
   "source": [
    "## use dataframe to look at coefs\n",
    "\n",
    "df = pd.DataFrame(data=coefs, index=alphas, columns=features)\n",
    "df"
   ]
  },
  {
   "cell_type": "code",
   "execution_count": 24,
   "id": "fb55b182",
   "metadata": {
    "metadata": {}
   },
   "outputs": [
    {
     "data": {
      "text/plain": [
       "Price             5.00\n",
       "Advertising       1.00\n",
       "Age               0.75\n",
       "ShelveLoc_Good    0.75\n",
       "CompPrice         0.50\n",
       "Income            0.50\n",
       "ShelveLoc_Bad     0.50\n",
       "Education         0.25\n",
       "Population        0.10\n",
       "US                0.10\n",
       "Urban             0.01\n",
       "dtype: float64"
      ]
     },
     "execution_count": 24,
     "metadata": {},
     "output_type": "execute_result"
    }
   ],
   "source": [
    "# This shows the first value of alpha where the parameter for the feature was set to zero.\n",
    "\n",
    "df.ne(0).idxmin().sort_values(ascending=False)"
   ]
  },
  {
   "cell_type": "markdown",
   "id": "cc1c9bb4",
   "metadata": {},
   "source": [
    "This output suggest that we should keep `Price` for sure, then `Advertising`, `Age`, and `ShelveLoc_Good`.\n",
    "\n",
    "**Note**:  I do not advise selecting features using Lasso and then retraining an OLS linear regression model using these Lasso selected features.  These features work well *when the coefficients are regularized* but may not work the best as unregularized features.  You can always try and see in cross validation however!\n",
    "\n",
    "Another downside of Lasso feature selection is that the features selected may be unstable.  For instance, you may see a different set of features being selected in each cross validation split."
   ]
  },
  {
   "cell_type": "markdown",
   "id": "5a476bea",
   "metadata": {},
   "source": [
    "--------------------------\n",
    "\n",
    "This notebook was written for the Erd&#337;s Institute C&#337;de Data Science Boot Camp by Matthew Osborne, Ph. D., 2023.  Modified by Steven Gubkin 2024.\n",
    "\n",
    "Any potential redistributors must seek and receive permission from Matthew Tyler Osborne, Ph.D. prior to redistribution. Redistribution of the material contained in this repository is conditional on acknowledgement of Matthew Tyler Osborne, Ph.D.'s original authorship and sponsorship of the Erdős Institute as subject to the license (see License.md)"
   ]
  }
 ],
 "metadata": {
  "kernelspec": {
   "display_name": "Python 3 (ipykernel)",
   "language": "python",
   "name": "python3"
  },
  "language_info": {
   "codemirror_mode": {
    "name": "ipython",
    "version": 3
   },
   "file_extension": ".py",
   "mimetype": "text/x-python",
   "name": "python",
   "nbconvert_exporter": "python",
   "pygments_lexer": "ipython3",
   "version": "3.11.9"
  }
 },
 "nbformat": 4,
 "nbformat_minor": 5
}
