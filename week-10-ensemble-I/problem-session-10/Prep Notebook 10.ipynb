{
 "cells": [
  {
   "cell_type": "markdown",
   "id": "896da262",
   "metadata": {},
   "source": [
    "# Prep Notebook 10\n",
    "## Classifying Pumpkin Seeds III\n",
    "\n",
    "This optional notebook has a few exercises that can serve as a primer for what to expect in the `Problem Session 10` notebook."
   ]
  },
  {
   "cell_type": "code",
   "execution_count": null,
   "id": "2a1b3cb8",
   "metadata": {},
   "outputs": [],
   "source": [
    "import pandas as pd\n",
    "import numpy as np\n",
    "import matplotlib.pyplot as plt\n",
    "import seaborn as sns\n",
    "\n",
    "sns.set_style(\"whitegrid\")"
   ]
  },
  {
   "cell_type": "markdown",
   "id": "960587a5",
   "metadata": {},
   "source": [
    "#### 1. Making a `DataFrame`\n",
    "\n",
    "Make a `DataFrame` from the `numpy` arrays `apple`, `banana` and `cherry`. Make the column names of the `DataFrame` the same as the given variable names and make the index the list stored in `index_variable`. Sort the values of the `DataFrame` by the `banana` column."
   ]
  },
  {
   "cell_type": "code",
   "execution_count": null,
   "id": "d6459cf2",
   "metadata": {},
   "outputs": [],
   "source": [
    "apple = np.ones(20)\n",
    "banana = np.random.randn(20)\n",
    "cherry = np.random.binomial(5, .4, 20)\n",
    "index_variable = [\"row_\" + str(i) for i in range(1, 21)]"
   ]
  },
  {
   "cell_type": "code",
   "execution_count": null,
   "id": "5f1c93f1",
   "metadata": {},
   "outputs": [],
   "source": [
    "## code here\n"
   ]
  },
  {
   "cell_type": "code",
   "execution_count": null,
   "id": "cabba9f7",
   "metadata": {},
   "outputs": [],
   "source": [
    "## code here\n"
   ]
  },
  {
   "cell_type": "code",
   "execution_count": null,
   "id": "c48edf6e",
   "metadata": {},
   "outputs": [],
   "source": [
    "## code here\n"
   ]
  },
  {
   "cell_type": "markdown",
   "id": "7254dc8b",
   "metadata": {},
   "source": [
    "#### 2. Review problem sessions 8 and 9\n",
    "\n",
    "In `Problem Session 10` we will use what you did in `Problem Session 8` and `Problem Session 9`, review your group's work as well as the complete version."
   ]
  },
  {
   "cell_type": "markdown",
   "id": "043dbb75",
   "metadata": {},
   "source": [
    "#### 3. Reading in an excel file\n",
    "\n",
    "- Read in `Pistachio_16_Features_Dataset.xlsx` from the `data` folder using `pandas`. \n",
    "- Make a column `y` where `y=1` when `Class=\"Kirmizi_Pistachio\"` and `y=0` when `Class=\"Siit_Pistachio\"`\n",
    "- Do a train test split of the data setting $10\\%$ of the data aside for the test set and stratifying on the `Class` column."
   ]
  },
  {
   "cell_type": "code",
   "execution_count": null,
   "id": "27a185f1",
   "metadata": {},
   "outputs": [],
   "source": [
    "## code here\n"
   ]
  },
  {
   "cell_type": "code",
   "execution_count": null,
   "id": "9f1c46d7",
   "metadata": {},
   "outputs": [],
   "source": [
    "## code here\n"
   ]
  },
  {
   "cell_type": "code",
   "execution_count": null,
   "id": "08ce6d45",
   "metadata": {},
   "outputs": [],
   "source": [
    "## code here\n"
   ]
  },
  {
   "cell_type": "code",
   "execution_count": null,
   "id": "3f7afa26",
   "metadata": {},
   "outputs": [],
   "source": [
    "## code here\n"
   ]
  },
  {
   "cell_type": "markdown",
   "id": "943ea054",
   "metadata": {},
   "source": [
    "#### 4. Building a pistachio model\n",
    "\n",
    "##### a.\n",
    "\n",
    "Import `PCA`, `StandardScaler`, `Pipeline` and `KNeighborsClassifier`."
   ]
  },
  {
   "cell_type": "code",
   "execution_count": null,
   "id": "64e4c496",
   "metadata": {},
   "outputs": [],
   "source": [
    "## code here\n"
   ]
  },
  {
   "cell_type": "code",
   "execution_count": null,
   "id": "c773a01f",
   "metadata": {},
   "outputs": [],
   "source": [
    "## code here\n"
   ]
  },
  {
   "cell_type": "markdown",
   "id": "2c7b8123",
   "metadata": {},
   "source": [
    "##### b.\n",
    "\n",
    "Import what you would need to find the optimal average 10-fold cross-validation accuracy for a classification model."
   ]
  },
  {
   "cell_type": "code",
   "execution_count": null,
   "id": "98686892",
   "metadata": {},
   "outputs": [],
   "source": [
    "## code here\n"
   ]
  },
  {
   "cell_type": "code",
   "execution_count": null,
   "id": "0d362165",
   "metadata": {},
   "outputs": [],
   "source": [
    "## code here\n"
   ]
  },
  {
   "cell_type": "markdown",
   "id": "9e83fa89",
   "metadata": {},
   "source": [
    "##### c.\n",
    "\n",
    "Use 10-fold cross-validation to find the optimal number of neighbors (letting $k$ run from 1 to 50) for a $k$ nearest neighbors model using the data after it has been run through PCA as the input data for the model."
   ]
  },
  {
   "cell_type": "code",
   "execution_count": null,
   "id": "cd0ea62a",
   "metadata": {},
   "outputs": [],
   "source": [
    "## code here\n"
   ]
  },
  {
   "cell_type": "code",
   "execution_count": null,
   "id": "19fb6450",
   "metadata": {},
   "outputs": [],
   "source": [
    "## code here\n"
   ]
  },
  {
   "cell_type": "markdown",
   "id": "27b842c9",
   "metadata": {},
   "source": [
    "##### d. \n",
    "\n",
    "Make a plot of the average cross-validation accuracy for each value of $k$ to find the optimal number of neighbors according to this cross-validation."
   ]
  },
  {
   "cell_type": "code",
   "execution_count": null,
   "id": "c92756c0",
   "metadata": {},
   "outputs": [],
   "source": [
    "## code here\n"
   ]
  },
  {
   "cell_type": "code",
   "execution_count": null,
   "id": "b52caf47",
   "metadata": {},
   "outputs": [],
   "source": [
    "## code here\n"
   ]
  },
  {
   "cell_type": "markdown",
   "id": "39e144e6",
   "metadata": {},
   "source": [
    "--------------------------\n",
    "\n",
    "This notebook was written for the Erd&#337;s Institute C&#337;de Data Science Boot Camp by Matthew Osborne, Ph. D., 2023.\n",
    "\n",
    "Any potential redistributors must seek and receive permission from Matthew Tyler Osborne, Ph.D. prior to redistribution. Redistribution of the material contained in this repository is conditional on acknowledgement of Matthew Tyler Osborne, Ph.D.'s original authorship and sponsorship of the Erdős Institute as subject to the license (see License.md)"
   ]
  },
  {
   "cell_type": "code",
   "execution_count": null,
   "id": "f7cb397e",
   "metadata": {},
   "outputs": [],
   "source": []
  }
 ],
 "metadata": {
  "kernelspec": {
   "display_name": "Python 3 (ipykernel)",
   "language": "python",
   "name": "python3"
  },
  "language_info": {
   "codemirror_mode": {
    "name": "ipython",
    "version": 3
   },
   "file_extension": ".py",
   "mimetype": "text/x-python",
   "name": "python",
   "nbconvert_exporter": "python",
   "pygments_lexer": "ipython3",
   "version": "3.9.16"
  }
 },
 "nbformat": 4,
 "nbformat_minor": 5
}
