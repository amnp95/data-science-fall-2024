{
 "cells": [
  {
   "cell_type": "markdown",
   "id": "839dfb7b",
   "metadata": {},
   "source": [
    "# Problem Session 10\n",
    "## Classifying Pumpkin Seeds III\n",
    "\n",
    "In this notebook you will finish your work with the pumpkin seed data from <a href=\"https://link.springer.com/article/10.1007/s10722-021-01226-0\">The use of machine learning methods in classification of pumpkin seeds (Cucurbita pepo L.)</a> by Koklu, Sarigil and Ozbek (2021).\n",
    "\n",
    "\n",
    "The problems in this notebook will cover the content covered in some of our `Classification`, `Dimension Reduction` and our `Ensemble Learning` notebooks. In particular we will cover content touched on in:\n",
    "- `Classification/Support Vector Machines`\n",
    "- `Classification/Decision Trees`,\n",
    "- `Ensemble Learning/Random Forests` and\n",
    "- `Dimension Reduction/Principal Components Analysis`."
   ]
  },
  {
   "cell_type": "code",
   "execution_count": 1,
   "id": "042b4fcb",
   "metadata": {},
   "outputs": [],
   "source": [
    "import pandas as pd\n",
    "import numpy as np\n",
    "import matplotlib.pyplot as plt\n",
    "import seaborn as sns\n",
    "\n",
    "sns.set_style(\"whitegrid\")"
   ]
  },
  {
   "cell_type": "markdown",
   "id": "86c831e6",
   "metadata": {},
   "source": [
    "#### 1. Load and prepare the data\n",
    "\n",
    "Run the code below in order to:\n",
    "\n",
    "- Load the data stored in `Pumpkin_Seeds_Dataset.xlsx` in the `Data` folder,\n",
    "- Create a column `y` where `y=1` if `Class=Ürgüp Sivrisi` and `y=0` if `Class=Çerçevelik` and\n",
    "- Make a train test split setting $10\\%$ of the data aside as a test set."
   ]
  },
  {
   "cell_type": "code",
   "execution_count": 2,
   "id": "4fdddd85",
   "metadata": {},
   "outputs": [],
   "source": [
    "seeds = pd.read_excel(\"../Data/Pumpkin_Seeds_Dataset.xlsx\")\n",
    "\n",
    "seeds['y'] = 0\n",
    "\n",
    "seeds.loc[seeds.Class=='Ürgüp Sivrisi', 'y']=1"
   ]
  },
  {
   "cell_type": "code",
   "execution_count": 3,
   "id": "bbc88ce5",
   "metadata": {},
   "outputs": [],
   "source": [
    "from sklearn.model_selection import train_test_split"
   ]
  },
  {
   "cell_type": "code",
   "execution_count": 4,
   "id": "cec761d2",
   "metadata": {},
   "outputs": [],
   "source": [
    "seeds_train, seeds_test = train_test_split(seeds.copy(),\n",
    "                                              shuffle=True,\n",
    "                                              random_state=123,\n",
    "                                              test_size=.1,\n",
    "                                              stratify=seeds.y.values)"
   ]
  },
  {
   "cell_type": "markdown",
   "id": "9de0f4ca",
   "metadata": {},
   "source": [
    "#### 2. Refresh your memory\n",
    "\n",
    "If you need to refresh your memory on these data and the problem, you may want to look at a small subset of the data, look back on `Problem Session 8` and `Problem Session 9` and/or browse Figure 5 and Table 1 of this paper, <a href=\"pumpkin_seed_paper.pdf\">pumpkin_seed_paper.pdf</a>"
   ]
  },
  {
   "cell_type": "markdown",
   "id": "30200630",
   "metadata": {},
   "source": [
    "#### 3. A support vector machine classifier\n",
    "\n",
    "In this problem you will work to build a support vector classifier on these data. Along the way you will get a closer look at iterative versions of the hyperparameter grid search. \n",
    "\n",
    "##### a.\n",
    "\n",
    "Start by importing the support vector classifier from `sklearn`. Note that these data are not close to being linearly separable so we will not want `LinearSVC`."
   ]
  },
  {
   "cell_type": "code",
   "execution_count": 5,
   "id": "09f3ad84",
   "metadata": {},
   "outputs": [],
   "source": [
    "## code here\n",
    "\n"
   ]
  },
  {
   "cell_type": "markdown",
   "id": "5d52f3ca",
   "metadata": {},
   "source": [
    "##### b.\n",
    "\n",
    "You will now perform hyperparameter tuning on the `C` parameter of the support vector classifier. Fill in the missing pieces of the code below to perform 5-fold cross-validation for different values of `C`."
   ]
  },
  {
   "cell_type": "code",
   "execution_count": 6,
   "id": "04757f7c",
   "metadata": {},
   "outputs": [],
   "source": [
    "## import kfold\n",
    "from sklearn.model_selection import StratifiedKFold\n",
    "\n",
    "## import Pipeline and StandardScaler\n",
    "\n",
    "\n",
    "## import accuracy_score\n",
    "from sklearn.metrics import accuracy_score"
   ]
  },
  {
   "cell_type": "code",
   "execution_count": 7,
   "id": "7c396ca0",
   "metadata": {},
   "outputs": [],
   "source": [
    "## this will isolate the feature columns\n",
    "features = seeds_train.columns[:-2]"
   ]
  },
  {
   "cell_type": "code",
   "execution_count": 8,
   "id": "1bde092d",
   "metadata": {},
   "outputs": [],
   "source": [
    "## set the number of CV folds\n",
    "n_splits = 5\n",
    "\n",
    "## Make the kfold object\n",
    "kfold = StratifiedKFold(n_splits, \n",
    "                        random_state=2013, \n",
    "                        shuffle=True)\n",
    "\n",
    "\n",
    "## the values of C you will try\n",
    "Cs = [.01, .1, 1, 10, 25, 50, 75, 100, 125, 150]\n",
    "\n",
    "## this will hold the CV accuracies\n",
    "C_accs1 = \n",
    "\n",
    "\n",
    "## the cross-validation\n",
    "i = 0\n",
    "for train_index, test_index in kfold.split(seeds_train, seeds_train.y):\n",
    "    seeds_tt = seeds_train.iloc[train_index]\n",
    "    seeds_ho = seeds_train.iloc[test_index]\n",
    "    \n",
    "    j = 0\n",
    "    for C in Cs:\n",
    "        ## Make the pipeline\n",
    "        pipe = \n",
    "    \n",
    "        ## Fit the pipeline\n",
    "        \n",
    "    \n",
    "        ## Predict on the holdout set\n",
    "        pred = \n",
    "\n",
    "        ## record the accuracies\n",
    "        C_accs1[i, j] = \n",
    "        \n",
    "        j = j + 1\n",
    "    i = i + 1"
   ]
  },
  {
   "cell_type": "markdown",
   "id": "8bbf75d0",
   "metadata": {},
   "source": [
    "##### c.\n",
    "\n",
    "Plot the average cross-validation accuracy against the $\\log$ of `C`."
   ]
  },
  {
   "cell_type": "code",
   "execution_count": 9,
   "id": "86fb17a4",
   "metadata": {},
   "outputs": [
    {
     "data": {
      "image/png": "[encoded data removed]",
      "text/plain": [
       "<Figure size 800x600 with 1 Axes>"
      ]
     },
     "metadata": {},
     "output_type": "display_data"
    }
   ],
   "source": [
    "plt.figure(figsize = (8,6))\n",
    "\n",
    "## Fill in the missing code\n",
    "plt.plot(,\n",
    "         , \n",
    "         '-o')\n",
    "\n",
    "plt.xlabel(\"$\\log(C)$\", fontsize=12)\n",
    "plt.ylabel(\"Avg. CV Accuracy\", fontsize=12)\n",
    "plt.xticks(np.arange(-2,3,.5),fontsize=10)\n",
    "plt.yticks(fontsize=10)\n",
    "\n",
    "plt.show()"
   ]
  },
  {
   "cell_type": "markdown",
   "id": "a1a4cbce",
   "metadata": {},
   "source": [
    "##### d.\n",
    "\n",
    "A common thing that is done after one grid search is to do another grid search using values from the previous grid search as the endpoints of the grid. This is done to try and better hone in on the optimal value of the hyperparameter.\n",
    "\n",
    "Create a new grid of `C` values using the plot you made in <i>c.</i> to determine the new endpoints. Then run cross-validation a second time. Plot the average accuracies against `C`."
   ]
  },
  {
   "cell_type": "code",
   "execution_count": 10,
   "id": "0b1730d1",
   "metadata": {},
   "outputs": [],
   "source": [
    "## put in the values of C you will try\n",
    "Cs = np.arange()\n",
    "\n",
    "## this will hold the CV accuracies\n",
    "C_accs2 = np.zeros((n_splits, len(Cs)))\n",
    "\n",
    "\n",
    "## the cross-validation\n",
    "i = 0\n",
    "for train_index, test_index in kfold.split(seeds_train, seeds_train.y):\n",
    "    seeds_tt = seeds_train.iloc[train_index]\n",
    "    seeds_ho = seeds_train.iloc[test_index]\n",
    "    \n",
    "    j = 0\n",
    "    for C in Cs:\n",
    "        pipe = Pipeline([('scale', StandardScaler()),\n",
    "                            ('svm', SVC(C=C))])\n",
    "    \n",
    "        pipe.fit(seeds_tt[features],\n",
    "                    seeds_tt.y)\n",
    "    \n",
    "        pred = pipe.predict(seeds_ho[features])\n",
    "\n",
    "        C_accs2[i, j] = accuracy_score(seeds_ho.y, pred)\n",
    "        \n",
    "        j = j + 1\n",
    "    i = i + 1"
   ]
  },
  {
   "cell_type": "code",
   "execution_count": 11,
   "id": "39fdeccc",
   "metadata": {},
   "outputs": [
    {
     "data": {
      "image/png": "[encoded data removed]",
      "text/plain": [
       "<Figure size 800x600 with 1 Axes>"
      ]
     },
     "metadata": {},
     "output_type": "display_data"
    }
   ],
   "source": [
    "plt.figure(figsize = (8,6))\n",
    "\n",
    "## fill in the missing code here\n",
    "plt.plot(,\n",
    "         ,\n",
    "         '-o')\n",
    "\n",
    "plt.xlabel(\"$C$\", fontsize=12)\n",
    "plt.ylabel(\"Avg. CV Accuracy\", fontsize=12)\n",
    "plt.xticks(fontsize=10)\n",
    "plt.yticks(fontsize=10)\n",
    "\n",
    "plt.show()"
   ]
  },
  {
   "cell_type": "markdown",
   "id": "d17fb648",
   "metadata": {},
   "source": [
    "##### e.\n",
    "\n",
    "What was the optimal value of `C`, what was the average cross-validation accuracy for this value of `C`?"
   ]
  },
  {
   "cell_type": "markdown",
   "id": "a97174a1",
   "metadata": {},
   "source": [
    "##### Write here\n",
    "\n"
   ]
  },
  {
   "cell_type": "markdown",
   "id": "fb918cd7",
   "metadata": {},
   "source": [
    "#### 4. Tuning a random forest with `GridSearchCV`\n",
    "\n",
    "In this problem you will tune the `max_depth` and `n_estimators` hyperparameters of a random forest model. First you will use a `for` loop for the cross-validation. Then you will see how much easier your life could be with `GridSearchCV`.\n",
    "\n",
    "##### a. \n",
    "\n",
    "Import `sklearn`'s random forest model for classification."
   ]
  },
  {
   "cell_type": "code",
   "execution_count": 12,
   "id": "7e274bc6",
   "metadata": {},
   "outputs": [],
   "source": [
    "## code here\n",
    "\n"
   ]
  },
  {
   "cell_type": "markdown",
   "id": "99101f61",
   "metadata": {},
   "source": [
    "##### b.\n",
    "\n",
    "Fill in the code below to find the values of `max_depth` and `n_estimators` with the highest average cross-validation accuracy."
   ]
  },
  {
   "cell_type": "code",
   "execution_count": 13,
   "id": "c9f42f30",
   "metadata": {
    "scrolled": true
   },
   "outputs": [
    {
     "name": "stdout",
     "output_type": "stream",
     "text": [
      "0 0 0\n",
      "0 0 1\n",
      "0 1 0\n",
      "0 1 1\n",
      "0 2 0\n",
      "0 2 1\n",
      "0 3 0\n",
      "0 3 1\n",
      "0 4 0\n",
      "0 4 1\n",
      "0 5 0\n",
      "0 5 1\n",
      "0 6 0\n",
      "0 6 1\n",
      "0 7 0\n",
      "0 7 1\n",
      "0 8 0\n",
      "0 8 1\n",
      "0 9 0\n",
      "0 9 1\n",
      "1 0 0\n",
      "1 0 1\n",
      "1 1 0\n",
      "1 1 1\n",
      "1 2 0\n",
      "1 2 1\n",
      "1 3 0\n",
      "1 3 1\n",
      "1 4 0\n",
      "1 4 1\n",
      "1 5 0\n",
      "1 5 1\n",
      "1 6 0\n",
      "1 6 1\n",
      "1 7 0\n",
      "1 7 1\n",
      "1 8 0\n",
      "1 8 1\n",
      "1 9 0\n",
      "1 9 1\n",
      "2 0 0\n",
      "2 0 1\n",
      "2 1 0\n",
      "2 1 1\n",
      "2 2 0\n",
      "2 2 1\n",
      "2 3 0\n",
      "2 3 1\n",
      "2 4 0\n",
      "2 4 1\n",
      "2 5 0\n",
      "2 5 1\n",
      "2 6 0\n",
      "2 6 1\n",
      "2 7 0\n",
      "2 7 1\n",
      "2 8 0\n",
      "2 8 1\n",
      "2 9 0\n",
      "2 9 1\n",
      "3 0 0\n",
      "3 0 1\n",
      "3 1 0\n",
      "3 1 1\n",
      "3 2 0\n",
      "3 2 1\n",
      "3 3 0\n",
      "3 3 1\n",
      "3 4 0\n",
      "3 4 1\n",
      "3 5 0\n",
      "3 5 1\n",
      "3 6 0\n",
      "3 6 1\n",
      "3 7 0\n",
      "3 7 1\n",
      "3 8 0\n",
      "3 8 1\n",
      "3 9 0\n",
      "3 9 1\n",
      "4 0 0\n",
      "4 0 1\n",
      "4 1 0\n",
      "4 1 1\n",
      "4 2 0\n",
      "4 2 1\n",
      "4 3 0\n",
      "4 3 1\n",
      "4 4 0\n",
      "4 4 1\n",
      "4 5 0\n",
      "4 5 1\n",
      "4 6 0\n",
      "4 6 1\n",
      "4 7 0\n",
      "4 7 1\n",
      "4 8 0\n",
      "4 8 1\n",
      "4 9 0\n",
      "4 9 1\n"
     ]
    }
   ],
   "source": [
    "## note this will take a minute or so to run\n",
    "\n",
    "max_depths = range(1, 11)\n",
    "n_trees = [100, 500]\n",
    "\n",
    "## Make an array of zeros that will hold the cv accuracies\n",
    "rf_accs = \n",
    "\n",
    "\n",
    "i = 0\n",
    "for train_index, test_index in kfold.split(seeds_train, seeds_train.y):\n",
    "    seeds_tt = seeds_train.iloc[train_index]\n",
    "    seeds_ho = seeds_train.iloc[test_index]\n",
    "    \n",
    "    ## Loop through the max_depth options\n",
    "    j = 0\n",
    "    for :\n",
    "        ## Look through the number of estimators options\n",
    "        k = 0\n",
    "        for :\n",
    "            ## This will help you keep track of where the loop is\n",
    "            print(i,j,k)\n",
    "            ## Make the model object, include a random state\n",
    "            rf = RandomForestClassifier(\n",
    "                                        max_samples = int(.8*len(seeds_tt)))\n",
    "            \n",
    "            ## Fit the model\n",
    "            rf\n",
    "            \n",
    "            ## predict on the holdout set\n",
    "            pred = rf.predict(seeds_ho[features])\n",
    "            \n",
    "            ## Record the accuracy\n",
    "            rf_accs[i,j,k] = accuracy_score(seeds_ho.y,  pred)\n",
    "            k = k + 1\n",
    "        j = j + 1\n",
    "    i = i + 1"
   ]
  },
  {
   "cell_type": "code",
   "execution_count": 14,
   "id": "babd4060",
   "metadata": {},
   "outputs": [
    {
     "name": "stdout",
     "output_type": "stream",
     "text": [
      "9 500\n"
     ]
    }
   ],
   "source": [
    "## This gives you the optimal depth and number of trees\n",
    "max_index = np.unravel_index(np.argmax(np.mean(rf_accs, axis=0), axis=None), \n",
    "                                       np.mean(rf_accs, axis=0).shape)\n",
    "\n",
    "\n",
    "print(max_depths[max_index[0]],n_trees[max_index[1]])"
   ]
  },
  {
   "cell_type": "code",
   "execution_count": 15,
   "id": "4405664e",
   "metadata": {},
   "outputs": [
    {
     "data": {
      "text/plain": [
       "0.8924444444444445"
      ]
     },
     "execution_count": 15,
     "metadata": {},
     "output_type": "execute_result"
    }
   ],
   "source": [
    "## What is the best avg cv accuracy?\n"
   ]
  },
  {
   "cell_type": "markdown",
   "id": "cf93e31e",
   "metadata": {},
   "source": [
    "##### c.\n",
    "\n",
    "In this problem you will learn about `GridSearchCV`, <a href=\"https://scikit-learn.org/stable/modules/generated/sklearn.model_selection.GridSearchCV.html\">https://scikit-learn.org/stable/modules/generated/sklearn.model_selection.GridSearchCV.html</a>, a handy class from `sklearn` that makes hyperparameter tuning through a grid search and cross-validation quicker to code up than writing out a series of `for` loops.\n",
    "\n",
    "\n",
    "Read through the code chunks below and fill in the missing code to run the same grid search cross-validation you did above with `GridSearchCV`."
   ]
  },
  {
   "cell_type": "code",
   "execution_count": 16,
   "id": "a150f896",
   "metadata": {},
   "outputs": [],
   "source": [
    "## first import GridSearchCV\n",
    "from sklearn.model_selection import GridSearchCV"
   ]
  },
  {
   "cell_type": "code",
   "execution_count": 17,
   "id": "3e82c25c",
   "metadata": {},
   "outputs": [
    {
     "data": {
      "text/html": [
       "<style>#sk-container-id-1 {color: black;background-color: white;}#sk-container-id-1 pre{padding: 0;}#sk-container-id-1 div.sk-toggleable {background-color: white;}#sk-container-id-1 label.sk-toggleable__label {cursor: pointer;display: block;width: 100%;margin-bottom: 0;padding: 0.3em;box-sizing: border-box;text-align: center;}#sk-container-id-1 label.sk-toggleable__label-arrow:before {content: \"▸\";float: left;margin-right: 0.25em;color: #696969;}#sk-container-id-1 label.sk-toggleable__label-arrow:hover:before {color: black;}#sk-container-id-1 div.sk-estimator:hover label.sk-toggleable__label-arrow:before {color: black;}#sk-container-id-1 div.sk-toggleable__content {max-height: 0;max-width: 0;overflow: hidden;text-align: left;background-color: #f0f8ff;}#sk-container-id-1 div.sk-toggleable__content pre {margin: 0.2em;color: black;border-radius: 0.25em;background-color: #f0f8ff;}#sk-container-id-1 input.sk-toggleable__control:checked~div.sk-toggleable__content {max-height: 200px;max-width: 100%;overflow: auto;}#sk-container-id-1 input.sk-toggleable__control:checked~label.sk-toggleable__label-arrow:before {content: \"▾\";}#sk-container-id-1 div.sk-estimator input.sk-toggleable__control:checked~label.sk-toggleable__label {background-color: #d4ebff;}#sk-container-id-1 div.sk-label input.sk-toggleable__control:checked~label.sk-toggleable__label {background-color: #d4ebff;}#sk-container-id-1 input.sk-hidden--visually {border: 0;clip: rect(1px 1px 1px 1px);clip: rect(1px, 1px, 1px, 1px);height: 1px;margin: -1px;overflow: hidden;padding: 0;position: absolute;width: 1px;}#sk-container-id-1 div.sk-estimator {font-family: monospace;background-color: #f0f8ff;border: 1px dotted black;border-radius: 0.25em;box-sizing: border-box;margin-bottom: 0.5em;}#sk-container-id-1 div.sk-estimator:hover {background-color: #d4ebff;}#sk-container-id-1 div.sk-parallel-item::after {content: \"\";width: 100%;border-bottom: 1px solid gray;flex-grow: 1;}#sk-container-id-1 div.sk-label:hover label.sk-toggleable__label {background-color: #d4ebff;}#sk-container-id-1 div.sk-serial::before {content: \"\";position: absolute;border-left: 1px solid gray;box-sizing: border-box;top: 0;bottom: 0;left: 50%;z-index: 0;}#sk-container-id-1 div.sk-serial {display: flex;flex-direction: column;align-items: center;background-color: white;padding-right: 0.2em;padding-left: 0.2em;position: relative;}#sk-container-id-1 div.sk-item {position: relative;z-index: 1;}#sk-container-id-1 div.sk-parallel {display: flex;align-items: stretch;justify-content: center;background-color: white;position: relative;}#sk-container-id-1 div.sk-item::before, #sk-container-id-1 div.sk-parallel-item::before {content: \"\";position: absolute;border-left: 1px solid gray;box-sizing: border-box;top: 0;bottom: 0;left: 50%;z-index: -1;}#sk-container-id-1 div.sk-parallel-item {display: flex;flex-direction: column;z-index: 1;position: relative;background-color: white;}#sk-container-id-1 div.sk-parallel-item:first-child::after {align-self: flex-end;width: 50%;}#sk-container-id-1 div.sk-parallel-item:last-child::after {align-self: flex-start;width: 50%;}#sk-container-id-1 div.sk-parallel-item:only-child::after {width: 0;}#sk-container-id-1 div.sk-dashed-wrapped {border: 1px dashed gray;margin: 0 0.4em 0.5em 0.4em;box-sizing: border-box;padding-bottom: 0.4em;background-color: white;}#sk-container-id-1 div.sk-label label {font-family: monospace;font-weight: bold;display: inline-block;line-height: 1.2em;}#sk-container-id-1 div.sk-label-container {text-align: center;}#sk-container-id-1 div.sk-container {/* jupyter's `normalize.less` sets `[hidden] { display: none; }` but bootstrap.min.css set `[hidden] { display: none !important; }` so we also need the `!important` here to be able to override the default hidden behavior on the sphinx rendered scikit-learn.org. See: https://github.com/scikit-learn/scikit-learn/issues/21755 */display: inline-block !important;position: relative;}#sk-container-id-1 div.sk-text-repr-fallback {display: none;}</style><div id=\"sk-container-id-1\" class=\"sk-top-container\"><div class=\"sk-text-repr-fallback\"><pre>GridSearchCV(cv=10, estimator=RandomForestClassifier(),\n",
       "             param_grid={&#x27;max_depth&#x27;: range(1, 11), &#x27;n_estimators&#x27;: [100, 500]},\n",
       "             scoring=&#x27;accuracy&#x27;)</pre><b>In a Jupyter environment, please rerun this cell to show the HTML representation or trust the notebook. <br />On GitHub, the HTML representation is unable to render, please try loading this page with nbviewer.org.</b></div><div class=\"sk-container\" hidden><div class=\"sk-item sk-dashed-wrapped\"><div class=\"sk-label-container\"><div class=\"sk-label sk-toggleable\"><input class=\"sk-toggleable__control sk-hidden--visually\" id=\"sk-estimator-id-1\" type=\"checkbox\" ><label for=\"sk-estimator-id-1\" class=\"sk-toggleable__label sk-toggleable__label-arrow\">GridSearchCV</label><div class=\"sk-toggleable__content\"><pre>GridSearchCV(cv=10, estimator=RandomForestClassifier(),\n",
       "             param_grid={&#x27;max_depth&#x27;: range(1, 11), &#x27;n_estimators&#x27;: [100, 500]},\n",
       "             scoring=&#x27;accuracy&#x27;)</pre></div></div></div><div class=\"sk-parallel\"><div class=\"sk-parallel-item\"><div class=\"sk-item\"><div class=\"sk-label-container\"><div class=\"sk-label sk-toggleable\"><input class=\"sk-toggleable__control sk-hidden--visually\" id=\"sk-estimator-id-2\" type=\"checkbox\" ><label for=\"sk-estimator-id-2\" class=\"sk-toggleable__label sk-toggleable__label-arrow\">estimator: RandomForestClassifier</label><div class=\"sk-toggleable__content\"><pre>RandomForestClassifier()</pre></div></div></div><div class=\"sk-serial\"><div class=\"sk-item\"><div class=\"sk-estimator sk-toggleable\"><input class=\"sk-toggleable__control sk-hidden--visually\" id=\"sk-estimator-id-3\" type=\"checkbox\" ><label for=\"sk-estimator-id-3\" class=\"sk-toggleable__label sk-toggleable__label-arrow\">RandomForestClassifier</label><div class=\"sk-toggleable__content\"><pre>RandomForestClassifier()</pre></div></div></div></div></div></div></div></div></div></div>"
      ],
      "text/plain": [
       "GridSearchCV(cv=10, estimator=RandomForestClassifier(),\n",
       "             param_grid={'max_depth': range(1, 11), 'n_estimators': [100, 500]},\n",
       "             scoring='accuracy')"
      ]
     },
     "execution_count": 17,
     "metadata": {},
     "output_type": "execute_result"
    }
   ],
   "source": [
    "## This will also take 1-2 minutes to run\n",
    "grid_cv = GridSearchCV(, # first put the model object here\n",
    "                          param_grid = {'max_depth':, # place the grid values for max_depth and\n",
    "                                        'n_estimators':}, # and n_estimators here\n",
    "                          scoring = , # put the metric we are trying to optimize here as a string, \"accuracy\"\n",
    "                          cv = ) # put the number of cv splits here\n",
    "\n",
    "## you fit it just like a model\n"
   ]
  },
  {
   "cell_type": "markdown",
   "id": "256cff2a",
   "metadata": {},
   "source": [
    "Once a `GridSearchCV` is fit you are easily able to find what hyperparameter combinations were best, what the optimal score was as well as get access to the best model."
   ]
  },
  {
   "cell_type": "code",
   "execution_count": 18,
   "id": "917bc725",
   "metadata": {},
   "outputs": [
    {
     "data": {
      "text/plain": [
       "{'max_depth': 9, 'n_estimators': 100}"
      ]
     },
     "execution_count": 18,
     "metadata": {},
     "output_type": "execute_result"
    }
   ],
   "source": [
    "## You can find the hyperparameter grid point that\n",
    "## gave the best performance like so\n",
    "## .best_params_\n",
    "grid_cv.best_params_"
   ]
  },
  {
   "cell_type": "code",
   "execution_count": 19,
   "id": "bfe674ee",
   "metadata": {},
   "outputs": [
    {
     "data": {
      "text/plain": [
       "0.8928888888888888"
      ]
     },
     "execution_count": 19,
     "metadata": {},
     "output_type": "execute_result"
    }
   ],
   "source": [
    "## You can find the best score like so\n",
    "## .best_score_\n",
    "grid_cv.best_score_"
   ]
  },
  {
   "cell_type": "code",
   "execution_count": 20,
   "id": "32e56a04",
   "metadata": {},
   "outputs": [
    {
     "data": {
      "text/html": [
       "<style>#sk-container-id-2 {color: black;background-color: white;}#sk-container-id-2 pre{padding: 0;}#sk-container-id-2 div.sk-toggleable {background-color: white;}#sk-container-id-2 label.sk-toggleable__label {cursor: pointer;display: block;width: 100%;margin-bottom: 0;padding: 0.3em;box-sizing: border-box;text-align: center;}#sk-container-id-2 label.sk-toggleable__label-arrow:before {content: \"▸\";float: left;margin-right: 0.25em;color: #696969;}#sk-container-id-2 label.sk-toggleable__label-arrow:hover:before {color: black;}#sk-container-id-2 div.sk-estimator:hover label.sk-toggleable__label-arrow:before {color: black;}#sk-container-id-2 div.sk-toggleable__content {max-height: 0;max-width: 0;overflow: hidden;text-align: left;background-color: #f0f8ff;}#sk-container-id-2 div.sk-toggleable__content pre {margin: 0.2em;color: black;border-radius: 0.25em;background-color: #f0f8ff;}#sk-container-id-2 input.sk-toggleable__control:checked~div.sk-toggleable__content {max-height: 200px;max-width: 100%;overflow: auto;}#sk-container-id-2 input.sk-toggleable__control:checked~label.sk-toggleable__label-arrow:before {content: \"▾\";}#sk-container-id-2 div.sk-estimator input.sk-toggleable__control:checked~label.sk-toggleable__label {background-color: #d4ebff;}#sk-container-id-2 div.sk-label input.sk-toggleable__control:checked~label.sk-toggleable__label {background-color: #d4ebff;}#sk-container-id-2 input.sk-hidden--visually {border: 0;clip: rect(1px 1px 1px 1px);clip: rect(1px, 1px, 1px, 1px);height: 1px;margin: -1px;overflow: hidden;padding: 0;position: absolute;width: 1px;}#sk-container-id-2 div.sk-estimator {font-family: monospace;background-color: #f0f8ff;border: 1px dotted black;border-radius: 0.25em;box-sizing: border-box;margin-bottom: 0.5em;}#sk-container-id-2 div.sk-estimator:hover {background-color: #d4ebff;}#sk-container-id-2 div.sk-parallel-item::after {content: \"\";width: 100%;border-bottom: 1px solid gray;flex-grow: 1;}#sk-container-id-2 div.sk-label:hover label.sk-toggleable__label {background-color: #d4ebff;}#sk-container-id-2 div.sk-serial::before {content: \"\";position: absolute;border-left: 1px solid gray;box-sizing: border-box;top: 0;bottom: 0;left: 50%;z-index: 0;}#sk-container-id-2 div.sk-serial {display: flex;flex-direction: column;align-items: center;background-color: white;padding-right: 0.2em;padding-left: 0.2em;position: relative;}#sk-container-id-2 div.sk-item {position: relative;z-index: 1;}#sk-container-id-2 div.sk-parallel {display: flex;align-items: stretch;justify-content: center;background-color: white;position: relative;}#sk-container-id-2 div.sk-item::before, #sk-container-id-2 div.sk-parallel-item::before {content: \"\";position: absolute;border-left: 1px solid gray;box-sizing: border-box;top: 0;bottom: 0;left: 50%;z-index: -1;}#sk-container-id-2 div.sk-parallel-item {display: flex;flex-direction: column;z-index: 1;position: relative;background-color: white;}#sk-container-id-2 div.sk-parallel-item:first-child::after {align-self: flex-end;width: 50%;}#sk-container-id-2 div.sk-parallel-item:last-child::after {align-self: flex-start;width: 50%;}#sk-container-id-2 div.sk-parallel-item:only-child::after {width: 0;}#sk-container-id-2 div.sk-dashed-wrapped {border: 1px dashed gray;margin: 0 0.4em 0.5em 0.4em;box-sizing: border-box;padding-bottom: 0.4em;background-color: white;}#sk-container-id-2 div.sk-label label {font-family: monospace;font-weight: bold;display: inline-block;line-height: 1.2em;}#sk-container-id-2 div.sk-label-container {text-align: center;}#sk-container-id-2 div.sk-container {/* jupyter's `normalize.less` sets `[hidden] { display: none; }` but bootstrap.min.css set `[hidden] { display: none !important; }` so we also need the `!important` here to be able to override the default hidden behavior on the sphinx rendered scikit-learn.org. See: https://github.com/scikit-learn/scikit-learn/issues/21755 */display: inline-block !important;position: relative;}#sk-container-id-2 div.sk-text-repr-fallback {display: none;}</style><div id=\"sk-container-id-2\" class=\"sk-top-container\"><div class=\"sk-text-repr-fallback\"><pre>RandomForestClassifier(max_depth=9)</pre><b>In a Jupyter environment, please rerun this cell to show the HTML representation or trust the notebook. <br />On GitHub, the HTML representation is unable to render, please try loading this page with nbviewer.org.</b></div><div class=\"sk-container\" hidden><div class=\"sk-item\"><div class=\"sk-estimator sk-toggleable\"><input class=\"sk-toggleable__control sk-hidden--visually\" id=\"sk-estimator-id-4\" type=\"checkbox\" checked><label for=\"sk-estimator-id-4\" class=\"sk-toggleable__label sk-toggleable__label-arrow\">RandomForestClassifier</label><div class=\"sk-toggleable__content\"><pre>RandomForestClassifier(max_depth=9)</pre></div></div></div></div></div>"
      ],
      "text/plain": [
       "RandomForestClassifier(max_depth=9)"
      ]
     },
     "execution_count": 20,
     "metadata": {},
     "output_type": "execute_result"
    }
   ],
   "source": [
    "## Calling best_estimator_ returns the model with the \n",
    "## best avg cv performance after it has been refit on the\n",
    "## entire data set\n",
    "grid_cv.best_estimator_"
   ]
  },
  {
   "cell_type": "markdown",
   "id": "998b3261",
   "metadata": {},
   "source": [
    "The `best_estimator_` is a model with the optimal hyperparameters that has been fit on the entire training set. Try and predict the pumpkin seed class on the training set with the `best_estimator_` below."
   ]
  },
  {
   "cell_type": "code",
   "execution_count": 21,
   "id": "7eee5234",
   "metadata": {},
   "outputs": [
    {
     "data": {
      "text/plain": [
       "array([0, 1, 1, ..., 0, 1, 0])"
      ]
     },
     "execution_count": 21,
     "metadata": {},
     "output_type": "execute_result"
    }
   ],
   "source": [
    "## code here\n",
    "\n"
   ]
  },
  {
   "cell_type": "markdown",
   "id": "20b19398",
   "metadata": {},
   "source": [
    "If you want to look at all of the results, you can do that as well with `.cv_results`. Try that below."
   ]
  },
  {
   "cell_type": "code",
   "execution_count": 22,
   "id": "741942d2",
   "metadata": {},
   "outputs": [
    {
     "data": {
      "text/plain": [
       "{'mean_fit_time': array([0.0810854 , 0.39417043, 0.10423081, 0.53511777, 0.12773488,\n",
       "        0.64502618, 0.15094442, 0.75442548, 0.17317038, 0.85180573,\n",
       "        0.18775303, 0.94263265, 0.20293539, 1.02900038, 0.22218926,\n",
       "        1.11126552, 0.2324852 , 1.13632717, 0.2645853 , 1.20953939]),\n",
       " 'std_fit_time': array([0.00042807, 0.00321585, 0.00022575, 0.03141737, 0.00080448,\n",
       "        0.01117279, 0.00127915, 0.01089765, 0.00033861, 0.00906951,\n",
       "        0.00080651, 0.00915865, 0.0006937 , 0.02400899, 0.0020805 ,\n",
       "        0.03874491, 0.00813138, 0.00652464, 0.02821667, 0.03728541]),\n",
       " 'mean_score_time': array([0.00350289, 0.0144165 , 0.00355446, 0.01539745, 0.00378571,\n",
       "        0.01621065, 0.00389838, 0.01692691, 0.00408387, 0.01753178,\n",
       "        0.00416701, 0.01838477, 0.004269  , 0.01948626, 0.00467174,\n",
       "        0.02019448, 0.00462306, 0.02036793, 0.00578423, 0.02092953]),\n",
       " 'std_score_time': array([5.46164668e-05, 1.94723236e-04, 2.29935530e-05, 5.26992622e-04,\n",
       "        9.11596298e-05, 4.18285203e-04, 5.53456778e-05, 3.58561968e-04,\n",
       "        5.35229266e-05, 2.10602034e-04, 3.32694397e-05, 1.87206264e-04,\n",
       "        1.81189493e-05, 5.91988935e-04, 1.59480148e-04, 9.71786517e-04,\n",
       "        1.19530163e-04, 4.26166792e-04, 8.51390208e-04, 2.35406271e-04]),\n",
       " 'param_max_depth': masked_array(data=[1, 1, 2, 2, 3, 3, 4, 4, 5, 5, 6, 6, 7, 7, 8, 8, 9, 9,\n",
       "                    10, 10],\n",
       "              mask=[False, False, False, False, False, False, False, False,\n",
       "                    False, False, False, False, False, False, False, False,\n",
       "                    False, False, False, False],\n",
       "        fill_value='?',\n",
       "             dtype=object),\n",
       " 'param_n_estimators': masked_array(data=[100, 500, 100, 500, 100, 500, 100, 500, 100, 500, 100,\n",
       "                    500, 100, 500, 100, 500, 100, 500, 100, 500],\n",
       "              mask=[False, False, False, False, False, False, False, False,\n",
       "                    False, False, False, False, False, False, False, False,\n",
       "                    False, False, False, False],\n",
       "        fill_value='?',\n",
       "             dtype=object),\n",
       " 'params': [{'max_depth': 1, 'n_estimators': 100},\n",
       "  {'max_depth': 1, 'n_estimators': 500},\n",
       "  {'max_depth': 2, 'n_estimators': 100},\n",
       "  {'max_depth': 2, 'n_estimators': 500},\n",
       "  {'max_depth': 3, 'n_estimators': 100},\n",
       "  {'max_depth': 3, 'n_estimators': 500},\n",
       "  {'max_depth': 4, 'n_estimators': 100},\n",
       "  {'max_depth': 4, 'n_estimators': 500},\n",
       "  {'max_depth': 5, 'n_estimators': 100},\n",
       "  {'max_depth': 5, 'n_estimators': 500},\n",
       "  {'max_depth': 6, 'n_estimators': 100},\n",
       "  {'max_depth': 6, 'n_estimators': 500},\n",
       "  {'max_depth': 7, 'n_estimators': 100},\n",
       "  {'max_depth': 7, 'n_estimators': 500},\n",
       "  {'max_depth': 8, 'n_estimators': 100},\n",
       "  {'max_depth': 8, 'n_estimators': 500},\n",
       "  {'max_depth': 9, 'n_estimators': 100},\n",
       "  {'max_depth': 9, 'n_estimators': 500},\n",
       "  {'max_depth': 10, 'n_estimators': 100},\n",
       "  {'max_depth': 10, 'n_estimators': 500}],\n",
       " 'split0_test_score': array([0.89333333, 0.89333333, 0.89333333, 0.89333333, 0.89333333,\n",
       "        0.89777778, 0.90666667, 0.91555556, 0.91555556, 0.90666667,\n",
       "        0.91111111, 0.90666667, 0.90666667, 0.91111111, 0.90222222,\n",
       "        0.90666667, 0.91555556, 0.90666667, 0.90666667, 0.91111111]),\n",
       " 'split1_test_score': array([0.87555556, 0.87111111, 0.88444444, 0.88444444, 0.88888889,\n",
       "        0.88888889, 0.88444444, 0.88444444, 0.87111111, 0.88      ,\n",
       "        0.86666667, 0.87111111, 0.86666667, 0.87111111, 0.87111111,\n",
       "        0.86666667, 0.87111111, 0.87555556, 0.87111111, 0.87111111]),\n",
       " 'split2_test_score': array([0.84888889, 0.84888889, 0.85333333, 0.84888889, 0.85777778,\n",
       "        0.85777778, 0.86222222, 0.86222222, 0.86666667, 0.87111111,\n",
       "        0.86666667, 0.87555556, 0.86666667, 0.87111111, 0.86666667,\n",
       "        0.86666667, 0.86666667, 0.86666667, 0.86222222, 0.86222222]),\n",
       " 'split3_test_score': array([0.86666667, 0.87111111, 0.87111111, 0.87111111, 0.88      ,\n",
       "        0.88444444, 0.89333333, 0.89333333, 0.89333333, 0.89333333,\n",
       "        0.89777778, 0.89777778, 0.89777778, 0.89333333, 0.89777778,\n",
       "        0.89333333, 0.89777778, 0.89333333, 0.89333333, 0.89333333]),\n",
       " 'split4_test_score': array([0.87555556, 0.87111111, 0.87555556, 0.87555556, 0.87555556,\n",
       "        0.88888889, 0.88444444, 0.88444444, 0.88      , 0.88444444,\n",
       "        0.88444444, 0.88444444, 0.88888889, 0.89333333, 0.90222222,\n",
       "        0.89777778, 0.89333333, 0.90222222, 0.89777778, 0.90666667]),\n",
       " 'split5_test_score': array([0.85777778, 0.85777778, 0.86222222, 0.86222222, 0.88888889,\n",
       "        0.89333333, 0.90222222, 0.89333333, 0.89333333, 0.90222222,\n",
       "        0.90222222, 0.91111111, 0.91555556, 0.91555556, 0.90666667,\n",
       "        0.91555556, 0.90222222, 0.91111111, 0.91111111, 0.91111111]),\n",
       " 'split6_test_score': array([0.84888889, 0.84888889, 0.84888889, 0.84888889, 0.86666667,\n",
       "        0.86222222, 0.87555556, 0.87111111, 0.88      , 0.88      ,\n",
       "        0.88444444, 0.88444444, 0.89333333, 0.88888889, 0.88      ,\n",
       "        0.88888889, 0.88888889, 0.88444444, 0.88444444, 0.89333333]),\n",
       " 'split7_test_score': array([0.84444444, 0.84      , 0.84444444, 0.84888889, 0.85333333,\n",
       "        0.85333333, 0.86222222, 0.85777778, 0.86666667, 0.87111111,\n",
       "        0.87555556, 0.87555556, 0.87555556, 0.88      , 0.88888889,\n",
       "        0.87555556, 0.88444444, 0.87555556, 0.87111111, 0.88      ]),\n",
       " 'split8_test_score': array([0.84      , 0.84888889, 0.84444444, 0.84444444, 0.85777778,\n",
       "        0.85333333, 0.87111111, 0.85777778, 0.86666667, 0.87111111,\n",
       "        0.87555556, 0.88      , 0.88888889, 0.88444444, 0.87555556,\n",
       "        0.89333333, 0.89333333, 0.88444444, 0.88888889, 0.88888889]),\n",
       " 'split9_test_score': array([0.86222222, 0.86222222, 0.86222222, 0.86666667, 0.87555556,\n",
       "        0.87555556, 0.89333333, 0.89333333, 0.91111111, 0.90666667,\n",
       "        0.91111111, 0.91111111, 0.90666667, 0.91111111, 0.90666667,\n",
       "        0.91111111, 0.91555556, 0.91111111, 0.90666667, 0.90666667]),\n",
       " 'mean_test_score': array([0.86133333, 0.86133333, 0.864     , 0.86444444, 0.87377778,\n",
       "        0.87555556, 0.88355556, 0.88133333, 0.88444444, 0.88666667,\n",
       "        0.88755556, 0.88977778, 0.89066667, 0.892     , 0.88977778,\n",
       "        0.89155556, 0.89288889, 0.89111111, 0.88933333, 0.89244444]),\n",
       " 'std_test_score': array([0.01587606, 0.01497982, 0.01604931, 0.01593195, 0.01365537,\n",
       "        0.01651038, 0.01484737, 0.01789406, 0.01732763, 0.01380642,\n",
       "        0.01615358, 0.01471373, 0.01604931, 0.01540242, 0.01457886,\n",
       "        0.01653429, 0.01545363, 0.01529948, 0.01608005, 0.01624504]),\n",
       " 'rank_test_score': array([19, 19, 18, 17, 16, 15, 13, 14, 12, 11, 10,  7,  6,  3,  7,  4,  1,\n",
       "         5,  9,  2], dtype=int32)}"
      ]
     },
     "execution_count": 22,
     "metadata": {},
     "output_type": "execute_result"
    }
   ],
   "source": [
    "## You can get all of the results with cv_results_\n",
    "grid_cv.cv_results_"
   ]
  },
  {
   "cell_type": "markdown",
   "id": "fb88d266",
   "metadata": {},
   "source": [
    "##### d.\n",
    "\n",
    "Using either the `best_estimator_` fitted model or a refitted model according to your results from the `for` loop cross-validation find the feature importance scores. Try and refer back to your notes from `Problem Session 8`, how do the scores compare to your initial EDA?"
   ]
  },
  {
   "cell_type": "code",
   "execution_count": 23,
   "id": "bbe4005c",
   "metadata": {},
   "outputs": [
    {
     "data": {
      "text/html": [
       "<div>\n",
       "<style scoped>\n",
       "    .dataframe tbody tr th:only-of-type {\n",
       "        vertical-align: middle;\n",
       "    }\n",
       "\n",
       "    .dataframe tbody tr th {\n",
       "        vertical-align: top;\n",
       "    }\n",
       "\n",
       "    .dataframe thead th {\n",
       "        text-align: right;\n",
       "    }\n",
       "</style>\n",
       "<table border=\"1\" class=\"dataframe\">\n",
       "  <thead>\n",
       "    <tr style=\"text-align: right;\">\n",
       "      <th></th>\n",
       "      <th>feature_importance_score</th>\n",
       "    </tr>\n",
       "  </thead>\n",
       "  <tbody>\n",
       "    <tr>\n",
       "      <th>Aspect_Ration</th>\n",
       "      <td>0.274457</td>\n",
       "    </tr>\n",
       "    <tr>\n",
       "      <th>Eccentricity</th>\n",
       "      <td>0.179874</td>\n",
       "    </tr>\n",
       "    <tr>\n",
       "      <th>Compactness</th>\n",
       "      <td>0.164494</td>\n",
       "    </tr>\n",
       "    <tr>\n",
       "      <th>Roundness</th>\n",
       "      <td>0.106317</td>\n",
       "    </tr>\n",
       "    <tr>\n",
       "      <th>Major_Axis_Length</th>\n",
       "      <td>0.062744</td>\n",
       "    </tr>\n",
       "    <tr>\n",
       "      <th>Minor_Axis_Length</th>\n",
       "      <td>0.046045</td>\n",
       "    </tr>\n",
       "    <tr>\n",
       "      <th>Solidity</th>\n",
       "      <td>0.045898</td>\n",
       "    </tr>\n",
       "    <tr>\n",
       "      <th>Perimeter</th>\n",
       "      <td>0.026417</td>\n",
       "    </tr>\n",
       "    <tr>\n",
       "      <th>Extent</th>\n",
       "      <td>0.024208</td>\n",
       "    </tr>\n",
       "    <tr>\n",
       "      <th>Convex_Area</th>\n",
       "      <td>0.024102</td>\n",
       "    </tr>\n",
       "    <tr>\n",
       "      <th>Area</th>\n",
       "      <td>0.022835</td>\n",
       "    </tr>\n",
       "    <tr>\n",
       "      <th>Equiv_Diameter</th>\n",
       "      <td>0.022609</td>\n",
       "    </tr>\n",
       "  </tbody>\n",
       "</table>\n",
       "</div>"
      ],
      "text/plain": [
       "                   feature_importance_score\n",
       "Aspect_Ration                      0.274457\n",
       "Eccentricity                       0.179874\n",
       "Compactness                        0.164494\n",
       "Roundness                          0.106317\n",
       "Major_Axis_Length                  0.062744\n",
       "Minor_Axis_Length                  0.046045\n",
       "Solidity                           0.045898\n",
       "Perimeter                          0.026417\n",
       "Extent                             0.024208\n",
       "Convex_Area                        0.024102\n",
       "Area                               0.022835\n",
       "Equiv_Diameter                     0.022609"
      ]
     },
     "execution_count": 23,
     "metadata": {},
     "output_type": "execute_result"
    }
   ],
   "source": [
    "## code here\n",
    "\n"
   ]
  },
  {
   "cell_type": "markdown",
   "id": "b0a083e7",
   "metadata": {},
   "source": [
    "##### Write here\n",
    "\n"
   ]
  },
  {
   "cell_type": "markdown",
   "id": "b49d2ee0",
   "metadata": {},
   "source": [
    "##### 5. Selecting a final model\n",
    "\n",
    "##### a.\n",
    "\n",
    "Refer back to your work in `Problem Session 8` and `Problem Session 9`, across all three of the Pumpkin Seed classification notebooks, which model had the best average CV accuracy?"
   ]
  },
  {
   "cell_type": "markdown",
   "id": "9f04c68a",
   "metadata": {},
   "source": [
    "##### Write here"
   ]
  },
  {
   "cell_type": "markdown",
   "id": "d44ecc3a",
   "metadata": {},
   "source": [
    "##### b.\n",
    "\n",
    "Retrain the best model on the entire training set."
   ]
  },
  {
   "cell_type": "code",
   "execution_count": null,
   "id": "81164fe1",
   "metadata": {},
   "outputs": [],
   "source": [
    "## code here\n",
    "\n"
   ]
  },
  {
   "cell_type": "code",
   "execution_count": null,
   "id": "209ebca9",
   "metadata": {},
   "outputs": [],
   "source": [
    "## code here\n",
    "\n"
   ]
  },
  {
   "cell_type": "code",
   "execution_count": null,
   "id": "ef4e521c",
   "metadata": {},
   "outputs": [],
   "source": [
    "## code here\n",
    "\n"
   ]
  },
  {
   "cell_type": "markdown",
   "id": "d104c0ce",
   "metadata": {},
   "source": [
    "##### c.\n",
    "\n",
    "Find the training and test accuracies for this model. Does there appear to be overfitting?"
   ]
  },
  {
   "cell_type": "code",
   "execution_count": null,
   "id": "b21ad6ee",
   "metadata": {},
   "outputs": [],
   "source": [
    "## code here\n",
    "\n"
   ]
  },
  {
   "cell_type": "code",
   "execution_count": null,
   "id": "b8d4f6a5",
   "metadata": {},
   "outputs": [],
   "source": [
    "## code here\n",
    "\n"
   ]
  },
  {
   "cell_type": "code",
   "execution_count": null,
   "id": "45f5fb6f",
   "metadata": {},
   "outputs": [],
   "source": [
    "## code here\n",
    "\n"
   ]
  },
  {
   "cell_type": "markdown",
   "id": "b290c1f9",
   "metadata": {},
   "source": [
    "##### Write here\n",
    "\n"
   ]
  },
  {
   "cell_type": "markdown",
   "id": "b51c5eb3",
   "metadata": {},
   "source": [
    "--------------------------\n",
    "\n",
    "This notebook was written for the Erd&#337;s Institute C&#337;de Data Science Boot Camp by Matthew Osborne, Ph. D., 2023.\n",
    "\n",
    "Any potential redistributors must seek and receive permission from Matthew Tyler Osborne, Ph.D. prior to redistribution. Redistribution of the material contained in this repository is conditional on acknowledgement of Matthew Tyler Osborne, Ph.D.'s original authorship and sponsorship of the Erdős Institute as subject to the license (see License.md)"
   ]
  },
  {
   "cell_type": "code",
   "execution_count": null,
   "id": "bb91fead",
   "metadata": {},
   "outputs": [],
   "source": []
  }
 ],
 "metadata": {
  "kernelspec": {
   "display_name": "Python 3 (ipykernel)",
   "language": "python",
   "name": "python3"
  },
  "language_info": {
   "codemirror_mode": {
    "name": "ipython",
    "version": 3
   },
   "file_extension": ".py",
   "mimetype": "text/x-python",
   "name": "python",
   "nbconvert_exporter": "python",
   "pygments_lexer": "ipython3",
   "version": "3.9.16"
  }
 },
 "nbformat": 4,
 "nbformat_minor": 5
}
