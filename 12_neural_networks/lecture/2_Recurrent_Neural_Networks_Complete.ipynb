{
 "cells": [
  {
   "cell_type": "markdown",
   "metadata": {},
   "source": [
    "# Introduction to Recurrent Neural Networks\n",
    "\n",
    "The final neural network architecture we will cover is the recurrent neural network.\n",
    "\n",
    "## What we will accomplish\n",
    "\n",
    "In this notebook we will:\n",
    "- Discuss the kinds of problems recurrent nets are designed for,\n",
    "- Give an overview of basic RNN architectures,\n",
    "- Build a RNN to predict IMDB review sentiment.\n",
    "\n",
    "Let's go!"
   ]
  },
  {
   "cell_type": "code",
   "execution_count": 1,
   "metadata": {},
   "outputs": [],
   "source": [
    "## For data handling\n",
    "import pandas as pd\n",
    "import numpy as np\n",
    "\n",
    "## For plotting\n",
    "import matplotlib.pyplot as plt\n",
    "from seaborn import set_style\n",
    "\n",
    "## This sets the plot style\n",
    "## to have a grid on a white background\n",
    "set_style(\"whitegrid\")"
   ]
  },
  {
   "cell_type": "markdown",
   "metadata": {},
   "source": [
    "### Single Hidden Layer RNN\n",
    "\n",
    "Recurrent neural networks (RNN) were built to deal with sequential data. Some examples of sequential data include:\n",
    "- Time series,\n",
    "- Natural language,\n",
    "- Music\n",
    "\n",
    "Consider sequential data of the form $(x_t, y_t)$, with $x_t \\in \\mathbb{R}^p$ and $y_t \\in \\mathbb{R}^m$.\n",
    "\n",
    "A Single Hidden Layer RNN has the following form.  We will call the single hidden layer the \"state\", and give it dimension $d$.  Let $\\sigma_1$ and $\\sigma_2$ be differentiable activation functions (often a single variable function applied to each coordinate).\n",
    "\n",
    "$$\n",
    "\\begin{cases}\n",
    "h_t = \\sigma_1 (W_{hx} x_t + W_{hh} h_{t-1} + b_h)\\\\\n",
    "y_t = \\sigma_2 (W_{yh} h_t + b_y)\n",
    "\\end{cases}\n",
    "$$\n",
    "\n",
    "where the learnable parameters of the model are\n",
    "\n",
    "* $h_{-1} \\in \\mathbb{R}^d$\n",
    "* $W_{hx}$ is a $d \\times p$ matrix \n",
    "* $W_{hh}$ is a $d \\times d$ matrix\n",
    "* $b_h$ is a vector in $\\mathbb{R}^d$\n",
    "* $W_{yh}$ is a $m \\times d$ matrix\n",
    "* $b_y$ is a vector in $\\mathbb{R}^m$\n",
    "\n",
    "The most common choice for $\\sigma_1$ is $\\tanh$ and the most common choice for $\\sigma_2$ is the identity function.\n",
    "\n",
    "RNNs can be more complicated than this, but we will stick with this example for the purposes of this introduction to the concept."
   ]
  },
  {
   "cell_type": "markdown",
   "metadata": {},
   "source": [
    "### Custom implementation\n",
    "\n",
    "The following custom implementation of an RNN class might help to understand what is going on:"
   ]
  },
  {
   "cell_type": "code",
   "execution_count": 2,
   "metadata": {},
   "outputs": [],
   "source": [
    "class RNN:\n",
    "  def __init__(self, p,d,m, sigma_1 = np.tanh, sigma_2 = None, print_h = False):\n",
    "    self.h = np.zeros((d,1))\n",
    "    self.W_hh = np.random.randn(d,d)\n",
    "    self.W_hx = np.random.randn(d,p)\n",
    "    self.W_yh = np.random.randn(m,d)\n",
    "    self.b_h = np.random.randn(d,1)\n",
    "    self.b_y = np.random.randn(m,1)\n",
    "    self.sigma_1 = sigma_1\n",
    "    self.sigma_2 = sigma_2\n",
    "    self.print_h = print_h\n",
    "  def predict(self, x):\n",
    "    # update the hidden state\n",
    "    x = x.reshape(-1,1)\n",
    "    if self.print_h:\n",
    "      print(f\"old h = {self.h}\")\n",
    "    self.h = np.dot(self.W_hh, self.h) + np.dot(self.W_hx, x) + self.b_h\n",
    "    if self.sigma_1:\n",
    "      self.h = self.sigma_1(self.h)\n",
    "    if self.print_h:\n",
    "      print(f\"new h = {self.h}\")\n",
    "    # compute the output vector\n",
    "    y = np.dot(self.W_yh, self.h) + self.b_y\n",
    "    if self.sigma_2:\n",
    "      y = self.sigma_2(y)\n",
    "    return y"
   ]
  },
  {
   "cell_type": "code",
   "execution_count": 3,
   "metadata": {},
   "outputs": [
    {
     "data": {
      "text/plain": [
       "array([[0.],\n",
       "       [0.],\n",
       "       [0.]])"
      ]
     },
     "execution_count": 3,
     "metadata": {},
     "output_type": "execute_result"
    }
   ],
   "source": [
    "np.dot(np.random.randn(3,2), np.zeros((2,1)))"
   ]
  },
  {
   "cell_type": "code",
   "execution_count": 4,
   "metadata": {},
   "outputs": [],
   "source": [
    "# Example with input dimension 2, hidden state of dimension 3, output of dimension 1.\n",
    "rnn = RNN(2,3,1, print_h=True)"
   ]
  },
  {
   "cell_type": "code",
   "execution_count": 5,
   "metadata": {},
   "outputs": [
    {
     "name": "stdout",
     "output_type": "stream",
     "text": [
      "{'W_hh': array([[-0.04104692,  1.2598132 ,  0.69510873],\n",
      "       [-0.82177789, -0.61859125, -0.57612748],\n",
      "       [-0.82451981,  0.49844743,  0.84042547]]),\n",
      " 'W_hx': array([[ 0.97916095, -0.378409  ],\n",
      "       [ 0.01069733,  0.37187371],\n",
      "       [-0.69787061,  3.47349857]]),\n",
      " 'W_yh': array([[ 1.5156863 , -0.52397041, -0.92911732]]),\n",
      " 'b_h': array([[-0.46272127],\n",
      "       [-0.04354061],\n",
      "       [ 0.34010579]]),\n",
      " 'b_y': array([[-0.81738636]]),\n",
      " 'h': array([[0.],\n",
      "       [0.],\n",
      "       [0.]]),\n",
      " 'print_h': True,\n",
      " 'sigma_1': <ufunc 'tanh'>,\n",
      " 'sigma_2': None}\n"
     ]
    }
   ],
   "source": [
    "# printing the attributes\n",
    "import pprint\n",
    "pprint.pprint(rnn.__dict__)"
   ]
  },
  {
   "cell_type": "code",
   "execution_count": 6,
   "metadata": {},
   "outputs": [
    {
     "name": "stdout",
     "output_type": "stream",
     "text": [
      "old h = [[0.]\n",
      " [0.]\n",
      " [0.]]\n",
      "new h = [[-0.20391486]\n",
      " [-0.00314403]\n",
      " [ 0.44471624]]\n"
     ]
    },
    {
     "data": {
      "text/plain": [
       "array([[-1.5380035]])"
      ]
     },
     "execution_count": 6,
     "metadata": {},
     "output_type": "execute_result"
    }
   ],
   "source": [
    "# run this a few times and discuss how the outputs are being computed.\n",
    "rnn.predict(np.array([0.3, 0.1]))"
   ]
  },
  {
   "cell_type": "markdown",
   "metadata": {},
   "source": [
    "The only thing which gets updated when we predict is the state vector $h$.  All of the other attributes are parameters which we would update during training but not when making predictions."
   ]
  },
  {
   "cell_type": "code",
   "execution_count": 7,
   "metadata": {},
   "outputs": [
    {
     "name": "stdout",
     "output_type": "stream",
     "text": [
      "{'W_hh': array([[-0.04104692,  1.2598132 ,  0.69510873],\n",
      "       [-0.82177789, -0.61859125, -0.57612748],\n",
      "       [-0.82451981,  0.49844743,  0.84042547]]),\n",
      " 'W_hx': array([[ 0.97916095, -0.378409  ],\n",
      "       [ 0.01069733,  0.37187371],\n",
      "       [-0.69787061,  3.47349857]]),\n",
      " 'W_yh': array([[ 1.5156863 , -0.52397041, -0.92911732]]),\n",
      " 'b_h': array([[-0.46272127],\n",
      "       [-0.04354061],\n",
      "       [ 0.34010579]]),\n",
      " 'b_y': array([[-0.81738636]]),\n",
      " 'h': array([[-0.20391486],\n",
      "       [-0.00314403],\n",
      "       [ 0.44471624]]),\n",
      " 'print_h': True,\n",
      " 'sigma_1': <ufunc 'tanh'>,\n",
      " 'sigma_2': None}\n"
     ]
    }
   ],
   "source": [
    "pprint.pprint(rnn.__dict__)"
   ]
  },
  {
   "cell_type": "markdown",
   "metadata": {},
   "source": [
    "### Double Exponential Smoothing is an instance of RNN.\n",
    "\n",
    "Just as linear regression is the most basic instance of a FFNN, exponential smoothing is the most basic instance of an RNN.\n",
    "\n",
    "Recall the set up of double exponential smoothing:\n",
    "\n",
    "We iteratively update a hidden state consisting of level $s_t$ and slope $b_t$ for a time series $y_t$.\n",
    "\n",
    "$$\n",
    "\\hat{y}_{t} = \\left\\lbrace \\begin{array}{l c c} s_{t-1} + b_{t-1} & \\text{for} & 1<t\\leq n \\\\\n",
    "                                                s_n + (t-n)b_{n}& \\text{for} & t > n \\end{array}\\right\\rbrace, \n",
    "$$\n",
    "\n",
    "where \n",
    "\n",
    "$$\n",
    "s_{t} = \\alpha y_t + (1-\\alpha) (s_{t-1} + b_{t-1}), \\ s_1 = y_1,\n",
    "$$\n",
    "\n",
    "$$\n",
    "b_{t} = \\beta (s_t - s_{t-1}) + (1-\\beta) b_{t-1}, \\ b_1 = y_2 - y_1 \\text{ and}\n",
    "$$\n",
    "\n",
    "This can be re-written (with some algebra) using our notation above as\n",
    "\n",
    "$$\n",
    "h_t = \\begin{bmatrix} \\alpha \\\\ \\alpha \\beta \\end{bmatrix} y_t + \\begin{bmatrix} 1-\\alpha & 1-\\alpha \\\\ -\\alpha\\beta & 1-\\alpha\\beta \\end{bmatrix} \\begin{bmatrix} s_{t-1} \\\\ b_{t-1}\\end{bmatrix}\\\\\n",
    "\\hat{y}_t = \\begin{bmatrix} 1 & 1\\end{bmatrix} \\begin{bmatrix} s_{t-1} \\\\ b_{t-1}\\end{bmatrix}\n",
    "$$\n",
    "\n",
    "So double exponential smoothing is in fact a special case of `RNN(1,2,1)`.\n",
    "\n",
    "Let's implement it as a subclass!"
   ]
  },
  {
   "cell_type": "code",
   "execution_count": 8,
   "metadata": {},
   "outputs": [],
   "source": [
    "class DoubleExpSmooth(RNN):\n",
    "    def __init__(self, alpha, beta, print_h = False):\n",
    "        super().__init__(1,2,1, None),\n",
    "        self.W_hh = np.array([[1-alpha, 1-alpha],[-alpha*beta, 1-alpha*beta]])\n",
    "        self.W_hx = np.array([[alpha],[beta*alpha]])\n",
    "        self.W_yh = np.array([[1, 1]])\n",
    "        self.b_h = np.array([[0],[0]])\n",
    "        self.b_y = np.array([[0]])\n",
    "        self.print_h = print_h"
   ]
  },
  {
   "cell_type": "code",
   "execution_count": 9,
   "metadata": {},
   "outputs": [
    {
     "name": "stdout",
     "output_type": "stream",
     "text": [
      "old h = [[0.]\n",
      " [0.]]\n",
      "new h = [[0.25316114]\n",
      " [0.20252891]]\n",
      "\n",
      "input = 0.3617, pred = 0.455690 \n",
      "\n",
      "old h = [[0.25316114]\n",
      " [0.20252891]]\n",
      "new h = [[1.59091185]\n",
      " [1.11070635]]\n",
      "\n",
      "input = 2.0774, pred = 2.701618 \n",
      "\n",
      "old h = [[1.59091185]\n",
      " [1.11070635]]\n",
      "new h = [[3.84520723]\n",
      " [2.02557757]]\n",
      "\n",
      "input = 4.3353, pred = 5.870785 \n",
      "\n",
      "old h = [[3.84520723]\n",
      " [2.02557757]]\n",
      "new h = [[6.466181  ]\n",
      " [2.50189453]]\n",
      "\n",
      "input = 6.7214, pred = 8.968076 \n",
      "\n",
      "old h = [[6.466181  ]\n",
      " [2.50189453]]\n",
      "new h = [[8.87146149]\n",
      " [2.4246033 ]]\n",
      "\n",
      "input = 8.8301, pred = 11.296065 \n",
      "\n",
      "old h = [[8.87146149]\n",
      " [2.4246033 ]]\n",
      "new h = [[10.12825631]\n",
      " [ 1.49035652]]\n",
      "\n",
      "input = 9.6278, pred = 11.618613 \n",
      "\n",
      "old h = [[10.12825631]\n",
      " [ 1.49035652]]\n",
      "new h = [[12.14602203]\n",
      " [ 1.91228387]]\n",
      "\n",
      "input = 12.3721, pred = 14.058306 \n",
      "\n",
      "old h = [[12.14602203]\n",
      " [ 1.91228387]]\n",
      "new h = [[14.81904225]\n",
      " [ 2.52087296]]\n",
      "\n",
      "input = 15.1451, pred = 17.339915 \n",
      "\n",
      "old h = [[14.81904225]\n",
      " [ 2.52087296]]\n",
      "new h = [[17.22407032]\n",
      " [ 2.42819705]]\n",
      "\n",
      "input = 17.1744, pred = 19.652267 \n",
      "\n",
      "old h = [[17.22407032]\n",
      " [ 2.42819705]]\n",
      "new h = [[19.52967393]\n",
      " [ 2.33012229]]\n",
      "\n",
      "input = 19.4771, pred = 21.859796 \n",
      "\n"
     ]
    }
   ],
   "source": [
    "# Let's see how it handles predicting a noisy linear sequence\n",
    "\n",
    "des = DoubleExpSmooth(0.7,0.8, print_h = True)\n",
    "ys = 0.8*np.random.randn(10) + 2* np.arange(10) + 1\n",
    "preds = list()\n",
    "\n",
    "for i in range(10):\n",
    "    pred = des.predict(ys[i])[0,0]\n",
    "    print(f\"\\ninput = {ys[i]:.4f}, pred = {pred:4f} \\n\")\n",
    "    preds.append(pred)"
   ]
  },
  {
   "cell_type": "code",
   "execution_count": 10,
   "metadata": {},
   "outputs": [
    {
     "data": {
      "image/png": "[encoded data removed]",
      "text/plain": [
       "<Figure size 640x480 with 1 Axes>"
      ]
     },
     "metadata": {},
     "output_type": "display_data"
    }
   ],
   "source": [
    "plt.title(\"RNN implementation of Double Exponential Smoothing\")\n",
    "plt.scatter(range(10),ys, label = 'Data')\n",
    "plt.scatter(range(1,11),preds, label = 'One Step Predictions', marker='x')\n",
    "plt.legend()\n",
    "plt.show()\n"
   ]
  },
  {
   "cell_type": "markdown",
   "metadata": {},
   "source": [
    "### Training an RNN"
   ]
  },
  {
   "cell_type": "markdown",
   "metadata": {},
   "source": [
    "Training an RNN involves [backpropagation through time](https://en.wikipedia.org/wiki/Backpropagation_through_time).  We \"unroll\" the RNN for $k$ time steps to treat it like a feed forward neural network with $k$ layers, but where the parameters of each layer are shared.  We would then implement gradient descent on the loss function as usual.  Note that the resulting trained model will still have an \"infinite memory\" even though we only accounted for $k$ time steps in the loss minimization process.\n",
    "\n",
    "A major technical issue when training RNNs is the [vanishing/exploding gradient problem](https://en.wikipedia.org/wiki/Vanishing_gradient_problem):  the recurrent nature of the network can lead to exponential growth/decay of the model parameters during training."
   ]
  },
  {
   "cell_type": "markdown",
   "metadata": {},
   "source": [
    "## Example: IMDB sentiment analysis\n",
    "\n",
    "As an illustrative example we will use `keras` to build a sentiment classifier using IMDB movie reviews. Let's first load this data set."
   ]
  },
  {
   "cell_type": "code",
   "execution_count": 11,
   "metadata": {},
   "outputs": [],
   "source": [
    "## The data is stored in here\n",
    "from keras.datasets import imdb"
   ]
  },
  {
   "cell_type": "code",
   "execution_count": 12,
   "metadata": {},
   "outputs": [],
   "source": [
    "## This will determine the number of vocab words in our\n",
    "## dictionary\n",
    "max_features = 10000\n",
    "\n",
    "## num_words tells keras to return the reviews so they contain only\n",
    "## the num_words most used words across all the reviews\n",
    "(X_train, y_train), (X_test,y_test) = imdb.load_data(num_words=max_features)\n",
    "\n",
    "## Note you may receive a warning, this is not your fault, and is due to how\n",
    "## keras is loading the data"
   ]
  },
  {
   "cell_type": "code",
   "execution_count": 13,
   "metadata": {},
   "outputs": [
    {
     "name": "stdout",
     "output_type": "stream",
     "text": [
      "[1, 14, 22, 16, 43, 530, 973, 1622, 1385, 65, 458, 4468, 66, 3941, 4, 173, 36, 256, 5, 25, 100, 43, 838, 112, 50, 670, 2, 9, 35, 480, 284, 5, 150, 4, 172, 112, 167, 2, 336, 385, 39, 4, 172, 4536, 1111, 17, 546, 38, 13, 447, 4, 192, 50, 16, 6, 147, 2025, 19, 14, 22, 4, 1920, 4613, 469, 4, 22, 71, 87, 12, 16, 43, 530, 38, 76, 15, 13, 1247, 4, 22, 17, 515, 17, 12, 16, 626, 18, 2, 5, 62, 386, 12, 8, 316, 8, 106, 5, 4, 2223, 5244, 16, 480, 66, 3785, 33, 4, 130, 12, 16, 38, 619, 5, 25, 124, 51, 36, 135, 48, 25, 1415, 33, 6, 22, 12, 215, 28, 77, 52, 5, 14, 407, 16, 82, 2, 8, 4, 107, 117, 5952, 15, 256, 4, 2, 7, 3766, 5, 723, 36, 71, 43, 530, 476, 26, 400, 317, 46, 7, 4, 2, 1029, 13, 104, 88, 4, 381, 15, 297, 98, 32, 2071, 56, 26, 141, 6, 194, 7486, 18, 4, 226, 22, 21, 134, 476, 26, 480, 5, 144, 30, 5535, 18, 51, 36, 28, 224, 92, 25, 104, 4, 226, 65, 16, 38, 1334, 88, 12, 16, 283, 5, 16, 4472, 113, 103, 32, 15, 16, 5345, 19, 178, 32]\n",
      "1\n"
     ]
    }
   ],
   "source": [
    "## Let's look at the first training observation\n",
    "print(X_train[0])\n",
    "print(y_train[0])"
   ]
  },
  {
   "cell_type": "markdown",
   "metadata": {},
   "source": [
    "The data is stored as a list of indices, each of which is representative of a word. Let's see what this particular review looks like, once we have translated it from indices to words. Do not focus on the following code for now, as it is not important for building the neural network."
   ]
  },
  {
   "cell_type": "code",
   "execution_count": 14,
   "metadata": {},
   "outputs": [
    {
     "name": "stdout",
     "output_type": "stream",
     "text": [
      "? this film was just brilliant casting location scenery story direction everyone's really suited the part they played and you could just imagine being there robert ? is an amazing actor and now the same being director ? father came from the same scottish island as myself so i loved the fact there was a real connection with this film the witty remarks throughout the film were great it was just brilliant so much that i bought the film as soon as it was released for ? and would recommend it to everyone to watch and the fly fishing was amazing really cried at the end it was so sad and you know what they say if you cry at a film it must have been good and this definitely was also ? to the two little boy's that played the ? of norman and paul they were just brilliant children are often left out of the ? list i think because the stars that play them all grown up are such a big profile for the whole film but these children are amazing and should be praised for what they have done don't you think the whole story was so lovely because it was true and was someone's life after all that was shared with us all\n",
      "\n",
      "sentiment value = 1\n"
     ]
    }
   ],
   "source": [
    "word_index = imdb.get_word_index()\n",
    "reverse_word_index = dict([(value, key) for (key,value) in word_index.items()])\n",
    "\n",
    "## The first training review, where words outside the top 1000 are replaced with\n",
    "## ? marks\n",
    "print(\" \".join([reverse_word_index.get(i-3, '?') for i in X_train[0]]))\n",
    "print()\n",
    "print(\"sentiment value =\", y_train[0])"
   ]
  },
  {
   "cell_type": "markdown",
   "metadata": {},
   "source": [
    "The review above had a $y$ value of $1$, meaning that it has positive sentiment. A value of $0$ indicates a negative sentiment.\n",
    "\n"
   ]
  },
  {
   "cell_type": "code",
   "execution_count": 15,
   "metadata": {},
   "outputs": [],
   "source": [
    "## Making our validation set\n",
    "from sklearn.model_selection import train_test_split\n",
    "\n",
    "X_train_train,X_val,y_train_train,y_val = train_test_split(X_train, y_train,\n",
    "                                                           test_size=.2,\n",
    "                                                           shuffle=True,\n",
    "                                                           stratify = y_train,\n",
    "                                                           random_state=440)\n",
    "                                                           "
   ]
  },
  {
   "cell_type": "markdown",
   "metadata": {},
   "source": [
    "A huge feature of the RNN model is the ability to handle variable length inputs."
   ]
  },
  {
   "cell_type": "code",
   "execution_count": 16,
   "metadata": {},
   "outputs": [
    {
     "name": "stdout",
     "output_type": "stream",
     "text": [
      "218 189\n"
     ]
    }
   ],
   "source": [
    "print(len(X_train[0]),len(X_train[1]))"
   ]
  },
  {
   "cell_type": "markdown",
   "metadata": {},
   "source": [
    "Tensorflow has a \"ragged\" tensor type which allows for variable lengths in some dimensions.\n",
    "We now convert our data into tensors of the appropriate type and shape."
   ]
  },
  {
   "cell_type": "code",
   "execution_count": 17,
   "metadata": {},
   "outputs": [],
   "source": [
    "from tensorflow import convert_to_tensor\n",
    "from tensorflow import ragged"
   ]
  },
  {
   "cell_type": "code",
   "execution_count": 18,
   "metadata": {},
   "outputs": [],
   "source": [
    "X_train_train = ragged.constant(X_train_train)\n",
    "X_val = ragged.constant(X_val)\n",
    "X_test = ragged.constant(X_test)\n",
    "y_train = convert_to_tensor(y_train_train)\n",
    "y_val = convert_to_tensor(y_val)\n",
    "y_test = convert_to_tensor(y_test)"
   ]
  },
  {
   "cell_type": "code",
   "execution_count": 19,
   "metadata": {},
   "outputs": [
    {
     "data": {
      "text/plain": [
       "<tf.Tensor: shape=(119,), dtype=int32, numpy=\n",
       "array([   1,   14,    9,    6,  215,   67,   18, 1814,   37, 1388,    2,\n",
       "       4886,  993,  708,   31,  136,   15, 1407,   46,    9,    2, 2846,\n",
       "         12,    9,  324,    8, 3203,   55, 1713,   81,   75,   79,    8,\n",
       "         67,    6,   20,  324,    5, 3757,    4,   96,   14,   20,    9,\n",
       "       1353,   10,   10,    4,   20,  517,   19,    6, 4224,   40, 5915,\n",
       "          5,    6,  289, 1679,  768,    9,    2,    8, 3928,    4, 5915,\n",
       "        190,   31,    7,    4, 1679,  127,   24, 1041,   19,    4,  477,\n",
       "          2,    7,    4,    2,   17, 3113,    4, 1303,  270,   15, 1679,\n",
       "         62,    2,    6,   31,  132, 3500,   83,    4, 5915,   14, 3500,\n",
       "        214,   90,  574,   11,   83,    8,  933,    5,  465, 3908,    7,\n",
       "        312, 1052, 2420,    5,    4,   96,   36,   26, 5407], dtype=int32)>"
      ]
     },
     "execution_count": 19,
     "metadata": {},
     "output_type": "execute_result"
    }
   ],
   "source": [
    "# Look at a few and see that they have different lengths.\n",
    "X_train_train[1]"
   ]
  },
  {
   "cell_type": "markdown",
   "metadata": {},
   "source": [
    "### Making the Network\n",
    "\n",
    "This network will introduce two new layer types `Embedding` and `SimpleRNN`. \n",
    "\n",
    "The [`Embedding`](https://keras.io/api/layers/core_layers/embedding/) layer is preprocessing step which is specific to NLP tasks. You can think of it as a dense layer which takes your one-hot encoded vocabulary to a latent space of specified dimension.  It is implemented as its own custom class instead of just using a dense layer for a couple of reasons:  \n",
    "\n",
    "* Each input of the mode will use only a small fraction of the vocabulary, so it is inefficient to actually use one-hot encoding.\n",
    "* Creating these kinds of \"word embeddings\" is common enough, and has accumulated enough task specific techniques, that it makes sense to have a dedicated class.\n",
    "\n",
    "The [`SimpleRNN`](https://keras.io/api/layers/recurrent_layers/simple_rnn/) layer is the akin to the RNN architecture we described above, but with $y_t = h_t$, i.e.\n",
    "\n",
    "* $\\sigma_2$ is the identity function\n",
    "* $W_yh$ is the identity matrix\n",
    "* $b_y = 0$"
   ]
  },
  {
   "cell_type": "code",
   "execution_count": 20,
   "metadata": {},
   "outputs": [],
   "source": [
    "## Import all the keras stuff we'll need\n",
    "from keras import models\n",
    "from keras import layers\n",
    "from keras import optimizers\n",
    "from keras import losses\n",
    "from keras import metrics"
   ]
  },
  {
   "cell_type": "code",
   "execution_count": 21,
   "metadata": {},
   "outputs": [],
   "source": [
    "model = models.Sequential([\n",
    "    layers.Embedding(max_features, 32), \n",
    "    layers.SimpleRNN(10),\n",
    "    layers.Dense(1, activation='sigmoid')\n",
    "    ])"
   ]
  },
  {
   "cell_type": "markdown",
   "metadata": {},
   "source": [
    "* The Embedding layer has $10000 \\times 32 = 320000$ parameters \n",
    "* The SimpleRNN layer has:\n",
    "    * $W_{hx}$ gives us $10 \\times 32 = 320$ parameters\n",
    "    * $W_{hh}$ gives us $10 \\times 10 = 100$ parameters\n",
    "    * $b_h$ gives us $10$ parameters\n",
    "    * Total of $430$ parameters\n",
    "* The dense layer has $10 + 1 = 11$ parameters ($10$ weights and $1$ bias)."
   ]
  },
  {
   "cell_type": "code",
   "execution_count": 22,
   "metadata": {},
   "outputs": [
    {
     "name": "stdout",
     "output_type": "stream",
     "text": [
      "Model: \"sequential\"\n",
      "_________________________________________________________________\n",
      " Layer (type)                Output Shape              Param #   \n",
      "=================================================================\n",
      " embedding (Embedding)       (None, None, 32)          320000    \n",
      "                                                                 \n",
      " simple_rnn (SimpleRNN)      (None, 10)                430       \n",
      "                                                                 \n",
      " dense (Dense)               (None, 1)                 11        \n",
      "                                                                 \n",
      "=================================================================\n",
      "Total params: 320441 (1.22 MB)\n",
      "Trainable params: 320441 (1.22 MB)\n",
      "Non-trainable params: 0 (0.00 Byte)\n",
      "_________________________________________________________________\n"
     ]
    }
   ],
   "source": [
    "model.summary()"
   ]
  },
  {
   "cell_type": "code",
   "execution_count": 23,
   "metadata": {},
   "outputs": [
    {
     "name": "stdout",
     "output_type": "stream",
     "text": [
      "(10000, 32)\n",
      "(32, 10)\n",
      "(10, 10)\n",
      "(10,)\n",
      "(10, 1)\n",
      "(1,)\n"
     ]
    }
   ],
   "source": [
    "for weight in model.get_weights():\n",
    "    print(weight.shape)"
   ]
  },
  {
   "cell_type": "code",
   "execution_count": 24,
   "metadata": {},
   "outputs": [],
   "source": [
    "model.compile(optimizer='rmsprop',\n",
    "                 loss='binary_crossentropy',\n",
    "                 metrics=['accuracy'])"
   ]
  },
  {
   "cell_type": "code",
   "execution_count": 25,
   "metadata": {},
   "outputs": [
    {
     "name": "stdout",
     "output_type": "stream",
     "text": [
      "Epoch 1/8\n",
      "157/157 [==============================] - 24s 145ms/step - loss: 0.6333 - accuracy: 0.6556 - val_loss: 0.6339 - val_accuracy: 0.6358\n",
      "Epoch 2/8\n",
      "157/157 [==============================] - 23s 144ms/step - loss: 0.4874 - accuracy: 0.7808 - val_loss: 0.4643 - val_accuracy: 0.8002\n",
      "Epoch 3/8\n",
      "157/157 [==============================] - 23s 145ms/step - loss: 0.3748 - accuracy: 0.8485 - val_loss: 0.4063 - val_accuracy: 0.8322\n",
      "Epoch 4/8\n",
      "157/157 [==============================] - 22s 140ms/step - loss: 0.3151 - accuracy: 0.8765 - val_loss: 0.3866 - val_accuracy: 0.8396\n",
      "Epoch 5/8\n",
      "157/157 [==============================] - 22s 143ms/step - loss: 0.2527 - accuracy: 0.9046 - val_loss: 0.4063 - val_accuracy: 0.8388\n",
      "Epoch 6/8\n",
      "157/157 [==============================] - 22s 143ms/step - loss: 0.1961 - accuracy: 0.9290 - val_loss: 0.3634 - val_accuracy: 0.8602\n",
      "Epoch 7/8\n",
      "157/157 [==============================] - 22s 140ms/step - loss: 0.1568 - accuracy: 0.9470 - val_loss: 0.4119 - val_accuracy: 0.8442\n",
      "Epoch 8/8\n",
      "157/157 [==============================] - 23s 144ms/step - loss: 0.1264 - accuracy: 0.9582 - val_loss: 0.3962 - val_accuracy: 0.8526\n"
     ]
    }
   ],
   "source": [
    "epochs = 8\n",
    "\n",
    "history = model.fit(X_train_train, y_train_train,\n",
    "                    epochs = epochs,\n",
    "                    batch_size=128,\n",
    "                    validation_data=(X_val,y_val))"
   ]
  },
  {
   "cell_type": "code",
   "execution_count": 26,
   "metadata": {},
   "outputs": [],
   "source": [
    "history_dict = history.history"
   ]
  },
  {
   "cell_type": "code",
   "execution_count": 27,
   "metadata": {},
   "outputs": [
    {
     "data": {
      "image/png": "[encoded data removed]",
      "text/plain": [
       "<Figure size 800x600 with 1 Axes>"
      ]
     },
     "metadata": {},
     "output_type": "display_data"
    }
   ],
   "source": [
    "## Plotting the training and validation accuracy\n",
    "plt.figure(figsize = (8,6))\n",
    "\n",
    "plt.scatter(range(1,epochs+1), history_dict['accuracy'], label = \"Training Accuracy\")\n",
    "plt.scatter(range(1,epochs+1), history_dict['val_accuracy'], label = \"Validation Set Accuracy\")\n",
    "\n",
    "plt.xlabel(\"Epoch\", fontsize=12)\n",
    "plt.ylabel(\"Accuracy\", fontsize=12)\n",
    "\n",
    "plt.xticks(fontsize=10)\n",
    "plt.yticks(fontsize=10)\n",
    "\n",
    "plt.legend(fontsize=12)\n",
    "\n",
    "plt.show()"
   ]
  },
  {
   "cell_type": "code",
   "execution_count": 28,
   "metadata": {},
   "outputs": [
    {
     "data": {
      "image/png": "[encoded data removed]",
      "text/plain": [
       "<Figure size 800x600 with 1 Axes>"
      ]
     },
     "metadata": {},
     "output_type": "display_data"
    }
   ],
   "source": [
    "## Plotting the training and validation loss\n",
    "plt.figure(figsize = (8,6))\n",
    "\n",
    "plt.scatter(range(1,epochs+1), history_dict['loss'], label = \"Training Loss\")\n",
    "plt.scatter(range(1,epochs+1), history_dict['val_loss'], label = \"Validation Set Loss\")\n",
    "\n",
    "plt.xlabel(\"Epoch\", fontsize=12)\n",
    "plt.ylabel(\"Loss Function Value\", fontsize=12)\n",
    "\n",
    "plt.xticks(fontsize=10)\n",
    "plt.yticks(fontsize=10)\n",
    "\n",
    "plt.legend(fontsize=12)\n",
    "\n",
    "plt.show()"
   ]
  },
  {
   "cell_type": "markdown",
   "metadata": {},
   "source": [
    "# Train and save final model.\n",
    "\n",
    "Four epochs seems like enough.  Let's retrain on the training + validation set, see the test set accuracy, and save the model checkpoint."
   ]
  },
  {
   "cell_type": "code",
   "execution_count": 29,
   "metadata": {},
   "outputs": [
    {
     "name": "stdout",
     "output_type": "stream",
     "text": [
      "Epoch 1/4\n",
      "157/157 [==============================] - 23s 140ms/step - loss: 0.6717 - accuracy: 0.5757\n",
      "Epoch 2/4\n",
      "157/157 [==============================] - 22s 143ms/step - loss: 0.4571 - accuracy: 0.8001\n",
      "Epoch 3/4\n",
      "157/157 [==============================] - 22s 139ms/step - loss: 0.3219 - accuracy: 0.8734\n",
      "Epoch 4/4\n",
      "157/157 [==============================] - 22s 137ms/step - loss: 0.2528 - accuracy: 0.9081\n"
     ]
    },
    {
     "data": {
      "text/plain": [
       "<keras.src.callbacks.History at 0x29276ecd0>"
      ]
     },
     "execution_count": 29,
     "metadata": {},
     "output_type": "execute_result"
    }
   ],
   "source": [
    "final_model = models.Sequential([\n",
    "    layers.Embedding(max_features, 32), \n",
    "    layers.SimpleRNN(10, return_sequences=False),\n",
    "    layers.Dense(1, activation='sigmoid')\n",
    "    ])\n",
    "\n",
    "final_model.compile(optimizer='rmsprop',\n",
    "                 loss='binary_crossentropy',\n",
    "                 metrics=['accuracy'])\n",
    "\n",
    "epochs = 4\n",
    "\n",
    "final_model.fit(X_train_train, y_train_train,\n",
    "                epochs = epochs,\n",
    "                batch_size=128)"
   ]
  },
  {
   "cell_type": "code",
   "execution_count": 30,
   "metadata": {},
   "outputs": [
    {
     "name": "stdout",
     "output_type": "stream",
     "text": [
      "782/782 [==============================] - 11s 14ms/step\n"
     ]
    }
   ],
   "source": [
    "preds = final_model.predict(X_test)"
   ]
  },
  {
   "cell_type": "code",
   "execution_count": 31,
   "metadata": {},
   "outputs": [
    {
     "data": {
      "text/plain": [
       "array([0., 1., 0., ..., 0., 0., 0.], dtype=float32)"
      ]
     },
     "execution_count": 31,
     "metadata": {},
     "output_type": "execute_result"
    }
   ],
   "source": [
    "preds.reshape(-1).round()"
   ]
  },
  {
   "cell_type": "code",
   "execution_count": 32,
   "metadata": {},
   "outputs": [
    {
     "data": {
      "text/plain": [
       "0.72656"
      ]
     },
     "execution_count": 32,
     "metadata": {},
     "output_type": "execute_result"
    }
   ],
   "source": [
    "from sklearn.metrics import accuracy_score\n",
    "\n",
    "accuracy_score(y_test, preds.reshape(-1).round())"
   ]
  },
  {
   "cell_type": "code",
   "execution_count": 33,
   "metadata": {},
   "outputs": [],
   "source": [
    "final_model.save('lecture_12_assets/imdb_model.keras')"
   ]
  },
  {
   "cell_type": "markdown",
   "metadata": {},
   "source": [
    "## Next steps\n",
    "\n",
    "`SimpleRNN` is actually a seldom used RNN layer type because there are more complicated `keras` layers that tend to outperform `SimpleRNN`.  In particular, the most commonly used RNN layer used in practice are [Long Short Term Memory (`LSTM`)](https://en.wikipedia.org/wiki/Long_short-term_memory) layers, which partially address the vanishing gradient problem by allowing the RNN to \"forget\" irrelevant pieces of information."
   ]
  },
  {
   "cell_type": "markdown",
   "metadata": {},
   "source": [
    "--------------------------\n",
    "\n",
    "This notebook was written for the Erd&#337;s Institute C&#337;de Data Science Boot Camp by Matthew Osborne, Ph. D., 2023.  Modified by Steven Gubkin 2024.\n",
    "\n",
    "Any potential redistributors must seek and receive permission from Matthew Tyler Osborne, Ph.D. prior to redistribution. Redistribution of the material contained in this repository is conditional on acknowledgement of Matthew Tyler Osborne, Ph.D.'s original authorship and sponsorship of the Erdős Institute as subject to the license (see License.md)"
   ]
  }
 ],
 "metadata": {
  "kernelspec": {
   "display_name": "Python 3 (ipykernel)",
   "language": "python",
   "name": "python3"
  },
  "language_info": {
   "codemirror_mode": {
    "name": "ipython",
    "version": 3
   },
   "file_extension": ".py",
   "mimetype": "text/x-python",
   "name": "python",
   "nbconvert_exporter": "python",
   "pygments_lexer": "ipython3",
   "version": "3.11.7"
  }
 },
 "nbformat": 4,
 "nbformat_minor": 2
}
