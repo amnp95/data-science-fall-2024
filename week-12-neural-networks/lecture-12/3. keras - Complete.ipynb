{
 "cells": [
  {
   "cell_type": "markdown",
   "metadata": {},
   "source": [
    "# `keras`\n",
    "\n",
    "Let's now introduce a python package called `keras` which will provide us with greater versatility in building neural networks than `sklearn`.\n",
    "\n",
    "## What we will accomplish\n",
    "\n",
    "In this notebook we will\n",
    "- Introduce `keras`:\n",
    "    - Discuss how to install it,\n",
    "- Review its syntax and\n",
    "- Demonstrate how to build feed forward networks in `keras`."
   ]
  },
  {
   "cell_type": "code",
   "execution_count": 1,
   "metadata": {},
   "outputs": [],
   "source": [
    "## For data handling\n",
    "import pandas as pd\n",
    "import numpy as np\n",
    "\n",
    "## For plotting\n",
    "import matplotlib.pyplot as plt\n",
    "import seaborn as sns\n",
    "\n",
    "sns.set_style(\"darkgrid\")"
   ]
  },
  {
   "cell_type": "markdown",
   "metadata": {},
   "source": [
    "Moving forward we will be building our neural networks with `keras`.\n",
    "\n",
    "From their documentation:\n",
    "\n",
    "<blockquote>\n",
    "Keras is a deep learning API written in Python, running on top of the machine learning platform TensorFlow. It was developed with a focus on enabling fast experimentation. Being able to go from idea to result as fast as possible is key to doing good research.\n",
    "</blockquote>\n",
    "\n",
    "In this notebook we will lay out how to build feed forward multi-layer networks.\n",
    "\n",
    "For reference, this material is being built by looking at the `keras` documentation <a href=\"https://keras.io/about/\">https://keras.io/about/</a> and the book, <a href=\"https://github.com/letspython3x/Books/blob/master/Deep%20Learning%20with%20Python.pdf\">Deep Learning with Python</a>. In particular this notebook's content comes from chapters 3 and 4 of that text.\n",
    "\n",
    "## Installation\n",
    "\n",
    "You may not have `keras` installed on your computer at this point. Try and run the following code chunk."
   ]
  },
  {
   "cell_type": "code",
   "execution_count": 2,
   "metadata": {},
   "outputs": [
    {
     "name": "stdout",
     "output_type": "stream",
     "text": [
      "2.11.0\n"
     ]
    }
   ],
   "source": [
    "import keras\n",
    "\n",
    "# if the above did not work \n",
    "# uncomment and then try the below\n",
    "# from tensorflow import keras\n",
    "\n",
    "print(keras.__version__)"
   ]
  },
  {
   "cell_type": "markdown",
   "metadata": {},
   "source": [
    "If this ran for you, then you already have `keras` installed. For reference, the version of `keras` that I was running while writing this notebook was `2.11.0`.\n",
    "\n",
    "If you received an error while running that code chunk you likely need to install `keras` to move forward.\n",
    "\n",
    "##### Using `pip`\n",
    "\n",
    "If you use `pip` to install packages try running:\n",
    "\n",
    "`pip install keras`\n",
    "\n",
    "in your command line or terminal to install `keras`.\n",
    "\n",
    "##### Using `conda`\n",
    "\n",
    "If you use `conda` try what is recommended at this link, <a href=\"https://anaconda.org/conda-forge/keras\">https://anaconda.org/conda-forge/keras</a>.\n",
    "\n",
    "##### Apple M1 chip computers\n",
    "\n",
    "If you have an Apple computer with an M1 chip you may need extra help. Earlier in 2022 the `keras` package installation instructions did not yet play nicely with such hardware. Try performing a web search for relevant instructions.\n",
    "\n",
    "If you are unsure if you have an M1 chip, check with these instructions <a href=\"https://www.howtogeek.com/706226/how-to-check-if-your-mac-is-using-an-intel-or-apple-silicon-processor/\">https://www.howtogeek.com/706226/how-to-check-if-your-mac-is-using-an-intel-or-apple-silicon-processor/</a>."
   ]
  },
  {
   "cell_type": "markdown",
   "metadata": {},
   "source": [
    "## Building a neural net with `keras`\n",
    "\n",
    "### Classifying MNIST\n",
    "\n",
    "We will mimic our `sklearn` networks from the last notebook and build an MNIST classifier, using the `keras` version of the data."
   ]
  },
  {
   "cell_type": "code",
   "execution_count": 3,
   "metadata": {},
   "outputs": [],
   "source": [
    "## This imports datasets stored in keras\n",
    "from keras.datasets import mnist"
   ]
  },
  {
   "cell_type": "code",
   "execution_count": 4,
   "metadata": {},
   "outputs": [
    {
     "name": "stdout",
     "output_type": "stream",
     "text": [
      "og shape of X_train (60000, 28, 28)\n"
     ]
    }
   ],
   "source": [
    "## Here we load the data\n",
    "(X_train, y_train),(X_test, y_test) = mnist.load_data()\n",
    "\n",
    "print(\"og shape of X_train\", np.shape(X_train))"
   ]
  },
  {
   "cell_type": "markdown",
   "metadata": {},
   "source": [
    "##### Reshape the data to be a single column\n",
    "\n",
    "We will now reshape the data so that it has $60{,}000$ observations ($10{,}000$ for the test set) of $28\\times28$ pixels. This will give us a $60000 \\times 784$ $2$-D `numpy` array ($10000 \\times 784$ for the test set)."
   ]
  },
  {
   "cell_type": "code",
   "execution_count": 5,
   "metadata": {},
   "outputs": [
    {
     "name": "stdout",
     "output_type": "stream",
     "text": [
      "The new shape of X_train is (60000, 784)\n",
      "The new shape of X_test is (10000, 784)\n"
     ]
    }
   ],
   "source": [
    "X_train = X_train.reshape(-1,28*28)\n",
    "X_test = X_test.reshape(-1,28*28)\n",
    "\n",
    "print(\"The new shape of X_train is\", np.shape(X_train))\n",
    "print(\"The new shape of X_test is\", np.shape(X_test))\n",
    "\n",
    "X_train = X_train/255\n",
    "X_test = X_test/255"
   ]
  },
  {
   "cell_type": "markdown",
   "metadata": {},
   "source": [
    "### Building the networks\n",
    "\n",
    "We start by importing all of the necessary pieces. We will explain each piece as we need it."
   ]
  },
  {
   "cell_type": "code",
   "execution_count": 6,
   "metadata": {},
   "outputs": [],
   "source": [
    "## import things\n",
    "from keras import models\n",
    "from keras import layers\n",
    "from keras import optimizers\n",
    "from keras import losses\n",
    "from keras import metrics\n",
    "from keras.utils.np_utils import to_categorical\n",
    "\n",
    "# for earlier versions of keras run this instead\n",
    "# from keras.utils import to_categorical\n",
    "# instead of running\n",
    "# from keras.utils.np_utils import to_categorical\n",
    "# or look up the documentation for your version\n"
   ]
  },
  {
   "cell_type": "markdown",
   "metadata": {},
   "source": [
    "What we learned as feed forward networks in the last notebook are also called <i>dense</i> networks because they are fully connected graphs.\n",
    "\n",
    "We will now walk through the process of making a dense neural networks using `keras`.\n",
    "\n",
    "##### 1. Make an empty `model`"
   ]
  },
  {
   "cell_type": "code",
   "execution_count": 7,
   "metadata": {},
   "outputs": [],
   "source": [
    "## we first make an empty model\n",
    "## Sequential means we'll make a group\n",
    "## of a linear stack of layers\n",
    "model = models.Sequential()"
   ]
  },
  {
   "cell_type": "markdown",
   "metadata": {},
   "source": [
    "##### 2. Add the layers to the `model`\n",
    "\n",
    "We will build the following neural network architecture in this step.\n",
    "\n",
    "<img src=\"mnist_net.png\" width=\"70%\"></img>"
   ]
  },
  {
   "cell_type": "code",
   "execution_count": 8,
   "metadata": {},
   "outputs": [],
   "source": [
    "###### ONLY RUN THIS ONCE! ##########\n",
    "\n",
    "## you add a layer with .add()\n",
    "## A Dense layer means a fully connected feedforward layer\n",
    "## the 16 means the layer is 16 nodes tall\n",
    "## activation='relu' means the layer uses a relu activation function\n",
    "## the first layer needs to be told the shape of the input data\n",
    "model.add(layers.Dense(16, activation = 'relu', input_shape=(28*28,)))\n",
    "\n",
    "# we then add a second layer that is 16 nodes tall\n",
    "# and uses the relu activation function\n",
    "# note we don't need the input shape here, \n",
    "# it is inferred from the first layer's output\n",
    "model.add(layers.Dense(16, activation = 'relu'))\n",
    "\n",
    "\n",
    "# finally we add the output layer\n",
    "# this will have a single node, representing a probability\n",
    "# that the observation has positive sentiment\n",
    "# this is why the activation is a softmax\n",
    "# for more information on the softmax see the Practice Problems\n",
    "model.add(layers.Dense(10, activation = 'softmax'))"
   ]
  },
  {
   "cell_type": "code",
   "execution_count": 9,
   "metadata": {},
   "outputs": [
    {
     "name": "stdout",
     "output_type": "stream",
     "text": [
      "Model: \"sequential\"\n",
      "_________________________________________________________________\n",
      " Layer (type)                Output Shape              Param #   \n",
      "=================================================================\n",
      " dense (Dense)               (None, 16)                12560     \n",
      "                                                                 \n",
      " dense_1 (Dense)             (None, 16)                272       \n",
      "                                                                 \n",
      " dense_2 (Dense)             (None, 10)                170       \n",
      "                                                                 \n",
      "=================================================================\n",
      "Total params: 13,002\n",
      "Trainable params: 13,002\n",
      "Non-trainable params: 0\n",
      "_________________________________________________________________\n"
     ]
    }
   ],
   "source": [
    "model.summary()"
   ]
  },
  {
   "cell_type": "markdown",
   "metadata": {},
   "source": [
    "##### 3. Compile the model with an optimizer,  loss and metric\n",
    "\n",
    "The optimizer we use is `rmsprop`, this is an algorithm implemented by `keras` to perform the backpropagation step in fitting the neural network.\n",
    "\n",
    "The loss we use is `categorical_crossentropy` which stems from information theory, this is the \"cost function\" we discussed in notebook 3. This is a common and popular choice for classification problems. See the HW notebook for an explanation of crossentropy.\n",
    "\n",
    "The metric we use is simply `accuracy`.\n",
    "\n",
    "Note that there are more options for all three of these choices and if you are interested in seeing more check out the `keras` documentation, it has an excellent search bar. There is also the possibility to use your own custom inputs as well."
   ]
  },
  {
   "cell_type": "code",
   "execution_count": 10,
   "metadata": {},
   "outputs": [],
   "source": [
    "## we compile the network like so\n",
    "## call .compile\n",
    "## set our optimizer, optimizer='rmsprop'\n",
    "## set our loss, loss='categorical_crossentropy'\n",
    "## set our desired metrics, metrics=['accuracy']\n",
    "model.compile(optimizer='rmsprop', \n",
    "                 loss='categorical_crossentropy',\n",
    "                 metrics=['accuracy'])"
   ]
  },
  {
   "cell_type": "markdown",
   "metadata": {},
   "source": [
    "##### 4. Fit the model on the training data\n",
    "\n",
    "We fit our model on the training data, we'll look at $100$ epochs that use batch gradient descent with a batch size of `512` observations per batch.\n",
    "\n",
    "We first create a validation set, this will be additional input for the model."
   ]
  },
  {
   "cell_type": "code",
   "execution_count": 11,
   "metadata": {},
   "outputs": [],
   "source": [
    "## First make the validation set\n",
    "from sklearn.model_selection import train_test_split\n",
    "\n",
    "X_train_train,X_val,y_train_train,y_val = train_test_split(X_train, y_train,\n",
    "                                                          test_size=.2,\n",
    "                                                          shuffle=True,\n",
    "                                                          stratify=y_train,\n",
    "                                                          random_state=440)"
   ]
  },
  {
   "cell_type": "markdown",
   "metadata": {},
   "source": [
    "##### `to_categorical`\n",
    "\n",
    "In order for the desired output of our model to play nicely with the training and validation data we have to first turn each observation into a categorical output with the `keras` function `to_categorical`. Let's see what this does."
   ]
  },
  {
   "cell_type": "code",
   "execution_count": 12,
   "metadata": {},
   "outputs": [
    {
     "name": "stdout",
     "output_type": "stream",
     "text": [
      "[0 7 2 ... 4 8 5]\n",
      "\n",
      "\n",
      "\n",
      "\n",
      "[[1. 0. 0. ... 0. 0. 0.]\n",
      " [0. 0. 0. ... 1. 0. 0.]\n",
      " [0. 0. 1. ... 0. 0. 0.]\n",
      " ...\n",
      " [0. 0. 0. ... 0. 0. 0.]\n",
      " [0. 0. 0. ... 0. 1. 0.]\n",
      " [0. 0. 0. ... 0. 0. 0.]]\n"
     ]
    }
   ],
   "source": [
    "print(y_train_train)\n",
    "\n",
    "print(\"\\n\\n\\n\")\n",
    "\n",
    "print(to_categorical(y_train_train))"
   ]
  },
  {
   "cell_type": "code",
   "execution_count": 13,
   "metadata": {},
   "outputs": [
    {
     "name": "stdout",
     "output_type": "stream",
     "text": [
      "Epoch 1/100\n"
     ]
    },
    {
     "name": "stderr",
     "output_type": "stream",
     "text": [
      "2023-04-19 10:34:45.150661: W tensorflow/tsl/platform/profile_utils/cpu_utils.cc:128] Failed to get CPU frequency: 0 Hz\n"
     ]
    },
    {
     "name": "stdout",
     "output_type": "stream",
     "text": [
      "94/94 [==============================] - 0s 2ms/step - loss: 1.1582 - accuracy: 0.6670 - val_loss: 0.5601 - val_accuracy: 0.8585\n",
      "Epoch 2/100\n",
      "94/94 [==============================] - 0s 1ms/step - loss: 0.4269 - accuracy: 0.8848 - val_loss: 0.3652 - val_accuracy: 0.8995\n",
      "Epoch 3/100\n",
      "94/94 [==============================] - 0s 1ms/step - loss: 0.3239 - accuracy: 0.9083 - val_loss: 0.3159 - val_accuracy: 0.9107\n",
      "Epoch 4/100\n",
      "94/94 [==============================] - 0s 1ms/step - loss: 0.2867 - accuracy: 0.9181 - val_loss: 0.2955 - val_accuracy: 0.9143\n",
      "Epoch 5/100\n",
      "94/94 [==============================] - 0s 1ms/step - loss: 0.2651 - accuracy: 0.9234 - val_loss: 0.2763 - val_accuracy: 0.9227\n",
      "Epoch 6/100\n",
      "94/94 [==============================] - 0s 1ms/step - loss: 0.2481 - accuracy: 0.9287 - val_loss: 0.2640 - val_accuracy: 0.9243\n",
      "Epoch 7/100\n",
      "94/94 [==============================] - 0s 1ms/step - loss: 0.2361 - accuracy: 0.9309 - val_loss: 0.2526 - val_accuracy: 0.9315\n",
      "Epoch 8/100\n",
      "94/94 [==============================] - 0s 1ms/step - loss: 0.2251 - accuracy: 0.9347 - val_loss: 0.2444 - val_accuracy: 0.9305\n",
      "Epoch 9/100\n",
      "94/94 [==============================] - 0s 1ms/step - loss: 0.2158 - accuracy: 0.9374 - val_loss: 0.2388 - val_accuracy: 0.9331\n",
      "Epoch 10/100\n",
      "94/94 [==============================] - 0s 1ms/step - loss: 0.2080 - accuracy: 0.9404 - val_loss: 0.2283 - val_accuracy: 0.9356\n",
      "Epoch 11/100\n",
      "94/94 [==============================] - 0s 2ms/step - loss: 0.2010 - accuracy: 0.9414 - val_loss: 0.2228 - val_accuracy: 0.9373\n",
      "Epoch 12/100\n",
      "94/94 [==============================] - 0s 1ms/step - loss: 0.1939 - accuracy: 0.9441 - val_loss: 0.2193 - val_accuracy: 0.9394\n",
      "Epoch 13/100\n",
      "94/94 [==============================] - 0s 1ms/step - loss: 0.1891 - accuracy: 0.9448 - val_loss: 0.2193 - val_accuracy: 0.9383\n",
      "Epoch 14/100\n",
      "94/94 [==============================] - 0s 1ms/step - loss: 0.1838 - accuracy: 0.9465 - val_loss: 0.2147 - val_accuracy: 0.9422\n",
      "Epoch 15/100\n",
      "94/94 [==============================] - 0s 2ms/step - loss: 0.1787 - accuracy: 0.9480 - val_loss: 0.2161 - val_accuracy: 0.9393\n",
      "Epoch 16/100\n",
      "94/94 [==============================] - 0s 1ms/step - loss: 0.1750 - accuracy: 0.9495 - val_loss: 0.2090 - val_accuracy: 0.9419\n",
      "Epoch 17/100\n",
      "94/94 [==============================] - 0s 1ms/step - loss: 0.1708 - accuracy: 0.9509 - val_loss: 0.2070 - val_accuracy: 0.9440\n",
      "Epoch 18/100\n",
      "94/94 [==============================] - 0s 2ms/step - loss: 0.1674 - accuracy: 0.9517 - val_loss: 0.2057 - val_accuracy: 0.9426\n",
      "Epoch 19/100\n",
      "94/94 [==============================] - 0s 1ms/step - loss: 0.1641 - accuracy: 0.9525 - val_loss: 0.2011 - val_accuracy: 0.9446\n",
      "Epoch 20/100\n",
      "94/94 [==============================] - 0s 1ms/step - loss: 0.1604 - accuracy: 0.9536 - val_loss: 0.2075 - val_accuracy: 0.9419\n",
      "Epoch 21/100\n",
      "94/94 [==============================] - 0s 1ms/step - loss: 0.1576 - accuracy: 0.9546 - val_loss: 0.1991 - val_accuracy: 0.9452\n",
      "Epoch 22/100\n",
      "94/94 [==============================] - 0s 1ms/step - loss: 0.1540 - accuracy: 0.9545 - val_loss: 0.1943 - val_accuracy: 0.9474\n",
      "Epoch 23/100\n",
      "94/94 [==============================] - 0s 1ms/step - loss: 0.1521 - accuracy: 0.9560 - val_loss: 0.1945 - val_accuracy: 0.9464\n",
      "Epoch 24/100\n",
      "94/94 [==============================] - 0s 1ms/step - loss: 0.1493 - accuracy: 0.9568 - val_loss: 0.1988 - val_accuracy: 0.9448\n",
      "Epoch 25/100\n",
      "94/94 [==============================] - 0s 1ms/step - loss: 0.1467 - accuracy: 0.9567 - val_loss: 0.1964 - val_accuracy: 0.9456\n",
      "Epoch 26/100\n",
      "94/94 [==============================] - 0s 1ms/step - loss: 0.1439 - accuracy: 0.9583 - val_loss: 0.1920 - val_accuracy: 0.9483\n",
      "Epoch 27/100\n",
      "94/94 [==============================] - 0s 1ms/step - loss: 0.1417 - accuracy: 0.9587 - val_loss: 0.1876 - val_accuracy: 0.9493\n",
      "Epoch 28/100\n",
      "94/94 [==============================] - 0s 2ms/step - loss: 0.1395 - accuracy: 0.9593 - val_loss: 0.1938 - val_accuracy: 0.9463\n",
      "Epoch 29/100\n",
      "94/94 [==============================] - 0s 1ms/step - loss: 0.1378 - accuracy: 0.9601 - val_loss: 0.1876 - val_accuracy: 0.9485\n",
      "Epoch 30/100\n",
      "94/94 [==============================] - 0s 1ms/step - loss: 0.1353 - accuracy: 0.9605 - val_loss: 0.1916 - val_accuracy: 0.9454\n",
      "Epoch 31/100\n",
      "94/94 [==============================] - 0s 1ms/step - loss: 0.1333 - accuracy: 0.9615 - val_loss: 0.1872 - val_accuracy: 0.9503\n",
      "Epoch 32/100\n",
      "94/94 [==============================] - 0s 1ms/step - loss: 0.1317 - accuracy: 0.9612 - val_loss: 0.1894 - val_accuracy: 0.9488\n",
      "Epoch 33/100\n",
      "94/94 [==============================] - 0s 2ms/step - loss: 0.1302 - accuracy: 0.9617 - val_loss: 0.1859 - val_accuracy: 0.9482\n",
      "Epoch 34/100\n",
      "94/94 [==============================] - 0s 1ms/step - loss: 0.1282 - accuracy: 0.9626 - val_loss: 0.1837 - val_accuracy: 0.9497\n",
      "Epoch 35/100\n",
      "94/94 [==============================] - 0s 2ms/step - loss: 0.1262 - accuracy: 0.9621 - val_loss: 0.1884 - val_accuracy: 0.9484\n",
      "Epoch 36/100\n",
      "94/94 [==============================] - 0s 2ms/step - loss: 0.1248 - accuracy: 0.9630 - val_loss: 0.1853 - val_accuracy: 0.9481\n",
      "Epoch 37/100\n",
      "94/94 [==============================] - 0s 2ms/step - loss: 0.1233 - accuracy: 0.9634 - val_loss: 0.1856 - val_accuracy: 0.9492\n",
      "Epoch 38/100\n",
      "94/94 [==============================] - 0s 2ms/step - loss: 0.1218 - accuracy: 0.9638 - val_loss: 0.1853 - val_accuracy: 0.9488\n",
      "Epoch 39/100\n",
      "94/94 [==============================] - 0s 2ms/step - loss: 0.1203 - accuracy: 0.9643 - val_loss: 0.1857 - val_accuracy: 0.9483\n",
      "Epoch 40/100\n",
      "94/94 [==============================] - 0s 1ms/step - loss: 0.1199 - accuracy: 0.9644 - val_loss: 0.1831 - val_accuracy: 0.9492\n",
      "Epoch 41/100\n",
      "94/94 [==============================] - 0s 1ms/step - loss: 0.1176 - accuracy: 0.9656 - val_loss: 0.1829 - val_accuracy: 0.9501\n",
      "Epoch 42/100\n",
      "94/94 [==============================] - 0s 1ms/step - loss: 0.1161 - accuracy: 0.9662 - val_loss: 0.1844 - val_accuracy: 0.9498\n",
      "Epoch 43/100\n",
      "94/94 [==============================] - 0s 1ms/step - loss: 0.1155 - accuracy: 0.9657 - val_loss: 0.1845 - val_accuracy: 0.9492\n",
      "Epoch 44/100\n",
      "94/94 [==============================] - 0s 1ms/step - loss: 0.1139 - accuracy: 0.9655 - val_loss: 0.1829 - val_accuracy: 0.9498\n",
      "Epoch 45/100\n",
      "94/94 [==============================] - 0s 1ms/step - loss: 0.1130 - accuracy: 0.9663 - val_loss: 0.1841 - val_accuracy: 0.9496\n",
      "Epoch 46/100\n",
      "94/94 [==============================] - 0s 1ms/step - loss: 0.1116 - accuracy: 0.9668 - val_loss: 0.1833 - val_accuracy: 0.9502\n",
      "Epoch 47/100\n",
      "94/94 [==============================] - 0s 1ms/step - loss: 0.1106 - accuracy: 0.9672 - val_loss: 0.1823 - val_accuracy: 0.9508\n",
      "Epoch 48/100\n",
      "94/94 [==============================] - 0s 2ms/step - loss: 0.1093 - accuracy: 0.9680 - val_loss: 0.1876 - val_accuracy: 0.9482\n",
      "Epoch 49/100\n",
      "94/94 [==============================] - 0s 1ms/step - loss: 0.1086 - accuracy: 0.9676 - val_loss: 0.1837 - val_accuracy: 0.9515\n",
      "Epoch 50/100\n",
      "94/94 [==============================] - 0s 1ms/step - loss: 0.1080 - accuracy: 0.9677 - val_loss: 0.1822 - val_accuracy: 0.9504\n",
      "Epoch 51/100\n",
      "94/94 [==============================] - 0s 1ms/step - loss: 0.1070 - accuracy: 0.9686 - val_loss: 0.1948 - val_accuracy: 0.9465\n",
      "Epoch 52/100\n",
      "94/94 [==============================] - 0s 1ms/step - loss: 0.1057 - accuracy: 0.9693 - val_loss: 0.1851 - val_accuracy: 0.9495\n",
      "Epoch 53/100\n",
      "94/94 [==============================] - 0s 1ms/step - loss: 0.1047 - accuracy: 0.9691 - val_loss: 0.1794 - val_accuracy: 0.9518\n",
      "Epoch 54/100\n",
      "94/94 [==============================] - 0s 1ms/step - loss: 0.1031 - accuracy: 0.9694 - val_loss: 0.1799 - val_accuracy: 0.9512\n",
      "Epoch 55/100\n",
      "94/94 [==============================] - 0s 1ms/step - loss: 0.1030 - accuracy: 0.9696 - val_loss: 0.1808 - val_accuracy: 0.9503\n",
      "Epoch 56/100\n",
      "94/94 [==============================] - 0s 1ms/step - loss: 0.1019 - accuracy: 0.9700 - val_loss: 0.1819 - val_accuracy: 0.9513\n",
      "Epoch 57/100\n",
      "94/94 [==============================] - 0s 1ms/step - loss: 0.1015 - accuracy: 0.9696 - val_loss: 0.1833 - val_accuracy: 0.9499\n",
      "Epoch 58/100\n",
      "94/94 [==============================] - 0s 1ms/step - loss: 0.1002 - accuracy: 0.9703 - val_loss: 0.1831 - val_accuracy: 0.9498\n"
     ]
    },
    {
     "name": "stdout",
     "output_type": "stream",
     "text": [
      "Epoch 59/100\n",
      "94/94 [==============================] - 0s 1ms/step - loss: 0.0996 - accuracy: 0.9708 - val_loss: 0.1814 - val_accuracy: 0.9515\n",
      "Epoch 60/100\n",
      "94/94 [==============================] - 0s 1ms/step - loss: 0.0989 - accuracy: 0.9712 - val_loss: 0.1882 - val_accuracy: 0.9499\n",
      "Epoch 61/100\n",
      "94/94 [==============================] - 0s 1ms/step - loss: 0.0975 - accuracy: 0.9714 - val_loss: 0.1822 - val_accuracy: 0.9514\n",
      "Epoch 62/100\n",
      "94/94 [==============================] - 0s 1ms/step - loss: 0.0969 - accuracy: 0.9712 - val_loss: 0.1835 - val_accuracy: 0.9513\n",
      "Epoch 63/100\n",
      "94/94 [==============================] - 0s 1ms/step - loss: 0.0965 - accuracy: 0.9712 - val_loss: 0.1848 - val_accuracy: 0.9507\n",
      "Epoch 64/100\n",
      "94/94 [==============================] - 0s 1ms/step - loss: 0.0952 - accuracy: 0.9723 - val_loss: 0.1844 - val_accuracy: 0.9516\n",
      "Epoch 65/100\n",
      "94/94 [==============================] - 0s 1ms/step - loss: 0.0947 - accuracy: 0.9715 - val_loss: 0.1895 - val_accuracy: 0.9482\n",
      "Epoch 66/100\n",
      "94/94 [==============================] - 0s 1ms/step - loss: 0.0940 - accuracy: 0.9722 - val_loss: 0.1852 - val_accuracy: 0.9496\n",
      "Epoch 67/100\n",
      "94/94 [==============================] - 0s 1ms/step - loss: 0.0933 - accuracy: 0.9726 - val_loss: 0.1814 - val_accuracy: 0.9522\n",
      "Epoch 68/100\n",
      "94/94 [==============================] - 0s 1ms/step - loss: 0.0920 - accuracy: 0.9731 - val_loss: 0.1844 - val_accuracy: 0.9501\n",
      "Epoch 69/100\n",
      "94/94 [==============================] - 0s 1ms/step - loss: 0.0918 - accuracy: 0.9730 - val_loss: 0.1814 - val_accuracy: 0.9517\n",
      "Epoch 70/100\n",
      "94/94 [==============================] - 0s 1ms/step - loss: 0.0914 - accuracy: 0.9728 - val_loss: 0.1782 - val_accuracy: 0.9525\n",
      "Epoch 71/100\n",
      "94/94 [==============================] - 0s 1ms/step - loss: 0.0905 - accuracy: 0.9733 - val_loss: 0.1809 - val_accuracy: 0.9525\n",
      "Epoch 72/100\n",
      "94/94 [==============================] - 0s 1ms/step - loss: 0.0902 - accuracy: 0.9737 - val_loss: 0.1840 - val_accuracy: 0.9523\n",
      "Epoch 73/100\n",
      "94/94 [==============================] - 0s 1ms/step - loss: 0.0896 - accuracy: 0.9733 - val_loss: 0.1872 - val_accuracy: 0.9516\n",
      "Epoch 74/100\n",
      "94/94 [==============================] - 0s 1ms/step - loss: 0.0883 - accuracy: 0.9741 - val_loss: 0.1800 - val_accuracy: 0.9527\n",
      "Epoch 75/100\n",
      "94/94 [==============================] - 0s 1ms/step - loss: 0.0880 - accuracy: 0.9735 - val_loss: 0.1822 - val_accuracy: 0.9509\n",
      "Epoch 76/100\n",
      "94/94 [==============================] - 0s 1ms/step - loss: 0.0875 - accuracy: 0.9741 - val_loss: 0.1819 - val_accuracy: 0.9524\n",
      "Epoch 77/100\n",
      "94/94 [==============================] - 0s 1ms/step - loss: 0.0866 - accuracy: 0.9744 - val_loss: 0.1836 - val_accuracy: 0.9517\n",
      "Epoch 78/100\n",
      "94/94 [==============================] - 0s 1ms/step - loss: 0.0858 - accuracy: 0.9748 - val_loss: 0.1828 - val_accuracy: 0.9524\n",
      "Epoch 79/100\n",
      "94/94 [==============================] - 0s 1ms/step - loss: 0.0854 - accuracy: 0.9745 - val_loss: 0.1851 - val_accuracy: 0.9518\n",
      "Epoch 80/100\n",
      "94/94 [==============================] - 0s 1ms/step - loss: 0.0850 - accuracy: 0.9753 - val_loss: 0.1883 - val_accuracy: 0.9500\n",
      "Epoch 81/100\n",
      "94/94 [==============================] - 0s 1ms/step - loss: 0.0840 - accuracy: 0.9753 - val_loss: 0.1939 - val_accuracy: 0.9504\n",
      "Epoch 82/100\n",
      "94/94 [==============================] - 0s 1ms/step - loss: 0.0834 - accuracy: 0.9752 - val_loss: 0.1843 - val_accuracy: 0.9519\n",
      "Epoch 83/100\n",
      "94/94 [==============================] - 0s 1ms/step - loss: 0.0831 - accuracy: 0.9755 - val_loss: 0.1864 - val_accuracy: 0.9521\n",
      "Epoch 84/100\n",
      "94/94 [==============================] - 0s 1ms/step - loss: 0.0832 - accuracy: 0.9750 - val_loss: 0.1864 - val_accuracy: 0.9517\n",
      "Epoch 85/100\n",
      "94/94 [==============================] - 0s 1ms/step - loss: 0.0820 - accuracy: 0.9759 - val_loss: 0.1847 - val_accuracy: 0.9506\n",
      "Epoch 86/100\n",
      "94/94 [==============================] - 0s 1ms/step - loss: 0.0819 - accuracy: 0.9754 - val_loss: 0.1886 - val_accuracy: 0.9515\n",
      "Epoch 87/100\n",
      "94/94 [==============================] - 0s 1ms/step - loss: 0.0813 - accuracy: 0.9764 - val_loss: 0.2029 - val_accuracy: 0.9469\n",
      "Epoch 88/100\n",
      "94/94 [==============================] - 0s 1ms/step - loss: 0.0806 - accuracy: 0.9765 - val_loss: 0.1873 - val_accuracy: 0.9525\n",
      "Epoch 89/100\n",
      "94/94 [==============================] - 0s 1ms/step - loss: 0.0798 - accuracy: 0.9768 - val_loss: 0.1891 - val_accuracy: 0.9521\n",
      "Epoch 90/100\n",
      "94/94 [==============================] - 0s 1ms/step - loss: 0.0799 - accuracy: 0.9765 - val_loss: 0.1867 - val_accuracy: 0.9513\n",
      "Epoch 91/100\n",
      "94/94 [==============================] - 0s 1ms/step - loss: 0.0792 - accuracy: 0.9766 - val_loss: 0.1865 - val_accuracy: 0.9518\n",
      "Epoch 92/100\n",
      "94/94 [==============================] - 0s 1ms/step - loss: 0.0787 - accuracy: 0.9769 - val_loss: 0.1881 - val_accuracy: 0.9517\n",
      "Epoch 93/100\n",
      "94/94 [==============================] - 0s 1ms/step - loss: 0.0780 - accuracy: 0.9769 - val_loss: 0.1896 - val_accuracy: 0.9517\n",
      "Epoch 94/100\n",
      "94/94 [==============================] - 0s 2ms/step - loss: 0.0776 - accuracy: 0.9776 - val_loss: 0.1913 - val_accuracy: 0.9513\n",
      "Epoch 95/100\n",
      "94/94 [==============================] - 0s 1ms/step - loss: 0.0777 - accuracy: 0.9775 - val_loss: 0.1898 - val_accuracy: 0.9516\n",
      "Epoch 96/100\n",
      "94/94 [==============================] - 0s 1ms/step - loss: 0.0761 - accuracy: 0.9774 - val_loss: 0.1891 - val_accuracy: 0.9519\n",
      "Epoch 97/100\n",
      "94/94 [==============================] - 0s 2ms/step - loss: 0.0763 - accuracy: 0.9778 - val_loss: 0.1903 - val_accuracy: 0.9517\n",
      "Epoch 98/100\n",
      "94/94 [==============================] - 0s 1ms/step - loss: 0.0758 - accuracy: 0.9782 - val_loss: 0.1906 - val_accuracy: 0.9525\n",
      "Epoch 99/100\n",
      "94/94 [==============================] - 0s 2ms/step - loss: 0.0754 - accuracy: 0.9784 - val_loss: 0.1961 - val_accuracy: 0.9512\n",
      "Epoch 100/100\n",
      "94/94 [==============================] - 0s 2ms/step - loss: 0.0747 - accuracy: 0.9783 - val_loss: 0.1995 - val_accuracy: 0.9502\n"
     ]
    }
   ],
   "source": [
    "## I now fit the model, and store the training history\n",
    "## I use 100 epochs and a batch_size of 512\n",
    "n_epochs = 100\n",
    "batch_size = 512\n",
    "\n",
    "\n",
    "\n",
    "history = model.fit(X_train_train, to_categorical(y_train_train),\n",
    "                       epochs = n_epochs,\n",
    "                       batch_size = batch_size,\n",
    "                       validation_data = (X_val, to_categorical(y_val)))"
   ]
  },
  {
   "cell_type": "markdown",
   "metadata": {},
   "source": [
    "##### 5. Examine epoch history loss and accuracy\n",
    "\n",
    "The data stored in `history` includes a dictionary with epoch information on both the training and validation losses and accuracies."
   ]
  },
  {
   "cell_type": "code",
   "execution_count": 14,
   "metadata": {},
   "outputs": [],
   "source": [
    "history_dict = history.history"
   ]
  },
  {
   "cell_type": "code",
   "execution_count": 15,
   "metadata": {},
   "outputs": [
    {
     "name": "stdout",
     "output_type": "stream",
     "text": [
      "dict_keys(['loss', 'accuracy', 'val_loss', 'val_accuracy'])\n"
     ]
    }
   ],
   "source": [
    "print(history_dict.keys())"
   ]
  },
  {
   "cell_type": "code",
   "execution_count": 16,
   "metadata": {},
   "outputs": [
    {
     "data": {
      "image/png": "[encoded data removed]",
      "text/plain": [
       "<Figure size 800x600 with 1 Axes>"
      ]
     },
     "metadata": {},
     "output_type": "display_data"
    },
    {
     "data": {
      "image/png": "[encoded data removed]",
      "text/plain": [
       "<Figure size 800x600 with 1 Axes>"
      ]
     },
     "metadata": {},
     "output_type": "display_data"
    }
   ],
   "source": [
    "plt.figure(figsize = (8,6))\n",
    "\n",
    "plt.scatter(range(1,n_epochs+1), history_dict['accuracy'], label = \"Training Accuracy\")\n",
    "plt.scatter(range(1,n_epochs+1), history_dict['val_accuracy'], marker='v', label = \"Validation Set Accuracy\")\n",
    "\n",
    "plt.xlabel(\"Epoch\", fontsize=12)\n",
    "plt.ylabel(\"Accuracy\", fontsize=12)\n",
    "\n",
    "plt.xticks(fontsize=10)\n",
    "plt.yticks(fontsize=10)\n",
    "\n",
    "plt.legend(fontsize=12)\n",
    "\n",
    "plt.show()\n",
    "\n",
    "\n",
    "plt.figure(figsize = (8,6))\n",
    "\n",
    "plt.scatter(range(1,n_epochs+1), history_dict['loss'], label = \"Training Loss\")\n",
    "plt.scatter(range(1,n_epochs+1), history_dict['val_loss'], marker='v', label = \"Validation Set Loss\")\n",
    "\n",
    "plt.xlabel(\"Epoch\", fontsize=12)\n",
    "plt.ylabel(\"Loss Function Value\", fontsize=12)\n",
    "\n",
    "plt.xticks(fontsize=10)\n",
    "plt.yticks(fontsize=10)\n",
    "\n",
    "plt.legend(fontsize=12)\n",
    "\n",
    "plt.show()"
   ]
  },
  {
   "cell_type": "markdown",
   "metadata": {},
   "source": [
    "##### 6. Tuning the model architecture\n",
    "\n",
    "Looking at data like this can allow us to choose a training period, i.e. the number of epochs, for a neural network as well as compare performance across two different networks. Let's try a comparison to a second network."
   ]
  },
  {
   "cell_type": "code",
   "execution_count": 17,
   "metadata": {
    "scrolled": true
   },
   "outputs": [
    {
     "name": "stdout",
     "output_type": "stream",
     "text": [
      "Epoch 1/100\n",
      "94/94 [==============================] - 0s 2ms/step - loss: 0.9148 - accuracy: 0.7744 - val_loss: 0.4189 - val_accuracy: 0.8928\n",
      "Epoch 2/100\n",
      "94/94 [==============================] - 0s 2ms/step - loss: 0.3490 - accuracy: 0.9022 - val_loss: 0.3051 - val_accuracy: 0.9172\n",
      "Epoch 3/100\n",
      "94/94 [==============================] - 0s 2ms/step - loss: 0.2746 - accuracy: 0.9213 - val_loss: 0.2787 - val_accuracy: 0.9189\n",
      "Epoch 4/100\n",
      "94/94 [==============================] - 0s 2ms/step - loss: 0.2387 - accuracy: 0.9310 - val_loss: 0.2396 - val_accuracy: 0.9323\n",
      "Epoch 5/100\n",
      "94/94 [==============================] - 0s 2ms/step - loss: 0.2148 - accuracy: 0.9380 - val_loss: 0.2240 - val_accuracy: 0.9386\n",
      "Epoch 6/100\n",
      "94/94 [==============================] - 0s 2ms/step - loss: 0.1959 - accuracy: 0.9432 - val_loss: 0.2109 - val_accuracy: 0.9403\n",
      "Epoch 7/100\n",
      "94/94 [==============================] - 0s 2ms/step - loss: 0.1805 - accuracy: 0.9472 - val_loss: 0.2049 - val_accuracy: 0.9432\n",
      "Epoch 8/100\n",
      "94/94 [==============================] - 0s 2ms/step - loss: 0.1684 - accuracy: 0.9511 - val_loss: 0.1898 - val_accuracy: 0.9485\n",
      "Epoch 9/100\n",
      "94/94 [==============================] - 0s 2ms/step - loss: 0.1564 - accuracy: 0.9552 - val_loss: 0.1840 - val_accuracy: 0.9496\n",
      "Epoch 10/100\n",
      "94/94 [==============================] - 0s 2ms/step - loss: 0.1477 - accuracy: 0.9576 - val_loss: 0.1756 - val_accuracy: 0.9509\n",
      "Epoch 11/100\n",
      "94/94 [==============================] - 0s 2ms/step - loss: 0.1403 - accuracy: 0.9600 - val_loss: 0.1702 - val_accuracy: 0.9517\n",
      "Epoch 12/100\n",
      "94/94 [==============================] - 0s 2ms/step - loss: 0.1323 - accuracy: 0.9618 - val_loss: 0.1660 - val_accuracy: 0.9538\n",
      "Epoch 13/100\n",
      "94/94 [==============================] - 0s 2ms/step - loss: 0.1264 - accuracy: 0.9637 - val_loss: 0.1588 - val_accuracy: 0.9553\n",
      "Epoch 14/100\n",
      "94/94 [==============================] - 0s 2ms/step - loss: 0.1207 - accuracy: 0.9652 - val_loss: 0.1540 - val_accuracy: 0.9561\n",
      "Epoch 15/100\n",
      "94/94 [==============================] - 0s 2ms/step - loss: 0.1156 - accuracy: 0.9667 - val_loss: 0.1606 - val_accuracy: 0.9530\n",
      "Epoch 16/100\n",
      "94/94 [==============================] - 0s 2ms/step - loss: 0.1102 - accuracy: 0.9679 - val_loss: 0.1506 - val_accuracy: 0.9578\n",
      "Epoch 17/100\n",
      "94/94 [==============================] - 0s 2ms/step - loss: 0.1061 - accuracy: 0.9691 - val_loss: 0.1482 - val_accuracy: 0.9592\n",
      "Epoch 18/100\n",
      "94/94 [==============================] - 0s 2ms/step - loss: 0.1017 - accuracy: 0.9706 - val_loss: 0.1462 - val_accuracy: 0.9582\n",
      "Epoch 19/100\n",
      "94/94 [==============================] - 0s 2ms/step - loss: 0.0975 - accuracy: 0.9717 - val_loss: 0.1457 - val_accuracy: 0.9580\n",
      "Epoch 20/100\n",
      "94/94 [==============================] - 0s 2ms/step - loss: 0.0941 - accuracy: 0.9728 - val_loss: 0.1427 - val_accuracy: 0.9597\n",
      "Epoch 21/100\n",
      "94/94 [==============================] - 0s 2ms/step - loss: 0.0900 - accuracy: 0.9732 - val_loss: 0.1418 - val_accuracy: 0.9608\n",
      "Epoch 22/100\n",
      "94/94 [==============================] - 0s 2ms/step - loss: 0.0864 - accuracy: 0.9753 - val_loss: 0.1389 - val_accuracy: 0.9588\n",
      "Epoch 23/100\n",
      "94/94 [==============================] - 0s 2ms/step - loss: 0.0838 - accuracy: 0.9755 - val_loss: 0.1444 - val_accuracy: 0.9588\n",
      "Epoch 24/100\n",
      "94/94 [==============================] - 0s 2ms/step - loss: 0.0808 - accuracy: 0.9767 - val_loss: 0.1351 - val_accuracy: 0.9617\n",
      "Epoch 25/100\n",
      "94/94 [==============================] - 0s 2ms/step - loss: 0.0782 - accuracy: 0.9771 - val_loss: 0.1391 - val_accuracy: 0.9608\n",
      "Epoch 26/100\n",
      "94/94 [==============================] - 0s 2ms/step - loss: 0.0752 - accuracy: 0.9773 - val_loss: 0.1305 - val_accuracy: 0.9629\n",
      "Epoch 27/100\n",
      "94/94 [==============================] - 0s 2ms/step - loss: 0.0733 - accuracy: 0.9777 - val_loss: 0.1378 - val_accuracy: 0.9617\n",
      "Epoch 28/100\n",
      "94/94 [==============================] - 0s 2ms/step - loss: 0.0706 - accuracy: 0.9793 - val_loss: 0.1312 - val_accuracy: 0.9633\n",
      "Epoch 29/100\n",
      "94/94 [==============================] - 0s 2ms/step - loss: 0.0683 - accuracy: 0.9800 - val_loss: 0.1435 - val_accuracy: 0.9583\n",
      "Epoch 30/100\n",
      "94/94 [==============================] - 0s 2ms/step - loss: 0.0661 - accuracy: 0.9804 - val_loss: 0.1320 - val_accuracy: 0.9616\n",
      "Epoch 31/100\n",
      "94/94 [==============================] - 0s 2ms/step - loss: 0.0643 - accuracy: 0.9812 - val_loss: 0.1330 - val_accuracy: 0.9632\n",
      "Epoch 32/100\n",
      "94/94 [==============================] - 0s 2ms/step - loss: 0.0625 - accuracy: 0.9817 - val_loss: 0.1383 - val_accuracy: 0.9610\n",
      "Epoch 33/100\n",
      "94/94 [==============================] - 0s 2ms/step - loss: 0.0610 - accuracy: 0.9821 - val_loss: 0.1306 - val_accuracy: 0.9631\n",
      "Epoch 34/100\n",
      "94/94 [==============================] - 0s 2ms/step - loss: 0.0589 - accuracy: 0.9826 - val_loss: 0.1390 - val_accuracy: 0.9606\n",
      "Epoch 35/100\n",
      "94/94 [==============================] - 0s 2ms/step - loss: 0.0574 - accuracy: 0.9828 - val_loss: 0.1322 - val_accuracy: 0.9646\n",
      "Epoch 36/100\n",
      "94/94 [==============================] - 0s 2ms/step - loss: 0.0551 - accuracy: 0.9839 - val_loss: 0.1408 - val_accuracy: 0.9607\n",
      "Epoch 37/100\n",
      "94/94 [==============================] - 0s 2ms/step - loss: 0.0547 - accuracy: 0.9841 - val_loss: 0.1315 - val_accuracy: 0.9643\n",
      "Epoch 38/100\n",
      "94/94 [==============================] - 0s 2ms/step - loss: 0.0525 - accuracy: 0.9848 - val_loss: 0.1328 - val_accuracy: 0.9634\n",
      "Epoch 39/100\n",
      "94/94 [==============================] - 0s 2ms/step - loss: 0.0519 - accuracy: 0.9846 - val_loss: 0.1298 - val_accuracy: 0.9642\n",
      "Epoch 40/100\n",
      "94/94 [==============================] - 0s 2ms/step - loss: 0.0501 - accuracy: 0.9857 - val_loss: 0.1325 - val_accuracy: 0.9632\n",
      "Epoch 41/100\n",
      "94/94 [==============================] - 0s 2ms/step - loss: 0.0480 - accuracy: 0.9860 - val_loss: 0.1340 - val_accuracy: 0.9627\n",
      "Epoch 42/100\n",
      "94/94 [==============================] - 0s 2ms/step - loss: 0.0465 - accuracy: 0.9864 - val_loss: 0.1422 - val_accuracy: 0.9618\n",
      "Epoch 43/100\n",
      "94/94 [==============================] - 0s 2ms/step - loss: 0.0455 - accuracy: 0.9866 - val_loss: 0.1390 - val_accuracy: 0.9617\n",
      "Epoch 44/100\n",
      "94/94 [==============================] - 0s 2ms/step - loss: 0.0443 - accuracy: 0.9875 - val_loss: 0.1379 - val_accuracy: 0.9630\n",
      "Epoch 45/100\n",
      "94/94 [==============================] - 0s 2ms/step - loss: 0.0431 - accuracy: 0.9879 - val_loss: 0.1473 - val_accuracy: 0.9598\n",
      "Epoch 46/100\n",
      "94/94 [==============================] - 0s 2ms/step - loss: 0.0420 - accuracy: 0.9882 - val_loss: 0.1375 - val_accuracy: 0.9643\n",
      "Epoch 47/100\n",
      "94/94 [==============================] - 0s 2ms/step - loss: 0.0408 - accuracy: 0.9880 - val_loss: 0.1372 - val_accuracy: 0.9638\n",
      "Epoch 48/100\n",
      "94/94 [==============================] - 0s 2ms/step - loss: 0.0395 - accuracy: 0.9890 - val_loss: 0.1351 - val_accuracy: 0.9638\n",
      "Epoch 49/100\n",
      "94/94 [==============================] - 0s 2ms/step - loss: 0.0393 - accuracy: 0.9889 - val_loss: 0.1399 - val_accuracy: 0.9628\n",
      "Epoch 50/100\n",
      "94/94 [==============================] - 0s 2ms/step - loss: 0.0379 - accuracy: 0.9900 - val_loss: 0.1397 - val_accuracy: 0.9641\n",
      "Epoch 51/100\n",
      "94/94 [==============================] - 0s 2ms/step - loss: 0.0370 - accuracy: 0.9898 - val_loss: 0.1384 - val_accuracy: 0.9638\n",
      "Epoch 52/100\n",
      "94/94 [==============================] - 0s 2ms/step - loss: 0.0357 - accuracy: 0.9901 - val_loss: 0.1443 - val_accuracy: 0.9626\n",
      "Epoch 53/100\n",
      "94/94 [==============================] - 0s 2ms/step - loss: 0.0348 - accuracy: 0.9902 - val_loss: 0.1438 - val_accuracy: 0.9625\n",
      "Epoch 54/100\n",
      "94/94 [==============================] - 0s 2ms/step - loss: 0.0333 - accuracy: 0.9912 - val_loss: 0.1447 - val_accuracy: 0.9639\n",
      "Epoch 55/100\n",
      "94/94 [==============================] - 0s 2ms/step - loss: 0.0331 - accuracy: 0.9910 - val_loss: 0.1413 - val_accuracy: 0.9641\n",
      "Epoch 56/100\n",
      "94/94 [==============================] - 0s 2ms/step - loss: 0.0324 - accuracy: 0.9911 - val_loss: 0.1461 - val_accuracy: 0.9632\n",
      "Epoch 57/100\n",
      "94/94 [==============================] - 0s 2ms/step - loss: 0.0311 - accuracy: 0.9914 - val_loss: 0.1555 - val_accuracy: 0.9625\n",
      "Epoch 58/100\n",
      "94/94 [==============================] - 0s 2ms/step - loss: 0.0300 - accuracy: 0.9922 - val_loss: 0.1463 - val_accuracy: 0.9636\n"
     ]
    },
    {
     "name": "stdout",
     "output_type": "stream",
     "text": [
      "Epoch 59/100\n",
      "94/94 [==============================] - 0s 2ms/step - loss: 0.0296 - accuracy: 0.9926 - val_loss: 0.1454 - val_accuracy: 0.9643\n",
      "Epoch 60/100\n",
      "94/94 [==============================] - 0s 2ms/step - loss: 0.0294 - accuracy: 0.9921 - val_loss: 0.1461 - val_accuracy: 0.9636\n",
      "Epoch 61/100\n",
      "94/94 [==============================] - 0s 2ms/step - loss: 0.0276 - accuracy: 0.9928 - val_loss: 0.1488 - val_accuracy: 0.9638\n",
      "Epoch 62/100\n",
      "94/94 [==============================] - 0s 2ms/step - loss: 0.0271 - accuracy: 0.9930 - val_loss: 0.1477 - val_accuracy: 0.9638\n",
      "Epoch 63/100\n",
      "94/94 [==============================] - 0s 2ms/step - loss: 0.0266 - accuracy: 0.9931 - val_loss: 0.1596 - val_accuracy: 0.9621\n",
      "Epoch 64/100\n",
      "94/94 [==============================] - 0s 2ms/step - loss: 0.0256 - accuracy: 0.9933 - val_loss: 0.1535 - val_accuracy: 0.9627\n",
      "Epoch 65/100\n",
      "94/94 [==============================] - 0s 2ms/step - loss: 0.0249 - accuracy: 0.9939 - val_loss: 0.1549 - val_accuracy: 0.9617\n",
      "Epoch 66/100\n",
      "94/94 [==============================] - 0s 2ms/step - loss: 0.0240 - accuracy: 0.9938 - val_loss: 0.1659 - val_accuracy: 0.9608\n",
      "Epoch 67/100\n",
      "94/94 [==============================] - 0s 2ms/step - loss: 0.0233 - accuracy: 0.9939 - val_loss: 0.1654 - val_accuracy: 0.9610\n",
      "Epoch 68/100\n",
      "94/94 [==============================] - 0s 2ms/step - loss: 0.0233 - accuracy: 0.9942 - val_loss: 0.1671 - val_accuracy: 0.9607\n",
      "Epoch 69/100\n",
      "94/94 [==============================] - 0s 2ms/step - loss: 0.0227 - accuracy: 0.9941 - val_loss: 0.1551 - val_accuracy: 0.9636\n",
      "Epoch 70/100\n",
      "94/94 [==============================] - 0s 2ms/step - loss: 0.0217 - accuracy: 0.9945 - val_loss: 0.1630 - val_accuracy: 0.9629\n",
      "Epoch 71/100\n",
      "94/94 [==============================] - 0s 2ms/step - loss: 0.0210 - accuracy: 0.9947 - val_loss: 0.1567 - val_accuracy: 0.9642\n",
      "Epoch 72/100\n",
      "94/94 [==============================] - 0s 2ms/step - loss: 0.0205 - accuracy: 0.9950 - val_loss: 0.1626 - val_accuracy: 0.9630\n",
      "Epoch 73/100\n",
      "94/94 [==============================] - 0s 2ms/step - loss: 0.0194 - accuracy: 0.9952 - val_loss: 0.1746 - val_accuracy: 0.9600\n",
      "Epoch 74/100\n",
      "94/94 [==============================] - 0s 2ms/step - loss: 0.0195 - accuracy: 0.9955 - val_loss: 0.1705 - val_accuracy: 0.9624\n",
      "Epoch 75/100\n",
      "94/94 [==============================] - 0s 2ms/step - loss: 0.0187 - accuracy: 0.9953 - val_loss: 0.1662 - val_accuracy: 0.9617\n",
      "Epoch 76/100\n",
      "94/94 [==============================] - 0s 2ms/step - loss: 0.0180 - accuracy: 0.9958 - val_loss: 0.1643 - val_accuracy: 0.9626\n",
      "Epoch 77/100\n",
      "94/94 [==============================] - 0s 2ms/step - loss: 0.0172 - accuracy: 0.9961 - val_loss: 0.1685 - val_accuracy: 0.9632\n",
      "Epoch 78/100\n",
      "94/94 [==============================] - 0s 2ms/step - loss: 0.0171 - accuracy: 0.9960 - val_loss: 0.1711 - val_accuracy: 0.9623\n",
      "Epoch 79/100\n",
      "94/94 [==============================] - 0s 2ms/step - loss: 0.0166 - accuracy: 0.9961 - val_loss: 0.1710 - val_accuracy: 0.9627\n",
      "Epoch 80/100\n",
      "94/94 [==============================] - 0s 2ms/step - loss: 0.0158 - accuracy: 0.9963 - val_loss: 0.1808 - val_accuracy: 0.9617\n",
      "Epoch 81/100\n",
      "94/94 [==============================] - 0s 2ms/step - loss: 0.0157 - accuracy: 0.9961 - val_loss: 0.1697 - val_accuracy: 0.9640\n",
      "Epoch 82/100\n",
      "94/94 [==============================] - 0s 2ms/step - loss: 0.0152 - accuracy: 0.9965 - val_loss: 0.1751 - val_accuracy: 0.9620\n",
      "Epoch 83/100\n",
      "94/94 [==============================] - 0s 2ms/step - loss: 0.0152 - accuracy: 0.9963 - val_loss: 0.1722 - val_accuracy: 0.9636\n",
      "Epoch 84/100\n",
      "94/94 [==============================] - 0s 2ms/step - loss: 0.0140 - accuracy: 0.9971 - val_loss: 0.1741 - val_accuracy: 0.9624\n",
      "Epoch 85/100\n",
      "94/94 [==============================] - 0s 2ms/step - loss: 0.0138 - accuracy: 0.9970 - val_loss: 0.1743 - val_accuracy: 0.9625\n",
      "Epoch 86/100\n",
      "94/94 [==============================] - 0s 2ms/step - loss: 0.0135 - accuracy: 0.9970 - val_loss: 0.1833 - val_accuracy: 0.9619\n",
      "Epoch 87/100\n",
      "94/94 [==============================] - 0s 2ms/step - loss: 0.0128 - accuracy: 0.9971 - val_loss: 0.1804 - val_accuracy: 0.9632\n",
      "Epoch 88/100\n",
      "94/94 [==============================] - 0s 2ms/step - loss: 0.0124 - accuracy: 0.9974 - val_loss: 0.1837 - val_accuracy: 0.9613\n",
      "Epoch 89/100\n",
      "94/94 [==============================] - 0s 2ms/step - loss: 0.0118 - accuracy: 0.9974 - val_loss: 0.1935 - val_accuracy: 0.9609\n",
      "Epoch 90/100\n",
      "94/94 [==============================] - 0s 2ms/step - loss: 0.0119 - accuracy: 0.9973 - val_loss: 0.1834 - val_accuracy: 0.9626\n",
      "Epoch 91/100\n",
      "94/94 [==============================] - 0s 2ms/step - loss: 0.0112 - accuracy: 0.9977 - val_loss: 0.1879 - val_accuracy: 0.9612\n",
      "Epoch 92/100\n",
      "94/94 [==============================] - 0s 2ms/step - loss: 0.0112 - accuracy: 0.9976 - val_loss: 0.1877 - val_accuracy: 0.9617\n",
      "Epoch 93/100\n",
      "94/94 [==============================] - 0s 2ms/step - loss: 0.0106 - accuracy: 0.9978 - val_loss: 0.1860 - val_accuracy: 0.9623\n",
      "Epoch 94/100\n",
      "94/94 [==============================] - 0s 2ms/step - loss: 0.0104 - accuracy: 0.9978 - val_loss: 0.1898 - val_accuracy: 0.9623\n",
      "Epoch 95/100\n",
      "94/94 [==============================] - 0s 2ms/step - loss: 0.0101 - accuracy: 0.9980 - val_loss: 0.1984 - val_accuracy: 0.9616\n",
      "Epoch 96/100\n",
      "94/94 [==============================] - 0s 2ms/step - loss: 0.0099 - accuracy: 0.9978 - val_loss: 0.1980 - val_accuracy: 0.9608\n",
      "Epoch 97/100\n",
      "94/94 [==============================] - 0s 2ms/step - loss: 0.0099 - accuracy: 0.9978 - val_loss: 0.2010 - val_accuracy: 0.9608\n",
      "Epoch 98/100\n",
      "94/94 [==============================] - 0s 2ms/step - loss: 0.0093 - accuracy: 0.9980 - val_loss: 0.1937 - val_accuracy: 0.9625\n",
      "Epoch 99/100\n",
      "94/94 [==============================] - 0s 2ms/step - loss: 0.0088 - accuracy: 0.9982 - val_loss: 0.1977 - val_accuracy: 0.9630\n",
      "Epoch 100/100\n",
      "94/94 [==============================] - 0s 2ms/step - loss: 0.0085 - accuracy: 0.9983 - val_loss: 0.2152 - val_accuracy: 0.9588\n"
     ]
    }
   ],
   "source": [
    "model2 = models.Sequential()\n",
    "\n",
    "model2.add(layers.Dense(32, activation='relu', input_shape=(28*28,)))\n",
    "model2.add(layers.Dense(32, activation='relu'))\n",
    "model2.add(layers.Dense(10, activation='softmax'))\n",
    "\n",
    "model2.compile(optimizer = 'rmsprop',\n",
    "                 loss = 'categorical_crossentropy',\n",
    "                 metrics = ['accuracy'])\n",
    "\n",
    "history2 = model2.fit(X_train_train,\n",
    "                       to_categorical(y_train_train),\n",
    "                       epochs = n_epochs,\n",
    "                       batch_size = batch_size,\n",
    "                       validation_data = (X_val, to_categorical(y_val)))\n",
    "\n",
    "history_dict2 = history2.history"
   ]
  },
  {
   "cell_type": "code",
   "execution_count": 18,
   "metadata": {},
   "outputs": [
    {
     "data": {
      "image/png": "[encoded data removed]",
      "text/plain": [
       "<Figure size 800x600 with 1 Axes>"
      ]
     },
     "metadata": {},
     "output_type": "display_data"
    },
    {
     "data": {
      "image/png": "[encoded data removed]",
      "text/plain": [
       "<Figure size 800x600 with 1 Axes>"
      ]
     },
     "metadata": {},
     "output_type": "display_data"
    }
   ],
   "source": [
    "plt.figure(figsize = (8,6))\n",
    "\n",
    "plt.scatter(range(1,n_epochs+1), history_dict['val_accuracy'], label = \"Neural Net 1 Val. Accuracy\")\n",
    "plt.scatter(range(1,n_epochs+1), history_dict2['val_accuracy'], marker='v', label = \"Neural Net 2 Val. Accuracy\")\n",
    "\n",
    "plt.xlabel(\"Epoch\", fontsize=12)\n",
    "plt.ylabel(\"Accuracy\", fontsize=12)\n",
    "\n",
    "plt.xticks(fontsize=10)\n",
    "plt.yticks(fontsize=10)\n",
    "\n",
    "plt.legend(fontsize=12)\n",
    "\n",
    "plt.show()\n",
    "\n",
    "plt.figure(figsize = (8,6))\n",
    "\n",
    "plt.scatter(range(1,n_epochs+1), history_dict['val_loss'], label = \"Neural Net 1 Val. Loss\")\n",
    "plt.scatter(range(1,n_epochs+1), history_dict2['val_loss'], marker='v', label = \"Neural Net 2 Val. Loss\")\n",
    "\n",
    "plt.xlabel(\"Epoch\", fontsize=12)\n",
    "plt.ylabel(\"Loss\", fontsize=12)\n",
    "\n",
    "plt.xticks(fontsize=10)\n",
    "plt.yticks(fontsize=10)\n",
    "\n",
    "plt.legend(fontsize=12)\n",
    "\n",
    "plt.show()"
   ]
  },
  {
   "cell_type": "markdown",
   "metadata": {},
   "source": [
    "##### 7. Selecting an architecture\n",
    "\n",
    "It looks like the 32 x 32 network edges out the 16 x 16. Let's find the epoch that resulted in the lowest validation loss and use that for our final model."
   ]
  },
  {
   "cell_type": "code",
   "execution_count": 19,
   "metadata": {},
   "outputs": [
    {
     "name": "stdout",
     "output_type": "stream",
     "text": [
      "The epoch that had the lowest model 2 validation loss was 39\n"
     ]
    }
   ],
   "source": [
    "print(\"The epoch that had the lowest model 2 validation loss was\",\n",
    "     range(1,n_epochs+1)[np.argmin(history_dict2['val_loss'])])"
   ]
  },
  {
   "cell_type": "code",
   "execution_count": 20,
   "metadata": {},
   "outputs": [],
   "source": [
    "del model2"
   ]
  },
  {
   "cell_type": "code",
   "execution_count": 21,
   "metadata": {
    "scrolled": true
   },
   "outputs": [
    {
     "name": "stdout",
     "output_type": "stream",
     "text": [
      "Epoch 1/39\n",
      "118/118 [==============================] - 0s 2ms/step - loss: 0.7517 - accuracy: 0.8074 - val_loss: 0.3707 - val_accuracy: 0.8989\n",
      "Epoch 2/39\n",
      "118/118 [==============================] - 0s 2ms/step - loss: 0.3090 - accuracy: 0.9128 - val_loss: 0.2823 - val_accuracy: 0.9215\n",
      "Epoch 3/39\n",
      "118/118 [==============================] - 0s 2ms/step - loss: 0.2494 - accuracy: 0.9286 - val_loss: 0.2356 - val_accuracy: 0.9342\n",
      "Epoch 4/39\n",
      "118/118 [==============================] - 0s 2ms/step - loss: 0.2160 - accuracy: 0.9388 - val_loss: 0.2187 - val_accuracy: 0.9388\n",
      "Epoch 5/39\n",
      "118/118 [==============================] - 0s 2ms/step - loss: 0.1920 - accuracy: 0.9455 - val_loss: 0.1878 - val_accuracy: 0.9483\n",
      "Epoch 6/39\n",
      "118/118 [==============================] - 0s 2ms/step - loss: 0.1722 - accuracy: 0.9512 - val_loss: 0.1800 - val_accuracy: 0.9478\n",
      "Epoch 7/39\n",
      "118/118 [==============================] - 0s 2ms/step - loss: 0.1577 - accuracy: 0.9552 - val_loss: 0.1629 - val_accuracy: 0.9550\n",
      "Epoch 8/39\n",
      "118/118 [==============================] - 0s 2ms/step - loss: 0.1452 - accuracy: 0.9580 - val_loss: 0.1466 - val_accuracy: 0.9595\n",
      "Epoch 9/39\n",
      "118/118 [==============================] - 0s 2ms/step - loss: 0.1357 - accuracy: 0.9610 - val_loss: 0.1479 - val_accuracy: 0.9560\n",
      "Epoch 10/39\n",
      "118/118 [==============================] - 0s 2ms/step - loss: 0.1270 - accuracy: 0.9634 - val_loss: 0.1362 - val_accuracy: 0.9595\n",
      "Epoch 11/39\n",
      "118/118 [==============================] - 0s 2ms/step - loss: 0.1191 - accuracy: 0.9661 - val_loss: 0.1319 - val_accuracy: 0.9592\n",
      "Epoch 12/39\n",
      "118/118 [==============================] - 0s 2ms/step - loss: 0.1119 - accuracy: 0.9676 - val_loss: 0.1255 - val_accuracy: 0.9617\n",
      "Epoch 13/39\n",
      "118/118 [==============================] - 0s 2ms/step - loss: 0.1058 - accuracy: 0.9692 - val_loss: 0.1085 - val_accuracy: 0.9684\n",
      "Epoch 14/39\n",
      "118/118 [==============================] - 0s 2ms/step - loss: 0.1012 - accuracy: 0.9705 - val_loss: 0.1015 - val_accuracy: 0.9699\n",
      "Epoch 15/39\n",
      "118/118 [==============================] - 0s 2ms/step - loss: 0.0961 - accuracy: 0.9716 - val_loss: 0.1090 - val_accuracy: 0.9671\n",
      "Epoch 16/39\n",
      "118/118 [==============================] - 0s 2ms/step - loss: 0.0919 - accuracy: 0.9734 - val_loss: 0.0896 - val_accuracy: 0.9747\n",
      "Epoch 17/39\n",
      "118/118 [==============================] - 0s 2ms/step - loss: 0.0876 - accuracy: 0.9739 - val_loss: 0.0884 - val_accuracy: 0.9732\n",
      "Epoch 18/39\n",
      "118/118 [==============================] - 0s 2ms/step - loss: 0.0845 - accuracy: 0.9754 - val_loss: 0.0899 - val_accuracy: 0.9716\n",
      "Epoch 19/39\n",
      "118/118 [==============================] - 0s 2ms/step - loss: 0.0805 - accuracy: 0.9764 - val_loss: 0.0856 - val_accuracy: 0.9752\n",
      "Epoch 20/39\n",
      "118/118 [==============================] - 0s 2ms/step - loss: 0.0768 - accuracy: 0.9773 - val_loss: 0.0803 - val_accuracy: 0.9765\n",
      "Epoch 21/39\n",
      "118/118 [==============================] - 0s 2ms/step - loss: 0.0748 - accuracy: 0.9779 - val_loss: 0.0758 - val_accuracy: 0.9772\n",
      "Epoch 22/39\n",
      "118/118 [==============================] - 0s 2ms/step - loss: 0.0721 - accuracy: 0.9782 - val_loss: 0.0877 - val_accuracy: 0.9730\n",
      "Epoch 23/39\n",
      "118/118 [==============================] - 0s 2ms/step - loss: 0.0693 - accuracy: 0.9793 - val_loss: 0.0665 - val_accuracy: 0.9810\n",
      "Epoch 24/39\n",
      "118/118 [==============================] - 0s 2ms/step - loss: 0.0661 - accuracy: 0.9805 - val_loss: 0.0658 - val_accuracy: 0.9801\n",
      "Epoch 25/39\n",
      "118/118 [==============================] - 0s 2ms/step - loss: 0.0644 - accuracy: 0.9809 - val_loss: 0.0648 - val_accuracy: 0.9802\n",
      "Epoch 26/39\n",
      "118/118 [==============================] - 0s 2ms/step - loss: 0.0619 - accuracy: 0.9814 - val_loss: 0.0570 - val_accuracy: 0.9840\n",
      "Epoch 27/39\n",
      "118/118 [==============================] - 0s 2ms/step - loss: 0.0599 - accuracy: 0.9823 - val_loss: 0.0556 - val_accuracy: 0.9843\n",
      "Epoch 28/39\n",
      "118/118 [==============================] - 0s 2ms/step - loss: 0.0579 - accuracy: 0.9834 - val_loss: 0.0566 - val_accuracy: 0.9834\n",
      "Epoch 29/39\n",
      "118/118 [==============================] - 0s 2ms/step - loss: 0.0560 - accuracy: 0.9834 - val_loss: 0.0521 - val_accuracy: 0.9851\n",
      "Epoch 30/39\n",
      "118/118 [==============================] - 0s 2ms/step - loss: 0.0540 - accuracy: 0.9846 - val_loss: 0.0524 - val_accuracy: 0.9849\n",
      "Epoch 31/39\n",
      "118/118 [==============================] - 0s 2ms/step - loss: 0.0527 - accuracy: 0.9847 - val_loss: 0.0567 - val_accuracy: 0.9833\n",
      "Epoch 32/39\n",
      "118/118 [==============================] - 0s 2ms/step - loss: 0.0505 - accuracy: 0.9850 - val_loss: 0.0498 - val_accuracy: 0.9858\n",
      "Epoch 33/39\n",
      "118/118 [==============================] - 0s 2ms/step - loss: 0.0489 - accuracy: 0.9856 - val_loss: 0.0467 - val_accuracy: 0.9864\n",
      "Epoch 34/39\n",
      "118/118 [==============================] - 0s 2ms/step - loss: 0.0476 - accuracy: 0.9865 - val_loss: 0.0643 - val_accuracy: 0.9786\n",
      "Epoch 35/39\n",
      "118/118 [==============================] - 0s 2ms/step - loss: 0.0459 - accuracy: 0.9869 - val_loss: 0.0425 - val_accuracy: 0.9880\n",
      "Epoch 36/39\n",
      "118/118 [==============================] - 0s 2ms/step - loss: 0.0450 - accuracy: 0.9870 - val_loss: 0.0438 - val_accuracy: 0.9878\n",
      "Epoch 37/39\n",
      "118/118 [==============================] - 0s 2ms/step - loss: 0.0441 - accuracy: 0.9871 - val_loss: 0.0462 - val_accuracy: 0.9859\n",
      "Epoch 38/39\n",
      "118/118 [==============================] - 0s 2ms/step - loss: 0.0418 - accuracy: 0.9878 - val_loss: 0.0426 - val_accuracy: 0.9869\n",
      "Epoch 39/39\n",
      "118/118 [==============================] - 0s 2ms/step - loss: 0.0411 - accuracy: 0.9883 - val_loss: 0.0492 - val_accuracy: 0.9847\n"
     ]
    }
   ],
   "source": [
    "model2 = models.Sequential()\n",
    "\n",
    "model2.add(layers.Dense(32, activation='relu', input_shape=(28*28,)))\n",
    "model2.add(layers.Dense(32, activation='relu'))\n",
    "model2.add(layers.Dense(10, activation='softmax'))\n",
    "\n",
    "model2.compile(optimizer = 'rmsprop',\n",
    "                 loss = 'categorical_crossentropy',\n",
    "                 metrics = ['accuracy'])\n",
    "\n",
    "history2 = model2.fit(X_train,\n",
    "                       to_categorical(y_train),\n",
    "                       epochs = range(1,n_epochs+1)[np.argmin(history_dict2['val_loss'])],\n",
    "                       batch_size = 512,\n",
    "                       validation_data = (X_val, to_categorical(y_val)))\n",
    "\n",
    "history_dict2 = history2.history"
   ]
  },
  {
   "cell_type": "markdown",
   "metadata": {},
   "source": [
    "#### 8. Predicting on the validation set\n",
    "\n",
    "Let's now use this model to predict on the validation set. This is quite similar to the procedure you would follow in the `sklearn` setup."
   ]
  },
  {
   "cell_type": "code",
   "execution_count": 22,
   "metadata": {},
   "outputs": [
    {
     "name": "stdout",
     "output_type": "stream",
     "text": [
      "375/375 [==============================] - 0s 326us/step\n"
     ]
    },
    {
     "data": {
      "text/plain": [
       "array([3.4848488e-10, 1.6772721e-09, 7.8210119e-11, 4.4725046e-05,\n",
       "       7.4473201e-07, 1.9146776e-07, 1.6212745e-12, 1.5677980e-06,\n",
       "       6.6996358e-06, 9.9994612e-01], dtype=float32)"
      ]
     },
     "execution_count": 22,
     "metadata": {},
     "output_type": "execute_result"
    }
   ],
   "source": [
    "model2.predict(X_val)[0,:]"
   ]
  },
  {
   "cell_type": "code",
   "execution_count": 23,
   "metadata": {},
   "outputs": [
    {
     "data": {
      "text/plain": [
       "9"
      ]
     },
     "execution_count": 23,
     "metadata": {},
     "output_type": "execute_result"
    }
   ],
   "source": [
    "y_val[0]"
   ]
  },
  {
   "cell_type": "markdown",
   "metadata": {},
   "source": [
    "Note that this produces a set of probabilities for each observation. For our prediction of an actual observation we can just choose the one with highest probability."
   ]
  },
  {
   "cell_type": "code",
   "execution_count": 24,
   "metadata": {},
   "outputs": [
    {
     "name": "stdout",
     "output_type": "stream",
     "text": [
      "375/375 [==============================] - 0s 316us/step\n"
     ]
    },
    {
     "data": {
      "text/plain": [
       "array([9, 5, 6, ..., 3, 5, 0])"
      ]
     },
     "execution_count": 24,
     "metadata": {},
     "output_type": "execute_result"
    }
   ],
   "source": [
    "np.argmax(model2.predict(X_val), axis=1)"
   ]
  },
  {
   "cell_type": "code",
   "execution_count": 25,
   "metadata": {},
   "outputs": [],
   "source": [
    "from sklearn.metrics import accuracy_score"
   ]
  },
  {
   "cell_type": "code",
   "execution_count": 26,
   "metadata": {},
   "outputs": [
    {
     "name": "stdout",
     "output_type": "stream",
     "text": [
      "375/375 [==============================] - 0s 317us/step\n"
     ]
    },
    {
     "data": {
      "text/plain": [
       "98.48"
      ]
     },
     "execution_count": 26,
     "metadata": {},
     "output_type": "execute_result"
    }
   ],
   "source": [
    "np.round(100*accuracy_score(y_val, np.argmax(model2.predict(X_val), axis=1)),2)"
   ]
  },
  {
   "cell_type": "markdown",
   "metadata": {},
   "source": [
    "--------------------------\n",
    "\n",
    "This notebook was written for the Erd&#337;s Institute C&#337;de Data Science Boot Camp by Matthew Osborne, Ph. D., 2023.\n",
    "\n",
    "Any potential redistributors must seek and receive permission from Matthew Tyler Osborne, Ph.D. prior to redistribution. Redistribution of the material contained in this repository is conditional on acknowledgement of Matthew Tyler Osborne, Ph.D.'s original authorship and sponsorship of the Erdős Institute as subject to the license (see License.md)"
   ]
  },
  {
   "cell_type": "code",
   "execution_count": null,
   "metadata": {},
   "outputs": [],
   "source": []
  }
 ],
 "metadata": {
  "kernelspec": {
   "display_name": "Python 3 (ipykernel)",
   "language": "python",
   "name": "python3"
  },
  "language_info": {
   "codemirror_mode": {
    "name": "ipython",
    "version": 3
   },
   "file_extension": ".py",
   "mimetype": "text/x-python",
   "name": "python",
   "nbconvert_exporter": "python",
   "pygments_lexer": "ipython3",
   "version": "3.9.16"
  }
 },
 "nbformat": 4,
 "nbformat_minor": 2
}
