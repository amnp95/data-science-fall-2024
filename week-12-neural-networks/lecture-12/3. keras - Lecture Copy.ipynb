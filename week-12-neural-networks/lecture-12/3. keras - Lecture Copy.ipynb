{
 "cells": [
  {
   "cell_type": "markdown",
   "metadata": {},
   "source": [
    "# `keras`\n",
    "\n",
    "Let's now introduce a python package called `keras` which will provide us with greater versatility in building neural networks than `sklearn`.\n",
    "\n",
    "## What we will accomplish\n",
    "\n",
    "In this notebook we will\n",
    "- Introduce `keras`:\n",
    "    - Discuss how to install it,\n",
    "- Review its syntax and\n",
    "- Demonstrate how to build feed forward networks in `keras`."
   ]
  },
  {
   "cell_type": "code",
   "execution_count": 1,
   "metadata": {},
   "outputs": [],
   "source": [
    "## For data handling\n",
    "import pandas as pd\n",
    "import numpy as np\n",
    "\n",
    "## For plotting\n",
    "import matplotlib.pyplot as plt\n",
    "import seaborn as sns\n",
    "\n",
    "sns.set_style(\"darkgrid\")"
   ]
  },
  {
   "cell_type": "markdown",
   "metadata": {},
   "source": [
    "Moving forward we will be building our neural networks with `keras`.\n",
    "\n",
    "From their documentation:\n",
    "\n",
    "<blockquote>\n",
    "Keras is a deep learning API written in Python, running on top of the machine learning platform TensorFlow. It was developed with a focus on enabling fast experimentation. Being able to go from idea to result as fast as possible is key to doing good research.\n",
    "</blockquote>\n",
    "\n",
    "In this notebook we will lay out how to build feed forward multi-layer networks.\n",
    "\n",
    "For reference, this material is being built by looking at the `keras` documentation <a href=\"https://keras.io/about/\">https://keras.io/about/</a> and the book, <a href=\"https://github.com/letspython3x/Books/blob/master/Deep%20Learning%20with%20Python.pdf\">Deep Learning with Python</a>. In particular this notebook's content comes from chapters 3 and 4 of that text.\n",
    "\n",
    "## Installation\n",
    "\n",
    "You may not have `keras` installed on your computer at this point. Try and run the following code chunk."
   ]
  },
  {
   "cell_type": "code",
   "execution_count": 2,
   "metadata": {},
   "outputs": [
    {
     "name": "stdout",
     "output_type": "stream",
     "text": [
      "2.11.0\n"
     ]
    }
   ],
   "source": [
    "# import keras\n",
    "\n",
    "# if the above did not work \n",
    "# uncomment and then try the below\n",
    "# from tensorflow import keras\n",
    "\n",
    "print(keras.__version__)"
   ]
  },
  {
   "cell_type": "markdown",
   "metadata": {},
   "source": [
    "If this ran for you, then you already have `keras` installed. For reference, the version of `keras` that I was running while writing this notebook was `2.11.0`.\n",
    "\n",
    "If you received an error while running that code chunk you likely need to install `keras` to move forward.\n",
    "\n",
    "##### Using `pip`\n",
    "\n",
    "If you use `pip` to install packages try running:\n",
    "\n",
    "`pip install keras`\n",
    "\n",
    "in your command line or terminal to install `keras`.\n",
    "\n",
    "##### Using `conda`\n",
    "\n",
    "If you use `conda` try what is recommended at this link, <a href=\"https://anaconda.org/conda-forge/keras\">https://anaconda.org/conda-forge/keras</a>.\n",
    "\n",
    "##### Apple M1 chip computers\n",
    "\n",
    "If you have an Apple computer with an M1 chip you may need extra help. Earlier in 2022 the `keras` package installation instructions did not yet play nicely with such hardware. Try performing a web search for relevant instructions.\n",
    "\n",
    "If you are unsure if you have an M1 chip, check with these instructions <a href=\"https://www.howtogeek.com/706226/how-to-check-if-your-mac-is-using-an-intel-or-apple-silicon-processor/\">https://www.howtogeek.com/706226/how-to-check-if-your-mac-is-using-an-intel-or-apple-silicon-processor/</a>."
   ]
  },
  {
   "cell_type": "markdown",
   "metadata": {},
   "source": [
    "## Building a neural net with `keras`\n",
    "\n",
    "### Classifying MNIST\n",
    "\n",
    "We will mimic our `sklearn` networks from the last notebook and build an MNIST classifier, using the `keras` version of the data."
   ]
  },
  {
   "cell_type": "code",
   "execution_count": 3,
   "metadata": {},
   "outputs": [],
   "source": [
    "## This imports datasets stored in keras\n",
    "from keras.datasets import mnist"
   ]
  },
  {
   "cell_type": "code",
   "execution_count": 6,
   "metadata": {},
   "outputs": [
    {
     "name": "stdout",
     "output_type": "stream",
     "text": [
      "og shape of X_train (60000, 28, 28)\n"
     ]
    }
   ],
   "source": [
    "## Here we load the data\n",
    "(X_train, y_train),(X_test, y_test) = mnist.load_data()\n",
    "\n",
    "print(\"og shape of X_train\", np.shape(X_train))"
   ]
  },
  {
   "cell_type": "code",
   "execution_count": 7,
   "metadata": {
    "scrolled": true
   },
   "outputs": [
    {
     "data": {
      "text/plain": [
       "array([[  0,   0,   0,   0,   0,   0,   0,   0,   0,   0,   0,   0,   0,\n",
       "          0,   0,   0,   0,   0,   0,   0,   0,   0,   0,   0,   0,   0,\n",
       "          0,   0],\n",
       "       [  0,   0,   0,   0,   0,   0,   0,   0,   0,   0,   0,   0,   0,\n",
       "          0,   0,   0,   0,   0,   0,   0,   0,   0,   0,   0,   0,   0,\n",
       "          0,   0],\n",
       "       [  0,   0,   0,   0,   0,   0,   0,   0,   0,   0,   0,   0,   0,\n",
       "          0,   0,   0,   0,   0,   0,   0,   0,   0,   0,   0,   0,   0,\n",
       "          0,   0],\n",
       "       [  0,   0,   0,   0,   0,   0,   0,   0,   0,   0,   0,   0,   0,\n",
       "          0,   0,   0,   0,   0,   0,   0,   0,   0,   0,   0,   0,   0,\n",
       "          0,   0],\n",
       "       [  0,   0,   0,   0,   0,   0,   0,   0,   0,   0,   0,   0,   0,\n",
       "          0,   0,   0,   0,   0,   0,   0,   0,   0,   0,   0,   0,   0,\n",
       "          0,   0],\n",
       "       [  0,   0,   0,   0,   0,   0,   0,   0,   0,   0,   0,   0,   3,\n",
       "         18,  18,  18, 126, 136, 175,  26, 166, 255, 247, 127,   0,   0,\n",
       "          0,   0],\n",
       "       [  0,   0,   0,   0,   0,   0,   0,   0,  30,  36,  94, 154, 170,\n",
       "        253, 253, 253, 253, 253, 225, 172, 253, 242, 195,  64,   0,   0,\n",
       "          0,   0],\n",
       "       [  0,   0,   0,   0,   0,   0,   0,  49, 238, 253, 253, 253, 253,\n",
       "        253, 253, 253, 253, 251,  93,  82,  82,  56,  39,   0,   0,   0,\n",
       "          0,   0],\n",
       "       [  0,   0,   0,   0,   0,   0,   0,  18, 219, 253, 253, 253, 253,\n",
       "        253, 198, 182, 247, 241,   0,   0,   0,   0,   0,   0,   0,   0,\n",
       "          0,   0],\n",
       "       [  0,   0,   0,   0,   0,   0,   0,   0,  80, 156, 107, 253, 253,\n",
       "        205,  11,   0,  43, 154,   0,   0,   0,   0,   0,   0,   0,   0,\n",
       "          0,   0],\n",
       "       [  0,   0,   0,   0,   0,   0,   0,   0,   0,  14,   1, 154, 253,\n",
       "         90,   0,   0,   0,   0,   0,   0,   0,   0,   0,   0,   0,   0,\n",
       "          0,   0],\n",
       "       [  0,   0,   0,   0,   0,   0,   0,   0,   0,   0,   0, 139, 253,\n",
       "        190,   2,   0,   0,   0,   0,   0,   0,   0,   0,   0,   0,   0,\n",
       "          0,   0],\n",
       "       [  0,   0,   0,   0,   0,   0,   0,   0,   0,   0,   0,  11, 190,\n",
       "        253,  70,   0,   0,   0,   0,   0,   0,   0,   0,   0,   0,   0,\n",
       "          0,   0],\n",
       "       [  0,   0,   0,   0,   0,   0,   0,   0,   0,   0,   0,   0,  35,\n",
       "        241, 225, 160, 108,   1,   0,   0,   0,   0,   0,   0,   0,   0,\n",
       "          0,   0],\n",
       "       [  0,   0,   0,   0,   0,   0,   0,   0,   0,   0,   0,   0,   0,\n",
       "         81, 240, 253, 253, 119,  25,   0,   0,   0,   0,   0,   0,   0,\n",
       "          0,   0],\n",
       "       [  0,   0,   0,   0,   0,   0,   0,   0,   0,   0,   0,   0,   0,\n",
       "          0,  45, 186, 253, 253, 150,  27,   0,   0,   0,   0,   0,   0,\n",
       "          0,   0],\n",
       "       [  0,   0,   0,   0,   0,   0,   0,   0,   0,   0,   0,   0,   0,\n",
       "          0,   0,  16,  93, 252, 253, 187,   0,   0,   0,   0,   0,   0,\n",
       "          0,   0],\n",
       "       [  0,   0,   0,   0,   0,   0,   0,   0,   0,   0,   0,   0,   0,\n",
       "          0,   0,   0,   0, 249, 253, 249,  64,   0,   0,   0,   0,   0,\n",
       "          0,   0],\n",
       "       [  0,   0,   0,   0,   0,   0,   0,   0,   0,   0,   0,   0,   0,\n",
       "          0,  46, 130, 183, 253, 253, 207,   2,   0,   0,   0,   0,   0,\n",
       "          0,   0],\n",
       "       [  0,   0,   0,   0,   0,   0,   0,   0,   0,   0,   0,   0,  39,\n",
       "        148, 229, 253, 253, 253, 250, 182,   0,   0,   0,   0,   0,   0,\n",
       "          0,   0],\n",
       "       [  0,   0,   0,   0,   0,   0,   0,   0,   0,   0,  24, 114, 221,\n",
       "        253, 253, 253, 253, 201,  78,   0,   0,   0,   0,   0,   0,   0,\n",
       "          0,   0],\n",
       "       [  0,   0,   0,   0,   0,   0,   0,   0,  23,  66, 213, 253, 253,\n",
       "        253, 253, 198,  81,   2,   0,   0,   0,   0,   0,   0,   0,   0,\n",
       "          0,   0],\n",
       "       [  0,   0,   0,   0,   0,   0,  18, 171, 219, 253, 253, 253, 253,\n",
       "        195,  80,   9,   0,   0,   0,   0,   0,   0,   0,   0,   0,   0,\n",
       "          0,   0],\n",
       "       [  0,   0,   0,   0,  55, 172, 226, 253, 253, 253, 253, 244, 133,\n",
       "         11,   0,   0,   0,   0,   0,   0,   0,   0,   0,   0,   0,   0,\n",
       "          0,   0],\n",
       "       [  0,   0,   0,   0, 136, 253, 253, 253, 212, 135, 132,  16,   0,\n",
       "          0,   0,   0,   0,   0,   0,   0,   0,   0,   0,   0,   0,   0,\n",
       "          0,   0],\n",
       "       [  0,   0,   0,   0,   0,   0,   0,   0,   0,   0,   0,   0,   0,\n",
       "          0,   0,   0,   0,   0,   0,   0,   0,   0,   0,   0,   0,   0,\n",
       "          0,   0],\n",
       "       [  0,   0,   0,   0,   0,   0,   0,   0,   0,   0,   0,   0,   0,\n",
       "          0,   0,   0,   0,   0,   0,   0,   0,   0,   0,   0,   0,   0,\n",
       "          0,   0],\n",
       "       [  0,   0,   0,   0,   0,   0,   0,   0,   0,   0,   0,   0,   0,\n",
       "          0,   0,   0,   0,   0,   0,   0,   0,   0,   0,   0,   0,   0,\n",
       "          0,   0]], dtype=uint8)"
      ]
     },
     "execution_count": 7,
     "metadata": {},
     "output_type": "execute_result"
    }
   ],
   "source": [
    "X_train[0,:,:]"
   ]
  },
  {
   "cell_type": "markdown",
   "metadata": {},
   "source": [
    "##### Reshape the data to be a single column\n",
    "\n",
    "We will now reshape the data so that it has $60{,}000$ observations ($10{,}000$ for the test set) of $28\\times28$ pixels. This will give us a $60000 \\times 784$ $2$-D `numpy` array ($10000 \\times 784$ for the test set)."
   ]
  },
  {
   "cell_type": "code",
   "execution_count": 8,
   "metadata": {},
   "outputs": [
    {
     "name": "stdout",
     "output_type": "stream",
     "text": [
      "The new shape of X_train is (60000, 784)\n",
      "The new shape of X_test is (10000, 784)\n"
     ]
    }
   ],
   "source": [
    "X_train = X_train.reshape(-1,28*28)\n",
    "X_test = X_test.reshape(-1,28*28)\n",
    "\n",
    "print(\"The new shape of X_train is\", np.shape(X_train))\n",
    "print(\"The new shape of X_test is\", np.shape(X_test))\n",
    "\n",
    "X_train = X_train/255\n",
    "X_test = X_test/255"
   ]
  },
  {
   "cell_type": "code",
   "execution_count": 9,
   "metadata": {},
   "outputs": [
    {
     "data": {
      "text/plain": [
       "array([0.        , 0.        , 0.        , 0.        , 0.        ,\n",
       "       0.        , 0.        , 0.        , 0.        , 0.        ,\n",
       "       0.        , 0.        , 0.        , 0.        , 0.        ,\n",
       "       0.        , 0.        , 0.        , 0.        , 0.        ,\n",
       "       0.        , 0.        , 0.        , 0.        , 0.        ,\n",
       "       0.        , 0.        , 0.        , 0.        , 0.        ,\n",
       "       0.        , 0.        , 0.        , 0.        , 0.        ,\n",
       "       0.        , 0.        , 0.        , 0.        , 0.        ,\n",
       "       0.        , 0.        , 0.        , 0.        , 0.        ,\n",
       "       0.        , 0.        , 0.        , 0.        , 0.        ,\n",
       "       0.        , 0.        , 0.        , 0.        , 0.        ,\n",
       "       0.        , 0.        , 0.        , 0.        , 0.        ,\n",
       "       0.        , 0.        , 0.        , 0.        , 0.        ,\n",
       "       0.        , 0.        , 0.        , 0.        , 0.        ,\n",
       "       0.        , 0.        , 0.        , 0.        , 0.        ,\n",
       "       0.        , 0.        , 0.        , 0.        , 0.        ,\n",
       "       0.        , 0.        , 0.        , 0.        , 0.        ,\n",
       "       0.        , 0.        , 0.        , 0.        , 0.        ,\n",
       "       0.        , 0.        , 0.        , 0.        , 0.        ,\n",
       "       0.        , 0.        , 0.        , 0.        , 0.        ,\n",
       "       0.        , 0.        , 0.        , 0.        , 0.        ,\n",
       "       0.        , 0.        , 0.        , 0.        , 0.        ,\n",
       "       0.        , 0.        , 0.        , 0.        , 0.        ,\n",
       "       0.        , 0.        , 0.        , 0.        , 0.        ,\n",
       "       0.        , 0.        , 0.        , 0.        , 0.        ,\n",
       "       0.        , 0.        , 0.        , 0.        , 0.        ,\n",
       "       0.        , 0.        , 0.        , 0.        , 0.        ,\n",
       "       0.        , 0.        , 0.        , 0.        , 0.        ,\n",
       "       0.        , 0.        , 0.        , 0.        , 0.        ,\n",
       "       0.        , 0.        , 0.        , 0.        , 0.        ,\n",
       "       0.        , 0.        , 0.01176471, 0.07058824, 0.07058824,\n",
       "       0.07058824, 0.49411765, 0.53333333, 0.68627451, 0.10196078,\n",
       "       0.65098039, 1.        , 0.96862745, 0.49803922, 0.        ,\n",
       "       0.        , 0.        , 0.        , 0.        , 0.        ,\n",
       "       0.        , 0.        , 0.        , 0.        , 0.        ,\n",
       "       0.        , 0.11764706, 0.14117647, 0.36862745, 0.60392157,\n",
       "       0.66666667, 0.99215686, 0.99215686, 0.99215686, 0.99215686,\n",
       "       0.99215686, 0.88235294, 0.6745098 , 0.99215686, 0.94901961,\n",
       "       0.76470588, 0.25098039, 0.        , 0.        , 0.        ,\n",
       "       0.        , 0.        , 0.        , 0.        , 0.        ,\n",
       "       0.        , 0.        , 0.        , 0.19215686, 0.93333333,\n",
       "       0.99215686, 0.99215686, 0.99215686, 0.99215686, 0.99215686,\n",
       "       0.99215686, 0.99215686, 0.99215686, 0.98431373, 0.36470588,\n",
       "       0.32156863, 0.32156863, 0.21960784, 0.15294118, 0.        ,\n",
       "       0.        , 0.        , 0.        , 0.        , 0.        ,\n",
       "       0.        , 0.        , 0.        , 0.        , 0.        ,\n",
       "       0.        , 0.07058824, 0.85882353, 0.99215686, 0.99215686,\n",
       "       0.99215686, 0.99215686, 0.99215686, 0.77647059, 0.71372549,\n",
       "       0.96862745, 0.94509804, 0.        , 0.        , 0.        ,\n",
       "       0.        , 0.        , 0.        , 0.        , 0.        ,\n",
       "       0.        , 0.        , 0.        , 0.        , 0.        ,\n",
       "       0.        , 0.        , 0.        , 0.        , 0.        ,\n",
       "       0.31372549, 0.61176471, 0.41960784, 0.99215686, 0.99215686,\n",
       "       0.80392157, 0.04313725, 0.        , 0.16862745, 0.60392157,\n",
       "       0.        , 0.        , 0.        , 0.        , 0.        ,\n",
       "       0.        , 0.        , 0.        , 0.        , 0.        ,\n",
       "       0.        , 0.        , 0.        , 0.        , 0.        ,\n",
       "       0.        , 0.        , 0.        , 0.        , 0.05490196,\n",
       "       0.00392157, 0.60392157, 0.99215686, 0.35294118, 0.        ,\n",
       "       0.        , 0.        , 0.        , 0.        , 0.        ,\n",
       "       0.        , 0.        , 0.        , 0.        , 0.        ,\n",
       "       0.        , 0.        , 0.        , 0.        , 0.        ,\n",
       "       0.        , 0.        , 0.        , 0.        , 0.        ,\n",
       "       0.        , 0.        , 0.        , 0.        , 0.54509804,\n",
       "       0.99215686, 0.74509804, 0.00784314, 0.        , 0.        ,\n",
       "       0.        , 0.        , 0.        , 0.        , 0.        ,\n",
       "       0.        , 0.        , 0.        , 0.        , 0.        ,\n",
       "       0.        , 0.        , 0.        , 0.        , 0.        ,\n",
       "       0.        , 0.        , 0.        , 0.        , 0.        ,\n",
       "       0.        , 0.        , 0.04313725, 0.74509804, 0.99215686,\n",
       "       0.2745098 , 0.        , 0.        , 0.        , 0.        ,\n",
       "       0.        , 0.        , 0.        , 0.        , 0.        ,\n",
       "       0.        , 0.        , 0.        , 0.        , 0.        ,\n",
       "       0.        , 0.        , 0.        , 0.        , 0.        ,\n",
       "       0.        , 0.        , 0.        , 0.        , 0.        ,\n",
       "       0.        , 0.1372549 , 0.94509804, 0.88235294, 0.62745098,\n",
       "       0.42352941, 0.00392157, 0.        , 0.        , 0.        ,\n",
       "       0.        , 0.        , 0.        , 0.        , 0.        ,\n",
       "       0.        , 0.        , 0.        , 0.        , 0.        ,\n",
       "       0.        , 0.        , 0.        , 0.        , 0.        ,\n",
       "       0.        , 0.        , 0.        , 0.        , 0.        ,\n",
       "       0.31764706, 0.94117647, 0.99215686, 0.99215686, 0.46666667,\n",
       "       0.09803922, 0.        , 0.        , 0.        , 0.        ,\n",
       "       0.        , 0.        , 0.        , 0.        , 0.        ,\n",
       "       0.        , 0.        , 0.        , 0.        , 0.        ,\n",
       "       0.        , 0.        , 0.        , 0.        , 0.        ,\n",
       "       0.        , 0.        , 0.        , 0.        , 0.17647059,\n",
       "       0.72941176, 0.99215686, 0.99215686, 0.58823529, 0.10588235,\n",
       "       0.        , 0.        , 0.        , 0.        , 0.        ,\n",
       "       0.        , 0.        , 0.        , 0.        , 0.        ,\n",
       "       0.        , 0.        , 0.        , 0.        , 0.        ,\n",
       "       0.        , 0.        , 0.        , 0.        , 0.        ,\n",
       "       0.        , 0.        , 0.        , 0.0627451 , 0.36470588,\n",
       "       0.98823529, 0.99215686, 0.73333333, 0.        , 0.        ,\n",
       "       0.        , 0.        , 0.        , 0.        , 0.        ,\n",
       "       0.        , 0.        , 0.        , 0.        , 0.        ,\n",
       "       0.        , 0.        , 0.        , 0.        , 0.        ,\n",
       "       0.        , 0.        , 0.        , 0.        , 0.        ,\n",
       "       0.        , 0.        , 0.        , 0.97647059, 0.99215686,\n",
       "       0.97647059, 0.25098039, 0.        , 0.        , 0.        ,\n",
       "       0.        , 0.        , 0.        , 0.        , 0.        ,\n",
       "       0.        , 0.        , 0.        , 0.        , 0.        ,\n",
       "       0.        , 0.        , 0.        , 0.        , 0.        ,\n",
       "       0.        , 0.        , 0.        , 0.18039216, 0.50980392,\n",
       "       0.71764706, 0.99215686, 0.99215686, 0.81176471, 0.00784314,\n",
       "       0.        , 0.        , 0.        , 0.        , 0.        ,\n",
       "       0.        , 0.        , 0.        , 0.        , 0.        ,\n",
       "       0.        , 0.        , 0.        , 0.        , 0.        ,\n",
       "       0.        , 0.        , 0.        , 0.        , 0.15294118,\n",
       "       0.58039216, 0.89803922, 0.99215686, 0.99215686, 0.99215686,\n",
       "       0.98039216, 0.71372549, 0.        , 0.        , 0.        ,\n",
       "       0.        , 0.        , 0.        , 0.        , 0.        ,\n",
       "       0.        , 0.        , 0.        , 0.        , 0.        ,\n",
       "       0.        , 0.        , 0.        , 0.        , 0.        ,\n",
       "       0.09411765, 0.44705882, 0.86666667, 0.99215686, 0.99215686,\n",
       "       0.99215686, 0.99215686, 0.78823529, 0.30588235, 0.        ,\n",
       "       0.        , 0.        , 0.        , 0.        , 0.        ,\n",
       "       0.        , 0.        , 0.        , 0.        , 0.        ,\n",
       "       0.        , 0.        , 0.        , 0.        , 0.        ,\n",
       "       0.        , 0.09019608, 0.25882353, 0.83529412, 0.99215686,\n",
       "       0.99215686, 0.99215686, 0.99215686, 0.77647059, 0.31764706,\n",
       "       0.00784314, 0.        , 0.        , 0.        , 0.        ,\n",
       "       0.        , 0.        , 0.        , 0.        , 0.        ,\n",
       "       0.        , 0.        , 0.        , 0.        , 0.        ,\n",
       "       0.        , 0.        , 0.07058824, 0.67058824, 0.85882353,\n",
       "       0.99215686, 0.99215686, 0.99215686, 0.99215686, 0.76470588,\n",
       "       0.31372549, 0.03529412, 0.        , 0.        , 0.        ,\n",
       "       0.        , 0.        , 0.        , 0.        , 0.        ,\n",
       "       0.        , 0.        , 0.        , 0.        , 0.        ,\n",
       "       0.        , 0.        , 0.        , 0.21568627, 0.6745098 ,\n",
       "       0.88627451, 0.99215686, 0.99215686, 0.99215686, 0.99215686,\n",
       "       0.95686275, 0.52156863, 0.04313725, 0.        , 0.        ,\n",
       "       0.        , 0.        , 0.        , 0.        , 0.        ,\n",
       "       0.        , 0.        , 0.        , 0.        , 0.        ,\n",
       "       0.        , 0.        , 0.        , 0.        , 0.        ,\n",
       "       0.        , 0.53333333, 0.99215686, 0.99215686, 0.99215686,\n",
       "       0.83137255, 0.52941176, 0.51764706, 0.0627451 , 0.        ,\n",
       "       0.        , 0.        , 0.        , 0.        , 0.        ,\n",
       "       0.        , 0.        , 0.        , 0.        , 0.        ,\n",
       "       0.        , 0.        , 0.        , 0.        , 0.        ,\n",
       "       0.        , 0.        , 0.        , 0.        , 0.        ,\n",
       "       0.        , 0.        , 0.        , 0.        , 0.        ,\n",
       "       0.        , 0.        , 0.        , 0.        , 0.        ,\n",
       "       0.        , 0.        , 0.        , 0.        , 0.        ,\n",
       "       0.        , 0.        , 0.        , 0.        , 0.        ,\n",
       "       0.        , 0.        , 0.        , 0.        , 0.        ,\n",
       "       0.        , 0.        , 0.        , 0.        , 0.        ,\n",
       "       0.        , 0.        , 0.        , 0.        , 0.        ,\n",
       "       0.        , 0.        , 0.        , 0.        , 0.        ,\n",
       "       0.        , 0.        , 0.        , 0.        , 0.        ,\n",
       "       0.        , 0.        , 0.        , 0.        , 0.        ,\n",
       "       0.        , 0.        , 0.        , 0.        , 0.        ,\n",
       "       0.        , 0.        , 0.        , 0.        , 0.        ,\n",
       "       0.        , 0.        , 0.        , 0.        , 0.        ,\n",
       "       0.        , 0.        , 0.        , 0.        , 0.        ,\n",
       "       0.        , 0.        , 0.        , 0.        , 0.        ,\n",
       "       0.        , 0.        , 0.        , 0.        ])"
      ]
     },
     "execution_count": 9,
     "metadata": {},
     "output_type": "execute_result"
    }
   ],
   "source": [
    "X_train[0,:]"
   ]
  },
  {
   "cell_type": "markdown",
   "metadata": {},
   "source": [
    "### Building the networks\n",
    "\n",
    "We start by importing all of the necessary pieces. We will explain each piece as we need it."
   ]
  },
  {
   "cell_type": "code",
   "execution_count": 10,
   "metadata": {},
   "outputs": [],
   "source": [
    "## import things\n",
    "from keras import models\n",
    "from keras import layers\n",
    "from keras import optimizers\n",
    "from keras import losses\n",
    "from keras import metrics\n",
    "from keras.utils.np_utils import to_categorical\n",
    "\n",
    "# for earlier versions of keras run this instead\n",
    "# from keras.utils import to_categorical\n",
    "# instead of running\n",
    "# from keras.utils.np_utils import to_categorical\n",
    "# or look up the documentation for your version\n"
   ]
  },
  {
   "cell_type": "markdown",
   "metadata": {},
   "source": [
    "What we learned as feed forward networks in the last notebook are also called <i>dense</i> networks because they are fully connected graphs.\n",
    "\n",
    "We will now walk through the process of making a dense neural networks using `keras`.\n",
    "\n",
    "##### 1. Make an empty `model`"
   ]
  },
  {
   "cell_type": "code",
   "execution_count": 11,
   "metadata": {},
   "outputs": [],
   "source": [
    "## we first make an empty model\n",
    "## Sequential means we'll make a group\n",
    "## of a linear stack of layers\n",
    "model = models.Sequential()"
   ]
  },
  {
   "cell_type": "markdown",
   "metadata": {},
   "source": [
    "##### 2. Add the layers to the `model`\n",
    "\n",
    "We will build the following neural network architecture in this step.\n",
    "\n",
    "<img src=\"mnist_net.png\" width=\"70%\"></img>"
   ]
  },
  {
   "cell_type": "code",
   "execution_count": 12,
   "metadata": {},
   "outputs": [],
   "source": [
    "###### ONLY RUN THIS ONCE! ##########\n",
    "\n",
    "## you add a layer with .add()\n",
    "## A Dense layer means a fully connected feedforward layer\n",
    "## the 16 means the layer is 16 nodes tall\n",
    "## activation='relu' means the layer uses a relu activation function\n",
    "## the first layer needs to be told the shape of the input data\n",
    "model.add(layers.Dense(16, activation='relu', input_shape=(28*28,)))\n",
    "\n",
    "# we then add a second layer that is 16 nodes tall\n",
    "# and uses the relu activation function\n",
    "# note we don't need the input shape here, \n",
    "# it is inferred from the first layer's output\n",
    "model.add(layers.Dense(16, activation='relu'))\n",
    "\n",
    "\n",
    "# finally we add the output layer\n",
    "# this will have a single node, representing a probability\n",
    "# that the observation has positive sentiment\n",
    "# this is why the activation is a softmax\n",
    "# for more information on the softmax see the Practice Problems\n",
    "model.add(layers.Dense(10, activation='softmax'))"
   ]
  },
  {
   "cell_type": "code",
   "execution_count": 13,
   "metadata": {},
   "outputs": [
    {
     "name": "stdout",
     "output_type": "stream",
     "text": [
      "Model: \"sequential\"\n",
      "_________________________________________________________________\n",
      " Layer (type)                Output Shape              Param #   \n",
      "=================================================================\n",
      " dense (Dense)               (None, 16)                12560     \n",
      "                                                                 \n",
      " dense_1 (Dense)             (None, 16)                272       \n",
      "                                                                 \n",
      " dense_2 (Dense)             (None, 10)                170       \n",
      "                                                                 \n",
      "=================================================================\n",
      "Total params: 13,002\n",
      "Trainable params: 13,002\n",
      "Non-trainable params: 0\n",
      "_________________________________________________________________\n"
     ]
    }
   ],
   "source": [
    "model.summary()"
   ]
  },
  {
   "cell_type": "markdown",
   "metadata": {},
   "source": [
    "##### 3. Compile the model with an optimizer,  loss and metric\n",
    "\n",
    "The optimizer we use is `rmsprop`, this is an algorithm implemented by `keras` to perform the backpropagation step in fitting the neural network.\n",
    "\n",
    "The loss we use is `categorical_crossentropy` which stems from information theory, this is the \"cost function\" we discussed in notebook 3. This is a common and popular choice for classification problems. See the HW notebook for an explanation of crossentropy.\n",
    "\n",
    "The metric we use is simply `accuracy`.\n",
    "\n",
    "Note that there are more options for all three of these choices and if you are interested in seeing more check out the `keras` documentation, it has an excellent search bar. There is also the possibility to use your own custom inputs as well."
   ]
  },
  {
   "cell_type": "code",
   "execution_count": 14,
   "metadata": {},
   "outputs": [],
   "source": [
    "## we compile the network like so\n",
    "## call .compile\n",
    "## set our optimizer, optimizer='rmsprop'\n",
    "## set our loss, loss='categorical_crossentropy'\n",
    "## set our desired metrics, metrics=['accuracy']\n",
    "model.compile(optimizer='rmsprop', \n",
    "                 loss='categorical_crossentropy',\n",
    "                 metrics=['accuracy'])"
   ]
  },
  {
   "cell_type": "markdown",
   "metadata": {},
   "source": [
    "##### 4. Fit the model on the training data\n",
    "\n",
    "We fit our model on the training data, we'll look at $100$ epochs that use batch gradient descent with a batch size of `512` observations per batch.\n",
    "\n",
    "We first create a validation set, this will be additional input for the model."
   ]
  },
  {
   "cell_type": "code",
   "execution_count": 15,
   "metadata": {},
   "outputs": [],
   "source": [
    "## First make the validation set\n",
    "from sklearn.model_selection import train_test_split\n",
    "\n",
    "X_train_train,X_val,y_train_train,y_val = train_test_split(X_train, y_train,\n",
    "                                                          test_size=.2,\n",
    "                                                          shuffle=True,\n",
    "                                                          stratify=y_train,\n",
    "                                                          random_state=440)"
   ]
  },
  {
   "cell_type": "markdown",
   "metadata": {},
   "source": [
    "##### `to_categorical`\n",
    "\n",
    "In order for the desired output of our model to play nicely with the training and validation data we have to first turn each observation into a categorical output with the `keras` function `to_categorical`. Let's see what this does."
   ]
  },
  {
   "cell_type": "code",
   "execution_count": 16,
   "metadata": {},
   "outputs": [
    {
     "name": "stdout",
     "output_type": "stream",
     "text": [
      "[5 0 4 ... 5 6 8]\n",
      "\n",
      "\n",
      "\n",
      "\n",
      "[[0. 0. 0. ... 0. 0. 0.]\n",
      " [1. 0. 0. ... 0. 0. 0.]\n",
      " [0. 0. 0. ... 0. 0. 0.]\n",
      " ...\n",
      " [0. 0. 0. ... 0. 0. 0.]\n",
      " [0. 0. 0. ... 0. 0. 0.]\n",
      " [0. 0. 0. ... 0. 1. 0.]]\n"
     ]
    }
   ],
   "source": [
    "print(y_train)\n",
    "\n",
    "print(\"\\n\\n\\n\")\n",
    "\n",
    "print(to_categorical(y_train))"
   ]
  },
  {
   "cell_type": "code",
   "execution_count": 18,
   "metadata": {},
   "outputs": [
    {
     "name": "stdout",
     "output_type": "stream",
     "text": [
      "Epoch 1/100\n"
     ]
    },
    {
     "name": "stderr",
     "output_type": "stream",
     "text": [
      "2023-05-25 18:54:04.101370: W tensorflow/tsl/platform/profile_utils/cpu_utils.cc:128] Failed to get CPU frequency: 0 Hz\n"
     ]
    },
    {
     "name": "stdout",
     "output_type": "stream",
     "text": [
      "118/118 [==============================] - 0s 2ms/step - loss: 1.1492 - accuracy: 0.6669 - val_loss: 0.5474 - val_accuracy: 0.8621\n",
      "Epoch 2/100\n",
      "118/118 [==============================] - 0s 1ms/step - loss: 0.4438 - accuracy: 0.8803 - val_loss: 0.3714 - val_accuracy: 0.9020\n",
      "Epoch 3/100\n",
      "118/118 [==============================] - 0s 1ms/step - loss: 0.3431 - accuracy: 0.9056 - val_loss: 0.3184 - val_accuracy: 0.9107\n",
      "Epoch 4/100\n",
      "118/118 [==============================] - 0s 1ms/step - loss: 0.3024 - accuracy: 0.9157 - val_loss: 0.2923 - val_accuracy: 0.9171\n",
      "Epoch 5/100\n",
      "118/118 [==============================] - 0s 2ms/step - loss: 0.2770 - accuracy: 0.9226 - val_loss: 0.2778 - val_accuracy: 0.9208\n",
      "Epoch 6/100\n",
      "118/118 [==============================] - 0s 1ms/step - loss: 0.2598 - accuracy: 0.9269 - val_loss: 0.2672 - val_accuracy: 0.9237\n",
      "Epoch 7/100\n",
      "118/118 [==============================] - 0s 1ms/step - loss: 0.2478 - accuracy: 0.9298 - val_loss: 0.2548 - val_accuracy: 0.9286\n",
      "Epoch 8/100\n",
      "118/118 [==============================] - 0s 1ms/step - loss: 0.2373 - accuracy: 0.9326 - val_loss: 0.2460 - val_accuracy: 0.9301\n",
      "Epoch 9/100\n",
      "118/118 [==============================] - 0s 2ms/step - loss: 0.2285 - accuracy: 0.9358 - val_loss: 0.2336 - val_accuracy: 0.9355\n",
      "Epoch 10/100\n",
      "118/118 [==============================] - 0s 1ms/step - loss: 0.2220 - accuracy: 0.9376 - val_loss: 0.2271 - val_accuracy: 0.9373\n",
      "Epoch 11/100\n",
      "118/118 [==============================] - 0s 1ms/step - loss: 0.2147 - accuracy: 0.9390 - val_loss: 0.2232 - val_accuracy: 0.9371\n",
      "Epoch 12/100\n",
      "118/118 [==============================] - 0s 1ms/step - loss: 0.2094 - accuracy: 0.9405 - val_loss: 0.2120 - val_accuracy: 0.9383\n",
      "Epoch 13/100\n",
      "118/118 [==============================] - 0s 2ms/step - loss: 0.2046 - accuracy: 0.9420 - val_loss: 0.2028 - val_accuracy: 0.9440\n",
      "Epoch 14/100\n",
      "118/118 [==============================] - 0s 2ms/step - loss: 0.1995 - accuracy: 0.9433 - val_loss: 0.1974 - val_accuracy: 0.9467\n",
      "Epoch 15/100\n",
      "118/118 [==============================] - 0s 2ms/step - loss: 0.1947 - accuracy: 0.9441 - val_loss: 0.1956 - val_accuracy: 0.9455\n",
      "Epoch 16/100\n",
      "118/118 [==============================] - 0s 2ms/step - loss: 0.1906 - accuracy: 0.9457 - val_loss: 0.1996 - val_accuracy: 0.9427\n",
      "Epoch 17/100\n",
      "118/118 [==============================] - 0s 2ms/step - loss: 0.1868 - accuracy: 0.9467 - val_loss: 0.1938 - val_accuracy: 0.9450\n",
      "Epoch 18/100\n",
      "118/118 [==============================] - 0s 2ms/step - loss: 0.1827 - accuracy: 0.9481 - val_loss: 0.2031 - val_accuracy: 0.9415\n",
      "Epoch 19/100\n",
      "118/118 [==============================] - 0s 2ms/step - loss: 0.1796 - accuracy: 0.9484 - val_loss: 0.1897 - val_accuracy: 0.9449\n",
      "Epoch 20/100\n",
      "118/118 [==============================] - 0s 2ms/step - loss: 0.1758 - accuracy: 0.9497 - val_loss: 0.1824 - val_accuracy: 0.9486\n",
      "Epoch 21/100\n",
      "118/118 [==============================] - 0s 2ms/step - loss: 0.1723 - accuracy: 0.9505 - val_loss: 0.1741 - val_accuracy: 0.9507\n",
      "Epoch 22/100\n",
      "118/118 [==============================] - 0s 2ms/step - loss: 0.1691 - accuracy: 0.9513 - val_loss: 0.1794 - val_accuracy: 0.9484\n",
      "Epoch 23/100\n",
      "118/118 [==============================] - 0s 2ms/step - loss: 0.1656 - accuracy: 0.9527 - val_loss: 0.1805 - val_accuracy: 0.9473\n",
      "Epoch 24/100\n",
      "118/118 [==============================] - 0s 1ms/step - loss: 0.1625 - accuracy: 0.9534 - val_loss: 0.1644 - val_accuracy: 0.9538\n",
      "Epoch 25/100\n",
      "118/118 [==============================] - 0s 2ms/step - loss: 0.1597 - accuracy: 0.9539 - val_loss: 0.1572 - val_accuracy: 0.9558\n",
      "Epoch 26/100\n",
      "118/118 [==============================] - 0s 2ms/step - loss: 0.1570 - accuracy: 0.9547 - val_loss: 0.1600 - val_accuracy: 0.9546\n",
      "Epoch 27/100\n",
      "118/118 [==============================] - 0s 2ms/step - loss: 0.1544 - accuracy: 0.9556 - val_loss: 0.1526 - val_accuracy: 0.9580\n",
      "Epoch 28/100\n",
      "118/118 [==============================] - 0s 1ms/step - loss: 0.1526 - accuracy: 0.9563 - val_loss: 0.1528 - val_accuracy: 0.9576\n",
      "Epoch 29/100\n",
      "118/118 [==============================] - 0s 1ms/step - loss: 0.1500 - accuracy: 0.9563 - val_loss: 0.1619 - val_accuracy: 0.9534\n",
      "Epoch 30/100\n",
      "118/118 [==============================] - 0s 1ms/step - loss: 0.1479 - accuracy: 0.9571 - val_loss: 0.1456 - val_accuracy: 0.9592\n",
      "Epoch 31/100\n",
      "118/118 [==============================] - 0s 1ms/step - loss: 0.1457 - accuracy: 0.9579 - val_loss: 0.1458 - val_accuracy: 0.9598\n",
      "Epoch 32/100\n",
      "118/118 [==============================] - 0s 1ms/step - loss: 0.1436 - accuracy: 0.9585 - val_loss: 0.1490 - val_accuracy: 0.9558\n",
      "Epoch 33/100\n",
      "118/118 [==============================] - 0s 1ms/step - loss: 0.1423 - accuracy: 0.9584 - val_loss: 0.1431 - val_accuracy: 0.9601\n",
      "Epoch 34/100\n",
      "118/118 [==============================] - 0s 1ms/step - loss: 0.1396 - accuracy: 0.9596 - val_loss: 0.1431 - val_accuracy: 0.9597\n",
      "Epoch 35/100\n",
      "118/118 [==============================] - 0s 1ms/step - loss: 0.1383 - accuracy: 0.9602 - val_loss: 0.1350 - val_accuracy: 0.9615\n",
      "Epoch 36/100\n",
      "118/118 [==============================] - 0s 1ms/step - loss: 0.1360 - accuracy: 0.9599 - val_loss: 0.1339 - val_accuracy: 0.9628\n",
      "Epoch 37/100\n",
      "118/118 [==============================] - 0s 1ms/step - loss: 0.1346 - accuracy: 0.9609 - val_loss: 0.1380 - val_accuracy: 0.9607\n",
      "Epoch 38/100\n",
      "118/118 [==============================] - 0s 1ms/step - loss: 0.1330 - accuracy: 0.9615 - val_loss: 0.1350 - val_accuracy: 0.9618\n",
      "Epoch 39/100\n",
      "118/118 [==============================] - 0s 1ms/step - loss: 0.1316 - accuracy: 0.9613 - val_loss: 0.1303 - val_accuracy: 0.9612\n",
      "Epoch 40/100\n",
      "118/118 [==============================] - 0s 2ms/step - loss: 0.1302 - accuracy: 0.9616 - val_loss: 0.1256 - val_accuracy: 0.9650\n",
      "Epoch 41/100\n",
      "118/118 [==============================] - 0s 2ms/step - loss: 0.1288 - accuracy: 0.9622 - val_loss: 0.1296 - val_accuracy: 0.9657\n",
      "Epoch 42/100\n",
      "118/118 [==============================] - 0s 2ms/step - loss: 0.1273 - accuracy: 0.9624 - val_loss: 0.1276 - val_accuracy: 0.9637\n",
      "Epoch 43/100\n",
      "118/118 [==============================] - 0s 2ms/step - loss: 0.1255 - accuracy: 0.9631 - val_loss: 0.1267 - val_accuracy: 0.9628\n",
      "Epoch 44/100\n",
      "118/118 [==============================] - 0s 2ms/step - loss: 0.1248 - accuracy: 0.9631 - val_loss: 0.1297 - val_accuracy: 0.9614\n",
      "Epoch 45/100\n",
      "118/118 [==============================] - 0s 1ms/step - loss: 0.1237 - accuracy: 0.9635 - val_loss: 0.1182 - val_accuracy: 0.9673\n",
      "Epoch 46/100\n",
      "118/118 [==============================] - 0s 2ms/step - loss: 0.1221 - accuracy: 0.9641 - val_loss: 0.1197 - val_accuracy: 0.9666\n",
      "Epoch 47/100\n",
      "118/118 [==============================] - 0s 2ms/step - loss: 0.1208 - accuracy: 0.9644 - val_loss: 0.1218 - val_accuracy: 0.9644\n",
      "Epoch 48/100\n",
      "118/118 [==============================] - 0s 2ms/step - loss: 0.1193 - accuracy: 0.9651 - val_loss: 0.1244 - val_accuracy: 0.9642\n",
      "Epoch 49/100\n",
      "118/118 [==============================] - 0s 2ms/step - loss: 0.1187 - accuracy: 0.9647 - val_loss: 0.1176 - val_accuracy: 0.9665\n",
      "Epoch 50/100\n",
      "118/118 [==============================] - 0s 2ms/step - loss: 0.1175 - accuracy: 0.9658 - val_loss: 0.1284 - val_accuracy: 0.9634\n",
      "Epoch 51/100\n",
      "118/118 [==============================] - 0s 2ms/step - loss: 0.1164 - accuracy: 0.9653 - val_loss: 0.1128 - val_accuracy: 0.9681\n",
      "Epoch 52/100\n",
      "118/118 [==============================] - 0s 2ms/step - loss: 0.1158 - accuracy: 0.9660 - val_loss: 0.1222 - val_accuracy: 0.9638\n",
      "Epoch 53/100\n",
      "118/118 [==============================] - 0s 2ms/step - loss: 0.1150 - accuracy: 0.9663 - val_loss: 0.1313 - val_accuracy: 0.9607\n",
      "Epoch 54/100\n",
      "118/118 [==============================] - 0s 1ms/step - loss: 0.1134 - accuracy: 0.9662 - val_loss: 0.1180 - val_accuracy: 0.9664\n",
      "Epoch 55/100\n",
      "118/118 [==============================] - 0s 1ms/step - loss: 0.1123 - accuracy: 0.9669 - val_loss: 0.1206 - val_accuracy: 0.9634\n",
      "Epoch 56/100\n",
      "118/118 [==============================] - 0s 1ms/step - loss: 0.1117 - accuracy: 0.9672 - val_loss: 0.1175 - val_accuracy: 0.9645\n",
      "Epoch 57/100\n",
      "118/118 [==============================] - 0s 1ms/step - loss: 0.1111 - accuracy: 0.9672 - val_loss: 0.1150 - val_accuracy: 0.9661\n",
      "Epoch 58/100\n"
     ]
    },
    {
     "name": "stdout",
     "output_type": "stream",
     "text": [
      "118/118 [==============================] - 0s 1ms/step - loss: 0.1098 - accuracy: 0.9676 - val_loss: 0.1076 - val_accuracy: 0.9695\n",
      "Epoch 59/100\n",
      "118/118 [==============================] - 0s 1ms/step - loss: 0.1086 - accuracy: 0.9680 - val_loss: 0.1148 - val_accuracy: 0.9658\n",
      "Epoch 60/100\n",
      "118/118 [==============================] - 0s 2ms/step - loss: 0.1083 - accuracy: 0.9683 - val_loss: 0.1043 - val_accuracy: 0.9703\n",
      "Epoch 61/100\n",
      "118/118 [==============================] - 0s 1ms/step - loss: 0.1074 - accuracy: 0.9684 - val_loss: 0.1081 - val_accuracy: 0.9686\n",
      "Epoch 62/100\n",
      "118/118 [==============================] - 0s 1ms/step - loss: 0.1069 - accuracy: 0.9686 - val_loss: 0.1121 - val_accuracy: 0.9672\n",
      "Epoch 63/100\n",
      "118/118 [==============================] - 0s 1ms/step - loss: 0.1061 - accuracy: 0.9686 - val_loss: 0.1092 - val_accuracy: 0.9694\n",
      "Epoch 64/100\n",
      "118/118 [==============================] - 0s 1ms/step - loss: 0.1052 - accuracy: 0.9689 - val_loss: 0.1024 - val_accuracy: 0.9697\n",
      "Epoch 65/100\n",
      "118/118 [==============================] - 0s 1ms/step - loss: 0.1045 - accuracy: 0.9695 - val_loss: 0.1037 - val_accuracy: 0.9688\n",
      "Epoch 66/100\n",
      "118/118 [==============================] - 0s 1ms/step - loss: 0.1038 - accuracy: 0.9690 - val_loss: 0.1081 - val_accuracy: 0.9678\n",
      "Epoch 67/100\n",
      "118/118 [==============================] - 0s 1ms/step - loss: 0.1031 - accuracy: 0.9693 - val_loss: 0.1041 - val_accuracy: 0.9684\n",
      "Epoch 68/100\n",
      "118/118 [==============================] - 0s 1ms/step - loss: 0.1030 - accuracy: 0.9687 - val_loss: 0.0989 - val_accuracy: 0.9717\n",
      "Epoch 69/100\n",
      "118/118 [==============================] - 0s 1ms/step - loss: 0.1015 - accuracy: 0.9701 - val_loss: 0.1008 - val_accuracy: 0.9693\n",
      "Epoch 70/100\n",
      "118/118 [==============================] - 0s 1ms/step - loss: 0.1011 - accuracy: 0.9696 - val_loss: 0.1175 - val_accuracy: 0.9648\n",
      "Epoch 71/100\n",
      "118/118 [==============================] - 0s 1ms/step - loss: 0.1007 - accuracy: 0.9706 - val_loss: 0.0972 - val_accuracy: 0.9709\n",
      "Epoch 72/100\n",
      "118/118 [==============================] - 0s 1ms/step - loss: 0.0994 - accuracy: 0.9704 - val_loss: 0.1010 - val_accuracy: 0.9704\n",
      "Epoch 73/100\n",
      "118/118 [==============================] - 0s 1ms/step - loss: 0.0991 - accuracy: 0.9707 - val_loss: 0.1013 - val_accuracy: 0.9691\n",
      "Epoch 74/100\n",
      "118/118 [==============================] - 0s 1ms/step - loss: 0.0986 - accuracy: 0.9706 - val_loss: 0.0963 - val_accuracy: 0.9729\n",
      "Epoch 75/100\n",
      "118/118 [==============================] - 0s 1ms/step - loss: 0.0983 - accuracy: 0.9708 - val_loss: 0.0996 - val_accuracy: 0.9707\n",
      "Epoch 76/100\n",
      "118/118 [==============================] - 0s 1ms/step - loss: 0.0979 - accuracy: 0.9706 - val_loss: 0.0969 - val_accuracy: 0.9715\n",
      "Epoch 77/100\n",
      "118/118 [==============================] - 0s 1ms/step - loss: 0.0966 - accuracy: 0.9717 - val_loss: 0.0973 - val_accuracy: 0.9714\n",
      "Epoch 78/100\n",
      "118/118 [==============================] - 0s 1ms/step - loss: 0.0961 - accuracy: 0.9709 - val_loss: 0.0959 - val_accuracy: 0.9708\n",
      "Epoch 79/100\n",
      "118/118 [==============================] - 0s 1ms/step - loss: 0.0959 - accuracy: 0.9712 - val_loss: 0.0951 - val_accuracy: 0.9717\n",
      "Epoch 80/100\n",
      "118/118 [==============================] - 0s 2ms/step - loss: 0.0945 - accuracy: 0.9714 - val_loss: 0.0942 - val_accuracy: 0.9724\n",
      "Epoch 81/100\n",
      "118/118 [==============================] - 0s 2ms/step - loss: 0.0946 - accuracy: 0.9718 - val_loss: 0.0935 - val_accuracy: 0.9718\n",
      "Epoch 82/100\n",
      "118/118 [==============================] - 0s 1ms/step - loss: 0.0940 - accuracy: 0.9717 - val_loss: 0.0949 - val_accuracy: 0.9718\n",
      "Epoch 83/100\n",
      "118/118 [==============================] - 0s 2ms/step - loss: 0.0934 - accuracy: 0.9722 - val_loss: 0.1000 - val_accuracy: 0.9695\n",
      "Epoch 84/100\n",
      "118/118 [==============================] - 0s 1ms/step - loss: 0.0926 - accuracy: 0.9723 - val_loss: 0.0951 - val_accuracy: 0.9722\n",
      "Epoch 85/100\n",
      "118/118 [==============================] - 0s 2ms/step - loss: 0.0923 - accuracy: 0.9724 - val_loss: 0.1009 - val_accuracy: 0.9682\n",
      "Epoch 86/100\n",
      "118/118 [==============================] - 0s 2ms/step - loss: 0.0914 - accuracy: 0.9727 - val_loss: 0.0871 - val_accuracy: 0.9738\n",
      "Epoch 87/100\n",
      "118/118 [==============================] - 0s 2ms/step - loss: 0.0913 - accuracy: 0.9725 - val_loss: 0.0914 - val_accuracy: 0.9731\n",
      "Epoch 88/100\n",
      "118/118 [==============================] - 0s 2ms/step - loss: 0.0907 - accuracy: 0.9732 - val_loss: 0.0917 - val_accuracy: 0.9727\n",
      "Epoch 89/100\n",
      "118/118 [==============================] - 0s 2ms/step - loss: 0.0907 - accuracy: 0.9729 - val_loss: 0.0940 - val_accuracy: 0.9712\n",
      "Epoch 90/100\n",
      "118/118 [==============================] - 0s 1ms/step - loss: 0.0895 - accuracy: 0.9729 - val_loss: 0.0861 - val_accuracy: 0.9751\n",
      "Epoch 91/100\n",
      "118/118 [==============================] - 0s 2ms/step - loss: 0.0892 - accuracy: 0.9726 - val_loss: 0.0945 - val_accuracy: 0.9704\n",
      "Epoch 92/100\n",
      "118/118 [==============================] - 0s 2ms/step - loss: 0.0887 - accuracy: 0.9730 - val_loss: 0.0886 - val_accuracy: 0.9735\n",
      "Epoch 93/100\n",
      "118/118 [==============================] - 0s 3ms/step - loss: 0.0882 - accuracy: 0.9736 - val_loss: 0.0877 - val_accuracy: 0.9728\n",
      "Epoch 94/100\n",
      "118/118 [==============================] - 0s 2ms/step - loss: 0.0881 - accuracy: 0.9730 - val_loss: 0.0931 - val_accuracy: 0.9707\n",
      "Epoch 95/100\n",
      "118/118 [==============================] - 0s 1ms/step - loss: 0.0874 - accuracy: 0.9732 - val_loss: 0.0840 - val_accuracy: 0.9752\n",
      "Epoch 96/100\n",
      "118/118 [==============================] - 0s 2ms/step - loss: 0.0865 - accuracy: 0.9734 - val_loss: 0.1025 - val_accuracy: 0.9682\n",
      "Epoch 97/100\n",
      "118/118 [==============================] - 0s 2ms/step - loss: 0.0861 - accuracy: 0.9735 - val_loss: 0.0841 - val_accuracy: 0.9741\n",
      "Epoch 98/100\n",
      "118/118 [==============================] - 0s 2ms/step - loss: 0.0859 - accuracy: 0.9742 - val_loss: 0.0912 - val_accuracy: 0.9733\n",
      "Epoch 99/100\n",
      "118/118 [==============================] - 0s 1ms/step - loss: 0.0857 - accuracy: 0.9738 - val_loss: 0.0842 - val_accuracy: 0.9743\n",
      "Epoch 100/100\n",
      "118/118 [==============================] - 0s 2ms/step - loss: 0.0848 - accuracy: 0.9751 - val_loss: 0.0823 - val_accuracy: 0.9755\n"
     ]
    }
   ],
   "source": [
    "## I now fit the model, and store the training history\n",
    "## I use 100 epochs and a batch_size of 512\n",
    "n_epochs = 100\n",
    "batch_size = 512\n",
    "history = model.fit(X_train,\n",
    "                    to_categorical(y_train),\n",
    "                    epochs=n_epochs,\n",
    "                    batch_size=batch_size,\n",
    "                    validation_data=(X_val, to_categorical(y_val)))"
   ]
  },
  {
   "cell_type": "markdown",
   "metadata": {},
   "source": [
    "##### 5. Examine epoch history loss and accuracy\n",
    "\n",
    "The data stored in `history` includes a dictionary with epoch information on both the training and validation losses and accuracies."
   ]
  },
  {
   "cell_type": "code",
   "execution_count": 19,
   "metadata": {},
   "outputs": [
    {
     "data": {
      "text/plain": [
       "<keras.callbacks.History at 0x29affae20>"
      ]
     },
     "execution_count": 19,
     "metadata": {},
     "output_type": "execute_result"
    }
   ],
   "source": [
    "history"
   ]
  },
  {
   "cell_type": "code",
   "execution_count": 22,
   "metadata": {},
   "outputs": [],
   "source": [
    "history_dict = history.history"
   ]
  },
  {
   "cell_type": "code",
   "execution_count": 23,
   "metadata": {},
   "outputs": [
    {
     "name": "stdout",
     "output_type": "stream",
     "text": [
      "dict_keys(['loss', 'accuracy', 'val_loss', 'val_accuracy'])\n"
     ]
    }
   ],
   "source": [
    "print(history_dict.keys())"
   ]
  },
  {
   "cell_type": "code",
   "execution_count": 24,
   "metadata": {},
   "outputs": [
    {
     "data": {
      "image/png": "[encoded data removed]",
      "text/plain": [
       "<Figure size 800x600 with 1 Axes>"
      ]
     },
     "metadata": {},
     "output_type": "display_data"
    },
    {
     "data": {
      "image/png": "[encoded data removed]",
      "text/plain": [
       "<Figure size 800x600 with 1 Axes>"
      ]
     },
     "metadata": {},
     "output_type": "display_data"
    }
   ],
   "source": [
    "plt.figure(figsize = (8,6))\n",
    "\n",
    "plt.scatter(range(1,n_epochs+1), history_dict['accuracy'], label = \"Training Accuracy\")\n",
    "plt.scatter(range(1,n_epochs+1), history_dict['val_accuracy'], marker='v', label = \"Validation Set Accuracy\")\n",
    "\n",
    "plt.xlabel(\"Epoch\", fontsize=12)\n",
    "plt.ylabel(\"Accuracy\", fontsize=12)\n",
    "\n",
    "plt.xticks(fontsize=10)\n",
    "plt.yticks(fontsize=10)\n",
    "\n",
    "plt.legend(fontsize=12)\n",
    "\n",
    "plt.show()\n",
    "\n",
    "\n",
    "plt.figure(figsize = (8,6))\n",
    "\n",
    "plt.scatter(range(1,n_epochs+1), history_dict['loss'], label = \"Training Loss\")\n",
    "plt.scatter(range(1,n_epochs+1), history_dict['val_loss'], marker='v', label = \"Validation Set Loss\")\n",
    "\n",
    "plt.xlabel(\"Epoch\", fontsize=12)\n",
    "plt.ylabel(\"Loss Function Value\", fontsize=12)\n",
    "\n",
    "plt.xticks(fontsize=10)\n",
    "plt.yticks(fontsize=10)\n",
    "\n",
    "plt.legend(fontsize=12)\n",
    "\n",
    "plt.show()"
   ]
  },
  {
   "cell_type": "markdown",
   "metadata": {},
   "source": [
    "##### 6. Tuning the model architecture\n",
    "\n",
    "Looking at data like this can allow us to choose a training period, i.e. the number of epochs, for a neural network as well as compare performance across two different networks. Let's try a comparison to a second network."
   ]
  },
  {
   "cell_type": "code",
   "execution_count": 25,
   "metadata": {
    "scrolled": true
   },
   "outputs": [
    {
     "name": "stdout",
     "output_type": "stream",
     "text": [
      "Epoch 1/100\n",
      "94/94 [==============================] - 1s 4ms/step - loss: 0.8249 - accuracy: 0.7806 - val_loss: 0.3899 - val_accuracy: 0.8929\n",
      "Epoch 2/100\n",
      "94/94 [==============================] - 0s 2ms/step - loss: 0.3209 - accuracy: 0.9089 - val_loss: 0.2826 - val_accuracy: 0.9182\n",
      "Epoch 3/100\n",
      "94/94 [==============================] - 0s 2ms/step - loss: 0.2520 - accuracy: 0.9276 - val_loss: 0.2440 - val_accuracy: 0.9294\n",
      "Epoch 4/100\n",
      "94/94 [==============================] - 0s 2ms/step - loss: 0.2165 - accuracy: 0.9376 - val_loss: 0.2167 - val_accuracy: 0.9377\n",
      "Epoch 5/100\n",
      "94/94 [==============================] - 0s 2ms/step - loss: 0.1921 - accuracy: 0.9441 - val_loss: 0.2073 - val_accuracy: 0.9389\n",
      "Epoch 6/100\n",
      "94/94 [==============================] - 0s 2ms/step - loss: 0.1744 - accuracy: 0.9491 - val_loss: 0.1863 - val_accuracy: 0.9456\n",
      "Epoch 7/100\n",
      "94/94 [==============================] - 0s 2ms/step - loss: 0.1598 - accuracy: 0.9531 - val_loss: 0.1840 - val_accuracy: 0.9448\n",
      "Epoch 8/100\n",
      "94/94 [==============================] - 0s 2ms/step - loss: 0.1484 - accuracy: 0.9562 - val_loss: 0.1665 - val_accuracy: 0.9520\n",
      "Epoch 9/100\n",
      "94/94 [==============================] - 0s 2ms/step - loss: 0.1398 - accuracy: 0.9592 - val_loss: 0.1592 - val_accuracy: 0.9531\n",
      "Epoch 10/100\n",
      "94/94 [==============================] - 0s 2ms/step - loss: 0.1313 - accuracy: 0.9618 - val_loss: 0.1577 - val_accuracy: 0.9550\n",
      "Epoch 11/100\n",
      "94/94 [==============================] - 0s 2ms/step - loss: 0.1247 - accuracy: 0.9633 - val_loss: 0.1546 - val_accuracy: 0.9561\n",
      "Epoch 12/100\n",
      "94/94 [==============================] - 0s 2ms/step - loss: 0.1182 - accuracy: 0.9653 - val_loss: 0.1482 - val_accuracy: 0.9578\n",
      "Epoch 13/100\n",
      "94/94 [==============================] - 0s 2ms/step - loss: 0.1114 - accuracy: 0.9673 - val_loss: 0.1424 - val_accuracy: 0.9582\n",
      "Epoch 14/100\n",
      "94/94 [==============================] - 0s 2ms/step - loss: 0.1067 - accuracy: 0.9685 - val_loss: 0.1417 - val_accuracy: 0.9585\n",
      "Epoch 15/100\n",
      "94/94 [==============================] - 0s 2ms/step - loss: 0.1010 - accuracy: 0.9707 - val_loss: 0.1347 - val_accuracy: 0.9597\n",
      "Epoch 16/100\n",
      "94/94 [==============================] - 0s 2ms/step - loss: 0.0972 - accuracy: 0.9714 - val_loss: 0.1347 - val_accuracy: 0.9582\n",
      "Epoch 17/100\n",
      "94/94 [==============================] - 0s 2ms/step - loss: 0.0923 - accuracy: 0.9732 - val_loss: 0.1360 - val_accuracy: 0.9578\n",
      "Epoch 18/100\n",
      "94/94 [==============================] - 0s 2ms/step - loss: 0.0886 - accuracy: 0.9740 - val_loss: 0.1283 - val_accuracy: 0.9617\n",
      "Epoch 19/100\n",
      "94/94 [==============================] - 0s 2ms/step - loss: 0.0844 - accuracy: 0.9749 - val_loss: 0.1336 - val_accuracy: 0.9596\n",
      "Epoch 20/100\n",
      "94/94 [==============================] - 0s 2ms/step - loss: 0.0817 - accuracy: 0.9768 - val_loss: 0.1352 - val_accuracy: 0.9600\n",
      "Epoch 21/100\n",
      "94/94 [==============================] - 0s 2ms/step - loss: 0.0782 - accuracy: 0.9769 - val_loss: 0.1251 - val_accuracy: 0.9616\n",
      "Epoch 22/100\n",
      "94/94 [==============================] - 0s 2ms/step - loss: 0.0749 - accuracy: 0.9776 - val_loss: 0.1297 - val_accuracy: 0.9613\n",
      "Epoch 23/100\n",
      "94/94 [==============================] - 0s 2ms/step - loss: 0.0724 - accuracy: 0.9790 - val_loss: 0.1261 - val_accuracy: 0.9620\n",
      "Epoch 24/100\n",
      "94/94 [==============================] - 0s 2ms/step - loss: 0.0698 - accuracy: 0.9795 - val_loss: 0.1552 - val_accuracy: 0.9548\n",
      "Epoch 25/100\n",
      "94/94 [==============================] - 0s 2ms/step - loss: 0.0673 - accuracy: 0.9796 - val_loss: 0.1288 - val_accuracy: 0.9616\n",
      "Epoch 26/100\n",
      "94/94 [==============================] - 0s 2ms/step - loss: 0.0652 - accuracy: 0.9806 - val_loss: 0.1216 - val_accuracy: 0.9645\n",
      "Epoch 27/100\n",
      "94/94 [==============================] - 0s 2ms/step - loss: 0.0628 - accuracy: 0.9819 - val_loss: 0.1225 - val_accuracy: 0.9645\n",
      "Epoch 28/100\n",
      "94/94 [==============================] - 0s 2ms/step - loss: 0.0604 - accuracy: 0.9822 - val_loss: 0.1222 - val_accuracy: 0.9642\n",
      "Epoch 29/100\n",
      "94/94 [==============================] - 0s 2ms/step - loss: 0.0581 - accuracy: 0.9825 - val_loss: 0.1289 - val_accuracy: 0.9626\n",
      "Epoch 30/100\n",
      "94/94 [==============================] - 0s 2ms/step - loss: 0.0566 - accuracy: 0.9828 - val_loss: 0.1183 - val_accuracy: 0.9657\n",
      "Epoch 31/100\n",
      "94/94 [==============================] - 0s 2ms/step - loss: 0.0543 - accuracy: 0.9840 - val_loss: 0.1226 - val_accuracy: 0.9650\n",
      "Epoch 32/100\n",
      "94/94 [==============================] - 0s 2ms/step - loss: 0.0525 - accuracy: 0.9844 - val_loss: 0.1287 - val_accuracy: 0.9632\n",
      "Epoch 33/100\n",
      "94/94 [==============================] - 0s 2ms/step - loss: 0.0503 - accuracy: 0.9849 - val_loss: 0.1215 - val_accuracy: 0.9649\n",
      "Epoch 34/100\n",
      "94/94 [==============================] - 0s 2ms/step - loss: 0.0486 - accuracy: 0.9857 - val_loss: 0.1279 - val_accuracy: 0.9648\n",
      "Epoch 35/100\n",
      "94/94 [==============================] - 0s 2ms/step - loss: 0.0474 - accuracy: 0.9859 - val_loss: 0.1226 - val_accuracy: 0.9653\n",
      "Epoch 36/100\n",
      "94/94 [==============================] - 0s 2ms/step - loss: 0.0460 - accuracy: 0.9863 - val_loss: 0.1238 - val_accuracy: 0.9657\n",
      "Epoch 37/100\n",
      "94/94 [==============================] - 0s 2ms/step - loss: 0.0440 - accuracy: 0.9866 - val_loss: 0.1194 - val_accuracy: 0.9669\n",
      "Epoch 38/100\n",
      "94/94 [==============================] - 0s 2ms/step - loss: 0.0428 - accuracy: 0.9871 - val_loss: 0.1200 - val_accuracy: 0.9668\n",
      "Epoch 39/100\n",
      "94/94 [==============================] - 0s 2ms/step - loss: 0.0412 - accuracy: 0.9878 - val_loss: 0.1246 - val_accuracy: 0.9659\n",
      "Epoch 40/100\n",
      "94/94 [==============================] - 0s 2ms/step - loss: 0.0399 - accuracy: 0.9881 - val_loss: 0.1247 - val_accuracy: 0.9658\n",
      "Epoch 41/100\n",
      "94/94 [==============================] - 0s 2ms/step - loss: 0.0388 - accuracy: 0.9884 - val_loss: 0.1311 - val_accuracy: 0.9643\n",
      "Epoch 42/100\n",
      "94/94 [==============================] - 0s 2ms/step - loss: 0.0365 - accuracy: 0.9893 - val_loss: 0.1314 - val_accuracy: 0.9641\n",
      "Epoch 43/100\n",
      "94/94 [==============================] - 0s 2ms/step - loss: 0.0360 - accuracy: 0.9897 - val_loss: 0.1360 - val_accuracy: 0.9619\n",
      "Epoch 44/100\n",
      "94/94 [==============================] - 0s 2ms/step - loss: 0.0343 - accuracy: 0.9899 - val_loss: 0.1327 - val_accuracy: 0.9634\n",
      "Epoch 45/100\n",
      "94/94 [==============================] - 0s 2ms/step - loss: 0.0330 - accuracy: 0.9905 - val_loss: 0.1288 - val_accuracy: 0.9658\n",
      "Epoch 46/100\n",
      "94/94 [==============================] - 0s 2ms/step - loss: 0.0323 - accuracy: 0.9907 - val_loss: 0.1278 - val_accuracy: 0.9661\n",
      "Epoch 47/100\n",
      "94/94 [==============================] - 0s 2ms/step - loss: 0.0313 - accuracy: 0.9913 - val_loss: 0.1315 - val_accuracy: 0.9651\n",
      "Epoch 48/100\n",
      "94/94 [==============================] - 0s 2ms/step - loss: 0.0304 - accuracy: 0.9912 - val_loss: 0.1350 - val_accuracy: 0.9638\n",
      "Epoch 49/100\n",
      "94/94 [==============================] - 0s 2ms/step - loss: 0.0289 - accuracy: 0.9920 - val_loss: 0.1276 - val_accuracy: 0.9667\n",
      "Epoch 50/100\n",
      "94/94 [==============================] - 0s 2ms/step - loss: 0.0278 - accuracy: 0.9922 - val_loss: 0.1313 - val_accuracy: 0.9665\n",
      "Epoch 51/100\n",
      "94/94 [==============================] - 0s 2ms/step - loss: 0.0270 - accuracy: 0.9924 - val_loss: 0.1296 - val_accuracy: 0.9669\n",
      "Epoch 52/100\n",
      "94/94 [==============================] - 0s 2ms/step - loss: 0.0258 - accuracy: 0.9927 - val_loss: 0.1345 - val_accuracy: 0.9653\n",
      "Epoch 53/100\n",
      "94/94 [==============================] - 0s 2ms/step - loss: 0.0252 - accuracy: 0.9934 - val_loss: 0.1384 - val_accuracy: 0.9653\n",
      "Epoch 54/100\n",
      "94/94 [==============================] - 0s 2ms/step - loss: 0.0245 - accuracy: 0.9933 - val_loss: 0.1357 - val_accuracy: 0.9652\n",
      "Epoch 55/100\n",
      "94/94 [==============================] - 0s 2ms/step - loss: 0.0236 - accuracy: 0.9935 - val_loss: 0.1337 - val_accuracy: 0.9674\n",
      "Epoch 56/100\n",
      "94/94 [==============================] - 0s 2ms/step - loss: 0.0228 - accuracy: 0.9938 - val_loss: 0.1393 - val_accuracy: 0.9653\n",
      "Epoch 57/100\n",
      "94/94 [==============================] - 0s 2ms/step - loss: 0.0216 - accuracy: 0.9939 - val_loss: 0.1374 - val_accuracy: 0.9667\n",
      "Epoch 58/100\n",
      "94/94 [==============================] - 0s 2ms/step - loss: 0.0217 - accuracy: 0.9940 - val_loss: 0.1404 - val_accuracy: 0.9657\n"
     ]
    },
    {
     "name": "stdout",
     "output_type": "stream",
     "text": [
      "Epoch 59/100\n",
      "94/94 [==============================] - 0s 2ms/step - loss: 0.0201 - accuracy: 0.9946 - val_loss: 0.1435 - val_accuracy: 0.9660\n",
      "Epoch 60/100\n",
      "94/94 [==============================] - 0s 2ms/step - loss: 0.0196 - accuracy: 0.9949 - val_loss: 0.1404 - val_accuracy: 0.9657\n",
      "Epoch 61/100\n",
      "94/94 [==============================] - 0s 2ms/step - loss: 0.0191 - accuracy: 0.9953 - val_loss: 0.1408 - val_accuracy: 0.9678\n",
      "Epoch 62/100\n",
      "94/94 [==============================] - 0s 2ms/step - loss: 0.0183 - accuracy: 0.9951 - val_loss: 0.1453 - val_accuracy: 0.9653\n",
      "Epoch 63/100\n",
      "94/94 [==============================] - 0s 2ms/step - loss: 0.0178 - accuracy: 0.9956 - val_loss: 0.1399 - val_accuracy: 0.9683\n",
      "Epoch 64/100\n",
      "94/94 [==============================] - 0s 2ms/step - loss: 0.0168 - accuracy: 0.9958 - val_loss: 0.1402 - val_accuracy: 0.9674\n",
      "Epoch 65/100\n",
      "94/94 [==============================] - 0s 2ms/step - loss: 0.0162 - accuracy: 0.9961 - val_loss: 0.1480 - val_accuracy: 0.9667\n",
      "Epoch 66/100\n",
      "94/94 [==============================] - 0s 2ms/step - loss: 0.0158 - accuracy: 0.9961 - val_loss: 0.1443 - val_accuracy: 0.9673\n",
      "Epoch 67/100\n",
      "94/94 [==============================] - 0s 2ms/step - loss: 0.0153 - accuracy: 0.9958 - val_loss: 0.1528 - val_accuracy: 0.9672\n",
      "Epoch 68/100\n",
      "94/94 [==============================] - 0s 2ms/step - loss: 0.0148 - accuracy: 0.9964 - val_loss: 0.1494 - val_accuracy: 0.9657\n",
      "Epoch 69/100\n",
      "94/94 [==============================] - 0s 2ms/step - loss: 0.0135 - accuracy: 0.9970 - val_loss: 0.1547 - val_accuracy: 0.9657\n",
      "Epoch 70/100\n",
      "94/94 [==============================] - 0s 2ms/step - loss: 0.0137 - accuracy: 0.9966 - val_loss: 0.1504 - val_accuracy: 0.9673\n",
      "Epoch 71/100\n",
      "94/94 [==============================] - 0s 2ms/step - loss: 0.0130 - accuracy: 0.9970 - val_loss: 0.1525 - val_accuracy: 0.9663\n",
      "Epoch 72/100\n",
      "94/94 [==============================] - 0s 2ms/step - loss: 0.0126 - accuracy: 0.9969 - val_loss: 0.1569 - val_accuracy: 0.9648\n",
      "Epoch 73/100\n",
      "94/94 [==============================] - 0s 2ms/step - loss: 0.0121 - accuracy: 0.9973 - val_loss: 0.1542 - val_accuracy: 0.9672\n",
      "Epoch 74/100\n",
      "94/94 [==============================] - 0s 2ms/step - loss: 0.0116 - accuracy: 0.9973 - val_loss: 0.1643 - val_accuracy: 0.9659\n",
      "Epoch 75/100\n",
      "94/94 [==============================] - 0s 2ms/step - loss: 0.0109 - accuracy: 0.9976 - val_loss: 0.1625 - val_accuracy: 0.9654\n",
      "Epoch 76/100\n",
      "94/94 [==============================] - 0s 2ms/step - loss: 0.0108 - accuracy: 0.9976 - val_loss: 0.1662 - val_accuracy: 0.9657\n",
      "Epoch 77/100\n",
      "94/94 [==============================] - 0s 2ms/step - loss: 0.0104 - accuracy: 0.9977 - val_loss: 0.1770 - val_accuracy: 0.9627\n",
      "Epoch 78/100\n",
      "94/94 [==============================] - 0s 2ms/step - loss: 0.0097 - accuracy: 0.9980 - val_loss: 0.1676 - val_accuracy: 0.9659\n",
      "Epoch 79/100\n",
      "94/94 [==============================] - 0s 2ms/step - loss: 0.0096 - accuracy: 0.9981 - val_loss: 0.1646 - val_accuracy: 0.9667\n",
      "Epoch 80/100\n",
      "94/94 [==============================] - 0s 2ms/step - loss: 0.0093 - accuracy: 0.9982 - val_loss: 0.1686 - val_accuracy: 0.9663\n",
      "Epoch 81/100\n",
      "94/94 [==============================] - 0s 2ms/step - loss: 0.0087 - accuracy: 0.9984 - val_loss: 0.1716 - val_accuracy: 0.9660\n",
      "Epoch 82/100\n",
      "94/94 [==============================] - 0s 2ms/step - loss: 0.0084 - accuracy: 0.9984 - val_loss: 0.1747 - val_accuracy: 0.9657\n",
      "Epoch 83/100\n",
      "94/94 [==============================] - 0s 2ms/step - loss: 0.0083 - accuracy: 0.9984 - val_loss: 0.1667 - val_accuracy: 0.9679\n",
      "Epoch 84/100\n",
      "94/94 [==============================] - 0s 2ms/step - loss: 0.0078 - accuracy: 0.9986 - val_loss: 0.1806 - val_accuracy: 0.9663\n",
      "Epoch 85/100\n",
      "94/94 [==============================] - 0s 2ms/step - loss: 0.0078 - accuracy: 0.9984 - val_loss: 0.1755 - val_accuracy: 0.9657\n",
      "Epoch 86/100\n",
      "94/94 [==============================] - 0s 2ms/step - loss: 0.0072 - accuracy: 0.9987 - val_loss: 0.1854 - val_accuracy: 0.9632\n",
      "Epoch 87/100\n",
      "94/94 [==============================] - 0s 2ms/step - loss: 0.0068 - accuracy: 0.9989 - val_loss: 0.1794 - val_accuracy: 0.9651\n",
      "Epoch 88/100\n",
      "94/94 [==============================] - 0s 2ms/step - loss: 0.0067 - accuracy: 0.9988 - val_loss: 0.1820 - val_accuracy: 0.9655\n",
      "Epoch 89/100\n",
      "94/94 [==============================] - 0s 2ms/step - loss: 0.0063 - accuracy: 0.9991 - val_loss: 0.1882 - val_accuracy: 0.9643\n",
      "Epoch 90/100\n",
      "94/94 [==============================] - 0s 2ms/step - loss: 0.0060 - accuracy: 0.9989 - val_loss: 0.1794 - val_accuracy: 0.9669\n",
      "Epoch 91/100\n",
      "94/94 [==============================] - 0s 2ms/step - loss: 0.0057 - accuracy: 0.9991 - val_loss: 0.1803 - val_accuracy: 0.9681\n",
      "Epoch 92/100\n",
      "94/94 [==============================] - 0s 2ms/step - loss: 0.0058 - accuracy: 0.9991 - val_loss: 0.1899 - val_accuracy: 0.9649\n",
      "Epoch 93/100\n",
      "94/94 [==============================] - 0s 2ms/step - loss: 0.0053 - accuracy: 0.9992 - val_loss: 0.1991 - val_accuracy: 0.9634\n",
      "Epoch 94/100\n",
      "94/94 [==============================] - 0s 2ms/step - loss: 0.0053 - accuracy: 0.9992 - val_loss: 0.1897 - val_accuracy: 0.9652\n",
      "Epoch 95/100\n",
      "94/94 [==============================] - 0s 2ms/step - loss: 0.0048 - accuracy: 0.9993 - val_loss: 0.1940 - val_accuracy: 0.9667\n",
      "Epoch 96/100\n",
      "94/94 [==============================] - 0s 2ms/step - loss: 0.0049 - accuracy: 0.9992 - val_loss: 0.2019 - val_accuracy: 0.9648\n",
      "Epoch 97/100\n",
      "94/94 [==============================] - 0s 2ms/step - loss: 0.0046 - accuracy: 0.9992 - val_loss: 0.1887 - val_accuracy: 0.9685\n",
      "Epoch 98/100\n",
      "94/94 [==============================] - 0s 2ms/step - loss: 0.0043 - accuracy: 0.9995 - val_loss: 0.1956 - val_accuracy: 0.9668\n",
      "Epoch 99/100\n",
      "94/94 [==============================] - 0s 2ms/step - loss: 0.0043 - accuracy: 0.9993 - val_loss: 0.1979 - val_accuracy: 0.9665\n",
      "Epoch 100/100\n",
      "94/94 [==============================] - 0s 2ms/step - loss: 0.0039 - accuracy: 0.9995 - val_loss: 0.2024 - val_accuracy: 0.9660\n"
     ]
    }
   ],
   "source": [
    "model2 = models.Sequential()\n",
    "\n",
    "model2.add(layers.Dense(32, activation='relu', input_shape=(28*28,)))\n",
    "model2.add(layers.Dense(32, activation='relu'))\n",
    "model2.add(layers.Dense(10, activation='softmax'))\n",
    "\n",
    "model2.compile(optimizer = 'rmsprop',\n",
    "                 loss = 'categorical_crossentropy',\n",
    "                 metrics = ['accuracy'])\n",
    "\n",
    "history2 = model2.fit(X_train_train,\n",
    "                       to_categorical(y_train_train),\n",
    "                       epochs = n_epochs,\n",
    "                       batch_size = batch_size,\n",
    "                       validation_data = (X_val, to_categorical(y_val)))\n",
    "\n",
    "history_dict2 = history2.history"
   ]
  },
  {
   "cell_type": "code",
   "execution_count": 26,
   "metadata": {},
   "outputs": [
    {
     "data": {
      "image/png": "[encoded data removed]",
      "text/plain": [
       "<Figure size 800x600 with 1 Axes>"
      ]
     },
     "metadata": {},
     "output_type": "display_data"
    },
    {
     "data": {
      "image/png": "[encoded data removed]",
      "text/plain": [
       "<Figure size 800x600 with 1 Axes>"
      ]
     },
     "metadata": {},
     "output_type": "display_data"
    }
   ],
   "source": [
    "plt.figure(figsize = (8,6))\n",
    "\n",
    "plt.scatter(range(1,n_epochs+1), history_dict['val_accuracy'], label = \"Neural Net 1 Val. Accuracy\")\n",
    "plt.scatter(range(1,n_epochs+1), history_dict2['val_accuracy'], marker='v', label = \"Neural Net 2 Val. Accuracy\")\n",
    "\n",
    "plt.xlabel(\"Epoch\", fontsize=12)\n",
    "plt.ylabel(\"Accuracy\", fontsize=12)\n",
    "\n",
    "plt.xticks(fontsize=10)\n",
    "plt.yticks(fontsize=10)\n",
    "\n",
    "plt.legend(fontsize=12)\n",
    "\n",
    "plt.show()\n",
    "\n",
    "plt.figure(figsize = (8,6))\n",
    "\n",
    "plt.scatter(range(1,n_epochs+1), history_dict['val_loss'], label = \"Neural Net 1 Val. Loss\")\n",
    "plt.scatter(range(1,n_epochs+1), history_dict2['val_loss'], marker='v', label = \"Neural Net 2 Val. Loss\")\n",
    "\n",
    "plt.xlabel(\"Epoch\", fontsize=12)\n",
    "plt.ylabel(\"Loss\", fontsize=12)\n",
    "\n",
    "plt.xticks(fontsize=10)\n",
    "plt.yticks(fontsize=10)\n",
    "\n",
    "plt.legend(fontsize=12)\n",
    "\n",
    "plt.show()"
   ]
  },
  {
   "cell_type": "markdown",
   "metadata": {},
   "source": [
    "##### 7. Selecting an architecture\n",
    "\n",
    "It looks like the 32 x 32 network edges out the 16 x 16. Let's find the epoch that resulted in the lowest validation loss and use that for our final model."
   ]
  },
  {
   "cell_type": "code",
   "execution_count": 27,
   "metadata": {},
   "outputs": [
    {
     "name": "stdout",
     "output_type": "stream",
     "text": [
      "The epoch that had the lowest model 2 validation loss was 30\n"
     ]
    }
   ],
   "source": [
    "print(\"The epoch that had the lowest model 2 validation loss was\",\n",
    "     range(1,n_epochs)[np.argmin(history_dict2['val_loss'])])"
   ]
  },
  {
   "cell_type": "code",
   "execution_count": 28,
   "metadata": {
    "scrolled": true
   },
   "outputs": [
    {
     "name": "stdout",
     "output_type": "stream",
     "text": [
      "Epoch 1/30\n",
      "118/118 [==============================] - 0s 3ms/step - loss: 0.8275 - accuracy: 0.7771 - val_loss: 0.3679 - val_accuracy: 0.9003\n",
      "Epoch 2/30\n",
      "118/118 [==============================] - 0s 2ms/step - loss: 0.3151 - accuracy: 0.9106 - val_loss: 0.2940 - val_accuracy: 0.9121\n",
      "Epoch 3/30\n",
      "118/118 [==============================] - 0s 2ms/step - loss: 0.2538 - accuracy: 0.9272 - val_loss: 0.2467 - val_accuracy: 0.9313\n",
      "Epoch 4/30\n",
      "118/118 [==============================] - 0s 2ms/step - loss: 0.2196 - accuracy: 0.9379 - val_loss: 0.2196 - val_accuracy: 0.9394\n",
      "Epoch 5/30\n",
      "118/118 [==============================] - 0s 2ms/step - loss: 0.1969 - accuracy: 0.9434 - val_loss: 0.2008 - val_accuracy: 0.9423\n",
      "Epoch 6/30\n",
      "118/118 [==============================] - 0s 2ms/step - loss: 0.1794 - accuracy: 0.9480 - val_loss: 0.1962 - val_accuracy: 0.9445\n",
      "Epoch 7/30\n",
      "118/118 [==============================] - 0s 2ms/step - loss: 0.1647 - accuracy: 0.9524 - val_loss: 0.1929 - val_accuracy: 0.9408\n",
      "Epoch 8/30\n",
      "118/118 [==============================] - 0s 2ms/step - loss: 0.1530 - accuracy: 0.9558 - val_loss: 0.1715 - val_accuracy: 0.9511\n",
      "Epoch 9/30\n",
      "118/118 [==============================] - 0s 2ms/step - loss: 0.1423 - accuracy: 0.9589 - val_loss: 0.1453 - val_accuracy: 0.9582\n",
      "Epoch 10/30\n",
      "118/118 [==============================] - 0s 2ms/step - loss: 0.1339 - accuracy: 0.9617 - val_loss: 0.1448 - val_accuracy: 0.9585\n",
      "Epoch 11/30\n",
      "118/118 [==============================] - 0s 2ms/step - loss: 0.1257 - accuracy: 0.9633 - val_loss: 0.1532 - val_accuracy: 0.9543\n",
      "Epoch 12/30\n",
      "118/118 [==============================] - 0s 2ms/step - loss: 0.1196 - accuracy: 0.9651 - val_loss: 0.1120 - val_accuracy: 0.9684\n",
      "Epoch 13/30\n",
      "118/118 [==============================] - 0s 2ms/step - loss: 0.1132 - accuracy: 0.9666 - val_loss: 0.1074 - val_accuracy: 0.9686\n",
      "Epoch 14/30\n",
      "118/118 [==============================] - 0s 2ms/step - loss: 0.1075 - accuracy: 0.9682 - val_loss: 0.1140 - val_accuracy: 0.9661\n",
      "Epoch 15/30\n",
      "118/118 [==============================] - 0s 2ms/step - loss: 0.1024 - accuracy: 0.9695 - val_loss: 0.1060 - val_accuracy: 0.9676\n",
      "Epoch 16/30\n",
      "118/118 [==============================] - 0s 2ms/step - loss: 0.0983 - accuracy: 0.9710 - val_loss: 0.1118 - val_accuracy: 0.9680\n",
      "Epoch 17/30\n",
      "118/118 [==============================] - 0s 2ms/step - loss: 0.0941 - accuracy: 0.9719 - val_loss: 0.1079 - val_accuracy: 0.9655\n",
      "Epoch 18/30\n",
      "118/118 [==============================] - 0s 2ms/step - loss: 0.0901 - accuracy: 0.9729 - val_loss: 0.0844 - val_accuracy: 0.9756\n",
      "Epoch 19/30\n",
      "118/118 [==============================] - 0s 2ms/step - loss: 0.0870 - accuracy: 0.9741 - val_loss: 0.0897 - val_accuracy: 0.9747\n",
      "Epoch 20/30\n",
      "118/118 [==============================] - 0s 2ms/step - loss: 0.0833 - accuracy: 0.9753 - val_loss: 0.0920 - val_accuracy: 0.9713\n",
      "Epoch 21/30\n",
      "118/118 [==============================] - 0s 2ms/step - loss: 0.0804 - accuracy: 0.9758 - val_loss: 0.0782 - val_accuracy: 0.9759\n",
      "Epoch 22/30\n",
      "118/118 [==============================] - 0s 2ms/step - loss: 0.0771 - accuracy: 0.9769 - val_loss: 0.0815 - val_accuracy: 0.9749\n",
      "Epoch 23/30\n",
      "118/118 [==============================] - 0s 2ms/step - loss: 0.0740 - accuracy: 0.9779 - val_loss: 0.0897 - val_accuracy: 0.9729\n",
      "Epoch 24/30\n",
      "118/118 [==============================] - 0s 2ms/step - loss: 0.0722 - accuracy: 0.9785 - val_loss: 0.0875 - val_accuracy: 0.9707\n",
      "Epoch 25/30\n",
      "118/118 [==============================] - 0s 2ms/step - loss: 0.0696 - accuracy: 0.9791 - val_loss: 0.0781 - val_accuracy: 0.9765\n",
      "Epoch 26/30\n",
      "118/118 [==============================] - 0s 2ms/step - loss: 0.0673 - accuracy: 0.9794 - val_loss: 0.0964 - val_accuracy: 0.9699\n",
      "Epoch 27/30\n",
      "118/118 [==============================] - 0s 2ms/step - loss: 0.0652 - accuracy: 0.9801 - val_loss: 0.0663 - val_accuracy: 0.9794\n",
      "Epoch 28/30\n",
      "118/118 [==============================] - 0s 2ms/step - loss: 0.0632 - accuracy: 0.9806 - val_loss: 0.0771 - val_accuracy: 0.9762\n",
      "Epoch 29/30\n",
      "118/118 [==============================] - 0s 2ms/step - loss: 0.0616 - accuracy: 0.9813 - val_loss: 0.0995 - val_accuracy: 0.9666\n",
      "Epoch 30/30\n",
      "118/118 [==============================] - 0s 2ms/step - loss: 0.0590 - accuracy: 0.9825 - val_loss: 0.0658 - val_accuracy: 0.9797\n"
     ]
    }
   ],
   "source": [
    "model2 = models.Sequential()\n",
    "\n",
    "model2.add(layers.Dense(32, activation='relu', input_shape=(28*28,)))\n",
    "model2.add(layers.Dense(32, activation='relu'))\n",
    "model2.add(layers.Dense(10, activation='softmax'))\n",
    "\n",
    "model2.compile(optimizer = 'rmsprop',\n",
    "                 loss = 'categorical_crossentropy',\n",
    "                 metrics = ['accuracy'])\n",
    "\n",
    "history2 = model2.fit(X_train,\n",
    "                       to_categorical(y_train),\n",
    "                       epochs = range(1,n_epochs+1)[np.argmin(history_dict2['val_loss'])],\n",
    "                       batch_size = 512,\n",
    "                       validation_data = (X_val, to_categorical(y_val)))\n",
    "\n",
    "history_dict2 = history2.history"
   ]
  },
  {
   "cell_type": "markdown",
   "metadata": {},
   "source": [
    "#### 8. Predicting on the validation set\n",
    "\n",
    "Let's now use this model to predict on the validation set. This is quite similar to the procedure you would follow in the `sklearn` setup."
   ]
  },
  {
   "cell_type": "code",
   "execution_count": 34,
   "metadata": {},
   "outputs": [
    {
     "name": "stdout",
     "output_type": "stream",
     "text": [
      "1875/1875 [==============================] - 1s 319us/step\n"
     ]
    },
    {
     "data": {
      "text/plain": [
       "6"
      ]
     },
     "execution_count": 34,
     "metadata": {},
     "output_type": "execute_result"
    }
   ],
   "source": [
    "np.argmax(model2.predict(X_train)[18,:])"
   ]
  },
  {
   "cell_type": "code",
   "execution_count": 35,
   "metadata": {},
   "outputs": [
    {
     "data": {
      "text/plain": [
       "6"
      ]
     },
     "execution_count": 35,
     "metadata": {},
     "output_type": "execute_result"
    }
   ],
   "source": [
    "y_train[18]"
   ]
  },
  {
   "cell_type": "markdown",
   "metadata": {},
   "source": [
    "Note that this produces a set of probabilities for each observation. For our prediction of an actual observation we can just choose the one with highest probability."
   ]
  },
  {
   "cell_type": "code",
   "execution_count": 36,
   "metadata": {},
   "outputs": [
    {
     "name": "stdout",
     "output_type": "stream",
     "text": [
      "375/375 [==============================] - 0s 341us/step\n"
     ]
    },
    {
     "data": {
      "text/plain": [
       "array([9, 5, 6, ..., 3, 5, 0])"
      ]
     },
     "execution_count": 36,
     "metadata": {},
     "output_type": "execute_result"
    }
   ],
   "source": [
    "np.argmax(model2.predict(X_val), axis=1)"
   ]
  },
  {
   "cell_type": "code",
   "execution_count": 37,
   "metadata": {},
   "outputs": [],
   "source": [
    "from sklearn.metrics import accuracy_score"
   ]
  },
  {
   "cell_type": "code",
   "execution_count": 38,
   "metadata": {},
   "outputs": [
    {
     "name": "stdout",
     "output_type": "stream",
     "text": [
      "375/375 [==============================] - 0s 448us/step\n"
     ]
    },
    {
     "data": {
      "text/plain": [
       "97.97"
      ]
     },
     "execution_count": 38,
     "metadata": {},
     "output_type": "execute_result"
    }
   ],
   "source": [
    "np.round(100*accuracy_score(y_val, np.argmax(model2.predict(X_val), axis=1)),2)"
   ]
  },
  {
   "cell_type": "markdown",
   "metadata": {},
   "source": [
    "--------------------------\n",
    "\n",
    "This notebook was written for the Erd&#337;s Institute C&#337;de Data Science Boot Camp by Matthew Osborne, Ph. D., 2023.\n",
    "\n",
    "Any potential redistributors must seek and receive permission from Matthew Tyler Osborne, Ph.D. prior to redistribution. Redistribution of the material contained in this repository is conditional on acknowledgement of Matthew Tyler Osborne, Ph.D.'s original authorship and sponsorship of the Erdős Institute as subject to the license (see License.md)"
   ]
  },
  {
   "cell_type": "code",
   "execution_count": null,
   "metadata": {},
   "outputs": [],
   "source": []
  }
 ],
 "metadata": {
  "kernelspec": {
   "display_name": "Python 3 (ipykernel)",
   "language": "python",
   "name": "python3"
  },
  "language_info": {
   "codemirror_mode": {
    "name": "ipython",
    "version": 3
   },
   "file_extension": ".py",
   "mimetype": "text/x-python",
   "name": "python",
   "nbconvert_exporter": "python",
   "pygments_lexer": "ipython3",
   "version": "3.9.16"
  }
 },
 "nbformat": 4,
 "nbformat_minor": 2
}
