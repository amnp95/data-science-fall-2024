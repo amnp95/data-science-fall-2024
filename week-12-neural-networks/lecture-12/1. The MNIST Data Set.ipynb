{
 "cells": [
  {
   "cell_type": "markdown",
   "metadata": {},
   "source": [
    "# The MNIST Data Set\n",
    "\n",
    "In our neural network lectures we will be using the MNIST data set. In this short notebook we introduce the data set.\n",
    "\n",
    "## What we will accomplish\n",
    "\n",
    "In this notebook we will:\n",
    "- Formally introduce the MNIST data set,\n",
    "- Show how to load a version of the data with `sklearn` and\n",
    "- Show how to load a version of the data with `keras`"
   ]
  },
  {
   "cell_type": "code",
   "execution_count": 1,
   "metadata": {},
   "outputs": [],
   "source": [
    "## For data handling\n",
    "import pandas as pd\n",
    "import numpy as np\n",
    "\n",
    "## For plotting\n",
    "import matplotlib.pyplot as plt"
   ]
  },
  {
   "cell_type": "markdown",
   "metadata": {},
   "source": [
    "The MNIST (Modified National Institute of Standards and Technology) data set is a collection of pixelated images of handwritten digits (the counting numbers from $0$-$9$). Each image is broken into a grid of pixels of grayscale values which measure the intensity of the handwriting within that pixel. Each pixel's value ranges from $0$ (no marking) to $255$ (darkest marking). More background information on the data set can be found at it's Wikipedia page <a href=\"https://en.wikipedia.org/wiki/MNIST_database\">https://en.wikipedia.org/wiki/MNIST_database</a>.\n",
    "\n",
    "The original data set contained $60{,}000$ training images and $10{,}000$ test images. Over the course of these neural network lectures we will work with two variations of this data set."
   ]
  },
  {
   "cell_type": "markdown",
   "metadata": {},
   "source": [
    "## `sklearn` version\n",
    "\n",
    "The `sklearn` version of this data set is a small sample of the original data with lower resolution images. It can loaded with the `load_digits` function from the `datasets` module. <a href=\"https://scikit-learn.org/stable/modules/generated/sklearn.datasets.load_digits.html\">https://scikit-learn.org/stable/modules/generated/sklearn.datasets.load_digits.html</a>. The data was made smaller in various ways to compress the storage size and speed up data loading and algorithm fitting."
   ]
  },
  {
   "cell_type": "code",
   "execution_count": 2,
   "metadata": {},
   "outputs": [],
   "source": [
    "from sklearn.datasets import load_digits"
   ]
  },
  {
   "cell_type": "code",
   "execution_count": 3,
   "metadata": {},
   "outputs": [],
   "source": [
    "X,y = load_digits(return_X_y=True)"
   ]
  },
  {
   "cell_type": "code",
   "execution_count": 4,
   "metadata": {},
   "outputs": [
    {
     "data": {
      "text/plain": [
       "1797"
      ]
     },
     "execution_count": 4,
     "metadata": {},
     "output_type": "execute_result"
    }
   ],
   "source": [
    "## contains this many images\n",
    "len(X)"
   ]
  },
  {
   "cell_type": "code",
   "execution_count": 5,
   "metadata": {},
   "outputs": [
    {
     "data": {
      "text/plain": [
       "array([ 0.,  0.,  5., 13.,  9.,  1.,  0.,  0.,  0.,  0., 13., 15., 10.,\n",
       "       15.,  5.,  0.,  0.,  3., 15.,  2.,  0., 11.,  8.,  0.,  0.,  4.,\n",
       "       12.,  0.,  0.,  8.,  8.,  0.,  0.,  5.,  8.,  0.,  0.,  9.,  8.,\n",
       "        0.,  0.,  4., 11.,  0.,  1., 12.,  7.,  0.,  0.,  2., 14.,  5.,\n",
       "       10., 12.,  0.,  0.,  0.,  0.,  6., 13., 10.,  0.,  0.,  0.])"
      ]
     },
     "execution_count": 5,
     "metadata": {},
     "output_type": "execute_result"
    }
   ],
   "source": [
    "X[0,:]"
   ]
  },
  {
   "cell_type": "code",
   "execution_count": 6,
   "metadata": {},
   "outputs": [
    {
     "data": {
      "text/plain": [
       "0"
      ]
     },
     "execution_count": 6,
     "metadata": {},
     "output_type": "execute_result"
    }
   ],
   "source": [
    "y[0]"
   ]
  },
  {
   "cell_type": "code",
   "execution_count": 7,
   "metadata": {},
   "outputs": [
    {
     "data": {
      "text/plain": [
       "64"
      ]
     },
     "execution_count": 7,
     "metadata": {},
     "output_type": "execute_result"
    }
   ],
   "source": [
    "## with this many pixels\n",
    "len(X[0,:])"
   ]
  },
  {
   "cell_type": "markdown",
   "metadata": {},
   "source": [
    "This version of the data contains $1{,}797$ $8\\times 8$ images."
   ]
  },
  {
   "cell_type": "code",
   "execution_count": 8,
   "metadata": {},
   "outputs": [
    {
     "data": {
      "image/png": "[encoded data removed]",
      "text/plain": [
       "<Figure size 600x1000 with 6 Axes>"
      ]
     },
     "metadata": {},
     "output_type": "display_data"
    }
   ],
   "source": [
    "fig,ax = plt.subplots(3,2,figsize=(6, 10))\n",
    "\n",
    "for i in range(6):\n",
    "    ax[i//2,i%2].imshow(X[i,:].reshape(8, 8), cmap='gray_r')\n",
    "    ax[i//2,i%2].text(.1,.3,str(y[i]),fontsize=16)\n",
    "    ax[i//2,i%2].set_xticks([])\n",
    "    ax[i//2,i%2].set_yticks([])\n",
    "    \n",
    "plt.show()"
   ]
  },
  {
   "cell_type": "markdown",
   "metadata": {},
   "source": [
    "As we can see, this is not a high quality version of the data, but it works well enough for demonstrating and testing machine learning algorithms."
   ]
  },
  {
   "cell_type": "markdown",
   "metadata": {},
   "source": [
    "## `keras` version\n",
    "\n",
    "The other version of this data set that we will use can be found in the `keras` package, <a href=\"https://keras.io/\">https://keras.io/</a>. This is a python package built for making neural network models that we will learn more about in a coming notebook. You may not have this package installed on your computer yet, but do not worry about that now. We will help you get that installed when the time comes.\n",
    "\n",
    "In `keras` the MNIST data can be loaded with `mnist` in the `datasets` module, <a href=\"https://keras.io/api/datasets/mnist/\">https://keras.io/api/datasets/mnist/</a>."
   ]
  },
  {
   "cell_type": "code",
   "execution_count": 9,
   "metadata": {},
   "outputs": [],
   "source": [
    "## This imports datasets stored in keras\n",
    "## This takes a while to import when it is your first time importing it\n",
    "from keras.datasets import mnist"
   ]
  },
  {
   "cell_type": "code",
   "execution_count": 10,
   "metadata": {},
   "outputs": [],
   "source": [
    "## Here we load the data\n",
    "(X_train, y_train),(X_test, y_test) = mnist.load_data()"
   ]
  },
  {
   "cell_type": "code",
   "execution_count": 11,
   "metadata": {},
   "outputs": [
    {
     "data": {
      "text/plain": [
       "(60000, 28, 28)"
      ]
     },
     "execution_count": 11,
     "metadata": {},
     "output_type": "execute_result"
    }
   ],
   "source": [
    "## number of training observations\n",
    "X_train.shape"
   ]
  },
  {
   "cell_type": "code",
   "execution_count": 12,
   "metadata": {},
   "outputs": [
    {
     "data": {
      "text/plain": [
       "(10000, 28, 28)"
      ]
     },
     "execution_count": 12,
     "metadata": {},
     "output_type": "execute_result"
    }
   ],
   "source": [
    "## number of test observations\n",
    "X_test.shape"
   ]
  },
  {
   "cell_type": "markdown",
   "metadata": {},
   "source": [
    "As we can see above, this version of the data is the original version. Specifically, we have $60{,}000$ training observations and $10{,}000$ test observations of a $28\\times 28$ pixel image. Let's examine the difference in image quality now."
   ]
  },
  {
   "cell_type": "code",
   "execution_count": 13,
   "metadata": {},
   "outputs": [
    {
     "data": {
      "image/png": "[encoded data removed]",
      "text/plain": [
       "<Figure size 600x1000 with 6 Axes>"
      ]
     },
     "metadata": {},
     "output_type": "display_data"
    }
   ],
   "source": [
    "fig,ax = plt.subplots(3,2,figsize=(6, 10))\n",
    "\n",
    "for i in range(6):\n",
    "    ax[i//2,i%2].imshow(X_train[i,:,:], cmap='gray_r')\n",
    "    ax[i//2,i%2].text(2,4,str(y_train[i]),fontsize=16)\n",
    "    ax[i//2,i%2].set_xticks([])\n",
    "    ax[i//2,i%2].set_yticks([])\n",
    "    \n",
    "plt.show()"
   ]
  },
  {
   "cell_type": "markdown",
   "metadata": {},
   "source": [
    "When we learn how to build these models in `sklearn` we will use the `sklearn` version of the data, when we learn how to build the model in `keras` we will use the `keras` version. This is for ease of use."
   ]
  },
  {
   "cell_type": "markdown",
   "metadata": {},
   "source": [
    "--------------------------\n",
    "\n",
    "This notebook was written for the Erd&#337;s Institute C&#337;de Data Science Boot Camp by Matthew Osborne, Ph. D., 2023.\n",
    "\n",
    "Any potential redistributors must seek and receive permission from Matthew Tyler Osborne, Ph.D. prior to redistribution. Redistribution of the material contained in this repository is conditional on acknowledgement of Matthew Tyler Osborne, Ph.D.'s original authorship and sponsorship of the Erdős Institute as subject to the license (see License.md)"
   ]
  },
  {
   "cell_type": "code",
   "execution_count": null,
   "metadata": {},
   "outputs": [],
   "source": []
  }
 ],
 "metadata": {
  "kernelspec": {
   "display_name": "Python 3 (ipykernel)",
   "language": "python",
   "name": "python3"
  },
  "language_info": {
   "codemirror_mode": {
    "name": "ipython",
    "version": 3
   },
   "file_extension": ".py",
   "mimetype": "text/x-python",
   "name": "python",
   "nbconvert_exporter": "python",
   "pygments_lexer": "ipython3",
   "version": "3.9.16"
  }
 },
 "nbformat": 4,
 "nbformat_minor": 2
}
