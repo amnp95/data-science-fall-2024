{
 "cells": [
  {
   "cell_type": "markdown",
   "id": "684873b6",
   "metadata": {},
   "source": [
    "# Prep Notebook 11\n",
    "## A Pumpkin Seeds Neural Network\n",
    "\n",
    "\n",
    "This optional notebook has a few exercises that can serve as a primer for what to expect in the `Problem Session 11` notebook."
   ]
  },
  {
   "cell_type": "markdown",
   "id": "bf52d3a3",
   "metadata": {},
   "source": [
    "#### 1. Check `keras` installation\n",
    "\n",
    "##### a.\n",
    "\n",
    "Check that you have `keras` installed.\n",
    "\n",
    "If you do not have `keras` installed, you can try:\n",
    "- Running `pip install keras` in your command prompt/terminal,\n",
    "- Running `conda install keras` in your command prompt/terminal,\n",
    "- Following the directions on the Erd&#337;s Institute website for installing with Anaconda Navigator, or\n",
    "- Following the installation directions at <a href=\"https://keras.io/getting_started/\">https://keras.io/getting_started/</a>.\n",
    "\n",
    "Note that individuals using an Apple computer with M1 or M2 chips may need to set up a new conda environment with `keras` as an initial install."
   ]
  },
  {
   "cell_type": "code",
   "execution_count": null,
   "id": "14d4011d",
   "metadata": {},
   "outputs": [],
   "source": [
    "## Run this\n",
    "import keras\n",
    "\n",
    "## If that doesn't work try this\n",
    "# from tensorflow import keras"
   ]
  },
  {
   "cell_type": "markdown",
   "id": "87a16a07",
   "metadata": {},
   "source": [
    "##### b.\n",
    "\n",
    "Once you know that you have `keras` installed, check what version you have."
   ]
  },
  {
   "cell_type": "code",
   "execution_count": null,
   "id": "f3147a67",
   "metadata": {},
   "outputs": [],
   "source": [
    "## run this\n",
    "print(keras.__version__)"
   ]
  },
  {
   "cell_type": "markdown",
   "id": "0c460fbe",
   "metadata": {},
   "source": [
    "--------------------------\n",
    "\n",
    "This notebook was written for the Erd&#337;s Institute C&#337;de Data Science Boot Camp by Matthew Osborne, Ph. D., 2023.\n",
    "\n",
    "Any potential redistributors must seek and receive permission from Matthew Tyler Osborne, Ph.D. prior to redistribution. Redistribution of the material contained in this repository is conditional on acknowledgement of Matthew Tyler Osborne, Ph.D.'s original authorship and sponsorship of the Erdős Institute as subject to the license (see License.md)"
   ]
  },
  {
   "cell_type": "code",
   "execution_count": null,
   "id": "8ee906a7",
   "metadata": {},
   "outputs": [],
   "source": []
  }
 ],
 "metadata": {
  "kernelspec": {
   "display_name": "Python 3 (ipykernel)",
   "language": "python",
   "name": "python3"
  },
  "language_info": {
   "codemirror_mode": {
    "name": "ipython",
    "version": 3
   },
   "file_extension": ".py",
   "mimetype": "text/x-python",
   "name": "python",
   "nbconvert_exporter": "python",
   "pygments_lexer": "ipython3",
   "version": "3.9.16"
  }
 },
 "nbformat": 4,
 "nbformat_minor": 5
}
