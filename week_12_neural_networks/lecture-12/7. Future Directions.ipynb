{
 "cells": [
  {
   "cell_type": "markdown",
   "metadata": {},
   "source": [
    "# Future Directions\n",
    "\n",
    "Before wrapping up neural networks we will touch on some future directions for those of you looking to learn more about neural networks.\n",
    "\n",
    "## What we will accomplish\n",
    "\n",
    "In this notebook we will:\n",
    "- Summarize what we have learned\n",
    "- Demonstrate what more there is to learn\n",
    "- Provide some nice resources for you to learn more"
   ]
  },
  {
   "cell_type": "markdown",
   "metadata": {},
   "source": [
    "## What have we learned\n",
    "\n",
    "To this point we have covered:\n",
    "- Perceptrons,\n",
    "- Feed forward networks,\n",
    "- Basic convolutional neural networks and\n",
    "- Basic recurrent neural networks.\n",
    "\n",
    "## What is left to learn\n",
    "\n",
    "As you may already know, this is barely scratches the surface of the field of neural networks. For example, we have not touched on:\n",
    "\n",
    "### Theoretically\n",
    "\n",
    "- Autoencoders,\n",
    "- Transformers,\n",
    "- Generative adversarial networks,\n",
    "- Transfer learning\n",
    "- And more.\n",
    "\n",
    "### Practically\n",
    "\n",
    "- More `keras`,\n",
    "- `tensorflow`,\n",
    "- `PyTorch`,\n",
    "- Using GPUs instead of CPUs and\n",
    "- Implementing neural networks on a server or cloud computing environment.\n",
    "\n",
    "## Some good places to keep learning\n",
    "\n",
    "If you are interested in learning more here are some nice resources.\n",
    "\n",
    "### Theoretical\n",
    "\n",
    "I really like this book, if you could not tell from previous notebooks:\n",
    "- <a href=\"https://link.springer.com/book/10.1007/978-3-319-94463-0\">Neural Networks and Deep Learning</a>\n",
    "\n",
    "You could also look for the journal articles and conference proceedings that first introduce these techniques/models.\n",
    "\n",
    "### Applied\n",
    "\n",
    "#### Books\n",
    "\n",
    "This book has been good for learning how to implement these things in `keras`:\n",
    "- <a href=\"https://github.com/letspython3x/Books/blob/master/Deep%20Learning%20with%20Python.pdf\">Deep Learning with Python</a>\n",
    "\n",
    "This is a good general purpose python machine learning book that discusses `keras` and `tensorflow`:\n",
    "- <a href=\"https://www.knowledgeisle.com/wp-content/uploads/2019/12/2-Aur%C3%A9lien-G%C3%A9ron-Hands-On-Machine-Learning-with-Scikit-Learn-Keras-and-Tensorflow_-Concepts-Tools-and-Techniques-to-Build-Intelligent-Systems-O%E2%80%99Reilly-Media-2019.pdf\">Hands-On Machine Learning with Scikit-Learn, Keras and Tensorflow</a>\n",
    "\n",
    "This book discusses `PyTorch`\n",
    "- <a href=\"https://isip.piconepress.com/courses/temple/ece_4822/resources/books/Deep-Learning-with-PyTorch.pdf\">Deep Learning with PyTorch</a>\n",
    "\n",
    "#### Documentation\n",
    "\n",
    "- The `keras` documentation, <a href=\"https://keras.io/\">https://keras.io/</a>\n",
    "- The `tensorflow` documentation, <a href=\"https://www.tensorflow.org/api_docs\">https://www.tensorflow.org/api_docs</a>\n",
    "- The `PyTorch` documentation, <a href=\"https://pytorch.org/\">https://pytorch.org/</a>."
   ]
  },
  {
   "cell_type": "markdown",
   "metadata": {},
   "source": [
    "--------------------------\n",
    "\n",
    "This repository was written for the 2021 Erdős Institute Fall Data Science Semester by Matthew Osborne, Ph. D., 2023.\n",
    "\n",
    "Any potential redistributors must seek and receive permission from Matthew Tyler Osborne, Ph.D. prior to redistribution. Redistribution of the material contained in this repository is conditional on acknowledgement of Matthew Tyler Osborne, Ph.D.'s original authorship and sponsorship of the Erdős Institute. (see License.md)"
   ]
  },
  {
   "cell_type": "code",
   "execution_count": null,
   "metadata": {},
   "outputs": [],
   "source": []
  }
 ],
 "metadata": {
  "kernelspec": {
   "display_name": "Python 3 (ipykernel)",
   "language": "python",
   "name": "python3"
  },
  "language_info": {
   "codemirror_mode": {
    "name": "ipython",
    "version": 3
   },
   "file_extension": ".py",
   "mimetype": "text/x-python",
   "name": "python",
   "nbconvert_exporter": "python",
   "pygments_lexer": "ipython3",
   "version": "3.9.16"
  }
 },
 "nbformat": 4,
 "nbformat_minor": 2
}
