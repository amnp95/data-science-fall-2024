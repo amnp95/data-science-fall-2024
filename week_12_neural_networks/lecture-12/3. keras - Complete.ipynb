{
 "cells": [
  {
   "cell_type": "markdown",
   "metadata": {},
   "source": [
    "# `keras`\n",
    "\n",
    "Let's now introduce a python package called `keras` which will provide us with greater versatility in building neural networks than `sklearn`.\n",
    "\n",
    "## What we will accomplish\n",
    "\n",
    "In this notebook we will\n",
    "- Introduce `keras`:\n",
    "    - Discuss how to install it,\n",
    "- Review its syntax and\n",
    "- Demonstrate how to build feed forward networks in `keras`."
   ]
  },
  {
   "cell_type": "code",
   "execution_count": 1,
   "metadata": {},
   "outputs": [],
   "source": [
    "## For data handling\n",
    "import pandas as pd\n",
    "import numpy as np\n",
    "\n",
    "## For plotting\n",
    "import matplotlib.pyplot as plt\n",
    "import seaborn as sns\n",
    "\n",
    "sns.set_style(\"darkgrid\")"
   ]
  },
  {
   "cell_type": "markdown",
   "metadata": {},
   "source": [
    "Moving forward we will be building our neural networks with `keras`.\n",
    "\n",
    "From their documentation:\n",
    "\n",
    "<blockquote>\n",
    "Keras is a deep learning API written in Python, running on top of the machine learning platform TensorFlow. It was developed with a focus on enabling fast experimentation. Being able to go from idea to result as fast as possible is key to doing good research.\n",
    "</blockquote>\n",
    "\n",
    "In this notebook we will lay out how to build feed forward multi-layer networks.\n",
    "\n",
    "For reference, this material is being built by looking at the `keras` documentation <a href=\"https://keras.io/about/\">https://keras.io/about/</a> and the book, <a href=\"https://github.com/letspython3x/Books/blob/master/Deep%20Learning%20with%20Python.pdf\">Deep Learning with Python</a>. In particular this notebook's content comes from chapters 3 and 4 of that text.\n",
    "\n",
    "## Installation\n",
    "\n",
    "You may not have `keras` installed on your computer at this point. Try and run the following code chunk."
   ]
  },
  {
   "cell_type": "code",
   "execution_count": 2,
   "metadata": {},
   "outputs": [
    {
     "name": "stdout",
     "output_type": "stream",
     "text": [
      "2.12.0\n"
     ]
    }
   ],
   "source": [
    "import keras\n",
    "\n",
    "# if the above did not work \n",
    "# uncomment and then try the below\n",
    "# from tensorflow import keras\n",
    "\n",
    "print(keras.__version__)"
   ]
  },
  {
   "cell_type": "markdown",
   "metadata": {},
   "source": [
    "If this ran for you, then you already have `keras` installed. For reference, the version of `keras` that I was running while writing this notebook was `2.11.0`.\n",
    "\n",
    "If you received an error while running that code chunk you likely need to install `keras` to move forward.\n",
    "\n",
    "##### Using `pip`\n",
    "\n",
    "If you use `pip` to install packages try running:\n",
    "\n",
    "`pip install keras`\n",
    "\n",
    "in your command line or terminal to install `keras`.\n",
    "\n",
    "##### Using `conda`\n",
    "\n",
    "If you use `conda` try what is recommended at this link, <a href=\"https://anaconda.org/conda-forge/keras\">https://anaconda.org/conda-forge/keras</a>.\n",
    "\n",
    "##### Apple M1 chip computers\n",
    "\n",
    "If you have an Apple computer with an M1 chip you may need extra help. Earlier in 2022 the `keras` package installation instructions did not yet play nicely with such hardware. Try performing a web search for relevant instructions.\n",
    "\n",
    "If you are unsure if you have an M1 chip, check with these instructions <a href=\"https://www.howtogeek.com/706226/how-to-check-if-your-mac-is-using-an-intel-or-apple-silicon-processor/\">https://www.howtogeek.com/706226/how-to-check-if-your-mac-is-using-an-intel-or-apple-silicon-processor/</a>."
   ]
  },
  {
   "cell_type": "markdown",
   "metadata": {},
   "source": [
    "## Building a neural net with `keras`\n",
    "\n",
    "### Classifying MNIST\n",
    "\n",
    "We will mimic our `sklearn` networks from the last notebook and build an MNIST classifier, using the `keras` version of the data."
   ]
  },
  {
   "cell_type": "code",
   "execution_count": 3,
   "metadata": {},
   "outputs": [],
   "source": [
    "## This imports datasets stored in keras\n",
    "from keras.datasets import mnist"
   ]
  },
  {
   "cell_type": "code",
   "execution_count": 4,
   "metadata": {},
   "outputs": [
    {
     "name": "stdout",
     "output_type": "stream",
     "text": [
      "og shape of X_train (60000, 28, 28)\n"
     ]
    }
   ],
   "source": [
    "## Here we load the data\n",
    "(X_train, y_train),(X_test, y_test) = mnist.load_data()\n",
    "\n",
    "print(\"og shape of X_train\", np.shape(X_train))"
   ]
  },
  {
   "cell_type": "markdown",
   "metadata": {},
   "source": [
    "##### Reshape the data to be a single column\n",
    "\n",
    "We will now reshape the data so that it has $60{,}000$ observations ($10{,}000$ for the test set) of $28\\times28$ pixels. This will give us a $60000 \\times 784$ $2$-D `numpy` array ($10000 \\times 784$ for the test set)."
   ]
  },
  {
   "cell_type": "code",
   "execution_count": 5,
   "metadata": {},
   "outputs": [
    {
     "name": "stdout",
     "output_type": "stream",
     "text": [
      "The new shape of X_train is (60000, 784)\n",
      "The new shape of X_test is (10000, 784)\n"
     ]
    }
   ],
   "source": [
    "X_train = X_train.reshape(-1,28*28)\n",
    "X_test = X_test.reshape(-1,28*28)\n",
    "\n",
    "print(\"The new shape of X_train is\", np.shape(X_train))\n",
    "print(\"The new shape of X_test is\", np.shape(X_test))\n",
    "\n",
    "X_train = X_train/255\n",
    "X_test = X_test/255"
   ]
  },
  {
   "cell_type": "markdown",
   "metadata": {},
   "source": [
    "### Building the networks\n",
    "\n",
    "We start by importing all of the necessary pieces. We will explain each piece as we need it."
   ]
  },
  {
   "cell_type": "code",
   "execution_count": 6,
   "metadata": {},
   "outputs": [],
   "source": [
    "## import things\n",
    "from keras import models\n",
    "from keras import layers\n",
    "from keras import optimizers\n",
    "from keras import losses\n",
    "from keras import metrics\n",
    "from keras.utils.np_utils import to_categorical\n",
    "\n",
    "# for earlier versions of keras run this instead\n",
    "# from keras.utils import to_categorical\n",
    "# instead of running\n",
    "# from keras.utils.np_utils import to_categorical\n",
    "# or look up the documentation for your version\n"
   ]
  },
  {
   "cell_type": "markdown",
   "metadata": {},
   "source": [
    "What we learned as feed forward networks in the last notebook are also called <i>dense</i> networks because they are fully connected graphs.\n",
    "\n",
    "We will now walk through the process of making a dense neural networks using `keras`.\n",
    "\n",
    "##### 1. Make an empty `model`"
   ]
  },
  {
   "cell_type": "code",
   "execution_count": 7,
   "metadata": {},
   "outputs": [],
   "source": [
    "## we first make an empty model\n",
    "## Sequential means we'll make a group\n",
    "## of a linear stack of layers\n",
    "model = models.Sequential()"
   ]
  },
  {
   "cell_type": "markdown",
   "metadata": {},
   "source": [
    "##### 2. Add the layers to the `model`\n",
    "\n",
    "We will build the following neural network architecture in this step.\n",
    "\n",
    "<img src=\"lecture-12-assets/mnist_net.png\" width=\"70%\"></img>"
   ]
  },
  {
   "cell_type": "code",
   "execution_count": 8,
   "metadata": {},
   "outputs": [],
   "source": [
    "###### ONLY RUN THIS ONCE! ##########\n",
    "\n",
    "## you add a layer with .add()\n",
    "## A Dense layer means a fully connected feedforward layer\n",
    "## the 16 means the layer is 16 nodes tall\n",
    "## activation='relu' means the layer uses a relu activation function\n",
    "## the first layer needs to be told the shape of the input data\n",
    "model.add(layers.Dense(16, activation = 'relu', input_shape=(28*28,)))\n",
    "\n",
    "# we then add a second layer that is 16 nodes tall\n",
    "# and uses the relu activation function\n",
    "# note we don't need the input shape here, \n",
    "# it is inferred from the first layer's output\n",
    "model.add(layers.Dense(16, activation = 'relu'))\n",
    "\n",
    "\n",
    "# finally we add the output layer\n",
    "# this will have a single node, representing a probability\n",
    "# that the observation has positive sentiment\n",
    "# this is why the activation is a softmax\n",
    "# for more information on the softmax see the Practice Problems\n",
    "model.add(layers.Dense(10, activation = 'softmax'))"
   ]
  },
  {
   "cell_type": "code",
   "execution_count": 9,
   "metadata": {},
   "outputs": [
    {
     "name": "stdout",
     "output_type": "stream",
     "text": [
      "Model: \"sequential\"\n",
      "_________________________________________________________________\n",
      " Layer (type)                Output Shape              Param #   \n",
      "=================================================================\n",
      " dense (Dense)               (None, 16)                12560     \n",
      "                                                                 \n",
      " dense_1 (Dense)             (None, 16)                272       \n",
      "                                                                 \n",
      " dense_2 (Dense)             (None, 10)                170       \n",
      "                                                                 \n",
      "=================================================================\n",
      "Total params: 13,002\n",
      "Trainable params: 13,002\n",
      "Non-trainable params: 0\n",
      "_________________________________________________________________\n"
     ]
    }
   ],
   "source": [
    "model.summary()"
   ]
  },
  {
   "cell_type": "markdown",
   "metadata": {},
   "source": [
    "##### 3. Compile the model with an optimizer,  loss and metric\n",
    "\n",
    "The optimizer we use is `rmsprop`, this is an algorithm implemented by `keras` to perform the backpropagation step in fitting the neural network.\n",
    "\n",
    "The loss we use is `categorical_crossentropy` which stems from information theory, this is the \"cost function\" we discussed in notebook 3. This is a common and popular choice for classification problems. See the HW notebook for an explanation of crossentropy.\n",
    "\n",
    "The metric we use is simply `accuracy`.\n",
    "\n",
    "Note that there are more options for all three of these choices and if you are interested in seeing more check out the `keras` documentation, it has an excellent search bar. There is also the possibility to use your own custom inputs as well."
   ]
  },
  {
   "cell_type": "code",
   "execution_count": 10,
   "metadata": {},
   "outputs": [],
   "source": [
    "## we compile the network like so\n",
    "## call .compile\n",
    "## set our optimizer, optimizer='rmsprop'\n",
    "## set our loss, loss='categorical_crossentropy'\n",
    "## set our desired metrics, metrics=['accuracy']\n",
    "model.compile(optimizer='rmsprop', \n",
    "                 loss='categorical_crossentropy',\n",
    "                 metrics=['accuracy'])"
   ]
  },
  {
   "cell_type": "markdown",
   "metadata": {},
   "source": [
    "##### 4. Fit the model on the training data\n",
    "\n",
    "We fit our model on the training data, we'll look at $100$ epochs that use batch gradient descent with a batch size of `512` observations per batch.\n",
    "\n",
    "We first create a validation set, this will be additional input for the model."
   ]
  },
  {
   "cell_type": "code",
   "execution_count": 11,
   "metadata": {},
   "outputs": [],
   "source": [
    "## First make the validation set\n",
    "from sklearn.model_selection import train_test_split\n",
    "\n",
    "X_train_train,X_val,y_train_train,y_val = train_test_split(X_train, y_train,\n",
    "                                                          test_size=.2,\n",
    "                                                          shuffle=True,\n",
    "                                                          stratify=y_train,\n",
    "                                                          random_state=440)"
   ]
  },
  {
   "cell_type": "markdown",
   "metadata": {},
   "source": [
    "##### `to_categorical`\n",
    "\n",
    "In order for the desired output of our model to play nicely with the training and validation data we have to first turn each observation into a categorical output with the `keras` function `to_categorical`. Let's see what this does."
   ]
  },
  {
   "cell_type": "code",
   "execution_count": 12,
   "metadata": {},
   "outputs": [
    {
     "name": "stdout",
     "output_type": "stream",
     "text": [
      "[0 7 2 ... 4 8 5]\n",
      "\n",
      "\n",
      "\n",
      "\n",
      "[[1. 0. 0. ... 0. 0. 0.]\n",
      " [0. 0. 0. ... 1. 0. 0.]\n",
      " [0. 0. 1. ... 0. 0. 0.]\n",
      " ...\n",
      " [0. 0. 0. ... 0. 0. 0.]\n",
      " [0. 0. 0. ... 0. 1. 0.]\n",
      " [0. 0. 0. ... 0. 0. 0.]]\n"
     ]
    }
   ],
   "source": [
    "print(y_train_train)\n",
    "\n",
    "print(\"\\n\\n\\n\")\n",
    "\n",
    "print(to_categorical(y_train_train))"
   ]
  },
  {
   "cell_type": "code",
   "execution_count": 13,
   "metadata": {},
   "outputs": [
    {
     "name": "stdout",
     "output_type": "stream",
     "text": [
      "Epoch 1/100\n"
     ]
    },
    {
     "name": "stderr",
     "output_type": "stream",
     "text": [
      "2024-01-09 14:31:15.274596: W tensorflow/tsl/platform/profile_utils/cpu_utils.cc:128] Failed to get CPU frequency: 0 Hz\n"
     ]
    },
    {
     "name": "stdout",
     "output_type": "stream",
     "text": [
      "94/94 [==============================] - 0s 2ms/step - loss: 1.2112 - accuracy: 0.6456 - val_loss: 0.6048 - val_accuracy: 0.8441\n",
      "Epoch 2/100\n",
      "94/94 [==============================] - 0s 921us/step - loss: 0.4649 - accuracy: 0.8752 - val_loss: 0.3838 - val_accuracy: 0.8953\n",
      "Epoch 3/100\n",
      "94/94 [==============================] - 0s 926us/step - loss: 0.3489 - accuracy: 0.9015 - val_loss: 0.3270 - val_accuracy: 0.9103\n",
      "Epoch 4/100\n",
      "94/94 [==============================] - 0s 945us/step - loss: 0.3028 - accuracy: 0.9143 - val_loss: 0.3006 - val_accuracy: 0.9179\n",
      "Epoch 5/100\n",
      "94/94 [==============================] - 0s 920us/step - loss: 0.2764 - accuracy: 0.9206 - val_loss: 0.2789 - val_accuracy: 0.9229\n",
      "Epoch 6/100\n",
      "94/94 [==============================] - 0s 935us/step - loss: 0.2573 - accuracy: 0.9265 - val_loss: 0.2659 - val_accuracy: 0.9273\n",
      "Epoch 7/100\n",
      "94/94 [==============================] - 0s 919us/step - loss: 0.2425 - accuracy: 0.9310 - val_loss: 0.2546 - val_accuracy: 0.9287\n",
      "Epoch 8/100\n",
      "94/94 [==============================] - 0s 1ms/step - loss: 0.2288 - accuracy: 0.9343 - val_loss: 0.2478 - val_accuracy: 0.9291\n",
      "Epoch 9/100\n",
      "94/94 [==============================] - 0s 1ms/step - loss: 0.2184 - accuracy: 0.9369 - val_loss: 0.2423 - val_accuracy: 0.9309\n",
      "Epoch 10/100\n",
      "94/94 [==============================] - 0s 1ms/step - loss: 0.2096 - accuracy: 0.9393 - val_loss: 0.2291 - val_accuracy: 0.9359\n",
      "Epoch 11/100\n",
      "94/94 [==============================] - 0s 1ms/step - loss: 0.2014 - accuracy: 0.9424 - val_loss: 0.2258 - val_accuracy: 0.9359\n",
      "Epoch 12/100\n",
      "94/94 [==============================] - 0s 1ms/step - loss: 0.1937 - accuracy: 0.9440 - val_loss: 0.2182 - val_accuracy: 0.9398\n",
      "Epoch 13/100\n",
      "94/94 [==============================] - 0s 1ms/step - loss: 0.1882 - accuracy: 0.9458 - val_loss: 0.2186 - val_accuracy: 0.9379\n",
      "Epoch 14/100\n",
      "94/94 [==============================] - 0s 937us/step - loss: 0.1819 - accuracy: 0.9468 - val_loss: 0.2104 - val_accuracy: 0.9410\n",
      "Epoch 15/100\n",
      "94/94 [==============================] - 0s 932us/step - loss: 0.1774 - accuracy: 0.9481 - val_loss: 0.2070 - val_accuracy: 0.9421\n",
      "Epoch 16/100\n",
      "94/94 [==============================] - 0s 953us/step - loss: 0.1720 - accuracy: 0.9502 - val_loss: 0.2052 - val_accuracy: 0.9430\n",
      "Epoch 17/100\n",
      "94/94 [==============================] - 0s 940us/step - loss: 0.1678 - accuracy: 0.9509 - val_loss: 0.2051 - val_accuracy: 0.9417\n",
      "Epoch 18/100\n",
      "94/94 [==============================] - 0s 1ms/step - loss: 0.1641 - accuracy: 0.9528 - val_loss: 0.2044 - val_accuracy: 0.9423\n",
      "Epoch 19/100\n",
      "94/94 [==============================] - 0s 1ms/step - loss: 0.1605 - accuracy: 0.9537 - val_loss: 0.1976 - val_accuracy: 0.9448\n",
      "Epoch 20/100\n",
      "94/94 [==============================] - 0s 1ms/step - loss: 0.1570 - accuracy: 0.9549 - val_loss: 0.2020 - val_accuracy: 0.9414\n",
      "Epoch 21/100\n",
      "94/94 [==============================] - 0s 1ms/step - loss: 0.1543 - accuracy: 0.9551 - val_loss: 0.1936 - val_accuracy: 0.9446\n",
      "Epoch 22/100\n",
      "94/94 [==============================] - 0s 1ms/step - loss: 0.1521 - accuracy: 0.9561 - val_loss: 0.1933 - val_accuracy: 0.9462\n",
      "Epoch 23/100\n",
      "94/94 [==============================] - 0s 951us/step - loss: 0.1493 - accuracy: 0.9563 - val_loss: 0.1917 - val_accuracy: 0.9464\n",
      "Epoch 24/100\n",
      "94/94 [==============================] - 0s 941us/step - loss: 0.1468 - accuracy: 0.9575 - val_loss: 0.1923 - val_accuracy: 0.9446\n",
      "Epoch 25/100\n",
      "94/94 [==============================] - 0s 939us/step - loss: 0.1442 - accuracy: 0.9581 - val_loss: 0.1875 - val_accuracy: 0.9471\n",
      "Epoch 26/100\n",
      "94/94 [==============================] - 0s 932us/step - loss: 0.1421 - accuracy: 0.9592 - val_loss: 0.1881 - val_accuracy: 0.9463\n",
      "Epoch 27/100\n",
      "94/94 [==============================] - 0s 938us/step - loss: 0.1403 - accuracy: 0.9590 - val_loss: 0.1843 - val_accuracy: 0.9488\n",
      "Epoch 28/100\n",
      "94/94 [==============================] - 0s 949us/step - loss: 0.1379 - accuracy: 0.9597 - val_loss: 0.1912 - val_accuracy: 0.9462\n",
      "Epoch 29/100\n",
      "94/94 [==============================] - 0s 959us/step - loss: 0.1366 - accuracy: 0.9598 - val_loss: 0.1845 - val_accuracy: 0.9489\n",
      "Epoch 30/100\n",
      "94/94 [==============================] - 0s 962us/step - loss: 0.1343 - accuracy: 0.9607 - val_loss: 0.1817 - val_accuracy: 0.9498\n",
      "Epoch 31/100\n",
      "94/94 [==============================] - 0s 943us/step - loss: 0.1324 - accuracy: 0.9619 - val_loss: 0.1824 - val_accuracy: 0.9493\n",
      "Epoch 32/100\n",
      "94/94 [==============================] - 0s 959us/step - loss: 0.1314 - accuracy: 0.9618 - val_loss: 0.1852 - val_accuracy: 0.9478\n",
      "Epoch 33/100\n",
      "94/94 [==============================] - 0s 937us/step - loss: 0.1300 - accuracy: 0.9621 - val_loss: 0.1845 - val_accuracy: 0.9487\n",
      "Epoch 34/100\n",
      "94/94 [==============================] - 0s 946us/step - loss: 0.1283 - accuracy: 0.9624 - val_loss: 0.1822 - val_accuracy: 0.9498\n",
      "Epoch 35/100\n",
      "94/94 [==============================] - 0s 965us/step - loss: 0.1265 - accuracy: 0.9631 - val_loss: 0.1836 - val_accuracy: 0.9482\n",
      "Epoch 36/100\n",
      "94/94 [==============================] - 0s 948us/step - loss: 0.1249 - accuracy: 0.9642 - val_loss: 0.1807 - val_accuracy: 0.9497\n",
      "Epoch 37/100\n",
      "94/94 [==============================] - 0s 2ms/step - loss: 0.1236 - accuracy: 0.9638 - val_loss: 0.1864 - val_accuracy: 0.9467\n",
      "Epoch 38/100\n",
      "94/94 [==============================] - 0s 1ms/step - loss: 0.1227 - accuracy: 0.9639 - val_loss: 0.1911 - val_accuracy: 0.9473\n",
      "Epoch 39/100\n",
      "94/94 [==============================] - 0s 973us/step - loss: 0.1213 - accuracy: 0.9641 - val_loss: 0.1817 - val_accuracy: 0.9500\n",
      "Epoch 40/100\n",
      "94/94 [==============================] - 0s 942us/step - loss: 0.1191 - accuracy: 0.9652 - val_loss: 0.1890 - val_accuracy: 0.9467\n",
      "Epoch 41/100\n",
      "94/94 [==============================] - 0s 978us/step - loss: 0.1187 - accuracy: 0.9651 - val_loss: 0.1843 - val_accuracy: 0.9474\n",
      "Epoch 42/100\n",
      "94/94 [==============================] - 0s 969us/step - loss: 0.1175 - accuracy: 0.9647 - val_loss: 0.1860 - val_accuracy: 0.9477\n",
      "Epoch 43/100\n",
      "94/94 [==============================] - 0s 959us/step - loss: 0.1164 - accuracy: 0.9659 - val_loss: 0.1826 - val_accuracy: 0.9492\n",
      "Epoch 44/100\n",
      "94/94 [==============================] - 0s 974us/step - loss: 0.1153 - accuracy: 0.9655 - val_loss: 0.1782 - val_accuracy: 0.9498\n",
      "Epoch 45/100\n",
      "94/94 [==============================] - 0s 981us/step - loss: 0.1139 - accuracy: 0.9663 - val_loss: 0.1804 - val_accuracy: 0.9501\n",
      "Epoch 46/100\n",
      "94/94 [==============================] - 0s 967us/step - loss: 0.1125 - accuracy: 0.9669 - val_loss: 0.1801 - val_accuracy: 0.9503\n",
      "Epoch 47/100\n",
      "94/94 [==============================] - 0s 969us/step - loss: 0.1117 - accuracy: 0.9674 - val_loss: 0.1801 - val_accuracy: 0.9493\n",
      "Epoch 48/100\n",
      "94/94 [==============================] - 0s 963us/step - loss: 0.1106 - accuracy: 0.9675 - val_loss: 0.1782 - val_accuracy: 0.9493\n",
      "Epoch 49/100\n",
      "94/94 [==============================] - 0s 961us/step - loss: 0.1095 - accuracy: 0.9677 - val_loss: 0.1796 - val_accuracy: 0.9492\n",
      "Epoch 50/100\n",
      "94/94 [==============================] - 0s 953us/step - loss: 0.1087 - accuracy: 0.9675 - val_loss: 0.1793 - val_accuracy: 0.9507\n",
      "Epoch 51/100\n",
      "94/94 [==============================] - 0s 948us/step - loss: 0.1079 - accuracy: 0.9681 - val_loss: 0.1795 - val_accuracy: 0.9499\n",
      "Epoch 52/100\n",
      "94/94 [==============================] - 0s 947us/step - loss: 0.1068 - accuracy: 0.9686 - val_loss: 0.1820 - val_accuracy: 0.9492\n",
      "Epoch 53/100\n",
      "94/94 [==============================] - 0s 1ms/step - loss: 0.1055 - accuracy: 0.9690 - val_loss: 0.1802 - val_accuracy: 0.9501\n",
      "Epoch 54/100\n",
      "94/94 [==============================] - 0s 949us/step - loss: 0.1049 - accuracy: 0.9694 - val_loss: 0.1865 - val_accuracy: 0.9481\n",
      "Epoch 55/100\n",
      "94/94 [==============================] - 0s 928us/step - loss: 0.1028 - accuracy: 0.9697 - val_loss: 0.1814 - val_accuracy: 0.9491\n",
      "Epoch 56/100\n",
      "94/94 [==============================] - 0s 946us/step - loss: 0.1029 - accuracy: 0.9698 - val_loss: 0.1810 - val_accuracy: 0.9493\n",
      "Epoch 57/100\n",
      "94/94 [==============================] - 0s 1ms/step - loss: 0.1017 - accuracy: 0.9701 - val_loss: 0.1767 - val_accuracy: 0.9503\n",
      "Epoch 58/100\n",
      "94/94 [==============================] - 0s 1ms/step - loss: 0.1007 - accuracy: 0.9702 - val_loss: 0.1775 - val_accuracy: 0.9511\n",
      "Epoch 59/100\n",
      "94/94 [==============================] - 0s 1ms/step - loss: 0.1004 - accuracy: 0.9703 - val_loss: 0.1770 - val_accuracy: 0.9502\n",
      "Epoch 60/100\n",
      "94/94 [==============================] - 0s 954us/step - loss: 0.0996 - accuracy: 0.9706 - val_loss: 0.1777 - val_accuracy: 0.9504\n",
      "Epoch 61/100\n",
      "94/94 [==============================] - 0s 985us/step - loss: 0.0983 - accuracy: 0.9708 - val_loss: 0.1843 - val_accuracy: 0.9482\n",
      "Epoch 62/100\n",
      "94/94 [==============================] - 0s 949us/step - loss: 0.0979 - accuracy: 0.9714 - val_loss: 0.1794 - val_accuracy: 0.9501\n",
      "Epoch 63/100\n",
      "94/94 [==============================] - 0s 998us/step - loss: 0.0965 - accuracy: 0.9713 - val_loss: 0.1805 - val_accuracy: 0.9503\n",
      "Epoch 64/100\n",
      "94/94 [==============================] - 0s 959us/step - loss: 0.0958 - accuracy: 0.9719 - val_loss: 0.1832 - val_accuracy: 0.9496\n",
      "Epoch 65/100\n",
      "94/94 [==============================] - 0s 984us/step - loss: 0.0953 - accuracy: 0.9718 - val_loss: 0.1815 - val_accuracy: 0.9494\n",
      "Epoch 66/100\n",
      "94/94 [==============================] - 0s 944us/step - loss: 0.0945 - accuracy: 0.9722 - val_loss: 0.1836 - val_accuracy: 0.9498\n",
      "Epoch 67/100\n",
      "94/94 [==============================] - 0s 957us/step - loss: 0.0940 - accuracy: 0.9725 - val_loss: 0.1865 - val_accuracy: 0.9488\n",
      "Epoch 68/100\n",
      "94/94 [==============================] - 0s 1ms/step - loss: 0.0925 - accuracy: 0.9726 - val_loss: 0.1788 - val_accuracy: 0.9518\n",
      "Epoch 69/100\n",
      "94/94 [==============================] - 0s 1ms/step - loss: 0.0916 - accuracy: 0.9732 - val_loss: 0.1821 - val_accuracy: 0.9505\n",
      "Epoch 70/100\n",
      "94/94 [==============================] - 0s 1ms/step - loss: 0.0915 - accuracy: 0.9730 - val_loss: 0.1837 - val_accuracy: 0.9497\n",
      "Epoch 71/100\n",
      "94/94 [==============================] - 0s 950us/step - loss: 0.0905 - accuracy: 0.9729 - val_loss: 0.1849 - val_accuracy: 0.9491\n",
      "Epoch 72/100\n",
      "94/94 [==============================] - 0s 1ms/step - loss: 0.0894 - accuracy: 0.9737 - val_loss: 0.1839 - val_accuracy: 0.9484\n",
      "Epoch 73/100\n",
      "94/94 [==============================] - 0s 945us/step - loss: 0.0892 - accuracy: 0.9735 - val_loss: 0.1827 - val_accuracy: 0.9494\n",
      "Epoch 74/100\n",
      "94/94 [==============================] - 0s 962us/step - loss: 0.0880 - accuracy: 0.9743 - val_loss: 0.1868 - val_accuracy: 0.9480\n",
      "Epoch 75/100\n",
      "94/94 [==============================] - 0s 954us/step - loss: 0.0878 - accuracy: 0.9741 - val_loss: 0.1823 - val_accuracy: 0.9498\n",
      "Epoch 76/100\n",
      "94/94 [==============================] - 0s 945us/step - loss: 0.0872 - accuracy: 0.9744 - val_loss: 0.1823 - val_accuracy: 0.9491\n",
      "Epoch 77/100\n",
      "94/94 [==============================] - 0s 970us/step - loss: 0.0862 - accuracy: 0.9747 - val_loss: 0.1835 - val_accuracy: 0.9493\n",
      "Epoch 78/100\n",
      "94/94 [==============================] - 0s 947us/step - loss: 0.0860 - accuracy: 0.9750 - val_loss: 0.1843 - val_accuracy: 0.9488\n",
      "Epoch 79/100\n",
      "94/94 [==============================] - 0s 951us/step - loss: 0.0851 - accuracy: 0.9750 - val_loss: 0.1859 - val_accuracy: 0.9498\n",
      "Epoch 80/100\n",
      "94/94 [==============================] - 0s 945us/step - loss: 0.0845 - accuracy: 0.9751 - val_loss: 0.1904 - val_accuracy: 0.9482\n",
      "Epoch 81/100\n",
      "94/94 [==============================] - 0s 983us/step - loss: 0.0836 - accuracy: 0.9759 - val_loss: 0.1907 - val_accuracy: 0.9470\n",
      "Epoch 82/100\n",
      "94/94 [==============================] - 0s 997us/step - loss: 0.0836 - accuracy: 0.9756 - val_loss: 0.1886 - val_accuracy: 0.9474\n",
      "Epoch 83/100\n",
      "94/94 [==============================] - 0s 936us/step - loss: 0.0830 - accuracy: 0.9757 - val_loss: 0.1861 - val_accuracy: 0.9492\n",
      "Epoch 84/100\n",
      "94/94 [==============================] - 0s 961us/step - loss: 0.0815 - accuracy: 0.9766 - val_loss: 0.1866 - val_accuracy: 0.9499\n",
      "Epoch 85/100\n",
      "94/94 [==============================] - 0s 947us/step - loss: 0.0815 - accuracy: 0.9761 - val_loss: 0.1883 - val_accuracy: 0.9492\n",
      "Epoch 86/100\n",
      "94/94 [==============================] - 0s 975us/step - loss: 0.0812 - accuracy: 0.9759 - val_loss: 0.1899 - val_accuracy: 0.9475\n",
      "Epoch 87/100\n",
      "94/94 [==============================] - 0s 972us/step - loss: 0.0797 - accuracy: 0.9767 - val_loss: 0.1958 - val_accuracy: 0.9461\n",
      "Epoch 88/100\n",
      "94/94 [==============================] - 0s 953us/step - loss: 0.0802 - accuracy: 0.9762 - val_loss: 0.1906 - val_accuracy: 0.9492\n",
      "Epoch 89/100\n",
      "94/94 [==============================] - 0s 947us/step - loss: 0.0791 - accuracy: 0.9768 - val_loss: 0.1899 - val_accuracy: 0.9488\n",
      "Epoch 90/100\n",
      "94/94 [==============================] - 0s 1ms/step - loss: 0.0787 - accuracy: 0.9767 - val_loss: 0.1940 - val_accuracy: 0.9467\n",
      "Epoch 91/100\n",
      "94/94 [==============================] - 0s 945us/step - loss: 0.0783 - accuracy: 0.9774 - val_loss: 0.1945 - val_accuracy: 0.9477\n",
      "Epoch 92/100\n",
      "94/94 [==============================] - 0s 953us/step - loss: 0.0774 - accuracy: 0.9775 - val_loss: 0.1945 - val_accuracy: 0.9477\n",
      "Epoch 93/100\n",
      "94/94 [==============================] - 0s 939us/step - loss: 0.0769 - accuracy: 0.9781 - val_loss: 0.1957 - val_accuracy: 0.9463\n",
      "Epoch 94/100\n",
      "94/94 [==============================] - 0s 952us/step - loss: 0.0771 - accuracy: 0.9780 - val_loss: 0.1921 - val_accuracy: 0.9483\n",
      "Epoch 95/100\n",
      "94/94 [==============================] - 0s 948us/step - loss: 0.0762 - accuracy: 0.9782 - val_loss: 0.1924 - val_accuracy: 0.9486\n",
      "Epoch 96/100\n",
      "94/94 [==============================] - 0s 945us/step - loss: 0.0752 - accuracy: 0.9783 - val_loss: 0.1973 - val_accuracy: 0.9467\n",
      "Epoch 97/100\n",
      "94/94 [==============================] - 0s 949us/step - loss: 0.0750 - accuracy: 0.9783 - val_loss: 0.2064 - val_accuracy: 0.9442\n",
      "Epoch 98/100\n",
      "94/94 [==============================] - 0s 961us/step - loss: 0.0747 - accuracy: 0.9786 - val_loss: 0.1948 - val_accuracy: 0.9473\n",
      "Epoch 99/100\n",
      "94/94 [==============================] - 0s 946us/step - loss: 0.0746 - accuracy: 0.9782 - val_loss: 0.1980 - val_accuracy: 0.9469\n",
      "Epoch 100/100\n",
      "94/94 [==============================] - 0s 940us/step - loss: 0.0739 - accuracy: 0.9786 - val_loss: 0.2017 - val_accuracy: 0.9460\n"
     ]
    }
   ],
   "source": [
    "## I now fit the model, and store the training history\n",
    "## I use 100 epochs and a batch_size of 512\n",
    "n_epochs = 100\n",
    "batch_size = 512\n",
    "\n",
    "\n",
    "\n",
    "history = model.fit(X_train_train, to_categorical(y_train_train),\n",
    "                       epochs = n_epochs,\n",
    "                       batch_size = batch_size,\n",
    "                       validation_data = (X_val, to_categorical(y_val)))"
   ]
  },
  {
   "cell_type": "markdown",
   "metadata": {},
   "source": [
    "##### 5. Examine epoch history loss and accuracy\n",
    "\n",
    "The data stored in `history` includes a dictionary with epoch information on both the training and validation losses and accuracies."
   ]
  },
  {
   "cell_type": "code",
   "execution_count": 14,
   "metadata": {},
   "outputs": [],
   "source": [
    "history_dict = history.history"
   ]
  },
  {
   "cell_type": "code",
   "execution_count": 15,
   "metadata": {},
   "outputs": [
    {
     "name": "stdout",
     "output_type": "stream",
     "text": [
      "dict_keys(['loss', 'accuracy', 'val_loss', 'val_accuracy'])\n"
     ]
    }
   ],
   "source": [
    "print(history_dict.keys())"
   ]
  },
  {
   "cell_type": "code",
   "execution_count": 16,
   "metadata": {},
   "outputs": [
    {
     "data": {
      "image/png": "[encoded data removed]",
      "text/plain": [
       "<Figure size 800x600 with 1 Axes>"
      ]
     },
     "metadata": {},
     "output_type": "display_data"
    },
    {
     "data": {
      "image/png": "[encoded data removed]",
      "text/plain": [
       "<Figure size 800x600 with 1 Axes>"
      ]
     },
     "metadata": {},
     "output_type": "display_data"
    }
   ],
   "source": [
    "plt.figure(figsize = (8,6))\n",
    "\n",
    "plt.scatter(range(1,n_epochs+1), history_dict['accuracy'], label = \"Training Accuracy\")\n",
    "plt.scatter(range(1,n_epochs+1), history_dict['val_accuracy'], marker='v', label = \"Validation Set Accuracy\")\n",
    "\n",
    "plt.xlabel(\"Epoch\", fontsize=12)\n",
    "plt.ylabel(\"Accuracy\", fontsize=12)\n",
    "\n",
    "plt.xticks(fontsize=10)\n",
    "plt.yticks(fontsize=10)\n",
    "\n",
    "plt.legend(fontsize=12)\n",
    "\n",
    "plt.show()\n",
    "\n",
    "\n",
    "plt.figure(figsize = (8,6))\n",
    "\n",
    "plt.scatter(range(1,n_epochs+1), history_dict['loss'], label = \"Training Loss\")\n",
    "plt.scatter(range(1,n_epochs+1), history_dict['val_loss'], marker='v', label = \"Validation Set Loss\")\n",
    "\n",
    "plt.xlabel(\"Epoch\", fontsize=12)\n",
    "plt.ylabel(\"Loss Function Value\", fontsize=12)\n",
    "\n",
    "plt.xticks(fontsize=10)\n",
    "plt.yticks(fontsize=10)\n",
    "\n",
    "plt.legend(fontsize=12)\n",
    "\n",
    "plt.show()"
   ]
  },
  {
   "cell_type": "markdown",
   "metadata": {},
   "source": [
    "##### 6. Tuning the model architecture\n",
    "\n",
    "Looking at data like this can allow us to choose a training period, i.e. the number of epochs, for a neural network as well as compare performance across two different networks. Let's try a comparison to a second network."
   ]
  },
  {
   "cell_type": "code",
   "execution_count": 17,
   "metadata": {
    "scrolled": true
   },
   "outputs": [
    {
     "name": "stdout",
     "output_type": "stream",
     "text": [
      "Epoch 1/100\n",
      "94/94 [==============================] - 0s 2ms/step - loss: 0.8411 - accuracy: 0.7730 - val_loss: 0.3990 - val_accuracy: 0.8891\n",
      "Epoch 2/100\n",
      "94/94 [==============================] - 0s 1ms/step - loss: 0.3360 - accuracy: 0.9046 - val_loss: 0.3009 - val_accuracy: 0.9147\n",
      "Epoch 3/100\n",
      "94/94 [==============================] - 0s 1ms/step - loss: 0.2748 - accuracy: 0.9205 - val_loss: 0.2670 - val_accuracy: 0.9244\n",
      "Epoch 4/100\n",
      "94/94 [==============================] - 0s 1ms/step - loss: 0.2408 - accuracy: 0.9307 - val_loss: 0.2415 - val_accuracy: 0.9312\n",
      "Epoch 5/100\n",
      "94/94 [==============================] - 0s 1ms/step - loss: 0.2158 - accuracy: 0.9370 - val_loss: 0.2237 - val_accuracy: 0.9364\n",
      "Epoch 6/100\n",
      "94/94 [==============================] - 0s 1ms/step - loss: 0.1964 - accuracy: 0.9433 - val_loss: 0.2088 - val_accuracy: 0.9398\n",
      "Epoch 7/100\n",
      "94/94 [==============================] - 0s 1ms/step - loss: 0.1798 - accuracy: 0.9476 - val_loss: 0.2049 - val_accuracy: 0.9407\n",
      "Epoch 8/100\n",
      "94/94 [==============================] - 0s 1ms/step - loss: 0.1667 - accuracy: 0.9506 - val_loss: 0.1977 - val_accuracy: 0.9433\n",
      "Epoch 9/100\n",
      "94/94 [==============================] - 0s 1ms/step - loss: 0.1554 - accuracy: 0.9542 - val_loss: 0.1791 - val_accuracy: 0.9473\n",
      "Epoch 10/100\n",
      "94/94 [==============================] - 0s 1ms/step - loss: 0.1448 - accuracy: 0.9576 - val_loss: 0.1760 - val_accuracy: 0.9479\n",
      "Epoch 11/100\n",
      "94/94 [==============================] - 0s 1ms/step - loss: 0.1359 - accuracy: 0.9598 - val_loss: 0.1747 - val_accuracy: 0.9482\n",
      "Epoch 12/100\n",
      "94/94 [==============================] - 0s 1ms/step - loss: 0.1288 - accuracy: 0.9621 - val_loss: 0.1613 - val_accuracy: 0.9523\n",
      "Epoch 13/100\n",
      "94/94 [==============================] - 0s 1ms/step - loss: 0.1210 - accuracy: 0.9641 - val_loss: 0.1570 - val_accuracy: 0.9541\n",
      "Epoch 14/100\n",
      "94/94 [==============================] - 0s 1ms/step - loss: 0.1145 - accuracy: 0.9658 - val_loss: 0.1529 - val_accuracy: 0.9545\n",
      "Epoch 15/100\n",
      "94/94 [==============================] - 0s 1ms/step - loss: 0.1093 - accuracy: 0.9683 - val_loss: 0.1517 - val_accuracy: 0.9549\n",
      "Epoch 16/100\n",
      "94/94 [==============================] - 0s 1ms/step - loss: 0.1043 - accuracy: 0.9686 - val_loss: 0.1540 - val_accuracy: 0.9548\n",
      "Epoch 17/100\n",
      "94/94 [==============================] - 0s 1ms/step - loss: 0.1001 - accuracy: 0.9699 - val_loss: 0.1446 - val_accuracy: 0.9590\n",
      "Epoch 18/100\n",
      "94/94 [==============================] - 0s 1ms/step - loss: 0.0957 - accuracy: 0.9716 - val_loss: 0.1433 - val_accuracy: 0.9584\n",
      "Epoch 19/100\n",
      "94/94 [==============================] - 0s 1ms/step - loss: 0.0924 - accuracy: 0.9725 - val_loss: 0.1397 - val_accuracy: 0.9603\n",
      "Epoch 20/100\n",
      "94/94 [==============================] - 0s 1ms/step - loss: 0.0884 - accuracy: 0.9732 - val_loss: 0.1407 - val_accuracy: 0.9602\n",
      "Epoch 21/100\n",
      "94/94 [==============================] - 0s 1ms/step - loss: 0.0852 - accuracy: 0.9748 - val_loss: 0.1392 - val_accuracy: 0.9619\n",
      "Epoch 22/100\n",
      "94/94 [==============================] - 0s 2ms/step - loss: 0.0822 - accuracy: 0.9756 - val_loss: 0.1350 - val_accuracy: 0.9619\n",
      "Epoch 23/100\n",
      "94/94 [==============================] - 0s 1ms/step - loss: 0.0791 - accuracy: 0.9769 - val_loss: 0.1352 - val_accuracy: 0.9620\n",
      "Epoch 24/100\n",
      "94/94 [==============================] - 0s 1ms/step - loss: 0.0760 - accuracy: 0.9773 - val_loss: 0.1367 - val_accuracy: 0.9632\n",
      "Epoch 25/100\n",
      "94/94 [==============================] - 0s 1ms/step - loss: 0.0730 - accuracy: 0.9783 - val_loss: 0.1356 - val_accuracy: 0.9601\n",
      "Epoch 26/100\n",
      "94/94 [==============================] - 0s 1ms/step - loss: 0.0716 - accuracy: 0.9783 - val_loss: 0.1362 - val_accuracy: 0.9613\n",
      "Epoch 27/100\n",
      "94/94 [==============================] - 0s 1ms/step - loss: 0.0687 - accuracy: 0.9790 - val_loss: 0.1353 - val_accuracy: 0.9621\n",
      "Epoch 28/100\n",
      "94/94 [==============================] - 0s 1ms/step - loss: 0.0664 - accuracy: 0.9797 - val_loss: 0.1390 - val_accuracy: 0.9589\n",
      "Epoch 29/100\n",
      "94/94 [==============================] - 0s 1ms/step - loss: 0.0646 - accuracy: 0.9809 - val_loss: 0.1329 - val_accuracy: 0.9629\n",
      "Epoch 30/100\n",
      "94/94 [==============================] - 0s 1ms/step - loss: 0.0627 - accuracy: 0.9814 - val_loss: 0.1329 - val_accuracy: 0.9620\n",
      "Epoch 31/100\n",
      "94/94 [==============================] - 0s 1ms/step - loss: 0.0604 - accuracy: 0.9818 - val_loss: 0.1333 - val_accuracy: 0.9617\n",
      "Epoch 32/100\n",
      "94/94 [==============================] - 0s 1ms/step - loss: 0.0587 - accuracy: 0.9820 - val_loss: 0.1360 - val_accuracy: 0.9620\n",
      "Epoch 33/100\n",
      "94/94 [==============================] - 0s 1ms/step - loss: 0.0567 - accuracy: 0.9830 - val_loss: 0.1318 - val_accuracy: 0.9621\n",
      "Epoch 34/100\n",
      "94/94 [==============================] - 0s 1ms/step - loss: 0.0547 - accuracy: 0.9836 - val_loss: 0.1344 - val_accuracy: 0.9612\n",
      "Epoch 35/100\n",
      "94/94 [==============================] - 0s 1ms/step - loss: 0.0531 - accuracy: 0.9842 - val_loss: 0.1345 - val_accuracy: 0.9617\n",
      "Epoch 36/100\n",
      "94/94 [==============================] - 0s 1ms/step - loss: 0.0518 - accuracy: 0.9841 - val_loss: 0.1369 - val_accuracy: 0.9617\n",
      "Epoch 37/100\n",
      "94/94 [==============================] - 0s 1ms/step - loss: 0.0506 - accuracy: 0.9849 - val_loss: 0.1324 - val_accuracy: 0.9631\n",
      "Epoch 38/100\n",
      "94/94 [==============================] - 0s 1ms/step - loss: 0.0484 - accuracy: 0.9851 - val_loss: 0.1310 - val_accuracy: 0.9646\n",
      "Epoch 39/100\n",
      "94/94 [==============================] - 0s 1ms/step - loss: 0.0472 - accuracy: 0.9862 - val_loss: 0.1338 - val_accuracy: 0.9637\n",
      "Epoch 40/100\n",
      "94/94 [==============================] - 0s 1ms/step - loss: 0.0456 - accuracy: 0.9862 - val_loss: 0.1349 - val_accuracy: 0.9624\n",
      "Epoch 41/100\n",
      "94/94 [==============================] - 0s 1ms/step - loss: 0.0447 - accuracy: 0.9867 - val_loss: 0.1357 - val_accuracy: 0.9628\n",
      "Epoch 42/100\n",
      "94/94 [==============================] - 0s 1ms/step - loss: 0.0434 - accuracy: 0.9871 - val_loss: 0.1367 - val_accuracy: 0.9614\n",
      "Epoch 43/100\n",
      "94/94 [==============================] - 0s 1ms/step - loss: 0.0419 - accuracy: 0.9876 - val_loss: 0.1351 - val_accuracy: 0.9631\n",
      "Epoch 44/100\n",
      "94/94 [==============================] - 0s 1ms/step - loss: 0.0404 - accuracy: 0.9881 - val_loss: 0.1334 - val_accuracy: 0.9642\n",
      "Epoch 45/100\n",
      "94/94 [==============================] - 0s 1ms/step - loss: 0.0391 - accuracy: 0.9885 - val_loss: 0.1407 - val_accuracy: 0.9615\n",
      "Epoch 46/100\n",
      "94/94 [==============================] - 0s 1ms/step - loss: 0.0382 - accuracy: 0.9890 - val_loss: 0.1373 - val_accuracy: 0.9647\n",
      "Epoch 47/100\n",
      "94/94 [==============================] - 0s 1ms/step - loss: 0.0367 - accuracy: 0.9894 - val_loss: 0.1367 - val_accuracy: 0.9644\n",
      "Epoch 48/100\n",
      "94/94 [==============================] - 0s 1ms/step - loss: 0.0366 - accuracy: 0.9894 - val_loss: 0.1375 - val_accuracy: 0.9647\n",
      "Epoch 49/100\n",
      "94/94 [==============================] - 0s 1ms/step - loss: 0.0348 - accuracy: 0.9899 - val_loss: 0.1386 - val_accuracy: 0.9642\n",
      "Epoch 50/100\n",
      "94/94 [==============================] - 0s 1ms/step - loss: 0.0341 - accuracy: 0.9902 - val_loss: 0.1390 - val_accuracy: 0.9643\n",
      "Epoch 51/100\n",
      "94/94 [==============================] - 0s 1ms/step - loss: 0.0322 - accuracy: 0.9913 - val_loss: 0.1424 - val_accuracy: 0.9637\n",
      "Epoch 52/100\n",
      "94/94 [==============================] - 0s 1ms/step - loss: 0.0321 - accuracy: 0.9907 - val_loss: 0.1401 - val_accuracy: 0.9636\n",
      "Epoch 53/100\n",
      "94/94 [==============================] - 0s 1ms/step - loss: 0.0305 - accuracy: 0.9912 - val_loss: 0.1408 - val_accuracy: 0.9616\n",
      "Epoch 54/100\n",
      "94/94 [==============================] - 0s 1ms/step - loss: 0.0300 - accuracy: 0.9918 - val_loss: 0.1435 - val_accuracy: 0.9638\n",
      "Epoch 55/100\n",
      "94/94 [==============================] - 0s 1ms/step - loss: 0.0289 - accuracy: 0.9920 - val_loss: 0.1470 - val_accuracy: 0.9631\n",
      "Epoch 56/100\n",
      "94/94 [==============================] - 0s 1ms/step - loss: 0.0278 - accuracy: 0.9922 - val_loss: 0.1517 - val_accuracy: 0.9610\n",
      "Epoch 57/100\n",
      "94/94 [==============================] - 0s 1ms/step - loss: 0.0276 - accuracy: 0.9922 - val_loss: 0.1426 - val_accuracy: 0.9642\n",
      "Epoch 58/100\n",
      "94/94 [==============================] - 0s 1ms/step - loss: 0.0265 - accuracy: 0.9926 - val_loss: 0.1458 - val_accuracy: 0.9642\n",
      "Epoch 59/100\n",
      "94/94 [==============================] - 0s 1ms/step - loss: 0.0259 - accuracy: 0.9930 - val_loss: 0.1465 - val_accuracy: 0.9636\n",
      "Epoch 60/100\n",
      "94/94 [==============================] - 0s 1ms/step - loss: 0.0252 - accuracy: 0.9933 - val_loss: 0.1481 - val_accuracy: 0.9638\n",
      "Epoch 61/100\n",
      "94/94 [==============================] - 0s 1ms/step - loss: 0.0240 - accuracy: 0.9933 - val_loss: 0.1581 - val_accuracy: 0.9601\n",
      "Epoch 62/100\n",
      "94/94 [==============================] - 0s 1ms/step - loss: 0.0233 - accuracy: 0.9938 - val_loss: 0.1560 - val_accuracy: 0.9607\n",
      "Epoch 63/100\n",
      "94/94 [==============================] - 0s 1ms/step - loss: 0.0229 - accuracy: 0.9939 - val_loss: 0.1553 - val_accuracy: 0.9623\n",
      "Epoch 64/100\n",
      "94/94 [==============================] - 0s 1ms/step - loss: 0.0217 - accuracy: 0.9939 - val_loss: 0.1525 - val_accuracy: 0.9641\n",
      "Epoch 65/100\n",
      "94/94 [==============================] - 0s 1ms/step - loss: 0.0211 - accuracy: 0.9942 - val_loss: 0.1513 - val_accuracy: 0.9634\n",
      "Epoch 66/100\n",
      "94/94 [==============================] - 0s 1ms/step - loss: 0.0209 - accuracy: 0.9945 - val_loss: 0.1619 - val_accuracy: 0.9611\n",
      "Epoch 67/100\n",
      "94/94 [==============================] - 0s 1ms/step - loss: 0.0204 - accuracy: 0.9947 - val_loss: 0.1563 - val_accuracy: 0.9628\n",
      "Epoch 68/100\n",
      "94/94 [==============================] - 0s 1ms/step - loss: 0.0193 - accuracy: 0.9950 - val_loss: 0.1576 - val_accuracy: 0.9627\n",
      "Epoch 69/100\n",
      "94/94 [==============================] - 0s 1ms/step - loss: 0.0193 - accuracy: 0.9948 - val_loss: 0.1607 - val_accuracy: 0.9621\n",
      "Epoch 70/100\n",
      "94/94 [==============================] - 0s 1ms/step - loss: 0.0187 - accuracy: 0.9950 - val_loss: 0.1649 - val_accuracy: 0.9594\n",
      "Epoch 71/100\n",
      "94/94 [==============================] - 0s 1ms/step - loss: 0.0173 - accuracy: 0.9955 - val_loss: 0.1659 - val_accuracy: 0.9621\n",
      "Epoch 72/100\n",
      "94/94 [==============================] - 0s 1ms/step - loss: 0.0170 - accuracy: 0.9958 - val_loss: 0.1677 - val_accuracy: 0.9610\n",
      "Epoch 73/100\n",
      "94/94 [==============================] - 0s 1ms/step - loss: 0.0166 - accuracy: 0.9958 - val_loss: 0.1667 - val_accuracy: 0.9615\n",
      "Epoch 74/100\n",
      "94/94 [==============================] - 0s 1ms/step - loss: 0.0161 - accuracy: 0.9961 - val_loss: 0.1658 - val_accuracy: 0.9638\n",
      "Epoch 75/100\n",
      "94/94 [==============================] - 0s 1ms/step - loss: 0.0153 - accuracy: 0.9963 - val_loss: 0.1692 - val_accuracy: 0.9626\n",
      "Epoch 76/100\n",
      "94/94 [==============================] - 0s 1ms/step - loss: 0.0149 - accuracy: 0.9964 - val_loss: 0.1713 - val_accuracy: 0.9608\n",
      "Epoch 77/100\n",
      "94/94 [==============================] - 0s 1ms/step - loss: 0.0148 - accuracy: 0.9964 - val_loss: 0.1759 - val_accuracy: 0.9626\n",
      "Epoch 78/100\n",
      "94/94 [==============================] - 0s 1ms/step - loss: 0.0138 - accuracy: 0.9968 - val_loss: 0.1772 - val_accuracy: 0.9638\n",
      "Epoch 79/100\n",
      "94/94 [==============================] - 0s 1ms/step - loss: 0.0136 - accuracy: 0.9966 - val_loss: 0.1760 - val_accuracy: 0.9619\n",
      "Epoch 80/100\n",
      "94/94 [==============================] - 0s 1ms/step - loss: 0.0129 - accuracy: 0.9969 - val_loss: 0.1916 - val_accuracy: 0.9582\n",
      "Epoch 81/100\n",
      "94/94 [==============================] - 0s 1ms/step - loss: 0.0128 - accuracy: 0.9969 - val_loss: 0.1800 - val_accuracy: 0.9611\n",
      "Epoch 82/100\n",
      "94/94 [==============================] - 0s 1ms/step - loss: 0.0121 - accuracy: 0.9971 - val_loss: 0.1816 - val_accuracy: 0.9603\n",
      "Epoch 83/100\n",
      "94/94 [==============================] - 0s 1ms/step - loss: 0.0121 - accuracy: 0.9971 - val_loss: 0.1861 - val_accuracy: 0.9617\n",
      "Epoch 84/100\n",
      "94/94 [==============================] - 0s 1ms/step - loss: 0.0113 - accuracy: 0.9975 - val_loss: 0.1783 - val_accuracy: 0.9628\n",
      "Epoch 85/100\n",
      "94/94 [==============================] - 0s 1ms/step - loss: 0.0112 - accuracy: 0.9974 - val_loss: 0.1864 - val_accuracy: 0.9615\n",
      "Epoch 86/100\n",
      "94/94 [==============================] - 0s 1ms/step - loss: 0.0104 - accuracy: 0.9979 - val_loss: 0.1977 - val_accuracy: 0.9588\n",
      "Epoch 87/100\n",
      "94/94 [==============================] - 0s 1ms/step - loss: 0.0104 - accuracy: 0.9975 - val_loss: 0.1888 - val_accuracy: 0.9617\n",
      "Epoch 88/100\n",
      "94/94 [==============================] - 0s 1ms/step - loss: 0.0104 - accuracy: 0.9977 - val_loss: 0.1892 - val_accuracy: 0.9623\n",
      "Epoch 89/100\n",
      "94/94 [==============================] - 0s 1ms/step - loss: 0.0099 - accuracy: 0.9979 - val_loss: 0.1924 - val_accuracy: 0.9622\n",
      "Epoch 90/100\n",
      "94/94 [==============================] - 0s 1ms/step - loss: 0.0096 - accuracy: 0.9978 - val_loss: 0.1917 - val_accuracy: 0.9619\n",
      "Epoch 91/100\n",
      "94/94 [==============================] - 0s 1ms/step - loss: 0.0085 - accuracy: 0.9982 - val_loss: 0.1943 - val_accuracy: 0.9622\n",
      "Epoch 92/100\n",
      "94/94 [==============================] - 0s 1ms/step - loss: 0.0088 - accuracy: 0.9980 - val_loss: 0.1975 - val_accuracy: 0.9613\n",
      "Epoch 93/100\n",
      "94/94 [==============================] - 0s 1ms/step - loss: 0.0085 - accuracy: 0.9980 - val_loss: 0.1934 - val_accuracy: 0.9609\n",
      "Epoch 94/100\n",
      "94/94 [==============================] - 0s 1ms/step - loss: 0.0082 - accuracy: 0.9982 - val_loss: 0.2003 - val_accuracy: 0.9635\n",
      "Epoch 95/100\n",
      "94/94 [==============================] - 0s 1ms/step - loss: 0.0082 - accuracy: 0.9980 - val_loss: 0.2136 - val_accuracy: 0.9582\n",
      "Epoch 96/100\n",
      "94/94 [==============================] - 0s 1ms/step - loss: 0.0078 - accuracy: 0.9984 - val_loss: 0.1981 - val_accuracy: 0.9619\n",
      "Epoch 97/100\n",
      "94/94 [==============================] - 0s 1ms/step - loss: 0.0076 - accuracy: 0.9984 - val_loss: 0.2039 - val_accuracy: 0.9619\n",
      "Epoch 98/100\n",
      "94/94 [==============================] - 0s 1ms/step - loss: 0.0070 - accuracy: 0.9984 - val_loss: 0.2057 - val_accuracy: 0.9618\n",
      "Epoch 99/100\n",
      "94/94 [==============================] - 0s 1ms/step - loss: 0.0067 - accuracy: 0.9987 - val_loss: 0.2061 - val_accuracy: 0.9605\n",
      "Epoch 100/100\n",
      "94/94 [==============================] - 0s 1ms/step - loss: 0.0065 - accuracy: 0.9988 - val_loss: 0.2087 - val_accuracy: 0.9625\n"
     ]
    }
   ],
   "source": [
    "model2 = models.Sequential()\n",
    "\n",
    "model2.add(layers.Dense(32, activation='relu', input_shape=(28*28,)))\n",
    "model2.add(layers.Dense(32, activation='relu'))\n",
    "model2.add(layers.Dense(10, activation='softmax'))\n",
    "\n",
    "model2.compile(optimizer = 'rmsprop',\n",
    "                 loss = 'categorical_crossentropy',\n",
    "                 metrics = ['accuracy'])\n",
    "\n",
    "history2 = model2.fit(X_train_train,\n",
    "                       to_categorical(y_train_train),\n",
    "                       epochs = n_epochs,\n",
    "                       batch_size = batch_size,\n",
    "                       validation_data = (X_val, to_categorical(y_val)))\n",
    "\n",
    "history_dict2 = history2.history"
   ]
  },
  {
   "cell_type": "code",
   "execution_count": 18,
   "metadata": {},
   "outputs": [
    {
     "data": {
      "image/png": "[encoded data removed]",
      "text/plain": [
       "<Figure size 800x600 with 1 Axes>"
      ]
     },
     "metadata": {},
     "output_type": "display_data"
    },
    {
     "data": {
      "image/png": "[encoded data removed]",
      "text/plain": [
       "<Figure size 800x600 with 1 Axes>"
      ]
     },
     "metadata": {},
     "output_type": "display_data"
    }
   ],
   "source": [
    "plt.figure(figsize = (8,6))\n",
    "\n",
    "plt.scatter(range(1,n_epochs+1), history_dict['val_accuracy'], label = \"Neural Net 1 Val. Accuracy\")\n",
    "plt.scatter(range(1,n_epochs+1), history_dict2['val_accuracy'], marker='v', label = \"Neural Net 2 Val. Accuracy\")\n",
    "\n",
    "plt.xlabel(\"Epoch\", fontsize=12)\n",
    "plt.ylabel(\"Accuracy\", fontsize=12)\n",
    "\n",
    "plt.xticks(fontsize=10)\n",
    "plt.yticks(fontsize=10)\n",
    "\n",
    "plt.legend(fontsize=12)\n",
    "\n",
    "plt.show()\n",
    "\n",
    "plt.figure(figsize = (8,6))\n",
    "\n",
    "plt.scatter(range(1,n_epochs+1), history_dict['val_loss'], label = \"Neural Net 1 Val. Loss\")\n",
    "plt.scatter(range(1,n_epochs+1), history_dict2['val_loss'], marker='v', label = \"Neural Net 2 Val. Loss\")\n",
    "\n",
    "plt.xlabel(\"Epoch\", fontsize=12)\n",
    "plt.ylabel(\"Loss\", fontsize=12)\n",
    "\n",
    "plt.xticks(fontsize=10)\n",
    "plt.yticks(fontsize=10)\n",
    "\n",
    "plt.legend(fontsize=12)\n",
    "\n",
    "plt.show()"
   ]
  },
  {
   "cell_type": "markdown",
   "metadata": {},
   "source": [
    "##### 7. Selecting an architecture\n",
    "\n",
    "It looks like the 32 x 32 network edges out the 16 x 16. Let's find the epoch that resulted in the lowest validation loss and use that for our final model."
   ]
  },
  {
   "cell_type": "code",
   "execution_count": 19,
   "metadata": {},
   "outputs": [
    {
     "name": "stdout",
     "output_type": "stream",
     "text": [
      "The epoch that had the lowest model 2 validation loss was 38\n"
     ]
    }
   ],
   "source": [
    "print(\"The epoch that had the lowest model 2 validation loss was\",\n",
    "     range(1,n_epochs+1)[np.argmin(history_dict2['val_loss'])])"
   ]
  },
  {
   "cell_type": "code",
   "execution_count": 20,
   "metadata": {},
   "outputs": [],
   "source": [
    "del model2"
   ]
  },
  {
   "cell_type": "code",
   "execution_count": 21,
   "metadata": {
    "scrolled": true
   },
   "outputs": [
    {
     "name": "stdout",
     "output_type": "stream",
     "text": [
      "Epoch 1/38\n",
      "118/118 [==============================] - 0s 2ms/step - loss: 0.7896 - accuracy: 0.7964 - val_loss: 0.3668 - val_accuracy: 0.9017\n",
      "Epoch 2/38\n",
      "118/118 [==============================] - 0s 1ms/step - loss: 0.3092 - accuracy: 0.9130 - val_loss: 0.3018 - val_accuracy: 0.9128\n",
      "Epoch 3/38\n",
      "118/118 [==============================] - 0s 1ms/step - loss: 0.2449 - accuracy: 0.9305 - val_loss: 0.2222 - val_accuracy: 0.9385\n",
      "Epoch 4/38\n",
      "118/118 [==============================] - 0s 1ms/step - loss: 0.2112 - accuracy: 0.9398 - val_loss: 0.2043 - val_accuracy: 0.9411\n",
      "Epoch 5/38\n",
      "118/118 [==============================] - 0s 1ms/step - loss: 0.1897 - accuracy: 0.9452 - val_loss: 0.1873 - val_accuracy: 0.9471\n",
      "Epoch 6/38\n",
      "118/118 [==============================] - 0s 1ms/step - loss: 0.1723 - accuracy: 0.9504 - val_loss: 0.1964 - val_accuracy: 0.9420\n",
      "Epoch 7/38\n",
      "118/118 [==============================] - 0s 1ms/step - loss: 0.1596 - accuracy: 0.9544 - val_loss: 0.1546 - val_accuracy: 0.9548\n",
      "Epoch 8/38\n",
      "118/118 [==============================] - 0s 1ms/step - loss: 0.1472 - accuracy: 0.9570 - val_loss: 0.1603 - val_accuracy: 0.9531\n",
      "Epoch 9/38\n",
      "118/118 [==============================] - 0s 1ms/step - loss: 0.1371 - accuracy: 0.9604 - val_loss: 0.1366 - val_accuracy: 0.9613\n",
      "Epoch 10/38\n",
      "118/118 [==============================] - 0s 1ms/step - loss: 0.1285 - accuracy: 0.9624 - val_loss: 0.1339 - val_accuracy: 0.9613\n",
      "Epoch 11/38\n",
      "118/118 [==============================] - 0s 1ms/step - loss: 0.1204 - accuracy: 0.9649 - val_loss: 0.1380 - val_accuracy: 0.9603\n",
      "Epoch 12/38\n",
      "118/118 [==============================] - 0s 1ms/step - loss: 0.1140 - accuracy: 0.9663 - val_loss: 0.1156 - val_accuracy: 0.9666\n",
      "Epoch 13/38\n",
      "118/118 [==============================] - 0s 1ms/step - loss: 0.1081 - accuracy: 0.9686 - val_loss: 0.1157 - val_accuracy: 0.9665\n",
      "Epoch 14/38\n",
      "118/118 [==============================] - 0s 1ms/step - loss: 0.1018 - accuracy: 0.9702 - val_loss: 0.0996 - val_accuracy: 0.9710\n",
      "Epoch 15/38\n",
      "118/118 [==============================] - 0s 1ms/step - loss: 0.0972 - accuracy: 0.9715 - val_loss: 0.1023 - val_accuracy: 0.9707\n",
      "Epoch 16/38\n",
      "118/118 [==============================] - 0s 1ms/step - loss: 0.0928 - accuracy: 0.9726 - val_loss: 0.0939 - val_accuracy: 0.9719\n",
      "Epoch 17/38\n",
      "118/118 [==============================] - 0s 1ms/step - loss: 0.0887 - accuracy: 0.9737 - val_loss: 0.0898 - val_accuracy: 0.9736\n",
      "Epoch 18/38\n",
      "118/118 [==============================] - 0s 1ms/step - loss: 0.0844 - accuracy: 0.9753 - val_loss: 0.0840 - val_accuracy: 0.9763\n",
      "Epoch 19/38\n",
      "118/118 [==============================] - 0s 1ms/step - loss: 0.0806 - accuracy: 0.9767 - val_loss: 0.0827 - val_accuracy: 0.9758\n",
      "Epoch 20/38\n",
      "118/118 [==============================] - 0s 1ms/step - loss: 0.0773 - accuracy: 0.9773 - val_loss: 0.0772 - val_accuracy: 0.9772\n",
      "Epoch 21/38\n",
      "118/118 [==============================] - 0s 1ms/step - loss: 0.0744 - accuracy: 0.9779 - val_loss: 0.0745 - val_accuracy: 0.9783\n",
      "Epoch 22/38\n",
      "118/118 [==============================] - 0s 1ms/step - loss: 0.0718 - accuracy: 0.9791 - val_loss: 0.0676 - val_accuracy: 0.9801\n",
      "Epoch 23/38\n",
      "118/118 [==============================] - 0s 1ms/step - loss: 0.0689 - accuracy: 0.9796 - val_loss: 0.0671 - val_accuracy: 0.9810\n",
      "Epoch 24/38\n",
      "118/118 [==============================] - 0s 1ms/step - loss: 0.0665 - accuracy: 0.9810 - val_loss: 0.1071 - val_accuracy: 0.9661\n",
      "Epoch 25/38\n",
      "118/118 [==============================] - 0s 1ms/step - loss: 0.0641 - accuracy: 0.9810 - val_loss: 0.0607 - val_accuracy: 0.9826\n",
      "Epoch 26/38\n",
      "118/118 [==============================] - 0s 1ms/step - loss: 0.0620 - accuracy: 0.9819 - val_loss: 0.0600 - val_accuracy: 0.9818\n",
      "Epoch 27/38\n",
      "118/118 [==============================] - 0s 1ms/step - loss: 0.0604 - accuracy: 0.9823 - val_loss: 0.0570 - val_accuracy: 0.9827\n",
      "Epoch 28/38\n",
      "118/118 [==============================] - 0s 1ms/step - loss: 0.0575 - accuracy: 0.9833 - val_loss: 0.0602 - val_accuracy: 0.9822\n",
      "Epoch 29/38\n",
      "118/118 [==============================] - 0s 1ms/step - loss: 0.0560 - accuracy: 0.9833 - val_loss: 0.0578 - val_accuracy: 0.9827\n",
      "Epoch 30/38\n",
      "118/118 [==============================] - 0s 1ms/step - loss: 0.0538 - accuracy: 0.9845 - val_loss: 0.0558 - val_accuracy: 0.9833\n",
      "Epoch 31/38\n",
      "118/118 [==============================] - 0s 1ms/step - loss: 0.0521 - accuracy: 0.9847 - val_loss: 0.0511 - val_accuracy: 0.9843\n",
      "Epoch 32/38\n",
      "118/118 [==============================] - 0s 1ms/step - loss: 0.0511 - accuracy: 0.9851 - val_loss: 0.0453 - val_accuracy: 0.9880\n",
      "Epoch 33/38\n",
      "118/118 [==============================] - 0s 1ms/step - loss: 0.0494 - accuracy: 0.9855 - val_loss: 0.0634 - val_accuracy: 0.9804\n",
      "Epoch 34/38\n",
      "118/118 [==============================] - 0s 1ms/step - loss: 0.0477 - accuracy: 0.9860 - val_loss: 0.0440 - val_accuracy: 0.9877\n",
      "Epoch 35/38\n",
      "118/118 [==============================] - 0s 1ms/step - loss: 0.0462 - accuracy: 0.9862 - val_loss: 0.0513 - val_accuracy: 0.9845\n",
      "Epoch 36/38\n",
      "118/118 [==============================] - 0s 1ms/step - loss: 0.0448 - accuracy: 0.9875 - val_loss: 0.0429 - val_accuracy: 0.9877\n",
      "Epoch 37/38\n",
      "118/118 [==============================] - 0s 1ms/step - loss: 0.0432 - accuracy: 0.9875 - val_loss: 0.0472 - val_accuracy: 0.9865\n",
      "Epoch 38/38\n",
      "118/118 [==============================] - 0s 1ms/step - loss: 0.0418 - accuracy: 0.9882 - val_loss: 0.0359 - val_accuracy: 0.9894\n"
     ]
    }
   ],
   "source": [
    "model2 = models.Sequential()\n",
    "\n",
    "model2.add(layers.Dense(32, activation='relu', input_shape=(28*28,)))\n",
    "model2.add(layers.Dense(32, activation='relu'))\n",
    "model2.add(layers.Dense(10, activation='softmax'))\n",
    "\n",
    "model2.compile(optimizer = 'rmsprop',\n",
    "                 loss = 'categorical_crossentropy',\n",
    "                 metrics = ['accuracy'])\n",
    "\n",
    "history2 = model2.fit(X_train,\n",
    "                       to_categorical(y_train),\n",
    "                       epochs = range(1,n_epochs+1)[np.argmin(history_dict2['val_loss'])],\n",
    "                       batch_size = 512,\n",
    "                       validation_data = (X_val, to_categorical(y_val)))\n",
    "\n",
    "history_dict2 = history2.history"
   ]
  },
  {
   "cell_type": "markdown",
   "metadata": {},
   "source": [
    "#### 8. Predicting on the validation set\n",
    "\n",
    "Let's now use this model to predict on the validation set. This is quite similar to the procedure you would follow in the `sklearn` setup."
   ]
  },
  {
   "cell_type": "code",
   "execution_count": 22,
   "metadata": {},
   "outputs": [
    {
     "name": "stdout",
     "output_type": "stream",
     "text": [
      "375/375 [==============================] - 0s 259us/step\n"
     ]
    },
    {
     "data": {
      "text/plain": [
       "array([3.2791706e-13, 1.0090347e-09, 2.8615542e-11, 8.4592157e-06,\n",
       "       5.2769502e-07, 1.0505544e-08, 7.2493586e-15, 4.5765731e-07,\n",
       "       2.7333076e-07, 9.9999034e-01], dtype=float32)"
      ]
     },
     "execution_count": 22,
     "metadata": {},
     "output_type": "execute_result"
    }
   ],
   "source": [
    "model2.predict(X_val)[0,:]"
   ]
  },
  {
   "cell_type": "code",
   "execution_count": 23,
   "metadata": {},
   "outputs": [
    {
     "data": {
      "text/plain": [
       "9"
      ]
     },
     "execution_count": 23,
     "metadata": {},
     "output_type": "execute_result"
    }
   ],
   "source": [
    "y_val[0]"
   ]
  },
  {
   "cell_type": "markdown",
   "metadata": {},
   "source": [
    "Note that this produces a set of probabilities for each observation. For our prediction of an actual observation we can just choose the one with highest probability."
   ]
  },
  {
   "cell_type": "code",
   "execution_count": 24,
   "metadata": {},
   "outputs": [
    {
     "name": "stdout",
     "output_type": "stream",
     "text": [
      "  1/375 [..............................] - ETA: 2s"
     ]
    },
    {
     "name": "stdout",
     "output_type": "stream",
     "text": [
      "375/375 [==============================] - 0s 232us/step\n"
     ]
    },
    {
     "data": {
      "text/plain": [
       "array([9, 5, 6, ..., 3, 5, 0])"
      ]
     },
     "execution_count": 24,
     "metadata": {},
     "output_type": "execute_result"
    }
   ],
   "source": [
    "np.argmax(model2.predict(X_val), axis=1)"
   ]
  },
  {
   "cell_type": "code",
   "execution_count": 25,
   "metadata": {},
   "outputs": [],
   "source": [
    "from sklearn.metrics import accuracy_score"
   ]
  },
  {
   "cell_type": "code",
   "execution_count": 26,
   "metadata": {},
   "outputs": [
    {
     "name": "stdout",
     "output_type": "stream",
     "text": [
      "  1/375 [..............................] - ETA: 2s"
     ]
    },
    {
     "name": "stdout",
     "output_type": "stream",
     "text": [
      "375/375 [==============================] - 0s 263us/step\n"
     ]
    },
    {
     "data": {
      "text/plain": [
       "98.94"
      ]
     },
     "execution_count": 26,
     "metadata": {},
     "output_type": "execute_result"
    }
   ],
   "source": [
    "np.round(100*accuracy_score(y_val, np.argmax(model2.predict(X_val), axis=1)),2)"
   ]
  },
  {
   "cell_type": "markdown",
   "metadata": {},
   "source": [
    "--------------------------\n",
    "\n",
    "This notebook was written for the Erd&#337;s Institute C&#337;de Data Science Boot Camp by Matthew Osborne, Ph. D., 2023.\n",
    "\n",
    "Any potential redistributors must seek and receive permission from Matthew Tyler Osborne, Ph.D. prior to redistribution. Redistribution of the material contained in this repository is conditional on acknowledgement of Matthew Tyler Osborne, Ph.D.'s original authorship and sponsorship of the Erdős Institute as subject to the license (see License.md)"
   ]
  }
 ],
 "metadata": {
  "kernelspec": {
   "display_name": "Python 3 (ipykernel)",
   "language": "python",
   "name": "python3"
  },
  "language_info": {
   "codemirror_mode": {
    "name": "ipython",
    "version": 3
   },
   "file_extension": ".py",
   "mimetype": "text/x-python",
   "name": "python",
   "nbconvert_exporter": "python",
   "pygments_lexer": "ipython3",
   "version": "3.11.6"
  }
 },
 "nbformat": 4,
 "nbformat_minor": 2
}
