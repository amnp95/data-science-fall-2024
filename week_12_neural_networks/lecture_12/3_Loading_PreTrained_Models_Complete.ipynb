{
 "cells": [
  {
   "cell_type": "markdown",
   "id": "1fa7277b",
   "metadata": {},
   "source": [
    "# Loading Pre-Trained Models\n",
    "\n",
    "Real world neural net models can take a long long long time to train. It is thus standard to save these models once they are fit and then load the fitted model at a later time.\n",
    "\n",
    "## What we will accomplish\n",
    "\n",
    "In this notebook we will:\n",
    "- Cover how to load a saved neural network model."
   ]
  },
  {
   "cell_type": "code",
   "execution_count": 1,
   "id": "932035cc",
   "metadata": {},
   "outputs": [],
   "source": [
    "## For data handling\n",
    "import pandas as pd\n",
    "import numpy as np\n",
    "\n",
    "## For plotting\n",
    "import matplotlib.pyplot as plt\n",
    "from seaborn import set_style\n",
    "\n",
    "## This sets the plot style\n",
    "## to have a grid on a white background\n",
    "set_style(\"whitegrid\")"
   ]
  },
  {
   "cell_type": "markdown",
   "id": "38e170d9",
   "metadata": {},
   "source": [
    "## `keras` and `load_model`\n",
    "\n",
    "In the previous notebook we trained a recurrent neural network (RNN) to predict the sentiment of an IMDB movie review. This model did not take a long time to train, but many real-world models take a very long time to train. For example, the popular `Word2Vec` word embedding network took about a day to train.\n",
    "\n",
    "Such models are saved when the training step is complete and then they are reloaded anytime you want to use them.\n",
    "\n",
    "In `keras` a saved model can be loaded with `load_model`. Let's demonstrate this with the IMDB data set."
   ]
  },
  {
   "cell_type": "code",
   "execution_count": 2,
   "id": "521a35c6",
   "metadata": {},
   "outputs": [],
   "source": [
    "## The data is stored in here\n",
    "from keras.datasets import imdb"
   ]
  },
  {
   "cell_type": "code",
   "execution_count": 3,
   "id": "df6bc80c",
   "metadata": {},
   "outputs": [],
   "source": [
    "## This will determine the number of vocab words in our\n",
    "## dictionary\n",
    "max_features = 10000\n",
    "\n",
    "## num_words tells keras to return the reviews so they contain only\n",
    "## the num_words most used words across all the reviews\n",
    "(X_train, y_train), (X_test,y_test) = imdb.load_data(num_words=max_features)"
   ]
  },
  {
   "cell_type": "code",
   "execution_count": 4,
   "id": "63f15ddc",
   "metadata": {},
   "outputs": [],
   "source": [
    "## Repeat proprocessing\n",
    "\n",
    "from tensorflow import convert_to_tensor\n",
    "from tensorflow import ragged\n",
    "\n",
    "X_train = ragged.constant(X_train)\n",
    "X_test = ragged.constant(X_test)\n",
    "y_train = convert_to_tensor(y_train)\n",
    "y_test = convert_to_tensor(y_test)"
   ]
  },
  {
   "cell_type": "code",
   "execution_count": 5,
   "id": "6f88c502",
   "metadata": {},
   "outputs": [],
   "source": [
    "## import load_model from keras.models\n",
    "from keras.models import load_model"
   ]
  },
  {
   "cell_type": "markdown",
   "id": "41f1fb30",
   "metadata": {},
   "source": [
    "To load a saved model we just have to call `load_model` with the file name."
   ]
  },
  {
   "cell_type": "code",
   "execution_count": 6,
   "id": "9b55f4ab",
   "metadata": {},
   "outputs": [],
   "source": [
    "## call load_model(filename)\n",
    "model = load_model(\"lecture_12_assets/imdb_model.keras\")"
   ]
  },
  {
   "cell_type": "markdown",
   "id": "1adeb938",
   "metadata": {},
   "source": [
    "Now the trained model is loaded and we can use it to make predictions."
   ]
  },
  {
   "cell_type": "code",
   "execution_count": 7,
   "id": "09a1f6e8",
   "metadata": {},
   "outputs": [
    {
     "name": "stdout",
     "output_type": "stream",
     "text": [
      "1/1 [==============================] - 0s 113ms/step\n",
      "Our model gives a predicted probability of 0.960 that the review is positive.  The review was actually positive.\n"
     ]
    }
   ],
   "source": [
    "# Try 201 and 203\n",
    "i = 203\n",
    "pred = model.predict(X_test[i].numpy().reshape(1,-1)) # expects batch number as first dimension. \n",
    "sentiment_dict = {0: 'negative', 1: 'positive'}\n",
    "print(f\"Our model gives a predicted probability of {pred[0,0]:.3f} that the review is positive.  The review was actually {sentiment_dict[y_test[i].numpy()]}.\")"
   ]
  },
  {
   "cell_type": "markdown",
   "id": "a317026d",
   "metadata": {},
   "source": [
    "Or we can look at the weights of the trained model."
   ]
  },
  {
   "cell_type": "code",
   "execution_count": 8,
   "id": "767676f9",
   "metadata": {},
   "outputs": [
    {
     "data": {
      "text/plain": [
       "[array([[-0.03976046, -0.02848091,  0.02668479, ..., -0.02728151,\n",
       "          0.00105972, -0.02858806],\n",
       "        [-0.05117956, -0.02818468, -0.02936818, ...,  0.00535762,\n",
       "          0.00151695,  0.06735536],\n",
       "        [ 0.01038444, -0.01665455, -0.02133368, ...,  0.04104419,\n",
       "         -0.00464055, -0.0472269 ],\n",
       "        ...,\n",
       "        [-0.01434781, -0.02707363,  0.03904135, ...,  0.03067141,\n",
       "         -0.06776933, -0.0061716 ],\n",
       "        [-0.02604153, -0.05120435, -0.02992282, ...,  0.01372847,\n",
       "         -0.01060359, -0.03212849],\n",
       "        [ 0.055772  ,  0.06763042,  0.02562532, ...,  0.01537808,\n",
       "          0.03874879,  0.06284118]], dtype=float32),\n",
       " array([[-0.35900033,  0.44091022, -0.09795043, -0.200366  , -0.18697213,\n",
       "         -0.11109796, -0.06105753, -0.03400449,  0.14881717, -0.16648121],\n",
       "        [ 0.01996594, -0.39348966,  0.32608235,  0.449763  ,  0.31363678,\n",
       "         -0.25633755,  0.39915523, -0.08399084, -0.00102134, -0.00296516],\n",
       "        [-0.2492945 , -0.16214891,  0.3929758 , -0.11129162, -0.22165929,\n",
       "         -0.24193566,  0.27823672, -0.25497016, -0.36807355,  0.18589492],\n",
       "        [ 0.26368406,  0.24462241,  0.1957581 , -0.48042202, -0.21686488,\n",
       "         -0.06680895, -0.4631557 , -0.29003537, -0.09711506,  0.31020743],\n",
       "        [-0.01185723,  0.17297487,  0.15262552,  0.16879438, -0.13819991,\n",
       "         -0.09791837,  0.37055263,  0.13523518, -0.32251564, -0.14094184],\n",
       "        [ 0.27144885, -0.3048216 ,  0.18692505,  0.3110342 ,  0.34974277,\n",
       "         -0.27325335, -0.05911672,  0.38458735,  0.2376828 ,  0.09866986],\n",
       "        [-0.19981185,  0.44422033,  0.00986682, -0.15929985,  0.04860295,\n",
       "          0.35343704, -0.34353662, -0.3750816 , -0.10705303, -0.20905301],\n",
       "        [ 0.30032274, -0.3515075 , -0.16584596,  0.05288661,  0.10432281,\n",
       "          0.04343146, -0.08504594, -0.35055882, -0.38825336, -0.21718721],\n",
       "        [ 0.44304097, -0.03641907,  0.10854784, -0.39811888, -0.07916473,\n",
       "          0.4238415 , -0.22402634, -0.1842056 ,  0.17900981,  0.25714627],\n",
       "        [ 0.17449117, -0.22816218, -0.04096767,  0.31284985,  0.04270734,\n",
       "          0.33322388,  0.2717216 ,  0.10329464,  0.0690203 ,  0.06769144],\n",
       "        [ 0.27455422, -0.1655477 , -0.21403353,  0.5020611 ,  0.33034623,\n",
       "          0.20152587,  0.33482364,  0.23973033,  0.23281057, -0.38804394],\n",
       "        [-0.48122486,  0.26567754,  0.01372641,  0.33668837, -0.1908401 ,\n",
       "         -0.18752246,  0.24946444,  0.3304097 , -0.13191377, -0.36623192],\n",
       "        [-0.2914258 ,  0.36315975,  0.23715259, -0.35523546,  0.49822563,\n",
       "          0.2845786 ,  0.09550885,  0.28261983,  0.37565488,  0.05258633],\n",
       "        [ 0.0274857 , -0.07132246, -0.35964593,  0.02605488,  0.26943627,\n",
       "          0.20187446,  0.11447644, -0.30447057,  0.19793825,  0.35876936],\n",
       "        [-0.18404678,  0.05350287,  0.47500733, -0.01718454,  0.33289093,\n",
       "          0.16687702, -0.15911663,  0.02895354, -0.26005867,  0.20046155],\n",
       "        [-0.23693724, -0.13552837, -0.34238234,  0.37058118, -0.08619922,\n",
       "          0.17935352, -0.2982697 , -0.34010553, -0.21719913,  0.20464376],\n",
       "        [ 0.24394597, -0.00310242, -0.3599943 , -0.36504734, -0.2238014 ,\n",
       "          0.29499176,  0.15470266, -0.17992483, -0.16048808, -0.12297589],\n",
       "        [-0.34698373,  0.15012205,  0.26376924, -0.46474788, -0.28081018,\n",
       "          0.38840786,  0.06972627, -0.29959399, -0.19789007,  0.14462394],\n",
       "        [ 0.0904912 ,  0.14705905, -0.5284029 ,  0.4186861 , -0.1408063 ,\n",
       "         -0.4425811 ,  0.3928788 , -0.20333436, -0.09125988,  0.2101357 ],\n",
       "        [-0.1308934 , -0.0964289 , -0.04314685, -0.4735701 ,  0.17907347,\n",
       "         -0.06878658, -0.21151674,  0.05057899, -0.30172428,  0.11301968],\n",
       "        [-0.1651986 ,  0.22793339, -0.01642465,  0.41919404,  0.01979009,\n",
       "         -0.2582988 ,  0.40409148,  0.132231  ,  0.08756009,  0.06151311],\n",
       "        [-0.28148767, -0.29741785, -0.02857623, -0.34811094, -0.40613267,\n",
       "          0.40962937, -0.05750556, -0.44505036,  0.04179784,  0.12279352],\n",
       "        [-0.19234747, -0.01385428, -0.01692282, -0.13937372, -0.42003208,\n",
       "         -0.06643383,  0.0482807 , -0.23025554, -0.27131775, -0.07859477],\n",
       "        [-0.16884457,  0.03843402,  0.1628621 ,  0.02086919, -0.2438231 ,\n",
       "         -0.23311381,  0.40589216,  0.38493976, -0.00828958, -0.08926336],\n",
       "        [-0.3970795 , -0.31509724,  0.30765572,  0.3361641 ,  0.24837193,\n",
       "         -0.2872649 , -0.20844416,  0.21380076,  0.45320505, -0.37712663],\n",
       "        [-0.0633887 , -0.04264586,  0.43972865,  0.39329305, -0.38669616,\n",
       "         -0.31010053,  0.20704189,  0.28456387, -0.1254209 ,  0.08135398],\n",
       "        [-0.02993982, -0.25226298, -0.17916243,  0.30450806,  0.37957877,\n",
       "          0.36145198, -0.0764322 ,  0.27151856, -0.15554003, -0.01143893],\n",
       "        [ 0.15806095, -0.19910403, -0.25467664,  0.39664996,  0.15014485,\n",
       "         -0.36360282, -0.26404634,  0.27002892,  0.3112471 , -0.1479655 ],\n",
       "        [-0.26403373, -0.23007025,  0.15826942, -0.1307514 , -0.2570515 ,\n",
       "         -0.2908049 ,  0.16892324,  0.41731262, -0.00984785,  0.2908366 ],\n",
       "        [ 0.2355354 ,  0.24541456, -0.14858595,  0.13542369, -0.22642288,\n",
       "          0.1969897 , -0.15943149,  0.20125388, -0.19994983, -0.1172132 ],\n",
       "        [-0.09115522, -0.18420483,  0.22426553, -0.13248613,  0.03174032,\n",
       "         -0.19406147,  0.35235876,  0.35336575,  0.1658721 ,  0.26217878],\n",
       "        [ 0.07037408,  0.20172395, -0.44903132,  0.14399628, -0.32812384,\n",
       "          0.4204984 ,  0.05041528,  0.35497263,  0.42167285, -0.22294796]],\n",
       "       dtype=float32),\n",
       " array([[-2.91103840e-01,  2.42303252e-01, -3.16718161e-01,\n",
       "          6.06741786e-01, -1.21927083e-01, -3.10265332e-01,\n",
       "          4.38680500e-01, -1.78841278e-01, -6.43765088e-03,\n",
       "          3.77997309e-01],\n",
       "        [-8.70212540e-02,  5.09855688e-01, -2.20071450e-01,\n",
       "         -3.85855168e-01,  3.56901765e-01,  2.08114814e-02,\n",
       "         -2.87309170e-01,  2.02611521e-01,  2.11023241e-01,\n",
       "          4.99033749e-01],\n",
       "        [-2.59112209e-01, -3.93909246e-01, -8.11166167e-01,\n",
       "         -1.41274825e-01,  2.96612224e-03, -5.43977767e-02,\n",
       "         -3.42262924e-01, -1.85993463e-01, -1.46630436e-01,\n",
       "          4.56875004e-03],\n",
       "        [-1.94522306e-01, -7.40101159e-01,  3.05609405e-01,\n",
       "          2.74441123e-01,  3.40833396e-01, -8.24996457e-02,\n",
       "         -5.12137488e-02,  2.33909085e-01,  3.07656527e-01,\n",
       "          3.38270128e-01],\n",
       "        [-1.50890544e-01, -3.80599350e-02,  2.45297737e-02,\n",
       "         -5.84021330e-01, -1.68046653e-01,  2.27512345e-01,\n",
       "          5.49882412e-01, -3.03751141e-01,  2.44053274e-01,\n",
       "          1.88254192e-01],\n",
       "        [-2.32432142e-01,  3.19804579e-01,  1.00514494e-01,\n",
       "          2.68581331e-01,  2.24623606e-01,  2.43454710e-01,\n",
       "         -2.60478973e-01, -4.83724892e-01,  4.34587061e-01,\n",
       "         -2.14045137e-01],\n",
       "        [ 7.37028345e-02, -4.01772261e-02, -1.39445797e-01,\n",
       "          3.50231588e-01, -4.33316380e-01,  6.19345665e-01,\n",
       "         -1.20717838e-01,  3.97003829e-01,  1.08506359e-01,\n",
       "          2.78418601e-01],\n",
       "        [-8.53334367e-01,  1.08432248e-01, -7.28197920e-04,\n",
       "          3.32656614e-02,  3.02960992e-01,  1.29163519e-01,\n",
       "          1.96202606e-01,  5.23963451e-01, -2.05159158e-01,\n",
       "         -3.73378247e-01],\n",
       "        [ 1.48023888e-01, -1.34794444e-01, -3.24377179e-01,\n",
       "          1.23151347e-01, -6.74270168e-02, -2.47403875e-01,\n",
       "          1.67408541e-01,  4.44813907e-01,  7.17055202e-01,\n",
       "         -3.96573603e-01],\n",
       "        [-5.10458648e-01,  1.14677690e-01,  2.68266708e-01,\n",
       "         -2.09222645e-01, -5.79062402e-01, -3.83223385e-01,\n",
       "         -4.05272752e-01, -7.85325542e-02,  1.01908982e-01,\n",
       "          8.37925076e-02]], dtype=float32),\n",
       " array([ 0.00024775,  0.01060293, -0.00281517, -0.00462479,  0.00334483,\n",
       "         0.00699606, -0.00345103, -0.00977077, -0.00084077,  0.00483563],\n",
       "       dtype=float32),\n",
       " array([[-0.24537252],\n",
       "        [-1.1143721 ],\n",
       "        [ 1.071619  ],\n",
       "        [ 0.93920946],\n",
       "        [ 0.9812891 ],\n",
       "        [-0.0034186 ],\n",
       "        [ 0.77523947],\n",
       "        [ 1.1795964 ],\n",
       "        [ 0.3722043 ],\n",
       "        [-0.54024744]], dtype=float32),\n",
       " array([-0.03216843], dtype=float32)]"
      ]
     },
     "execution_count": 8,
     "metadata": {},
     "output_type": "execute_result"
    }
   ],
   "source": [
    "## .get_weights()\n",
    "## returns the weights of your model\n",
    "model.get_weights()"
   ]
  },
  {
   "cell_type": "code",
   "execution_count": 9,
   "id": "81d1b6c7",
   "metadata": {},
   "outputs": [
    {
     "name": "stdout",
     "output_type": "stream",
     "text": [
      "(10000, 32)\n",
      "(32, 10)\n",
      "(10, 10)\n",
      "(10,)\n",
      "(10, 1)\n",
      "(1,)\n"
     ]
    }
   ],
   "source": [
    "for weight in model.get_weights():\n",
    "    print(weight.shape)"
   ]
  },
  {
   "cell_type": "markdown",
   "id": "1422e3ad",
   "metadata": {},
   "source": [
    "If we wanted to we could also train the model for additional epochs or perform any other kind of manipulations in which we may be interested."
   ]
  },
  {
   "cell_type": "markdown",
   "id": "c7ef56c4",
   "metadata": {},
   "source": [
    "## Model packages\n",
    "\n",
    "Sometimes pre-trained models will be important enough that they have their own separate python packages. For example, `gensim` for `Word2Vec` <a href=\"https://radimrehurek.com/gensim/auto_examples/tutorials/run_word2vec.html#sphx-glr-auto-examples-tutorials-run-word2vec-py\">https://radimrehurek.com/gensim/auto_examples/tutorials/run_word2vec.html#sphx-glr-auto-examples-tutorials-run-word2vec-py</a> and `Hugging Face` for `BERT` <a href=\"https://huggingface.co/\">https://huggingface.co/</a>."
   ]
  },
  {
   "cell_type": "markdown",
   "id": "65a444a0",
   "metadata": {},
   "source": [
    "--------------------------\n",
    "\n",
    "This notebook was written for the Erd&#337;s Institute C&#337;de Data Science Boot Camp by Matthew Osborne, Ph. D., 2023. Modified by Steven Gubkin 2024.\n",
    "\n",
    "Any potential redistributors must seek and receive permission from Matthew Tyler Osborne, Ph.D. prior to redistribution. Redistribution of the material contained in this repository is conditional on acknowledgement of Matthew Tyler Osborne, Ph.D.'s original authorship and sponsorship of the Erdős Institute as subject to the license (see License.md)"
   ]
  }
 ],
 "metadata": {
  "kernelspec": {
   "display_name": "Python 3 (ipykernel)",
   "language": "python",
   "name": "python3"
  },
  "language_info": {
   "codemirror_mode": {
    "name": "ipython",
    "version": 3
   },
   "file_extension": ".py",
   "mimetype": "text/x-python",
   "name": "python",
   "nbconvert_exporter": "python",
   "pygments_lexer": "ipython3",
   "version": "3.11.7"
  }
 },
 "nbformat": 4,
 "nbformat_minor": 5
}
