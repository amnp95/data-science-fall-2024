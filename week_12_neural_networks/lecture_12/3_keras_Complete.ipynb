{
 "cells": [
  {
   "cell_type": "markdown",
   "metadata": {},
   "source": [
    "# `keras`\n",
    "\n",
    "Let's now introduce a python package called `keras` which will provide us with greater versatility in building neural networks than `sklearn`.\n",
    "\n",
    "## What we will accomplish\n",
    "\n",
    "In this notebook we will\n",
    "- Introduce `keras`:\n",
    "    - Discuss how to install it,\n",
    "- Review its syntax and\n",
    "- Demonstrate how to build feed forward networks in `keras`."
   ]
  },
  {
   "cell_type": "code",
   "execution_count": 7,
   "metadata": {},
   "outputs": [],
   "source": [
    "## For data handling\n",
    "import pandas as pd\n",
    "import numpy as np\n",
    "\n",
    "## For plotting\n",
    "import matplotlib.pyplot as plt\n",
    "import seaborn as sns\n",
    "\n",
    "sns.set_style(\"darkgrid\")"
   ]
  },
  {
   "cell_type": "markdown",
   "metadata": {},
   "source": [
    "Moving forward we will be building our neural networks with `keras`.\n",
    "\n",
    "From their documentation:\n",
    "\n",
    "<blockquote>\n",
    "Keras is a deep learning API written in Python, running on top of the machine learning platform TensorFlow. It was developed with a focus on enabling fast experimentation. Being able to go from idea to result as fast as possible is key to doing good research.\n",
    "</blockquote>\n",
    "\n",
    "In this notebook we will lay out how to build feed forward multi-layer networks.\n",
    "\n",
    "For reference, this material is being built by looking at the `keras` documentation <a href=\"https://keras.io/about/\">https://keras.io/about/</a> and the book, <a href=\"https://github.com/letspython3x/Books/blob/master/Deep%20Learning%20with%20Python.pdf\">Deep Learning with Python</a>. In particular this notebook's content comes from chapters 3 and 4 of that text.\n",
    "\n",
    "## Installation\n",
    "\n",
    "You may not have `keras` installed on your computer at this point. Try and run the following code chunk."
   ]
  },
  {
   "cell_type": "code",
   "execution_count": 8,
   "metadata": {},
   "outputs": [
    {
     "name": "stdout",
     "output_type": "stream",
     "text": [
      "2.15.0\n"
     ]
    }
   ],
   "source": [
    "import keras\n",
    "\n",
    "# if the above did not work \n",
    "# uncomment and then try the below\n",
    "# from tensorflow import keras\n",
    "\n",
    "print(keras.__version__)"
   ]
  },
  {
   "cell_type": "markdown",
   "metadata": {},
   "source": [
    "If this ran for you, then you already have `keras` installed. For reference, the version of `keras` that I was running while writing this notebook was `2.11.0`.\n",
    "\n",
    "If you received an error while running that code chunk you likely need to install `keras` to move forward.\n",
    "\n",
    "##### Using `pip`\n",
    "\n",
    "If you use `pip` to install packages try running:\n",
    "\n",
    "`pip install keras`\n",
    "\n",
    "in your command line or terminal to install `keras`.\n",
    "\n",
    "##### Using `conda`\n",
    "\n",
    "If you use `conda` try what is recommended at this link, <a href=\"https://anaconda.org/conda-forge/keras\">https://anaconda.org/conda-forge/keras</a>.\n",
    "\n",
    "##### Apple M1 chip computers\n",
    "\n",
    "If you have an Apple computer with an M1 chip you may need extra help. Earlier in 2022 the `keras` package installation instructions did not yet play nicely with such hardware. Try performing a web search for relevant instructions.\n",
    "\n",
    "If you are unsure if you have an M1 chip, check with these instructions <a href=\"https://www.howtogeek.com/706226/how-to-check-if-your-mac-is-using-an-intel-or-apple-silicon-processor/\">https://www.howtogeek.com/706226/how-to-check-if-your-mac-is-using-an-intel-or-apple-silicon-processor/</a>."
   ]
  },
  {
   "cell_type": "markdown",
   "metadata": {},
   "source": [
    "## Building a neural net with `keras`\n",
    "\n",
    "### Classifying MNIST\n",
    "\n",
    "We will mimic our `sklearn` networks from the last notebook and build an MNIST classifier, using the `keras` version of the data."
   ]
  },
  {
   "cell_type": "code",
   "execution_count": 9,
   "metadata": {},
   "outputs": [],
   "source": [
    "## This imports datasets stored in keras\n",
    "from keras.datasets import mnist"
   ]
  },
  {
   "cell_type": "code",
   "execution_count": 10,
   "metadata": {},
   "outputs": [
    {
     "name": "stdout",
     "output_type": "stream",
     "text": [
      "og shape of X_train (60000, 28, 28)\n"
     ]
    }
   ],
   "source": [
    "## Here we load the data\n",
    "(X_train, y_train),(X_test, y_test) = mnist.load_data()\n",
    "\n",
    "print(\"og shape of X_train\", np.shape(X_train))"
   ]
  },
  {
   "cell_type": "markdown",
   "metadata": {},
   "source": [
    "##### Reshape the data to be a single column\n",
    "\n",
    "We will now reshape the data so that it has $60{,}000$ observations ($10{,}000$ for the test set) of $28\\times28$ pixels. This will give us a $60000 \\times 784$ $2$-D `numpy` array ($10000 \\times 784$ for the test set)."
   ]
  },
  {
   "cell_type": "code",
   "execution_count": 11,
   "metadata": {},
   "outputs": [
    {
     "name": "stdout",
     "output_type": "stream",
     "text": [
      "The new shape of X_train is (60000, 784)\n",
      "The new shape of X_test is (10000, 784)\n"
     ]
    }
   ],
   "source": [
    "X_train = X_train.reshape(-1,28*28)\n",
    "X_test = X_test.reshape(-1,28*28)\n",
    "\n",
    "print(\"The new shape of X_train is\", np.shape(X_train))\n",
    "print(\"The new shape of X_test is\", np.shape(X_test))\n",
    "\n",
    "X_train = X_train/255\n",
    "X_test = X_test/255"
   ]
  },
  {
   "cell_type": "markdown",
   "metadata": {},
   "source": [
    "### Building the networks\n",
    "\n",
    "We start by importing all of the necessary pieces. We will explain each piece as we need it."
   ]
  },
  {
   "cell_type": "code",
   "execution_count": 12,
   "metadata": {},
   "outputs": [],
   "source": [
    "## import things\n",
    "from keras import models\n",
    "from keras import layers\n",
    "from keras import optimizers\n",
    "from keras import losses\n",
    "from keras import metrics\n",
    "#from keras.utils.np_utils import to_categorical\n",
    "\n",
    "# for earlier versions of keras run this instead\n",
    "from keras.utils import to_categorical\n",
    "# instead of running\n",
    "# from keras.utils.np_utils import to_categorical\n",
    "# or look up the documentation for your version\n"
   ]
  },
  {
   "cell_type": "markdown",
   "metadata": {},
   "source": [
    "What we learned as feed forward networks in the last notebook are also called <i>dense</i> networks because they are fully connected graphs.\n",
    "\n",
    "We will now walk through the process of making a dense neural networks using `keras`.\n",
    "\n",
    "##### 1. Make an empty `model`"
   ]
  },
  {
   "cell_type": "code",
   "execution_count": 13,
   "metadata": {},
   "outputs": [],
   "source": [
    "## we first make an empty model\n",
    "## Sequential means we'll make a group\n",
    "## of a linear stack of layers\n",
    "model = models.Sequential()"
   ]
  },
  {
   "cell_type": "markdown",
   "metadata": {},
   "source": [
    "##### 2. Add the layers to the `model`\n",
    "\n",
    "We will build the following neural network architecture in this step.\n",
    "\n",
    "<img src=\"lecture_12_assets/mnist_net.png\" width=\"70%\"></img>"
   ]
  },
  {
   "cell_type": "code",
   "execution_count": 14,
   "metadata": {},
   "outputs": [],
   "source": [
    "###### ONLY RUN THIS ONCE! ##########\n",
    "\n",
    "## you add a layer with .add()\n",
    "## A Dense layer means a fully connected feedforward layer\n",
    "## the 16 means the layer is 16 nodes tall\n",
    "## activation='relu' means the layer uses a relu activation function\n",
    "## the first layer needs to be told the shape of the input data\n",
    "model.add(layers.Dense(16, activation = 'relu', input_shape=(28*28,)))\n",
    "\n",
    "# we then add a second layer that is 16 nodes tall\n",
    "# and uses the relu activation function\n",
    "# note we don't need the input shape here, \n",
    "# it is inferred from the first layer's output\n",
    "model.add(layers.Dense(16, activation = 'relu'))\n",
    "\n",
    "\n",
    "# finally we add the output layer\n",
    "# this will have a single node, representing a probability\n",
    "# that the observation has positive sentiment\n",
    "# this is why the activation is a softmax\n",
    "# for more information on the softmax see the Practice Problems\n",
    "model.add(layers.Dense(10, activation = 'softmax'))"
   ]
  },
  {
   "cell_type": "code",
   "execution_count": 15,
   "metadata": {},
   "outputs": [
    {
     "name": "stdout",
     "output_type": "stream",
     "text": [
      "Model: \"sequential\"\n",
      "_________________________________________________________________\n",
      " Layer (type)                Output Shape              Param #   \n",
      "=================================================================\n",
      " dense (Dense)               (None, 16)                12560     \n",
      "                                                                 \n",
      " dense_1 (Dense)             (None, 16)                272       \n",
      "                                                                 \n",
      " dense_2 (Dense)             (None, 10)                170       \n",
      "                                                                 \n",
      "=================================================================\n",
      "Total params: 13002 (50.79 KB)\n",
      "Trainable params: 13002 (50.79 KB)\n",
      "Non-trainable params: 0 (0.00 Byte)\n",
      "_________________________________________________________________\n"
     ]
    }
   ],
   "source": [
    "model.summary()"
   ]
  },
  {
   "cell_type": "markdown",
   "metadata": {},
   "source": [
    "##### 3. Compile the model with an optimizer,  loss and metric\n",
    "\n",
    "The optimizer we use is `rmsprop`, this is an algorithm implemented by `keras` to perform the backpropagation step in fitting the neural network.\n",
    "\n",
    "The loss we use is `categorical_crossentropy` which stems from information theory, this is the \"cost function\" we discussed in notebook 3. This is a common and popular choice for classification problems. See the HW notebook for an explanation of crossentropy.\n",
    "\n",
    "The metric we use is simply `accuracy`.\n",
    "\n",
    "Note that there are more options for all three of these choices and if you are interested in seeing more check out the `keras` documentation, it has an excellent search bar. There is also the possibility to use your own custom inputs as well."
   ]
  },
  {
   "cell_type": "code",
   "execution_count": 16,
   "metadata": {},
   "outputs": [],
   "source": [
    "## we compile the network like so\n",
    "## call .compile\n",
    "## set our optimizer, optimizer='rmsprop'\n",
    "## set our loss, loss='categorical_crossentropy'\n",
    "## set our desired metrics, metrics=['accuracy']\n",
    "model.compile(optimizer='rmsprop', \n",
    "                 loss='categorical_crossentropy',\n",
    "                 metrics=['accuracy'])"
   ]
  },
  {
   "cell_type": "markdown",
   "metadata": {},
   "source": [
    "##### 4. Fit the model on the training data\n",
    "\n",
    "We fit our model on the training data, we'll look at $100$ epochs that use batch gradient descent with a batch size of `512` observations per batch.\n",
    "\n",
    "We first create a validation set, this will be additional input for the model."
   ]
  },
  {
   "cell_type": "code",
   "execution_count": 17,
   "metadata": {},
   "outputs": [],
   "source": [
    "## First make the validation set\n",
    "from sklearn.model_selection import train_test_split\n",
    "\n",
    "X_train_train,X_val,y_train_train,y_val = train_test_split(X_train, y_train,\n",
    "                                                          test_size=.2,\n",
    "                                                          shuffle=True,\n",
    "                                                          stratify=y_train,\n",
    "                                                          random_state=440)"
   ]
  },
  {
   "cell_type": "markdown",
   "metadata": {},
   "source": [
    "##### `to_categorical`\n",
    "\n",
    "In order for the desired output of our model to play nicely with the training and validation data we have to first turn each observation into a categorical output with the `keras` function `to_categorical`. Let's see what this does."
   ]
  },
  {
   "cell_type": "code",
   "execution_count": 18,
   "metadata": {},
   "outputs": [
    {
     "name": "stdout",
     "output_type": "stream",
     "text": [
      "[0 7 2 ... 4 8 5]\n",
      "\n",
      "\n",
      "\n",
      "\n",
      "[[1. 0. 0. ... 0. 0. 0.]\n",
      " [0. 0. 0. ... 1. 0. 0.]\n",
      " [0. 0. 1. ... 0. 0. 0.]\n",
      " ...\n",
      " [0. 0. 0. ... 0. 0. 0.]\n",
      " [0. 0. 0. ... 0. 1. 0.]\n",
      " [0. 0. 0. ... 0. 0. 0.]]\n"
     ]
    }
   ],
   "source": [
    "print(y_train_train)\n",
    "\n",
    "print(\"\\n\\n\\n\")\n",
    "\n",
    "print(to_categorical(y_train_train))"
   ]
  },
  {
   "cell_type": "code",
   "execution_count": 19,
   "metadata": {},
   "outputs": [
    {
     "name": "stdout",
     "output_type": "stream",
     "text": [
      "Epoch 1/100\n",
      "94/94 [==============================] - 0s 2ms/step - loss: 1.3517 - accuracy: 0.5755 - val_loss: 0.7710 - val_accuracy: 0.7846\n",
      "Epoch 2/100\n",
      "94/94 [==============================] - 0s 920us/step - loss: 0.5994 - accuracy: 0.8350 - val_loss: 0.4760 - val_accuracy: 0.8721\n",
      "Epoch 3/100\n",
      "94/94 [==============================] - 0s 937us/step - loss: 0.4216 - accuracy: 0.8833 - val_loss: 0.3825 - val_accuracy: 0.8969\n",
      "Epoch 4/100\n",
      "94/94 [==============================] - 0s 925us/step - loss: 0.3450 - accuracy: 0.9035 - val_loss: 0.3322 - val_accuracy: 0.9082\n",
      "Epoch 5/100\n",
      "94/94 [==============================] - 0s 1ms/step - loss: 0.3036 - accuracy: 0.9145 - val_loss: 0.3001 - val_accuracy: 0.9163\n",
      "Epoch 6/100\n",
      "94/94 [==============================] - 0s 986us/step - loss: 0.2784 - accuracy: 0.9216 - val_loss: 0.2820 - val_accuracy: 0.9208\n",
      "Epoch 7/100\n",
      "94/94 [==============================] - 0s 943us/step - loss: 0.2622 - accuracy: 0.9250 - val_loss: 0.2715 - val_accuracy: 0.9233\n",
      "Epoch 8/100\n",
      "94/94 [==============================] - 0s 930us/step - loss: 0.2501 - accuracy: 0.9288 - val_loss: 0.2622 - val_accuracy: 0.9271\n",
      "Epoch 9/100\n",
      "94/94 [==============================] - 0s 932us/step - loss: 0.2399 - accuracy: 0.9314 - val_loss: 0.2564 - val_accuracy: 0.9279\n",
      "Epoch 10/100\n",
      "94/94 [==============================] - 0s 926us/step - loss: 0.2317 - accuracy: 0.9324 - val_loss: 0.2483 - val_accuracy: 0.9305\n",
      "Epoch 11/100\n",
      "94/94 [==============================] - 0s 931us/step - loss: 0.2243 - accuracy: 0.9360 - val_loss: 0.2467 - val_accuracy: 0.9283\n",
      "Epoch 12/100\n",
      "94/94 [==============================] - 0s 921us/step - loss: 0.2170 - accuracy: 0.9372 - val_loss: 0.2421 - val_accuracy: 0.9315\n",
      "Epoch 13/100\n",
      "94/94 [==============================] - 0s 926us/step - loss: 0.2117 - accuracy: 0.9386 - val_loss: 0.2354 - val_accuracy: 0.9335\n",
      "Epoch 14/100\n",
      "94/94 [==============================] - 0s 939us/step - loss: 0.2065 - accuracy: 0.9405 - val_loss: 0.2298 - val_accuracy: 0.9353\n",
      "Epoch 15/100\n",
      "94/94 [==============================] - 0s 1ms/step - loss: 0.2013 - accuracy: 0.9419 - val_loss: 0.2286 - val_accuracy: 0.9347\n",
      "Epoch 16/100\n",
      "94/94 [==============================] - 0s 995us/step - loss: 0.1963 - accuracy: 0.9438 - val_loss: 0.2237 - val_accuracy: 0.9367\n",
      "Epoch 17/100\n",
      "94/94 [==============================] - 0s 961us/step - loss: 0.1922 - accuracy: 0.9452 - val_loss: 0.2213 - val_accuracy: 0.9397\n",
      "Epoch 18/100\n",
      "94/94 [==============================] - 0s 974us/step - loss: 0.1886 - accuracy: 0.9456 - val_loss: 0.2203 - val_accuracy: 0.9384\n",
      "Epoch 19/100\n",
      "94/94 [==============================] - 0s 969us/step - loss: 0.1842 - accuracy: 0.9473 - val_loss: 0.2165 - val_accuracy: 0.9395\n",
      "Epoch 20/100\n",
      "94/94 [==============================] - 0s 936us/step - loss: 0.1813 - accuracy: 0.9476 - val_loss: 0.2185 - val_accuracy: 0.9377\n",
      "Epoch 21/100\n",
      "94/94 [==============================] - 0s 933us/step - loss: 0.1769 - accuracy: 0.9488 - val_loss: 0.2166 - val_accuracy: 0.9380\n",
      "Epoch 22/100\n",
      "94/94 [==============================] - 0s 945us/step - loss: 0.1738 - accuracy: 0.9491 - val_loss: 0.2167 - val_accuracy: 0.9379\n",
      "Epoch 23/100\n",
      "94/94 [==============================] - 0s 931us/step - loss: 0.1712 - accuracy: 0.9507 - val_loss: 0.2064 - val_accuracy: 0.9412\n",
      "Epoch 24/100\n",
      "94/94 [==============================] - 0s 934us/step - loss: 0.1678 - accuracy: 0.9510 - val_loss: 0.2053 - val_accuracy: 0.9416\n",
      "Epoch 25/100\n",
      "94/94 [==============================] - 0s 945us/step - loss: 0.1652 - accuracy: 0.9522 - val_loss: 0.2039 - val_accuracy: 0.9414\n",
      "Epoch 26/100\n",
      "94/94 [==============================] - 0s 934us/step - loss: 0.1619 - accuracy: 0.9529 - val_loss: 0.2037 - val_accuracy: 0.9417\n",
      "Epoch 27/100\n",
      "94/94 [==============================] - 0s 934us/step - loss: 0.1597 - accuracy: 0.9538 - val_loss: 0.2028 - val_accuracy: 0.9424\n",
      "Epoch 28/100\n",
      "94/94 [==============================] - 0s 921us/step - loss: 0.1563 - accuracy: 0.9546 - val_loss: 0.2008 - val_accuracy: 0.9434\n",
      "Epoch 29/100\n",
      "94/94 [==============================] - 0s 930us/step - loss: 0.1536 - accuracy: 0.9547 - val_loss: 0.1989 - val_accuracy: 0.9429\n",
      "Epoch 30/100\n",
      "94/94 [==============================] - 0s 942us/step - loss: 0.1514 - accuracy: 0.9565 - val_loss: 0.2011 - val_accuracy: 0.9424\n",
      "Epoch 31/100\n",
      "94/94 [==============================] - 0s 936us/step - loss: 0.1486 - accuracy: 0.9574 - val_loss: 0.2066 - val_accuracy: 0.9408\n",
      "Epoch 32/100\n",
      "94/94 [==============================] - 0s 922us/step - loss: 0.1475 - accuracy: 0.9571 - val_loss: 0.1968 - val_accuracy: 0.9455\n",
      "Epoch 33/100\n",
      "94/94 [==============================] - 0s 921us/step - loss: 0.1447 - accuracy: 0.9590 - val_loss: 0.1993 - val_accuracy: 0.9437\n",
      "Epoch 34/100\n",
      "94/94 [==============================] - 0s 927us/step - loss: 0.1428 - accuracy: 0.9588 - val_loss: 0.1945 - val_accuracy: 0.9451\n",
      "Epoch 35/100\n",
      "94/94 [==============================] - 0s 929us/step - loss: 0.1407 - accuracy: 0.9588 - val_loss: 0.1981 - val_accuracy: 0.9426\n",
      "Epoch 36/100\n",
      "94/94 [==============================] - 0s 937us/step - loss: 0.1388 - accuracy: 0.9603 - val_loss: 0.1960 - val_accuracy: 0.9427\n",
      "Epoch 37/100\n",
      "94/94 [==============================] - 0s 933us/step - loss: 0.1368 - accuracy: 0.9606 - val_loss: 0.1965 - val_accuracy: 0.9433\n",
      "Epoch 38/100\n",
      "94/94 [==============================] - 0s 946us/step - loss: 0.1347 - accuracy: 0.9610 - val_loss: 0.1903 - val_accuracy: 0.9442\n",
      "Epoch 39/100\n",
      "94/94 [==============================] - 0s 942us/step - loss: 0.1327 - accuracy: 0.9619 - val_loss: 0.1885 - val_accuracy: 0.9456\n",
      "Epoch 40/100\n",
      "94/94 [==============================] - 0s 940us/step - loss: 0.1311 - accuracy: 0.9619 - val_loss: 0.1870 - val_accuracy: 0.9461\n",
      "Epoch 41/100\n",
      "94/94 [==============================] - 0s 935us/step - loss: 0.1290 - accuracy: 0.9634 - val_loss: 0.1875 - val_accuracy: 0.9446\n",
      "Epoch 42/100\n",
      "94/94 [==============================] - 0s 935us/step - loss: 0.1272 - accuracy: 0.9629 - val_loss: 0.1851 - val_accuracy: 0.9473\n",
      "Epoch 43/100\n",
      "94/94 [==============================] - 0s 949us/step - loss: 0.1254 - accuracy: 0.9640 - val_loss: 0.1889 - val_accuracy: 0.9460\n",
      "Epoch 44/100\n",
      "94/94 [==============================] - 0s 941us/step - loss: 0.1237 - accuracy: 0.9641 - val_loss: 0.1878 - val_accuracy: 0.9476\n",
      "Epoch 45/100\n",
      "94/94 [==============================] - 0s 935us/step - loss: 0.1223 - accuracy: 0.9647 - val_loss: 0.1844 - val_accuracy: 0.9467\n",
      "Epoch 46/100\n",
      "94/94 [==============================] - 0s 949us/step - loss: 0.1209 - accuracy: 0.9651 - val_loss: 0.1851 - val_accuracy: 0.9464\n",
      "Epoch 47/100\n",
      "94/94 [==============================] - 0s 951us/step - loss: 0.1194 - accuracy: 0.9654 - val_loss: 0.1844 - val_accuracy: 0.9478\n",
      "Epoch 48/100\n",
      "94/94 [==============================] - 0s 954us/step - loss: 0.1177 - accuracy: 0.9657 - val_loss: 0.1863 - val_accuracy: 0.9456\n",
      "Epoch 49/100\n",
      "94/94 [==============================] - 0s 933us/step - loss: 0.1161 - accuracy: 0.9666 - val_loss: 0.1815 - val_accuracy: 0.9478\n",
      "Epoch 50/100\n",
      "94/94 [==============================] - 0s 940us/step - loss: 0.1157 - accuracy: 0.9662 - val_loss: 0.1813 - val_accuracy: 0.9472\n",
      "Epoch 51/100\n",
      "94/94 [==============================] - 0s 933us/step - loss: 0.1137 - accuracy: 0.9670 - val_loss: 0.1802 - val_accuracy: 0.9486\n",
      "Epoch 52/100\n",
      "94/94 [==============================] - 0s 940us/step - loss: 0.1118 - accuracy: 0.9671 - val_loss: 0.1843 - val_accuracy: 0.9487\n",
      "Epoch 53/100\n",
      "94/94 [==============================] - 0s 962us/step - loss: 0.1112 - accuracy: 0.9682 - val_loss: 0.1807 - val_accuracy: 0.9482\n",
      "Epoch 54/100\n",
      "94/94 [==============================] - 0s 943us/step - loss: 0.1106 - accuracy: 0.9680 - val_loss: 0.1806 - val_accuracy: 0.9497\n",
      "Epoch 55/100\n",
      "94/94 [==============================] - 0s 945us/step - loss: 0.1093 - accuracy: 0.9682 - val_loss: 0.1793 - val_accuracy: 0.9487\n",
      "Epoch 56/100\n",
      "94/94 [==============================] - 0s 948us/step - loss: 0.1079 - accuracy: 0.9687 - val_loss: 0.1797 - val_accuracy: 0.9487\n",
      "Epoch 57/100\n",
      "94/94 [==============================] - 0s 975us/step - loss: 0.1065 - accuracy: 0.9689 - val_loss: 0.1805 - val_accuracy: 0.9504\n",
      "Epoch 58/100\n",
      "94/94 [==============================] - 0s 966us/step - loss: 0.1061 - accuracy: 0.9696 - val_loss: 0.1810 - val_accuracy: 0.9512\n",
      "Epoch 59/100\n",
      "94/94 [==============================] - 0s 942us/step - loss: 0.1045 - accuracy: 0.9706 - val_loss: 0.1795 - val_accuracy: 0.9489\n",
      "Epoch 60/100\n",
      "94/94 [==============================] - 0s 953us/step - loss: 0.1038 - accuracy: 0.9698 - val_loss: 0.1811 - val_accuracy: 0.9493\n",
      "Epoch 61/100\n",
      "94/94 [==============================] - 0s 958us/step - loss: 0.1022 - accuracy: 0.9706 - val_loss: 0.1809 - val_accuracy: 0.9505\n",
      "Epoch 62/100\n",
      "94/94 [==============================] - 0s 942us/step - loss: 0.1018 - accuracy: 0.9703 - val_loss: 0.1850 - val_accuracy: 0.9481\n",
      "Epoch 63/100\n",
      "94/94 [==============================] - 0s 946us/step - loss: 0.1009 - accuracy: 0.9711 - val_loss: 0.1824 - val_accuracy: 0.9498\n",
      "Epoch 64/100\n",
      "94/94 [==============================] - 0s 1ms/step - loss: 0.0997 - accuracy: 0.9707 - val_loss: 0.1823 - val_accuracy: 0.9498\n",
      "Epoch 65/100\n",
      "94/94 [==============================] - 0s 981us/step - loss: 0.0988 - accuracy: 0.9709 - val_loss: 0.1806 - val_accuracy: 0.9503\n",
      "Epoch 66/100\n",
      "94/94 [==============================] - 0s 977us/step - loss: 0.0979 - accuracy: 0.9719 - val_loss: 0.1817 - val_accuracy: 0.9503\n",
      "Epoch 67/100\n",
      "94/94 [==============================] - 0s 961us/step - loss: 0.0973 - accuracy: 0.9720 - val_loss: 0.1801 - val_accuracy: 0.9494\n",
      "Epoch 68/100\n",
      "94/94 [==============================] - 0s 932us/step - loss: 0.0963 - accuracy: 0.9721 - val_loss: 0.1814 - val_accuracy: 0.9497\n",
      "Epoch 69/100\n",
      "94/94 [==============================] - 0s 941us/step - loss: 0.0953 - accuracy: 0.9729 - val_loss: 0.1793 - val_accuracy: 0.9516\n",
      "Epoch 70/100\n",
      "94/94 [==============================] - 0s 939us/step - loss: 0.0946 - accuracy: 0.9725 - val_loss: 0.1830 - val_accuracy: 0.9502\n",
      "Epoch 71/100\n",
      "94/94 [==============================] - 0s 929us/step - loss: 0.0934 - accuracy: 0.9731 - val_loss: 0.1824 - val_accuracy: 0.9514\n",
      "Epoch 72/100\n",
      "94/94 [==============================] - 0s 936us/step - loss: 0.0932 - accuracy: 0.9732 - val_loss: 0.1942 - val_accuracy: 0.9457\n",
      "Epoch 73/100\n",
      "94/94 [==============================] - 0s 931us/step - loss: 0.0926 - accuracy: 0.9731 - val_loss: 0.1810 - val_accuracy: 0.9497\n",
      "Epoch 74/100\n",
      "94/94 [==============================] - 0s 937us/step - loss: 0.0916 - accuracy: 0.9731 - val_loss: 0.1829 - val_accuracy: 0.9512\n",
      "Epoch 75/100\n",
      "94/94 [==============================] - 0s 952us/step - loss: 0.0908 - accuracy: 0.9739 - val_loss: 0.1791 - val_accuracy: 0.9523\n",
      "Epoch 76/100\n",
      "94/94 [==============================] - 0s 943us/step - loss: 0.0903 - accuracy: 0.9739 - val_loss: 0.1818 - val_accuracy: 0.9505\n",
      "Epoch 77/100\n",
      "94/94 [==============================] - 0s 932us/step - loss: 0.0895 - accuracy: 0.9740 - val_loss: 0.1811 - val_accuracy: 0.9518\n",
      "Epoch 78/100\n",
      "94/94 [==============================] - 0s 945us/step - loss: 0.0889 - accuracy: 0.9741 - val_loss: 0.1814 - val_accuracy: 0.9506\n",
      "Epoch 79/100\n",
      "94/94 [==============================] - 0s 951us/step - loss: 0.0881 - accuracy: 0.9749 - val_loss: 0.1855 - val_accuracy: 0.9507\n",
      "Epoch 80/100\n",
      "94/94 [==============================] - 0s 937us/step - loss: 0.0872 - accuracy: 0.9752 - val_loss: 0.1815 - val_accuracy: 0.9511\n",
      "Epoch 81/100\n",
      "94/94 [==============================] - 0s 938us/step - loss: 0.0870 - accuracy: 0.9742 - val_loss: 0.1852 - val_accuracy: 0.9499\n",
      "Epoch 82/100\n",
      "94/94 [==============================] - 0s 933us/step - loss: 0.0861 - accuracy: 0.9752 - val_loss: 0.1823 - val_accuracy: 0.9524\n",
      "Epoch 83/100\n",
      "94/94 [==============================] - 0s 939us/step - loss: 0.0852 - accuracy: 0.9754 - val_loss: 0.1835 - val_accuracy: 0.9513\n",
      "Epoch 84/100\n",
      "94/94 [==============================] - 0s 933us/step - loss: 0.0850 - accuracy: 0.9755 - val_loss: 0.1829 - val_accuracy: 0.9512\n",
      "Epoch 85/100\n",
      "94/94 [==============================] - 0s 928us/step - loss: 0.0843 - accuracy: 0.9757 - val_loss: 0.1843 - val_accuracy: 0.9508\n",
      "Epoch 86/100\n",
      "94/94 [==============================] - 0s 953us/step - loss: 0.0835 - accuracy: 0.9759 - val_loss: 0.1864 - val_accuracy: 0.9514\n",
      "Epoch 87/100\n",
      "94/94 [==============================] - 0s 950us/step - loss: 0.0831 - accuracy: 0.9759 - val_loss: 0.1866 - val_accuracy: 0.9511\n",
      "Epoch 88/100\n",
      "94/94 [==============================] - 0s 946us/step - loss: 0.0823 - accuracy: 0.9765 - val_loss: 0.1857 - val_accuracy: 0.9516\n",
      "Epoch 89/100\n",
      "94/94 [==============================] - 0s 935us/step - loss: 0.0818 - accuracy: 0.9767 - val_loss: 0.1902 - val_accuracy: 0.9510\n",
      "Epoch 90/100\n",
      "94/94 [==============================] - 0s 944us/step - loss: 0.0809 - accuracy: 0.9768 - val_loss: 0.1876 - val_accuracy: 0.9515\n",
      "Epoch 91/100\n",
      "94/94 [==============================] - 0s 953us/step - loss: 0.0808 - accuracy: 0.9766 - val_loss: 0.1859 - val_accuracy: 0.9523\n",
      "Epoch 92/100\n",
      "94/94 [==============================] - 0s 950us/step - loss: 0.0800 - accuracy: 0.9765 - val_loss: 0.1852 - val_accuracy: 0.9525\n",
      "Epoch 93/100\n",
      "94/94 [==============================] - 0s 938us/step - loss: 0.0797 - accuracy: 0.9768 - val_loss: 0.1891 - val_accuracy: 0.9507\n",
      "Epoch 94/100\n",
      "94/94 [==============================] - 0s 940us/step - loss: 0.0793 - accuracy: 0.9771 - val_loss: 0.1870 - val_accuracy: 0.9528\n",
      "Epoch 95/100\n",
      "94/94 [==============================] - 0s 949us/step - loss: 0.0790 - accuracy: 0.9771 - val_loss: 0.1923 - val_accuracy: 0.9491\n",
      "Epoch 96/100\n",
      "94/94 [==============================] - 0s 990us/step - loss: 0.0781 - accuracy: 0.9770 - val_loss: 0.1868 - val_accuracy: 0.9523\n",
      "Epoch 97/100\n",
      "94/94 [==============================] - 0s 999us/step - loss: 0.0775 - accuracy: 0.9780 - val_loss: 0.1874 - val_accuracy: 0.9520\n",
      "Epoch 98/100\n",
      "94/94 [==============================] - 0s 928us/step - loss: 0.0772 - accuracy: 0.9774 - val_loss: 0.1887 - val_accuracy: 0.9517\n",
      "Epoch 99/100\n",
      "94/94 [==============================] - 0s 941us/step - loss: 0.0763 - accuracy: 0.9780 - val_loss: 0.1926 - val_accuracy: 0.9521\n",
      "Epoch 100/100\n",
      "94/94 [==============================] - 0s 978us/step - loss: 0.0762 - accuracy: 0.9779 - val_loss: 0.1900 - val_accuracy: 0.9506\n"
     ]
    }
   ],
   "source": [
    "## I now fit the model, and store the training history\n",
    "## I use 100 epochs and a batch_size of 512\n",
    "n_epochs = 100\n",
    "batch_size = 512\n",
    "\n",
    "\n",
    "\n",
    "history = model.fit(X_train_train, to_categorical(y_train_train),\n",
    "                       epochs = n_epochs,\n",
    "                       batch_size = batch_size,\n",
    "                       validation_data = (X_val, to_categorical(y_val)))"
   ]
  },
  {
   "cell_type": "markdown",
   "metadata": {},
   "source": [
    "##### 5. Examine epoch history loss and accuracy\n",
    "\n",
    "The data stored in `history` includes a dictionary with epoch information on both the training and validation losses and accuracies."
   ]
  },
  {
   "cell_type": "code",
   "execution_count": 20,
   "metadata": {},
   "outputs": [],
   "source": [
    "history_dict = history.history"
   ]
  },
  {
   "cell_type": "code",
   "execution_count": 21,
   "metadata": {},
   "outputs": [
    {
     "name": "stdout",
     "output_type": "stream",
     "text": [
      "dict_keys(['loss', 'accuracy', 'val_loss', 'val_accuracy'])\n"
     ]
    }
   ],
   "source": [
    "print(history_dict.keys())"
   ]
  },
  {
   "cell_type": "code",
   "execution_count": 22,
   "metadata": {},
   "outputs": [
    {
     "data": {
      "image/png": "[encoded data removed]",
      "text/plain": [
       "<Figure size 800x600 with 1 Axes>"
      ]
     },
     "metadata": {},
     "output_type": "display_data"
    },
    {
     "data": {
      "image/png": "[encoded data removed]",
      "text/plain": [
       "<Figure size 800x600 with 1 Axes>"
      ]
     },
     "metadata": {},
     "output_type": "display_data"
    }
   ],
   "source": [
    "plt.figure(figsize = (8,6))\n",
    "\n",
    "plt.scatter(range(1,n_epochs+1), history_dict['accuracy'], label = \"Training Accuracy\")\n",
    "plt.scatter(range(1,n_epochs+1), history_dict['val_accuracy'], marker='v', label = \"Validation Set Accuracy\")\n",
    "\n",
    "plt.xlabel(\"Epoch\", fontsize=12)\n",
    "plt.ylabel(\"Accuracy\", fontsize=12)\n",
    "\n",
    "plt.xticks(fontsize=10)\n",
    "plt.yticks(fontsize=10)\n",
    "\n",
    "plt.legend(fontsize=12)\n",
    "\n",
    "plt.show()\n",
    "\n",
    "\n",
    "plt.figure(figsize = (8,6))\n",
    "\n",
    "plt.scatter(range(1,n_epochs+1), history_dict['loss'], label = \"Training Loss\")\n",
    "plt.scatter(range(1,n_epochs+1), history_dict['val_loss'], marker='v', label = \"Validation Set Loss\")\n",
    "\n",
    "plt.xlabel(\"Epoch\", fontsize=12)\n",
    "plt.ylabel(\"Loss Function Value\", fontsize=12)\n",
    "\n",
    "plt.xticks(fontsize=10)\n",
    "plt.yticks(fontsize=10)\n",
    "\n",
    "plt.legend(fontsize=12)\n",
    "\n",
    "plt.show()"
   ]
  },
  {
   "cell_type": "markdown",
   "metadata": {},
   "source": [
    "##### 6. Tuning the model architecture\n",
    "\n",
    "Looking at data like this can allow us to choose a training period, i.e. the number of epochs, for a neural network as well as compare performance across two different networks. Let's try a comparison to a second network."
   ]
  },
  {
   "cell_type": "code",
   "execution_count": 23,
   "metadata": {
    "scrolled": true
   },
   "outputs": [
    {
     "name": "stdout",
     "output_type": "stream",
     "text": [
      "Epoch 1/100\n",
      "94/94 [==============================] - 0s 2ms/step - loss: 0.8519 - accuracy: 0.7742 - val_loss: 0.4296 - val_accuracy: 0.8864\n",
      "Epoch 2/100\n",
      "94/94 [==============================] - 0s 1ms/step - loss: 0.3618 - accuracy: 0.8999 - val_loss: 0.3200 - val_accuracy: 0.9132\n",
      "Epoch 3/100\n",
      "94/94 [==============================] - 0s 1ms/step - loss: 0.2915 - accuracy: 0.9157 - val_loss: 0.2835 - val_accuracy: 0.9212\n",
      "Epoch 4/100\n",
      "94/94 [==============================] - 0s 1ms/step - loss: 0.2561 - accuracy: 0.9260 - val_loss: 0.2566 - val_accuracy: 0.9274\n",
      "Epoch 5/100\n",
      "94/94 [==============================] - 0s 1ms/step - loss: 0.2283 - accuracy: 0.9348 - val_loss: 0.2405 - val_accuracy: 0.9342\n",
      "Epoch 6/100\n",
      "94/94 [==============================] - 0s 1ms/step - loss: 0.2074 - accuracy: 0.9410 - val_loss: 0.2318 - val_accuracy: 0.9358\n",
      "Epoch 7/100\n",
      "94/94 [==============================] - 0s 1ms/step - loss: 0.1900 - accuracy: 0.9460 - val_loss: 0.2073 - val_accuracy: 0.9426\n",
      "Epoch 8/100\n",
      "94/94 [==============================] - 0s 1ms/step - loss: 0.1754 - accuracy: 0.9493 - val_loss: 0.1996 - val_accuracy: 0.9460\n",
      "Epoch 9/100\n",
      "94/94 [==============================] - 0s 1ms/step - loss: 0.1629 - accuracy: 0.9542 - val_loss: 0.1881 - val_accuracy: 0.9492\n",
      "Epoch 10/100\n",
      "94/94 [==============================] - 0s 1ms/step - loss: 0.1530 - accuracy: 0.9567 - val_loss: 0.1835 - val_accuracy: 0.9486\n",
      "Epoch 11/100\n",
      "94/94 [==============================] - 0s 1ms/step - loss: 0.1444 - accuracy: 0.9593 - val_loss: 0.1771 - val_accuracy: 0.9505\n",
      "Epoch 12/100\n",
      "94/94 [==============================] - 0s 1ms/step - loss: 0.1364 - accuracy: 0.9605 - val_loss: 0.1699 - val_accuracy: 0.9511\n",
      "Epoch 13/100\n",
      "94/94 [==============================] - 0s 1ms/step - loss: 0.1291 - accuracy: 0.9634 - val_loss: 0.1627 - val_accuracy: 0.9547\n",
      "Epoch 14/100\n",
      "94/94 [==============================] - 0s 2ms/step - loss: 0.1227 - accuracy: 0.9647 - val_loss: 0.1624 - val_accuracy: 0.9553\n",
      "Epoch 15/100\n",
      "94/94 [==============================] - 0s 1ms/step - loss: 0.1165 - accuracy: 0.9662 - val_loss: 0.1594 - val_accuracy: 0.9544\n",
      "Epoch 16/100\n",
      "94/94 [==============================] - 0s 1ms/step - loss: 0.1116 - accuracy: 0.9682 - val_loss: 0.1633 - val_accuracy: 0.9553\n",
      "Epoch 17/100\n",
      "94/94 [==============================] - 0s 1ms/step - loss: 0.1072 - accuracy: 0.9696 - val_loss: 0.1543 - val_accuracy: 0.9560\n",
      "Epoch 18/100\n",
      "94/94 [==============================] - 0s 2ms/step - loss: 0.1033 - accuracy: 0.9701 - val_loss: 0.1525 - val_accuracy: 0.9587\n",
      "Epoch 19/100\n",
      "94/94 [==============================] - 0s 1ms/step - loss: 0.0991 - accuracy: 0.9715 - val_loss: 0.1545 - val_accuracy: 0.9575\n",
      "Epoch 20/100\n",
      "94/94 [==============================] - 0s 1ms/step - loss: 0.0954 - accuracy: 0.9728 - val_loss: 0.1479 - val_accuracy: 0.9582\n",
      "Epoch 21/100\n",
      "94/94 [==============================] - 0s 1ms/step - loss: 0.0918 - accuracy: 0.9737 - val_loss: 0.1464 - val_accuracy: 0.9603\n",
      "Epoch 22/100\n",
      "94/94 [==============================] - 0s 1ms/step - loss: 0.0887 - accuracy: 0.9740 - val_loss: 0.1452 - val_accuracy: 0.9603\n",
      "Epoch 23/100\n",
      "94/94 [==============================] - 0s 1ms/step - loss: 0.0858 - accuracy: 0.9753 - val_loss: 0.1463 - val_accuracy: 0.9593\n",
      "Epoch 24/100\n",
      "94/94 [==============================] - 0s 1ms/step - loss: 0.0831 - accuracy: 0.9760 - val_loss: 0.1416 - val_accuracy: 0.9609\n",
      "Epoch 25/100\n",
      "94/94 [==============================] - 0s 1ms/step - loss: 0.0799 - accuracy: 0.9771 - val_loss: 0.1429 - val_accuracy: 0.9604\n",
      "Epoch 26/100\n",
      "94/94 [==============================] - 0s 1ms/step - loss: 0.0776 - accuracy: 0.9771 - val_loss: 0.1417 - val_accuracy: 0.9613\n",
      "Epoch 27/100\n",
      "94/94 [==============================] - 0s 1ms/step - loss: 0.0746 - accuracy: 0.9783 - val_loss: 0.1417 - val_accuracy: 0.9601\n",
      "Epoch 28/100\n",
      "94/94 [==============================] - 0s 1ms/step - loss: 0.0726 - accuracy: 0.9790 - val_loss: 0.1357 - val_accuracy: 0.9619\n",
      "Epoch 29/100\n",
      "94/94 [==============================] - 0s 2ms/step - loss: 0.0699 - accuracy: 0.9798 - val_loss: 0.1397 - val_accuracy: 0.9608\n",
      "Epoch 30/100\n",
      "94/94 [==============================] - 0s 1ms/step - loss: 0.0683 - accuracy: 0.9801 - val_loss: 0.1444 - val_accuracy: 0.9597\n",
      "Epoch 31/100\n",
      "94/94 [==============================] - 0s 1ms/step - loss: 0.0653 - accuracy: 0.9812 - val_loss: 0.1459 - val_accuracy: 0.9601\n",
      "Epoch 32/100\n",
      "94/94 [==============================] - 0s 1ms/step - loss: 0.0639 - accuracy: 0.9815 - val_loss: 0.1382 - val_accuracy: 0.9619\n",
      "Epoch 33/100\n",
      "94/94 [==============================] - 0s 1ms/step - loss: 0.0614 - accuracy: 0.9815 - val_loss: 0.1369 - val_accuracy: 0.9632\n",
      "Epoch 34/100\n",
      "94/94 [==============================] - 0s 1ms/step - loss: 0.0599 - accuracy: 0.9822 - val_loss: 0.1418 - val_accuracy: 0.9613\n",
      "Epoch 35/100\n",
      "94/94 [==============================] - 0s 1ms/step - loss: 0.0575 - accuracy: 0.9837 - val_loss: 0.1436 - val_accuracy: 0.9621\n",
      "Epoch 36/100\n",
      "94/94 [==============================] - 0s 2ms/step - loss: 0.0558 - accuracy: 0.9843 - val_loss: 0.1373 - val_accuracy: 0.9617\n",
      "Epoch 37/100\n",
      "94/94 [==============================] - 0s 1ms/step - loss: 0.0547 - accuracy: 0.9842 - val_loss: 0.1360 - val_accuracy: 0.9635\n",
      "Epoch 38/100\n",
      "94/94 [==============================] - 0s 1ms/step - loss: 0.0522 - accuracy: 0.9850 - val_loss: 0.1464 - val_accuracy: 0.9612\n",
      "Epoch 39/100\n",
      "94/94 [==============================] - 0s 1ms/step - loss: 0.0504 - accuracy: 0.9863 - val_loss: 0.1520 - val_accuracy: 0.9605\n",
      "Epoch 40/100\n",
      "94/94 [==============================] - 0s 1ms/step - loss: 0.0489 - accuracy: 0.9861 - val_loss: 0.1415 - val_accuracy: 0.9634\n",
      "Epoch 41/100\n",
      "94/94 [==============================] - 0s 1ms/step - loss: 0.0479 - accuracy: 0.9859 - val_loss: 0.1386 - val_accuracy: 0.9637\n",
      "Epoch 42/100\n",
      "94/94 [==============================] - 0s 1ms/step - loss: 0.0463 - accuracy: 0.9872 - val_loss: 0.1395 - val_accuracy: 0.9633\n",
      "Epoch 43/100\n",
      "94/94 [==============================] - 0s 1ms/step - loss: 0.0442 - accuracy: 0.9876 - val_loss: 0.1414 - val_accuracy: 0.9638\n",
      "Epoch 44/100\n",
      "94/94 [==============================] - 0s 1ms/step - loss: 0.0436 - accuracy: 0.9876 - val_loss: 0.1464 - val_accuracy: 0.9625\n",
      "Epoch 45/100\n",
      "94/94 [==============================] - 0s 1ms/step - loss: 0.0429 - accuracy: 0.9879 - val_loss: 0.1374 - val_accuracy: 0.9647\n",
      "Epoch 46/100\n",
      "94/94 [==============================] - 0s 1ms/step - loss: 0.0404 - accuracy: 0.9889 - val_loss: 0.1445 - val_accuracy: 0.9638\n",
      "Epoch 47/100\n",
      "94/94 [==============================] - 0s 1ms/step - loss: 0.0393 - accuracy: 0.9892 - val_loss: 0.1431 - val_accuracy: 0.9640\n",
      "Epoch 48/100\n",
      "94/94 [==============================] - 0s 1ms/step - loss: 0.0387 - accuracy: 0.9893 - val_loss: 0.1434 - val_accuracy: 0.9640\n",
      "Epoch 49/100\n",
      "94/94 [==============================] - 0s 1ms/step - loss: 0.0378 - accuracy: 0.9895 - val_loss: 0.1447 - val_accuracy: 0.9630\n",
      "Epoch 50/100\n",
      "94/94 [==============================] - 0s 1ms/step - loss: 0.0359 - accuracy: 0.9901 - val_loss: 0.1445 - val_accuracy: 0.9635\n",
      "Epoch 51/100\n",
      "94/94 [==============================] - 0s 1ms/step - loss: 0.0352 - accuracy: 0.9897 - val_loss: 0.1451 - val_accuracy: 0.9643\n",
      "Epoch 52/100\n",
      "94/94 [==============================] - 0s 1ms/step - loss: 0.0342 - accuracy: 0.9904 - val_loss: 0.1465 - val_accuracy: 0.9640\n",
      "Epoch 53/100\n",
      "94/94 [==============================] - 0s 1ms/step - loss: 0.0329 - accuracy: 0.9909 - val_loss: 0.1495 - val_accuracy: 0.9639\n",
      "Epoch 54/100\n",
      "94/94 [==============================] - 0s 1ms/step - loss: 0.0316 - accuracy: 0.9914 - val_loss: 0.1474 - val_accuracy: 0.9635\n",
      "Epoch 55/100\n",
      "94/94 [==============================] - 0s 1ms/step - loss: 0.0310 - accuracy: 0.9917 - val_loss: 0.1545 - val_accuracy: 0.9630\n",
      "Epoch 56/100\n",
      "94/94 [==============================] - 0s 1ms/step - loss: 0.0299 - accuracy: 0.9920 - val_loss: 0.1618 - val_accuracy: 0.9603\n",
      "Epoch 57/100\n",
      "94/94 [==============================] - 0s 1ms/step - loss: 0.0298 - accuracy: 0.9916 - val_loss: 0.1513 - val_accuracy: 0.9638\n",
      "Epoch 58/100\n",
      "94/94 [==============================] - 0s 1ms/step - loss: 0.0283 - accuracy: 0.9927 - val_loss: 0.1497 - val_accuracy: 0.9649\n",
      "Epoch 59/100\n",
      "94/94 [==============================] - 0s 1ms/step - loss: 0.0273 - accuracy: 0.9928 - val_loss: 0.1509 - val_accuracy: 0.9650\n",
      "Epoch 60/100\n",
      "94/94 [==============================] - 0s 1ms/step - loss: 0.0273 - accuracy: 0.9925 - val_loss: 0.1566 - val_accuracy: 0.9640\n",
      "Epoch 61/100\n",
      "94/94 [==============================] - 0s 1ms/step - loss: 0.0254 - accuracy: 0.9935 - val_loss: 0.1540 - val_accuracy: 0.9636\n",
      "Epoch 62/100\n",
      "94/94 [==============================] - 0s 1ms/step - loss: 0.0249 - accuracy: 0.9936 - val_loss: 0.1663 - val_accuracy: 0.9628\n",
      "Epoch 63/100\n",
      "94/94 [==============================] - 0s 1ms/step - loss: 0.0246 - accuracy: 0.9938 - val_loss: 0.1554 - val_accuracy: 0.9639\n",
      "Epoch 64/100\n",
      "94/94 [==============================] - 0s 1ms/step - loss: 0.0237 - accuracy: 0.9935 - val_loss: 0.1533 - val_accuracy: 0.9656\n",
      "Epoch 65/100\n",
      "94/94 [==============================] - 0s 1ms/step - loss: 0.0225 - accuracy: 0.9940 - val_loss: 0.1580 - val_accuracy: 0.9649\n",
      "Epoch 66/100\n",
      "94/94 [==============================] - 0s 1ms/step - loss: 0.0212 - accuracy: 0.9949 - val_loss: 0.1666 - val_accuracy: 0.9639\n",
      "Epoch 67/100\n",
      "94/94 [==============================] - 0s 1ms/step - loss: 0.0209 - accuracy: 0.9950 - val_loss: 0.1654 - val_accuracy: 0.9644\n",
      "Epoch 68/100\n",
      "94/94 [==============================] - 0s 1ms/step - loss: 0.0209 - accuracy: 0.9945 - val_loss: 0.1655 - val_accuracy: 0.9639\n",
      "Epoch 69/100\n",
      "94/94 [==============================] - 0s 1ms/step - loss: 0.0201 - accuracy: 0.9948 - val_loss: 0.1751 - val_accuracy: 0.9622\n",
      "Epoch 70/100\n",
      "94/94 [==============================] - 0s 1ms/step - loss: 0.0191 - accuracy: 0.9950 - val_loss: 0.1632 - val_accuracy: 0.9653\n",
      "Epoch 71/100\n",
      "94/94 [==============================] - 0s 1ms/step - loss: 0.0188 - accuracy: 0.9954 - val_loss: 0.1635 - val_accuracy: 0.9665\n",
      "Epoch 72/100\n",
      "94/94 [==============================] - 0s 1ms/step - loss: 0.0185 - accuracy: 0.9953 - val_loss: 0.1629 - val_accuracy: 0.9653\n",
      "Epoch 73/100\n",
      "94/94 [==============================] - 0s 1ms/step - loss: 0.0175 - accuracy: 0.9957 - val_loss: 0.1656 - val_accuracy: 0.9659\n",
      "Epoch 74/100\n",
      "94/94 [==============================] - 0s 1ms/step - loss: 0.0170 - accuracy: 0.9956 - val_loss: 0.1679 - val_accuracy: 0.9657\n",
      "Epoch 75/100\n",
      "94/94 [==============================] - 0s 1ms/step - loss: 0.0159 - accuracy: 0.9962 - val_loss: 0.1703 - val_accuracy: 0.9646\n",
      "Epoch 76/100\n",
      "94/94 [==============================] - 0s 1ms/step - loss: 0.0156 - accuracy: 0.9959 - val_loss: 0.1735 - val_accuracy: 0.9648\n",
      "Epoch 77/100\n",
      "94/94 [==============================] - 0s 1ms/step - loss: 0.0152 - accuracy: 0.9963 - val_loss: 0.1752 - val_accuracy: 0.9641\n",
      "Epoch 78/100\n",
      "94/94 [==============================] - 0s 1ms/step - loss: 0.0150 - accuracy: 0.9963 - val_loss: 0.1738 - val_accuracy: 0.9644\n",
      "Epoch 79/100\n",
      "94/94 [==============================] - 0s 1ms/step - loss: 0.0139 - accuracy: 0.9969 - val_loss: 0.1855 - val_accuracy: 0.9631\n",
      "Epoch 80/100\n",
      "94/94 [==============================] - 0s 1ms/step - loss: 0.0141 - accuracy: 0.9964 - val_loss: 0.1768 - val_accuracy: 0.9643\n",
      "Epoch 81/100\n",
      "94/94 [==============================] - 0s 1ms/step - loss: 0.0130 - accuracy: 0.9971 - val_loss: 0.1854 - val_accuracy: 0.9628\n",
      "Epoch 82/100\n",
      "94/94 [==============================] - 0s 1ms/step - loss: 0.0137 - accuracy: 0.9966 - val_loss: 0.1800 - val_accuracy: 0.9652\n",
      "Epoch 83/100\n",
      "94/94 [==============================] - 0s 1ms/step - loss: 0.0123 - accuracy: 0.9973 - val_loss: 0.1860 - val_accuracy: 0.9622\n",
      "Epoch 84/100\n",
      "94/94 [==============================] - 0s 1ms/step - loss: 0.0122 - accuracy: 0.9974 - val_loss: 0.1831 - val_accuracy: 0.9648\n",
      "Epoch 85/100\n",
      "94/94 [==============================] - 0s 1ms/step - loss: 0.0115 - accuracy: 0.9974 - val_loss: 0.1923 - val_accuracy: 0.9630\n",
      "Epoch 86/100\n",
      "94/94 [==============================] - 0s 1ms/step - loss: 0.0110 - accuracy: 0.9976 - val_loss: 0.1842 - val_accuracy: 0.9652\n",
      "Epoch 87/100\n",
      "94/94 [==============================] - 0s 1ms/step - loss: 0.0106 - accuracy: 0.9977 - val_loss: 0.1939 - val_accuracy: 0.9617\n",
      "Epoch 88/100\n",
      "94/94 [==============================] - 0s 1ms/step - loss: 0.0103 - accuracy: 0.9978 - val_loss: 0.1887 - val_accuracy: 0.9654\n",
      "Epoch 89/100\n",
      "94/94 [==============================] - 0s 1ms/step - loss: 0.0103 - accuracy: 0.9976 - val_loss: 0.1973 - val_accuracy: 0.9634\n",
      "Epoch 90/100\n",
      "94/94 [==============================] - 0s 1ms/step - loss: 0.0093 - accuracy: 0.9981 - val_loss: 0.1969 - val_accuracy: 0.9637\n",
      "Epoch 91/100\n",
      "94/94 [==============================] - 0s 1ms/step - loss: 0.0092 - accuracy: 0.9982 - val_loss: 0.2012 - val_accuracy: 0.9644\n",
      "Epoch 92/100\n",
      "94/94 [==============================] - 0s 1ms/step - loss: 0.0088 - accuracy: 0.9981 - val_loss: 0.2028 - val_accuracy: 0.9654\n",
      "Epoch 93/100\n",
      "94/94 [==============================] - 0s 1ms/step - loss: 0.0088 - accuracy: 0.9980 - val_loss: 0.1993 - val_accuracy: 0.9647\n",
      "Epoch 94/100\n",
      "94/94 [==============================] - 0s 1ms/step - loss: 0.0083 - accuracy: 0.9984 - val_loss: 0.1981 - val_accuracy: 0.9657\n",
      "Epoch 95/100\n",
      "94/94 [==============================] - 0s 1ms/step - loss: 0.0077 - accuracy: 0.9986 - val_loss: 0.2042 - val_accuracy: 0.9642\n",
      "Epoch 96/100\n",
      "94/94 [==============================] - 0s 1ms/step - loss: 0.0077 - accuracy: 0.9983 - val_loss: 0.2068 - val_accuracy: 0.9646\n",
      "Epoch 97/100\n",
      "94/94 [==============================] - 0s 1ms/step - loss: 0.0070 - accuracy: 0.9986 - val_loss: 0.2107 - val_accuracy: 0.9628\n",
      "Epoch 98/100\n",
      "94/94 [==============================] - 0s 1ms/step - loss: 0.0066 - accuracy: 0.9988 - val_loss: 0.2251 - val_accuracy: 0.9626\n",
      "Epoch 99/100\n",
      "94/94 [==============================] - 0s 1ms/step - loss: 0.0070 - accuracy: 0.9985 - val_loss: 0.2107 - val_accuracy: 0.9643\n",
      "Epoch 100/100\n",
      "94/94 [==============================] - 0s 1ms/step - loss: 0.0065 - accuracy: 0.9988 - val_loss: 0.2105 - val_accuracy: 0.9640\n"
     ]
    }
   ],
   "source": [
    "model2 = models.Sequential()\n",
    "\n",
    "model2.add(layers.Dense(32, activation='relu', input_shape=(28*28,)))\n",
    "model2.add(layers.Dense(32, activation='relu'))\n",
    "model2.add(layers.Dense(10, activation='softmax'))\n",
    "\n",
    "model2.compile(optimizer = 'rmsprop',\n",
    "                 loss = 'categorical_crossentropy',\n",
    "                 metrics = ['accuracy'])\n",
    "\n",
    "history2 = model2.fit(X_train_train,\n",
    "                       to_categorical(y_train_train),\n",
    "                       epochs = n_epochs,\n",
    "                       batch_size = batch_size,\n",
    "                       validation_data = (X_val, to_categorical(y_val)))\n",
    "\n",
    "history_dict2 = history2.history"
   ]
  },
  {
   "cell_type": "code",
   "execution_count": 24,
   "metadata": {},
   "outputs": [
    {
     "data": {
      "image/png": "[encoded data removed]",
      "text/plain": [
       "<Figure size 800x600 with 1 Axes>"
      ]
     },
     "metadata": {},
     "output_type": "display_data"
    },
    {
     "data": {
      "image/png": "[encoded data removed]",
      "text/plain": [
       "<Figure size 800x600 with 1 Axes>"
      ]
     },
     "metadata": {},
     "output_type": "display_data"
    }
   ],
   "source": [
    "plt.figure(figsize = (8,6))\n",
    "\n",
    "plt.scatter(range(1,n_epochs+1), history_dict['val_accuracy'], label = \"Neural Net 1 Val. Accuracy\")\n",
    "plt.scatter(range(1,n_epochs+1), history_dict2['val_accuracy'], marker='v', label = \"Neural Net 2 Val. Accuracy\")\n",
    "\n",
    "plt.xlabel(\"Epoch\", fontsize=12)\n",
    "plt.ylabel(\"Accuracy\", fontsize=12)\n",
    "\n",
    "plt.xticks(fontsize=10)\n",
    "plt.yticks(fontsize=10)\n",
    "\n",
    "plt.legend(fontsize=12)\n",
    "\n",
    "plt.show()\n",
    "\n",
    "plt.figure(figsize = (8,6))\n",
    "\n",
    "plt.scatter(range(1,n_epochs+1), history_dict['val_loss'], label = \"Neural Net 1 Val. Loss\")\n",
    "plt.scatter(range(1,n_epochs+1), history_dict2['val_loss'], marker='v', label = \"Neural Net 2 Val. Loss\")\n",
    "\n",
    "plt.xlabel(\"Epoch\", fontsize=12)\n",
    "plt.ylabel(\"Loss\", fontsize=12)\n",
    "\n",
    "plt.xticks(fontsize=10)\n",
    "plt.yticks(fontsize=10)\n",
    "\n",
    "plt.legend(fontsize=12)\n",
    "\n",
    "plt.show()"
   ]
  },
  {
   "cell_type": "markdown",
   "metadata": {},
   "source": [
    "##### 7. Selecting an architecture\n",
    "\n",
    "It looks like the 32 x 32 network edges out the 16 x 16. Let's find the epoch that resulted in the lowest validation loss and use that for our final model."
   ]
  },
  {
   "cell_type": "code",
   "execution_count": 25,
   "metadata": {},
   "outputs": [
    {
     "name": "stdout",
     "output_type": "stream",
     "text": [
      "The epoch that had the lowest model 2 validation loss was 28\n"
     ]
    }
   ],
   "source": [
    "print(\"The epoch that had the lowest model 2 validation loss was\",\n",
    "     range(1,n_epochs+1)[np.argmin(history_dict2['val_loss'])])"
   ]
  },
  {
   "cell_type": "code",
   "execution_count": 26,
   "metadata": {},
   "outputs": [],
   "source": [
    "del model2"
   ]
  },
  {
   "cell_type": "code",
   "execution_count": 27,
   "metadata": {
    "scrolled": true
   },
   "outputs": [
    {
     "name": "stdout",
     "output_type": "stream",
     "text": [
      "Epoch 1/28\n",
      "118/118 [==============================] - 0s 2ms/step - loss: 0.7452 - accuracy: 0.8002 - val_loss: 0.3652 - val_accuracy: 0.8989\n",
      "Epoch 2/28\n",
      "118/118 [==============================] - 0s 1ms/step - loss: 0.3163 - accuracy: 0.9099 - val_loss: 0.2925 - val_accuracy: 0.9118\n",
      "Epoch 3/28\n",
      "118/118 [==============================] - 0s 1ms/step - loss: 0.2573 - accuracy: 0.9266 - val_loss: 0.2473 - val_accuracy: 0.9281\n",
      "Epoch 4/28\n",
      "118/118 [==============================] - 0s 1ms/step - loss: 0.2226 - accuracy: 0.9369 - val_loss: 0.2091 - val_accuracy: 0.9412\n",
      "Epoch 5/28\n",
      "118/118 [==============================] - 0s 1ms/step - loss: 0.1973 - accuracy: 0.9428 - val_loss: 0.1891 - val_accuracy: 0.9467\n",
      "Epoch 6/28\n",
      "118/118 [==============================] - 0s 1ms/step - loss: 0.1767 - accuracy: 0.9494 - val_loss: 0.1910 - val_accuracy: 0.9468\n",
      "Epoch 7/28\n",
      "118/118 [==============================] - 0s 1ms/step - loss: 0.1611 - accuracy: 0.9532 - val_loss: 0.1720 - val_accuracy: 0.9490\n",
      "Epoch 8/28\n",
      "118/118 [==============================] - 0s 1ms/step - loss: 0.1495 - accuracy: 0.9564 - val_loss: 0.1473 - val_accuracy: 0.9593\n",
      "Epoch 9/28\n",
      "118/118 [==============================] - 0s 1ms/step - loss: 0.1384 - accuracy: 0.9600 - val_loss: 0.1411 - val_accuracy: 0.9597\n",
      "Epoch 10/28\n",
      "118/118 [==============================] - 0s 1ms/step - loss: 0.1291 - accuracy: 0.9619 - val_loss: 0.1426 - val_accuracy: 0.9624\n",
      "Epoch 11/28\n",
      "118/118 [==============================] - 0s 1ms/step - loss: 0.1221 - accuracy: 0.9641 - val_loss: 0.1261 - val_accuracy: 0.9627\n",
      "Epoch 12/28\n",
      "118/118 [==============================] - 0s 1ms/step - loss: 0.1145 - accuracy: 0.9664 - val_loss: 0.1200 - val_accuracy: 0.9644\n",
      "Epoch 13/28\n",
      "118/118 [==============================] - 0s 1ms/step - loss: 0.1084 - accuracy: 0.9683 - val_loss: 0.1093 - val_accuracy: 0.9703\n",
      "Epoch 14/28\n",
      "118/118 [==============================] - 0s 1ms/step - loss: 0.1035 - accuracy: 0.9695 - val_loss: 0.1186 - val_accuracy: 0.9656\n",
      "Epoch 15/28\n",
      "118/118 [==============================] - 0s 1ms/step - loss: 0.0985 - accuracy: 0.9713 - val_loss: 0.1187 - val_accuracy: 0.9639\n",
      "Epoch 16/28\n",
      "118/118 [==============================] - 0s 1ms/step - loss: 0.0945 - accuracy: 0.9724 - val_loss: 0.1095 - val_accuracy: 0.9662\n",
      "Epoch 17/28\n",
      "118/118 [==============================] - 0s 1ms/step - loss: 0.0898 - accuracy: 0.9736 - val_loss: 0.0894 - val_accuracy: 0.9752\n",
      "Epoch 18/28\n",
      "118/118 [==============================] - 0s 1ms/step - loss: 0.0861 - accuracy: 0.9742 - val_loss: 0.0819 - val_accuracy: 0.9762\n",
      "Epoch 19/28\n",
      "118/118 [==============================] - 0s 1ms/step - loss: 0.0830 - accuracy: 0.9752 - val_loss: 0.0811 - val_accuracy: 0.9766\n",
      "Epoch 20/28\n",
      "118/118 [==============================] - 0s 1ms/step - loss: 0.0794 - accuracy: 0.9763 - val_loss: 0.0860 - val_accuracy: 0.9761\n",
      "Epoch 21/28\n",
      "118/118 [==============================] - 0s 1ms/step - loss: 0.0765 - accuracy: 0.9771 - val_loss: 0.0764 - val_accuracy: 0.9774\n",
      "Epoch 22/28\n",
      "118/118 [==============================] - 0s 1ms/step - loss: 0.0735 - accuracy: 0.9774 - val_loss: 0.0849 - val_accuracy: 0.9763\n",
      "Epoch 23/28\n",
      "118/118 [==============================] - 0s 1ms/step - loss: 0.0709 - accuracy: 0.9791 - val_loss: 0.0720 - val_accuracy: 0.9794\n",
      "Epoch 24/28\n",
      "118/118 [==============================] - 0s 1ms/step - loss: 0.0684 - accuracy: 0.9795 - val_loss: 0.0734 - val_accuracy: 0.9795\n",
      "Epoch 25/28\n",
      "118/118 [==============================] - 0s 1ms/step - loss: 0.0662 - accuracy: 0.9801 - val_loss: 0.0626 - val_accuracy: 0.9836\n",
      "Epoch 26/28\n",
      "118/118 [==============================] - 0s 1ms/step - loss: 0.0645 - accuracy: 0.9810 - val_loss: 0.0673 - val_accuracy: 0.9810\n",
      "Epoch 27/28\n",
      "118/118 [==============================] - 0s 1ms/step - loss: 0.0614 - accuracy: 0.9816 - val_loss: 0.0645 - val_accuracy: 0.9820\n",
      "Epoch 28/28\n",
      "118/118 [==============================] - 0s 1ms/step - loss: 0.0598 - accuracy: 0.9819 - val_loss: 0.0584 - val_accuracy: 0.9836\n"
     ]
    }
   ],
   "source": [
    "model2 = models.Sequential()\n",
    "\n",
    "model2.add(layers.Dense(32, activation='relu', input_shape=(28*28,)))\n",
    "model2.add(layers.Dense(32, activation='relu'))\n",
    "model2.add(layers.Dense(10, activation='softmax'))\n",
    "\n",
    "model2.compile(optimizer = 'rmsprop',\n",
    "                 loss = 'categorical_crossentropy',\n",
    "                 metrics = ['accuracy'])\n",
    "\n",
    "history2 = model2.fit(X_train,\n",
    "                       to_categorical(y_train),\n",
    "                       epochs = range(1,n_epochs+1)[np.argmin(history_dict2['val_loss'])],\n",
    "                       batch_size = 512,\n",
    "                       validation_data = (X_val, to_categorical(y_val)))\n",
    "\n",
    "history_dict2 = history2.history"
   ]
  },
  {
   "cell_type": "markdown",
   "metadata": {},
   "source": [
    "#### 8. Predicting on the validation set\n",
    "\n",
    "Let's now use this model to predict on the validation set. This is quite similar to the procedure you would follow in the `sklearn` setup."
   ]
  },
  {
   "cell_type": "code",
   "execution_count": 28,
   "metadata": {},
   "outputs": [
    {
     "name": "stdout",
     "output_type": "stream",
     "text": [
      "375/375 [==============================] - 0s 333us/step\n"
     ]
    },
    {
     "data": {
      "text/plain": [
       "array([4.0669648e-11, 6.5049790e-08, 3.0181853e-12, 2.1313194e-06,\n",
       "       6.1825973e-05, 8.5889148e-08, 3.1424757e-13, 2.0332034e-06,\n",
       "       7.2487251e-07, 9.9993312e-01], dtype=float32)"
      ]
     },
     "execution_count": 28,
     "metadata": {},
     "output_type": "execute_result"
    }
   ],
   "source": [
    "model2.predict(X_val)[0,:]"
   ]
  },
  {
   "cell_type": "code",
   "execution_count": 29,
   "metadata": {},
   "outputs": [
    {
     "data": {
      "text/plain": [
       "9"
      ]
     },
     "execution_count": 29,
     "metadata": {},
     "output_type": "execute_result"
    }
   ],
   "source": [
    "y_val[0]"
   ]
  },
  {
   "cell_type": "markdown",
   "metadata": {},
   "source": [
    "Note that this produces a set of probabilities for each observation. For our prediction of an actual observation we can just choose the one with highest probability."
   ]
  },
  {
   "cell_type": "code",
   "execution_count": 30,
   "metadata": {},
   "outputs": [
    {
     "name": "stdout",
     "output_type": "stream",
     "text": [
      "  1/375 [..............................] - ETA: 3s"
     ]
    },
    {
     "name": "stdout",
     "output_type": "stream",
     "text": [
      "375/375 [==============================] - 0s 329us/step\n"
     ]
    },
    {
     "data": {
      "text/plain": [
       "array([9, 5, 6, ..., 3, 5, 0])"
      ]
     },
     "execution_count": 30,
     "metadata": {},
     "output_type": "execute_result"
    }
   ],
   "source": [
    "np.argmax(model2.predict(X_val), axis=1)"
   ]
  },
  {
   "cell_type": "code",
   "execution_count": 31,
   "metadata": {},
   "outputs": [],
   "source": [
    "from sklearn.metrics import accuracy_score"
   ]
  },
  {
   "cell_type": "code",
   "execution_count": 32,
   "metadata": {},
   "outputs": [
    {
     "name": "stdout",
     "output_type": "stream",
     "text": [
      "  1/375 [..............................] - ETA: 2s"
     ]
    },
    {
     "name": "stdout",
     "output_type": "stream",
     "text": [
      "375/375 [==============================] - 0s 268us/step\n"
     ]
    },
    {
     "data": {
      "text/plain": [
       "98.36"
      ]
     },
     "execution_count": 32,
     "metadata": {},
     "output_type": "execute_result"
    }
   ],
   "source": [
    "np.round(100*accuracy_score(y_val, np.argmax(model2.predict(X_val), axis=1)),2)"
   ]
  },
  {
   "cell_type": "markdown",
   "metadata": {},
   "source": [
    "--------------------------\n",
    "\n",
    "This notebook was written for the Erd&#337;s Institute C&#337;de Data Science Boot Camp by Matthew Osborne, Ph. D., 2023.\n",
    "\n",
    "Any potential redistributors must seek and receive permission from Matthew Tyler Osborne, Ph.D. prior to redistribution. Redistribution of the material contained in this repository is conditional on acknowledgement of Matthew Tyler Osborne, Ph.D.'s original authorship and sponsorship of the Erdős Institute as subject to the license (see License.md)"
   ]
  }
 ],
 "metadata": {
  "kernelspec": {
   "display_name": "Python 3 (ipykernel)",
   "language": "python",
   "name": "python3"
  },
  "language_info": {
   "codemirror_mode": {
    "name": "ipython",
    "version": 3
   },
   "file_extension": ".py",
   "mimetype": "text/x-python",
   "name": "python",
   "nbconvert_exporter": "python",
   "pygments_lexer": "ipython3",
   "version": "3.11.7"
  }
 },
 "nbformat": 4,
 "nbformat_minor": 2
}
