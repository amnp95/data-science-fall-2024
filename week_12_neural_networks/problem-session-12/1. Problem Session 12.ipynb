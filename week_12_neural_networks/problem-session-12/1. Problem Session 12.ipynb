{
 "cells": [
  {
   "cell_type": "markdown",
   "id": "64f29b2f",
   "metadata": {},
   "source": [
    "# Problem Session 11\n",
    "## A Pumpkin Seeds Neural Network\n",
    "\n",
    "This notebook will serve as an introduction to our neural network content. In particular, this material will touch on the following lecture notebooks:\n",
    "- `Lectures/Neural Networks/1. Perceptrons`,\n",
    "- `Lectures/Neural Networks/2. The MNIST Data Set`,\n",
    "- `Lectures/Neural Networks/3. Multilayer Neural Networks` and\n",
    "- `Lectures/Neural Networks/4. keras`.\n",
    "\n",
    "Note that while you may be completing this problem session prior to the live neural networks lecture, the goal is to make this notebook as understandable as possible."
   ]
  },
  {
   "cell_type": "code",
   "execution_count": null,
   "id": "4b50b5ac",
   "metadata": {},
   "outputs": [],
   "source": [
    "import pandas as pd\n",
    "import numpy as np\n",
    "import matplotlib.pyplot as plt\n",
    "import seaborn as sns"
   ]
  },
  {
   "cell_type": "markdown",
   "id": "32e05441",
   "metadata": {},
   "source": [
    "##### 1. `keras` check\n",
    "\n",
    "In order to run some of the code in this notebook you will need to have `keras` properly installed. `keras` is the python package that we will use to build neural networks in this boot camp. \n",
    "\n",
    "##### a. \n",
    "\n",
    "Try and run the following to check that you have keras installed."
   ]
  },
  {
   "cell_type": "code",
   "execution_count": null,
   "id": "f31152f7",
   "metadata": {},
   "outputs": [],
   "source": [
    "## Try this first\n",
    "import keras\n",
    "\n",
    "## If that does not work, try this\n",
    "# from tensorflow import keras"
   ]
  },
  {
   "cell_type": "code",
   "execution_count": null,
   "id": "1aec99b4",
   "metadata": {},
   "outputs": [],
   "source": [
    "## When I wrote this notebook I had version 2.11\n",
    "print(keras.__version__)"
   ]
  },
  {
   "cell_type": "markdown",
   "id": "15a72450",
   "metadata": {},
   "source": [
    "If you do not have `keras` installed, you can try:\n",
    "- Running `pip install keras` in your command prompt/terminal,\n",
    "- Running `conda install keras` in your command prompt/terminal,\n",
    "- Following the directions on the Erd&#337;s Institute website for installing with Anaconda Navigator, or\n",
    "- Following the installation directions at <a href=\"https://keras.io/getting_started/\">https://keras.io/getting_started/</a>.\n",
    "\n",
    "Note that individuals using an Apple computer with M1 or M2 chips may need to set up a new conda environment with `keras` as an initial install."
   ]
  },
  {
   "cell_type": "markdown",
   "id": "3bcab888",
   "metadata": {},
   "source": [
    "#### 2. Load the data\n",
    "\n",
    "In this notebook you will work to build neural network models to make predictions on the pumpkin seed data featured in the previous three notebooks. \n",
    "\n",
    "##### a.\n",
    "\n",
    "Load and prepare that data using the code below."
   ]
  },
  {
   "cell_type": "code",
   "execution_count": null,
   "id": "053f96eb",
   "metadata": {},
   "outputs": [],
   "source": [
    "seeds = pd.read_excel(\"../../data/Pumpkin_Seeds_Dataset.xlsx\")\n",
    "\n",
    "seeds['y'] = 0\n",
    "\n",
    "seeds.loc[seeds.Class=='Ürgüp Sivrisi', 'y']=1"
   ]
  },
  {
   "cell_type": "code",
   "execution_count": null,
   "id": "e0ea402b",
   "metadata": {},
   "outputs": [],
   "source": [
    "from sklearn.model_selection import train_test_split"
   ]
  },
  {
   "cell_type": "code",
   "execution_count": null,
   "id": "fdfe1e4f",
   "metadata": {},
   "outputs": [],
   "source": [
    "seeds_train, seeds_test = train_test_split(seeds.copy(),\n",
    "                                              shuffle=True,\n",
    "                                              random_state=123,\n",
    "                                              test_size=.1,\n",
    "                                              stratify=seeds.y.values)"
   ]
  },
  {
   "cell_type": "markdown",
   "id": "0c699906",
   "metadata": {},
   "source": [
    "##### b.\n",
    "\n",
    "While probably not needed for this problem, it is common to use a validation set for neural network model building instead of cross-validation. This is because neural networks can take a long time to train. To help you practice that step we will make a validation set for the pumpkin seed data."
   ]
  },
  {
   "cell_type": "code",
   "execution_count": null,
   "id": "d8af7408",
   "metadata": {},
   "outputs": [],
   "source": [
    "## code here\n",
    "\n",
    "\n"
   ]
  },
  {
   "cell_type": "markdown",
   "id": "0d47d0de",
   "metadata": {},
   "source": [
    "##### c.\n",
    "\n",
    "Neural networks are a model type where differing data scales can greatly impact performance. Fit a `StandardScaler` on the training set from the validation split. Then transform the two sets using that scaler. Store the transformed data in `X_tt` and `X_val` respectively. Then also store the labels in `y_tt` and `y_val`."
   ]
  },
  {
   "cell_type": "code",
   "execution_count": null,
   "id": "a03687ed",
   "metadata": {},
   "outputs": [],
   "source": [
    "## code here\n",
    "\n"
   ]
  },
  {
   "cell_type": "code",
   "execution_count": null,
   "id": "5bda7a6c",
   "metadata": {},
   "outputs": [],
   "source": [
    "## code here\n",
    "\n"
   ]
  },
  {
   "cell_type": "markdown",
   "id": "4fefa9ec",
   "metadata": {},
   "source": [
    "##### 3. An `sklearn` neural network\n",
    "\n",
    "In this problem you'll first use `sklearn`'s `MLPClassifier` model which is `sklearn`'s neural network classifier.\n",
    "\n",
    "##### a. \n",
    "\n",
    "Import the `MLPClassifier` from `sklearn.neural_network`, <a href=\"https://scikit-learn.org/stable/modules/generated/sklearn.neural_network.MLPClassifier.html\">https://scikit-learn.org/stable/modules/generated/sklearn.neural_network.MLPClassifier.html</a>."
   ]
  },
  {
   "cell_type": "code",
   "execution_count": null,
   "id": "a9f3434c",
   "metadata": {},
   "outputs": [],
   "source": [
    "## code here\n",
    "\n"
   ]
  },
  {
   "cell_type": "markdown",
   "id": "984cce12",
   "metadata": {},
   "source": [
    "##### b. \n",
    "\n",
    "The `MLPClassifier` is what is known as a <i>feed forward</i> neural network.\n",
    "\n",
    "The feed forward network you will build in this part looks schematically like this:\n",
    "\n",
    "<img src=\"pumpkin_nn.png\" width=\"70%\"></img>\n",
    "\n",
    "The nodes (circles) in the \"Input Layer\" represent the 12 features for this data set. Each node corresponds to one of the unique features. \n",
    "\n",
    "The hidden layers are nodes in which activation functions, $\\sigma$, are applied to weighted sums of the previous layer's nodes. For example the value of the topmost node in the first hidden layer would be given by:\n",
    "$$\n",
    "\\sigma\\left( \\sum_{i=1}^{12} w_i x_i \\right),\n",
    "$$\n",
    "\n",
    "for some nonlinear function $\\sigma$ and some weights, $w_i$, that would be found through fitting. The arrows from one node to another denote these weighted sums. The output layer gives the prediction of the model.\n",
    "\n",
    "This network is said to have two hidden layers, each of which are $5$ nodes tall.\n",
    "\n",
    "To build this network set the `hidden_layer_sizes` argument to `(5,5,)` when defining the `MLPClassifier` object.\n",
    "\n",
    "Make this model and fit it with the training set from the validation split. Then find the accuracy on the validation set."
   ]
  },
  {
   "cell_type": "markdown",
   "id": "2dadc9b6",
   "metadata": {},
   "source": [
    "##### Sample Solution"
   ]
  },
  {
   "cell_type": "code",
   "execution_count": null,
   "id": "05975909",
   "metadata": {},
   "outputs": [],
   "source": [
    "## Make the model object here\n",
    "## Note you will need to increase the max_iter, 10000 should work\n",
    "mlp1 = \n",
    "\n",
    "## Fit the model object\n"
   ]
  },
  {
   "cell_type": "code",
   "execution_count": null,
   "id": "27c5f6d7",
   "metadata": {},
   "outputs": [],
   "source": [
    "from sklearn.metrics import accuracy_score"
   ]
  },
  {
   "cell_type": "code",
   "execution_count": null,
   "id": "a20b408b",
   "metadata": {},
   "outputs": [],
   "source": [
    "## calculate the validation accuracy\n"
   ]
  },
  {
   "cell_type": "markdown",
   "id": "e0f5e54e",
   "metadata": {},
   "source": [
    "##### c.\n",
    "\n",
    "One way to improve neural network performance is to add more nodes to your hidden layers or to add additional hidden layers. Try some different hidden layer structures and see how the validation accuracies compare to the initial model."
   ]
  },
  {
   "cell_type": "code",
   "execution_count": null,
   "id": "987a5701",
   "metadata": {},
   "outputs": [],
   "source": [
    "## code here\n",
    "\n"
   ]
  },
  {
   "cell_type": "code",
   "execution_count": null,
   "id": "eb5492c5",
   "metadata": {},
   "outputs": [],
   "source": [
    "## code here\n",
    "\n"
   ]
  },
  {
   "cell_type": "code",
   "execution_count": null,
   "id": "b7294e64",
   "metadata": {},
   "outputs": [],
   "source": [
    "## code here\n",
    "\n"
   ]
  },
  {
   "cell_type": "code",
   "execution_count": null,
   "id": "96db31a0",
   "metadata": {},
   "outputs": [],
   "source": [
    "## code here\n",
    "\n"
   ]
  },
  {
   "cell_type": "markdown",
   "id": "268eb455",
   "metadata": {},
   "source": [
    "#### 4. Your first `keras` neural network\n",
    "\n",
    "While `sklearn`'s neural network is relatively easy to use, it is not common for people to use `MLPClassifier` (or `MLPRegressor`) to build neural networks. Instead it is much more common for people to use a python package dedicated to the construction of neural networks. For us that package will be `keras`, <a href=\"https://keras.io/\">https://keras.io/</a>.\n",
    "\n",
    "In this problem you will build your first neural network made with `keras`.\n",
    "\n",
    "##### a.\n",
    "\n",
    "We will start by building the exact same neural network as in <i>3. b.</i>. First we will need to import all of the classes and functions used in the creation of a neural network with `keras`. Run the code chunk below to do so."
   ]
  },
  {
   "cell_type": "code",
   "execution_count": null,
   "id": "85afe06a",
   "metadata": {},
   "outputs": [],
   "source": [
    "## Import the following\n",
    "from keras import models\n",
    "from keras import layers\n",
    "from keras import optimizers\n",
    "from keras import losses\n",
    "from keras import metrics\n",
    "from keras.utils import to_categorical  # note:  this version should work with the version of keras in the erdos_sp_2024 conda env.\n",
    "\n",
    "\n",
    "### If you have a newer version of keras ###\n",
    "#from keras.utils.np_utils import to_categorical"
   ]
  },
  {
   "cell_type": "markdown",
   "id": "a6297671",
   "metadata": {},
   "source": [
    "##### b.\n",
    "\n",
    "Together we will build this `keras` neural network step by step. The first step is to make an empty `Sequential` model. This can be created with `models.Sequential()`. Store this in a variable called `model1`."
   ]
  },
  {
   "cell_type": "code",
   "execution_count": null,
   "id": "a6229f6c",
   "metadata": {},
   "outputs": [],
   "source": [
    "## code here\n",
    "\n"
   ]
  },
  {
   "cell_type": "markdown",
   "id": "904b921a",
   "metadata": {},
   "source": [
    "##### c.\n",
    "\n",
    "Now we have to add the hidden layers to our model. The layers we will add are called `Dense` layers in `keras`. The first input to `layers.Dense()` are the number of nodes in the hidden layer. The second input is the type of activation function, the $\\sigma$ from above, for us this will be the `'relu'` activation function. The first `Dense` layer also requires an `input_shape` input, this just tells the model how large your input layer is.\n",
    "\n",
    "In the code chunk below try to add the second `Dense` layer of the hidden layer. I will provide the code for adding the first `Dense` layer."
   ]
  },
  {
   "cell_type": "code",
   "execution_count": null,
   "id": "4b8e3a9c",
   "metadata": {},
   "outputs": [],
   "source": [
    "model1.add(layers.Dense(5, activation='relu', input_shape=(X_tt.shape[1],)))\n",
    "\n",
    "\n",
    "## Add the second Dense layer here,\n",
    "## Remember first the number of nodes,\n",
    "## Then the activation function, but\n",
    "## do not include an input_shape\n"
   ]
  },
  {
   "cell_type": "code",
   "execution_count": null,
   "id": "2a0869ee",
   "metadata": {},
   "outputs": [],
   "source": [
    "## This will show you the model we have built so far\n",
    "model1.summary()"
   ]
  },
  {
   "cell_type": "markdown",
   "id": "c984caf4",
   "metadata": {},
   "source": [
    "##### d.\n",
    "\n",
    "After the hidden layers we have to put in the output layer. This is also a `Dense` layer, but there should only be $1$ node and the `activation` function should be the `'sigmoid'`. The sigmoid activation takes the weighted sum and turns it into a probability.\n",
    "\n",
    "Try adding the output layer. Then check your network with `.summary()`."
   ]
  },
  {
   "cell_type": "code",
   "execution_count": null,
   "id": "6eabecc5",
   "metadata": {},
   "outputs": [],
   "source": [
    "## code here\n",
    "\n"
   ]
  },
  {
   "cell_type": "code",
   "execution_count": null,
   "id": "01c8feff",
   "metadata": {},
   "outputs": [],
   "source": [
    "## code here\n",
    "\n"
   ]
  },
  {
   "cell_type": "markdown",
   "id": "2dbfebc9",
   "metadata": {},
   "source": [
    "##### e. \n",
    "\n",
    "Before fitting a `keras` model you have to `compile` it. Compiling tells the model how you want it to be fit:\n",
    "- What optimization algorithm to use,\n",
    "- What `loss` function you want to use, and\n",
    "- What metrics you want to keep track of.\n",
    "\n",
    "Run the code chunk below to see how you `compile` a `keras` model."
   ]
  },
  {
   "cell_type": "code",
   "execution_count": null,
   "id": "e191b9a1",
   "metadata": {},
   "outputs": [],
   "source": [
    "## Compile the network here with\n",
    "## the 'rmsprop' optimizer, the 'categorical_crossentropy' loss and\n",
    "## 'accuracy' as the only metric\n",
    "model1.compile(optimizer = 'rmsprop',\n",
    "                 loss = 'binary_crossentropy',\n",
    "                 metrics = ['accuracy'])"
   ]
  },
  {
   "cell_type": "markdown",
   "id": "4e998a54",
   "metadata": {},
   "source": [
    "##### f.\n",
    "\n",
    "Now we are ready to fit the model.\n",
    "\n",
    "Neural networks are fit using the method of gradient descent (for more information on that check out the Supervised Learning Gradient Descent lecture notebook). Gradient descent works by randomly cycling through the training observations and updating the current coefficient guesses for the weighted sums. Each time through the training set is called an <i>epoch</i>. When calling `.fit` in `keras` you have to provide the number of epochs. For this example we will use `100`. You will also see an argument called `batch_size`, this controls how many training observations are used at each update set. We will set the `batch_size` to `25`.\n",
    "\n",
    "Run the code chunk below to train the neural network you built."
   ]
  },
  {
   "cell_type": "code",
   "execution_count": null,
   "id": "9605cda4",
   "metadata": {},
   "outputs": [],
   "source": [
    "## You'll train the model for 100 epochs\n",
    "n_epochs = 100\n",
    "\n",
    "## fit the model here\n",
    "## First the X are input\n",
    "## Then the y\n",
    "## then the epochs,\n",
    "## the batch_size\n",
    "## and finally we can provide a validation set\n",
    "## keras is nice and calculates the accuracy on this as the model is trained\n",
    "history1 = model1.fit(X_tt,\n",
    "                       y_tt,\n",
    "                       epochs = n_epochs,\n",
    "                       batch_size = 25,\n",
    "                       validation_data = (X_val, \n",
    "                                          y_val))"
   ]
  },
  {
   "cell_type": "markdown",
   "id": "f060948c",
   "metadata": {},
   "source": [
    "##### g.\n",
    "\n",
    "You may have noticed that we stored the results of `.fit` in a variable called `history1`. `history1` has an attribute called `.history` which contains a dictionary of:\n",
    "- The loss function on the training set at each epoch stored with the `loss` key,\n",
    "- The accuracy on the training set at each epoch stored with the `accuracy` key,\n",
    "- The loss function on the validation set at each epoch stored with the `val_loss` key, and\n",
    "- The accuracy on the validation set at each epoch stored with the `val_accuracy` key.\n",
    "\n",
    "Try plotting the training accuracy and the validation accuracy against the epoch below. Then make a similar plot but with the loss function on both sets."
   ]
  },
  {
   "cell_type": "code",
   "execution_count": null,
   "id": "2cebb49c",
   "metadata": {},
   "outputs": [],
   "source": [
    "## Demonstrating the dictionary\n",
    "history1.history"
   ]
  },
  {
   "cell_type": "code",
   "execution_count": null,
   "id": "7e39d5ed",
   "metadata": {},
   "outputs": [],
   "source": [
    "sns.set_style(\"whitegrid\")\n"
   ]
  },
  {
   "cell_type": "code",
   "execution_count": null,
   "id": "90698660",
   "metadata": {},
   "outputs": [],
   "source": []
  },
  {
   "cell_type": "markdown",
   "id": "50973259",
   "metadata": {},
   "source": [
    "##### h. \n",
    "\n",
    "A common step in neural network training is trying to identify when to stop training the model. This can be done by looking at the two plots you just made and looking for when the validation set performance leveled off.\n",
    "\n",
    "With that in mind, how many epochs would you choose?"
   ]
  },
  {
   "cell_type": "markdown",
   "id": "c1dc566a",
   "metadata": {},
   "source": [
    "##### Write here\n",
    "\n"
   ]
  },
  {
   "cell_type": "markdown",
   "id": "6a25e2d0",
   "metadata": {},
   "source": [
    "#### 5. Building more models\n",
    "\n",
    "Congratulations! You have successfully built a `keras` model. Feel free to use the remainder of this notebook to play around and build neural networks with different architectures. You may want to compare their performance to `model1`.\n",
    "\n",
    "You could also test out if using PCA to preprocess your data first would improve the neural networks performance."
   ]
  },
  {
   "cell_type": "code",
   "execution_count": null,
   "id": "a0183831",
   "metadata": {},
   "outputs": [],
   "source": [
    "## code here\n",
    "\n"
   ]
  },
  {
   "cell_type": "code",
   "execution_count": null,
   "id": "26b55584",
   "metadata": {},
   "outputs": [],
   "source": [
    "## code here\n",
    "\n"
   ]
  },
  {
   "cell_type": "code",
   "execution_count": null,
   "id": "0ce9d524",
   "metadata": {},
   "outputs": [],
   "source": [
    "## code here\n",
    "\n"
   ]
  },
  {
   "cell_type": "code",
   "execution_count": null,
   "id": "0516e5b0",
   "metadata": {},
   "outputs": [],
   "source": [
    "## code here\n",
    "\n"
   ]
  },
  {
   "cell_type": "code",
   "execution_count": null,
   "id": "1745af68",
   "metadata": {},
   "outputs": [],
   "source": [
    "## code here\n",
    "\n"
   ]
  },
  {
   "cell_type": "code",
   "execution_count": null,
   "id": "618186a6",
   "metadata": {},
   "outputs": [],
   "source": [
    "## code here\n",
    "\n"
   ]
  },
  {
   "cell_type": "code",
   "execution_count": null,
   "id": "3f03abd7",
   "metadata": {},
   "outputs": [],
   "source": [
    "## code here\n",
    "\n"
   ]
  },
  {
   "cell_type": "markdown",
   "id": "47afe5d1",
   "metadata": {},
   "source": [
    "--------------------------\n",
    "\n",
    "This notebook was written for the Erd&#337;s Institute C&#337;de Data Science Boot Camp by Matthew Osborne, Ph. D., 2023.\n",
    "\n",
    "Any potential redistributors must seek and receive permission from Matthew Tyler Osborne, Ph.D. prior to redistribution. Redistribution of the material contained in this repository is conditional on acknowledgement of Matthew Tyler Osborne, Ph.D.'s original authorship and sponsorship of the Erdős Institute as subject to the license (see License.md)"
   ]
  },
  {
   "cell_type": "code",
   "execution_count": null,
   "id": "bf12245a",
   "metadata": {},
   "outputs": [],
   "source": []
  }
 ],
 "metadata": {
  "kernelspec": {
   "display_name": "Python 3 (ipykernel)",
   "language": "python",
   "name": "python3"
  },
  "language_info": {
   "codemirror_mode": {
    "name": "ipython",
    "version": 3
   },
   "file_extension": ".py",
   "mimetype": "text/x-python",
   "name": "python",
   "nbconvert_exporter": "python",
   "pygments_lexer": "ipython3",
   "version": "3.9.16"
  }
 },
 "nbformat": 4,
 "nbformat_minor": 5
}
