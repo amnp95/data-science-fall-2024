{
 "cells": [
  {
   "cell_type": "markdown",
   "metadata": {},
   "source": [
    "# Lecture 8:  A bare bones overview of classification"
   ]
  },
  {
   "cell_type": "code",
   "execution_count": null,
   "metadata": {},
   "outputs": [],
   "source": [
    "import numpy as np\n",
    "import matplotlib.pyplot as plt"
   ]
  },
  {
   "cell_type": "code",
   "execution_count": null,
   "metadata": {},
   "outputs": [],
   "source": [
    "# Making some data with two features and one binary outcome.  Our goal is to predict the outcome.\n",
    "\n",
    "X0 = np.random.multivariate_normal([2,3], [[1,0],[0,1]], 100)\n",
    "X1 = np.random.multivariate_normal([4,1], [[2,1],[1,2]], 100)\n",
    "X = np.concatenate([X0,X1])\n",
    "y = np.concatenate([np.zeros(100),np.ones(100)])\n",
    "\n",
    "plt.scatter(X0[:,0],X0[:,1], label = 'Class 0')\n",
    "plt.scatter(X1[:,0],X1[:,1], label = 'Class 1')\n",
    "plt.legend()\n",
    "plt.show()"
   ]
  },
  {
   "cell_type": "code",
   "execution_count": null,
   "metadata": {},
   "outputs": [],
   "source": [
    "# Importing the tools we need.  We will use a training/validation/testing split for simplicity.\n",
    "# Only testing two models, no hyperparameter tuning.\n",
    "\n",
    "from sklearn.model_selection import \n",
    "from sklearn.neighbors import \n",
    "from sklearn.linear_model import "
   ]
  },
  {
   "cell_type": "code",
   "execution_count": null,
   "metadata": {},
   "outputs": [],
   "source": [
    "# Stratify with respect to y so train/test respects class distribution.\n",
    "X_train, X_test, y_train, y_test = train_test_split(X, y, test_size=0.2, stratify= , random_state=216)"
   ]
  },
  {
   "cell_type": "code",
   "execution_count": null,
   "metadata": {},
   "outputs": [],
   "source": [
    "X_tt, X_val, y_tt, y_val = train_test_split(X_train, y_train, test_size=0.2, stratify=y_train, random_state=216)"
   ]
  },
  {
   "cell_type": "code",
   "execution_count": null,
   "metadata": {},
   "outputs": [],
   "source": [
    "# Fitting the models.\n",
    "\n",
    "knn = KNeighborsClassifier(n_neighbors=5)\n",
    "knn.fit(X_tt, y_tt)\n",
    "\n",
    "log_reg = LogisticRegression(penalty=None)\n",
    "log_reg.fit(X_tt, y_tt)"
   ]
  },
  {
   "cell_type": "code",
   "execution_count": null,
   "metadata": {},
   "outputs": [],
   "source": [
    "from sklearn.metrics import accuracy_score, confusion_matrix"
   ]
  },
  {
   "cell_type": "code",
   "execution_count": null,
   "metadata": {},
   "outputs": [],
   "source": [
    "# Compare accuracy on the validation set.\n"
   ]
  },
  {
   "cell_type": "code",
   "execution_count": null,
   "metadata": {},
   "outputs": [],
   "source": [
    "# Look at confusion matrix of log_reg on validation data\n"
   ]
  },
  {
   "cell_type": "code",
   "execution_count": null,
   "metadata": {},
   "outputs": [],
   "source": [
    "# Training the best model on the entire training set.\n"
   ]
  },
  {
   "cell_type": "code",
   "execution_count": null,
   "metadata": {},
   "outputs": [],
   "source": [
    "# Final sanity check on the test data.\n"
   ]
  }
 ],
 "metadata": {
  "kernelspec": {
   "display_name": "erdos_may_2024_v2",
   "language": "python",
   "name": "python3"
  },
  "language_info": {
   "codemirror_mode": {
    "name": "ipython",
    "version": 3
   },
   "file_extension": ".py",
   "mimetype": "text/x-python",
   "name": "python",
   "nbconvert_exporter": "python",
   "pygments_lexer": "ipython3",
   "version": "3.11.9"
  }
 },
 "nbformat": 4,
 "nbformat_minor": 2
}
